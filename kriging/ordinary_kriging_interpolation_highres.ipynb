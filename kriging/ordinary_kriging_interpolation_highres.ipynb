{
  "nbformat": 4,
  "nbformat_minor": 0,
  "metadata": {
    "colab": {
      "provenance": [],
      "authorship_tag": "ABX9TyNxKVhYY0cJxWTWihBt84sg",
      "include_colab_link": true
    },
    "kernelspec": {
      "name": "python3",
      "display_name": "Python 3"
    },
    "language_info": {
      "name": "python"
    },
    "widgets": {
      "application/vnd.jupyter.widget-state+json": {
        "125a9950b9034f9ebd6763065de6eeae": {
          "model_module": "@jupyter-widgets/controls",
          "model_name": "VBoxModel",
          "model_module_version": "1.5.0",
          "state": {
            "_dom_classes": [
              "widget-interact"
            ],
            "_model_module": "@jupyter-widgets/controls",
            "_model_module_version": "1.5.0",
            "_model_name": "VBoxModel",
            "_view_count": null,
            "_view_module": "@jupyter-widgets/controls",
            "_view_module_version": "1.5.0",
            "_view_name": "VBoxView",
            "box_style": "",
            "children": [
              "IPY_MODEL_1fd7c294f4124c30a4d1b955a56f7ef1",
              "IPY_MODEL_1ea7ddc7c7b24624a22341e5bb4a5bbd",
              "IPY_MODEL_578f5c3cbdc3409cbf1c96b969bf1782",
              "IPY_MODEL_1628b42ca2ca41bc8d6b16d5ca8cc0a2"
            ],
            "layout": "IPY_MODEL_f95aeb559b3d487dbc2464b425cd5ddf"
          }
        },
        "1fd7c294f4124c30a4d1b955a56f7ef1": {
          "model_module": "@jupyter-widgets/controls",
          "model_name": "TextModel",
          "model_module_version": "1.5.0",
          "state": {
            "_dom_classes": [],
            "_model_module": "@jupyter-widgets/controls",
            "_model_module_version": "1.5.0",
            "_model_name": "TextModel",
            "_view_count": null,
            "_view_module": "@jupyter-widgets/controls",
            "_view_module_version": "1.5.0",
            "_view_name": "TextView",
            "continuous_update": true,
            "description": "Email",
            "description_tooltip": null,
            "disabled": false,
            "layout": "IPY_MODEL_4f0ec0f53fd4400ca74a1c5d1c46a31c",
            "placeholder": "Enter email",
            "style": "IPY_MODEL_bec4a05093d444dbbdb481e74d752ef9",
            "value": "luis061997@gmail.com"
          }
        },
        "1ea7ddc7c7b24624a22341e5bb4a5bbd": {
          "model_module": "@jupyter-widgets/controls",
          "model_name": "TextModel",
          "model_module_version": "1.5.0",
          "state": {
            "_dom_classes": [],
            "_model_module": "@jupyter-widgets/controls",
            "_model_module_version": "1.5.0",
            "_model_name": "TextModel",
            "_view_count": null,
            "_view_module": "@jupyter-widgets/controls",
            "_view_module_version": "1.5.0",
            "_view_name": "TextView",
            "continuous_update": true,
            "description": "Branch name",
            "description_tooltip": null,
            "disabled": false,
            "layout": "IPY_MODEL_4bc38d2ff0a944b6896bf8f7a36aee16",
            "placeholder": "Enter branch name",
            "style": "IPY_MODEL_6d12c69de57a47a0aa595082a15566b1",
            "value": "main"
          }
        },
        "578f5c3cbdc3409cbf1c96b969bf1782": {
          "model_module": "@jupyter-widgets/controls",
          "model_name": "ButtonModel",
          "model_module_version": "1.5.0",
          "state": {
            "_dom_classes": [],
            "_model_module": "@jupyter-widgets/controls",
            "_model_module_version": "1.5.0",
            "_model_name": "ButtonModel",
            "_view_count": null,
            "_view_module": "@jupyter-widgets/controls",
            "_view_module_version": "1.5.0",
            "_view_name": "ButtonView",
            "button_style": "",
            "description": "Checkout Code",
            "disabled": false,
            "icon": "",
            "layout": "IPY_MODEL_54a686c393f344379f49d40667d5f32b",
            "style": "IPY_MODEL_49721daf44304a71a7b0d0b925bffd33",
            "tooltip": ""
          }
        },
        "1628b42ca2ca41bc8d6b16d5ca8cc0a2": {
          "model_module": "@jupyter-widgets/output",
          "model_name": "OutputModel",
          "model_module_version": "1.0.0",
          "state": {
            "_dom_classes": [],
            "_model_module": "@jupyter-widgets/output",
            "_model_module_version": "1.0.0",
            "_model_name": "OutputModel",
            "_view_count": null,
            "_view_module": "@jupyter-widgets/output",
            "_view_module_version": "1.0.0",
            "_view_name": "OutputView",
            "layout": "IPY_MODEL_c5d6d007a7414357bc3e8f32c4763b8d",
            "msg_id": "",
            "outputs": [
              {
                "output_type": "stream",
                "name": "stdout",
                "text": [
                  "Mounted at /content/gdrive\n"
                ]
              },
              {
                "output_type": "stream",
                "name": "stdout",
                "text": [
                  "b\"fatal: destination path 'ddf_common' already exists and is not an empty directory.\\nRepository already exists.\\n\"\n"
                ]
              },
              {
                "output_type": "stream",
                "name": "stdout",
                "text": [
                  "b'error: Your local changes to the following files would be overwritten by merge:\\n\\tdataset.py\\n\\thypothesis.py\\nPlease commit your changes or stash them before you merge.\\nAborting\\nUpdating 171a27d..88afade\\n'\n",
                  "b''\n",
                  "main branch checked out at \"/content/gdrive/MyDrive/main/ddf_common\". You may now use ddf_common imports and change common files.\n"
                ]
              },
              {
                "output_type": "display_data",
                "data": {
                  "text/plain": "interactive(children=(Text(value='required', description='Commit Msg', placeholder='Enter commit message'), Bu…",
                  "application/vnd.jupyter.widget-view+json": {
                    "version_major": 2,
                    "version_minor": 0,
                    "model_id": "166081c888764bc5bd10f35a1215c043"
                  }
                },
                "metadata": {
                  "application/vnd.jupyter.widget-view+json": {
                    "colab": {
                      "custom_widget_manager": {
                        "url": "https://ssl.gstatic.com/colaboratory-static/widgets/colab-cdn-widget-manager/b3e629b1971e1542/manager.min.js"
                      }
                    }
                  }
                }
              }
            ]
          }
        },
        "f95aeb559b3d487dbc2464b425cd5ddf": {
          "model_module": "@jupyter-widgets/base",
          "model_name": "LayoutModel",
          "model_module_version": "1.2.0",
          "state": {
            "_model_module": "@jupyter-widgets/base",
            "_model_module_version": "1.2.0",
            "_model_name": "LayoutModel",
            "_view_count": null,
            "_view_module": "@jupyter-widgets/base",
            "_view_module_version": "1.2.0",
            "_view_name": "LayoutView",
            "align_content": null,
            "align_items": null,
            "align_self": null,
            "border": null,
            "bottom": null,
            "display": null,
            "flex": null,
            "flex_flow": null,
            "grid_area": null,
            "grid_auto_columns": null,
            "grid_auto_flow": null,
            "grid_auto_rows": null,
            "grid_column": null,
            "grid_gap": null,
            "grid_row": null,
            "grid_template_areas": null,
            "grid_template_columns": null,
            "grid_template_rows": null,
            "height": null,
            "justify_content": null,
            "justify_items": null,
            "left": null,
            "margin": null,
            "max_height": null,
            "max_width": null,
            "min_height": null,
            "min_width": null,
            "object_fit": null,
            "object_position": null,
            "order": null,
            "overflow": null,
            "overflow_x": null,
            "overflow_y": null,
            "padding": null,
            "right": null,
            "top": null,
            "visibility": null,
            "width": null
          }
        },
        "4f0ec0f53fd4400ca74a1c5d1c46a31c": {
          "model_module": "@jupyter-widgets/base",
          "model_name": "LayoutModel",
          "model_module_version": "1.2.0",
          "state": {
            "_model_module": "@jupyter-widgets/base",
            "_model_module_version": "1.2.0",
            "_model_name": "LayoutModel",
            "_view_count": null,
            "_view_module": "@jupyter-widgets/base",
            "_view_module_version": "1.2.0",
            "_view_name": "LayoutView",
            "align_content": null,
            "align_items": null,
            "align_self": null,
            "border": null,
            "bottom": null,
            "display": null,
            "flex": null,
            "flex_flow": null,
            "grid_area": null,
            "grid_auto_columns": null,
            "grid_auto_flow": null,
            "grid_auto_rows": null,
            "grid_column": null,
            "grid_gap": null,
            "grid_row": null,
            "grid_template_areas": null,
            "grid_template_columns": null,
            "grid_template_rows": null,
            "height": null,
            "justify_content": null,
            "justify_items": null,
            "left": null,
            "margin": null,
            "max_height": null,
            "max_width": null,
            "min_height": null,
            "min_width": null,
            "object_fit": null,
            "object_position": null,
            "order": null,
            "overflow": null,
            "overflow_x": null,
            "overflow_y": null,
            "padding": null,
            "right": null,
            "top": null,
            "visibility": null,
            "width": null
          }
        },
        "bec4a05093d444dbbdb481e74d752ef9": {
          "model_module": "@jupyter-widgets/controls",
          "model_name": "DescriptionStyleModel",
          "model_module_version": "1.5.0",
          "state": {
            "_model_module": "@jupyter-widgets/controls",
            "_model_module_version": "1.5.0",
            "_model_name": "DescriptionStyleModel",
            "_view_count": null,
            "_view_module": "@jupyter-widgets/base",
            "_view_module_version": "1.2.0",
            "_view_name": "StyleView",
            "description_width": ""
          }
        },
        "4bc38d2ff0a944b6896bf8f7a36aee16": {
          "model_module": "@jupyter-widgets/base",
          "model_name": "LayoutModel",
          "model_module_version": "1.2.0",
          "state": {
            "_model_module": "@jupyter-widgets/base",
            "_model_module_version": "1.2.0",
            "_model_name": "LayoutModel",
            "_view_count": null,
            "_view_module": "@jupyter-widgets/base",
            "_view_module_version": "1.2.0",
            "_view_name": "LayoutView",
            "align_content": null,
            "align_items": null,
            "align_self": null,
            "border": null,
            "bottom": null,
            "display": null,
            "flex": null,
            "flex_flow": null,
            "grid_area": null,
            "grid_auto_columns": null,
            "grid_auto_flow": null,
            "grid_auto_rows": null,
            "grid_column": null,
            "grid_gap": null,
            "grid_row": null,
            "grid_template_areas": null,
            "grid_template_columns": null,
            "grid_template_rows": null,
            "height": null,
            "justify_content": null,
            "justify_items": null,
            "left": null,
            "margin": null,
            "max_height": null,
            "max_width": null,
            "min_height": null,
            "min_width": null,
            "object_fit": null,
            "object_position": null,
            "order": null,
            "overflow": null,
            "overflow_x": null,
            "overflow_y": null,
            "padding": null,
            "right": null,
            "top": null,
            "visibility": null,
            "width": null
          }
        },
        "6d12c69de57a47a0aa595082a15566b1": {
          "model_module": "@jupyter-widgets/controls",
          "model_name": "DescriptionStyleModel",
          "model_module_version": "1.5.0",
          "state": {
            "_model_module": "@jupyter-widgets/controls",
            "_model_module_version": "1.5.0",
            "_model_name": "DescriptionStyleModel",
            "_view_count": null,
            "_view_module": "@jupyter-widgets/base",
            "_view_module_version": "1.2.0",
            "_view_name": "StyleView",
            "description_width": ""
          }
        },
        "54a686c393f344379f49d40667d5f32b": {
          "model_module": "@jupyter-widgets/base",
          "model_name": "LayoutModel",
          "model_module_version": "1.2.0",
          "state": {
            "_model_module": "@jupyter-widgets/base",
            "_model_module_version": "1.2.0",
            "_model_name": "LayoutModel",
            "_view_count": null,
            "_view_module": "@jupyter-widgets/base",
            "_view_module_version": "1.2.0",
            "_view_name": "LayoutView",
            "align_content": null,
            "align_items": null,
            "align_self": null,
            "border": null,
            "bottom": null,
            "display": null,
            "flex": null,
            "flex_flow": null,
            "grid_area": null,
            "grid_auto_columns": null,
            "grid_auto_flow": null,
            "grid_auto_rows": null,
            "grid_column": null,
            "grid_gap": null,
            "grid_row": null,
            "grid_template_areas": null,
            "grid_template_columns": null,
            "grid_template_rows": null,
            "height": null,
            "justify_content": null,
            "justify_items": null,
            "left": null,
            "margin": null,
            "max_height": null,
            "max_width": null,
            "min_height": null,
            "min_width": null,
            "object_fit": null,
            "object_position": null,
            "order": null,
            "overflow": null,
            "overflow_x": null,
            "overflow_y": null,
            "padding": null,
            "right": null,
            "top": null,
            "visibility": null,
            "width": null
          }
        },
        "49721daf44304a71a7b0d0b925bffd33": {
          "model_module": "@jupyter-widgets/controls",
          "model_name": "ButtonStyleModel",
          "model_module_version": "1.5.0",
          "state": {
            "_model_module": "@jupyter-widgets/controls",
            "_model_module_version": "1.5.0",
            "_model_name": "ButtonStyleModel",
            "_view_count": null,
            "_view_module": "@jupyter-widgets/base",
            "_view_module_version": "1.2.0",
            "_view_name": "StyleView",
            "button_color": null,
            "font_weight": ""
          }
        },
        "c5d6d007a7414357bc3e8f32c4763b8d": {
          "model_module": "@jupyter-widgets/base",
          "model_name": "LayoutModel",
          "model_module_version": "1.2.0",
          "state": {
            "_model_module": "@jupyter-widgets/base",
            "_model_module_version": "1.2.0",
            "_model_name": "LayoutModel",
            "_view_count": null,
            "_view_module": "@jupyter-widgets/base",
            "_view_module_version": "1.2.0",
            "_view_name": "LayoutView",
            "align_content": null,
            "align_items": null,
            "align_self": null,
            "border": null,
            "bottom": null,
            "display": null,
            "flex": null,
            "flex_flow": null,
            "grid_area": null,
            "grid_auto_columns": null,
            "grid_auto_flow": null,
            "grid_auto_rows": null,
            "grid_column": null,
            "grid_gap": null,
            "grid_row": null,
            "grid_template_areas": null,
            "grid_template_columns": null,
            "grid_template_rows": null,
            "height": null,
            "justify_content": null,
            "justify_items": null,
            "left": null,
            "margin": null,
            "max_height": null,
            "max_width": null,
            "min_height": null,
            "min_width": null,
            "object_fit": null,
            "object_position": null,
            "order": null,
            "overflow": null,
            "overflow_x": null,
            "overflow_y": null,
            "padding": null,
            "right": null,
            "top": null,
            "visibility": null,
            "width": null
          }
        },
        "3335b627ffc242f69e117f6f2bd1b13e": {
          "model_module": "@jupyter-widgets/base",
          "model_name": "LayoutModel",
          "model_module_version": "1.2.0",
          "state": {
            "_model_module": "@jupyter-widgets/base",
            "_model_module_version": "1.2.0",
            "_model_name": "LayoutModel",
            "_view_count": null,
            "_view_module": "@jupyter-widgets/base",
            "_view_module_version": "1.2.0",
            "_view_name": "LayoutView",
            "align_content": null,
            "align_items": null,
            "align_self": null,
            "border": null,
            "bottom": null,
            "display": null,
            "flex": null,
            "flex_flow": null,
            "grid_area": null,
            "grid_auto_columns": null,
            "grid_auto_flow": null,
            "grid_auto_rows": null,
            "grid_column": null,
            "grid_gap": null,
            "grid_row": null,
            "grid_template_areas": null,
            "grid_template_columns": null,
            "grid_template_rows": null,
            "height": null,
            "justify_content": null,
            "justify_items": null,
            "left": null,
            "margin": null,
            "max_height": null,
            "max_width": null,
            "min_height": null,
            "min_width": null,
            "object_fit": null,
            "object_position": null,
            "order": null,
            "overflow": null,
            "overflow_x": null,
            "overflow_y": null,
            "padding": null,
            "right": null,
            "top": null,
            "visibility": null,
            "width": null
          }
        },
        "1f0e3ef79e254ff99eeb08260b5ddde5": {
          "model_module": "@jupyter-widgets/controls",
          "model_name": "DescriptionStyleModel",
          "model_module_version": "1.5.0",
          "state": {
            "_model_module": "@jupyter-widgets/controls",
            "_model_module_version": "1.5.0",
            "_model_name": "DescriptionStyleModel",
            "_view_count": null,
            "_view_module": "@jupyter-widgets/base",
            "_view_module_version": "1.2.0",
            "_view_name": "StyleView",
            "description_width": ""
          }
        },
        "e5bef227189a454ab2a1d44c4d228724": {
          "model_module": "@jupyter-widgets/base",
          "model_name": "LayoutModel",
          "model_module_version": "1.2.0",
          "state": {
            "_model_module": "@jupyter-widgets/base",
            "_model_module_version": "1.2.0",
            "_model_name": "LayoutModel",
            "_view_count": null,
            "_view_module": "@jupyter-widgets/base",
            "_view_module_version": "1.2.0",
            "_view_name": "LayoutView",
            "align_content": null,
            "align_items": null,
            "align_self": null,
            "border": null,
            "bottom": null,
            "display": null,
            "flex": null,
            "flex_flow": null,
            "grid_area": null,
            "grid_auto_columns": null,
            "grid_auto_flow": null,
            "grid_auto_rows": null,
            "grid_column": null,
            "grid_gap": null,
            "grid_row": null,
            "grid_template_areas": null,
            "grid_template_columns": null,
            "grid_template_rows": null,
            "height": null,
            "justify_content": null,
            "justify_items": null,
            "left": null,
            "margin": null,
            "max_height": null,
            "max_width": null,
            "min_height": null,
            "min_width": null,
            "object_fit": null,
            "object_position": null,
            "order": null,
            "overflow": null,
            "overflow_x": null,
            "overflow_y": null,
            "padding": null,
            "right": null,
            "top": null,
            "visibility": null,
            "width": null
          }
        },
        "418fa6f154054c5097c375053f2fb9e4": {
          "model_module": "@jupyter-widgets/base",
          "model_name": "LayoutModel",
          "model_module_version": "1.2.0",
          "state": {
            "_model_module": "@jupyter-widgets/base",
            "_model_module_version": "1.2.0",
            "_model_name": "LayoutModel",
            "_view_count": null,
            "_view_module": "@jupyter-widgets/base",
            "_view_module_version": "1.2.0",
            "_view_name": "LayoutView",
            "align_content": null,
            "align_items": null,
            "align_self": null,
            "border": null,
            "bottom": null,
            "display": null,
            "flex": null,
            "flex_flow": null,
            "grid_area": null,
            "grid_auto_columns": null,
            "grid_auto_flow": null,
            "grid_auto_rows": null,
            "grid_column": null,
            "grid_gap": null,
            "grid_row": null,
            "grid_template_areas": null,
            "grid_template_columns": null,
            "grid_template_rows": null,
            "height": null,
            "justify_content": null,
            "justify_items": null,
            "left": null,
            "margin": null,
            "max_height": null,
            "max_width": null,
            "min_height": null,
            "min_width": null,
            "object_fit": null,
            "object_position": null,
            "order": null,
            "overflow": null,
            "overflow_x": null,
            "overflow_y": null,
            "padding": null,
            "right": null,
            "top": null,
            "visibility": null,
            "width": null
          }
        },
        "e0b7d119959046ed8590927403976a4b": {
          "model_module": "@jupyter-widgets/controls",
          "model_name": "ButtonStyleModel",
          "model_module_version": "1.5.0",
          "state": {
            "_model_module": "@jupyter-widgets/controls",
            "_model_module_version": "1.5.0",
            "_model_name": "ButtonStyleModel",
            "_view_count": null,
            "_view_module": "@jupyter-widgets/base",
            "_view_module_version": "1.2.0",
            "_view_name": "StyleView",
            "button_color": null,
            "font_weight": ""
          }
        },
        "dc9ed47049af440fbedee8aac1cd97be": {
          "model_module": "@jupyter-widgets/base",
          "model_name": "LayoutModel",
          "model_module_version": "1.2.0",
          "state": {
            "_model_module": "@jupyter-widgets/base",
            "_model_module_version": "1.2.0",
            "_model_name": "LayoutModel",
            "_view_count": null,
            "_view_module": "@jupyter-widgets/base",
            "_view_module_version": "1.2.0",
            "_view_name": "LayoutView",
            "align_content": null,
            "align_items": null,
            "align_self": null,
            "border": null,
            "bottom": null,
            "display": null,
            "flex": null,
            "flex_flow": null,
            "grid_area": null,
            "grid_auto_columns": null,
            "grid_auto_flow": null,
            "grid_auto_rows": null,
            "grid_column": null,
            "grid_gap": null,
            "grid_row": null,
            "grid_template_areas": null,
            "grid_template_columns": null,
            "grid_template_rows": null,
            "height": null,
            "justify_content": null,
            "justify_items": null,
            "left": null,
            "margin": null,
            "max_height": null,
            "max_width": null,
            "min_height": null,
            "min_width": null,
            "object_fit": null,
            "object_position": null,
            "order": null,
            "overflow": null,
            "overflow_x": null,
            "overflow_y": null,
            "padding": null,
            "right": null,
            "top": null,
            "visibility": null,
            "width": null
          }
        },
        "166081c888764bc5bd10f35a1215c043": {
          "model_module": "@jupyter-widgets/controls",
          "model_name": "VBoxModel",
          "model_module_version": "1.5.0",
          "state": {
            "_dom_classes": [
              "widget-interact"
            ],
            "_model_module": "@jupyter-widgets/controls",
            "_model_module_version": "1.5.0",
            "_model_name": "VBoxModel",
            "_view_count": null,
            "_view_module": "@jupyter-widgets/controls",
            "_view_module_version": "1.5.0",
            "_view_name": "VBoxView",
            "box_style": "",
            "children": [
              "IPY_MODEL_c934572896024a37be62f32cf521d784",
              "IPY_MODEL_3b113ba936534894a0312f0d909d2cbc",
              "IPY_MODEL_0cf5238d1e784ce38266b6011d88510f"
            ],
            "layout": "IPY_MODEL_e5bef227189a454ab2a1d44c4d228724"
          }
        },
        "c934572896024a37be62f32cf521d784": {
          "model_module": "@jupyter-widgets/controls",
          "model_name": "TextModel",
          "model_module_version": "1.5.0",
          "state": {
            "_dom_classes": [],
            "_model_module": "@jupyter-widgets/controls",
            "_model_module_version": "1.5.0",
            "_model_name": "TextModel",
            "_view_count": null,
            "_view_module": "@jupyter-widgets/controls",
            "_view_module_version": "1.5.0",
            "_view_name": "TextView",
            "continuous_update": true,
            "description": "Commit Msg",
            "description_tooltip": null,
            "disabled": false,
            "layout": "IPY_MODEL_3335b627ffc242f69e117f6f2bd1b13e",
            "placeholder": "Enter commit message",
            "style": "IPY_MODEL_1f0e3ef79e254ff99eeb08260b5ddde5",
            "value": "required"
          }
        },
        "3b113ba936534894a0312f0d909d2cbc": {
          "model_module": "@jupyter-widgets/controls",
          "model_name": "ButtonModel",
          "model_module_version": "1.5.0",
          "state": {
            "_dom_classes": [],
            "_model_module": "@jupyter-widgets/controls",
            "_model_module_version": "1.5.0",
            "_model_name": "ButtonModel",
            "_view_count": null,
            "_view_module": "@jupyter-widgets/controls",
            "_view_module_version": "1.5.0",
            "_view_name": "ButtonView",
            "button_style": "",
            "description": "Commit All Changes",
            "disabled": false,
            "icon": "",
            "layout": "IPY_MODEL_418fa6f154054c5097c375053f2fb9e4",
            "style": "IPY_MODEL_e0b7d119959046ed8590927403976a4b",
            "tooltip": ""
          }
        },
        "0cf5238d1e784ce38266b6011d88510f": {
          "model_module": "@jupyter-widgets/output",
          "model_name": "OutputModel",
          "model_module_version": "1.0.0",
          "state": {
            "_dom_classes": [],
            "_model_module": "@jupyter-widgets/output",
            "_model_module_version": "1.0.0",
            "_model_name": "OutputModel",
            "_view_count": null,
            "_view_module": "@jupyter-widgets/output",
            "_view_module_version": "1.0.0",
            "_view_name": "OutputView",
            "layout": "IPY_MODEL_dc9ed47049af440fbedee8aac1cd97be",
            "msg_id": "",
            "outputs": []
          }
        }
      }
    }
  },
  "cells": [
    {
      "cell_type": "markdown",
      "metadata": {
        "id": "view-in-github",
        "colab_type": "text"
      },
      "source": [
        "<a href=\"https://colab.research.google.com/github/tnc-br/ddf-isoscapes/blob/validation_pipeline_precision_graph/kriging/ordinary_kriging_interpolation_highres.ipynb\" target=\"_parent\"><img src=\"https://colab.research.google.com/assets/colab-badge.svg\" alt=\"Open In Colab\"/></a>"
      ]
    },
    {
      "cell_type": "code",
      "execution_count": 1,
      "metadata": {
        "id": "RaZDahrojjPQ",
        "colab": {
          "base_uri": "https://localhost:8080/"
        },
        "outputId": "f756bf07-e72d-4767-f206-611fa16ad1bf"
      },
      "outputs": [
        {
          "output_type": "stream",
          "name": "stdout",
          "text": [
            "\u001b[2K     \u001b[90m━━━━━━━━━━━━━━━━━━━━━━━━━━━━━━━━━━━━━━━━\u001b[0m \u001b[32m2.2/2.2 MB\u001b[0m \u001b[31m11.0 MB/s\u001b[0m eta \u001b[36m0:00:00\u001b[0m\n",
            "\u001b[2K     \u001b[90m━━━━━━━━━━━━━━━━━━━━━━━━━━━━━━━━━━━━━━━━\u001b[0m \u001b[32m1.0/1.0 MB\u001b[0m \u001b[31m11.1 MB/s\u001b[0m eta \u001b[36m0:00:00\u001b[0m\n",
            "\u001b[2K     \u001b[90m━━━━━━━━━━━━━━━━━━━━━━━━━━━━━━━━━━━━━━━━\u001b[0m \u001b[32m21.3/21.3 MB\u001b[0m \u001b[31m35.2 MB/s\u001b[0m eta \u001b[36m0:00:00\u001b[0m\n",
            "\u001b[2K     \u001b[90m━━━━━━━━━━━━━━━━━━━━━━━━━━━━━━━━━━━━━━━━\u001b[0m \u001b[32m1.2/1.2 MB\u001b[0m \u001b[31m34.0 MB/s\u001b[0m eta \u001b[36m0:00:00\u001b[0m\n",
            "\u001b[2K     \u001b[90m━━━━━━━━━━━━━━━━━━━━━━━━━━━━━━━━━━━━━━━━\u001b[0m \u001b[32m98.6/98.6 kB\u001b[0m \u001b[31m7.4 MB/s\u001b[0m eta \u001b[36m0:00:00\u001b[0m\n",
            "\u001b[2K     \u001b[90m━━━━━━━━━━━━━━━━━━━━━━━━━━━━━━━━━━━━━━━\u001b[0m \u001b[32m130.5/130.5 kB\u001b[0m \u001b[31m6.3 MB/s\u001b[0m eta \u001b[36m0:00:00\u001b[0m\n",
            "\u001b[2K     \u001b[90m━━━━━━━━━━━━━━━━━━━━━━━━━━━━━━━━━━━━━━━━\u001b[0m \u001b[32m3.4/3.4 MB\u001b[0m \u001b[31m31.2 MB/s\u001b[0m eta \u001b[36m0:00:00\u001b[0m\n",
            "\u001b[2K     \u001b[90m━━━━━━━━━━━━━━━━━━━━━━━━━━━━━━━━━━━━━━━━\u001b[0m \u001b[32m1.3/1.3 MB\u001b[0m \u001b[31m9.4 MB/s\u001b[0m eta \u001b[36m0:00:00\u001b[0m\n",
            "\u001b[?25h  Preparing metadata (setup.py) ... \u001b[?25l\u001b[?25hdone\n",
            "\u001b[2K     \u001b[90m━━━━━━━━━━━━━━━━━━━━━━━━━━━━━━━━━━━━━━━━\u001b[0m \u001b[32m46.5/46.5 kB\u001b[0m \u001b[31m1.7 MB/s\u001b[0m eta \u001b[36m0:00:00\u001b[0m\n",
            "\u001b[2K     \u001b[90m━━━━━━━━━━━━━━━━━━━━━━━━━━━━━━━━━━━━━━━━\u001b[0m \u001b[32m3.2/3.2 MB\u001b[0m \u001b[31m26.2 MB/s\u001b[0m eta \u001b[36m0:00:00\u001b[0m\n",
            "\u001b[2K     \u001b[90m━━━━━━━━━━━━━━━━━━━━━━━━━━━━━━━━━━━━━━\u001b[0m \u001b[32m928.1/928.1 kB\u001b[0m \u001b[31m14.0 MB/s\u001b[0m eta \u001b[36m0:00:00\u001b[0m\n",
            "\u001b[2K     \u001b[90m━━━━━━━━━━━━━━━━━━━━━━━━━━━━━━━━━━━━━━━━\u001b[0m \u001b[32m2.0/2.0 MB\u001b[0m \u001b[31m23.7 MB/s\u001b[0m eta \u001b[36m0:00:00\u001b[0m\n",
            "\u001b[2K     \u001b[90m━━━━━━━━━━━━━━━━━━━━━━━━━━━━━━━━━━━━━━━━\u001b[0m \u001b[32m1.6/1.6 MB\u001b[0m \u001b[31m28.5 MB/s\u001b[0m eta \u001b[36m0:00:00\u001b[0m\n",
            "\u001b[?25h  Building wheel for pyperclip (setup.py) ... \u001b[?25l\u001b[?25hdone\n"
          ]
        }
      ],
      "source": [
        "!pip install earthengine-api geemap geopandas geobr rtree pyproj rasterio contextily descartes -q"
      ]
    },
    {
      "cell_type": "code",
      "source": [
        "!pip install pykrige -q"
      ],
      "metadata": {
        "id": "cIScFpCnubZa",
        "colab": {
          "base_uri": "https://localhost:8080/"
        },
        "outputId": "83b53699-e22e-47f3-81d5-29f324468676"
      },
      "execution_count": 2,
      "outputs": [
        {
          "output_type": "stream",
          "name": "stdout",
          "text": [
            "\u001b[?25l     \u001b[90m━━━━━━━━━━━━━━━━━━━━━━━━━━━━━━━━━━━━━━━━\u001b[0m \u001b[32m0.0/852.6 kB\u001b[0m \u001b[31m?\u001b[0m eta \u001b[36m-:--:--\u001b[0m\r\u001b[2K     \u001b[91m━━━━━━━━\u001b[0m\u001b[91m╸\u001b[0m\u001b[90m━━━━━━━━━━━━━━━━━━━━━━━━━━━━━━\u001b[0m \u001b[32m194.6/852.6 kB\u001b[0m \u001b[31m5.5 MB/s\u001b[0m eta \u001b[36m0:00:01\u001b[0m\r\u001b[2K     \u001b[91m━━━━━━━━━━━━━━━━━━━━━━━━━━━━━━━━━\u001b[0m\u001b[90m╺\u001b[0m\u001b[90m━━━━\u001b[0m \u001b[32m747.5/852.6 kB\u001b[0m \u001b[31m10.7 MB/s\u001b[0m eta \u001b[36m0:00:01\u001b[0m\r\u001b[2K     \u001b[90m━━━━━━━━━━━━━━━━━━━━━━━━━━━━━━━━━━━━━━━\u001b[0m \u001b[32m852.6/852.6 kB\u001b[0m \u001b[31m9.4 MB/s\u001b[0m eta \u001b[36m0:00:00\u001b[0m\n",
            "\u001b[?25h"
          ]
        }
      ]
    },
    {
      "cell_type": "code",
      "source": [
        "## Import packages\n",
        "import rasterio as rio\n",
        "import rasterio.mask\n",
        "from rasterio.plot import show\n",
        "from rasterio.transform import Affine\n",
        "import contextily as cx\n",
        "import pandas as pd\n",
        "import geopandas as gpd\n",
        "import matplotlib.pyplot as plt\n",
        "import numpy as np\n",
        "import geemap\n",
        "import json\n",
        "import seaborn as sns\n",
        "from shapely.geometry import Point\n",
        "import pykrige.kriging_tools as kt\n",
        "from pykrige.ok import OrdinaryKriging\n",
        "import os"
      ],
      "metadata": {
        "id": "Ff9kNIMWjrON"
      },
      "execution_count": 3,
      "outputs": []
    },
    {
      "cell_type": "code",
      "source": [
        "import sys\n",
        "!if [ ! -d \"/content/ddf_common_stub\" ] ; then git clone -b test https://github.com/tnc-br/ddf_common_stub.git; fi\n",
        "sys.path.append(\"/content/ddf_common_stub/\")\n",
        "\n",
        "import ddfimport\n",
        "\n",
        "ddfimport.ddf_source_control_pane()\n",
        "# ddfimport.ddf_import_common()"
      ],
      "metadata": {
        "colab": {
          "base_uri": "https://localhost:8080/",
          "height": 421,
          "referenced_widgets": [
            "125a9950b9034f9ebd6763065de6eeae",
            "1fd7c294f4124c30a4d1b955a56f7ef1",
            "1ea7ddc7c7b24624a22341e5bb4a5bbd",
            "578f5c3cbdc3409cbf1c96b969bf1782",
            "1628b42ca2ca41bc8d6b16d5ca8cc0a2",
            "f95aeb559b3d487dbc2464b425cd5ddf",
            "4f0ec0f53fd4400ca74a1c5d1c46a31c",
            "bec4a05093d444dbbdb481e74d752ef9",
            "4bc38d2ff0a944b6896bf8f7a36aee16",
            "6d12c69de57a47a0aa595082a15566b1",
            "54a686c393f344379f49d40667d5f32b",
            "49721daf44304a71a7b0d0b925bffd33",
            "c5d6d007a7414357bc3e8f32c4763b8d",
            "3335b627ffc242f69e117f6f2bd1b13e",
            "1f0e3ef79e254ff99eeb08260b5ddde5",
            "e5bef227189a454ab2a1d44c4d228724",
            "418fa6f154054c5097c375053f2fb9e4",
            "e0b7d119959046ed8590927403976a4b",
            "dc9ed47049af440fbedee8aac1cd97be",
            "166081c888764bc5bd10f35a1215c043",
            "c934572896024a37be62f32cf521d784",
            "3b113ba936534894a0312f0d909d2cbc",
            "0cf5238d1e784ce38266b6011d88510f"
          ]
        },
        "id": "y15ijUt5sdYs",
        "outputId": "04caef12-b4e8-4fda-f000-b41bc8910254"
      },
      "execution_count": 4,
      "outputs": [
        {
          "output_type": "stream",
          "name": "stdout",
          "text": [
            "Cloning into 'ddf_common_stub'...\n",
            "remote: Enumerating objects: 11, done.\u001b[K\n",
            "remote: Counting objects: 100% (11/11), done.\u001b[K\n",
            "remote: Compressing objects: 100% (11/11), done.\u001b[K\n",
            "remote: Total 11 (delta 4), reused 0 (delta 0), pack-reused 0\u001b[K\n",
            "Receiving objects: 100% (11/11), 5.50 KiB | 5.50 MiB/s, done.\n",
            "Resolving deltas: 100% (4/4), done.\n"
          ]
        },
        {
          "output_type": "display_data",
          "data": {
            "text/plain": [
              "interactive(children=(Text(value='', description='Email', placeholder='Enter email'), Text(value='', descripti…"
            ],
            "application/vnd.jupyter.widget-view+json": {
              "version_major": 2,
              "version_minor": 0,
              "model_id": "125a9950b9034f9ebd6763065de6eeae"
            }
          },
          "metadata": {
            "application/vnd.jupyter.widget-view+json": {
              "colab": {
                "custom_widget_manager": {
                  "url": "https://ssl.gstatic.com/colaboratory-static/widgets/colab-cdn-widget-manager/b3e629b1971e1542/manager.min.js"
                }
              }
            }
          }
        }
      ]
    },
    {
      "cell_type": "code",
      "source": [
        "import importlib\n",
        "import raster\n",
        "importlib.reload(raster)"
      ],
      "metadata": {
        "id": "277s246R8v6S",
        "colab": {
          "base_uri": "https://localhost:8080/"
        },
        "outputId": "64d019d9-6bc9-456f-e48b-0df852fc855c"
      },
      "execution_count": 5,
      "outputs": [
        {
          "output_type": "execute_result",
          "data": {
            "text/plain": [
              "<module 'raster' from '/content/gdrive/MyDrive/main/ddf_common/raster.py'>"
            ]
          },
          "metadata": {},
          "execution_count": 5
        }
      ]
    },
    {
      "cell_type": "code",
      "source": [
        "# Required to both import raster and read GDrive files\n",
        "raster.RASTER_BASE = \"/MyDrive/amazon_rainforest_files/amazon_rasters/\" #@param\n",
        "raster.SAMPLE_DATA_BASE = \"/MyDrive/amazon_rainforest_files/amazon_sample_data/\" #@param\n",
        "raster.TEST_DATA_BASE = \"/MyDrive/amazon_rainforest_files/amazon_test_data/\" #@param\n",
        "raster.ANIMATIONS_BASE = \"/MyDrive/amazon_rainforest_files/amazon_animations/\" #@param\n",
        "raster.GDRIVE_BASE = \"/content/gdrive\" #@param"
      ],
      "metadata": {
        "id": "YIbO9KZL7jzJ"
      },
      "execution_count": 6,
      "outputs": []
    },
    {
      "cell_type": "code",
      "source": [
        "DEBUG = True #@param {type:\"boolean\"}\n",
        "PROJECT_BASE = os.path.join(raster.GDRIVE_BASE, \"MyDrive/amazon_rainforest_files\")\n",
        "# From PROJECT_BASE root\n",
        "DATASET_PATH = \"canonical/uc_davis_train_fixed_grouped.csv\" #@param\n",
        "DATASET_PATH_2 = \"canonical/uc_davis_validation_fixed_grouped.csv\" #@param\n",
        "# From PROJECT_BASE root\n",
        "BIOME_PATH = \"christian_files/BR_UF_2021.shp\" #@param\n",
        "# From PROJECT_BASE root\n",
        "OUTPUT_MEANS_ISOSCAPE_PATH = \"amazon_rasters/canonical/highres_overall_means.tiff\" #@param\n",
        "OUTPUT_VARS_ISOSCAPE_PATH = \"amazon_rasters/canonical/highres_overall_vars.tiff\" #@param\n",
        "ISOTOPE_COLUMN_NAME = \"d18O_cel_mean\" #@param\n",
        "VARIOGRAM_MODEL = \"linear\" #@param"
      ],
      "metadata": {
        "id": "eD7g_1plr8Fv"
      },
      "execution_count": 26,
      "outputs": []
    },
    {
      "cell_type": "code",
      "source": [
        "# Access data stored on Google Drive\n",
        "if raster.GDRIVE_BASE:\n",
        "    raster.mount_gdrive()"
      ],
      "metadata": {
        "id": "fLoYftYc23JC"
      },
      "execution_count": 9,
      "outputs": []
    },
    {
      "cell_type": "code",
      "source": [
        "if DEBUG:\n",
        "    %pip install -Uqq ipdb\n",
        "    import ipdb\n",
        "    %pdb on"
      ],
      "metadata": {
        "id": "2YAYWOaBJp81"
      },
      "execution_count": null,
      "outputs": []
    },
    {
      "cell_type": "code",
      "source": [
        "# Load coordinates and values from dataset path.\n",
        "df = pd.concat([pd.read_csv(raster.get_sample_db_path(DATASET_PATH)).dropna(subset=['lat', 'long', ISOTOPE_COLUMN_NAME]),\n",
        "                pd.read_csv(raster.get_sample_db_path(DATASET_PATH_2)).dropna(subset=['lat', 'long', ISOTOPE_COLUMN_NAME])], ignore_index=True)\n",
        "long = df['long'].values\n",
        "lat = df['lat'].values\n",
        "isotope_values = df[ISOTOPE_COLUMN_NAME].values"
      ],
      "metadata": {
        "id": "zuw47FvLI_p7"
      },
      "execution_count": 28,
      "outputs": []
    },
    {
      "cell_type": "code",
      "source": [
        "def get_kriging_means_variances(\n",
        "    bounds: raster.Bounds,\n",
        "    long: list,\n",
        "    lat: list,\n",
        "    isotope_values: list,\n",
        "    variogram_model: str = \"linear\"\n",
        "):\n",
        "  '''\n",
        "  Gets the means and variances of an Ordinary Kriging model fit to the provided\n",
        "  long, lat and isotope_values predicted on the coordinates within the bounds\n",
        "  provided using the type of variogram_model specified.\n",
        "  '''\n",
        "\n",
        "  ok = OrdinaryKriging(\n",
        "      long,\n",
        "      lat,\n",
        "      isotope_values,\n",
        "      variogram_model=variogram_model,\n",
        "      verbose=False,\n",
        "      enable_plotting=True,\n",
        "      enable_statistics=True,\n",
        "      coordinates_type='geographic',\n",
        "      pseudo_inv=True # this leads to more numerical stability and redundant\n",
        "                      # points are averaged. This prevents singular matrix\n",
        "                      # errors which happens frequently with variance isoscape\n",
        "                      # in this method.\n",
        "  )\n",
        "\n",
        "  min_long, max_long, min_lat, max_lat = bounds.to_matplotlib()\n",
        "\n",
        "  isoscape_long_values =  np.linspace(min_long, max_long, bounds.raster_size_x)\n",
        "  isoscape_lat_values = np.linspace(min_lat, max_lat, bounds.raster_size_y)\n",
        "  # Predict the isotope values on the range of lattitude and longitude values\n",
        "  # within the bounds.\n",
        "  means, variances  = ok.execute(\"grid\", isoscape_long_values,\n",
        "                                 isoscape_lat_values)\n",
        "  ok.print_statistics()\n",
        "\n",
        "  # Execute takes N longitude values and M latittude values and returns a\n",
        "  # (M, N) matrix. Transpose to get (N, M) matrix so x and y are still longitude\n",
        "  # and latitude respectively.\n",
        "  return means.T, variances.T"
      ],
      "metadata": {
        "id": "u9-Ga8NM-duR"
      },
      "execution_count": 12,
      "outputs": []
    },
    {
      "cell_type": "code",
      "source": [
        "def display_isoscape(means_filename, vars_filename, gdf_biome):\n",
        "  '''\n",
        "  Given a filename to a RasterIO file containing an isoscape raster,\n",
        "  display the isoscape masked by the gdf_biome geometry.\n",
        "  '''\n",
        "  # Mean Isotope Isoscape Band Image\n",
        "  means_raster = rasterio.open(means_filename)\n",
        "  means_image, means_transform = rio.mask.mask(means_raster, gdf_biome.geometry.values, crop = True)\n",
        "\n",
        "  fig, (ax1, ax2) = plt.subplots(1, 2, figsize = (20, 20))\n",
        "  means_raster_images = show(means_image, ax = ax1, transform = means_transform, cmap = \"RdYlGn\")\n",
        "  means_raster_image = means_raster_images.get_images()[0]\n",
        "  fig.colorbar(means_raster_image, ax=ax1, shrink=0.3)\n",
        "\n",
        "  ax1.set_title(\"Mean Isotope Isoscape Band\")\n",
        "\n",
        "  # Variance Isotope Isoscape Band Image\n",
        "  vars_raster = rasterio.open(vars_filename)\n",
        "  vars_image, vars_transform = rio.mask.mask(vars_raster, gdf_biome.geometry.values, crop = True)\n",
        "\n",
        "  vars_raster_images = show(vars_image, ax = ax2, transform = vars_transform, cmap = \"RdYlGn\")\n",
        "  vars_raster_image = vars_raster_images.get_images()[0]\n",
        "  fig.colorbar(vars_raster_image, ax=ax2, shrink=0.3)\n",
        "\n",
        "  ax2.set_title(\"Variance Isotope Isoscape Band\")\n",
        "  plt.show()"
      ],
      "metadata": {
        "id": "ipGXn_xN2Oin"
      },
      "execution_count": 13,
      "outputs": []
    },
    {
      "cell_type": "code",
      "source": [
        "# TODO: Use standard raster dimensions and resolution.\n",
        "atmosphere_isoscape_geotiff = raster.load_raster(raster.get_raster_path(\"variational_kriging_random_ablated_no_val_2023_08_03_means.tiff\"))\n",
        "bounds =  raster.get_extent(atmosphere_isoscape_geotiff.gdal_dataset)"
      ],
      "metadata": {
        "colab": {
          "base_uri": "https://localhost:8080/"
        },
        "id": "LleG8sZhD8BQ",
        "outputId": "c6dff2de-975d-4d4b-d2e7-be317c31de4e"
      },
      "execution_count": 14,
      "outputs": [
        {
          "output_type": "stream",
          "name": "stdout",
          "text": [
            "Driver: GTiff/GeoTIFF\n",
            "Size is 942 x 936 x 1\n",
            "Projection is GEOGCS[\"WGS 84\",DATUM[\"WGS_1984\",SPHEROID[\"WGS 84\",6378137,298.257223563,AUTHORITY[\"EPSG\",\"7030\"]],AUTHORITY[\"EPSG\",\"6326\"]],PRIMEM[\"Greenwich\",0],UNIT[\"degree\",0.0174532925199433,AUTHORITY[\"EPSG\",\"9122\"]],AXIS[\"Latitude\",NORTH],AXIS[\"Longitude\",EAST],AUTHORITY[\"EPSG\",\"4326\"]]\n",
            "Origin = (-74.0, 5.25)\n",
            "Pixel Size = (0.041666666666666664, -0.041666666666666664)\n"
          ]
        }
      ]
    },
    {
      "cell_type": "code",
      "source": [
        "means, variances = get_kriging_means_variances(bounds, long, lat, isotope_values, variogram_model=VARIOGRAM_MODEL)"
      ],
      "metadata": {
        "colab": {
          "base_uri": "https://localhost:8080/",
          "height": 486
        },
        "id": "aQQIRXcACwAy",
        "outputId": "66b9be9c-dc27-41e8-8a5f-01bb98a0c999"
      },
      "execution_count": 29,
      "outputs": [
        {
          "output_type": "display_data",
          "data": {
            "text/plain": [
              "<Figure size 640x480 with 1 Axes>"
            ],
            "image/png": "[encoded data removed]"
          },
          "metadata": {}
        },
        {
          "output_type": "stream",
          "name": "stdout",
          "text": [
            "Q1 = 0.24102111786744274\n",
            "Q2 = 1.4522225974455385\n",
            "cR = 1.5613579759566576\n"
          ]
        }
      ]
    },
    {
      "cell_type": "code",
      "source": [
        "out_filename_mean = os.path.join(PROJECT_BASE, OUTPUT_MEANS_ISOSCAPE_PATH)\n",
        "out_filename_var = os.path.join(PROJECT_BASE, OUTPUT_VARS_ISOSCAPE_PATH)\n",
        "\n",
        "means_masked_array = np.ma.masked_array(\n",
        "    np.expand_dims(np.array(means), axis=2), mask=np.isnan(means))\n",
        "variances_masked_array = np.ma.masked_array(\n",
        "    np.expand_dims(np.array(variances), axis=2), mask=np.isnan(variances))\n",
        "\n",
        "raster.save_numpy_to_geotiff(bounds, means_masked_array, out_filename_mean)\n",
        "raster.save_numpy_to_geotiff(bounds, variances_masked_array, out_filename_var)"
      ],
      "metadata": {
        "id": "YxOQyUAUApxH"
      },
      "execution_count": 30,
      "outputs": []
    },
    {
      "cell_type": "code",
      "source": [
        "# Load geometry dataset that'll be used to mask isoscape in expected shape.\n",
        "biome_path = os.path.join(PROJECT_BASE, BIOME_PATH)\n",
        "gdf_biome = gpd.read_file(biome_path)"
      ],
      "metadata": {
        "id": "vcMeFUVpHyNN",
        "colab": {
          "base_uri": "https://localhost:8080/"
        },
        "outputId": "05c33074-f23a-4744-a6a5-90d746837536"
      },
      "execution_count": 17,
      "outputs": [
        {
          "output_type": "stream",
          "name": "stderr",
          "text": [
            "/usr/local/lib/python3.10/dist-packages/geopandas/array.py:93: ShapelyDeprecationWarning: __len__ for multi-part geometries is deprecated and will be removed in Shapely 2.0. Check the length of the `geoms` property instead to get the  number of parts of a multi-part geometry.\n",
            "  aout[:] = out\n"
          ]
        }
      ]
    },
    {
      "cell_type": "code",
      "source": [
        "display_isoscape(out_filename_mean, out_filename_var, gdf_biome)"
      ],
      "metadata": {
        "colab": {
          "base_uri": "https://localhost:8080/",
          "height": 643
        },
        "id": "QXKWM7nQPHDu",
        "outputId": "c8c53b90-3646-43dc-f829-b53be0fbfc70"
      },
      "execution_count": 31,
      "outputs": [
        {
          "output_type": "display_data",
          "data": {
            "text/plain": [
              "<Figure size 2000x2000 with 4 Axes>"
            ],
            "image/png": "[encoded data removed]"
          },
          "metadata": {}
        }
      ]
    }
  ]
}