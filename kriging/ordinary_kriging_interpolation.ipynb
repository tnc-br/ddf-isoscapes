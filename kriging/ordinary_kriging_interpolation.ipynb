{
  "nbformat": 4,
  "nbformat_minor": 0,
  "metadata": {
    "colab": {
      "provenance": [],
      "authorship_tag": "ABX9TyMTGI5Y7NpygNVnigtibrj5",
      "include_colab_link": true
    },
    "kernelspec": {
      "name": "python3",
      "display_name": "Python 3"
    },
    "language_info": {
      "name": "python"
    },
    "widgets": {
      "application/vnd.jupyter.widget-state+json": {
        "b6983224e3f447ce871f4ccc5f7fc891": {
          "model_module": "@jupyter-widgets/controls",
          "model_name": "VBoxModel",
          "model_module_version": "1.5.0",
          "state": {
            "_dom_classes": [
              "widget-interact"
            ],
            "_model_module": "@jupyter-widgets/controls",
            "_model_module_version": "1.5.0",
            "_model_name": "VBoxModel",
            "_view_count": null,
            "_view_module": "@jupyter-widgets/controls",
            "_view_module_version": "1.5.0",
            "_view_name": "VBoxView",
            "box_style": "",
            "children": [
              "IPY_MODEL_5b6845d838fc40629fc89ceab280e5d7",
              "IPY_MODEL_5ce06bac50bb42f1abfbcf7fcf038e1e",
              "IPY_MODEL_11c23b98a23f44249531430ec13cc2e6",
              "IPY_MODEL_2168bb72c40f41b3bdc3b52bb24b9c03"
            ],
            "layout": "IPY_MODEL_e7de1fd77f5f47bda4305cf0b98f93d2"
          }
        },
        "5b6845d838fc40629fc89ceab280e5d7": {
          "model_module": "@jupyter-widgets/controls",
          "model_name": "TextModel",
          "model_module_version": "1.5.0",
          "state": {
            "_dom_classes": [],
            "_model_module": "@jupyter-widgets/controls",
            "_model_module_version": "1.5.0",
            "_model_name": "TextModel",
            "_view_count": null,
            "_view_module": "@jupyter-widgets/controls",
            "_view_module_version": "1.5.0",
            "_view_name": "TextView",
            "continuous_update": true,
            "description": "Email",
            "description_tooltip": null,
            "disabled": false,
            "layout": "IPY_MODEL_08e1e2e43bca46178ea1f3c62f66dcc5",
            "placeholder": "Enter email",
            "style": "IPY_MODEL_c3bfeedb4c234c6896166980098a20fc",
            "value": "luis061997@gmail.com"
          }
        },
        "5ce06bac50bb42f1abfbcf7fcf038e1e": {
          "model_module": "@jupyter-widgets/controls",
          "model_name": "TextModel",
          "model_module_version": "1.5.0",
          "state": {
            "_dom_classes": [],
            "_model_module": "@jupyter-widgets/controls",
            "_model_module_version": "1.5.0",
            "_model_name": "TextModel",
            "_view_count": null,
            "_view_module": "@jupyter-widgets/controls",
            "_view_module_version": "1.5.0",
            "_view_name": "TextView",
            "continuous_update": true,
            "description": "Branch name",
            "description_tooltip": null,
            "disabled": false,
            "layout": "IPY_MODEL_4748a711050742cdb3dfd1b29bc63d9d",
            "placeholder": "Enter branch name",
            "style": "IPY_MODEL_6d795c87c5ea401e9ee29c439631e3ed",
            "value": "XGB-Streamlined"
          }
        },
        "11c23b98a23f44249531430ec13cc2e6": {
          "model_module": "@jupyter-widgets/controls",
          "model_name": "ButtonModel",
          "model_module_version": "1.5.0",
          "state": {
            "_dom_classes": [],
            "_model_module": "@jupyter-widgets/controls",
            "_model_module_version": "1.5.0",
            "_model_name": "ButtonModel",
            "_view_count": null,
            "_view_module": "@jupyter-widgets/controls",
            "_view_module_version": "1.5.0",
            "_view_name": "ButtonView",
            "button_style": "",
            "description": "Checkout Code",
            "disabled": false,
            "icon": "",
            "layout": "IPY_MODEL_5ba86738b4704bb09890917cbe97459b",
            "style": "IPY_MODEL_fb0b7de5430943a8b944e2131d53e425",
            "tooltip": ""
          }
        },
        "2168bb72c40f41b3bdc3b52bb24b9c03": {
          "model_module": "@jupyter-widgets/output",
          "model_name": "OutputModel",
          "model_module_version": "1.0.0",
          "state": {
            "_dom_classes": [],
            "_model_module": "@jupyter-widgets/output",
            "_model_module_version": "1.0.0",
            "_model_name": "OutputModel",
            "_view_count": null,
            "_view_module": "@jupyter-widgets/output",
            "_view_module_version": "1.0.0",
            "_view_name": "OutputView",
            "layout": "IPY_MODEL_e210ec3bd0cd44c1919d1124847c1334",
            "msg_id": "",
            "outputs": [
              {
                "output_type": "stream",
                "name": "stdout",
                "text": [
                  "executing checkout_branch XGB-Streamlined...\n",
                  "b\"fatal: destination path 'ddf_common' already exists and is not an empty directory.\\nRepository already exists.\\n\"\n"
                ]
              },
              {
                "output_type": "stream",
                "name": "stdout",
                "text": [
                  "b'From https://github.com/tnc-br/ddf_common\\n   4c79f4e..5e3eea9  XGB-Streamlined -> origin/XGB-Streamlined\\nerror: Your local changes to the following files would be overwritten by merge:\\n\\t__pycache__/dataset.cpython-310.pyc\\n\\t__pycache__/raster.cpython-310.pyc\\n\\traster.py\\nPlease commit your changes or stash them before you merge.\\nAborting\\nUpdating 4c79f4e..5e3eea9\\n'\n",
                  "b''\n",
                  "XGB-Streamlined branch checked out at \"/content/gdrive/MyDrive/XGB-Streamlined/ddf_common\". You may now use ddf_common imports and change common files.\n"
                ]
              },
              {
                "output_type": "display_data",
                "data": {
                  "text/plain": "interactive(children=(Text(value='required', description='Commit Msg', placeholder='Enter commit message'), Bu…",
                  "application/vnd.jupyter.widget-view+json": {
                    "version_major": 2,
                    "version_minor": 0,
                    "model_id": "a2d9a717dc944ed2b9828076193ac8c0"
                  }
                },
                "metadata": {
                  "application/vnd.jupyter.widget-view+json": {
                    "colab": {
                      "custom_widget_manager": {
                        "url": "https://ssl.gstatic.com/colaboratory-static/widgets/colab-cdn-widget-manager/b3e629b1971e1542/manager.min.js"
                      }
                    }
                  }
                }
              }
            ]
          }
        },
        "e7de1fd77f5f47bda4305cf0b98f93d2": {
          "model_module": "@jupyter-widgets/base",
          "model_name": "LayoutModel",
          "model_module_version": "1.2.0",
          "state": {
            "_model_module": "@jupyter-widgets/base",
            "_model_module_version": "1.2.0",
            "_model_name": "LayoutModel",
            "_view_count": null,
            "_view_module": "@jupyter-widgets/base",
            "_view_module_version": "1.2.0",
            "_view_name": "LayoutView",
            "align_content": null,
            "align_items": null,
            "align_self": null,
            "border": null,
            "bottom": null,
            "display": null,
            "flex": null,
            "flex_flow": null,
            "grid_area": null,
            "grid_auto_columns": null,
            "grid_auto_flow": null,
            "grid_auto_rows": null,
            "grid_column": null,
            "grid_gap": null,
            "grid_row": null,
            "grid_template_areas": null,
            "grid_template_columns": null,
            "grid_template_rows": null,
            "height": null,
            "justify_content": null,
            "justify_items": null,
            "left": null,
            "margin": null,
            "max_height": null,
            "max_width": null,
            "min_height": null,
            "min_width": null,
            "object_fit": null,
            "object_position": null,
            "order": null,
            "overflow": null,
            "overflow_x": null,
            "overflow_y": null,
            "padding": null,
            "right": null,
            "top": null,
            "visibility": null,
            "width": null
          }
        },
        "08e1e2e43bca46178ea1f3c62f66dcc5": {
          "model_module": "@jupyter-widgets/base",
          "model_name": "LayoutModel",
          "model_module_version": "1.2.0",
          "state": {
            "_model_module": "@jupyter-widgets/base",
            "_model_module_version": "1.2.0",
            "_model_name": "LayoutModel",
            "_view_count": null,
            "_view_module": "@jupyter-widgets/base",
            "_view_module_version": "1.2.0",
            "_view_name": "LayoutView",
            "align_content": null,
            "align_items": null,
            "align_self": null,
            "border": null,
            "bottom": null,
            "display": null,
            "flex": null,
            "flex_flow": null,
            "grid_area": null,
            "grid_auto_columns": null,
            "grid_auto_flow": null,
            "grid_auto_rows": null,
            "grid_column": null,
            "grid_gap": null,
            "grid_row": null,
            "grid_template_areas": null,
            "grid_template_columns": null,
            "grid_template_rows": null,
            "height": null,
            "justify_content": null,
            "justify_items": null,
            "left": null,
            "margin": null,
            "max_height": null,
            "max_width": null,
            "min_height": null,
            "min_width": null,
            "object_fit": null,
            "object_position": null,
            "order": null,
            "overflow": null,
            "overflow_x": null,
            "overflow_y": null,
            "padding": null,
            "right": null,
            "top": null,
            "visibility": null,
            "width": null
          }
        },
        "c3bfeedb4c234c6896166980098a20fc": {
          "model_module": "@jupyter-widgets/controls",
          "model_name": "DescriptionStyleModel",
          "model_module_version": "1.5.0",
          "state": {
            "_model_module": "@jupyter-widgets/controls",
            "_model_module_version": "1.5.0",
            "_model_name": "DescriptionStyleModel",
            "_view_count": null,
            "_view_module": "@jupyter-widgets/base",
            "_view_module_version": "1.2.0",
            "_view_name": "StyleView",
            "description_width": ""
          }
        },
        "4748a711050742cdb3dfd1b29bc63d9d": {
          "model_module": "@jupyter-widgets/base",
          "model_name": "LayoutModel",
          "model_module_version": "1.2.0",
          "state": {
            "_model_module": "@jupyter-widgets/base",
            "_model_module_version": "1.2.0",
            "_model_name": "LayoutModel",
            "_view_count": null,
            "_view_module": "@jupyter-widgets/base",
            "_view_module_version": "1.2.0",
            "_view_name": "LayoutView",
            "align_content": null,
            "align_items": null,
            "align_self": null,
            "border": null,
            "bottom": null,
            "display": null,
            "flex": null,
            "flex_flow": null,
            "grid_area": null,
            "grid_auto_columns": null,
            "grid_auto_flow": null,
            "grid_auto_rows": null,
            "grid_column": null,
            "grid_gap": null,
            "grid_row": null,
            "grid_template_areas": null,
            "grid_template_columns": null,
            "grid_template_rows": null,
            "height": null,
            "justify_content": null,
            "justify_items": null,
            "left": null,
            "margin": null,
            "max_height": null,
            "max_width": null,
            "min_height": null,
            "min_width": null,
            "object_fit": null,
            "object_position": null,
            "order": null,
            "overflow": null,
            "overflow_x": null,
            "overflow_y": null,
            "padding": null,
            "right": null,
            "top": null,
            "visibility": null,
            "width": null
          }
        },
        "6d795c87c5ea401e9ee29c439631e3ed": {
          "model_module": "@jupyter-widgets/controls",
          "model_name": "DescriptionStyleModel",
          "model_module_version": "1.5.0",
          "state": {
            "_model_module": "@jupyter-widgets/controls",
            "_model_module_version": "1.5.0",
            "_model_name": "DescriptionStyleModel",
            "_view_count": null,
            "_view_module": "@jupyter-widgets/base",
            "_view_module_version": "1.2.0",
            "_view_name": "StyleView",
            "description_width": ""
          }
        },
        "5ba86738b4704bb09890917cbe97459b": {
          "model_module": "@jupyter-widgets/base",
          "model_name": "LayoutModel",
          "model_module_version": "1.2.0",
          "state": {
            "_model_module": "@jupyter-widgets/base",
            "_model_module_version": "1.2.0",
            "_model_name": "LayoutModel",
            "_view_count": null,
            "_view_module": "@jupyter-widgets/base",
            "_view_module_version": "1.2.0",
            "_view_name": "LayoutView",
            "align_content": null,
            "align_items": null,
            "align_self": null,
            "border": null,
            "bottom": null,
            "display": null,
            "flex": null,
            "flex_flow": null,
            "grid_area": null,
            "grid_auto_columns": null,
            "grid_auto_flow": null,
            "grid_auto_rows": null,
            "grid_column": null,
            "grid_gap": null,
            "grid_row": null,
            "grid_template_areas": null,
            "grid_template_columns": null,
            "grid_template_rows": null,
            "height": null,
            "justify_content": null,
            "justify_items": null,
            "left": null,
            "margin": null,
            "max_height": null,
            "max_width": null,
            "min_height": null,
            "min_width": null,
            "object_fit": null,
            "object_position": null,
            "order": null,
            "overflow": null,
            "overflow_x": null,
            "overflow_y": null,
            "padding": null,
            "right": null,
            "top": null,
            "visibility": null,
            "width": null
          }
        },
        "fb0b7de5430943a8b944e2131d53e425": {
          "model_module": "@jupyter-widgets/controls",
          "model_name": "ButtonStyleModel",
          "model_module_version": "1.5.0",
          "state": {
            "_model_module": "@jupyter-widgets/controls",
            "_model_module_version": "1.5.0",
            "_model_name": "ButtonStyleModel",
            "_view_count": null,
            "_view_module": "@jupyter-widgets/base",
            "_view_module_version": "1.2.0",
            "_view_name": "StyleView",
            "button_color": null,
            "font_weight": ""
          }
        },
        "e210ec3bd0cd44c1919d1124847c1334": {
          "model_module": "@jupyter-widgets/base",
          "model_name": "LayoutModel",
          "model_module_version": "1.2.0",
          "state": {
            "_model_module": "@jupyter-widgets/base",
            "_model_module_version": "1.2.0",
            "_model_name": "LayoutModel",
            "_view_count": null,
            "_view_module": "@jupyter-widgets/base",
            "_view_module_version": "1.2.0",
            "_view_name": "LayoutView",
            "align_content": null,
            "align_items": null,
            "align_self": null,
            "border": null,
            "bottom": null,
            "display": null,
            "flex": null,
            "flex_flow": null,
            "grid_area": null,
            "grid_auto_columns": null,
            "grid_auto_flow": null,
            "grid_auto_rows": null,
            "grid_column": null,
            "grid_gap": null,
            "grid_row": null,
            "grid_template_areas": null,
            "grid_template_columns": null,
            "grid_template_rows": null,
            "height": null,
            "justify_content": null,
            "justify_items": null,
            "left": null,
            "margin": null,
            "max_height": null,
            "max_width": null,
            "min_height": null,
            "min_width": null,
            "object_fit": null,
            "object_position": null,
            "order": null,
            "overflow": null,
            "overflow_x": null,
            "overflow_y": null,
            "padding": null,
            "right": null,
            "top": null,
            "visibility": null,
            "width": null
          }
        },
        "b74621f12ad04437af25021426235fdc": {
          "model_module": "@jupyter-widgets/base",
          "model_name": "LayoutModel",
          "model_module_version": "1.2.0",
          "state": {
            "_model_module": "@jupyter-widgets/base",
            "_model_module_version": "1.2.0",
            "_model_name": "LayoutModel",
            "_view_count": null,
            "_view_module": "@jupyter-widgets/base",
            "_view_module_version": "1.2.0",
            "_view_name": "LayoutView",
            "align_content": null,
            "align_items": null,
            "align_self": null,
            "border": null,
            "bottom": null,
            "display": null,
            "flex": null,
            "flex_flow": null,
            "grid_area": null,
            "grid_auto_columns": null,
            "grid_auto_flow": null,
            "grid_auto_rows": null,
            "grid_column": null,
            "grid_gap": null,
            "grid_row": null,
            "grid_template_areas": null,
            "grid_template_columns": null,
            "grid_template_rows": null,
            "height": null,
            "justify_content": null,
            "justify_items": null,
            "left": null,
            "margin": null,
            "max_height": null,
            "max_width": null,
            "min_height": null,
            "min_width": null,
            "object_fit": null,
            "object_position": null,
            "order": null,
            "overflow": null,
            "overflow_x": null,
            "overflow_y": null,
            "padding": null,
            "right": null,
            "top": null,
            "visibility": null,
            "width": null
          }
        },
        "c769b86226de47a6a9b8772d98e88d86": {
          "model_module": "@jupyter-widgets/controls",
          "model_name": "DescriptionStyleModel",
          "model_module_version": "1.5.0",
          "state": {
            "_model_module": "@jupyter-widgets/controls",
            "_model_module_version": "1.5.0",
            "_model_name": "DescriptionStyleModel",
            "_view_count": null,
            "_view_module": "@jupyter-widgets/base",
            "_view_module_version": "1.2.0",
            "_view_name": "StyleView",
            "description_width": ""
          }
        },
        "82d4d30876784da5bbf8989e49bbd9d4": {
          "model_module": "@jupyter-widgets/base",
          "model_name": "LayoutModel",
          "model_module_version": "1.2.0",
          "state": {
            "_model_module": "@jupyter-widgets/base",
            "_model_module_version": "1.2.0",
            "_model_name": "LayoutModel",
            "_view_count": null,
            "_view_module": "@jupyter-widgets/base",
            "_view_module_version": "1.2.0",
            "_view_name": "LayoutView",
            "align_content": null,
            "align_items": null,
            "align_self": null,
            "border": null,
            "bottom": null,
            "display": null,
            "flex": null,
            "flex_flow": null,
            "grid_area": null,
            "grid_auto_columns": null,
            "grid_auto_flow": null,
            "grid_auto_rows": null,
            "grid_column": null,
            "grid_gap": null,
            "grid_row": null,
            "grid_template_areas": null,
            "grid_template_columns": null,
            "grid_template_rows": null,
            "height": null,
            "justify_content": null,
            "justify_items": null,
            "left": null,
            "margin": null,
            "max_height": null,
            "max_width": null,
            "min_height": null,
            "min_width": null,
            "object_fit": null,
            "object_position": null,
            "order": null,
            "overflow": null,
            "overflow_x": null,
            "overflow_y": null,
            "padding": null,
            "right": null,
            "top": null,
            "visibility": null,
            "width": null
          }
        },
        "d9a76db275c54ed08a89c5eaacfcdda2": {
          "model_module": "@jupyter-widgets/base",
          "model_name": "LayoutModel",
          "model_module_version": "1.2.0",
          "state": {
            "_model_module": "@jupyter-widgets/base",
            "_model_module_version": "1.2.0",
            "_model_name": "LayoutModel",
            "_view_count": null,
            "_view_module": "@jupyter-widgets/base",
            "_view_module_version": "1.2.0",
            "_view_name": "LayoutView",
            "align_content": null,
            "align_items": null,
            "align_self": null,
            "border": null,
            "bottom": null,
            "display": null,
            "flex": null,
            "flex_flow": null,
            "grid_area": null,
            "grid_auto_columns": null,
            "grid_auto_flow": null,
            "grid_auto_rows": null,
            "grid_column": null,
            "grid_gap": null,
            "grid_row": null,
            "grid_template_areas": null,
            "grid_template_columns": null,
            "grid_template_rows": null,
            "height": null,
            "justify_content": null,
            "justify_items": null,
            "left": null,
            "margin": null,
            "max_height": null,
            "max_width": null,
            "min_height": null,
            "min_width": null,
            "object_fit": null,
            "object_position": null,
            "order": null,
            "overflow": null,
            "overflow_x": null,
            "overflow_y": null,
            "padding": null,
            "right": null,
            "top": null,
            "visibility": null,
            "width": null
          }
        },
        "d745cc99e4bf4a7abebf0b016331af15": {
          "model_module": "@jupyter-widgets/controls",
          "model_name": "ButtonStyleModel",
          "model_module_version": "1.5.0",
          "state": {
            "_model_module": "@jupyter-widgets/controls",
            "_model_module_version": "1.5.0",
            "_model_name": "ButtonStyleModel",
            "_view_count": null,
            "_view_module": "@jupyter-widgets/base",
            "_view_module_version": "1.2.0",
            "_view_name": "StyleView",
            "button_color": null,
            "font_weight": ""
          }
        },
        "0e7feef399e841158c8af54fea25e812": {
          "model_module": "@jupyter-widgets/base",
          "model_name": "LayoutModel",
          "model_module_version": "1.2.0",
          "state": {
            "_model_module": "@jupyter-widgets/base",
            "_model_module_version": "1.2.0",
            "_model_name": "LayoutModel",
            "_view_count": null,
            "_view_module": "@jupyter-widgets/base",
            "_view_module_version": "1.2.0",
            "_view_name": "LayoutView",
            "align_content": null,
            "align_items": null,
            "align_self": null,
            "border": null,
            "bottom": null,
            "display": null,
            "flex": null,
            "flex_flow": null,
            "grid_area": null,
            "grid_auto_columns": null,
            "grid_auto_flow": null,
            "grid_auto_rows": null,
            "grid_column": null,
            "grid_gap": null,
            "grid_row": null,
            "grid_template_areas": null,
            "grid_template_columns": null,
            "grid_template_rows": null,
            "height": null,
            "justify_content": null,
            "justify_items": null,
            "left": null,
            "margin": null,
            "max_height": null,
            "max_width": null,
            "min_height": null,
            "min_width": null,
            "object_fit": null,
            "object_position": null,
            "order": null,
            "overflow": null,
            "overflow_x": null,
            "overflow_y": null,
            "padding": null,
            "right": null,
            "top": null,
            "visibility": null,
            "width": null
          }
        },
        "a2d9a717dc944ed2b9828076193ac8c0": {
          "model_module": "@jupyter-widgets/controls",
          "model_name": "VBoxModel",
          "model_module_version": "1.5.0",
          "state": {
            "_dom_classes": [
              "widget-interact"
            ],
            "_model_module": "@jupyter-widgets/controls",
            "_model_module_version": "1.5.0",
            "_model_name": "VBoxModel",
            "_view_count": null,
            "_view_module": "@jupyter-widgets/controls",
            "_view_module_version": "1.5.0",
            "_view_name": "VBoxView",
            "box_style": "",
            "children": [
              "IPY_MODEL_1b5a6fe208f94a1a8d3ed1fee0bf9728",
              "IPY_MODEL_24c42821039448e2b2af2023208c86c8",
              "IPY_MODEL_4fafef11c7354ee3852d507f1db928f3"
            ],
            "layout": "IPY_MODEL_82d4d30876784da5bbf8989e49bbd9d4"
          }
        },
        "1b5a6fe208f94a1a8d3ed1fee0bf9728": {
          "model_module": "@jupyter-widgets/controls",
          "model_name": "TextModel",
          "model_module_version": "1.5.0",
          "state": {
            "_dom_classes": [],
            "_model_module": "@jupyter-widgets/controls",
            "_model_module_version": "1.5.0",
            "_model_name": "TextModel",
            "_view_count": null,
            "_view_module": "@jupyter-widgets/controls",
            "_view_module_version": "1.5.0",
            "_view_name": "TextView",
            "continuous_update": true,
            "description": "Commit Msg",
            "description_tooltip": null,
            "disabled": false,
            "layout": "IPY_MODEL_b74621f12ad04437af25021426235fdc",
            "placeholder": "Enter commit message",
            "style": "IPY_MODEL_c769b86226de47a6a9b8772d98e88d86",
            "value": "required"
          }
        },
        "24c42821039448e2b2af2023208c86c8": {
          "model_module": "@jupyter-widgets/controls",
          "model_name": "ButtonModel",
          "model_module_version": "1.5.0",
          "state": {
            "_dom_classes": [],
            "_model_module": "@jupyter-widgets/controls",
            "_model_module_version": "1.5.0",
            "_model_name": "ButtonModel",
            "_view_count": null,
            "_view_module": "@jupyter-widgets/controls",
            "_view_module_version": "1.5.0",
            "_view_name": "ButtonView",
            "button_style": "",
            "description": "Commit All Changes",
            "disabled": false,
            "icon": "",
            "layout": "IPY_MODEL_d9a76db275c54ed08a89c5eaacfcdda2",
            "style": "IPY_MODEL_d745cc99e4bf4a7abebf0b016331af15",
            "tooltip": ""
          }
        },
        "4fafef11c7354ee3852d507f1db928f3": {
          "model_module": "@jupyter-widgets/output",
          "model_name": "OutputModel",
          "model_module_version": "1.0.0",
          "state": {
            "_dom_classes": [],
            "_model_module": "@jupyter-widgets/output",
            "_model_module_version": "1.0.0",
            "_model_name": "OutputModel",
            "_view_count": null,
            "_view_module": "@jupyter-widgets/output",
            "_view_module_version": "1.0.0",
            "_view_name": "OutputView",
            "layout": "IPY_MODEL_0e7feef399e841158c8af54fea25e812",
            "msg_id": "",
            "outputs": []
          }
        }
      }
    }
  },
  "cells": [
    {
      "cell_type": "markdown",
      "metadata": {
        "id": "view-in-github",
        "colab_type": "text"
      },
      "source": [
        "<a href=\"https://colab.research.google.com/github/tnc-br/ddf-isoscapes/blob/ordinary_kriging/kriging/ordinary_kriging_interpolation.ipynb\" target=\"_parent\"><img src=\"https://colab.research.google.com/assets/colab-badge.svg\" alt=\"Open In Colab\"/></a>"
      ]
    },
    {
      "cell_type": "code",
      "execution_count": 1,
      "metadata": {
        "id": "RaZDahrojjPQ"
      },
      "outputs": [],
      "source": [
        "!pip install earthengine-api geemap geopandas geobr rtree pyproj rasterio contextily descartes -q"
      ]
    },
    {
      "cell_type": "code",
      "source": [
        "!pip install pykrige -q"
      ],
      "metadata": {
        "id": "cIScFpCnubZa"
      },
      "execution_count": 2,
      "outputs": []
    },
    {
      "cell_type": "code",
      "source": [
        "## Import packages\n",
        "import rasterio as rio\n",
        "from rasterio.transform import Affine\n",
        "import rasterio.mask\n",
        "from rasterio.plot import show\n",
        "from rasterio.transform import Affine\n",
        "import contextily as cx\n",
        "import pandas as pd\n",
        "import geopandas as gpd\n",
        "import matplotlib.pyplot as plt\n",
        "import numpy as np\n",
        "import geemap\n",
        "import json\n",
        "import seaborn as sns\n",
        "from shapely.geometry import Point\n",
        "import pykrige.kriging_tools as kt\n",
        "from pykrige.ok import OrdinaryKriging"
      ],
      "metadata": {
        "id": "Ff9kNIMWjrON"
      },
      "execution_count": 3,
      "outputs": []
    },
    {
      "cell_type": "code",
      "source": [
        "DEBUG = False #@param {type:\"boolean\"}\n",
        "GDRIVE_BASE = \"/content/gdrive\" #@param\n",
        "PROJECT_BASE = f\"{GDRIVE_BASE}/MyDrive/amazon_rainforest_files\"\n",
        "# From PROJECT_BASE root\n",
        "DATASET_PATH = \"amazon_sample_data/uc_davis_2023_08_13_kriging_train_random_ungrouped.csv\" #@param\n",
        "# From PROJECT_BASE root\n",
        "BIOME_PATH = \"christian_files/BR_UF_2021.shp\" #@param\n",
        "# From PROJECT_BASE root\n",
        "OUTPUT_MEANS_ISOSCAPE_PATH = \"amazon_rasters/uc_davis_d18O_cel_kriging_means_2.tiff\" #@param\n",
        "OUTPUT_VARS_ISOSCAPE_PATH = \"amazon_rasters/uc_davis_d18O_cel_kriging_vars_2.tiff\" #@param\n",
        "ISOTOPE_COLUMN_NAME = \"d18O_cel\" #@param"
      ],
      "metadata": {
        "id": "eD7g_1plr8Fv"
      },
      "execution_count": 19,
      "outputs": []
    },
    {
      "cell_type": "code",
      "source": [
        "import sys\n",
        "!if [ ! -d \"/content/ddf_common_stub\" ] ; then git clone -b test https://github.com/tnc-br/ddf_common_stub.git; fi\n",
        "sys.path.append(\"/content/ddf_common_stub/\")\n",
        "\n",
        "import ddfimport\n",
        "\n",
        "if DEBUG:\n",
        "  ddfimport.ddf_source_control_pane()\n",
        "else:\n",
        "  ddfimport.ddf_import_common()"
      ],
      "metadata": {
        "colab": {
          "base_uri": "https://localhost:8080/",
          "height": 308,
          "referenced_widgets": [
            "b6983224e3f447ce871f4ccc5f7fc891",
            "5b6845d838fc40629fc89ceab280e5d7",
            "5ce06bac50bb42f1abfbcf7fcf038e1e",
            "11c23b98a23f44249531430ec13cc2e6",
            "2168bb72c40f41b3bdc3b52bb24b9c03",
            "e7de1fd77f5f47bda4305cf0b98f93d2",
            "08e1e2e43bca46178ea1f3c62f66dcc5",
            "c3bfeedb4c234c6896166980098a20fc",
            "4748a711050742cdb3dfd1b29bc63d9d",
            "6d795c87c5ea401e9ee29c439631e3ed",
            "5ba86738b4704bb09890917cbe97459b",
            "fb0b7de5430943a8b944e2131d53e425",
            "e210ec3bd0cd44c1919d1124847c1334",
            "b74621f12ad04437af25021426235fdc",
            "c769b86226de47a6a9b8772d98e88d86",
            "82d4d30876784da5bbf8989e49bbd9d4",
            "d9a76db275c54ed08a89c5eaacfcdda2",
            "d745cc99e4bf4a7abebf0b016331af15",
            "0e7feef399e841158c8af54fea25e812",
            "a2d9a717dc944ed2b9828076193ac8c0",
            "1b5a6fe208f94a1a8d3ed1fee0bf9728",
            "24c42821039448e2b2af2023208c86c8",
            "4fafef11c7354ee3852d507f1db928f3"
          ]
        },
        "id": "y15ijUt5sdYs",
        "outputId": "16619e29-5e88-47d1-b84d-11061c6ba20e"
      },
      "execution_count": 6,
      "outputs": [
        {
          "output_type": "display_data",
          "data": {
            "text/plain": [
              "interactive(children=(Text(value='', description='Email', placeholder='Enter email'), Text(value='', descripti…"
            ],
            "application/vnd.jupyter.widget-view+json": {
              "version_major": 2,
              "version_minor": 0,
              "model_id": "b6983224e3f447ce871f4ccc5f7fc891"
            }
          },
          "metadata": {
            "application/vnd.jupyter.widget-view+json": {
              "colab": {
                "custom_widget_manager": {
                  "url": "https://ssl.gstatic.com/colaboratory-static/widgets/colab-cdn-widget-manager/b3e629b1971e1542/manager.min.js"
                }
              }
            }
          }
        }
      ]
    },
    {
      "cell_type": "code",
      "source": [
        "import importlib"
      ],
      "metadata": {
        "id": "277s246R8v6S"
      },
      "execution_count": 7,
      "outputs": []
    },
    {
      "cell_type": "code",
      "source": [
        "import raster"
      ],
      "metadata": {
        "id": "7_iYeMLsvBg7"
      },
      "execution_count": 8,
      "outputs": []
    },
    {
      "cell_type": "code",
      "source": [
        "importlib.reload(raster)"
      ],
      "metadata": {
        "colab": {
          "base_uri": "https://localhost:8080/"
        },
        "id": "0wMLDWPS81T8",
        "outputId": "ae8af7f8-89ef-46ab-db89-dd5283fa0aa5"
      },
      "execution_count": 9,
      "outputs": [
        {
          "output_type": "execute_result",
          "data": {
            "text/plain": [
              "<module 'raster' from '/content/gdrive/MyDrive/XGB-Streamlined/ddf_common/raster.py'>"
            ]
          },
          "metadata": {},
          "execution_count": 9
        }
      ]
    },
    {
      "cell_type": "code",
      "source": [
        "# Required to both import raster and read GDrive files\n",
        "raster.RASTER_BASE = \"/MyDrive/amazon_rainforest_files/amazon_rasters/\" #@param\n",
        "raster.SAMPLE_DATA_BASE = \"/MyDrive/amazon_rainforest_files/amazon_sample_data/\" #@param\n",
        "raster.TEST_DATA_BASE = \"/MyDrive/amazon_rainforest_files/amazon_test_data/\" #@param\n",
        "raster.ANIMATIONS_BASE = \"/MyDrive/amazon_rainforest_files/amazon_animations/\" #@param\n",
        "raster.GDRIVE_BASE = \"/content/gdrive\" #@param"
      ],
      "metadata": {
        "id": "YIbO9KZL7jzJ"
      },
      "execution_count": 10,
      "outputs": []
    },
    {
      "cell_type": "code",
      "source": [
        "# Access data stored on Google Drive\n",
        "if GDRIVE_BASE:\n",
        "    raster.mount_gdrive()\n",
        "\n",
        "if DEBUG:\n",
        "    %pip install -Uqq ipdb\n",
        "    import ipdb\n",
        "    %pdb on"
      ],
      "metadata": {
        "colab": {
          "base_uri": "https://localhost:8080/"
        },
        "id": "fLoYftYc23JC",
        "outputId": "a356bcba-5146-4a9f-8a18-8bf25028d60e"
      },
      "execution_count": 5,
      "outputs": [
        {
          "output_type": "stream",
          "name": "stdout",
          "text": [
            "Drive already mounted at /content/gdrive; to attempt to forcibly remount, call drive.mount(\"/content/gdrive\", force_remount=True).\n"
          ]
        }
      ]
    },
    {
      "cell_type": "code",
      "source": [],
      "metadata": {
        "id": "7uTe8xckBe-E"
      },
      "execution_count": null,
      "outputs": []
    },
    {
      "cell_type": "code",
      "source": [
        "# Load coordinates and values from dataset path.\n",
        "df = pd.read_csv(f\"{PROJECT_BASE}/{DATASET_PATH}\").dropna(subset=['lat', 'long', ISOTOPE_COLUMN_NAME])\n",
        "long = df['long'].values\n",
        "lat = df['lat'].values\n",
        "isotope_values = df[ISOTOPE_COLUMN_NAME].values"
      ],
      "metadata": {
        "id": "zuw47FvLI_p7"
      },
      "execution_count": 11,
      "outputs": []
    },
    {
      "cell_type": "code",
      "source": [
        "# Load Amazon geometry dataset that'll be used to mask isoscape in expected shape.\n",
        "amazon_biome_path = f\"{PROJECT_BASE}/{BIOME_PATH}\"\n",
        "gdf_amazon = gpd.read_file(amazon_biome_path)"
      ],
      "metadata": {
        "id": "vcMeFUVpHyNN",
        "colab": {
          "base_uri": "https://localhost:8080/"
        },
        "outputId": "c1b7d2f9-c2fe-4379-e640-344f127b2bb3"
      },
      "execution_count": 12,
      "outputs": [
        {
          "output_type": "stream",
          "name": "stderr",
          "text": [
            "/usr/local/lib/python3.10/dist-packages/geopandas/array.py:93: ShapelyDeprecationWarning: __len__ for multi-part geometries is deprecated and will be removed in Shapely 2.0. Check the length of the `geoms` property instead to get the  number of parts of a multi-part geometry.\n",
            "  aout[:] = out\n"
          ]
        }
      ]
    },
    {
      "cell_type": "code",
      "source": [
        "def get_kriging_means_variances(\n",
        "    bounds: raster.Bounds,\n",
        "    long: list,\n",
        "    lat: list,\n",
        "    isotope_values: list\n",
        "):\n",
        "  '''\n",
        "  Gets the means and variances of an Ordinary Kriging model fit to the provided\n",
        "  long, lat and isotope_values predicted on the coordinates within the bounds\n",
        "  provided.\n",
        "  '''\n",
        "\n",
        "  ok = OrdinaryKriging(\n",
        "      long,\n",
        "      lat,\n",
        "      isotope_values,\n",
        "      variogram_model=\"linear\",\n",
        "      verbose=False,\n",
        "      enable_plotting=True,\n",
        "      enable_statistics=True,\n",
        "      coordinates_type='geographic',\n",
        "      pseudo_inv=True # this leads to more numerical stability and redundant\n",
        "                      # points are averaged. This prevents singular matrix\n",
        "                      # errors which happens frequently with variance isoscape\n",
        "                      # in this method.\n",
        "  )\n",
        "\n",
        "  min_long, max_long, min_lat, max_lat = bounds.to_matplotlib()\n",
        "\n",
        "  isoscape_long_values =  np.linspace(min_long, max_long, bounds.raster_size_x)\n",
        "  isoscape_lat_values = np.linspace(min_lat, max_lat, bounds.raster_size_y)\n",
        "  # Predict the isotope values on the range of lattitude and longitude values\n",
        "  # within the gdf_amazon geomtry.\n",
        "  means, variances  = ok.execute(\"grid\", isoscape_long_values,\n",
        "                                 isoscape_lat_values)\n",
        "  ok.print_statistics()\n",
        "\n",
        "  return means, variances"
      ],
      "metadata": {
        "id": "u9-Ga8NM-duR"
      },
      "execution_count": 13,
      "outputs": []
    },
    {
      "cell_type": "code",
      "source": [
        "def display_isoscape(means_filename, vars_filename, gdf_amazon):\n",
        "  '''\n",
        "  Given a filename to a RasterIO file containing an isoscape raster,\n",
        "  display the isoscape masked by the gdf_amazon geometry.\n",
        "  '''\n",
        "  # Mean Isotope Isoscape Band Image\n",
        "  means_raster = rasterio.open(means_filename)\n",
        "  means_image, means_transform = rio.mask.mask(means_raster, gdf_amazon.geometry.values, crop = True)\n",
        "\n",
        "  fig, (ax1, ax2) = plt.subplots(1, 2, figsize = (20, 20))\n",
        "  means_raster_images = show(means_image, ax = ax1, transform = means_transform, cmap = \"RdYlGn\")\n",
        "  means_raster_image = means_raster_images.get_images()[0]\n",
        "  fig.colorbar(means_raster_image, ax=ax1, shrink=0.3)\n",
        "\n",
        "  # ax1.invert_yaxis()\n",
        "  ax1.set_title(\"Mean Isotope Isoscape Band\")\n",
        "\n",
        "  # Variance Isotope Isoscape Band Image\n",
        "  vars_raster = rasterio.open(vars_filename)\n",
        "  vars_image, vars_transform = rio.mask.mask(vars_raster, gdf_amazon.geometry.values, crop = True)\n",
        "\n",
        "  vars_raster_images = show(vars_image, ax = ax2, transform = vars_transform, cmap = \"RdYlGn\")\n",
        "  vars_raster_image = vars_raster_images.get_images()[0]\n",
        "  fig.colorbar(vars_raster_image, ax=ax2, shrink=0.3)\n",
        "\n",
        "  # plt.gca().invert_yaxis()\n",
        "  ax2.set_title(\"Variance Isotope Isoscape Band\")\n",
        "  plt.show()"
      ],
      "metadata": {
        "id": "ipGXn_xN2Oin"
      },
      "execution_count": 35,
      "outputs": []
    },
    {
      "cell_type": "code",
      "source": [
        "atmosphere_isoscape_geotiff = raster.load_raster(raster.get_raster_path(\"brasil_clim_raster.tiff\"))\n",
        "bounds =  raster.get_extent(atmosphere_isoscape_geotiff.gdal_dataset)\n",
        "bounds.raster_size_x = 256\n",
        "bounds.raster_size_y = 256\n",
        "\n",
        "means, variances = get_kriging_means_variances(bounds, long, lat, isotope_values)"
      ],
      "metadata": {
        "colab": {
          "base_uri": "https://localhost:8080/",
          "height": 579
        },
        "id": "LleG8sZhD8BQ",
        "outputId": "f198dd27-9fdd-471d-a06a-2e655bb57758"
      },
      "execution_count": 26,
      "outputs": [
        {
          "output_type": "stream",
          "name": "stdout",
          "text": [
            "Driver: GTiff/GeoTIFF\n",
            "Size is 235 x 234 x 1\n",
            "Projection is \n",
            "Origin = (-74.0, 5.333333333999995)\n",
            "Pixel Size = (0.16666666666808508, -0.16666666666808505)\n"
          ]
        },
        {
          "output_type": "display_data",
          "data": {
            "text/plain": [
              "<Figure size 640x480 with 1 Axes>"
            ],
            "image/png": "[encoded data removed]"
          },
          "metadata": {}
        },
        {
          "output_type": "stream",
          "name": "stdout",
          "text": [
            "Q1 = 0.13909328790956207\n",
            "Q2 = 2.539609843280599\n",
            "cR = 2.0418599854481925\n"
          ]
        }
      ]
    },
    {
      "cell_type": "code",
      "source": [
        "out_filename_mean = f\"{PROJECT_BASE}/{OUTPUT_MEANS_ISOSCAPE_PATH}\"\n",
        "out_filename_var = f\"{PROJECT_BASE}/{OUTPUT_VARS_ISOSCAPE_PATH}\"\n",
        "\n",
        "means_masked_array = np.ma.masked_array(\n",
        "    np.expand_dims(np.array(means), axis=2), mask=np.isnan(means))\n",
        "variances_masked_array = np.ma.masked_array(\n",
        "    np.expand_dims(np.array(variances), axis=2), mask=np.isnan(variances))\n",
        "\n",
        "raster.save_numpy_to_geotiff(bounds, means_masked_array, out_filename_mean)\n",
        "raster.save_numpy_to_geotiff(bounds, variances_masked_array, out_filename_var)"
      ],
      "metadata": {
        "id": "YxOQyUAUApxH"
      },
      "execution_count": 29,
      "outputs": []
    },
    {
      "cell_type": "code",
      "source": [
        "display_isoscape(out_filename_mean, out_filename_var, gdf_amazon)"
      ],
      "metadata": {
        "colab": {
          "base_uri": "https://localhost:8080/",
          "height": 592
        },
        "id": "QXKWM7nQPHDu",
        "outputId": "35545471-c4a4-4395-9b71-3b050f72985d"
      },
      "execution_count": 36,
      "outputs": [
        {
          "output_type": "display_data",
          "data": {
            "text/plain": [
              "<Figure size 2000x2000 with 4 Axes>"
            ],
            "image/png": "[encoded data removed]"
          },
          "metadata": {}
        }
      ]
    }
  ]
}