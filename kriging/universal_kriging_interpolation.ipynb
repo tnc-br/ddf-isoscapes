{
  "nbformat": 4,
  "nbformat_minor": 0,
  "metadata": {
    "colab": {
      "provenance": [],
      "authorship_tag": "ABX9TyOipGmNhiB6pCvwD9BYJjbu",
      "include_colab_link": true
    },
    "kernelspec": {
      "name": "python3",
      "display_name": "Python 3"
    },
    "language_info": {
      "name": "python"
    }
  },
  "cells": [
    {
      "cell_type": "markdown",
      "metadata": {
        "id": "view-in-github",
        "colab_type": "text"
      },
      "source": [
        "<a href=\"https://colab.research.google.com/github/tnc-br/ddf-isoscapes/blob/universal_kriging/kriging/universal_kriging_interpolation.ipynb\" target=\"_parent\"><img src=\"https://colab.research.google.com/assets/colab-badge.svg\" alt=\"Open In Colab\"/></a>"
      ]
    },
    {
      "cell_type": "code",
      "execution_count": null,
      "metadata": {
        "id": "RaZDahrojjPQ"
      },
      "outputs": [],
      "source": [
        "!pip install earthengine-api geemap geopandas geobr rtree pyproj rasterio contextily descartes -q"
      ]
    },
    {
      "cell_type": "code",
      "source": [
        "!pip install pykrige -q"
      ],
      "metadata": {
        "id": "cIScFpCnubZa"
      },
      "execution_count": null,
      "outputs": []
    },
    {
      "cell_type": "code",
      "source": [
        "## Import packages\n",
        "import rasterio as rio\n",
        "import rasterio.mask\n",
        "from rasterio.plot import show\n",
        "from rasterio.transform import Affine\n",
        "import contextily as cx\n",
        "import pandas as pd\n",
        "import geopandas as gpd\n",
        "import matplotlib.pyplot as plt\n",
        "import numpy as np\n",
        "import geemap\n",
        "import json\n",
        "import seaborn as sns\n",
        "from shapely.geometry import Point\n",
        "import pykrige.kriging_tools as kt\n",
        "from pykrige.uk import UniversalKriging\n",
        "import os"
      ],
      "metadata": {
        "id": "Ff9kNIMWjrON"
      },
      "execution_count": null,
      "outputs": []
    },
    {
      "cell_type": "code",
      "source": [
        "import sys\n",
        "!if [ ! -d \"/content/ddf_common_stub\" ] ; then git clone -b test https://github.com/tnc-br/ddf_common_stub.git; fi\n",
        "sys.path.append(\"/content/ddf_common_stub/\")\n",
        "\n",
        "import ddfimport\n",
        "\n",
        "ddfimport.ddf_source_control_pane()\n",
        "# ddfimport.ddf_import_common()"
      ],
      "metadata": {
        "id": "y15ijUt5sdYs"
      },
      "execution_count": null,
      "outputs": []
    },
    {
      "cell_type": "code",
      "source": [
        "import importlib\n",
        "import raster\n",
        "importlib.reload(raster)"
      ],
      "metadata": {
        "id": "277s246R8v6S",
        "colab": {
          "base_uri": "https://localhost:8080/"
        },
        "outputId": "c642e2ef-94c1-4281-bf3f-cf8228f1102f"
      },
      "execution_count": null,
      "outputs": [
        {
          "output_type": "execute_result",
          "data": {
            "text/plain": [
              "<module 'raster' from '/content/gdrive/MyDrive/main/ddf_common/raster.py'>"
            ]
          },
          "metadata": {},
          "execution_count": 7
        }
      ]
    },
    {
      "cell_type": "code",
      "source": [
        "# Required to both import raster and read GDrive files\n",
        "raster.RASTER_BASE = \"/MyDrive/amazon_rainforest_files/amazon_rasters/\" #@param\n",
        "raster.SAMPLE_DATA_BASE = \"/MyDrive/amazon_rainforest_files/amazon_sample_data/\" #@param\n",
        "raster.TEST_DATA_BASE = \"/MyDrive/amazon_rainforest_files/amazon_test_data/\" #@param\n",
        "raster.ANIMATIONS_BASE = \"/MyDrive/amazon_rainforest_files/amazon_animations/\" #@param\n",
        "raster.GDRIVE_BASE = \"/content/gdrive\" #@param"
      ],
      "metadata": {
        "id": "YIbO9KZL7jzJ"
      },
      "execution_count": null,
      "outputs": []
    },
    {
      "cell_type": "code",
      "source": [
        "DEBUG = True #@param {type:\"boolean\"}\n",
        "PROJECT_BASE = os.path.join(raster.GDRIVE_BASE, \"MyDrive/amazon_rainforest_files\")\n",
        "# From PROJECT_BASE root\n",
        "DATASET_PATH = \"amazon_sample_data/uc_davis_2023_08_25_train_random_grouped.csv\" #@param\n",
        "# From PROJECT_BASE root\n",
        "BIOME_PATH = \"christian_files/BR_UF_2021.shp\" #@param\n",
        "# From PROJECT_BASE root\n",
        "OUTPUT_MEANS_ISOSCAPE_PATH = \"amazon_rasters/uc_davis_d18O_cel_universal_exponential_random_grouped_means.tiff\" #@param\n",
        "OUTPUT_VARS_ISOSCAPE_PATH = \"amazon_rasters/uc_davis_d18O_cel_universal_exponential_random_grouped_vars.tiff\" #@param\n",
        "ISOTOPE_COLUMN_NAME = \"d18O_cel_mean\" #@param\n",
        "VARIOGRAM_MODEL = \"exponential\" #@param"
      ],
      "metadata": {
        "id": "eD7g_1plr8Fv"
      },
      "execution_count": null,
      "outputs": []
    },
    {
      "cell_type": "code",
      "source": [
        "# Access data stored on Google Drive\n",
        "if raster.GDRIVE_BASE:\n",
        "    raster.mount_gdrive()"
      ],
      "metadata": {
        "colab": {
          "base_uri": "https://localhost:8080/"
        },
        "id": "fLoYftYc23JC",
        "outputId": "a2a2fd2a-3bc3-426a-f0e3-1fa9baa607b4"
      },
      "execution_count": null,
      "outputs": [
        {
          "output_type": "stream",
          "name": "stdout",
          "text": [
            "Drive already mounted at /content/gdrive; to attempt to forcibly remount, call drive.mount(\"/content/gdrive\", force_remount=True).\n"
          ]
        }
      ]
    },
    {
      "cell_type": "code",
      "source": [
        "if DEBUG:\n",
        "    %pip install -Uqq ipdb\n",
        "    import ipdb\n",
        "    %pdb on"
      ],
      "metadata": {
        "id": "2YAYWOaBJp81"
      },
      "execution_count": null,
      "outputs": []
    },
    {
      "cell_type": "code",
      "source": [
        "# Load coordinates and values from dataset path.\n",
        "df = pd.read_csv(os.path.join(PROJECT_BASE, DATASET_PATH)).dropna(subset=['lat', 'long', ISOTOPE_COLUMN_NAME])\n",
        "long = df['long'].values\n",
        "lat = df['lat'].values\n",
        "isotope_values = df[ISOTOPE_COLUMN_NAME].values"
      ],
      "metadata": {
        "id": "zuw47FvLI_p7"
      },
      "execution_count": null,
      "outputs": []
    },
    {
      "cell_type": "code",
      "source": [
        "def get_kriging_means_variances(\n",
        "    bounds: raster.Bounds,\n",
        "    long: list,\n",
        "    lat: list,\n",
        "    isotope_values: list,\n",
        "    variogram_model: str = \"linear\"\n",
        "):\n",
        "  '''\n",
        "  Gets the means and variances of an Ordinary Kriging model fit to the provided\n",
        "  long, lat and isotope_values predicted on the coordinates within the bounds\n",
        "  provided using the type of variogram_model specified.\n",
        "  '''\n",
        "\n",
        "  ok = UniversalKriging(\n",
        "      long,\n",
        "      lat,\n",
        "      isotope_values,\n",
        "      variogram_model=variogram_model,\n",
        "      verbose=False,\n",
        "      enable_plotting=True,\n",
        "      pseudo_inv=True # this leads to more numerical stability and redundant\n",
        "                      # points are averaged. This prevents singular matrix\n",
        "                      # errors which happens frequently with variance isoscape\n",
        "                      # in this method.\n",
        "  )\n",
        "\n",
        "  min_long, max_long, min_lat, max_lat = bounds.to_matplotlib()\n",
        "\n",
        "  isoscape_long_values =  np.linspace(min_long, max_long, bounds.raster_size_x)\n",
        "  isoscape_lat_values = np.linspace(min_lat, max_lat, bounds.raster_size_y)\n",
        "  # Predict the isotope values on the range of lattitude and longitude values\n",
        "  # within the bounds.\n",
        "  means, variances  = ok.execute(\"grid\", isoscape_long_values,\n",
        "                                 isoscape_lat_values)\n",
        "  ok.print_statistics()\n",
        "\n",
        "  # Execute takes N longitude values and M latittude values and returns a\n",
        "  # (M, N) matrix. Transpose to get (N, M) matrix so x and y are still longitude\n",
        "  # and latitude respectively.\n",
        "  return means.T, variances.T"
      ],
      "metadata": {
        "id": "u9-Ga8NM-duR"
      },
      "execution_count": null,
      "outputs": []
    },
    {
      "cell_type": "code",
      "source": [
        "def display_isoscape(means_filename, vars_filename, gdf_biome):\n",
        "  '''\n",
        "  Given a filename to a RasterIO file containing an isoscape raster,\n",
        "  display the isoscape masked by the gdf_biome geometry.\n",
        "  '''\n",
        "  # Mean Isotope Isoscape Band Image\n",
        "  means_raster = rasterio.open(means_filename)\n",
        "  means_image, means_transform = rio.mask.mask(means_raster, gdf_biome.geometry.values, crop = True)\n",
        "\n",
        "  fig, (ax1, ax2) = plt.subplots(1, 2, figsize = (20, 20))\n",
        "  means_raster_images = show(means_image, ax = ax1, transform = means_transform, cmap = \"RdYlGn\")\n",
        "  means_raster_image = means_raster_images.get_images()[0]\n",
        "  fig.colorbar(means_raster_image, ax=ax1, shrink=0.3)\n",
        "\n",
        "  ax1.set_title(\"Mean Isotope Isoscape Band\")\n",
        "\n",
        "  # Variance Isotope Isoscape Band Image\n",
        "  vars_raster = rasterio.open(vars_filename)\n",
        "  vars_image, vars_transform = rio.mask.mask(vars_raster, gdf_biome.geometry.values, crop = True)\n",
        "\n",
        "  vars_raster_images = show(vars_image, ax = ax2, transform = vars_transform, cmap = \"RdYlGn\")\n",
        "  vars_raster_image = vars_raster_images.get_images()[0]\n",
        "  fig.colorbar(vars_raster_image, ax=ax2, shrink=0.3)\n",
        "\n",
        "  ax2.set_title(\"Variance Isotope Isoscape Band\")\n",
        "  plt.show()"
      ],
      "metadata": {
        "id": "ipGXn_xN2Oin"
      },
      "execution_count": null,
      "outputs": []
    },
    {
      "cell_type": "code",
      "source": [
        "# TODO: Use standard raster dimensions and resolution.\n",
        "atmosphere_isoscape_geotiff = raster.load_raster(raster.get_raster_path(\"brasil_clim_raster.tiff\"))\n",
        "bounds =  raster.get_extent(atmosphere_isoscape_geotiff.gdal_dataset)"
      ],
      "metadata": {
        "id": "LleG8sZhD8BQ"
      },
      "execution_count": null,
      "outputs": []
    },
    {
      "cell_type": "code",
      "source": [
        "means, variances = get_kriging_means_variances(bounds, long, lat, isotope_values, variogram_model=VARIOGRAM_MODEL)"
      ],
      "metadata": {
        "id": "aQQIRXcACwAy"
      },
      "execution_count": null,
      "outputs": []
    },
    {
      "cell_type": "code",
      "source": [
        "out_filename_mean = os.path.join(PROJECT_BASE, OUTPUT_MEANS_ISOSCAPE_PATH)\n",
        "out_filename_var = os.path.join(PROJECT_BASE, OUTPUT_VARS_ISOSCAPE_PATH)\n",
        "\n",
        "means_masked_array = np.ma.masked_array(\n",
        "    np.expand_dims(np.array(means), axis=2), mask=np.isnan(means))\n",
        "variances_masked_array = np.ma.masked_array(\n",
        "    np.expand_dims(np.array(variances), axis=2), mask=np.isnan(variances))\n",
        "\n",
        "raster.save_numpy_to_geotiff(bounds, means_masked_array, out_filename_mean)\n",
        "raster.save_numpy_to_geotiff(bounds, variances_masked_array, out_filename_var)"
      ],
      "metadata": {
        "id": "YxOQyUAUApxH"
      },
      "execution_count": null,
      "outputs": []
    },
    {
      "cell_type": "code",
      "source": [
        "# Load geometry dataset that'll be used to mask isoscape in expected shape.\n",
        "biome_path = os.path.join(PROJECT_BASE, BIOME_PATH)\n",
        "gdf_biome = gpd.read_file(biome_path)"
      ],
      "metadata": {
        "id": "vcMeFUVpHyNN",
        "colab": {
          "base_uri": "https://localhost:8080/"
        },
        "outputId": "0d68a2d4-dba1-48f9-efba-b13e4db02e22"
      },
      "execution_count": null,
      "outputs": [
        {
          "output_type": "stream",
          "name": "stderr",
          "text": [
            "/usr/local/lib/python3.10/dist-packages/geopandas/array.py:93: ShapelyDeprecationWarning: __len__ for multi-part geometries is deprecated and will be removed in Shapely 2.0. Check the length of the `geoms` property instead to get the  number of parts of a multi-part geometry.\n",
            "  aout[:] = out\n"
          ]
        }
      ]
    },
    {
      "cell_type": "code",
      "source": [
        "display_isoscape(out_filename_mean, out_filename_var, gdf_biome)"
      ],
      "metadata": {
        "id": "QXKWM7nQPHDu"
      },
      "execution_count": null,
      "outputs": []
    }
  ]
}