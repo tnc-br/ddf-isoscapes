{
  "cells": [
    {
      "cell_type": "markdown",
      "metadata": {
        "id": "view-in-github",
        "colab_type": "text"
      },
      "source": [
        "<a href=\"https://colab.research.google.com/github/tnc-br/ddf-isoscapes/blob/validation_pipeline_rmse/validation_pipeline.ipynb\" target=\"_parent\"><img src=\"https://colab.research.google.com/assets/colab-badge.svg\" alt=\"Open In Colab\"/></a>"
      ]
    },
    {
      "cell_type": "markdown",
      "metadata": {
        "id": "PHFjYvuU7f_D"
      },
      "source": [
        "# Validation Pipeline"
      ]
    },
    {
      "cell_type": "code",
      "source": [
        "DEBUG = False #@param{type:\"boolean\"}\n",
        "\n",
        "ISOSCAPE_FILENAME = \"uc_davis_d18O_cel_kriging.tiff\" #@param\n",
        "# Used in unit tests (generated from Kriging)\n",
        "TEST_ISOSCAPE_FILENAME = \"test_isoscape.tiff\" #@param\n",
        "\n",
        "TEST_SET_FILENAME = 'uc_davis_2023_08_12_test_random_grouped.csv' #@param\n",
        "# Columns of values to read ground truths from. Invalid values are 'truth'\n",
        "# and 'prediction'.\n",
        "MEAN_TRUTH_NAME = 'd18O_cel_mean' #@param\n",
        "VAR_TRUTH_NAME = 'd18O_cel_variance' #@param\n",
        "# Columns of values to write temporary predictions to (for RMSE calculation).\n",
        "# Invalid values are 'truth' and 'prediction'.\n",
        "MEAN_PREDICTED_NAME = 'd18O_predicted_mean' #@param\n",
        "VAR_PREDICTED_NAME = 'd18O_predicted_variance' #@param\n",
        "\n",
        "# Column name in temporary dataframe (for RMSE calculation) that\n",
        "# will group mean, variance pairs from true mean and variance samples.\n",
        "# It shouldn't collide with column names defined above.\n",
        "assert('truth' not in [TEST_SET_FILENAME, MEAN_TRUTH_NAME, VAR_TRUTH_NAME,\n",
        "                       MEAN_PREDICTED_NAME, VAR_PREDICTED_NAME])\n",
        "# Column name in temporary dataframe (for RMSE calculation) that\n",
        "# will group mean, variance pairs from predicted mean and variance samples.\n",
        "# It shouldn't collide with column names defined above.\n",
        "assert('prediction' not in [TEST_SET_FILENAME, MEAN_TRUTH_NAME, VAR_TRUTH_NAME,\n",
        "                       MEAN_PREDICTED_NAME, VAR_PREDICTED_NAME])"
      ],
      "metadata": {
        "id": "8HWuJSu_5LyN"
      },
      "execution_count": null,
      "outputs": []
    },
    {
      "cell_type": "code",
      "source": [
        "# Access data stored on Google Drive\n",
        "if GDRIVE_BASE:\n",
        "    from google.colab import drive\n",
        "    drive.mount(GDRIVE_BASE)\n",
        "\n",
        "if DEBUG:\n",
        "    %pip install -Uqq ipdb\n",
        "    import ipdb\n",
        "    %pdb on"
      ],
      "metadata": {
        "id": "3JXHUfyWo0R5"
      },
      "execution_count": null,
      "outputs": []
    },
    {
      "cell_type": "markdown",
      "source": [
        "# Import"
      ],
      "metadata": {
        "id": "ChXSNjEJn30d"
      }
    },
    {
      "cell_type": "code",
      "source": [
        "import sys\n",
        "!if [ ! -d \"/content/ddf_common_stub\" ] ; then git clone -b test https://github.com/tnc-br/ddf_common_stub.git; fi\n",
        "sys.path.append(\"/content/ddf_common_stub/\")\n",
        "import ddfimport\n",
        "ddfimport.ddf_source_control_pane()\n",
        "ddfimport.ddf_import_common()"
      ],
      "metadata": {
        "id": "rNaw-yntoBzK"
      },
      "execution_count": null,
      "outputs": []
    },
    {
      "cell_type": "markdown",
      "source": [
        "# Isoscape: Calculate RMSE"
      ],
      "metadata": {
        "id": "2e68ABg9jChp"
      }
    },
    {
      "cell_type": "code",
      "source": [
        "from sklearn.metrics import mean_squared_error"
      ],
      "metadata": {
        "id": "ye2sQhIn2sQ1"
      },
      "execution_count": null,
      "outputs": []
    },
    {
      "cell_type": "code",
      "source": [
        "def calculate_rmse(df, means_isoscape, vars_isoscape, mean_true_name, var_true_name, mean_pred_name, var_pred_name):\n",
        "  '''\n",
        "  Calculates the mean, variance and overall (mean and variance) RMSE of df using\n",
        "  the provided columns mean_true_name, var_true_name, mean_pred_name, var_pred_name\n",
        "  can take any value except 'truth' and 'prediction'\n",
        "  '''\n",
        "  # Make sure names do not collide.\n",
        "  assert(\n",
        "      len([mean_true_name, var_true_name, mean_pred_name, var_pred_name, 'truth', 'prediction']) ==\n",
        "      len(set([mean_true_name, var_true_name, mean_pred_name, var_pred_name, 'truth', 'prediction'])))\n",
        "\n",
        "  df[mean_pred_name] = df.apply(lambda row:get_data_at_coords(means_isoscape, row['long'],row['lat'],-1), axis=1)\n",
        "  df[var_pred_name] = df.apply(lambda row:get_data_at_coords(vars_isoscape, row['long'],row['lat'],-1), axis=1)\n",
        "\n",
        "  print(df.columns)\n",
        "\n",
        "  df['prediction'] = df.apply(lambda row: [row[mean_pred_name], row[var_pred_name]], axis=1)\n",
        "  df['truth'] = df.apply(lambda row: [row[mean_true_name], row[var_true_name]], axis=1)\n",
        "\n",
        "  y_pred = list(df['prediction'].values)\n",
        "  y_true = list(df['truth'].values)\n",
        "\n",
        "  return (mean_squared_error(df[mean_true_name].values, df[mean_pred_name].values, squared=False),\n",
        "         mean_squared_error(df[var_true_name].values, df[var_pred_name].values, squared=False),\n",
        "         mean_squared_error(y_true, y_pred, squared=False))"
      ],
      "metadata": {
        "id": "3oT_Iy4A3sz5"
      },
      "execution_count": null,
      "outputs": []
    },
    {
      "cell_type": "code",
      "source": [
        "import pytest\n",
        "\n",
        "def test_calculate_rmse():\n",
        "  test_means_isoscape = load_raster(get_raster_path(TEST_ISOSCAPE_FILENAME), use_only_band_index=0)\n",
        "  test_vars_isoscape = load_raster(get_raster_path(TEST_ISOSCAPE_FILENAME), use_only_band_index=1)\n",
        "  df = pd.DataFrame({\n",
        "      'lat': [-3, -4],\n",
        "      'long': [-55, -54],\n",
        "      'd18O_cel_mean': [0, 5],\n",
        "      'd18O_cel_var': [1, 0.5]\n",
        "  })\n",
        "  mean_true_name = 'd18O_cel_mean'\n",
        "  var_true_name = 'd18O_cel_var'\n",
        "  mean_pred_name = 'd18O_cel_mean_pred'\n",
        "  var_pred_name = 'd18O_cel_var_pred'\n",
        "  truth_name = 'd18O_cel_truth'\n",
        "  pred_name = 'd18O_cel_pred'\n",
        "\n",
        "  mean_rmse, var_rmse, overall_rmse = calculate_rmse(\n",
        "      df, test_means_isoscape, test_vars_isoscape,\n",
        "      mean_true_name, var_true_name, mean_pred_name, var_pred_name)\n",
        "\n",
        "  assert(mean_rmse == pytest.approx(22.524833655412866))\n",
        "  assert(var_rmse == pytest.approx(11.00233730921582))\n",
        "  assert(overall_rmse == pytest.approx(16.763585482314344))\n",
        "\n",
        "test_calculate_rmse()"
      ],
      "metadata": {
        "id": "I14J29TG9g3w"
      },
      "execution_count": null,
      "outputs": []
    },
    {
      "cell_type": "code",
      "source": [
        "print(get_raster_path(ISOSCAPE_FILENAME))\n",
        "means_isoscape = load_raster(get_raster_path(ISOSCAPE_FILENAME), use_only_band_index=0)\n",
        "vars_isoscape = load_raster(get_raster_path(ISOSCAPE_FILENAME), use_only_band_index=1)"
      ],
      "metadata": {
        "id": "sg8rmx1dcm_n"
      },
      "execution_count": null,
      "outputs": []
    },
    {
      "cell_type": "code",
      "source": [
        "eval_dataset = pd.read_csv(get_sample_db_path(TEST_SET_FILENAME), index_col=0)\n",
        "eval_dataset.head()"
      ],
      "metadata": {
        "id": "zq1W3KchmBws"
      },
      "execution_count": null,
      "outputs": []
    },
    {
      "cell_type": "code",
      "source": [
        "mean_rmse, var_rmse, overall_rmse = calculate_rmse(eval_dataset, means_isoscape, vars_isoscape, MEAN_TRUTH_NAME, VAR_TRUTH_NAME, MEAN_PREDICTED_NAME, VAR_PREDICTED_NAME)"
      ],
      "metadata": {
        "id": "t0hRIUpr2tLd"
      },
      "execution_count": null,
      "outputs": []
    },
    {
      "cell_type": "code",
      "source": [
        "print(\"RMSE of Means:\", mean_rmse)\n",
        "print(\"RMSE of Vars:\", var_rmse)\n",
        "print(\"Overall RMSE:\", overall_rmse)"
      ],
      "metadata": {
        "id": "jZ3_B1bPJAIx"
      },
      "execution_count": null,
      "outputs": []
    },
    {
      "cell_type": "markdown",
      "source": [
        "# TODO: Fraud Detection Hypothesis Test"
      ],
      "metadata": {
        "id": "CMKleGCVidxg"
      }
    }
  ],
  "metadata": {
    "colab": {
      "collapsed_sections": [
        "4qCnFGsvx39s",
        "WlM3FIGXx6F2",
        "vJc7jGf533ag"
      ],
      "private_outputs": true,
      "provenance": [],
      "include_colab_link": true
    },
    "kernelspec": {
      "display_name": "Python 3",
      "name": "python3"
    },
    "language_info": {
      "name": "python"
    }
  },
  "nbformat": 4,
  "nbformat_minor": 0
}