{
  "cells": [
    {
      "cell_type": "markdown",
      "metadata": {
        "id": "view-in-github",
        "colab_type": "text"
      },
      "source": [
        "<a href=\"https://colab.research.google.com/github/tnc-br/ddf-isoscapes/blob/stamp_isoscapes/validation_pipeline.ipynb\" target=\"_parent\"><img src=\"https://colab.research.google.com/assets/colab-badge.svg\" alt=\"Open In Colab\"/></a>"
      ]
    },
    {
      "cell_type": "markdown",
      "metadata": {
        "id": "PHFjYvuU7f_D"
      },
      "source": [
        "# Validation Pipeline"
      ]
    },
    {
      "cell_type": "code",
      "source": [
        "DEBUG = False #@param {type:\"boolean\"}\n",
        "GDRIVE_BASE = \"/content/gdrive\" #@param\n",
        "\n",
        "ISOSCAPE_OXYGEN_MEANS_FILENAME = \"variational/ensemble_with_carbon_brisoisorix/fixed_isorix_carbon_ensemble.tiff\" #@param\n",
        "ISOSCAPE_OXYGEN_VARS_FILENAME = \"variational/ensemble_with_carbon_brisoisorix/fixed_isorix_carbon_ensemble.tiff\" #@param\n",
        "\n",
        "ISOSCAPE_OXYGEN_FOR_COMPARISON = \"canonical/d18O_uc_davis_new_train_fixed_ungrouped_zscore_Brazil_stack.tiff\" #@param\n",
        "\n",
        "ISOSCAPE_CARBON_FILENAME = \"iso_d13C_map_wood_stack.tiff\" #@param\n",
        "ISOSCAPE_NITROGEN_MEANS_FILENAME = \"Raster_Brasil_krig_d15N.tiff\" #@param\n",
        "ISOSCAPE_NITROGEN_VARS_FILENAME = \"Brasil_Raster_Krig_SD_d15N.tiff\" #@param\n",
        "\n",
        "TEST_SET_FILENAME = 'canonical/uc_davis_test_fixed_grouped.csv' #@param\n",
        "ORIGINAL_SET_FILENAME = '2023_06_23_Results_Google.csv' #@param\n",
        "# Columns of values to read ground truths from. Invalid values are 'truth'\n",
        "# and 'prediction'.\n",
        "MEAN_TRUTH_NAME = 'd18O_cel_mean' #@param\n",
        "VAR_TRUTH_NAME = 'd18O_cel_variance' #@param\n",
        "# Columns of values to write temporary predictions to (for RMSE calculation).\n",
        "# Invalid values are 'truth' and 'prediction'.\n",
        "MEAN_PREDICTED_NAME = 'd18O_predicted_mean' #@param\n",
        "VAR_PREDICTED_NAME = 'd18O_predicted_variance' #@param"
      ],
      "metadata": {
        "id": "8HWuJSu_5LyN"
      },
      "execution_count": null,
      "outputs": []
    },
    {
      "cell_type": "code",
      "source": [
        "# Access data stored on Google Drive\n",
        "if GDRIVE_BASE:\n",
        "    from google.colab import drive\n",
        "    drive.mount(GDRIVE_BASE)"
      ],
      "metadata": {
        "id": "3JXHUfyWo0R5"
      },
      "execution_count": null,
      "outputs": []
    },
    {
      "cell_type": "markdown",
      "source": [
        "# Import"
      ],
      "metadata": {
        "id": "ChXSNjEJn30d"
      }
    },
    {
      "cell_type": "code",
      "source": [
        "import sys\n",
        "!if [ ! -d \"/content/ddf_common_stub\" ] ; then git clone -b test https://github.com/tnc-br/ddf_common_stub.git; fi\n",
        "sys.path.append(\"/content/ddf_common_stub/\")\n",
        "import ddfimport\n",
        "# ddfimport.ddf_source_control_pane()\n",
        "ddfimport.ddf_import_common()"
      ],
      "metadata": {
        "id": "rNaw-yntoBzK"
      },
      "execution_count": null,
      "outputs": []
    },
    {
      "cell_type": "code",
      "source": [
        "import importlib\n",
        "import raster\n",
        "import hypothesis\n",
        "import dataset\n",
        "import evaluation\n",
        "importlib.reload(raster)\n",
        "importlib.reload(hypothesis)\n",
        "importlib.reload(dataset)\n",
        "importlib.reload(evaluation)"
      ],
      "metadata": {
        "id": "MXJvPG1EIwEM"
      },
      "execution_count": null,
      "outputs": []
    },
    {
      "cell_type": "markdown",
      "source": [
        "# Isoscape: Calculate RMSE for Oxygen\n",
        "\n"
      ],
      "metadata": {
        "id": "2e68ABg9jChp"
      }
    },
    {
      "cell_type": "code",
      "source": [
        "from sklearn.metrics import mean_squared_error\n",
        "import pandas as pd\n",
        "import random\n",
        "import matplotlib.pyplot as plt\n",
        "from sklearn.metrics import precision_recall_curve\n",
        "from sklearn.metrics import auc\n",
        "import numpy as np\n",
        "from datetime import datetime"
      ],
      "metadata": {
        "id": "ye2sQhIn2sQ1"
      },
      "execution_count": null,
      "outputs": []
    },
    {
      "cell_type": "code",
      "source": [
        "# Required to both import raster and read GDrive files\n",
        "raster.RASTER_BASE = \"/Shared drives/TNC Fellowship 🌳/4. Isotope Research & Signals/code/amazon_rainforest_files/amazon_rasters/\" #@param\n",
        "raster.SAMPLE_DATA_BASE = \"/Shared drives/TNC Fellowship 🌳/4. Isotope Research & Signals/code/amazon_rainforest_files/amazon_sample_data/\" #@param\n",
        "raster.TEST_DATA_BASE = \"/Shared drives/TNC Fellowship 🌳/4. Isotope Research & Signals/code/amazon_rainforest_files/amazon_test_data/\" #@param\n",
        "raster.GDRIVE_BASE = \"/content/gdrive\" #@param"
      ],
      "metadata": {
        "id": "EQ3snfmVEa-O"
      },
      "execution_count": null,
      "outputs": []
    },
    {
      "cell_type": "code",
      "source": [
        "if ISOSCAPE_OXYGEN_MEANS_FILENAME == ISOSCAPE_OXYGEN_VARS_FILENAME:\n",
        "  oxygen_means_isoscape = raster.load_raster(\n",
        "      raster.get_raster_path(ISOSCAPE_OXYGEN_MEANS_FILENAME), use_only_band_index=0)\n",
        "  oxygen_vars_isoscape = raster.load_raster(\n",
        "      raster.get_raster_path(ISOSCAPE_OXYGEN_VARS_FILENAME), use_only_band_index=1)\n",
        "else:\n",
        "  oxygen_means_isoscape = raster.load_raster(\n",
        "    raster.get_raster_path(ISOSCAPE_OXYGEN_MEANS_FILENAME), use_only_band_index=0)\n",
        "  oxygen_vars_isoscape = raster.load_raster(\n",
        "    raster.get_raster_path(ISOSCAPE_OXYGEN_VARS_FILENAME), use_only_band_index=0)"
      ],
      "metadata": {
        "id": "sg8rmx1dcm_n"
      },
      "execution_count": null,
      "outputs": []
    },
    {
      "cell_type": "code",
      "source": [
        "oxygen_means_isoscape_comparison = raster.load_raster(\n",
        "  raster.get_raster_path(ISOSCAPE_OXYGEN_FOR_COMPARISON), use_only_band_index=0)\n",
        "oxygen_vars_isoscape_comparison = raster.load_raster(\n",
        "  raster.get_raster_path(ISOSCAPE_OXYGEN_FOR_COMPARISON), use_only_band_index=1)"
      ],
      "metadata": {
        "id": "Au4IPFccZC67"
      },
      "execution_count": null,
      "outputs": []
    },
    {
      "cell_type": "code",
      "source": [
        "eval_dataset = pd.read_csv(raster.get_sample_db_path(TEST_SET_FILENAME), index_col=0)\n",
        "eval_dataset.head()"
      ],
      "metadata": {
        "id": "zq1W3KchmBws"
      },
      "execution_count": null,
      "outputs": []
    },
    {
      "cell_type": "code",
      "source": [
        "import evaluation"
      ],
      "metadata": {
        "id": "G-7JxTFZ4ZLu"
      },
      "execution_count": null,
      "outputs": []
    },
    {
      "cell_type": "code",
      "source": [
        "def print_rmse(means_isoscape, vars_isoscape, filename_means, filename_vars):\n",
        "  mean_rmse, var_rmse, overall_rmse = evaluation.calculate_rmse(\n",
        "    eval_dataset,\n",
        "    means_isoscape,\n",
        "    vars_isoscape,\n",
        "    MEAN_TRUTH_NAME, VAR_TRUTH_NAME, MEAN_PREDICTED_NAME, VAR_PREDICTED_NAME)\n",
        "  print(\"RMSE of Means for \",str.upper(filename_means),\":\", mean_rmse)\n",
        "  print(\"RMSE of Vars for \",str.upper(filename_vars),\":\", var_rmse)\n",
        "  print(\"Overall RMSE:\", overall_rmse)\n",
        "  print(\"=================================================================\")"
      ],
      "metadata": {
        "id": "K8AU5xSoZIEL"
      },
      "execution_count": null,
      "outputs": []
    },
    {
      "cell_type": "code",
      "source": [
        "print_rmse(oxygen_means_isoscape,oxygen_vars_isoscape,ISOSCAPE_OXYGEN_MEANS_FILENAME,ISOSCAPE_OXYGEN_VARS_FILENAME)\n",
        "print_rmse(oxygen_means_isoscape_comparison,oxygen_vars_isoscape_comparison,ISOSCAPE_OXYGEN_FOR_COMPARISON,ISOSCAPE_OXYGEN_FOR_COMPARISON)"
      ],
      "metadata": {
        "id": "o57jsOTzZsAb"
      },
      "execution_count": null,
      "outputs": []
    },
    {
      "cell_type": "markdown",
      "source": [
        "# Get Predictions"
      ],
      "metadata": {
        "id": "oE0OO2ZTYy-p"
      }
    },
    {
      "cell_type": "code",
      "source": [
        "eval_dataset['fraud'] = False"
      ],
      "metadata": {
        "id": "qdltRqI3f8qP"
      },
      "execution_count": null,
      "outputs": []
    },
    {
      "cell_type": "code",
      "source": [
        "eval_dataset['d18O_cel_count'] = 5"
      ],
      "metadata": {
        "id": "88mCuyRA2tL7"
      },
      "execution_count": null,
      "outputs": []
    },
    {
      "cell_type": "code",
      "source": [
        "inferences_df = hypothesis.get_predictions_grouped(\n",
        "    eval_dataset,\n",
        "    ['d18O_cel_mean'],\n",
        "    ['d18O_cel_variance'],\n",
        "    ['d18O_cel_count'],\n",
        "    [oxygen_means_isoscape],\n",
        "    [oxygen_vars_isoscape], 5)"
      ],
      "metadata": {
        "id": "Irklbly9e0Qs"
      },
      "execution_count": null,
      "outputs": []
    },
    {
      "cell_type": "code",
      "source": [
        "print(inferences_df['d18O_predicted_variance'].mean())\n",
        "print(inferences_df['d18O_predicted_variance'].std())\n",
        "print(inferences_df['d18O_predicted_variance'].max())\n",
        "print(inferences_df['d18O_predicted_variance'].min())"
      ],
      "metadata": {
        "id": "pxL34y5VjQ_z"
      },
      "execution_count": null,
      "outputs": []
    },
    {
      "cell_type": "code",
      "source": [
        "inferences_df.dropna(subset=['d18O_cel_variance', 'd18O_predicted_variance'], inplace=True)\n",
        "\n",
        "mean_squared_error(\n",
        "    inferences_df['d18O_cel_variance'],\n",
        "    inferences_df['d18O_predicted_variance'],\n",
        "    squared=False\n",
        ")"
      ],
      "metadata": {
        "id": "0WkDvizwj-jn"
      },
      "execution_count": null,
      "outputs": []
    },
    {
      "cell_type": "code",
      "source": [
        "inferences_df.to_csv(raster.get_sample_db_path('overall_low_res_inferences.csv'))"
      ],
      "metadata": {
        "id": "u8lp3WAz6GuY"
      },
      "execution_count": null,
      "outputs": []
    },
    {
      "cell_type": "markdown",
      "source": [
        "# Plot isoscapes"
      ],
      "metadata": {
        "id": "-t5OkxEEZHHF"
      }
    },
    {
      "cell_type": "code",
      "source": [
        "def make_subplot(index: int, isoscape: str,title: str):\n",
        " plt.subplot(1, 2, index)\n",
        " plt.title(title, fontsize=7)\n",
        " plt.xlabel(\"Longitude\",fontsize=7)\n",
        " plt.ylabel(\"Latitude\",fontsize=7)\n",
        "\n",
        " if len(isoscape.masked_image.shape) > 2:\n",
        "  raster.plot_band(isoscape,0)\n",
        " else:\n",
        "   raster.plot_band(isoscape,-1)"
      ],
      "metadata": {
        "id": "2NCpiEhb7_h6"
      },
      "execution_count": null,
      "outputs": []
    },
    {
      "cell_type": "code",
      "source": [
        "#Ploting means\n",
        "make_subplot(1, oxygen_means_isoscape,ISOSCAPE_OXYGEN_MEANS_FILENAME)\n",
        "make_subplot(2, oxygen_means_isoscape_comparison,ISOSCAPE_OXYGEN_FOR_COMPARISON)\n",
        "\n",
        "plt.show()"
      ],
      "metadata": {
        "id": "yUsyoLgOae77"
      },
      "execution_count": null,
      "outputs": []
    },
    {
      "cell_type": "code",
      "source": [
        "#Ploting variances\n",
        "make_subplot(1, oxygen_vars_isoscape,ISOSCAPE_OXYGEN_VARS_FILENAME)\n",
        "make_subplot(2, oxygen_vars_isoscape_comparison,ISOSCAPE_OXYGEN_FOR_COMPARISON)\n",
        "\n",
        "plt.show()"
      ],
      "metadata": {
        "id": "WfREj9b4afR6"
      },
      "execution_count": null,
      "outputs": []
    },
    {
      "cell_type": "markdown",
      "source": [
        "# Fraud Detection Hypothesis Test\n",
        "Combines the p values of each element specified below and classifies as fraudulent with the resulting p-value."
      ],
      "metadata": {
        "id": "CMKleGCVidxg"
      }
    },
    {
      "cell_type": "markdown",
      "source": [
        "Creating fraudulent samples"
      ],
      "metadata": {
        "id": "GQ0jXl9dLayE"
      }
    },
    {
      "cell_type": "code",
      "source": [
        "eval_dataset.shape"
      ],
      "metadata": {
        "id": "gIXggQMC_ywE"
      },
      "execution_count": null,
      "outputs": []
    },
    {
      "cell_type": "code",
      "source": [
        "# elements = ['d18O_cel', 'd15N_wood', 'd13C_wood']\n",
        "# isotope_column_names = ['d18O_cel', 'd15N_wood', 'd13C_wood']\n",
        "elements = ['d18O_cel']\n",
        "isotope_column_names = ['d18O_cel']"
      ],
      "metadata": {
        "id": "-CHsCJuw8BF4"
      },
      "execution_count": null,
      "outputs": []
    },
    {
      "cell_type": "code",
      "source": [
        "mean_isoscapes_a = [\n",
        "    oxygen_means_isoscape,\n",
        "    # raster.load_raster(\n",
        "    #     raster.get_raster_path(ISOSCAPE_NITROGEN_MEANS_FILENAME), use_only_band_index=0),\n",
        "    # raster.load_raster(\n",
        "    #     raster.get_raster_path(ISOSCAPE_CARBON_FILENAME), use_only_band_index=0),\n",
        "]\n",
        "vars_isoscapes_a = [\n",
        "    oxygen_vars_isoscape,\n",
        "    # raster.load_raster(\n",
        "    #     raster.get_raster_path(ISOSCAPE_NITROGEN_VARS_FILENAME), use_only_band_index=0),\n",
        "    # raster.load_raster(\n",
        "    #     raster.get_raster_path(ISOSCAPE_CARBON_FILENAME), use_only_band_index=1),\n",
        "]"
      ],
      "metadata": {
        "id": "kPYvzgFkod_6"
      },
      "execution_count": null,
      "outputs": []
    },
    {
      "cell_type": "code",
      "source": [
        "mean_isoscapes_b = [oxygen_means_isoscape_comparison]\n",
        "vars_isoscapes_b = [oxygen_vars_isoscape_comparison]"
      ],
      "metadata": {
        "id": "jtnDo7l1rxS8"
      },
      "execution_count": null,
      "outputs": []
    },
    {
      "cell_type": "code",
      "source": [
        "# Parameters for creation of fraudulent samples.\n",
        "max_trusted_radius = 0.1\n",
        "max_fraud_radius = 30\n",
        "min_fraud_radius = 5"
      ],
      "metadata": {
        "id": "GkNt7k22m5q8"
      },
      "execution_count": null,
      "outputs": []
    },
    {
      "cell_type": "code",
      "source": [
        "real_samples_data = pd.merge(eval_dataset[['Code','lat','long',MEAN_TRUTH_NAME, VAR_TRUTH_NAME]],\n",
        "         pd.read_csv(raster.get_sample_db_path(ORIGINAL_SET_FILENAME), index_col=0), how=\"inner\",\n",
        "                    left_on=['Code', 'lat', 'long'], right_on=['Code', 'lat', 'long'])"
      ],
      "metadata": {
        "id": "0yv2NqBpFccl"
      },
      "execution_count": null,
      "outputs": []
    },
    {
      "cell_type": "markdown",
      "source": [
        "Combine fraudulent and real samples in a Dataframe, identified by 'fraud' column"
      ],
      "metadata": {
        "id": "BvhYcAwvLKzC"
      }
    },
    {
      "cell_type": "code",
      "source": [
        "real = real_samples_data[['Code','lat','long'] + elements]\n",
        "real = real.assign(fraud=False)"
      ],
      "metadata": {
        "id": "5AZ-ReCQLlTO"
      },
      "execution_count": null,
      "outputs": []
    },
    {
      "cell_type": "code",
      "source": [
        "# Precision or Recall target to get p values for. It will\n",
        "# look for the closest target value (may be greater than).\n",
        "# It can't be both, and precision takes precedence\n",
        "precision_target = 0.95 #@param\n",
        "recall_target = None #@param"
      ],
      "metadata": {
        "id": "WpHxY_5rV2er"
      },
      "execution_count": null,
      "outputs": []
    },
    {
      "cell_type": "code",
      "source": [
        "def isoscape_precision_recall_thresholds(\n",
        "    test_dataset: pd.DataFrame,\n",
        "    isotope_column_names: list[str],\n",
        "    means_isoscapes: list[raster.AmazonGeoTiff],\n",
        "    vars_isoscapes: list[raster.AmazonGeoTiff]) -> list[list[float]]:\n",
        "  predictions = hypothesis.get_predictions(\n",
        "    sample_data=test_dataset,\n",
        "    isotope_column_names=isotope_column_names,\n",
        "    means_isoscapes=means_isoscapes,\n",
        "    variances_isoscapes=vars_isoscapes,\n",
        "    sample_size_per_location=5)\n",
        "\n",
        "  predictions.dropna(subset=['fraud', 'fraud_p_value'], inplace=True)\n",
        "\n",
        "  y_true = predictions['fraud']\n",
        "  # Fraud p value is lower the more positive a prediction/label is.\n",
        "  # Inverting it gives us the probability of positive label class (fraud).\n",
        "  y_pred = 1 - predictions['fraud_p_value']\n",
        "\n",
        "  return precision_recall_curve(y_true, y_pred)"
      ],
      "metadata": {
        "id": "_g9ahpw9K-a5"
      },
      "execution_count": null,
      "outputs": []
    },
    {
      "cell_type": "code",
      "source": [
        "def plot_isoscape_precision_recall(\n",
        "    precision: list[float],\n",
        "    recall: list[float],\n",
        "    label: str):\n",
        "  plt.plot(recall, precision, label=label)\n",
        "  plt.xlabel(\"Recall\")\n",
        "  plt.ylabel(\"Precision\")\n",
        "  plt.title(f\"Precision-Recall curve with Max Fraud Radius of {radius} km\")\n",
        "  plt.legend()"
      ],
      "metadata": {
        "id": "xKlw5wsyuN4n"
      },
      "execution_count": null,
      "outputs": []
    },
    {
      "cell_type": "code",
      "source": [
        "def find_p_value(\n",
        "    precision: list[float],\n",
        "    recall: list[float],\n",
        "    thresholds: list[float],\n",
        "    precision_target: float,\n",
        "    recall_target: float) -> list[float]:\n",
        "  assert(precision_target or recall_target)\n",
        "  if precision_target:\n",
        "    target_pos = np.argwhere(precision[:-1] >= precision_target)\n",
        "  else:\n",
        "    target_pos = np.argwhere(recall[:-1] >= recall_target)\n",
        "  # No precision/recall is greater than or equal to the target\n",
        "  if len(target_pos) < 1:\n",
        "    if precision_target:\n",
        "      target_pos = [[np.argmax(precision[:-1])]]\n",
        "    else:\n",
        "      target_pos = [[np.argmax(recall[:-1])]]\n",
        "\n",
        "  precision_target_found = precision[:-1][target_pos[0]]\n",
        "  precisions_target_found[radius] = precision_target_found[0]\n",
        "  recall_target_found = recall[:-1][target_pos[0]]\n",
        "  recalls_target_found[radius] = recall_target_found[0]\n",
        "  p_value_found = (1-thresholds)[target_pos[0]]\n",
        "  p_values_found[radius] = p_value_found[0]\n",
        "\n",
        "  return precision_target_found, recall_target_found, p_value_found"
      ],
      "metadata": {
        "id": "-EOJnI0p3bzK"
      },
      "execution_count": null,
      "outputs": []
    },
    {
      "cell_type": "code",
      "source": [
        "##Parameters in order to the system that detects fraud\n",
        "## at a min radius between min_radius to max_radius.\n",
        "min_radius = 100 #@param\n",
        "max_radius = 3000 #@param\n",
        "radius_pace = 100 #@param\n",
        "\n",
        "fake_samples = {}\n",
        "for max_fraud_radius in range(min_radius, max_radius+1, radius_pace):\n",
        "  fake_samples[max_fraud_radius] = dataset.create_fraudulent_samples(\n",
        "      real_samples_data, mean_isoscapes_a, elements, max_trusted_radius, max_fraud_radius, min_fraud_radius\n",
        "  )"
      ],
      "metadata": {
        "id": "Ir9hzuam6-Wv"
      },
      "execution_count": null,
      "outputs": []
    },
    {
      "cell_type": "code",
      "source": [
        "auc_scores_a = {}\n",
        "auc_scores_b = {}\n",
        "\n",
        "p_values_found = {}\n",
        "precisions_target_found = {}\n",
        "recalls_target_found ={}\n",
        "\n",
        "for radius, fake_sample in fake_samples.items():\n",
        "  test_dataset = real.append(fake_sample, ignore_index=True)\n",
        "  test_dataset = dataset.nudge_invalid_coords(\n",
        "      df=test_dataset,\n",
        "      rasters=mean_isoscapes_a + mean_isoscapes_b + vars_isoscapes_a + vars_isoscapes_b\n",
        "  )\n",
        "\n",
        "  precision_a, recall_a, thresholds_a = isoscape_precision_recall_thresholds(\n",
        "      test_dataset=test_dataset,\n",
        "      isotope_column_names=isotope_column_names,\n",
        "      means_isoscapes=mean_isoscapes_a,\n",
        "      vars_isoscapes=vars_isoscapes_a\n",
        "  )\n",
        "  plot_isoscape_precision_recall(precision=precision_a, recall=recall_a,\n",
        "                                 label='model1')\n",
        "\n",
        "  auc_score_a = auc(recall_a, precision_a)\n",
        "  print(\"AUC score:\", auc_score_a)\n",
        "  auc_scores_a[radius] = auc_score_a\n",
        "\n",
        "  precision_b, recall_b, thresholds_b = isoscape_precision_recall_thresholds(\n",
        "      test_dataset=test_dataset,\n",
        "      isotope_column_names=isotope_column_names,\n",
        "      means_isoscapes=mean_isoscapes_b,\n",
        "      vars_isoscapes=vars_isoscapes_b\n",
        "  )\n",
        "  plot_isoscape_precision_recall(precision=precision_b, recall=recall_b,\n",
        "                                 label='model2')\n",
        "\n",
        "  plt.show()\n",
        "\n",
        "  auc_score_b = auc(recall_b, precision_b)\n",
        "  print(\"AUC score:\", auc_score_b)\n",
        "  auc_scores_b[radius] = auc_score_b\n",
        "\n",
        "  precision_target_found_a, recall_target_found_a, p_value_found_a = find_p_value(\n",
        "      precision=precision_a,\n",
        "      recall=recall_a,\n",
        "      thresholds=thresholds_a,\n",
        "      precision_target=precision_target,\n",
        "      recall_target=recall_target\n",
        "  )\n",
        "  print(\"=============== RADIUS\", radius, \"km ===============\")\n",
        "  print(\"Considering precision =\", precision_target_found_a,\"p_value is\",p_value_found_a)\n",
        "  print(\"Considering recall =\", recall_target_found_a,\"p_value is\", p_value_found_a)\n",
        "\n",
        "  p_values_found[radius] = p_value_found_a\n",
        "  precisions_target_found[radius] = precision_target_found_a\n",
        "  recalls_target_found[radius] = recall_target_found_a\n",
        "\n",
        "  precision_target_found_b, recall_target_found_b, p_value_found_b = find_p_value(\n",
        "      precision=precision_b,\n",
        "      recall=recall_b,\n",
        "      thresholds=thresholds_b,\n",
        "      precision_target=precision_target,\n",
        "      recall_target=recall_target\n",
        "  )\n",
        "  print(\"=============== RADIUS\", radius, \"km ===============\")\n",
        "  print(\"Considering precision =\", precision_target_found_b,\"p_value is\",p_value_found_b)\n",
        "  print(\"Considering recall =\", recall_target_found_b,\"p_value is\", p_value_found_b)"
      ],
      "metadata": {
        "id": "eRCrr_PZZCwy"
      },
      "execution_count": null,
      "outputs": []
    },
    {
      "cell_type": "code",
      "source": [
        "plt.plot(auc_scores_a.keys(), auc_scores_a.values(), label='model1')\n",
        "plt.plot(auc_scores_b.keys(), auc_scores_b.values(), label='model2')\n",
        "plt.xlabel(\"Max radius of fraudulent samples\")\n",
        "plt.ylabel(\"AUC of PR\")\n",
        "plt.legend()\n",
        "plt.show()"
      ],
      "metadata": {
        "id": "RBZYDP0Ge8r3"
      },
      "execution_count": null,
      "outputs": []
    },
    {
      "cell_type": "markdown",
      "source": [
        "#Stamping isoscape"
      ],
      "metadata": {
        "id": "53ZFWxI1dwgh"
      }
    },
    {
      "cell_type": "code",
      "source": [
        "def stamp(filename:str, auc_scores, p_values_found, precisions_target_found, recalls_target_found):\n",
        "  \"\"\"\n",
        "    Stamping isoscapes:\n",
        "    1. p-value threshold where precision = 95% (considered the last radius in the loop to stamp)\n",
        "    2. the recall at that level\n",
        "    3. the AUC\n",
        "    4. the parameters used for validation (% fraud and radius)\n",
        "    5. the date.time of validation\n",
        "    Input:\n",
        "      filename : str\n",
        "      GeoTIFF filename (with the full path) of the isoscape to be stamped\n",
        "      e.g: /content/gdrive/Shared drives/TNC Fellowship 🌳/4. Isotope Research & Signals/code/amazon_rainforest_files/amazon_rasters/variational/ensemble_with_carbon_brisoisorix/fixed_isorix_carbon_ensemble.tiff\n",
        "  \"\"\"\n",
        "\n",
        "  for radius in auc_scores.keys():\n",
        "\n",
        "    #p-value threshold where precision = precision_target_found\n",
        "    metadata_name = \"P_VALUE_THRESHOLD_\"+str(radius)\n",
        "    metadata_value = p_values_found[radius]\n",
        "    raster.stamp_isoscape(filename, metadata_name, metadata_value)\n",
        "\n",
        "    metadata_name = \"PRECISION_\"+str(radius)\n",
        "    metadata_value = precisions_target_found[radius]\n",
        "    raster.stamp_isoscape(filename, metadata_name, metadata_value)\n",
        "\n",
        "    #The recall at that level\n",
        "    metadata_name = \"RECALL_\"+str(radius)\n",
        "    metadata_value = recalls_target_found[radius]\n",
        "    raster.stamp_isoscape(filename, metadata_name, metadata_value)\n",
        "\n",
        "    #The AUC\n",
        "    metadata_name = \"AUC_\"+str(radius)\n",
        "    metadata_value = auc_scores[radius]\n",
        "    raster.stamp_isoscape(filename, metadata_name, metadata_value)\n",
        "\n",
        "  #The date/time of validation\n",
        "  now = datetime.now()\n",
        "  dt_string = now.strftime(\"%m/%d/%Y %H:%M:%S\")\n",
        "  metadata_name = \"DATE_TIME\"\n",
        "  metadata_value = dt_string\n",
        "  raster.stamp_isoscape(filename, metadata_name, metadata_value)"
      ],
      "metadata": {
        "id": "2vc1QD-2nVJp"
      },
      "execution_count": null,
      "outputs": []
    },
    {
      "cell_type": "code",
      "source": [
        "#Stamping Oxygen Isoscape\n",
        "filename = raster.GDRIVE_BASE+raster.RASTER_BASE+ISOSCAPE_OXYGEN_MEANS_FILENAME\n",
        "stamp(filename,auc_scores_a, p_values_found, precisions_target_found, recalls_target_found)\n",
        "raster.show_stamps(filename)"
      ],
      "metadata": {
        "id": "SHQ_Zciddy-0"
      },
      "execution_count": null,
      "outputs": []
    },
    {
      "cell_type": "code",
      "source": [
        "if ISOSCAPE_OXYGEN_MEANS_FILENAME != ISOSCAPE_OXYGEN_VARS_FILENAME:\n",
        "  filename_var = raster.GDRIVE_BASE+raster.RASTER_BASE+ISOSCAPE_OXYGEN_VARS_FILENAME\n",
        "  stamp(filename_var,auc_scores_a, p_values_found, precisions_target_found, recalls_target_found)\n",
        "  print(raster.show_stamps(filename_var))"
      ],
      "metadata": {
        "id": "0bD_SuVLr6DP"
      },
      "execution_count": null,
      "outputs": []
    }
  ],
  "metadata": {
    "colab": {
      "collapsed_sections": [
        "4qCnFGsvx39s",
        "WlM3FIGXx6F2",
        "vJc7jGf533ag"
      ],
      "private_outputs": true,
      "provenance": [],
      "include_colab_link": true
    },
    "kernelspec": {
      "display_name": "Python 3",
      "name": "python3"
    },
    "language_info": {
      "name": "python"
    }
  },
  "nbformat": 4,
  "nbformat_minor": 0
}