{
  "nbformat": 4,
  "nbformat_minor": 0,
  "metadata": {
    "colab": {
      "provenance": [],
      "include_colab_link": true
    },
    "kernelspec": {
      "name": "python3",
      "display_name": "Python 3"
    },
    "language_info": {
      "name": "python"
    }
  },
  "cells": [
    {
      "cell_type": "markdown",
      "metadata": {
        "id": "view-in-github",
        "colab_type": "text"
      },
      "source": [
        "<a href=\"https://colab.research.google.com/github/tnc-br/ddf-isoscapes/blob/furthest_points_test/data_ingestion.ipynb\" target=\"_parent\"><img src=\"https://colab.research.google.com/assets/colab-badge.svg\" alt=\"Open In Colab\"/></a>"
      ]
    },
    {
      "cell_type": "markdown",
      "source": [
        "# Data Ingestion"
      ],
      "metadata": {
        "id": "FrM0-qSAGbC7"
      }
    },
    {
      "cell_type": "code",
      "source": [
        "#@title Imports and modules.\n",
        "%pip install opencv-python\n",
        "%pip install matplotlib\n",
        "%pip install pandas\n",
        "\n",
        "from osgeo import gdal, gdal_array\n",
        "import numpy as np\n",
        "import matplotlib.pyplot as plt\n",
        "from dataclasses import dataclass\n",
        "import matplotlib.animation as animation\n",
        "from matplotlib import rc\n",
        "from typing import List\n",
        "from numpy.random import MT19937, RandomState, SeedSequence\n",
        "import pandas as pd\n",
        "from tqdm import tqdm\n",
        "from io import StringIO\n",
        "import xgboost as xgb\n",
        "import os\n",
        "import math\n",
        "import glob\n",
        "\n",
        "rc('animation', html='jshtml')\n",
        "\n",
        "import sys\n",
        "!if [ ! -d \"/content/ddf_common_stub\" ] ; then git clone -b test https://github.com/tnc-br/ddf_common_stub.git; fi\n",
        "sys.path.append(\"/content/ddf_common_stub/\")\n",
        "import ddfimport\n",
        "# ddfimport.ddf_source_control_pane()\n",
        "ddfimport.ddf_import_common()\n",
        "\n",
        "import dataset\n",
        "import raster"
      ],
      "metadata": {
        "id": "n_kIR1epXirP"
      },
      "execution_count": null,
      "outputs": []
    },
    {
      "cell_type": "markdown",
      "source": [
        "## Load dataset"
      ],
      "metadata": {
        "id": "es3lK6jEJxxi"
      }
    },
    {
      "cell_type": "markdown",
      "source": [
        "Please select the source of your data to process. Only SAMPLE_CSV_PATH will be used if SAMPLE_SOURCE is set to \"GOOGLE DRIVE\":"
      ],
      "metadata": {
        "id": "7twZEM5fCSJK"
      }
    },
    {
      "cell_type": "code",
      "source": [
        "import ipywidgets as widgets\n",
        "\n",
        "SAMPLE_SOURCE = \"TIMBERID\" #@param [\"TIMBERID\", \"GOOGLE DRIVE\"]\n",
        "SAMPLE_CSV_PATH = \"2023_06_23_Results_Google.csv\" #@param\n",
        "\n",
        "if SAMPLE_SOURCE == \"TIMBERID\":\n",
        "  df = dataset.load_reference_samples()\n",
        "elif SAMPLE_SOURCE == \"GOOGLE DRIVE\":\n",
        "  df = pd.read_csv(raster.get_sample_db_path(SAMPLE_CSV_PATH), encoding=\"ISO-8859-1\", sep=',')\n",
        "\n",
        "data = df.columns\n",
        "checkboxes = [widgets.Checkbox(value=False, description=label) for label in data]\n",
        "output = widgets.VBox(children=checkboxes)\n",
        "print(\"Select the features for your model:\")\n",
        "display(output)"
      ],
      "metadata": {
        "cellView": "form",
        "id": "PlKLE9g5B2WH"
      },
      "execution_count": null,
      "outputs": []
    },
    {
      "cell_type": "code",
      "source": [
        "# @title\n",
        "selected_data = []\n",
        "for i in range(0, len(checkboxes)):\n",
        "    if checkboxes[i].value == True:\n",
        "        selected_data = selected_data + [checkboxes[i].description]\n",
        "print(\"Selected features: \", selected_data)\n",
        "FEATURE_COLUMNS = selected_data\n",
        "\n",
        "data = df.columns\n",
        "checkboxes = [widgets.Checkbox(value=False, description=label) for label in data]\n",
        "output = widgets.VBox(children=checkboxes)\n",
        "print(\"Select the labels of your model:\")\n",
        "display(output)"
      ],
      "metadata": {
        "cellView": "form",
        "id": "-nsDNMtHD6yf"
      },
      "execution_count": null,
      "outputs": []
    },
    {
      "cell_type": "markdown",
      "source": [
        "Run the following cell to finalize selecting labels:"
      ],
      "metadata": {
        "id": "ZufVlRl1HPvQ"
      }
    },
    {
      "cell_type": "code",
      "source": [
        "# @title\n",
        "selected_data = []\n",
        "for i in range(0, len(checkboxes)):\n",
        "    if checkboxes[i].value == True:\n",
        "        assert(checkboxes[i].description not in FEATURE_COLUMNS)\n",
        "        selected_data = selected_data + [checkboxes[i].description]\n",
        "print(\"Selected labels: \", selected_data)\n",
        "LABEL_COLUMNS = selected_data"
      ],
      "metadata": {
        "cellView": "form",
        "id": "3EhJEAHnCWv9"
      },
      "execution_count": null,
      "outputs": []
    },
    {
      "cell_type": "markdown",
      "source": [
        "## Partition Data\n",
        "\n",
        "Based on the columns available, you'll select the keys by which we'll split your data into training, validation and test splits. This will make sure that there's a single group of measurements in either of the splits, and not an incomplete unit across many partitions.\n",
        "\n",
        "PARTITION_STRATEGY: The columns that will be used to group the dataset to calculate means and variance on LABEL_COLUMNS. Values can be\n",
        "- FIXED\n",
        "- RANDOM"
      ],
      "metadata": {
        "id": "d66Eth4ZHzz6"
      }
    },
    {
      "cell_type": "code",
      "source": [
        "# @title\n",
        "PARTITION_STRATEGY = \"FIXED\" #@param [\"FIXED\", \"RANDOM\"] {allow-input:true}\n",
        "\n",
        "data = FEATURE_COLUMNS\n",
        "checkboxes = [widgets.Checkbox(value=False, description=label) for label in data]\n",
        "output = widgets.VBox(children=checkboxes)\n",
        "print(\"Select the columns to group samples with for partitions:\")\n",
        "display(output)"
      ],
      "metadata": {
        "id": "ZvBKf_9hGM36"
      },
      "execution_count": null,
      "outputs": []
    },
    {
      "cell_type": "markdown",
      "source": [
        "KEEP_GROUPING: If True, the rows will remain unique GROUPING_COLUMNS values. Otherwise\n",
        "we merge the grouping columns aggregates with the original dataset."
      ],
      "metadata": {
        "id": "KA4Rq88XJWMa"
      }
    },
    {
      "cell_type": "code",
      "source": [
        "selected_data = []\n",
        "for i in range(0, len(checkboxes)):\n",
        "    if checkboxes[i].value == True:\n",
        "        selected_data = selected_data + [checkboxes[i].description]\n",
        "print(\"Selected grouping columns: \", selected_data)\n",
        "GROUPING_COLUMNS = selected_data\n",
        "\n",
        "KEEP_GROUPING = True #@param"
      ],
      "metadata": {
        "id": "Us2-lRsEUBru",
        "cellView": "form"
      },
      "execution_count": null,
      "outputs": []
    },
    {
      "cell_type": "code",
      "source": [
        "# @title\n",
        "print(\"This is the configuration you have chosen for pre-processing and partitioning data.\\n\"\n",
        "      \"Re-run the previous steps again if needed.\\n\\n\")\n",
        "print(\"PARTITION_STRATGY: \", PARTITION_STRATEGY)\n",
        "print(\"KEEP_GROUPING: \", KEEP_GROUPING)\n",
        "print(\"FEATURE_COLUMNS: \", FEATURE_COLUMNS)\n",
        "print(\"LABEL_COLUMNS: \", LABEL_COLUMNS)\n",
        "print(\"GROUPING_COLUMNS: \", GROUPING_COLUMNS)\n",
        "print(\"KEEP_GROUPING: \", KEEP_GROUPING)"
      ],
      "metadata": {
        "id": "_ATnMhltLiLm",
        "cellView": "form"
      },
      "execution_count": null,
      "outputs": []
    },
    {
      "cell_type": "markdown",
      "source": [
        "## Pre-Process and Split Data"
      ],
      "metadata": {
        "id": "TuoHc5wfMsgV"
      }
    },
    {
      "cell_type": "code",
      "source": [
        "import partitioned_dataset"
      ],
      "metadata": {
        "id": "L81QtWKV6wPC"
      },
      "execution_count": null,
      "outputs": []
    },
    {
      "cell_type": "code",
      "source": [
        "import dataset"
      ],
      "metadata": {
        "id": "xCpPkFTV8H17"
      },
      "execution_count": null,
      "outputs": []
    },
    {
      "cell_type": "code",
      "source": [
        "import importlib\n",
        "importlib.reload(dataset)\n",
        "importlib.reload(partitioned_dataset)\n",
        "import dataset\n",
        "import partitioned_dataset"
      ],
      "metadata": {
        "id": "YFrWLFIF6jed"
      },
      "execution_count": null,
      "outputs": []
    },
    {
      "cell_type": "code",
      "source": [
        "from partitioned_dataset import PartitionStrategy"
      ],
      "metadata": {
        "id": "0gq4S8TJ64I-"
      },
      "execution_count": null,
      "outputs": []
    },
    {
      "cell_type": "code",
      "source": [
        "# @title Run this cell to pre-process and split data\n",
        "\n",
        "for column in LABEL_COLUMNS:\n",
        "  df[column] = df[column].astype(float)\n",
        "\n",
        "sample_data = dataset.preprocess_sample_data(df, FEATURE_COLUMNS, LABEL_COLUMNS, GROUPING_COLUMNS, KEEP_GROUPING)\n",
        "\n",
        "resulting_dataset = None\n",
        "if PARTITION_STRATEGY == \"FIXED\":\n",
        "  resulting_dataset = partitioned_dataset.partition(sample_data, PartitionStrategy.FIXED)\n",
        "elif PARTITION_STRATEGY == \"RANDOM\":\n",
        "  resulting_dataset = partitioned_dataset.partition(sample_data, PartitionStrategy.RANDOM)\n",
        "else:\n",
        "  raise ValueError(f\"Unknown partition strategy: {PARTITION_STRATEGY}\")\n",
        "\n",
        "train_data = resulting_dataset.train\n",
        "validation_data = resulting_dataset.validation\n",
        "test_data = resulting_dataset.test"
      ],
      "metadata": {
        "id": "fnBXzjLYDC35"
      },
      "execution_count": null,
      "outputs": []
    },
    {
      "cell_type": "markdown",
      "source": [
        "\n",
        "## (Optional) Visualize data"
      ],
      "metadata": {
        "id": "s1RWPmocPYAc"
      }
    },
    {
      "cell_type": "code",
      "source": [
        "# @title Run this cell to visualize your partitioned data.\n",
        "print(\"Rows in training set:\", train_data.shape[0])\n",
        "print(\"Rows in validation set: \", validation_data.shape[0])\n",
        "print(\"Rows in test set:\", test_data.shape[0])\n",
        "\n",
        "# Optional (plot splits)\n",
        "import matplotlib\n",
        "import matplotlib.pyplot as plt\n",
        "\n",
        "plt.scatter(train_data[\"lat\"], train_data[\"long\"], label=\"train\", alpha=0.2)\n",
        "plt.scatter(validation_data[\"lat\"], validation_data[\"long\"], label=\"validation\", alpha=0.2)\n",
        "plt.scatter(test_data[\"lat\"], test_data[\"long\"], label=\"test\", alpha=0.2)\n",
        "plt.xlabel('Lattitude')\n",
        "plt.ylabel('Longitude')\n",
        "plt.legend()\n",
        "plt.show()"
      ],
      "metadata": {
        "id": "ZoWixaV5hPXv"
      },
      "execution_count": null,
      "outputs": []
    },
    {
      "cell_type": "markdown",
      "source": [
        "## Export processed dataset"
      ],
      "metadata": {
        "id": "PS6Ke_0AKyIf"
      }
    },
    {
      "cell_type": "code",
      "source": [
        "OUTPUT_DATASET_NAME=\"new_davis_furthest_points_5\" #@param\n",
        "OUTPUT_DATASET_ROOT = \"\" #@param\n",
        "GROUPING_STR = \"grouped\" if KEEP_GROUPING else \"ungrouped\"\n",
        "\n",
        "OUTPUT_TRAIN_CSV_PATH = f\"{OUTPUT_DATASET_ROOT}{OUTPUT_DATASET_NAME}_train_{PARTITION_STRATEGY.lower()}_{GROUPING_STR}.csv\"\n",
        "OUTPUT_VALIDATION_CSV_PATH = f\"{OUTPUT_DATASET_ROOT}{OUTPUT_DATASET_NAME}_validation_{PARTITION_STRATEGY.lower()}_{GROUPING_STR}.csv\"\n",
        "OUTPUT_TEST_CSV_PATH = f\"{OUTPUT_DATASET_ROOT}{OUTPUT_DATASET_NAME}_test_{PARTITION_STRATEGY.lower()}_{GROUPING_STR}.csv\"\n",
        "\n",
        "print(\"OUTPUT_TRAIN_CSV_PATH: \", raster.get_sample_db_path(\n",
        "    OUTPUT_TRAIN_CSV_PATH))\n",
        "print(\"OUTPUT_VALIDATION_CSV_PATH: \", raster.get_sample_db_path(\n",
        "    OUTPUT_VALIDATION_CSV_PATH))\n",
        "print(\"OUTPUT_TEST_CSV_PATH: \", raster.get_sample_db_path(\n",
        "    OUTPUT_TEST_CSV_PATH))\n",
        "\n",
        "train_data.to_csv(raster.get_sample_db_path(OUTPUT_TRAIN_CSV_PATH))\n",
        "validation_data.to_csv(raster.get_sample_db_path(OUTPUT_VALIDATION_CSV_PATH))\n",
        "test_data.to_csv(raster.get_sample_db_path(OUTPUT_TEST_CSV_PATH))"
      ],
      "metadata": {
        "id": "f4vBnCNRwc9F",
        "cellView": "form"
      },
      "execution_count": null,
      "outputs": []
    }
  ]
}