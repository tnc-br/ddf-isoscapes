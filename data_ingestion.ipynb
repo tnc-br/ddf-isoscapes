{
  "nbformat": 4,
  "nbformat_minor": 0,
  "metadata": {
    "colab": {
      "provenance": [],
      "include_colab_link": true
    },
    "kernelspec": {
      "name": "python3",
      "display_name": "Python 3"
    },
    "language_info": {
      "name": "python"
    }
  },
  "cells": [
    {
      "cell_type": "markdown",
      "metadata": {
        "id": "view-in-github",
        "colab_type": "text"
      },
      "source": [
        "<a href=\"https://colab.research.google.com/github/tnc-br/ddf-isoscapes/blob/raster_cache/data_ingestion.ipynb\" target=\"_parent\"><img src=\"https://colab.research.google.com/assets/colab-badge.svg\" alt=\"Open In Colab\"/></a>"
      ]
    },
    {
      "cell_type": "markdown",
      "source": [
        "# Data Ingestion"
      ],
      "metadata": {
        "id": "FrM0-qSAGbC7"
      }
    },
    {
      "cell_type": "code",
      "source": [
        "#@title Imports and modules.\n",
        "%pip install opencv-python\n",
        "%pip install matplotlib\n",
        "%pip install pandas\n",
        "\n",
        "from osgeo import gdal, gdal_array\n",
        "import numpy as np\n",
        "import matplotlib.pyplot as plt\n",
        "from dataclasses import dataclass\n",
        "import matplotlib.animation as animation\n",
        "from matplotlib import rc\n",
        "from typing import List\n",
        "from numpy.random import MT19937, RandomState, SeedSequence\n",
        "import pandas as pd\n",
        "from tqdm import tqdm\n",
        "from io import StringIO\n",
        "import xgboost as xgb\n",
        "import os\n",
        "import math\n",
        "import glob\n",
        "\n",
        "rc('animation', html='jshtml')\n",
        "\n",
        "import sys\n",
        "!if [ ! -d \"/content/ddf_common_stub\" ] ; then git clone -b test https://github.com/tnc-br/ddf_common_stub.git; fi\n",
        "sys.path.append(\"/content/ddf_common_stub/\")\n",
        "import ddfimport\n",
        "# ddfimport.ddf_source_control_pane()\n",
        "ddfimport.ddf_import_common()\n",
        "\n",
        "import dataset\n",
        "import raster"
      ],
      "metadata": {
        "id": "n_kIR1epXirP",
        "cellView": "form",
        "outputId": "66f5a561-12b5-4351-9b4d-287a7f06d531",
        "colab": {
          "base_uri": "https://localhost:8080/"
        }
      },
      "execution_count": 1,
      "outputs": [
        {
          "output_type": "stream",
          "name": "stdout",
          "text": [
            "Requirement already satisfied: opencv-python in /usr/local/lib/python3.10/dist-packages (4.8.0.76)\n",
            "Requirement already satisfied: numpy>=1.21.2 in /usr/local/lib/python3.10/dist-packages (from opencv-python) (1.23.5)\n",
            "Requirement already satisfied: matplotlib in /usr/local/lib/python3.10/dist-packages (3.7.1)\n",
            "Requirement already satisfied: contourpy>=1.0.1 in /usr/local/lib/python3.10/dist-packages (from matplotlib) (1.1.1)\n",
            "Requirement already satisfied: cycler>=0.10 in /usr/local/lib/python3.10/dist-packages (from matplotlib) (0.12.1)\n",
            "Requirement already satisfied: fonttools>=4.22.0 in /usr/local/lib/python3.10/dist-packages (from matplotlib) (4.43.1)\n",
            "Requirement already satisfied: kiwisolver>=1.0.1 in /usr/local/lib/python3.10/dist-packages (from matplotlib) (1.4.5)\n",
            "Requirement already satisfied: numpy>=1.20 in /usr/local/lib/python3.10/dist-packages (from matplotlib) (1.23.5)\n",
            "Requirement already satisfied: packaging>=20.0 in /usr/local/lib/python3.10/dist-packages (from matplotlib) (23.2)\n",
            "Requirement already satisfied: pillow>=6.2.0 in /usr/local/lib/python3.10/dist-packages (from matplotlib) (9.4.0)\n",
            "Requirement already satisfied: pyparsing>=2.3.1 in /usr/local/lib/python3.10/dist-packages (from matplotlib) (3.1.1)\n",
            "Requirement already satisfied: python-dateutil>=2.7 in /usr/local/lib/python3.10/dist-packages (from matplotlib) (2.8.2)\n",
            "Requirement already satisfied: six>=1.5 in /usr/local/lib/python3.10/dist-packages (from python-dateutil>=2.7->matplotlib) (1.16.0)\n",
            "Requirement already satisfied: pandas in /usr/local/lib/python3.10/dist-packages (1.5.3)\n",
            "Requirement already satisfied: python-dateutil>=2.8.1 in /usr/local/lib/python3.10/dist-packages (from pandas) (2.8.2)\n",
            "Requirement already satisfied: pytz>=2020.1 in /usr/local/lib/python3.10/dist-packages (from pandas) (2023.3.post1)\n",
            "Requirement already satisfied: numpy>=1.21.0 in /usr/local/lib/python3.10/dist-packages (from pandas) (1.23.5)\n",
            "Requirement already satisfied: six>=1.5 in /usr/local/lib/python3.10/dist-packages (from python-dateutil>=2.8.1->pandas) (1.16.0)\n",
            "Cloning into 'ddf_common_stub'...\n",
            "remote: Enumerating objects: 18, done.\u001b[K\n",
            "remote: Counting objects: 100% (18/18), done.\u001b[K\n",
            "remote: Compressing objects: 100% (18/18), done.\u001b[K\n",
            "remote: Total 18 (delta 7), reused 0 (delta 0), pack-reused 0\u001b[K\n",
            "Receiving objects: 100% (18/18), 7.36 KiB | 1.47 MiB/s, done.\n",
            "Resolving deltas: 100% (7/7), done.\n",
            "executing checkout_branch ...\n",
            "b''\n",
            "main branch checked out as readonly. You may now use ddf_common imports\n"
          ]
        }
      ]
    },
    {
      "cell_type": "markdown",
      "source": [
        "## Load dataset"
      ],
      "metadata": {
        "id": "es3lK6jEJxxi"
      }
    },
    {
      "cell_type": "markdown",
      "source": [
        "Please select the source of your data to process. Only SAMPLE_CSV_PATH will be used if SAMPLE_SOURCE is set to \"GOOGLE DRIVE\":"
      ],
      "metadata": {
        "id": "7twZEM5fCSJK"
      }
    },
    {
      "cell_type": "code",
      "source": [
        "import ipywidgets as widgets\n",
        "\n",
        "#@markdown ## Data Source\n",
        "\n",
        "SAMPLE_SOURCE = \"GOOGLE DRIVE\" #@param [\"TIMBERID\", \"GOOGLE DRIVE\"]\n",
        "\n",
        "#@markdown For TIMERBID SAMPLE_SOURCE only\n",
        "ORG_NAME = \"google\" #@param [\"google\", \"USP\"]\n",
        "TEST_ENVIRONMENT = True #@param {type:\"boolean\"}\n",
        "#@markdown For GOOGLE DRIVE SAMPLE_SOURCE only\n",
        "SAMPLE_CSV_PATH = \"canonical/2023_07_27_Results_google_relabeled.csv\" #@param\n",
        "SHARED_DRIVE = True #@param {type:\"boolean\"}\n",
        "\n",
        "if SAMPLE_SOURCE == \"TIMBERID\":\n",
        "  df = dataset.load_reference_samples(org_name=ORG_NAME,\n",
        "                                      filters=[],\n",
        "                                      test_environment=TEST_ENVIRONMENT)\n",
        "elif SAMPLE_SOURCE == \"GOOGLE DRIVE\":\n",
        "  raster.mount_gdrive()\n",
        "  if SHARED_DRIVE:\n",
        "    df = pd.read_csv(\n",
        "        os.path.join(\"/content/gdrive/Shareddrives/TNC Fellowship 🌳/4. Isotope Research & Signals/code/amazon_rainforest_files/amazon_sample_data\",\n",
        "                     SAMPLE_CSV_PATH),\n",
        "                     encoding=\"ISO-8859-1\",\n",
        "                     sep=',')\n",
        "  else:\n",
        "    df = pd.read_csv(raster.get_sample_db_path(SAMPLE_CSV_PATH),\n",
        "                     encoding=\"ISO-8859-1\", sep=',')\n",
        "\n",
        "#@markdown For both sample sources\n",
        "MANUAL_OVERRIDE_COLUMNS = False #@param {type: \"boolean\"}\n",
        "\n",
        "# Internal. The values to select by default\n",
        "default_values = {\n",
        "    'Code': True,\n",
        "    'lat': True,\n",
        "    'long': True,\n",
        "    'VPD': True,\n",
        "    'RH': True,\n",
        "    'DEM': True,\n",
        "    'PA': True,\n",
        "    'PET': True,\n",
        "    'Mean Annual Temperature': True,\n",
        "    'Mean Annual Precipitation': True,\n",
        "    'Iso_Oxi_Stack_mean_TERZER': True,\n",
        "    'predkrig_br_lat_ISORG': True,\n",
        "    'brisoscape_mean_ISORIX': True,\n",
        "    'isoscape_fullmodel_d18O_prec_REGRESSION': True\n",
        "}\n",
        "data = df.columns\n",
        "feature_checkboxes = [widgets.Checkbox(value=False, description=label) for label in data]\n",
        "for i in range(0, len(feature_checkboxes)):\n",
        "    if feature_checkboxes[i].description in default_values:\n",
        "      feature_checkboxes[i].value = True\n",
        "      default_values.pop(feature_checkboxes[i].description)\n",
        "if MANUAL_OVERRIDE_COLUMNS:\n",
        "  output = widgets.VBox(children=feature_checkboxes)\n",
        "  print(\"Select the features for your model:\")\n",
        "  display(output)\n",
        "else:\n",
        "  if len(default_values) > 0:\n",
        "    print(\"Warning: The following columns were not found:\",\n",
        "            list(default_values.keys()))\n",
        "\n",
        "\n",
        "data = df.columns\n",
        "default_values = {\n",
        "    'd18O_cel': True\n",
        "}\n",
        "label_checkboxes = [widgets.Checkbox(value=False, description=label) for label in data]\n",
        "for i in range(0, len(label_checkboxes)):\n",
        "    if label_checkboxes[i].description in default_values:\n",
        "      label_checkboxes[i].value = True\n",
        "      default_values.pop(label_checkboxes[i].description)\n",
        "if MANUAL_OVERRIDE_COLUMNS:\n",
        "  output = widgets.VBox(children=label_checkboxes)\n",
        "  print(\"Select the labels of your model:\")\n",
        "  display(output)\n",
        "else:\n",
        "  if len(default_values) > 0:\n",
        "    print(\"Warning: The following columns were not found:\",\n",
        "            list(default_values.keys()))\n",
        "\n",
        "#@markdown ## Partition Data\n",
        "#\n",
        "#@markdown Based on the columns available, you'll select the keys by which we'll split your data into training, validation and test splits. This will make sure that there's a single group of measurements in either of the splits, and not an incomplete unit across many partitions.\n",
        "#\n",
        "#@markdown PARTITION_STRATEGY: The columns that will be used to group the dataset to calculate means and variance on LABEL_COLUMNS. Values can be\n",
        "#@markdown - FIXED\n",
        "#@markdown - RANDOM\n",
        "\n",
        "PARTITION_STRATEGY = \"FIXED\" #@param [\"FIXED\", \"RANDOM\"]\n",
        "GROUPING_COLUMNS = [\"Code\", \"lat\", \"long\"] #@param\n",
        "\n",
        "#@markdown KEEP_GROUPING: If True, the exported rows will have unique values of the grouping columns selected above. If False, the exported rows will still contain the mean, variance, and other statistics for each group, but the original set of rows will be exported without combining any rows.\n",
        "\n",
        "KEEP_GROUPING = True #@param {type: \"boolean\"}"
      ],
      "metadata": {
        "id": "PlKLE9g5B2WH",
        "cellView": "form",
        "outputId": "7de8932d-59d8-4c4d-dab3-bb11eac5f334",
        "colab": {
          "base_uri": "https://localhost:8080/",
          "height": 35
        }
      },
      "execution_count": 2,
      "outputs": [
        {
          "output_type": "stream",
          "name": "stdout",
          "text": [
            "Mounted at /content/gdrive\n"
          ]
        }
      ]
    },
    {
      "cell_type": "code",
      "source": [
        "# @title\n",
        "selected_data = []\n",
        "for i in range(0, len(feature_checkboxes)):\n",
        "    if feature_checkboxes[i].value == True:\n",
        "        selected_data = selected_data + [feature_checkboxes[i].description]\n",
        "print(\"Selected features: \", selected_data)\n",
        "FEATURE_COLUMNS = selected_data\n",
        "\n",
        "selected_data = []\n",
        "for i in range(0, len(label_checkboxes)):\n",
        "    if label_checkboxes[i].value == True:\n",
        "        assert(label_checkboxes[i].description not in FEATURE_COLUMNS)\n",
        "        selected_data = selected_data + [label_checkboxes[i].description]\n",
        "print(\"Selected labels: \", selected_data)\n",
        "LABEL_COLUMNS = selected_data\n",
        "\n",
        "print(\"Partitioning strategy: \", PARTITION_STRATEGY)\n",
        "print(\"Grouping columns:\", GROUPING_COLUMNS)"
      ],
      "metadata": {
        "id": "-nsDNMtHD6yf",
        "outputId": "08bb2396-5280-4d42-8536-fe155e9a975b",
        "colab": {
          "base_uri": "https://localhost:8080/"
        }
      },
      "execution_count": 3,
      "outputs": [
        {
          "output_type": "stream",
          "name": "stdout",
          "text": [
            "Selected features:  ['Code', 'lat', 'long', 'VPD', 'RH', 'PET', 'DEM', 'PA', 'Mean Annual Temperature', 'Mean Annual Precipitation', 'Iso_Oxi_Stack_mean_TERZER', 'predkrig_br_lat_ISORG', 'brisoscape_mean_ISORIX', 'isoscape_fullmodel_d18O_prec_REGRESSION']\n",
            "Selected labels:  ['d18O_cel']\n",
            "Partitioning strategy:  FIXED\n",
            "Grouping columns: ['Code', 'lat', 'long']\n"
          ]
        }
      ]
    },
    {
      "cell_type": "markdown",
      "source": [
        "## Pre-Process and Split Data"
      ],
      "metadata": {
        "id": "TuoHc5wfMsgV"
      }
    },
    {
      "cell_type": "code",
      "source": [
        "# @title Run this cell to pre-process and split data\n",
        "import partitioned_dataset\n",
        "import dataset\n",
        "\n",
        "import importlib\n",
        "importlib.reload(dataset)\n",
        "importlib.reload(partitioned_dataset)\n",
        "import dataset\n",
        "import partitioned_dataset\n",
        "\n",
        "from partitioned_dataset import PartitionStrategy\n",
        "\n",
        "for column in LABEL_COLUMNS:\n",
        "  df[column] = df[column].astype(float)\n",
        "\n",
        "sample_data = dataset.preprocess_sample_data(df, FEATURE_COLUMNS, LABEL_COLUMNS, GROUPING_COLUMNS, KEEP_GROUPING)\n",
        "\n",
        "resulting_dataset = None\n",
        "if PARTITION_STRATEGY == \"FIXED\":\n",
        "  resulting_dataset = partitioned_dataset.partition(sample_data, PartitionStrategy.FIXED)\n",
        "elif PARTITION_STRATEGY == \"RANDOM\":\n",
        "  resulting_dataset = partitioned_dataset.partition(sample_data, PartitionStrategy.RANDOM)\n",
        "else:\n",
        "  raise ValueError(f\"Unknown partition strategy: {PARTITION_STRATEGY}\")\n",
        "\n",
        "train_data = resulting_dataset.train\n",
        "validation_data = resulting_dataset.validation\n",
        "test_data = resulting_dataset.test"
      ],
      "metadata": {
        "id": "fnBXzjLYDC35",
        "cellView": "form"
      },
      "execution_count": 4,
      "outputs": []
    },
    {
      "cell_type": "markdown",
      "source": [
        "\n",
        "## (Optional) Visualize data"
      ],
      "metadata": {
        "id": "s1RWPmocPYAc"
      }
    },
    {
      "cell_type": "code",
      "source": [
        "# @title Run this cell to visualize your partitioned data.\n",
        "print(\"Rows in training set:\", train_data.shape[0])\n",
        "print(\"Rows in validation set: \", validation_data.shape[0])\n",
        "print(\"Rows in test set:\", test_data.shape[0])\n",
        "\n",
        "# Optional (plot splits)\n",
        "import matplotlib\n",
        "import matplotlib.pyplot as plt\n",
        "\n",
        "plt.scatter(train_data[\"lat\"], train_data[\"long\"], label=\"train\", alpha=0.2)\n",
        "plt.scatter(validation_data[\"lat\"], validation_data[\"long\"], label=\"validation\", alpha=0.2)\n",
        "plt.scatter(test_data[\"lat\"], test_data[\"long\"], label=\"test\", alpha=0.2)\n",
        "plt.xlabel('Lattitude')\n",
        "plt.ylabel('Longitude')\n",
        "plt.legend()\n",
        "plt.show()"
      ],
      "metadata": {
        "id": "ZoWixaV5hPXv",
        "outputId": "5006f9c0-a543-42fe-b8aa-b78403401c44",
        "colab": {
          "base_uri": "https://localhost:8080/",
          "height": 503
        },
        "cellView": "form"
      },
      "execution_count": null,
      "outputs": [
        {
          "output_type": "stream",
          "name": "stdout",
          "text": [
            "Rows in training set: 73\n",
            "Rows in validation set:  40\n",
            "Rows in test set: 106\n"
          ]
        },
        {
          "output_type": "display_data",
          "data": {
            "text/plain": [
              "<Figure size 640x480 with 1 Axes>"
            ],
            "image/png": "[encoded data removed]"
          },
          "metadata": {}
        }
      ]
    },
    {
      "cell_type": "markdown",
      "source": [
        "# Add raster features"
      ],
      "metadata": {
        "id": "UHLlfgDMjkTb"
      }
    },
    {
      "cell_type": "code",
      "source": [
        "# @title Run this cell to add raster features\n",
        "import eeraster\n",
        "import eeddf\n",
        "import ee\n",
        "\n",
        "eeddf.initialize_ddf(test_environment = True)\n",
        "\n",
        "FEATURE_RASTER_FOLDER = 'ddf_raster_cache'\n",
        "RASTER_NAMES = ['uc_davis_d18O_cel_ordinary_random_grouped_means', 'uc_davis_d18O_cel_ordinary_random_grouped_vars'] #@param\n",
        "\n",
        "for raster_name in RASTER_NAMES:\n",
        "  image = ee.Image(\n",
        "        'projects/' + eeddf.ee_project_name() + '/assets/reference_rasters/' +\n",
        "        raster_name)\n",
        "  task = ee.batch.Export.image.toDrive(\n",
        "      image=image,\n",
        "      description=raster_name,\n",
        "      folder=FEATURE_RASTER_FOLDER,\n",
        "  )\n",
        "  task.start()"
      ],
      "metadata": {
        "id": "YjOPX6ObNlak"
      },
      "execution_count": 7,
      "outputs": []
    },
    {
      "cell_type": "markdown",
      "source": [
        "Per the Earth Engine API, you will need to wait until the tasks created in the Code Editor are completed. Once this is done, you may proceed."
      ],
      "metadata": {
        "id": "MVDiF0I8rVkU"
      }
    },
    {
      "cell_type": "code",
      "source": [
        "feature_rasters = {}\n",
        "for raster_name in RASTER_NAMES:\n",
        "  feature_raster = raster.load_raster(os.path.join(\n",
        "      \"/content/gdrive/MyDrive\", FEATURE_RASTER_FOLDER, f\"{raster_name}.tif\"))\n",
        "  feature_rasters[raster_name] = feature_raster\n",
        "\n",
        "for idx, row in train_data.iterrows():\n",
        "  lat = row[\"lat\"]\n",
        "  long = row[\"long\"]\n",
        "  for raster_name in RASTER_NAMES:\n",
        "    train_data.loc[idx, raster_name] = feature_rasters[raster_name].value_at(long, lat)\n",
        "\n",
        "for idx, row in validation_data.iterrows():\n",
        "  lat = row[\"lat\"]\n",
        "  long = row[\"long\"]\n",
        "  for raster_name in RASTER_NAMES:\n",
        "    validation_data.loc[idx, raster_name] = feature_rasters[raster_name].value_at(long, lat)\n",
        "\n",
        "for idx, row in test_data.iterrows():\n",
        "  lat = row[\"lat\"]\n",
        "  long = row[\"long\"]\n",
        "  for raster_name in RASTER_NAMES:\n",
        "    test_data.loc[idx, raster_name] = feature_rasters[raster_name].value_at(long, lat)"
      ],
      "metadata": {
        "id": "svwoB7FTqsfJ",
        "outputId": "50b938b6-90b1-4ac5-c445-d6d3cbeaccaf",
        "colab": {
          "base_uri": "https://localhost:8080/"
        }
      },
      "execution_count": 8,
      "outputs": [
        {
          "output_type": "stream",
          "name": "stdout",
          "text": [
            "Driver: GTiff/GeoTIFF\n",
            "Size is 237 x 236 x 1\n",
            "Projection is GEOGCS[\"WGS 84\",DATUM[\"WGS_1984\",SPHEROID[\"WGS 84\",6378137,298.257223563,AUTHORITY[\"EPSG\",\"7030\"]],AUTHORITY[\"EPSG\",\"6326\"]],PRIMEM[\"Greenwich\",0],UNIT[\"degree\",0.0174532925199433,AUTHORITY[\"EPSG\",\"9122\"]],AXIS[\"Latitude\",NORTH],AXIS[\"Longitude\",EAST],AUTHORITY[\"EPSG\",\"4326\"]]\n",
            "Origin = (-74.16666666666808, 5.500000000668081)\n",
            "Pixel Size = (0.16666666666808508, -0.16666666666808505)\n",
            "Driver: GTiff/GeoTIFF\n",
            "Size is 237 x 236 x 1\n",
            "Projection is GEOGCS[\"WGS 84\",DATUM[\"WGS_1984\",SPHEROID[\"WGS 84\",6378137,298.257223563,AUTHORITY[\"EPSG\",\"7030\"]],AUTHORITY[\"EPSG\",\"6326\"]],PRIMEM[\"Greenwich\",0],UNIT[\"degree\",0.0174532925199433,AUTHORITY[\"EPSG\",\"9122\"]],AXIS[\"Latitude\",NORTH],AXIS[\"Longitude\",EAST],AUTHORITY[\"EPSG\",\"4326\"]]\n",
            "Origin = (-74.16666666666808, 5.500000000668081)\n",
            "Pixel Size = (0.16666666666808508, -0.16666666666808505)\n"
          ]
        },
        {
          "output_type": "stream",
          "name": "stderr",
          "text": [
            "<ipython-input-8-ad548ec9e4d0>:11: SettingWithCopyWarning: \n",
            "A value is trying to be set on a copy of a slice from a DataFrame.\n",
            "Try using .loc[row_indexer,col_indexer] = value instead\n",
            "\n",
            "See the caveats in the documentation: https://pandas.pydata.org/pandas-docs/stable/user_guide/indexing.html#returning-a-view-versus-a-copy\n",
            "  train_data.loc[idx, raster_name] = feature_rasters[raster_name].value_at(long, lat)\n",
            "<ipython-input-8-ad548ec9e4d0>:11: SettingWithCopyWarning: \n",
            "A value is trying to be set on a copy of a slice from a DataFrame.\n",
            "Try using .loc[row_indexer,col_indexer] = value instead\n",
            "\n",
            "See the caveats in the documentation: https://pandas.pydata.org/pandas-docs/stable/user_guide/indexing.html#returning-a-view-versus-a-copy\n",
            "  train_data.loc[idx, raster_name] = feature_rasters[raster_name].value_at(long, lat)\n",
            "<ipython-input-8-ad548ec9e4d0>:17: SettingWithCopyWarning: \n",
            "A value is trying to be set on a copy of a slice from a DataFrame.\n",
            "Try using .loc[row_indexer,col_indexer] = value instead\n",
            "\n",
            "See the caveats in the documentation: https://pandas.pydata.org/pandas-docs/stable/user_guide/indexing.html#returning-a-view-versus-a-copy\n",
            "  validation_data.loc[idx, raster_name] = feature_rasters[raster_name].value_at(long, lat)\n",
            "<ipython-input-8-ad548ec9e4d0>:17: SettingWithCopyWarning: \n",
            "A value is trying to be set on a copy of a slice from a DataFrame.\n",
            "Try using .loc[row_indexer,col_indexer] = value instead\n",
            "\n",
            "See the caveats in the documentation: https://pandas.pydata.org/pandas-docs/stable/user_guide/indexing.html#returning-a-view-versus-a-copy\n",
            "  validation_data.loc[idx, raster_name] = feature_rasters[raster_name].value_at(long, lat)\n",
            "<ipython-input-8-ad548ec9e4d0>:23: SettingWithCopyWarning: \n",
            "A value is trying to be set on a copy of a slice from a DataFrame.\n",
            "Try using .loc[row_indexer,col_indexer] = value instead\n",
            "\n",
            "See the caveats in the documentation: https://pandas.pydata.org/pandas-docs/stable/user_guide/indexing.html#returning-a-view-versus-a-copy\n",
            "  test_data.loc[idx, raster_name] = feature_rasters[raster_name].value_at(long, lat)\n",
            "<ipython-input-8-ad548ec9e4d0>:23: SettingWithCopyWarning: \n",
            "A value is trying to be set on a copy of a slice from a DataFrame.\n",
            "Try using .loc[row_indexer,col_indexer] = value instead\n",
            "\n",
            "See the caveats in the documentation: https://pandas.pydata.org/pandas-docs/stable/user_guide/indexing.html#returning-a-view-versus-a-copy\n",
            "  test_data.loc[idx, raster_name] = feature_rasters[raster_name].value_at(long, lat)\n"
          ]
        }
      ]
    },
    {
      "cell_type": "markdown",
      "source": [
        "# Export processed dataset"
      ],
      "metadata": {
        "id": "PS6Ke_0AKyIf"
      }
    },
    {
      "cell_type": "code",
      "source": [
        "OUTPUT_DATASET_NAME=\"ee_raster_cache_test\" #@param\n",
        "OUTPUT_DATASET_ROOT = \"local_test/\" #@param\n",
        "\n",
        "GROUPING_STR = \"grouped\" if KEEP_GROUPING else \"ungrouped\"\n",
        "\n",
        "SHARED_DRIVE = True #@param {type:\"boolean\"}\n",
        "CREATE_PATH_IF_NOT_EXISTS = True #@param {type:\"boolean\"}\n",
        "\n",
        "dataset_root = OUTPUT_DATASET_ROOT\n",
        "if SHARED_DRIVE:\n",
        "  dataset_root = os.path.join(\n",
        "      \"/content/gdrive/Shareddrives/TNC Fellowship 🌳/4. Isotope Research & Signals/code/amazon_rainforest_files/amazon_sample_data\",\n",
        "      dataset_root\n",
        "  )\n",
        "else:\n",
        "  dataset_root = raster.get_sample_db_path(dataset_root)\n",
        "\n",
        "if (CREATE_PATH_IF_NOT_EXISTS and\n",
        "      not os.path.exists(dataset_root)):\n",
        "  os.mkdir(dataset_root)\n",
        "  print(\"Created directory path at:\", dataset_root)\n",
        "\n",
        "OUTPUT_TRAIN_CSV_PATH = f\"{dataset_root}{OUTPUT_DATASET_NAME}_train_{PARTITION_STRATEGY.lower()}_{GROUPING_STR}.csv\"\n",
        "OUTPUT_VALIDATION_CSV_PATH = f\"{dataset_root}{OUTPUT_DATASET_NAME}_validation_{PARTITION_STRATEGY.lower()}_{GROUPING_STR}.csv\"\n",
        "OUTPUT_TEST_CSV_PATH = f\"{dataset_root}{OUTPUT_DATASET_NAME}_test_{PARTITION_STRATEGY.lower()}_{GROUPING_STR}.csv\"\n",
        "\n",
        "print(\"OUTPUT_TRAIN_CSV_PATH: \", OUTPUT_TRAIN_CSV_PATH)\n",
        "print(\"OUTPUT_VALIDATION_CSV_PATH: \", OUTPUT_VALIDATION_CSV_PATH)\n",
        "print(\"OUTPUT_TEST_CSV_PATH: \", OUTPUT_TEST_CSV_PATH)\n",
        "\n",
        "train_data.to_csv(OUTPUT_TRAIN_CSV_PATH)\n",
        "validation_data.to_csv(OUTPUT_VALIDATION_CSV_PATH)\n",
        "test_data.to_csv(OUTPUT_TEST_CSV_PATH)"
      ],
      "metadata": {
        "id": "f4vBnCNRwc9F",
        "outputId": "ed212961-da7c-48e6-f7f2-6040a009932f",
        "colab": {
          "base_uri": "https://localhost:8080/"
        }
      },
      "execution_count": 9,
      "outputs": [
        {
          "output_type": "stream",
          "name": "stdout",
          "text": [
            "OUTPUT_TRAIN_CSV_PATH:  /content/gdrive/Shareddrives/TNC Fellowship 🌳/4. Isotope Research & Signals/code/amazon_rainforest_files/amazon_sample_data/local_test/ee_raster_cache_test_train_fixed_grouped.csv\n",
            "OUTPUT_VALIDATION_CSV_PATH:  /content/gdrive/Shareddrives/TNC Fellowship 🌳/4. Isotope Research & Signals/code/amazon_rainforest_files/amazon_sample_data/local_test/ee_raster_cache_test_validation_fixed_grouped.csv\n",
            "OUTPUT_TEST_CSV_PATH:  /content/gdrive/Shareddrives/TNC Fellowship 🌳/4. Isotope Research & Signals/code/amazon_rainforest_files/amazon_sample_data/local_test/ee_raster_cache_test_test_fixed_grouped.csv\n"
          ]
        }
      ]
    }
  ]
}