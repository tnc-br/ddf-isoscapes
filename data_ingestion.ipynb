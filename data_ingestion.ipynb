{
  "nbformat": 4,
  "nbformat_minor": 0,
  "metadata": {
    "colab": {
      "provenance": [],
      "authorship_tag": "ABX9TyPc+crBVdwJDhtkaYNbDLlm",
      "include_colab_link": true
    },
    "kernelspec": {
      "name": "python3",
      "display_name": "Python 3"
    },
    "language_info": {
      "name": "python"
    }
  },
  "cells": [
    {
      "cell_type": "markdown",
      "metadata": {
        "id": "view-in-github",
        "colab_type": "text"
      },
      "source": [
        "<a href=\"https://colab.research.google.com/github/tnc-br/ddf-isoscapes/blob/random_split/data_ingestion.ipynb\" target=\"_parent\"><img src=\"https://colab.research.google.com/assets/colab-badge.svg\" alt=\"Open In Colab\"/></a>"
      ]
    },
    {
      "cell_type": "code",
      "source": [
        "import pandas as pd\n",
        "import numpy as np"
      ],
      "metadata": {
        "id": "CJCt18ZEXOyv"
      },
      "execution_count": null,
      "outputs": []
    },
    {
      "cell_type": "code",
      "source": [
        "SAMPLE_CSV_PATH = \"/MyDrive/amazon_rainforest_files/amazon_sample_data/2023_06_23_Results_Google.csv\" #@param\n",
        "FEATURE_COLUMNS = ['lat', 'long', 'VPD', 'RH', 'PET', 'DEM', 'PA', 'Mean Annual Temperature', 'Mean Annual Precipitation',        'Iso_Oxi_Stack_mean_TERZER', 'predkrig_br_lat_ISORG',        'isoscape_fullmodel_d18O_prec_REGRESSION', 'Code', 'Family', 'Origin'] #@param\n",
        "LABEL_COLUMNS = [\"d18O_cel\"] #@param\n",
        "\n",
        "# The columns that will be used to group the dataset to calculate\n",
        "# means and variance on LABEL_COLUMNS\n",
        "GROUPING_COLUMNS = [\"Code\", \"lat\", \"long\"] #@param\n",
        "# If True, the rows will remain unique GROUPING_COLUMNS values. Otherwise\n",
        "# we merge the grouping columns aggregates with the original dataset.\n",
        "KEEP_GROUPING = True #@param\n",
        "\n",
        "# Values can be:\n",
        "# - SORTING: Sample rows are sorted by key made of PARTITION_COLUMNS\n",
        "PARTITION_STRATEGY = \"RANDOM\" #@param [\"FIXED\", \"RANDOM\"] {allow-input:true}\n",
        "\n",
        "# For FIXED only, the bounds of each partition for the split\n",
        "TRAIN_FIXED_BOUNDS = [(-5, -62.5), (float('inf'), float('inf'))]\n",
        "VALIDATION_FIXED_BOUNDS = [(-5, float('-inf')), (float('inf'), -62.5)]\n",
        "TEST_FIXED = BOUNDS = [(float('-inf'), float('-inf')), (-5, float('inf'))]\n",
        "TRAIN_VALIDATION_TEST_BOUNDS = [TRAIN_FIXED_BOUNDS, VALIDATION_FIXED_BOUNDS, TEST_FIXED]\n",
        "\n",
        "# For RANDOM only, the fraction of the dataset allocated for train, validation\n",
        "# and test sets.\n",
        "TRAIN_VALIDATION_TEST_RATIOS = [0.8, 0.1, 0.1]\n",
        "assert(sum(TRAIN_VALIDATION_TEST_RATIOS) == 1.0)\n",
        "\n",
        "OUTPUT_DATASET_NAME=\"uc_davis_2023_08_20_variational_random_grouped\" #@param\n",
        "OUTPUT_DATASET_ROOT = \"/MyDrive/amazon_rainforest_files/amazon_sample_data/\" #@param\n",
        "GROUPING_STR = \"grouped\" if KEEP_GROUPING else \"ungrouped\"\n",
        "\n",
        "OUTPUT_TRAIN_CSV_PATH = f\"{OUTPUT_DATASET_ROOT}{OUTPUT_DATASET_NAME}_train_{PARTITION_STRATEGY.lower()}_{GROUPING_STR}.csv\"\n",
        "OUTPUT_VALIDATION_CSV_PATH = f\"{OUTPUT_DATASET_ROOT}{OUTPUT_DATASET_NAME}_validation_{PARTITION_STRATEGY.lower()}_{GROUPING_STR}.csv\"\n",
        "OUTPUT_TEST_CSV_PATH = f\"{OUTPUT_DATASET_ROOT}{OUTPUT_DATASET_NAME}_test_{PARTITION_STRATEGY.lower()}_{GROUPING_STR}.csv\"\n",
        "\n",
        "GDRIVE_BASE = \"/content/drive\" #@param"
      ],
      "metadata": {
        "id": "Us2-lRsEUBru"
      },
      "execution_count": null,
      "outputs": []
    },
    {
      "cell_type": "code",
      "source": [
        "# Access data stored on Google Drive\n",
        "if GDRIVE_BASE:\n",
        "    from google.colab import drive\n",
        "    drive.mount(GDRIVE_BASE)"
      ],
      "metadata": {
        "colab": {
          "base_uri": "https://localhost:8080/"
        },
        "id": "n_kIR1epXirP",
        "outputId": "2868e676-c8e6-4ee5-e42f-1d96d54f70ae"
      },
      "execution_count": null,
      "outputs": [
        {
          "output_type": "stream",
          "name": "stdout",
          "text": [
            "Drive already mounted at /content/drive; to attempt to forcibly remount, call drive.mount(\"/content/drive\", force_remount=True).\n"
          ]
        }
      ]
    },
    {
      "cell_type": "markdown",
      "source": [
        "# Pre-Process Sample"
      ],
      "metadata": {
        "id": "TuoHc5wfMsgV"
      }
    },
    {
      "cell_type": "code",
      "execution_count": null,
      "metadata": {
        "id": "HwhEmF1oSAS3"
      },
      "outputs": [],
      "source": [
        "def preprocess_sample_data(df, feature_columns, label_columns, aggregate_columns, keep_grouping) -> pd.DataFrame:\n",
        "  '''\n",
        "  Given a pd.DataFRame df:\n",
        "  1. Filters in relevant columns using feature_columns, label_columns\n",
        "  2. Calculates the mean and variance of each column in label_columns grouping\n",
        "     by a key made of aggregate_columns\n",
        "  3. If keep_grouping = True, we export groupings by key aggregate_columns\n",
        "     otherwise we return the original sample with their matching means/variances.\n",
        "  '''\n",
        "  df.dropna(subset=feature_columns + label_columns, inplace=True)\n",
        "  df = df[feature_columns + label_columns]\n",
        "\n",
        "  if aggregate_columns:\n",
        "    grouped = df.groupby(aggregate_columns)\n",
        "\n",
        "    for col in label_columns:\n",
        "      means = grouped.mean().reset_index()\n",
        "      means.rename(columns={col: f\"{col}_mean\"}, inplace=True)\n",
        "      means = means[aggregate_columns + [f\"{col}_mean\"]]\n",
        "\n",
        "      variances = grouped.var().reset_index()\n",
        "      variances.rename(columns={col: f\"{col}_variance\"}, inplace=True)\n",
        "      variances = variances[aggregate_columns + [f\"{col}_variance\"]]\n",
        "\n",
        "      df = pd.merge(df, means, how=\"inner\", left_on=aggregate_columns, right_on=aggregate_columns)\n",
        "      df = pd.merge(df, variances, how=\"inner\", left_on=aggregate_columns, right_on=aggregate_columns)\n",
        "      df.drop(columns=[col], inplace=True)\n",
        "\n",
        "    if keep_grouping:\n",
        "      # The first entry is the same as all entries in the grouping for the\n",
        "      # aggregate_columns. Any other column will have different values but\n",
        "      # we only take the first one.\n",
        "      df = df.groupby(aggregate_columns).first().reset_index()\n",
        "\n",
        "  return df"
      ]
    },
    {
      "cell_type": "code",
      "source": [
        "df = pd.read_csv(f\"{GDRIVE_BASE}/{SAMPLE_CSV_PATH}\", encoding=\"ISO-8859-1\", sep=',')\n",
        "sample_data = preprocess_sample_data(df, FEATURE_COLUMNS, LABEL_COLUMNS, GROUPING_COLUMNS, KEEP_GROUPING)"
      ],
      "metadata": {
        "id": "I1pBrXMNXNlu",
        "colab": {
          "base_uri": "https://localhost:8080/"
        },
        "outputId": "1d9d0fa6-0689-4efb-f7db-0b089b148a61"
      },
      "execution_count": null,
      "outputs": [
        {
          "output_type": "stream",
          "name": "stderr",
          "text": [
            "<ipython-input-4-29778b688ab8>:17: FutureWarning: The default value of numeric_only in DataFrameGroupBy.mean is deprecated. In a future version, numeric_only will default to False. Either specify numeric_only or select only columns which should be valid for the function.\n",
            "  means = grouped.mean().reset_index()\n",
            "<ipython-input-4-29778b688ab8>:21: FutureWarning: The default value of numeric_only in DataFrameGroupBy.var is deprecated. In a future version, numeric_only will default to False. Either specify numeric_only or select only columns which should be valid for the function.\n",
            "  variances = grouped.var().reset_index()\n"
          ]
        }
      ]
    },
    {
      "cell_type": "markdown",
      "source": [
        "## (Optional) Test preprocess_sample_data"
      ],
      "metadata": {
        "id": "3PRe4OL7Mm6n"
      }
    },
    {
      "cell_type": "code",
      "source": [
        "\n",
        "from pandas.util.testing import assert_frame_equal\n",
        "\n",
        "# Average and variance test\n",
        "def average_variance_test():\n",
        "  test_df = pd.DataFrame({\n",
        "      \"lat\": [0.0, 0.0, 1.0],\n",
        "      \"long\": [3.0, 3.0, 6.0],\n",
        "      \"x\": [3.0, 3.0, 3.0],\n",
        "      \"y\": [8.0, 0.0, -3.0]}\n",
        "  )\n",
        "  feature_columns = [\"lat\", \"long\"]\n",
        "  label_columns = [\"x\", \"y\"]\n",
        "  aggregate_columns = [\"lat\", \"long\"]\n",
        "  keep_grouping=True\n",
        "\n",
        "  test_sample = preprocess_sample_data(test_df, feature_columns, label_columns, aggregate_columns, keep_grouping)\n",
        "  expected_df = pd.DataFrame({\n",
        "      \"lat\": [0.0, 1.0],\n",
        "      \"long\": [3.0, 6.0],\n",
        "      \"x_mean\": [3.0, 3.0],\n",
        "      \"x_variance\": [0.0, np.nan],\n",
        "      \"y_mean\": [4.0, -3.0],\n",
        "      \"y_variance\": [32.0, np.nan]\n",
        "  })\n",
        "  assert_frame_equal(expected_df, test_sample)\n",
        "\n",
        "def average_variance_test_no_grouping():\n",
        "  test_df = pd.DataFrame({\n",
        "      \"lat\": [0.0, 0.0, 1.0],\n",
        "      \"long\": [3.0, 3.0, 6.0],\n",
        "      \"x\": [3.0, 3.0, 3.0],\n",
        "      \"y\": [8.0, 0.0, -3.0]}\n",
        "  )\n",
        "  feature_columns = [\"lat\", \"long\"]\n",
        "  label_columns = [\"x\", \"y\"]\n",
        "  aggregate_columns = [\"lat\", \"long\"]\n",
        "  keep_grouping=False\n",
        "\n",
        "  test_sample = preprocess_sample_data(test_df, feature_columns, label_columns, aggregate_columns, keep_grouping)\n",
        "  expected_df = pd.DataFrame({\n",
        "      \"lat\": [0.0, 0.0, 1.0],\n",
        "      \"long\": [3.0, 3.0, 6.0],\n",
        "      \"x_mean\": [3.0, 3.0, 3.0],\n",
        "      \"x_variance\": [0.0, 0.0, np.nan],\n",
        "      \"y_mean\": [4.0, 4.0, -3.0],\n",
        "      \"y_variance\": [32.0, 32.0, np.nan]\n",
        "  })\n",
        "  assert_frame_equal(expected_df, test_sample)\n",
        "\n",
        "def average_variance_test_keep_nonnumerical_columns():\n",
        "  test_df = pd.DataFrame({\n",
        "      \"code\": [\"a\", \"b\", \"c\"],\n",
        "      \"lat\": [0.0, 0.0, 1.0],\n",
        "      \"long\": [3.0, 3.0, 6.0],\n",
        "      \"x\": [3.0, 3.0, 3.0],\n",
        "      \"y\": [8.0, 0.0, -3.0]}\n",
        "  )\n",
        "  feature_columns = [\"code\", \"lat\", \"long\"]\n",
        "  label_columns = [\"x\", \"y\"]\n",
        "  aggregate_columns = [\"lat\", \"long\"]\n",
        "  keep_grouping=True\n",
        "\n",
        "  test_sample = preprocess_sample_data(test_df, feature_columns, label_columns, aggregate_columns, keep_grouping)\n",
        "  expected_df = pd.DataFrame({\n",
        "      \"lat\": [0.0, 1.0],\n",
        "      \"long\": [3.0, 6.0],\n",
        "      \"code\": [\"a\", \"c\"],\n",
        "      \"x_mean\": [3.0, 3.0],\n",
        "      \"x_variance\": [0.0, np.nan],\n",
        "      \"y_mean\": [4.0, -3.0],\n",
        "      \"y_variance\": [32.0, np.nan]\n",
        "  })\n",
        "  assert_frame_equal(expected_df, test_sample)\n",
        "\n",
        "average_variance_test()\n",
        "average_variance_test_no_grouping()\n",
        "average_variance_test_keep_nonnumerical_columns()"
      ],
      "metadata": {
        "colab": {
          "base_uri": "https://localhost:8080/"
        },
        "id": "QDV8xPJM8SM7",
        "outputId": "3c0ec657-6684-435e-fe34-57dd76d33186"
      },
      "execution_count": null,
      "outputs": [
        {
          "output_type": "stream",
          "name": "stderr",
          "text": [
            "<ipython-input-6-a1161ebf866c>:1: FutureWarning: pandas.util.testing is deprecated. Use the functions in the public API at pandas.testing instead.\n",
            "  from pandas.util.testing import assert_frame_equal\n",
            "<ipython-input-4-29778b688ab8>:17: FutureWarning: The default value of numeric_only in DataFrameGroupBy.mean is deprecated. In a future version, numeric_only will default to False. Either specify numeric_only or select only columns which should be valid for the function.\n",
            "  means = grouped.mean().reset_index()\n",
            "<ipython-input-4-29778b688ab8>:21: FutureWarning: The default value of numeric_only in DataFrameGroupBy.var is deprecated. In a future version, numeric_only will default to False. Either specify numeric_only or select only columns which should be valid for the function.\n",
            "  variances = grouped.var().reset_index()\n",
            "<ipython-input-4-29778b688ab8>:17: FutureWarning: The default value of numeric_only in DataFrameGroupBy.mean is deprecated. In a future version, numeric_only will default to False. Either specify numeric_only or select only columns which should be valid for the function.\n",
            "  means = grouped.mean().reset_index()\n",
            "<ipython-input-4-29778b688ab8>:21: FutureWarning: The default value of numeric_only in DataFrameGroupBy.var is deprecated. In a future version, numeric_only will default to False. Either specify numeric_only or select only columns which should be valid for the function.\n",
            "  variances = grouped.var().reset_index()\n"
          ]
        }
      ]
    },
    {
      "cell_type": "markdown",
      "source": [
        "# Partition Data"
      ],
      "metadata": {
        "id": "s1RWPmocPYAc"
      }
    },
    {
      "cell_type": "code",
      "source": [
        "def partition_data_fixed(sample_data, train_validation_test_bounds):\n",
        "  '''\n",
        "  Return data split between the fixed rectangle train_validation_test_bounds\n",
        "  of lattitude and longitude for each of the rows in sample_data.\n",
        "  '''\n",
        "  train_bounds = train_validation_test_bounds[0]\n",
        "  validation_bounds = train_validation_test_bounds[1]\n",
        "  test_bounds = train_validation_test_bounds[2]\n",
        "\n",
        "  train_data = sample_data[\n",
        "      (sample_data['lat'] >= train_bounds[0][0]) & (sample_data['long'] >= train_bounds[0][1]) &\n",
        "      (sample_data['lat'] <= train_bounds[1][0]) & (sample_data['long'] <= train_bounds[1][1])]\n",
        "  validation_data = sample_data[\n",
        "      (sample_data['lat'] >= validation_bounds[0][0]) & (sample_data['long'] >= validation_bounds[0][1]) &\n",
        "      (sample_data['lat'] <= validation_bounds[1][0]) & (sample_data['long'] <= validation_bounds[1][1])]\n",
        "  test_data = sample_data[\n",
        "      (sample_data['lat'] >= test_bounds[0][0]) & (sample_data['long'] >= test_bounds[0][1]) &\n",
        "      (sample_data['lat'] <= test_bounds[1][0]) & (sample_data['long'] <= test_bounds[1][1])]\n",
        "\n",
        "  return train_data, validation_data, test_data"
      ],
      "metadata": {
        "id": "GTZBuFiLSCJ1"
      },
      "execution_count": null,
      "outputs": []
    },
    {
      "cell_type": "code",
      "source": [
        "def partition_data_random(sample_data, train_validation_test_ratios):\n",
        "  '''\n",
        "  Return sample_data split randomly into train/validation/test buckets based on\n",
        "  train_validation_test_ratios.\n",
        "  '''\n",
        "  sample_data.sample(frac=1)\n",
        "  n_train = int(sample_data.shape[0] * train_validation_test_ratios[0])\n",
        "  n_validation = int(sample_data.shape[0] * train_validation_test_ratios[1])\n",
        "  train_data = sample_data.loc[:n_train]\n",
        "  validation_data = sample_data.loc[n_train:n_train+n_validation]\n",
        "  test_data = sample_data.loc[n_train+n_validation:]\n",
        "\n",
        "  return train_data, validation_data, test_data"
      ],
      "metadata": {
        "id": "NNghXiuCUCkC"
      },
      "execution_count": null,
      "outputs": []
    },
    {
      "cell_type": "code",
      "source": [
        "if PARTITION_STRATEGY == \"FIXED\":\n",
        "  train_data, validation_data, test_data = partition_data_fixed(sample_data, TRAIN_VALIDATION_TEST_BOUNDS)\n",
        "elif PARTITION_STRATEGY == \"RANDOM\":\n",
        "  train_data, validation_data, test_data = partition_data_random(sample_data, TRAIN_VALIDATION_TEST_RATIOS)\n",
        "else:\n",
        "  raise ValueError(f\"Unknown partition strategy: {PARTITION_STRATEGY}\")"
      ],
      "metadata": {
        "id": "L501lgSDm3bG"
      },
      "execution_count": null,
      "outputs": []
    },
    {
      "cell_type": "code",
      "source": [
        "print(train_data.shape[0])\n",
        "print(validation_data.shape[0])\n",
        "print(test_data.shape[0])"
      ],
      "metadata": {
        "colab": {
          "base_uri": "https://localhost:8080/"
        },
        "id": "ZoWixaV5hPXv",
        "outputId": "ec01a365-0e04-49a0-b25d-11558d708cb9"
      },
      "execution_count": null,
      "outputs": [
        {
          "output_type": "stream",
          "name": "stdout",
          "text": [
            "69\n",
            "34\n",
            "22\n"
          ]
        }
      ]
    },
    {
      "cell_type": "code",
      "source": [
        "# Optional (plot splits)\n",
        "import matplotlib\n",
        "import matplotlib.pyplot as plt\n",
        "\n",
        "plt.scatter(train_data[\"lat\"], train_data[\"long\"], label=\"train\", alpha=0.2)\n",
        "plt.scatter(validation_data[\"lat\"], validation_data[\"long\"], label=\"validation\", alpha=0.2)\n",
        "plt.scatter(test_data[\"lat\"], test_data[\"long\"], label=\"test\", alpha=0.2)\n",
        "plt.xlabel('Lattitude')\n",
        "plt.ylabel('Longitude')\n",
        "plt.legend()\n",
        "plt.show()"
      ],
      "metadata": {
        "colab": {
          "base_uri": "https://localhost:8080/",
          "height": 449
        },
        "id": "_snCMXqyTaQc",
        "outputId": "b17bae47-2faf-4fc6-ed4e-8f18f105a01d"
      },
      "execution_count": null,
      "outputs": [
        {
          "output_type": "display_data",
          "data": {
            "text/plain": [
              "<Figure size 640x480 with 1 Axes>"
            ],
            "image/png": "[encoded data removed]"
          },
          "metadata": {}
        }
      ]
    },
    {
      "cell_type": "code",
      "source": [
        "train_data.to_csv(f\"{GDRIVE_BASE}{OUTPUT_TRAIN_CSV_PATH}\")\n",
        "validation_data.to_csv(f\"{GDRIVE_BASE}{OUTPUT_VALIDATION_CSV_PATH}\")\n",
        "test_data.to_csv(f\"{GDRIVE_BASE}{OUTPUT_TEST_CSV_PATH}\")"
      ],
      "metadata": {
        "id": "f4vBnCNRwc9F"
      },
      "execution_count": null,
      "outputs": []
    },
    {
      "cell_type": "code",
      "source": [
        "train_data['d18O_cel_mean'].unique()"
      ],
      "metadata": {
        "colab": {
          "base_uri": "https://localhost:8080/"
        },
        "id": "x_pvqoJBfjYY",
        "outputId": "0be76d17-dbc0-4d5a-b540-895c4919478e"
      },
      "execution_count": null,
      "outputs": [
        {
          "output_type": "execute_result",
          "data": {
            "text/plain": [
              "array([26.748   , 26.862   , 26.29    , 26.884   , 26.536   , 26.01    ,\n",
              "       27.206   , 26.762   , 25.706   , 26.738   , 24.376   , 26.962   ,\n",
              "       26.062   , 25.09    , 26.398   , 26.492   , 27.231195, 27.22    ,\n",
              "       24.3     , 26.601685, 26.566495, 27.90176 , 26.65447 , 27.85875 ,\n",
              "       27.637835, 23.648   , 25.43    , 25.88    , 23.828   , 24.794   ,\n",
              "       24.89    , 25.106   , 25.654   , 26.202   , 27.35    , 25.796   ,\n",
              "       26.532   , 23.442   , 22.85    , 23.932   , 25.37    , 25.266   ,\n",
              "       26.628   , 24.782   , 24.81    , 24.662   , 23.682   , 27.714   ,\n",
              "       26.82    , 26.686   , 26.144   , 26.134   , 25.576   , 26.52    ,\n",
              "       25.33    , 25.882   , 24.792   , 26.22    , 25.772   , 25.95    ,\n",
              "       25.6725  , 25.9     , 25.018   , 25.16    , 26.542   , 27.096   ,\n",
              "       26.13    , 26.984   ])"
            ]
          },
          "metadata": {},
          "execution_count": 12
        }
      ]
    }
  ]
}