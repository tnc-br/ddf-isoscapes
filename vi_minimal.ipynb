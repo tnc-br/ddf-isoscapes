{
  "cells": [
    {
      "cell_type": "markdown",
      "metadata": {
        "id": "view-in-github",
        "colab_type": "text"
      },
      "source": [
        "<a href=\"https://colab.research.google.com/github/tnc-br/ddf-isoscapes/blob/dropout_rate/vi_minimal.ipynb\" target=\"_parent\"><img src=\"https://colab.research.google.com/assets/colab-badge.svg\" alt=\"Open In Colab\"/></a>"
      ]
    },
    {
      "cell_type": "markdown",
      "metadata": {
        "id": "-0IfT3kGwgK6"
      },
      "source": [
        "# Variational model\n",
        "\n",
        "Find the mean/variance of O18 ratios (as well as N15 and C13 in the future) at a particular lat/lon across Brazil."
      ]
    },
    {
      "cell_type": "code",
      "source": [
        "import importlib\n",
        "from datetime import datetime\n",
        "import sys\n",
        "import os"
      ],
      "metadata": {
        "id": "7gWPZO-5kOQV"
      },
      "execution_count": 1,
      "outputs": []
    },
    {
      "cell_type": "markdown",
      "metadata": {
        "id": "7MRzTQkqvRbC"
      },
      "source": [
        "# Import libraries required"
      ]
    },
    {
      "cell_type": "code",
      "execution_count": null,
      "metadata": {
        "id": "AXh86HFwXiax"
      },
      "outputs": [],
      "source": [
        "!if [ ! -d \"/content/ddf_common_stub\" ] ; then git clone -b test https://github.com/tnc-br/ddf_common_stub.git; fi\n",
        "sys.path.append(\"/content/ddf_common_stub/\")\n",
        "import ddfimport\n",
        "ddfimport.ddf_source_control_pane()"
      ]
    },
    {
      "cell_type": "code",
      "execution_count": null,
      "metadata": {
        "id": "0mUB0y0AXivp"
      },
      "outputs": [],
      "source": [
        "import train_variational_inference_model as tvim\n",
        "import raster\n",
        "import model\n",
        "import importlib\n",
        "importlib.reload(tvim)\n",
        "importlib.reload(raster)\n",
        "importlib.reload(model)"
      ]
    },
    {
      "cell_type": "markdown",
      "source": [
        "# Model configuration"
      ],
      "metadata": {
        "id": "bBQJaWTyoyWN"
      }
    },
    {
      "cell_type": "code",
      "source": [
        "params = tvim.VIModelTrainingParams(\n",
        "    training_id = \"test-2024-07-26\", #@param\n",
        "    num_epochs = 5000, #@param\n",
        "    num_layers = 2, #@param\n",
        "    num_nodes_per_layer = 20, #@param\n",
        "    training_batch_size = 5, #@param\n",
        "    learning_rate = 0.0001, #@param\n",
        "    mean_label = \"d18O_cel_mean\", #@param\n",
        "    var_label = \"d18O_cel_variance\", #@param\n",
        "    early_stopping_patience = 100, #@param\n",
        "    double_sided_kl = False, #@param\n",
        "    kl_num_samples_from_pred_dist = 15, #@param\n",
        "    dropout_rate = 0, #@param\n",
        "    activation_func = \"relu\", #@param\n",
        "    features_to_standardize = ['lat', 'long', 'VPD', 'RH', 'PET', 'DEM', 'PA', 'Mean Annual Temperature', 'Mean Annual Precipitation', 'Iso_Oxi_Stack_mean_TERZER', 'isoscape_fullmodel_d18O_prec_REGRESSION', 'brisoscape_mean_ISORIX', 'd13C_cel_mean', 'd13C_cel_var', 'ordinary_kriging_linear_d18O_predicted_mean', 'ordinary_kriging_linear_d18O_predicted_variance'], #@param\n",
        "    features_to_passthrough = [], #@param\n",
        "    resolution_x = 1024, #@param\n",
        "    resolution_y = 1024, #@param\n",
        ")"
      ],
      "metadata": {
        "id": "NP-WH-3Hl69m"
      },
      "execution_count": 10,
      "outputs": []
    },
    {
      "cell_type": "markdown",
      "source": [
        "# Data configuration"
      ],
      "metadata": {
        "id": "iE_d9R8LovE6"
      }
    },
    {
      "cell_type": "code",
      "source": [
        "from google.colab import drive\n",
        "drive.mount(raster.GDRIVE_BASE)\n",
        "\n",
        "DATABASE_DIR = raster.GDRIVE_BASE + raster.SAMPLE_DATA_BASE\n",
        "TRAINING_SET_FILE = 'demo_train_fixed_grouped.csv' #@param\n",
        "VALIDATION_SET_FILE = 'demo_validation_fixed_grouped.csv' #@param\n",
        "TEST_SET_FILE = 'demo_test_fixed_grouped.csv' #@param\n",
        "\n",
        "fileset = {\n",
        "    'TRAIN' : os.path.join(DATABASE_DIR, TRAINING_SET_FILE),\n",
        "    'TEST' : os.path.join(DATABASE_DIR, VALIDATION_SET_FILE),\n",
        "    'VALIDATION' : os.path.join(DATABASE_DIR, TEST_SET_FILE),\n",
        "}\n",
        "MODEL_SAVE_LOCATION = os.path.join(raster.GDRIVE_BASE, raster.MODEL_BASE, params.training_id + \".h5\")\n",
        "ISOSCAPE_SAVE_LOCATION = raster.get_raster_path(params.training_id+\".tiff\")"
      ],
      "metadata": {
        "id": "yAME-bIdmgdb",
        "colab": {
          "base_uri": "https://localhost:8080/"
        },
        "outputId": "dbf40011-3068-4ec4-faa7-e20ec97d4b8e"
      },
      "execution_count": 11,
      "outputs": [
        {
          "output_type": "stream",
          "name": "stdout",
          "text": [
            "Drive already mounted at /content/gdrive; to attempt to forcibly remount, call drive.mount(\"/content/gdrive\", force_remount=True).\n"
          ]
        }
      ]
    },
    {
      "cell_type": "markdown",
      "source": [
        "# Train the model"
      ],
      "metadata": {
        "id": "N-BDywhWsSYu"
      }
    },
    {
      "cell_type": "code",
      "source": [
        "tvim.train_variational_inference_model(params, fileset, ISOSCAPE_SAVE_LOCATION, MODEL_SAVE_LOCATION)"
      ],
      "metadata": {
        "id": "c3z-7XQVsRg0"
      },
      "execution_count": null,
      "outputs": []
    }
  ],
  "metadata": {
    "colab": {
      "provenance": [],
      "include_colab_link": true
    },
    "kernelspec": {
      "display_name": "Python 3",
      "name": "python3"
    },
    "language_info": {
      "name": "python"
    },
    "orig_nbformat": 4
  },
  "nbformat": 4,
  "nbformat_minor": 0
}