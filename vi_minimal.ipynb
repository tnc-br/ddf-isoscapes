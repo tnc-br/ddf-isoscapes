{
  "cells": [
    {
      "cell_type": "markdown",
      "metadata": {
        "id": "view-in-github",
        "colab_type": "text"
      },
      "source": [
        "<a href=\"https://colab.research.google.com/github/tnc-br/ddf-isoscapes/blob/cv/vi_minimal.ipynb\" target=\"_parent\"><img src=\"https://colab.research.google.com/assets/colab-badge.svg\" alt=\"Open In Colab\"/></a>"
      ]
    },
    {
      "cell_type": "markdown",
      "metadata": {
        "id": "-0IfT3kGwgK6"
      },
      "source": [
        "# Variational model\n",
        "\n",
        "Find the mean/variance of O18 ratios (as well as N15 and C13 in the future) at a particular lat/lon across Brazil."
      ]
    },
    {
      "cell_type": "code",
      "source": [
        "import importlib\n",
        "from datetime import datetime\n",
        "import sys\n",
        "import os"
      ],
      "metadata": {
        "id": "7gWPZO-5kOQV"
      },
      "execution_count": null,
      "outputs": []
    },
    {
      "cell_type": "markdown",
      "metadata": {
        "id": "7MRzTQkqvRbC"
      },
      "source": [
        "# Import libraries required"
      ]
    },
    {
      "cell_type": "code",
      "execution_count": null,
      "metadata": {
        "id": "AXh86HFwXiax"
      },
      "outputs": [],
      "source": [
        "!if [ ! -d \"/content/ddf_common_stub\" ] ; then git clone -b test https://github.com/tnc-br/ddf_common_stub.git; fi\n",
        "sys.path.append(\"/content/ddf_common_stub/\")\n",
        "import ddfimport\n",
        "ddfimport.ddf_source_control_pane()"
      ]
    },
    {
      "cell_type": "code",
      "execution_count": null,
      "metadata": {
        "id": "0mUB0y0AXivp"
      },
      "outputs": [],
      "source": [
        "import train_variational_inference_model as tvim\n",
        "import raster\n",
        "import eeddf\n",
        "\n",
        "# Leave test_environment=True. Experiments must be done in test.\n",
        "eeddf.initialize_ddf(test_environment=True)"
      ]
    },
    {
      "cell_type": "markdown",
      "source": [
        "# Model configuration"
      ],
      "metadata": {
        "id": "bBQJaWTyoyWN"
      }
    },
    {
      "cell_type": "code",
      "source": [
        "params = tvim.VIModelTrainingParams(\n",
        "    training_id = \"test-2025-01-18-cv2-test\", #@param\n",
        "    num_epochs = 1000, #@param\n",
        "    num_layers = 2, #@param\n",
        "    num_nodes_per_layer = 20, #@param\n",
        "    training_batch_size = 8, #@param\n",
        "    learning_rate = 0.0001, #@param\n",
        "    mean_label = \"d18O_cel_mean\", #@param\n",
        "    var_label = \"d18O_cel_variance\", #@param\n",
        "    early_stopping_patience = 100, #@param\n",
        "    double_sided_kl = False, #@param\n",
        "    kl_num_samples_from_pred_dist = 15, #@param\n",
        "    dropout_rate = 0, #@param\n",
        "    activation_func = \"relu\", #@param\n",
        "    features_to_standardize = ['lat', 'long', 'VPD', 'RH', 'PET', 'DEM', 'PA', 'Mean Annual Temperature', 'Mean Annual Precipitation', 'Iso_Oxi_Stack_mean_TERZER', 'isoscape_fullmodel_d18O_prec_REGRESSION', 'brisoscape_mean_ISORIX', 'd13C_cel_mean', 'd13C_cel_var', 'ordinary_kriging_linear_d18O_predicted_mean', 'ordinary_kriging_linear_d18O_predicted_variance'], #@param\n",
        "    features_to_passthrough = [], #@param\n",
        "    resolution_x = 1024, #@param\n",
        "    resolution_y = 1024, #@param\n",
        "    n_cv_folds = None #@param\n",
        "    tags = [\"author:ruru\", \"ViNN\"], #@param\n",
        "    foo = \"bar\"\n",
        ")\n",
        "\n"
      ],
      "metadata": {
        "id": "NP-WH-3Hl69m"
      },
      "execution_count": null,
      "outputs": []
    },
    {
      "cell_type": "code",
      "source": [
        "eval_params = tvim.VIModelEvalParams(\n",
        "    samples_per_location = 5, #@param\n",
        "    precision_target = 0.95, #@param\n",
        "    recall_target = None, #@param\n",
        "    start_max_fraud_radius= 6, #@param\n",
        "    end_max_fraud_radius = 3000, #@param\n",
        "    radius_pace = 100, #@param\n",
        "    trusted_buffer_radius = 5, #@param\n",
        "    elements_to_eval = ['d18O_cel'], #@param\n",
        ")"
      ],
      "metadata": {
        "id": "gkCvxEcM33JD"
      },
      "execution_count": null,
      "outputs": []
    },
    {
      "cell_type": "markdown",
      "source": [
        "# Data configuration"
      ],
      "metadata": {
        "id": "iE_d9R8LovE6"
      }
    },
    {
      "cell_type": "code",
      "source": [
        "from google.colab import drive\n",
        "drive.mount(raster.GDRIVE_BASE)\n",
        "\n",
        "# REQUIREMENTS:\n",
        "\n",
        "# 1) Column names must match features_to_standardize, features_to_passthrough\n",
        "# 2) Label columns in particular must match var_label and mean_label.\n",
        "#\n",
        "# If you used the data ingestion notebook (ingestion.ipynb) then this\n",
        "# should be set up for you already.\n",
        "\n",
        "# TRAINING FILE PARAMS\n",
        "DATABASE_DIR = raster.GDRIVE_BASE + raster.SAMPLE_DATA_BASE\n",
        "TRAINING_SET_FILE = 'demo_train_fixed_grouped.csv' #@param\n",
        "VALIDATION_SET_FILE = 'demo_validation_fixed_grouped.csv' #@param\n",
        "TEST_SET_FILE = 'demo_test_fixed_grouped.csv' #@param\n",
        "\n",
        "# EVAL FILE PARAMS\n",
        "EVAL_DATASET = 'demo_test_fixed_grouped.csv' #@param\n",
        "ORIGINAL_DATASET = '2023_06_23_Results_Google.csv' #@param\n",
        "\n",
        "fileset = {\n",
        "    'TRAIN' : os.path.join(DATABASE_DIR, TRAINING_SET_FILE),\n",
        "    'TEST' : os.path.join(DATABASE_DIR, TEST_SET_FILE),\n",
        "    'VALIDATION' : os.path.join(DATABASE_DIR, VALIDATION_SET_FILE),\n",
        "    'EVAL' : os.path.join(DATABASE_DIR, EVAL_DATASET),\n",
        "    'ORIGINAL' : os.path.join(DATABASE_DIR, ORIGINAL_DATASET)\n",
        "}\n",
        "\n",
        "MODEL_SAVE_LOCATION = raster.get_model_path(params.training_id + \".keras\")\n",
        "ISOSCAPE_SAVE_LOCATION = raster.get_raster_path(params.training_id+\".tiff\")"
      ],
      "metadata": {
        "id": "yAME-bIdmgdb"
      },
      "execution_count": null,
      "outputs": []
    },
    {
      "cell_type": "markdown",
      "source": [
        "# Train the model"
      ],
      "metadata": {
        "id": "N-BDywhWsSYu"
      }
    },
    {
      "cell_type": "code",
      "source": [
        "EVAL_ONLY = False #@param{type:'boolean'}\n",
        "res = tvim.train_variational_inference_model(params, eval_params, fileset, ISOSCAPE_SAVE_LOCATION, MODEL_SAVE_LOCATION, eval_only=EVAL_ONLY)"
      ],
      "metadata": {
        "id": "c3z-7XQVsRg0"
      },
      "execution_count": null,
      "outputs": []
    },
    {
      "cell_type": "markdown",
      "source": [
        "# Optional Rendering"
      ],
      "metadata": {
        "id": "7zFnMtn63vwB"
      }
    },
    {
      "cell_type": "code",
      "source": [
        "from matplotlib import rc\n",
        "rc('animation', html='jshtml')\n",
        "\n",
        "means_isoscape = raster.load_raster(ISOSCAPE_SAVE_LOCATION, use_only_band_index=0)\n",
        "raster.animate(means_isoscape,  1, 1)"
      ],
      "metadata": {
        "id": "oy8an-kt3dDN"
      },
      "execution_count": null,
      "outputs": []
    },
    {
      "cell_type": "code",
      "source": [
        "vars_isoscape = raster.load_raster(ISOSCAPE_SAVE_LOCATION, use_only_band_index=1)\n",
        "raster.animate(vars_isoscape,  1, 1)"
      ],
      "metadata": {
        "id": "D0FUb1bX3WQa"
      },
      "execution_count": null,
      "outputs": []
    }
  ],
  "metadata": {
    "colab": {
      "provenance": [],
      "include_colab_link": true
    },
    "kernelspec": {
      "display_name": "Python 3",
      "name": "python3"
    },
    "language_info": {
      "name": "python"
    },
    "orig_nbformat": 4
  },
  "nbformat": 4,
  "nbformat_minor": 0
}
