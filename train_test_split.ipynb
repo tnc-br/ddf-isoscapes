{
  "nbformat": 4,
  "nbformat_minor": 0,
  "metadata": {
    "colab": {
      "provenance": [],
      "authorship_tag": "ABX9TyNfiSyHNpvoVY8xc1QMWhfP",
      "include_colab_link": true
    },
    "kernelspec": {
      "name": "python3",
      "display_name": "Python 3"
    },
    "language_info": {
      "name": "python"
    }
  },
  "cells": [
    {
      "cell_type": "markdown",
      "metadata": {
        "id": "view-in-github",
        "colab_type": "text"
      },
      "source": [
        "<a href=\"https://colab.research.google.com/github/tnc-br/ddf-isoscapes/blob/train_validation_test_split/train_test_split.ipynb\" target=\"_parent\"><img src=\"https://colab.research.google.com/assets/colab-badge.svg\" alt=\"Open In Colab\"/></a>"
      ]
    },
    {
      "cell_type": "code",
      "source": [
        "import pandas as pd\n",
        "import numpy as np"
      ],
      "metadata": {
        "id": "CJCt18ZEXOyv"
      },
      "execution_count": 60,
      "outputs": []
    },
    {
      "cell_type": "code",
      "source": [
        "SAMPLE_CSV_PATH = \"/MyDrive/amazon_rainforest_files/amazon_sample_data/2023_06_23_Results_Google.csv\" #@param\n",
        "FEATURE_COLUMNS = [\"Code\", \"Origin\", \"lat\", \"long\", \"VPD\", \"RH\", \"PET\", \"DEM\", \"PA\"] #@param\n",
        "LABEL_COLUMNS = [\"d18O_cel\"] #@param\n",
        "\n",
        "# The columns that will be used to group the dataset to calculate\n",
        "# means and variance on LABEL_COLUMNS\n",
        "GROUPING_COLUMNS = [\"Code\"] #@param\n",
        "# If True, the rows will remain unique GROUPING_COLUMNS values. Otherwise\n",
        "# we merge the grouping columns aggregates with the original dataset.\n",
        "KEEP_GROUPING = True #@param\n",
        "\n",
        "# Values can be:\n",
        "# - SORTING: Sample rows are sorted by key made of PARTITION_COLUMNS\n",
        "PARTITION_STRATEGY = \"FIXED\" #@param\n",
        "assert(PARTITION_STRATEGY in ['FIXED'])\n",
        "\n",
        "# For FIXED only, the bounds of each partition for the split\n",
        "# train = df[(df[\"lat\"] >= -5) & (df[\"lon\"] > -62.5)]\n",
        "# test = df[(df[\"lat\"] < -5)]\n",
        "# validation = df[(df[\"lat\"] >= -5) & (df[\"lon\"] <= -62.5)]\n",
        "TRAIN_FIXED_BOUNDS = [(-5, -62.5), (float('inf'), float('inf'))]\n",
        "VALIDATION_FIXED_BOUNDS = [(-5, float('-inf')), (float('inf'), -62.5)]\n",
        "TEST_FIXED = BOUNDS = [(float('-inf'), float('-inf')), (-5, float('inf'))]\n",
        "TRAIN_VALIDATION_TEST_BOUNDS = [TRAIN_FIXED_BOUNDS, VALIDATION_FIXED_BOUNDS, TEST_FIXED]\n",
        "\n",
        "OUTPUT_TRAIN_CSV_PATH = \"/MyDrive/amazon_rainforest_files/amazon_sample_data/luis_train_grouped.csv\" #@param\n",
        "OUTPUT_VALIDATION_CSV_PATH = \"/MyDrive/amazon_rainforest_files/amazon_sample_data/luis_validation.csv\" #@param\n",
        "OUTPUT_TEST_CSV_PATH = \"/MyDrive/amazon_rainforest_files/amazon_sample_data/luis_validation.csv\" #@param\n",
        "\n",
        "GDRIVE_BASE = \"/content/drive\" #@param"
      ],
      "metadata": {
        "id": "Us2-lRsEUBru"
      },
      "execution_count": 80,
      "outputs": []
    },
    {
      "cell_type": "code",
      "source": [
        "# Access data stored on Google Drive\n",
        "if GDRIVE_BASE:\n",
        "    from google.colab import drive\n",
        "    drive.mount(GDRIVE_BASE)"
      ],
      "metadata": {
        "colab": {
          "base_uri": "https://localhost:8080/"
        },
        "id": "n_kIR1epXirP",
        "outputId": "81f442ef-703c-4677-c496-ba09db0947d7"
      },
      "execution_count": 3,
      "outputs": [
        {
          "output_type": "stream",
          "name": "stdout",
          "text": [
            "Mounted at /content/drive\n"
          ]
        }
      ]
    },
    {
      "cell_type": "code",
      "execution_count": 67,
      "metadata": {
        "id": "HwhEmF1oSAS3"
      },
      "outputs": [],
      "source": [
        "def load_sample_data(df, feature_columns, label_columns, aggregate_columns, keep_grouping) -> pd.DataFrame:\n",
        "  df = df[feature_columns + label_columns]\n",
        "\n",
        "  if aggregate_columns:\n",
        "    grouped = df.groupby(aggregate_columns)\n",
        "\n",
        "    for col in label_columns:\n",
        "      means = grouped.mean().reset_index()\n",
        "      means.rename(columns={col: f\"{col}_mean\"}, inplace=True)\n",
        "      means = means[aggregate_columns + [f\"{col}_mean\"]]\n",
        "\n",
        "      variances = grouped.var().reset_index()\n",
        "      variances.rename(columns={col: f\"{col}_variance\"}, inplace=True)\n",
        "      variances = variances[aggregate_columns + [f\"{col}_variance\"]]\n",
        "\n",
        "      df = pd.merge(df, means, how=\"inner\", left_on=aggregate_columns, right_on=aggregate_columns)\n",
        "      df = pd.merge(df, variances, how=\"inner\", left_on=aggregate_columns, right_on=aggregate_columns)\n",
        "      df.drop(columns=[col], inplace=True)\n",
        "\n",
        "    if keep_grouping:\n",
        "      # The first entry is the same as all entries in the grouping for the\n",
        "      # aggregate_columns. Any other column will have different values but\n",
        "      # we only take the first one.\n",
        "      df = df.groupby(aggregate_columns).first().reset_index()\n",
        "\n",
        "  return df"
      ]
    },
    {
      "cell_type": "markdown",
      "source": [
        "# (Optional) Test load_sample_data"
      ],
      "metadata": {
        "id": "3PRe4OL7Mm6n"
      }
    },
    {
      "cell_type": "code",
      "source": [
        "\n",
        "from pandas.util.testing import assert_frame_equal\n",
        "\n",
        "# Average and variance test\n",
        "def average_variance_test():\n",
        "  test_df = pd.DataFrame({\n",
        "      \"lat\": [0.0, 0.0, 1.0],\n",
        "      \"long\": [3.0, 3.0, 6.0],\n",
        "      \"x\": [3.0, 3.0, 3.0],\n",
        "      \"y\": [8.0, 0.0, -3.0]}\n",
        "  )\n",
        "  feature_columns = [\"lat\", \"long\"]\n",
        "  label_columns = [\"x\", \"y\"]\n",
        "  aggregate_columns = [\"lat\", \"long\"]\n",
        "  keep_grouping=True\n",
        "\n",
        "  test_sample = load_sample_data(test_df, feature_columns, label_columns, aggregate_columns, keep_grouping)\n",
        "  expected_df = pd.DataFrame({\n",
        "      \"lat\": [0.0, 1.0],\n",
        "      \"long\": [3.0, 6.0],\n",
        "      \"x_mean\": [3.0, 3.0],\n",
        "      \"x_variance\": [0.0, np.nan],\n",
        "      \"y_mean\": [4.0, -3.0],\n",
        "      \"y_variance\": [32.0, np.nan]\n",
        "  })\n",
        "  assert_frame_equal(expected_df, test_sample)\n",
        "\n",
        "def average_variance_test_no_grouping():\n",
        "  test_df = pd.DataFrame({\n",
        "      \"lat\": [0.0, 0.0, 1.0],\n",
        "      \"long\": [3.0, 3.0, 6.0],\n",
        "      \"x\": [3.0, 3.0, 3.0],\n",
        "      \"y\": [8.0, 0.0, -3.0]}\n",
        "  )\n",
        "  feature_columns = [\"lat\", \"long\"]\n",
        "  label_columns = [\"x\", \"y\"]\n",
        "  aggregate_columns = [\"lat\", \"long\"]\n",
        "  keep_grouping=False\n",
        "\n",
        "  test_sample = load_sample_data(test_df, feature_columns, label_columns, aggregate_columns, keep_grouping)\n",
        "  expected_df = pd.DataFrame({\n",
        "      \"lat\": [0.0, 0.0, 1.0],\n",
        "      \"long\": [3.0, 3.0, 6.0],\n",
        "      \"x_mean\": [3.0, 3.0, 3.0],\n",
        "      \"x_variance\": [0.0, 0.0, np.nan],\n",
        "      \"y_mean\": [4.0, 4.0, -3.0],\n",
        "      \"y_variance\": [32.0, 32.0, np.nan]\n",
        "  })\n",
        "  assert_frame_equal(expected_df, test_sample)\n",
        "\n",
        "def average_variance_test_keep_nonnumerical_columns():\n",
        "  test_df = pd.DataFrame({\n",
        "      \"code\": [\"a\", \"b\", \"c\"],\n",
        "      \"lat\": [0.0, 0.0, 1.0],\n",
        "      \"long\": [3.0, 3.0, 6.0],\n",
        "      \"x\": [3.0, 3.0, 3.0],\n",
        "      \"y\": [8.0, 0.0, -3.0]}\n",
        "  )\n",
        "  feature_columns = [\"code\", \"lat\", \"long\"]\n",
        "  label_columns = [\"x\", \"y\"]\n",
        "  aggregate_columns = [\"lat\", \"long\"]\n",
        "  keep_grouping=True\n",
        "\n",
        "  test_sample = load_sample_data(test_df, feature_columns, label_columns, aggregate_columns, keep_grouping)\n",
        "  expected_df = pd.DataFrame({\n",
        "      \"lat\": [0.0, 1.0],\n",
        "      \"long\": [3.0, 6.0],\n",
        "      \"code\": [\"a\", \"c\"],\n",
        "      \"x_mean\": [3.0, 3.0],\n",
        "      \"x_variance\": [0.0, np.nan],\n",
        "      \"y_mean\": [4.0, -3.0],\n",
        "      \"y_variance\": [32.0, np.nan]\n",
        "  })\n",
        "  print(test_sample)\n",
        "  assert_frame_equal(expected_df, test_sample)\n",
        "\n",
        "average_variance_test()\n",
        "average_variance_test_no_grouping()\n",
        "average_variance_test_keep_nonnumerical_columns()"
      ],
      "metadata": {
        "colab": {
          "base_uri": "https://localhost:8080/"
        },
        "id": "QDV8xPJM8SM7",
        "outputId": "cc444307-8756-474f-9c1b-ea04652773cb"
      },
      "execution_count": 79,
      "outputs": [
        {
          "output_type": "stream",
          "name": "stdout",
          "text": [
            "   lat  long code  x_mean  x_variance  y_mean  y_variance\n",
            "0  0.0   3.0    a     3.0         0.0     4.0        32.0\n",
            "1  1.0   6.0    c     3.0         NaN    -3.0         NaN\n"
          ]
        },
        {
          "output_type": "stream",
          "name": "stderr",
          "text": [
            "<ipython-input-67-a24c8fc89bae>:8: FutureWarning: The default value of numeric_only in DataFrameGroupBy.mean is deprecated. In a future version, numeric_only will default to False. Either specify numeric_only or select only columns which should be valid for the function.\n",
            "  means = grouped.mean().reset_index()\n",
            "<ipython-input-67-a24c8fc89bae>:12: FutureWarning: The default value of numeric_only in DataFrameGroupBy.var is deprecated. In a future version, numeric_only will default to False. Either specify numeric_only or select only columns which should be valid for the function.\n",
            "  variances = grouped.var().reset_index()\n",
            "<ipython-input-67-a24c8fc89bae>:8: FutureWarning: The default value of numeric_only in DataFrameGroupBy.mean is deprecated. In a future version, numeric_only will default to False. Either specify numeric_only or select only columns which should be valid for the function.\n",
            "  means = grouped.mean().reset_index()\n",
            "<ipython-input-67-a24c8fc89bae>:12: FutureWarning: The default value of numeric_only in DataFrameGroupBy.var is deprecated. In a future version, numeric_only will default to False. Either specify numeric_only or select only columns which should be valid for the function.\n",
            "  variances = grouped.var().reset_index()\n"
          ]
        }
      ]
    },
    {
      "cell_type": "markdown",
      "source": [
        "# Load Sample"
      ],
      "metadata": {
        "id": "TuoHc5wfMsgV"
      }
    },
    {
      "cell_type": "code",
      "source": [
        "df = pd.read_csv(f\"{GDRIVE_BASE}/{SAMPLE_CSV_PATH}\", encoding=\"ISO-8859-1\", sep=',')\n",
        "sample_data = load_sample_data(df, FEATURE_COLUMNS, LABEL_COLUMNS, GROUPING_COLUMNS, KEEP_GROUPING)"
      ],
      "metadata": {
        "id": "I1pBrXMNXNlu",
        "colab": {
          "base_uri": "https://localhost:8080/"
        },
        "outputId": "59fbad1f-267f-44a8-d8e9-6029eadf8816"
      },
      "execution_count": 5,
      "outputs": [
        {
          "output_type": "stream",
          "name": "stderr",
          "text": [
            "<ipython-input-4-2e92aa900481>:9: FutureWarning: The default value of numeric_only in DataFrameGroupBy.mean is deprecated. In a future version, numeric_only will default to False. Either specify numeric_only or select only columns which should be valid for the function.\n",
            "  means = grouped.mean().reset_index()\n",
            "<ipython-input-4-2e92aa900481>:15: FutureWarning: The default value of numeric_only in DataFrameGroupBy.var is deprecated. In a future version, numeric_only will default to False. Either specify numeric_only or select only columns which should be valid for the function.\n",
            "  variances = grouped.var().reset_index()\n"
          ]
        }
      ]
    },
    {
      "cell_type": "code",
      "source": [
        "print(sample_data.shape)\n",
        "sample_data"
      ],
      "metadata": {
        "colab": {
          "base_uri": "https://localhost:8080/",
          "height": 442
        },
        "id": "5WJVS-6vXzrN",
        "outputId": "7979c1b9-6306-432d-ee95-af02639c46bd"
      },
      "execution_count": 6,
      "outputs": [
        {
          "output_type": "stream",
          "name": "stdout",
          "text": [
            "(220, 11)\n"
          ]
        },
        {
          "output_type": "execute_result",
          "data": {
            "text/plain": [
              "        Code       lat       long      VPD       RH       PET    DEM  \\\n",
              "0       mad0 -0.121000 -67.013000  0.58917  0.83284  91.16666  101.0   \n",
              "1      mad01 -0.041000 -66.872000  0.62083  0.82559  92.27500   93.0   \n",
              "2       mad1 -3.995545 -57.589273  0.85167  0.77358  99.99167   61.0   \n",
              "3      mad10 -0.121230 -67.013103  0.58917  0.83284  91.16666  101.0   \n",
              "4     mad100 -3.992300 -54.908000  0.70750  0.80339  97.88333  108.0   \n",
              "..       ...       ...        ...      ...      ...       ...    ...   \n",
              "215  madsd06 -0.121230 -67.013103  0.58917  0.83284  91.16666  101.0   \n",
              "216  madsd07 -4.303698 -70.291068  0.73583  0.79822  89.56667  108.0   \n",
              "217  madsd08 -6.009707 -61.868657  0.77083  0.79509  93.97500   71.0   \n",
              "218  madsd09 -3.758534 -66.073754  0.64667  0.82247  90.44167   84.0   \n",
              "219  madsd10 -6.009707 -61.868657  0.77083  0.79509  93.97500   71.0   \n",
              "\n",
              "             PA  d18O_cel_mean                     Origin  d18O_cel_variance  \n",
              "0    1000.89270      23.405260   sao gabriel da cachoeira           0.148275  \n",
              "1    1001.84741      25.725845   sao gabriel da cachoeira           0.213718  \n",
              "2    1005.67358      26.748000                      maues           0.532670  \n",
              "3    1000.89270      25.936000      sao_gabriel_cachoeira           0.066530  \n",
              "4    1000.05792      26.862000                   santarem           0.489970  \n",
              "..          ...            ...                        ...                ...  \n",
              "215  1000.89270      25.682000  sÃ£o gabriel da cachoeira           0.944720  \n",
              "216  1000.05792      24.028000            atalia do norte           0.458520  \n",
              "217  1004.47662      23.944000                  manicorÃ©           0.158130  \n",
              "218  1002.92230      23.752000                      Jurua           0.524370  \n",
              "219  1004.47662      26.018000                  manicorÃ©           0.964170  \n",
              "\n",
              "[220 rows x 11 columns]"
            ],
            "text/html": [
              "\n",
              "\n",
              "  <div id=\"df-d5c1f27f-874b-46a7-9948-8c4cb5fbe0c5\">\n",
              "    <div class=\"colab-df-container\">\n",
              "      <div>\n",
              "<style scoped>\n",
              "    .dataframe tbody tr th:only-of-type {\n",
              "        vertical-align: middle;\n",
              "    }\n",
              "\n",
              "    .dataframe tbody tr th {\n",
              "        vertical-align: top;\n",
              "    }\n",
              "\n",
              "    .dataframe thead th {\n",
              "        text-align: right;\n",
              "    }\n",
              "</style>\n",
              "<table border=\"1\" class=\"dataframe\">\n",
              "  <thead>\n",
              "    <tr style=\"text-align: right;\">\n",
              "      <th></th>\n",
              "      <th>Code</th>\n",
              "      <th>lat</th>\n",
              "      <th>long</th>\n",
              "      <th>VPD</th>\n",
              "      <th>RH</th>\n",
              "      <th>PET</th>\n",
              "      <th>DEM</th>\n",
              "      <th>PA</th>\n",
              "      <th>d18O_cel_mean</th>\n",
              "      <th>Origin</th>\n",
              "      <th>d18O_cel_variance</th>\n",
              "    </tr>\n",
              "  </thead>\n",
              "  <tbody>\n",
              "    <tr>\n",
              "      <th>0</th>\n",
              "      <td>mad0</td>\n",
              "      <td>-0.121000</td>\n",
              "      <td>-67.013000</td>\n",
              "      <td>0.58917</td>\n",
              "      <td>0.83284</td>\n",
              "      <td>91.16666</td>\n",
              "      <td>101.0</td>\n",
              "      <td>1000.89270</td>\n",
              "      <td>23.405260</td>\n",
              "      <td>sao gabriel da cachoeira</td>\n",
              "      <td>0.148275</td>\n",
              "    </tr>\n",
              "    <tr>\n",
              "      <th>1</th>\n",
              "      <td>mad01</td>\n",
              "      <td>-0.041000</td>\n",
              "      <td>-66.872000</td>\n",
              "      <td>0.62083</td>\n",
              "      <td>0.82559</td>\n",
              "      <td>92.27500</td>\n",
              "      <td>93.0</td>\n",
              "      <td>1001.84741</td>\n",
              "      <td>25.725845</td>\n",
              "      <td>sao gabriel da cachoeira</td>\n",
              "      <td>0.213718</td>\n",
              "    </tr>\n",
              "    <tr>\n",
              "      <th>2</th>\n",
              "      <td>mad1</td>\n",
              "      <td>-3.995545</td>\n",
              "      <td>-57.589273</td>\n",
              "      <td>0.85167</td>\n",
              "      <td>0.77358</td>\n",
              "      <td>99.99167</td>\n",
              "      <td>61.0</td>\n",
              "      <td>1005.67358</td>\n",
              "      <td>26.748000</td>\n",
              "      <td>maues</td>\n",
              "      <td>0.532670</td>\n",
              "    </tr>\n",
              "    <tr>\n",
              "      <th>3</th>\n",
              "      <td>mad10</td>\n",
              "      <td>-0.121230</td>\n",
              "      <td>-67.013103</td>\n",
              "      <td>0.58917</td>\n",
              "      <td>0.83284</td>\n",
              "      <td>91.16666</td>\n",
              "      <td>101.0</td>\n",
              "      <td>1000.89270</td>\n",
              "      <td>25.936000</td>\n",
              "      <td>sao_gabriel_cachoeira</td>\n",
              "      <td>0.066530</td>\n",
              "    </tr>\n",
              "    <tr>\n",
              "      <th>4</th>\n",
              "      <td>mad100</td>\n",
              "      <td>-3.992300</td>\n",
              "      <td>-54.908000</td>\n",
              "      <td>0.70750</td>\n",
              "      <td>0.80339</td>\n",
              "      <td>97.88333</td>\n",
              "      <td>108.0</td>\n",
              "      <td>1000.05792</td>\n",
              "      <td>26.862000</td>\n",
              "      <td>santarem</td>\n",
              "      <td>0.489970</td>\n",
              "    </tr>\n",
              "    <tr>\n",
              "      <th>...</th>\n",
              "      <td>...</td>\n",
              "      <td>...</td>\n",
              "      <td>...</td>\n",
              "      <td>...</td>\n",
              "      <td>...</td>\n",
              "      <td>...</td>\n",
              "      <td>...</td>\n",
              "      <td>...</td>\n",
              "      <td>...</td>\n",
              "      <td>...</td>\n",
              "      <td>...</td>\n",
              "    </tr>\n",
              "    <tr>\n",
              "      <th>215</th>\n",
              "      <td>madsd06</td>\n",
              "      <td>-0.121230</td>\n",
              "      <td>-67.013103</td>\n",
              "      <td>0.58917</td>\n",
              "      <td>0.83284</td>\n",
              "      <td>91.16666</td>\n",
              "      <td>101.0</td>\n",
              "      <td>1000.89270</td>\n",
              "      <td>25.682000</td>\n",
              "      <td>sÃ£o gabriel da cachoeira</td>\n",
              "      <td>0.944720</td>\n",
              "    </tr>\n",
              "    <tr>\n",
              "      <th>216</th>\n",
              "      <td>madsd07</td>\n",
              "      <td>-4.303698</td>\n",
              "      <td>-70.291068</td>\n",
              "      <td>0.73583</td>\n",
              "      <td>0.79822</td>\n",
              "      <td>89.56667</td>\n",
              "      <td>108.0</td>\n",
              "      <td>1000.05792</td>\n",
              "      <td>24.028000</td>\n",
              "      <td>atalia do norte</td>\n",
              "      <td>0.458520</td>\n",
              "    </tr>\n",
              "    <tr>\n",
              "      <th>217</th>\n",
              "      <td>madsd08</td>\n",
              "      <td>-6.009707</td>\n",
              "      <td>-61.868657</td>\n",
              "      <td>0.77083</td>\n",
              "      <td>0.79509</td>\n",
              "      <td>93.97500</td>\n",
              "      <td>71.0</td>\n",
              "      <td>1004.47662</td>\n",
              "      <td>23.944000</td>\n",
              "      <td>manicorÃ©</td>\n",
              "      <td>0.158130</td>\n",
              "    </tr>\n",
              "    <tr>\n",
              "      <th>218</th>\n",
              "      <td>madsd09</td>\n",
              "      <td>-3.758534</td>\n",
              "      <td>-66.073754</td>\n",
              "      <td>0.64667</td>\n",
              "      <td>0.82247</td>\n",
              "      <td>90.44167</td>\n",
              "      <td>84.0</td>\n",
              "      <td>1002.92230</td>\n",
              "      <td>23.752000</td>\n",
              "      <td>Jurua</td>\n",
              "      <td>0.524370</td>\n",
              "    </tr>\n",
              "    <tr>\n",
              "      <th>219</th>\n",
              "      <td>madsd10</td>\n",
              "      <td>-6.009707</td>\n",
              "      <td>-61.868657</td>\n",
              "      <td>0.77083</td>\n",
              "      <td>0.79509</td>\n",
              "      <td>93.97500</td>\n",
              "      <td>71.0</td>\n",
              "      <td>1004.47662</td>\n",
              "      <td>26.018000</td>\n",
              "      <td>manicorÃ©</td>\n",
              "      <td>0.964170</td>\n",
              "    </tr>\n",
              "  </tbody>\n",
              "</table>\n",
              "<p>220 rows × 11 columns</p>\n",
              "</div>\n",
              "      <button class=\"colab-df-convert\" onclick=\"convertToInteractive('df-d5c1f27f-874b-46a7-9948-8c4cb5fbe0c5')\"\n",
              "              title=\"Convert this dataframe to an interactive table.\"\n",
              "              style=\"display:none;\">\n",
              "\n",
              "  <svg xmlns=\"http://www.w3.org/2000/svg\" height=\"24px\"viewBox=\"0 0 24 24\"\n",
              "       width=\"24px\">\n",
              "    <path d=\"M0 0h24v24H0V0z\" fill=\"none\"/>\n",
              "    <path d=\"M18.56 5.44l.94 2.06.94-2.06 2.06-.94-2.06-.94-.94-2.06-.94 2.06-2.06.94zm-11 1L8.5 8.5l.94-2.06 2.06-.94-2.06-.94L8.5 2.5l-.94 2.06-2.06.94zm10 10l.94 2.06.94-2.06 2.06-.94-2.06-.94-.94-2.06-.94 2.06-2.06.94z\"/><path d=\"M17.41 7.96l-1.37-1.37c-.4-.4-.92-.59-1.43-.59-.52 0-1.04.2-1.43.59L10.3 9.45l-7.72 7.72c-.78.78-.78 2.05 0 2.83L4 21.41c.39.39.9.59 1.41.59.51 0 1.02-.2 1.41-.59l7.78-7.78 2.81-2.81c.8-.78.8-2.07 0-2.86zM5.41 20L4 18.59l7.72-7.72 1.47 1.35L5.41 20z\"/>\n",
              "  </svg>\n",
              "      </button>\n",
              "\n",
              "\n",
              "\n",
              "    <div id=\"df-eeeeda4e-8657-41b4-8cfa-df8d0ed1bd67\">\n",
              "      <button class=\"colab-df-quickchart\" onclick=\"quickchart('df-eeeeda4e-8657-41b4-8cfa-df8d0ed1bd67')\"\n",
              "              title=\"Suggest charts.\"\n",
              "              style=\"display:none;\">\n",
              "\n",
              "<svg xmlns=\"http://www.w3.org/2000/svg\" height=\"24px\"viewBox=\"0 0 24 24\"\n",
              "     width=\"24px\">\n",
              "    <g>\n",
              "        <path d=\"M19 3H5c-1.1 0-2 .9-2 2v14c0 1.1.9 2 2 2h14c1.1 0 2-.9 2-2V5c0-1.1-.9-2-2-2zM9 17H7v-7h2v7zm4 0h-2V7h2v10zm4 0h-2v-4h2v4z\"/>\n",
              "    </g>\n",
              "</svg>\n",
              "      </button>\n",
              "    </div>\n",
              "\n",
              "<style>\n",
              "  .colab-df-quickchart {\n",
              "    background-color: #E8F0FE;\n",
              "    border: none;\n",
              "    border-radius: 50%;\n",
              "    cursor: pointer;\n",
              "    display: none;\n",
              "    fill: #1967D2;\n",
              "    height: 32px;\n",
              "    padding: 0 0 0 0;\n",
              "    width: 32px;\n",
              "  }\n",
              "\n",
              "  .colab-df-quickchart:hover {\n",
              "    background-color: #E2EBFA;\n",
              "    box-shadow: 0px 1px 2px rgba(60, 64, 67, 0.3), 0px 1px 3px 1px rgba(60, 64, 67, 0.15);\n",
              "    fill: #174EA6;\n",
              "  }\n",
              "\n",
              "  [theme=dark] .colab-df-quickchart {\n",
              "    background-color: #3B4455;\n",
              "    fill: #D2E3FC;\n",
              "  }\n",
              "\n",
              "  [theme=dark] .colab-df-quickchart:hover {\n",
              "    background-color: #434B5C;\n",
              "    box-shadow: 0px 1px 3px 1px rgba(0, 0, 0, 0.15);\n",
              "    filter: drop-shadow(0px 1px 2px rgba(0, 0, 0, 0.3));\n",
              "    fill: #FFFFFF;\n",
              "  }\n",
              "</style>\n",
              "\n",
              "    <script>\n",
              "      async function quickchart(key) {\n",
              "        const containerElement = document.querySelector('#' + key);\n",
              "        const charts = await google.colab.kernel.invokeFunction(\n",
              "            'suggestCharts', [key], {});\n",
              "      }\n",
              "    </script>\n",
              "\n",
              "      <script>\n",
              "\n",
              "function displayQuickchartButton(domScope) {\n",
              "  let quickchartButtonEl =\n",
              "    domScope.querySelector('#df-eeeeda4e-8657-41b4-8cfa-df8d0ed1bd67 button.colab-df-quickchart');\n",
              "  quickchartButtonEl.style.display =\n",
              "    google.colab.kernel.accessAllowed ? 'block' : 'none';\n",
              "}\n",
              "\n",
              "        displayQuickchartButton(document);\n",
              "      </script>\n",
              "      <style>\n",
              "    .colab-df-container {\n",
              "      display:flex;\n",
              "      flex-wrap:wrap;\n",
              "      gap: 12px;\n",
              "    }\n",
              "\n",
              "    .colab-df-convert {\n",
              "      background-color: #E8F0FE;\n",
              "      border: none;\n",
              "      border-radius: 50%;\n",
              "      cursor: pointer;\n",
              "      display: none;\n",
              "      fill: #1967D2;\n",
              "      height: 32px;\n",
              "      padding: 0 0 0 0;\n",
              "      width: 32px;\n",
              "    }\n",
              "\n",
              "    .colab-df-convert:hover {\n",
              "      background-color: #E2EBFA;\n",
              "      box-shadow: 0px 1px 2px rgba(60, 64, 67, 0.3), 0px 1px 3px 1px rgba(60, 64, 67, 0.15);\n",
              "      fill: #174EA6;\n",
              "    }\n",
              "\n",
              "    [theme=dark] .colab-df-convert {\n",
              "      background-color: #3B4455;\n",
              "      fill: #D2E3FC;\n",
              "    }\n",
              "\n",
              "    [theme=dark] .colab-df-convert:hover {\n",
              "      background-color: #434B5C;\n",
              "      box-shadow: 0px 1px 3px 1px rgba(0, 0, 0, 0.15);\n",
              "      filter: drop-shadow(0px 1px 2px rgba(0, 0, 0, 0.3));\n",
              "      fill: #FFFFFF;\n",
              "    }\n",
              "  </style>\n",
              "\n",
              "      <script>\n",
              "        const buttonEl =\n",
              "          document.querySelector('#df-d5c1f27f-874b-46a7-9948-8c4cb5fbe0c5 button.colab-df-convert');\n",
              "        buttonEl.style.display =\n",
              "          google.colab.kernel.accessAllowed ? 'block' : 'none';\n",
              "\n",
              "        async function convertToInteractive(key) {\n",
              "          const element = document.querySelector('#df-d5c1f27f-874b-46a7-9948-8c4cb5fbe0c5');\n",
              "          const dataTable =\n",
              "            await google.colab.kernel.invokeFunction('convertToInteractive',\n",
              "                                                     [key], {});\n",
              "          if (!dataTable) return;\n",
              "\n",
              "          const docLinkHtml = 'Like what you see? Visit the ' +\n",
              "            '<a target=\"_blank\" href=https://colab.research.google.com/notebooks/data_table.ipynb>data table notebook</a>'\n",
              "            + ' to learn more about interactive tables.';\n",
              "          element.innerHTML = '';\n",
              "          dataTable['output_type'] = 'display_data';\n",
              "          await google.colab.output.renderOutput(dataTable, element);\n",
              "          const docLink = document.createElement('div');\n",
              "          docLink.innerHTML = docLinkHtml;\n",
              "          element.appendChild(docLink);\n",
              "        }\n",
              "      </script>\n",
              "    </div>\n",
              "  </div>\n"
            ]
          },
          "metadata": {},
          "execution_count": 6
        }
      ]
    },
    {
      "cell_type": "code",
      "source": [
        "def partition_data_fixed(sample_data, train_validation_test_bounds):\n",
        "  '''\n",
        "  Return data split between the fixed rectangle train_validation_test_bounds\n",
        "  of lattitude and longitude for each of the rows in sample_data.\n",
        "  '''\n",
        "  train_bounds = train_validation_test_bounds[0]\n",
        "  validation_bounds = train_validation_test_bounds[1]\n",
        "  test_bounds = train_validation_test_bounds[2]\n",
        "\n",
        "  train_data = sample_data[\n",
        "      (sample_data['lat'] >= train_bounds[0][0]) & (sample_data['long'] >= train_bounds[0][1]) &\n",
        "      (sample_data['lat'] <= train_bounds[1][0]) & (sample_data['long'] <= train_bounds[1][1])]\n",
        "  validation_data = sample_data[\n",
        "      (sample_data['lat'] >= validation_bounds[0][0]) & (sample_data['long'] >= validation_bounds[0][1]) &\n",
        "      (sample_data['lat'] <= validation_bounds[1][0]) & (sample_data['long'] <= validation_bounds[1][1])]\n",
        "  test_data = sample_data[\n",
        "      (sample_data['lat'] >= test_bounds[0][0]) & (sample_data['long'] >= test_bounds[0][1]) &\n",
        "      (sample_data['lat'] <= test_bounds[1][0]) & (sample_data['long'] <= test_bounds[1][1])]\n",
        "\n",
        "  return train_data, validation_data, test_data"
      ],
      "metadata": {
        "id": "GTZBuFiLSCJ1"
      },
      "execution_count": 7,
      "outputs": []
    },
    {
      "cell_type": "code",
      "source": [
        "if PARTITION_STRATEGY == \"FIXED\":\n",
        "  train_data, validation_data, test_data = partition_data_fixed(sample_data, TRAIN_VALIDATION_TEST_BOUNDS)\n",
        "else:\n",
        "  raise ValueError(f\"Unknown partition strategy: {PARTITION_STRATEGY}\")"
      ],
      "metadata": {
        "id": "L501lgSDm3bG"
      },
      "execution_count": 8,
      "outputs": []
    },
    {
      "cell_type": "code",
      "source": [
        "print(train_data.shape[0])\n",
        "print(validation_data.shape[0])\n",
        "print(test_data.shape[0])"
      ],
      "metadata": {
        "colab": {
          "base_uri": "https://localhost:8080/"
        },
        "id": "ZoWixaV5hPXv",
        "outputId": "7071ea98-b505-4ed8-8919-8f5790c5eb1a"
      },
      "execution_count": 9,
      "outputs": [
        {
          "output_type": "stream",
          "name": "stdout",
          "text": [
            "73\n",
            "41\n",
            "106\n"
          ]
        }
      ]
    },
    {
      "cell_type": "code",
      "source": [
        "# Optional (plot splits)\n",
        "import matplotlib\n",
        "import matplotlib.pyplot as plt\n",
        "\n",
        "plt.scatter(train_data[\"lat\"], train_data[\"long\"], label=\"train\", alpha=0.2)\n",
        "plt.scatter(validation_data[\"lat\"], validation_data[\"long\"], label=\"validation\", alpha=0.2)\n",
        "plt.scatter(test_data[\"lat\"], test_data[\"long\"], label=\"test\", alpha=0.2)\n",
        "plt.xlabel('Lattitude')\n",
        "plt.ylabel('Longitude')\n",
        "plt.legend()\n",
        "plt.show()"
      ],
      "metadata": {
        "colab": {
          "base_uri": "https://localhost:8080/",
          "height": 449
        },
        "id": "_snCMXqyTaQc",
        "outputId": "8c47e463-048a-490c-dcb0-5d943dfa4975"
      },
      "execution_count": 11,
      "outputs": [
        {
          "output_type": "display_data",
          "data": {
            "text/plain": [
              "<Figure size 640x480 with 1 Axes>"
            ],
            "image/png": "[encoded data removed]"
          },
          "metadata": {}
        }
      ]
    },
    {
      "cell_type": "code",
      "source": [
        "train_data.to_csv(f\"{GDRIVE_BASE}{OUTPUT_TRAIN_CSV_PATH}\")\n",
        "validation_data.to_csv(f\"{GDRIVE_BASE}{OUTPUT_VALIDATION_CSV_PATH}\")\n",
        "test_data.to_csv(f\"{GDRIVE_BASE}{OUTPUT_TEST_CSV_PATH}\")"
      ],
      "metadata": {
        "id": "f4vBnCNRwc9F"
      },
      "execution_count": 12,
      "outputs": []
    }
  ]
}