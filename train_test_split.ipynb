{
  "nbformat": 4,
  "nbformat_minor": 0,
  "metadata": {
    "colab": {
      "provenance": [],
      "authorship_tag": "ABX9TyOkCbUsApVDAI4hR0APvuFp",
      "include_colab_link": true
    },
    "kernelspec": {
      "name": "python3",
      "display_name": "Python 3"
    },
    "language_info": {
      "name": "python"
    }
  },
  "cells": [
    {
      "cell_type": "markdown",
      "metadata": {
        "id": "view-in-github",
        "colab_type": "text"
      },
      "source": [
        "<a href=\"https://colab.research.google.com/github/tnc-br/ddf-isoscapes/blob/random_split/train_test_split.ipynb\" target=\"_parent\"><img src=\"https://colab.research.google.com/assets/colab-badge.svg\" alt=\"Open In Colab\"/></a>"
      ]
    },
    {
      "cell_type": "code",
      "source": [
        "import pandas as pd\n",
        "import numpy as np"
      ],
      "metadata": {
        "id": "CJCt18ZEXOyv"
      },
      "execution_count": 1,
      "outputs": []
    },
    {
      "cell_type": "code",
      "source": [
        "SAMPLE_CSV_PATH = \"/MyDrive/amazon_rainforest_files/amazon_sample_data/2023_06_23_Results_Google.csv\" #@param\n",
        "FEATURE_COLUMNS = ['lat', 'long', 'VPD', 'RH', 'PET', 'DEM', 'PA', 'Mean Annual Temperature', 'Mean Annual Precipitation',        'Iso_Oxi_Stack_mean_TERZER', 'predkrig_br_lat_ISORG',        'isoscape_fullmodel_d18O_prec_REGRESSION', 'Code', 'Family'] #@param\n",
        "LABEL_COLUMNS = [\"d18O_cel\"] #@param\n",
        "\n",
        "# The columns that will be used to group the dataset to calculate\n",
        "# means and variance on LABEL_COLUMNS\n",
        "GROUPING_COLUMNS = [] #@param\n",
        "# If True, the rows will remain unique GROUPING_COLUMNS values. Otherwise\n",
        "# we merge the grouping columns aggregates with the original dataset.\n",
        "KEEP_GROUPING = False #@param\n",
        "\n",
        "# Values can be:\n",
        "# - SORTING: Sample rows are sorted by key made of PARTITION_COLUMNS\n",
        "PARTITION_STRATEGY = \"RANDOM\" #@param\n",
        "assert(PARTITION_STRATEGY in ['FIXED', 'RANDOM'])\n",
        "\n",
        "# For FIXED only, the bounds of each partition for the split\n",
        "TRAIN_FIXED_BOUNDS = [(-5, -62.5), (float('inf'), float('inf'))]\n",
        "VALIDATION_FIXED_BOUNDS = [(-5, float('-inf')), (float('inf'), -62.5)]\n",
        "TEST_FIXED = BOUNDS = [(float('-inf'), float('-inf')), (-5, float('inf'))]\n",
        "TRAIN_VALIDATION_TEST_BOUNDS = [TRAIN_FIXED_BOUNDS, VALIDATION_FIXED_BOUNDS, TEST_FIXED]\n",
        "\n",
        "# For RANDOM only, the fraction of the dataset allocated for train, validation\n",
        "# and test sets.\n",
        "TRAIN_VALIDATION_TEST_RATIOS = [0.8, 0.1, 0.1]\n",
        "assert(sum(TRAIN_VALIDATION_TEST_RATIOS) == 1.0)\n",
        "\n",
        "OUTPUT_DATASET_NAME=\"uc_davis_2023_08_13_kriging\" #@param\n",
        "OUTPUT_DATASET_ROOT = \"/MyDrive/amazon_rainforest_files/amazon_sample_data/\" #@param\n",
        "GROUPING_STR = \"grouped\" if KEEP_GROUPING else \"ungrouped\"\n",
        "\n",
        "OUTPUT_TRAIN_CSV_PATH = f\"{OUTPUT_DATASET_ROOT}{OUTPUT_DATASET_NAME}_train_{PARTITION_STRATEGY.lower()}_{GROUPING_STR}.csv\"\n",
        "OUTPUT_VALIDATION_CSV_PATH = f\"{OUTPUT_DATASET_ROOT}{OUTPUT_DATASET_NAME}_validation_{PARTITION_STRATEGY.lower()}_{GROUPING_STR}.csv\"\n",
        "OUTPUT_TEST_CSV_PATH = f\"{OUTPUT_DATASET_ROOT}{OUTPUT_DATASET_NAME}_test_{PARTITION_STRATEGY.lower()}_{GROUPING_STR}.csv\"\n",
        "\n",
        "GDRIVE_BASE = \"/content/drive\" #@param"
      ],
      "metadata": {
        "id": "Us2-lRsEUBru"
      },
      "execution_count": 2,
      "outputs": []
    },
    {
      "cell_type": "code",
      "source": [
        "# Access data stored on Google Drive\n",
        "if GDRIVE_BASE:\n",
        "    from google.colab import drive\n",
        "    drive.mount(GDRIVE_BASE)"
      ],
      "metadata": {
        "colab": {
          "base_uri": "https://localhost:8080/"
        },
        "id": "n_kIR1epXirP",
        "outputId": "8913f36f-bcfb-45db-950d-71bab0ba63bc"
      },
      "execution_count": 3,
      "outputs": [
        {
          "output_type": "stream",
          "name": "stdout",
          "text": [
            "Mounted at /content/drive\n"
          ]
        }
      ]
    },
    {
      "cell_type": "markdown",
      "source": [
        "# Pre-Process Sample"
      ],
      "metadata": {
        "id": "TuoHc5wfMsgV"
      }
    },
    {
      "cell_type": "code",
      "execution_count": 4,
      "metadata": {
        "id": "HwhEmF1oSAS3"
      },
      "outputs": [],
      "source": [
        "def preprocess_sample_data(df, feature_columns, label_columns, aggregate_columns, keep_grouping) -> pd.DataFrame:\n",
        "  '''\n",
        "  Given a pd.DataFRame df:\n",
        "  1. Filters in relevant columns using feature_columns, label_columns\n",
        "  2. Calculates the mean and variance of each column in label_columns grouping\n",
        "     by a key made of aggregate_columns\n",
        "  3. If keep_grouping = True, we export groupings by key aggregate_columns\n",
        "     otherwise we return the original sample with their matching means/variances.\n",
        "  '''\n",
        "  df.dropna(subset=feature_columns + label_columns, inplace=True)\n",
        "  df = df[feature_columns + label_columns]\n",
        "\n",
        "  if aggregate_columns:\n",
        "    grouped = df.groupby(aggregate_columns)\n",
        "\n",
        "    for col in label_columns:\n",
        "      means = grouped.mean().reset_index()\n",
        "      means.rename(columns={col: f\"{col}_mean\"}, inplace=True)\n",
        "      means = means[aggregate_columns + [f\"{col}_mean\"]]\n",
        "\n",
        "      variances = grouped.var().reset_index()\n",
        "      variances.rename(columns={col: f\"{col}_variance\"}, inplace=True)\n",
        "      variances = variances[aggregate_columns + [f\"{col}_variance\"]]\n",
        "\n",
        "      df = pd.merge(df, means, how=\"inner\", left_on=aggregate_columns, right_on=aggregate_columns)\n",
        "      df = pd.merge(df, variances, how=\"inner\", left_on=aggregate_columns, right_on=aggregate_columns)\n",
        "      df.drop(columns=[col], inplace=True)\n",
        "\n",
        "    if keep_grouping:\n",
        "      # The first entry is the same as all entries in the grouping for the\n",
        "      # aggregate_columns. Any other column will have different values but\n",
        "      # we only take the first one.\n",
        "      df = df.groupby(aggregate_columns).first().reset_index()\n",
        "\n",
        "  return df"
      ]
    },
    {
      "cell_type": "code",
      "source": [
        "df = pd.read_csv(f\"{GDRIVE_BASE}/{SAMPLE_CSV_PATH}\", encoding=\"ISO-8859-1\", sep=',')\n",
        "sample_data = preprocess_sample_data(df, FEATURE_COLUMNS, LABEL_COLUMNS, GROUPING_COLUMNS, KEEP_GROUPING)"
      ],
      "metadata": {
        "id": "I1pBrXMNXNlu"
      },
      "execution_count": 5,
      "outputs": []
    },
    {
      "cell_type": "markdown",
      "source": [
        "## (Optional) Test preprocess_sample_data"
      ],
      "metadata": {
        "id": "3PRe4OL7Mm6n"
      }
    },
    {
      "cell_type": "code",
      "source": [
        "\n",
        "from pandas.util.testing import assert_frame_equal\n",
        "\n",
        "# Average and variance test\n",
        "def average_variance_test():\n",
        "  test_df = pd.DataFrame({\n",
        "      \"lat\": [0.0, 0.0, 1.0],\n",
        "      \"long\": [3.0, 3.0, 6.0],\n",
        "      \"x\": [3.0, 3.0, 3.0],\n",
        "      \"y\": [8.0, 0.0, -3.0]}\n",
        "  )\n",
        "  feature_columns = [\"lat\", \"long\"]\n",
        "  label_columns = [\"x\", \"y\"]\n",
        "  aggregate_columns = [\"lat\", \"long\"]\n",
        "  keep_grouping=True\n",
        "\n",
        "  test_sample = preprocess_sample_data(test_df, feature_columns, label_columns, aggregate_columns, keep_grouping)\n",
        "  expected_df = pd.DataFrame({\n",
        "      \"lat\": [0.0, 1.0],\n",
        "      \"long\": [3.0, 6.0],\n",
        "      \"x_mean\": [3.0, 3.0],\n",
        "      \"x_variance\": [0.0, np.nan],\n",
        "      \"y_mean\": [4.0, -3.0],\n",
        "      \"y_variance\": [32.0, np.nan]\n",
        "  })\n",
        "  assert_frame_equal(expected_df, test_sample)\n",
        "\n",
        "def average_variance_test_no_grouping():\n",
        "  test_df = pd.DataFrame({\n",
        "      \"lat\": [0.0, 0.0, 1.0],\n",
        "      \"long\": [3.0, 3.0, 6.0],\n",
        "      \"x\": [3.0, 3.0, 3.0],\n",
        "      \"y\": [8.0, 0.0, -3.0]}\n",
        "  )\n",
        "  feature_columns = [\"lat\", \"long\"]\n",
        "  label_columns = [\"x\", \"y\"]\n",
        "  aggregate_columns = [\"lat\", \"long\"]\n",
        "  keep_grouping=False\n",
        "\n",
        "  test_sample = preprocess_sample_data(test_df, feature_columns, label_columns, aggregate_columns, keep_grouping)\n",
        "  expected_df = pd.DataFrame({\n",
        "      \"lat\": [0.0, 0.0, 1.0],\n",
        "      \"long\": [3.0, 3.0, 6.0],\n",
        "      \"x_mean\": [3.0, 3.0, 3.0],\n",
        "      \"x_variance\": [0.0, 0.0, np.nan],\n",
        "      \"y_mean\": [4.0, 4.0, -3.0],\n",
        "      \"y_variance\": [32.0, 32.0, np.nan]\n",
        "  })\n",
        "  assert_frame_equal(expected_df, test_sample)\n",
        "\n",
        "def average_variance_test_keep_nonnumerical_columns():\n",
        "  test_df = pd.DataFrame({\n",
        "      \"code\": [\"a\", \"b\", \"c\"],\n",
        "      \"lat\": [0.0, 0.0, 1.0],\n",
        "      \"long\": [3.0, 3.0, 6.0],\n",
        "      \"x\": [3.0, 3.0, 3.0],\n",
        "      \"y\": [8.0, 0.0, -3.0]}\n",
        "  )\n",
        "  feature_columns = [\"code\", \"lat\", \"long\"]\n",
        "  label_columns = [\"x\", \"y\"]\n",
        "  aggregate_columns = [\"lat\", \"long\"]\n",
        "  keep_grouping=True\n",
        "\n",
        "  test_sample = preprocess_sample_data(test_df, feature_columns, label_columns, aggregate_columns, keep_grouping)\n",
        "  expected_df = pd.DataFrame({\n",
        "      \"lat\": [0.0, 1.0],\n",
        "      \"long\": [3.0, 6.0],\n",
        "      \"code\": [\"a\", \"c\"],\n",
        "      \"x_mean\": [3.0, 3.0],\n",
        "      \"x_variance\": [0.0, np.nan],\n",
        "      \"y_mean\": [4.0, -3.0],\n",
        "      \"y_variance\": [32.0, np.nan]\n",
        "  })\n",
        "  assert_frame_equal(expected_df, test_sample)\n",
        "\n",
        "average_variance_test()\n",
        "average_variance_test_no_grouping()\n",
        "average_variance_test_keep_nonnumerical_columns()"
      ],
      "metadata": {
        "colab": {
          "base_uri": "https://localhost:8080/"
        },
        "id": "QDV8xPJM8SM7",
        "outputId": "542413fc-aa5c-4c4c-c442-2d43fab85d9f"
      },
      "execution_count": 6,
      "outputs": [
        {
          "output_type": "stream",
          "name": "stderr",
          "text": [
            "<ipython-input-6-a1161ebf866c>:1: FutureWarning: pandas.util.testing is deprecated. Use the functions in the public API at pandas.testing instead.\n",
            "  from pandas.util.testing import assert_frame_equal\n",
            "<ipython-input-4-29778b688ab8>:17: FutureWarning: The default value of numeric_only in DataFrameGroupBy.mean is deprecated. In a future version, numeric_only will default to False. Either specify numeric_only or select only columns which should be valid for the function.\n",
            "  means = grouped.mean().reset_index()\n",
            "<ipython-input-4-29778b688ab8>:21: FutureWarning: The default value of numeric_only in DataFrameGroupBy.var is deprecated. In a future version, numeric_only will default to False. Either specify numeric_only or select only columns which should be valid for the function.\n",
            "  variances = grouped.var().reset_index()\n",
            "<ipython-input-4-29778b688ab8>:17: FutureWarning: The default value of numeric_only in DataFrameGroupBy.mean is deprecated. In a future version, numeric_only will default to False. Either specify numeric_only or select only columns which should be valid for the function.\n",
            "  means = grouped.mean().reset_index()\n",
            "<ipython-input-4-29778b688ab8>:21: FutureWarning: The default value of numeric_only in DataFrameGroupBy.var is deprecated. In a future version, numeric_only will default to False. Either specify numeric_only or select only columns which should be valid for the function.\n",
            "  variances = grouped.var().reset_index()\n"
          ]
        }
      ]
    },
    {
      "cell_type": "markdown",
      "source": [
        "# Partition Data"
      ],
      "metadata": {
        "id": "s1RWPmocPYAc"
      }
    },
    {
      "cell_type": "code",
      "source": [
        "def partition_data_fixed(sample_data, train_validation_test_bounds):\n",
        "  '''\n",
        "  Return data split between the fixed rectangle train_validation_test_bounds\n",
        "  of lattitude and longitude for each of the rows in sample_data.\n",
        "  '''\n",
        "  train_bounds = train_validation_test_bounds[0]\n",
        "  validation_bounds = train_validation_test_bounds[1]\n",
        "  test_bounds = train_validation_test_bounds[2]\n",
        "\n",
        "  train_data = sample_data[\n",
        "      (sample_data['lat'] >= train_bounds[0][0]) & (sample_data['long'] >= train_bounds[0][1]) &\n",
        "      (sample_data['lat'] <= train_bounds[1][0]) & (sample_data['long'] <= train_bounds[1][1])]\n",
        "  validation_data = sample_data[\n",
        "      (sample_data['lat'] >= validation_bounds[0][0]) & (sample_data['long'] >= validation_bounds[0][1]) &\n",
        "      (sample_data['lat'] <= validation_bounds[1][0]) & (sample_data['long'] <= validation_bounds[1][1])]\n",
        "  test_data = sample_data[\n",
        "      (sample_data['lat'] >= test_bounds[0][0]) & (sample_data['long'] >= test_bounds[0][1]) &\n",
        "      (sample_data['lat'] <= test_bounds[1][0]) & (sample_data['long'] <= test_bounds[1][1])]\n",
        "\n",
        "  return train_data, validation_data, test_data"
      ],
      "metadata": {
        "id": "GTZBuFiLSCJ1"
      },
      "execution_count": 7,
      "outputs": []
    },
    {
      "cell_type": "code",
      "source": [
        "def partition_data_random(sample_data, train_validation_test_ratios):\n",
        "  '''\n",
        "  Return sample_data split randomly into train/validation/test buckets based on\n",
        "  train_validation_test_ratios.\n",
        "  '''\n",
        "  sample_data.sample(frac=1)\n",
        "  n_train = int(sample_data.shape[0] * train_validation_test_ratios[0])\n",
        "  n_validation = int(sample_data.shape[0] * train_validation_test_ratios[1])\n",
        "  train_data = sample_data.loc[:n_train]\n",
        "  validation_data = sample_data.loc[n_train:n_train+n_validation]\n",
        "  test_data = sample_data.loc[n_train+n_validation:]\n",
        "\n",
        "  return train_data, validation_data, test_data"
      ],
      "metadata": {
        "id": "6IM2LXh-dwjU"
      },
      "execution_count": 8,
      "outputs": []
    },
    {
      "cell_type": "code",
      "source": [
        "if PARTITION_STRATEGY == \"FIXED\":\n",
        "  train_data, validation_data, test_data = partition_data_fixed(sample_data, TRAIN_VALIDATION_TEST_BOUNDS)\n",
        "elif PARTITION_STRATEGY == \"RANDOM\":\n",
        "  train_data, validation_data, test_data = partition_data_random(sample_data, TRAIN_VALIDATION_TEST_RATIOS)\n",
        "else:\n",
        "  raise ValueError(f\"Unknown partition strategy: {PARTITION_STRATEGY}\")"
      ],
      "metadata": {
        "id": "L501lgSDm3bG"
      },
      "execution_count": 9,
      "outputs": []
    },
    {
      "cell_type": "code",
      "source": [
        "print(train_data.shape[0])\n",
        "print(validation_data.shape[0])\n",
        "print(test_data.shape[0])"
      ],
      "metadata": {
        "colab": {
          "base_uri": "https://localhost:8080/"
        },
        "id": "ZoWixaV5hPXv",
        "outputId": "9f4aa182-7bf8-4d55-badd-41d2c809fc8b"
      },
      "execution_count": 10,
      "outputs": [
        {
          "output_type": "stream",
          "name": "stdout",
          "text": [
            "442\n",
            "61\n",
            "116\n"
          ]
        }
      ]
    },
    {
      "cell_type": "code",
      "source": [
        "# Optional (plot splits)\n",
        "import matplotlib\n",
        "import matplotlib.pyplot as plt\n",
        "\n",
        "plt.scatter(train_data[\"lat\"], train_data[\"long\"], label=\"train\", alpha=0.2)\n",
        "plt.scatter(validation_data[\"lat\"], validation_data[\"long\"], label=\"validation\", alpha=0.2)\n",
        "plt.scatter(test_data[\"lat\"], test_data[\"long\"], label=\"test\", alpha=0.2)\n",
        "plt.xlabel('Lattitude')\n",
        "plt.ylabel('Longitude')\n",
        "plt.legend()\n",
        "plt.show()"
      ],
      "metadata": {
        "colab": {
          "base_uri": "https://localhost:8080/",
          "height": 449
        },
        "id": "_snCMXqyTaQc",
        "outputId": "848aea2a-5b8a-4e16-d6ba-27fecdf5113f"
      },
      "execution_count": 11,
      "outputs": [
        {
          "output_type": "display_data",
          "data": {
            "text/plain": [
              "<Figure size 640x480 with 1 Axes>"
            ],
            "image/png": "[encoded data removed]"
          },
          "metadata": {}
        }
      ]
    },
    {
      "cell_type": "code",
      "source": [
        "train_data.to_csv(f\"{GDRIVE_BASE}{OUTPUT_TRAIN_CSV_PATH}\")\n",
        "validation_data.to_csv(f\"{GDRIVE_BASE}{OUTPUT_VALIDATION_CSV_PATH}\")\n",
        "test_data.to_csv(f\"{GDRIVE_BASE}{OUTPUT_TEST_CSV_PATH}\")"
      ],
      "metadata": {
        "id": "f4vBnCNRwc9F"
      },
      "execution_count": 14,
      "outputs": []
    }
  ]
}