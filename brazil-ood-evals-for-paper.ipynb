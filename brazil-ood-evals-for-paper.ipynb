{
  "cells": [
    {
      "cell_type": "markdown",
      "metadata": {
        "id": "view-in-github",
        "colab_type": "text"
      },
      "source": [
        "<a href=\"https://colab.research.google.com/github/tnc-br/ddf-isoscapes/blob/npr-working/brazil-ood-evals-for-paper.ipynb\" target=\"_parent\"><img src=\"https://colab.research.google.com/assets/colab-badge.svg\" alt=\"Open In Colab\"/></a>"
      ]
    },
    {
      "cell_type": "markdown",
      "metadata": {
        "id": "-0IfT3kGwgK6"
      },
      "source": [
        "# Isoscape Evals\n",
        "\n",
        "Notebook Purpose: Eval isoscape generation methods for our paper\n",
        "\n",
        "Isoscape Task: Find the mean/variance of O18 ratios (as well as N15 and C13 in the future) at a particular lat/lon across Brazil."
      ]
    },
    {
      "cell_type": "markdown",
      "metadata": {
        "id": "7MRzTQkqvRbC"
      },
      "source": [
        "# Setup"
      ]
    },
    {
      "cell_type": "markdown",
      "source": [
        "## Fetch Dependencies"
      ],
      "metadata": {
        "id": "Zkt_fmYJHdkJ"
      }
    },
    {
      "cell_type": "code",
      "source": [
        "!pip install rasterio fiona pykrige"
      ],
      "metadata": {
        "id": "Bie51sxeGzSR",
        "colab": {
          "base_uri": "https://localhost:8080/"
        },
        "outputId": "b1a06cea-9eee-4e18-9449-ddef32d47d39"
      },
      "execution_count": 1,
      "outputs": [
        {
          "output_type": "stream",
          "name": "stdout",
          "text": [
            "Collecting rasterio\n",
            "  Downloading rasterio-1.4.3-cp311-cp311-manylinux_2_17_x86_64.manylinux2014_x86_64.whl.metadata (9.1 kB)\n",
            "Collecting fiona\n",
            "  Downloading fiona-1.10.1-cp311-cp311-manylinux_2_17_x86_64.manylinux2014_x86_64.whl.metadata (56 kB)\n",
            "\u001b[2K     \u001b[90m━━━━━━━━━━━━━━━━━━━━━━━━━━━━━━━━━━━━━━━━\u001b[0m \u001b[32m56.6/56.6 kB\u001b[0m \u001b[31m902.9 kB/s\u001b[0m eta \u001b[36m0:00:00\u001b[0m\n",
            "\u001b[?25hCollecting pykrige\n",
            "  Downloading PyKrige-1.7.2-cp311-cp311-manylinux_2_17_x86_64.manylinux2014_x86_64.whl.metadata (8.1 kB)\n",
            "Collecting affine (from rasterio)\n",
            "  Downloading affine-2.4.0-py3-none-any.whl.metadata (4.0 kB)\n",
            "Requirement already satisfied: attrs in /usr/local/lib/python3.11/dist-packages (from rasterio) (25.1.0)\n",
            "Requirement already satisfied: certifi in /usr/local/lib/python3.11/dist-packages (from rasterio) (2024.12.14)\n",
            "Requirement already satisfied: click>=4.0 in /usr/local/lib/python3.11/dist-packages (from rasterio) (8.1.8)\n",
            "Collecting cligj>=0.5 (from rasterio)\n",
            "  Downloading cligj-0.7.2-py3-none-any.whl.metadata (5.0 kB)\n",
            "Requirement already satisfied: numpy>=1.24 in /usr/local/lib/python3.11/dist-packages (from rasterio) (1.26.4)\n",
            "Collecting click-plugins (from rasterio)\n",
            "  Downloading click_plugins-1.1.1-py2.py3-none-any.whl.metadata (6.4 kB)\n",
            "Requirement already satisfied: pyparsing in /usr/local/lib/python3.11/dist-packages (from rasterio) (3.2.1)\n",
            "Requirement already satisfied: scipy<2,>=1.1.0 in /usr/local/lib/python3.11/dist-packages (from pykrige) (1.13.1)\n",
            "Downloading rasterio-1.4.3-cp311-cp311-manylinux_2_17_x86_64.manylinux2014_x86_64.whl (22.2 MB)\n",
            "\u001b[2K   \u001b[90m━━━━━━━━━━━━━━━━━━━━━━━━━━━━━━━━━━━━━━━━\u001b[0m \u001b[32m22.2/22.2 MB\u001b[0m \u001b[31m29.8 MB/s\u001b[0m eta \u001b[36m0:00:00\u001b[0m\n",
            "\u001b[?25hDownloading fiona-1.10.1-cp311-cp311-manylinux_2_17_x86_64.manylinux2014_x86_64.whl (17.3 MB)\n",
            "\u001b[2K   \u001b[90m━━━━━━━━━━━━━━━━━━━━━━━━━━━━━━━━━━━━━━━━\u001b[0m \u001b[32m17.3/17.3 MB\u001b[0m \u001b[31m39.6 MB/s\u001b[0m eta \u001b[36m0:00:00\u001b[0m\n",
            "\u001b[?25hDownloading PyKrige-1.7.2-cp311-cp311-manylinux_2_17_x86_64.manylinux2014_x86_64.whl (979 kB)\n",
            "\u001b[2K   \u001b[90m━━━━━━━━━━━━━━━━━━━━━━━━━━━━━━━━━━━━━━━━\u001b[0m \u001b[32m979.6/979.6 kB\u001b[0m \u001b[31m13.6 MB/s\u001b[0m eta \u001b[36m0:00:00\u001b[0m\n",
            "\u001b[?25hDownloading click_plugins-1.1.1-py2.py3-none-any.whl (7.5 kB)\n",
            "Downloading cligj-0.7.2-py3-none-any.whl (7.1 kB)\n",
            "Downloading affine-2.4.0-py3-none-any.whl (15 kB)\n",
            "Installing collected packages: cligj, click-plugins, affine, rasterio, pykrige, fiona\n",
            "Successfully installed affine-2.4.0 click-plugins-1.1.1 cligj-0.7.2 fiona-1.10.1 pykrige-1.7.2 rasterio-1.4.3\n"
          ]
        }
      ]
    },
    {
      "cell_type": "markdown",
      "source": [
        "### If Doing Monte-Carlo: PyMC3 is not packaged properly. Install that."
      ],
      "metadata": {
        "id": "4M6SFkbBHgoF"
      }
    },
    {
      "cell_type": "code",
      "source": [
        "!pip install mkl-service versioneer"
      ],
      "metadata": {
        "id": "Q37CzXl-TCiY"
      },
      "execution_count": null,
      "outputs": []
    },
    {
      "cell_type": "code",
      "source": [
        "!git clone https://github.com/pymc-devs/pymc3\n",
        "!cd pymc3 && pip install -r requirements.txt"
      ],
      "metadata": {
        "id": "EzkHGC46GQkb"
      },
      "execution_count": null,
      "outputs": []
    },
    {
      "cell_type": "code",
      "source": [
        "!cd pymc3 && python setup.py install"
      ],
      "metadata": {
        "id": "WMN0p-nRmXYk"
      },
      "execution_count": null,
      "outputs": []
    },
    {
      "cell_type": "code",
      "source": [
        "!rm -rf pymc3"
      ],
      "metadata": {
        "id": "UOOMHP6XqYjC"
      },
      "execution_count": null,
      "outputs": []
    },
    {
      "cell_type": "markdown",
      "source": [
        "## Import libraries required"
      ],
      "metadata": {
        "id": "8w6dqZPnHshU"
      }
    },
    {
      "cell_type": "code",
      "source": [
        "import importlib\n",
        "from datetime import datetime\n",
        "import sys\n",
        "import os"
      ],
      "metadata": {
        "id": "7gWPZO-5kOQV"
      },
      "execution_count": 2,
      "outputs": []
    },
    {
      "cell_type": "code",
      "execution_count": 3,
      "metadata": {
        "id": "AXh86HFwXiax",
        "outputId": "3ba83d1c-e822-457e-826e-8d62422d74ce",
        "colab": {
          "base_uri": "https://localhost:8080/"
        }
      },
      "outputs": [
        {
          "output_type": "stream",
          "name": "stdout",
          "text": [
            "Cloning into 'ddf_common_stub'...\n",
            "remote: Enumerating objects: 18, done.\u001b[K\n",
            "remote: Counting objects: 100% (18/18), done.\u001b[K\n",
            "remote: Compressing objects: 100% (18/18), done.\u001b[K\n",
            "remote: Total 18 (delta 7), reused 0 (delta 0), pack-reused 0 (from 0)\u001b[K\n",
            "Receiving objects: 100% (18/18), 7.36 KiB | 7.36 MiB/s, done.\n",
            "Resolving deltas: 100% (7/7), done.\n",
            "executing checkout_branch ...\n",
            "b''\n",
            "main branch checked out as readonly. You may now use ddf_common imports\n"
          ]
        }
      ],
      "source": [
        "!if [ ! -d \"/content/ddf_common_stub\" ] ; then git clone -b test https://github.com/tnc-br/ddf_common_stub.git; fi\n",
        "sys.path.append(\"/content/ddf_common_stub/\")\n",
        "import ddfimport\n",
        "ddfimport.ddf_import_common()"
      ]
    },
    {
      "cell_type": "code",
      "execution_count": 5,
      "metadata": {
        "id": "0mUB0y0AXivp",
        "colab": {
          "base_uri": "https://localhost:8080/"
        },
        "outputId": "6379f8f4-cecf-46f0-b792-41a1c5c3a71f"
      },
      "outputs": [
        {
          "output_type": "stream",
          "name": "stdout",
          "text": [
            "Drive already mounted at /content/gdrive; to attempt to forcibly remount, call drive.mount(\"/content/gdrive\", force_remount=True).\n"
          ]
        }
      ],
      "source": [
        "import train_variational_inference_model as tvim\n",
        "import raster\n",
        "import eeddf\n",
        "import dataset\n",
        "import fiona\n",
        "import rasterio.mask\n",
        "import matplotlib.pyplot as plt\n",
        "from google.colab import drive\n",
        "drive.mount(raster.GDRIVE_BASE)\n",
        "\n",
        "# Leave test_environment=True. Experiments must be done in test.\n",
        "eeddf.initialize_ddf(test_environment=True)"
      ]
    },
    {
      "cell_type": "code",
      "source": [
        "# Patch https://github.com/tnc-br/ddf_common/issues/72 here\n",
        "import evaluation\n",
        "importlib.reload(evaluation)\n",
        "importlib.reload(tvim)"
      ],
      "metadata": {
        "colab": {
          "base_uri": "https://localhost:8080/"
        },
        "id": "YQC1y9WR43s1",
        "outputId": "4dd4056e-0b06-4a75-b4e5-1944e43be52a"
      },
      "execution_count": 6,
      "outputs": [
        {
          "output_type": "execute_result",
          "data": {
            "text/plain": [
              "<module 'train_variational_inference_model' from '/tmp/ddf_common/train_variational_inference_model.py'>"
            ]
          },
          "metadata": {},
          "execution_count": 6
        }
      ]
    },
    {
      "cell_type": "markdown",
      "source": [
        "# Data configuration"
      ],
      "metadata": {
        "id": "iE_d9R8LovE6"
      }
    },
    {
      "cell_type": "code",
      "source": [
        "# REQUIREMENTS:\n",
        "\n",
        "# 1) Column names must match features_to_standardize, features_to_passthrough\n",
        "# 2) Label columns in particular must match var_label and mean_label.\n",
        "#\n",
        "# If you used the data ingestion notebook (ingestion.ipynb) then this\n",
        "# should be set up for you already.\n",
        "\n",
        "# TRAINING FILE PARAMS\n",
        "DATABASE_DIR = raster.GDRIVE_BASE + raster.SAMPLE_DATA_BASE\n",
        "TRAINING_SET_FILE = 'canonical/uc_davis_train_fixed_grouped.csv' #@param\n",
        "VALIDATION_SET_FILE = 'canonical/uc_davis_validation_fixed_grouped.csv' #@param\n",
        "TEST_SET_FILE = 'canonical/uc_davis_test_fixed_grouped.csv' #@param\n",
        "\n",
        "# EVAL FILE PARAMS\n",
        "EVAL_DATASET = 'canonical/uc_davis_test_fixed_grouped.csv' #@param\n",
        "#ORIGINAL_DATASET = 'canonical/2023_07_27_Results_google_utf8_latlonadded.csv' #@param\n",
        "ORIGINAL_DATASET = 'canonical/2023_06_23_Results_Google.csv' #@param\n",
        "\n",
        "\n",
        "fileset = {\n",
        "    'TRAIN' : os.path.join(DATABASE_DIR, TRAINING_SET_FILE),\n",
        "    'TEST' : os.path.join(DATABASE_DIR, VALIDATION_SET_FILE),\n",
        "    'VALIDATION' : os.path.join(DATABASE_DIR, TEST_SET_FILE),\n",
        "    'EVAL' : os.path.join(DATABASE_DIR, EVAL_DATASET),\n",
        "    'ORIGINAL' : os.path.join(DATABASE_DIR, ORIGINAL_DATASET)\n",
        "}\n",
        "\n",
        "def prepare_dataset(params: tvim.VIModelTrainingParams, files: dict) -> dataset.ScaledPartitions:\n",
        "  # Prepared columns not in the original input-- these are engineered features\n",
        "  # that we believe include strong signals, stored as geotiffs\n",
        "  potentially_extra_columns = [\n",
        "      \"brisoscape_mean_ISORIX\",\n",
        "      \"d13C_cel_mean\",\n",
        "      \"d13C_cel_var\",\n",
        "      \"ordinary_kriging_linear_d18O_predicted_mean\",\n",
        "      \"ordinary_kriging_linear_d18O_predicted_variance\",\n",
        "  ]\n",
        "\n",
        "  #Load the geotiff it the params request it.\n",
        "  extra_columns_from_geotiffs = {}\n",
        "  for feature in params.features_to_passthrough + params.features_to_standardize:\n",
        "      if feature in potentially_extra_columns:\n",
        "          extra_columns_from_geotiffs[feature] = raster.column_name_to_geotiff_fn[feature]()\n",
        "\n",
        "  return dataset.load_and_scale(\n",
        "      files,\n",
        "      params.mean_label,\n",
        "      params.var_label,\n",
        "      params.features_to_passthrough,\n",
        "      [],\n",
        "      params.features_to_standardize,\n",
        "      extra_columns_from_geotiffs)\n",
        "\n",
        "with fiona.open('zip:///content/gdrive/MyDrive/amazon_rainforest_files/shapefiles/bra_adm_ibge_2020_shp.zip') as shp:\n",
        "  BRAZIL_SHP_MASK = [feature[\"geometry\"] for feature in shp]\n",
        "\n",
        "with fiona.open('zip:///content/gdrive/MyDrive/amazon_rainforest_files/shapefiles/Amazon Biome.zip/data/commondata/data0') as shp:\n",
        "  AMAZON_SHP_MASK = [feature[\"geometry\"] for feature in shp]\n",
        "\n",
        "# Load these lazily later from the first generated isoscapes\n",
        "\n",
        "def display_brazil(band_index: int):\n",
        "  with rasterio.open(ISOSCAPE_SAVE_LOCATION) as src:\n",
        "    raster_data = src.read(band_index+1)  # Read the first band\n",
        "    out_image, out_transform = rasterio.mask.mask(src, BRAZIL_SHP_MASK, crop=False)\n",
        "    out_meta = src.meta\n",
        "    brazil_np_mask = np.logical_not(out_image.astype(bool))\n",
        "\n",
        "  geotiff = raster.load_raster(ISOSCAPE_SAVE_LOCATION, use_only_band_index=band_index)\n",
        "  fig = plt.figure( figsize=(8,8) )\n",
        "  extent = raster.get_extent(geotiff.gdal_dataset).to_matplotlib()\n",
        "  ax = fig.add_subplot()\n",
        "  to_show = np.ma.MaskedArray(geotiff.yearly_masked_image.data, brazil_np_mask[0])\n",
        "  im = fig.axes[0].imshow(to_show, interpolation='none', aspect='auto', extent = extent)\n",
        "  plt.colorbar(im)\n",
        "\n",
        "def display_amazon(band_index: int):\n",
        "  with rasterio.open(ISOSCAPE_SAVE_LOCATION) as src:\n",
        "    raster_data = src.read(band_index+1)  # Read the first band\n",
        "    out_image, out_transform = rasterio.mask.mask(src, AMAZON_SHP_MASK, crop=False)\n",
        "    out_meta = src.meta\n",
        "    amazon_np_mask = np.logical_not(out_image.astype(bool))\n",
        "\n",
        "  geotiff = raster.load_raster(ISOSCAPE_SAVE_LOCATION, use_only_band_index=band_index)\n",
        "  fig = plt.figure( figsize=(8,8) )\n",
        "  extent = raster.get_extent(geotiff.gdal_dataset).to_matplotlib()\n",
        "  ax = fig.add_subplot()\n",
        "  to_show = np.ma.MaskedArray(geotiff.yearly_masked_image.data, amazon_np_mask[0])\n",
        "  im = fig.axes[0].imshow(to_show, interpolation='none', aspect='auto', extent = extent)\n",
        "  plt.colorbar(im)"
      ],
      "metadata": {
        "id": "yAME-bIdmgdb"
      },
      "execution_count": 7,
      "outputs": []
    },
    {
      "cell_type": "markdown",
      "source": [
        "# Non-VI Models"
      ],
      "metadata": {
        "id": "y3WdjCgM7tjf"
      }
    },
    {
      "cell_type": "markdown",
      "source": [
        "## Ordinary Kriging\n",
        "\n",
        "Based on https://geostat-framework.readthedocs.io/projects/pykrige/en/stable/examples/00_ordinary.html"
      ],
      "metadata": {
        "id": "ZyKNtotz7xb9"
      }
    },
    {
      "cell_type": "code",
      "source": [
        "import pykrige.kriging_tools as kt\n",
        "from pykrige.ok import OrdinaryKriging"
      ],
      "metadata": {
        "id": "_aqcbmtBVsdx"
      },
      "execution_count": 8,
      "outputs": []
    },
    {
      "cell_type": "code",
      "source": [
        "params = tvim.VIModelTrainingParams(\n",
        "    training_id = \"test-okrige-2025-01-31-1\", #@param\n",
        "    num_epochs = -1,\n",
        "    num_layers = -1,\n",
        "    num_nodes_per_layer = -1,\n",
        "    training_batch_size = -1,\n",
        "    learning_rate = -1,\n",
        "    mean_label = \"d18O_cel_mean\", #@param\n",
        "    var_label = \"d18O_cel_variance\", #@param\n",
        "    early_stopping_patience = -1,\n",
        "    double_sided_kl = False,\n",
        "    kl_num_samples_from_pred_dist = 1,\n",
        "    dropout_rate = -1,\n",
        "    activation_func = \"\",\n",
        "    features_to_standardize = ['lat', 'long', 'VPD', 'RH', 'PET', 'DEM', 'PA', 'Mean Annual Temperature', 'Mean Annual Precipitation', 'Iso_Oxi_Stack_mean_TERZER', 'isoscape_fullmodel_d18O_prec_REGRESSION', 'brisoscape_mean_ISORIX', 'd13C_cel_mean', 'd13C_cel_var', 'ordinary_kriging_linear_d18O_predicted_mean', 'ordinary_kriging_linear_d18O_predicted_variance'], #@param\n",
        "    features_to_passthrough = [], #@param\n",
        "    resolution_x = 1024, #@param\n",
        "    resolution_y = 1024, #@param\n",
        "    tags = [\"author:npr\", \"ordinary_kriging\", \"all_standardized\", \"gaussian_variogram\", \"rev5\"], #@param\n",
        "    n_cv_folds=None,\n",
        ")\n",
        "eval_params = tvim.VIModelEvalParams(\n",
        "    samples_per_location = 5, #@param\n",
        "    precision_target = 0.95, #@param\n",
        "    recall_target = None, #@param\n",
        "    start_max_fraud_radius= 6, #@param\n",
        "    end_max_fraud_radius = 3000, #@param\n",
        "    radius_pace = 100, #@param\n",
        "    trusted_buffer_radius = 5, #@param\n",
        "    elements_to_eval = ['d18O_cel'], #@param\n",
        ")\n",
        "\n",
        "\n",
        "MODEL_SAVE_LOCATION = os.path.join(raster.GDRIVE_BASE, raster.MODEL_BASE, params.training_id + \".keras\")\n",
        "ISOSCAPE_SAVE_LOCATION = raster.get_raster_path(params.training_id+\".tiff\")\n"
      ],
      "metadata": {
        "id": "f9ZMI678IYJh"
      },
      "execution_count": 17,
      "outputs": []
    },
    {
      "cell_type": "code",
      "source": [
        "data = prepare_dataset(params, fileset)"
      ],
      "metadata": {
        "id": "f1mqcx-vEMrR"
      },
      "execution_count": 22,
      "outputs": []
    },
    {
      "cell_type": "code",
      "source": [
        "import pandas as pd\n",
        "import numpy as np\n",
        "import raster\n",
        "import generate_isoscape\n",
        "from sklearn.metrics import mean_squared_error\n",
        "\n",
        "raw_train = pd.read_csv(fileset['TRAIN'])"
      ],
      "metadata": {
        "id": "Rz7Y6KZkc7XI"
      },
      "execution_count": 23,
      "outputs": []
    },
    {
      "cell_type": "code",
      "source": [
        "def run_ordinary_kriging(**kwargs):\n",
        "  # Not enough data to properly fit a Gaussian variogram\n",
        "  ok = OrdinaryKriging(data.train.X['lat'], data.train.X['long'], data.train.Y['d18O_cel_mean'], **kwargs)\n",
        "\n",
        "  min_long = min(data.train.X['long'])\n",
        "  max_long = max(data.train.X['long'])\n",
        "  min_lat = min(data.train.X['lat'])\n",
        "  max_lat = max(data.train.X['lat'])\n",
        "\n",
        "  # Predict the isotope values on the range of lattitude and longitude values\n",
        "  # within the bounds of our VPD geotiff (should be Brazil-shaped), then save\n",
        "  # for qualitative eval / display\n",
        "  isoscape_long_values =  np.linspace(min_long, max_long, params.resolution_x)\n",
        "  isoscape_lat_values = np.linspace(min_lat, max_lat, params.resolution_y)\n",
        "\n",
        "  means, variances  = ok.execute(\"grid\", isoscape_long_values,\n",
        "                                  isoscape_lat_values)\n",
        "  ok.print_statistics()\n",
        "\n",
        "  arbitrary_geotiff = raster.vapor_pressure_deficit_geotiff()\n",
        "  base_bounds = raster.get_extent(arbitrary_geotiff.gdal_dataset)\n",
        "  final_bounds = raster.create_bounds_from_res(params.resolution_x, params.resolution_y, base_bounds)\n",
        "\n",
        "  all_predictions = np.ma.masked_array([means, variances], mask=[np.isnan(means), np.isnan(variances)]) # raster, lat, lon\n",
        "  all_predictions = np.transpose(all_predictions, axes=[1, 2, 0]) # lat, lon, raster\n",
        "\n",
        "  generate_isoscape.save_numpy_to_geotiff(final_bounds, all_predictions, ISOSCAPE_SAVE_LOCATION)\n",
        "\n",
        "  # Quantitative Eval Metrics\n",
        "  test_pred_means, test_pred_vars  = ok.execute(\"points\", data.test.X['long'],\n",
        "                                  data.test.X['lat'])\n",
        "  test_ground_means = data.test.Y[params.mean_label]\n",
        "  test_ground_vars = data.test.Y[params.var_label]\n",
        "  print(f'Means RMSE: {np.sqrt(mean_squared_error(test_ground_means, test_pred_means))}')\n",
        "  print(f'Variances RMSE: {np.sqrt(mean_squared_error(test_ground_vars, test_pred_vars))}')\n",
        "\n"
      ],
      "metadata": {
        "id": "ujWmpwnXb4MA"
      },
      "execution_count": 24,
      "outputs": []
    },
    {
      "cell_type": "code",
      "source": [
        "# Not enough data for a gaussian variogram (we only use the 'train' split)\n",
        "run_ordinary_kriging(variogram_model='gaussian')"
      ],
      "metadata": {
        "colab": {
          "base_uri": "https://localhost:8080/"
        },
        "id": "aXO5jnR4ay35",
        "outputId": "1e3c221a-1b00-4d84-89b8-1e1d3b989ca4"
      },
      "execution_count": 25,
      "outputs": [
        {
          "output_type": "stream",
          "name": "stdout",
          "text": [
            "Q1 = None\n",
            "Q2 = None\n",
            "cR = None\n",
            "Means RMSE: 1.6616757691130193\n",
            "Variances RMSE: 8.109249988594865\n"
          ]
        }
      ]
    },
    {
      "cell_type": "code",
      "source": [
        "display_brazil(0) # Means"
      ],
      "metadata": {
        "id": "oQgLTcfIN0C-"
      },
      "execution_count": null,
      "outputs": []
    },
    {
      "cell_type": "code",
      "source": [
        "display_amazon(0) # Means"
      ],
      "metadata": {
        "id": "E9N_Hh3mWm47"
      },
      "execution_count": null,
      "outputs": []
    },
    {
      "cell_type": "code",
      "source": [
        "EVAL_ONLY = True\n",
        "res = tvim.train_variational_inference_model(params, eval_params, fileset, ISOSCAPE_SAVE_LOCATION, MODEL_SAVE_LOCATION, eval_only=EVAL_ONLY)"
      ],
      "metadata": {
        "id": "B2ASWy0D0r6o",
        "outputId": "8c061073-849f-47e1-e008-6f779899578d",
        "colab": {
          "base_uri": "https://localhost:8080/"
        }
      },
      "execution_count": 28,
      "outputs": [
        {
          "output_type": "stream",
          "name": "stdout",
          "text": [
            "Driver: GTiff/GeoTIFF\n",
            "Size is 1024 x 1024 x 2\n",
            "Projection is GEOGCS[\"WGS 84\",DATUM[\"WGS_1984\",SPHEROID[\"WGS 84\",6378137,298.257223563,AUTHORITY[\"EPSG\",\"7030\"]],AUTHORITY[\"EPSG\",\"6326\"]],PRIMEM[\"Greenwich\",0,AUTHORITY[\"EPSG\",\"8901\"]],UNIT[\"degree\",0.0174532925199433,AUTHORITY[\"EPSG\",\"9122\"]],AXIS[\"Latitude\",NORTH],AXIS[\"Longitude\",EAST],AUTHORITY[\"EPSG\",\"4326\"]]\n",
            "Origin = (-74.0000000000241, 5.29166666665704)\n",
            "Pixel Size = (0.03828938802082461, -0.03812662760417103)\n",
            "Driver: GTiff/GeoTIFF\n",
            "Size is 1024 x 1024 x 2\n",
            "Projection is GEOGCS[\"WGS 84\",DATUM[\"WGS_1984\",SPHEROID[\"WGS 84\",6378137,298.257223563,AUTHORITY[\"EPSG\",\"7030\"]],AUTHORITY[\"EPSG\",\"6326\"]],PRIMEM[\"Greenwich\",0,AUTHORITY[\"EPSG\",\"8901\"]],UNIT[\"degree\",0.0174532925199433,AUTHORITY[\"EPSG\",\"9122\"]],AXIS[\"Latitude\",NORTH],AXIS[\"Longitude\",EAST],AUTHORITY[\"EPSG\",\"4326\"]]\n",
            "Origin = (-74.0000000000241, 5.29166666665704)\n",
            "Pixel Size = (0.03828938802082461, -0.03812662760417103)\n"
          ]
        }
      ]
    },
    {
      "cell_type": "code",
      "source": [
        "params.tags"
      ],
      "metadata": {
        "id": "gquYEsCEvb8o",
        "outputId": "fc3bc458-5e4b-4871-8662-45e877c400a4",
        "colab": {
          "base_uri": "https://localhost:8080/"
        }
      },
      "execution_count": 29,
      "outputs": [
        {
          "output_type": "execute_result",
          "data": {
            "text/plain": [
              "['author:npr',\n",
              " 'ordinary_kriging',\n",
              " 'all_standardized',\n",
              " 'gaussian_variogram',\n",
              " 'rev5']"
            ]
          },
          "metadata": {},
          "execution_count": 29
        }
      ]
    },
    {
      "cell_type": "markdown",
      "source": [
        "## Universal Kriging\n",
        "\n",
        "Based on https://geostat-framework.readthedocs.io/projects/pykrige/en/stable/examples/01_universal.html"
      ],
      "metadata": {
        "id": "__h0JrgMVIlo"
      }
    },
    {
      "cell_type": "code",
      "source": [
        "params = tvim.VIModelTrainingParams(\n",
        "    training_id = \"test-ukrige-2025-01-31-1\", #@param\n",
        "    num_epochs = -1,\n",
        "    num_layers = -1,\n",
        "    num_nodes_per_layer = -1,\n",
        "    training_batch_size = -1,\n",
        "    learning_rate = -1,\n",
        "    mean_label = \"d18O_cel_mean\", #@param\n",
        "    var_label = \"d18O_cel_variance\", #@param\n",
        "    early_stopping_patience = -1,\n",
        "    double_sided_kl = False,\n",
        "    kl_num_samples_from_pred_dist = 1,\n",
        "    dropout_rate = -1,\n",
        "    activation_func = \"\",\n",
        "    features_to_standardize = ['lat', 'long', 'VPD', 'RH', 'PET', 'DEM', 'PA', 'Mean Annual Temperature', 'Mean Annual Precipitation', 'Iso_Oxi_Stack_mean_TERZER', 'isoscape_fullmodel_d18O_prec_REGRESSION', 'brisoscape_mean_ISORIX', 'd13C_cel_mean', 'd13C_cel_var', 'ordinary_kriging_linear_d18O_predicted_mean', 'ordinary_kriging_linear_d18O_predicted_variance'], #@param\n",
        "    features_to_passthrough = [], #@param\n",
        "    resolution_x = 1024, #@param\n",
        "    resolution_y = 1024, #@param\n",
        "    tags = [\"author:npr\", \"universal_kriging\", \"all_standardized\", \"linear_variogram\", \"rev3\"], #@param\n",
        "    n_cv_folds=None,\n",
        ")\n",
        "eval_params = tvim.VIModelEvalParams(\n",
        "    samples_per_location = 5, #@param\n",
        "    precision_target = 0.95, #@param\n",
        "    recall_target = None, #@param\n",
        "    start_max_fraud_radius= 6, #@param\n",
        "    end_max_fraud_radius = 3000, #@param\n",
        "    radius_pace = 100, #@param\n",
        "    trusted_buffer_radius = 5, #@param\n",
        "    elements_to_eval = ['d18O_cel'], #@param\n",
        ")\n",
        "\n",
        "\n",
        "MODEL_SAVE_LOCATION = os.path.join(raster.GDRIVE_BASE, raster.MODEL_BASE, params.training_id + \".keras\")\n",
        "ISOSCAPE_SAVE_LOCATION = raster.get_raster_path(params.training_id+\".tiff\")\n"
      ],
      "metadata": {
        "id": "unQQ4Q_rVIlp"
      },
      "execution_count": 37,
      "outputs": []
    },
    {
      "cell_type": "code",
      "source": [
        "data = prepare_dataset(params, fileset)"
      ],
      "metadata": {
        "id": "pcuCcBLIVIlq"
      },
      "execution_count": 38,
      "outputs": []
    },
    {
      "cell_type": "code",
      "source": [
        "import pandas as pd\n",
        "import numpy as np\n",
        "import raster\n",
        "import pykrige.kriging_tools as kt\n",
        "from pykrige.uk import UniversalKriging\n",
        "from sklearn.metrics import mean_squared_error\n",
        "raw_train = pd.read_csv(fileset['TRAIN'])"
      ],
      "metadata": {
        "id": "qZP6jPZNVIlq"
      },
      "execution_count": 39,
      "outputs": []
    },
    {
      "cell_type": "code",
      "source": [
        "def run_universal_kriging(**kwargs):\n",
        "  uk = UniversalKriging(data.train.X['lat'], data.train.X['long'], data.train.Y['d18O_cel_mean'], **kwargs)\n",
        "  min_long = min(data.train.X['long'])\n",
        "  max_long = max(data.train.X['long'])\n",
        "  min_lat = min(data.train.X['lat'])\n",
        "  max_lat = max(data.train.X['lat'])\n",
        "\n",
        "  # Predict the isotope values on the range of lattitude and longitude values\n",
        "  # within the bounds of our VPD geotiff (should be Brazil-shaped), then save\n",
        "  # for qualitative eval / display\n",
        "  isoscape_long_values =  np.linspace(min_long, max_long, params.resolution_x)\n",
        "  isoscape_lat_values = np.linspace(min_lat, max_lat, params.resolution_y)\n",
        "  means, variances  = uk.execute(\"grid\", isoscape_long_values,\n",
        "                                  isoscape_lat_values)\n",
        "  uk.print_statistics()\n",
        "\n",
        "  arbitrary_geotiff = raster.vapor_pressure_deficit_geotiff()\n",
        "  base_bounds = raster.get_extent(arbitrary_geotiff.gdal_dataset)\n",
        "  final_bounds = raster.create_bounds_from_res(params.resolution_x, params.resolution_y, base_bounds)\n",
        "\n",
        "  all_predictions = np.ma.masked_array([means, variances], mask=[np.isnan(means), np.isnan(variances)]) # raster, lat, lon\n",
        "  all_predictions = np.transpose(all_predictions, axes=[1, 2, 0]) # lat, lon, raster\n",
        "\n",
        "  generate_isoscape.save_numpy_to_geotiff(final_bounds, all_predictions, ISOSCAPE_SAVE_LOCATION)\n",
        "\n",
        "  # Quantitative Eval Metrics\n",
        "  test_pred_means, test_pred_vars  = uk.execute(\"points\", data.test.X['long'],\n",
        "                                  data.test.X['lat'])\n",
        "  test_ground_means = data.test.Y[params.mean_label]\n",
        "  test_ground_vars = data.test.Y[params.var_label]\n",
        "  print(f'Means RMSE: {np.sqrt(mean_squared_error(test_ground_means, test_pred_means))}')\n",
        "  print(f'Variances RMSE: {np.sqrt(mean_squared_error(test_ground_vars, test_pred_vars))}')\n"
      ],
      "metadata": {
        "id": "Xv-wAfM4aFTP"
      },
      "execution_count": 40,
      "outputs": []
    },
    {
      "cell_type": "code",
      "source": [
        "run_universal_kriging(variogram_model='linear', drift_terms=['regional_linear'])"
      ],
      "metadata": {
        "colab": {
          "base_uri": "https://localhost:8080/"
        },
        "id": "mzsnAUeQaYMH",
        "outputId": "39183a86-9c91-4cea-bb44-effbd5816713"
      },
      "execution_count": 41,
      "outputs": [
        {
          "output_type": "stream",
          "name": "stdout",
          "text": [
            "Q1 = 0.7151932816470236\n",
            "Q2 = 1.6623374194545486\n",
            "cR = 1.9228636927560991\n",
            "Means RMSE: 1.2233162221816973\n",
            "Variances RMSE: 7.890280099543764\n"
          ]
        }
      ]
    },
    {
      "cell_type": "code",
      "source": [
        "display_brazil(0)"
      ],
      "metadata": {
        "id": "-UQk9iUbVIlq"
      },
      "execution_count": null,
      "outputs": []
    },
    {
      "cell_type": "code",
      "source": [
        "EVAL_ONLY = True\n",
        "res = tvim.train_variational_inference_model(params, eval_params, fileset, ISOSCAPE_SAVE_LOCATION, MODEL_SAVE_LOCATION, eval_only=EVAL_ONLY)"
      ],
      "metadata": {
        "colab": {
          "base_uri": "https://localhost:8080/"
        },
        "id": "AiWWvgDnfVPj",
        "outputId": "74cf0cfd-7e84-4812-e8cb-07958bd4a7b2"
      },
      "execution_count": 42,
      "outputs": [
        {
          "output_type": "stream",
          "name": "stdout",
          "text": [
            "Driver: GTiff/GeoTIFF\n",
            "Size is 1024 x 1024 x 2\n",
            "Projection is GEOGCS[\"WGS 84\",DATUM[\"WGS_1984\",SPHEROID[\"WGS 84\",6378137,298.257223563,AUTHORITY[\"EPSG\",\"7030\"]],AUTHORITY[\"EPSG\",\"6326\"]],PRIMEM[\"Greenwich\",0,AUTHORITY[\"EPSG\",\"8901\"]],UNIT[\"degree\",0.0174532925199433,AUTHORITY[\"EPSG\",\"9122\"]],AXIS[\"Latitude\",NORTH],AXIS[\"Longitude\",EAST],AUTHORITY[\"EPSG\",\"4326\"]]\n",
            "Origin = (-74.0000000000241, 5.29166666665704)\n",
            "Pixel Size = (0.03828938802082461, -0.03812662760417103)\n",
            "Driver: GTiff/GeoTIFF\n",
            "Size is 1024 x 1024 x 2\n",
            "Projection is GEOGCS[\"WGS 84\",DATUM[\"WGS_1984\",SPHEROID[\"WGS 84\",6378137,298.257223563,AUTHORITY[\"EPSG\",\"7030\"]],AUTHORITY[\"EPSG\",\"6326\"]],PRIMEM[\"Greenwich\",0,AUTHORITY[\"EPSG\",\"8901\"]],UNIT[\"degree\",0.0174532925199433,AUTHORITY[\"EPSG\",\"9122\"]],AXIS[\"Latitude\",NORTH],AXIS[\"Longitude\",EAST],AUTHORITY[\"EPSG\",\"4326\"]]\n",
            "Origin = (-74.0000000000241, 5.29166666665704)\n",
            "Pixel Size = (0.03828938802082461, -0.03812662760417103)\n"
          ]
        }
      ]
    },
    {
      "cell_type": "markdown",
      "source": [
        "## Regression Kriging\n",
        "\n",
        "Based on https://geostat-framework.readthedocs.io/projects/pykrige/en/stable/examples/07_regression_kriging2d.html"
      ],
      "metadata": {
        "id": "6fJgekHu75JO"
      }
    },
    {
      "cell_type": "code",
      "source": [
        "params = tvim.VIModelTrainingParams(\n",
        "    training_id = \"test-rkrige-2025-01-31-2\", #@param\n",
        "    num_epochs = -1,\n",
        "    num_layers = -1,\n",
        "    num_nodes_per_layer = -1,\n",
        "    training_batch_size = -1,\n",
        "    learning_rate = -1,\n",
        "    mean_label = \"d18O_cel_mean\", #@param\n",
        "    var_label = \"d18O_cel_variance\", #@param\n",
        "    early_stopping_patience = -1,\n",
        "    double_sided_kl = False,\n",
        "    kl_num_samples_from_pred_dist = 1,\n",
        "    dropout_rate = -1,\n",
        "    activation_func = \"\",\n",
        "    features_to_standardize = ['VPD', 'RH', 'PET', 'DEM', 'PA', 'Mean Annual Temperature', 'Mean Annual Precipitation', 'Iso_Oxi_Stack_mean_TERZER', 'isoscape_fullmodel_d18O_prec_REGRESSION', 'brisoscape_mean_ISORIX', 'd13C_cel_mean', 'd13C_cel_var', 'ordinary_kriging_linear_d18O_predicted_mean', 'ordinary_kriging_linear_d18O_predicted_variance'], #@param\n",
        "    features_to_passthrough = ['lat', 'long'], #@param\n",
        "    resolution_x = 1024, #@param\n",
        "    resolution_y = 1024, #@param\n",
        "    tags = [\"author:npr\", \"regression_kriging\", \"all_standardized\", \"rev2\", \"krige_type:regression\", \"variogram:gaussian\", \"n_estimators:100\", \"max_depth:20\", \"regression_strategy:gradientboosting\"], #@param\n",
        "    n_cv_folds = None\n",
        ")\n",
        "eval_params = tvim.VIModelEvalParams(\n",
        "    samples_per_location = 5, #@param\n",
        "    precision_target = 0.95, #@param\n",
        "    recall_target = None, #@param\n",
        "    start_max_fraud_radius= 6, #@param\n",
        "    end_max_fraud_radius = 3000, #@param\n",
        "    radius_pace = 100, #@param\n",
        "    trusted_buffer_radius = 5, #@param\n",
        "    elements_to_eval = ['d18O_cel'], #@param\n",
        ")\n",
        "\n",
        "\n",
        "MODEL_SAVE_LOCATION = os.path.join(raster.GDRIVE_BASE, raster.MODEL_BASE, params.training_id + \".keras\")\n",
        "ISOSCAPE_SAVE_LOCATION = raster.get_raster_path(params.training_id+\".tiff\")"
      ],
      "metadata": {
        "id": "J3DGz5eObz2B"
      },
      "execution_count": 49,
      "outputs": []
    },
    {
      "cell_type": "code",
      "source": [
        "import pandas as pd\n",
        "import numpy as np\n",
        "import raster\n",
        "from numpy.typing import NDArray\n",
        "from typing import Tuple, List\n",
        "\n",
        "from sklearn.datasets import fetch_california_housing\n",
        "from sklearn.ensemble import RandomForestRegressor\n",
        "from sklearn.linear_model import LinearRegression\n",
        "from sklearn.ensemble import GradientBoostingRegressor\n",
        "from sklearn.model_selection import train_test_split\n",
        "from sklearn.svm import SVR\n",
        "from sklearn.metrics import mean_squared_error\n",
        "import generate_isoscape\n",
        "import model\n",
        "\n",
        "from pykrige.rk import RegressionKriging\n",
        "\n",
        "\n",
        "def run_regression_kriging(regression_model, regression_kwargs, krige_kwargs):\n",
        "  data = prepare_dataset(params, fileset)\n",
        "  raw_train = pd.read_csv(fileset['TRAIN']).dropna()\n",
        "  raw_val = pd.read_csv(fileset['VALIDATION']).dropna()\n",
        "\n",
        "  svr_model = SVR(C=0.1, gamma=\"auto\")\n",
        "  rf_model = RandomForestRegressor(n_estimators=1000)\n",
        "  lr_model = LinearRegression(copy_X=True, fit_intercept=True)\n",
        "  gb_model = GradientBoostingRegressor(n_estimators=100, max_depth=20)\n",
        "\n",
        "  models = [svr_model, rf_model, lr_model]\n",
        "\n",
        "  train_features = params.features_to_standardize + params.features_to_passthrough\n",
        "  train_features_nolatlon = list(train_features)\n",
        "  train_features_nolatlon.remove('lat')\n",
        "  train_features_nolatlon.remove('long')\n",
        "\n",
        "  p_train = pd.concat((data.train.X[train_features_nolatlon], data.val.X[train_features_nolatlon],), join='inner')\n",
        "  x_train = np.concatenate((np.array(tuple(zip(raw_train['lat'], raw_train['long']))), np.array(tuple(zip(raw_val['lat'], raw_val['long'])))))\n",
        "  target_train = pd.concat((raw_train[params.mean_label], raw_val[params.mean_label],), join='inner')\n",
        "\n",
        "\n",
        "  rk = RegressionKriging(regression_model=regression_model(**regression_kwargs), **krige_kwargs)\n",
        "  # Why do I call .to_numpy() here?\n",
        "  # to_numpy() removes feature names, which ColumnTransformer.transform() strips\n",
        "  # in predict_on_batch(). If trained with feature names but inference is run\n",
        "  # without, a long list of warnings will be printed and isoscape generation will\n",
        "  # be slower.\n",
        "  rk.fit(p_train.to_numpy(), x_train, target_train)\n",
        "\n",
        "\n",
        "  class DDFRegressionKrigingModel(model.Model):\n",
        "    # #@override\n",
        "    def __init__(self, rk: RegressionKriging, training_cols: List[str]):\n",
        "      self.rk = rk\n",
        "      self.training_cols = training_cols\n",
        "\n",
        "    # #@override\n",
        "    def predict_on_batch(self, X: pd.DataFrame) -> NDArray[np.float32]:\n",
        "      #TODO(ruru): Maybe our isoscape generator should standardize the features in features_to_standardize here as well\n",
        "      #TODO: The scaling step appears to add some time. This might be a good target for future performance efforts.\n",
        "      XT = data.feature_scaler.transform(X)\n",
        "      latindex = X.columns.get_loc('lat')\n",
        "      longindex = X.columns.get_loc('long')\n",
        "      x = X[['lat', 'long']].to_numpy()\n",
        "      p = np.delete(XT, [latindex, longindex],axis=1)\n",
        "      means = self.rk.predict(p, x)\n",
        "      return np.array([means, np.zeros(means.shape)]).T\n",
        "\n",
        "    # #@override\n",
        "    def training_column_names(self) -> List[str]:\n",
        "      return ['lat', 'long'] + self.training_cols\n",
        "\n",
        "\n",
        "  rkm = DDFRegressionKrigingModel(rk=rk, training_cols=train_features_nolatlon)\n",
        "\n",
        "\n",
        "\n",
        "  # Quantitative Eval Metrics\n",
        "  test_preds = rkm.predict_on_batch(data.test.X)\n",
        "  test_pred_means = test_preds[:,0]\n",
        "  test_ground_means = data.test.Y[params.mean_label]\n",
        "  print(f'Means RMSE: {np.sqrt(mean_squared_error(test_ground_means, test_pred_means))}')\n",
        "\n",
        "\n",
        "  generate_isoscape.generate_isoscapes_from_variational_model(rkm, 1024, 1024, ISOSCAPE_SAVE_LOCATION)\n"
      ],
      "metadata": {
        "id": "MBMtarzF7slk"
      },
      "execution_count": 50,
      "outputs": []
    },
    {
      "cell_type": "code",
      "source": [
        "run_regression_kriging(GradientBoostingRegressor, {'n_estimators':100, 'max_depth':20}, {'method': 'universal', 'variogram_model':'gaussian', 'drift_terms':['regional_linear']})"
      ],
      "metadata": {
        "colab": {
          "base_uri": "https://localhost:8080/"
        },
        "id": "nrjho6p7x_aE",
        "outputId": "780594e2-2a66-4b3e-e355-ffad87bef8fc"
      },
      "execution_count": 51,
      "outputs": [
        {
          "output_type": "stream",
          "name": "stdout",
          "text": [
            "Finished learning regression model\n",
            "Finished kriging residuals\n",
            "n_closest_points will be ignored for UniversalKriging\n",
            "Means RMSE: 2.252972516201693\n"
          ]
        },
        {
          "output_type": "stream",
          "name": "stderr",
          "text": [
            "  0%|          | 5/1024 [00:00<00:29, 34.21it/s]"
          ]
        },
        {
          "output_type": "stream",
          "name": "stdout",
          "text": [
            "n_closest_points will be ignored for UniversalKriging\n",
            "n_closest_points will be ignored for UniversalKriging\n",
            "n_closest_points will be ignored for UniversalKriging\n",
            "n_closest_points will be ignored for UniversalKriging\n"
          ]
        },
        {
          "output_type": "stream",
          "name": "stderr",
          "text": [
            "\r  1%|          | 9/1024 [00:00<00:45, 22.48it/s]"
          ]
        },
        {
          "output_type": "stream",
          "name": "stdout",
          "text": [
            "n_closest_points will be ignored for UniversalKriging\n",
            "n_closest_points will be ignored for UniversalKriging\n",
            "n_closest_points will be ignored for UniversalKriging\n"
          ]
        },
        {
          "output_type": "stream",
          "name": "stderr",
          "text": [
            "\r  1%|          | 12/1024 [00:00<00:54, 18.67it/s]"
          ]
        },
        {
          "output_type": "stream",
          "name": "stdout",
          "text": [
            "n_closest_points will be ignored for UniversalKriging\n",
            "n_closest_points will be ignored for UniversalKriging\n",
            "n_closest_points will be ignored for UniversalKriging\n"
          ]
        },
        {
          "output_type": "stream",
          "name": "stderr",
          "text": [
            "\r  1%|▏         | 14/1024 [00:00<00:55, 18.12it/s]"
          ]
        },
        {
          "output_type": "stream",
          "name": "stdout",
          "text": [
            "n_closest_points will be ignored for UniversalKriging\n"
          ]
        },
        {
          "output_type": "stream",
          "name": "stderr",
          "text": [
            "\r  2%|▏         | 16/1024 [00:00<00:57, 17.42it/s]"
          ]
        },
        {
          "output_type": "stream",
          "name": "stdout",
          "text": [
            "n_closest_points will be ignored for UniversalKriging\n",
            "n_closest_points will be ignored for UniversalKriging\n",
            "n_closest_points will be ignored for UniversalKriging\n"
          ]
        },
        {
          "output_type": "stream",
          "name": "stderr",
          "text": [
            "\r  2%|▏         | 18/1024 [00:01<01:06, 15.02it/s]"
          ]
        },
        {
          "output_type": "stream",
          "name": "stdout",
          "text": [
            "n_closest_points will be ignored for UniversalKriging\n",
            "n_closest_points will be ignored for UniversalKriging\n"
          ]
        },
        {
          "output_type": "stream",
          "name": "stderr",
          "text": [
            "\r  2%|▏         | 20/1024 [00:01<01:07, 14.83it/s]"
          ]
        },
        {
          "output_type": "stream",
          "name": "stdout",
          "text": [
            "n_closest_points will be ignored for UniversalKriging\n"
          ]
        },
        {
          "output_type": "stream",
          "name": "stderr",
          "text": [
            "\r  2%|▏         | 22/1024 [00:01<01:09, 14.48it/s]"
          ]
        },
        {
          "output_type": "stream",
          "name": "stdout",
          "text": [
            "n_closest_points will be ignored for UniversalKriging\n",
            "n_closest_points will be ignored for UniversalKriging\n",
            "n_closest_points will be ignored for UniversalKriging\n"
          ]
        },
        {
          "output_type": "stream",
          "name": "stderr",
          "text": [
            "\r  2%|▏         | 24/1024 [00:01<01:10, 14.12it/s]"
          ]
        },
        {
          "output_type": "stream",
          "name": "stdout",
          "text": [
            "n_closest_points will be ignored for UniversalKriging\n",
            "n_closest_points will be ignored for UniversalKriging\n"
          ]
        },
        {
          "output_type": "stream",
          "name": "stderr",
          "text": [
            "\r  3%|▎         | 26/1024 [00:01<01:12, 13.79it/s]"
          ]
        },
        {
          "output_type": "stream",
          "name": "stdout",
          "text": [
            "n_closest_points will be ignored for UniversalKriging\n"
          ]
        },
        {
          "output_type": "stream",
          "name": "stderr",
          "text": [
            "\r  3%|▎         | 28/1024 [00:01<01:14, 13.37it/s]"
          ]
        },
        {
          "output_type": "stream",
          "name": "stdout",
          "text": [
            "n_closest_points will be ignored for UniversalKriging\n",
            "n_closest_points will be ignored for UniversalKriging\n",
            "n_closest_points will be ignored for UniversalKriging\n"
          ]
        },
        {
          "output_type": "stream",
          "name": "stderr",
          "text": [
            "\r  3%|▎         | 30/1024 [00:01<01:16, 13.06it/s]"
          ]
        },
        {
          "output_type": "stream",
          "name": "stdout",
          "text": [
            "n_closest_points will be ignored for UniversalKriging\n",
            "n_closest_points will be ignored for UniversalKriging\n"
          ]
        },
        {
          "output_type": "stream",
          "name": "stderr",
          "text": [
            "\r  3%|▎         | 32/1024 [00:02<01:19, 12.44it/s]"
          ]
        },
        {
          "output_type": "stream",
          "name": "stdout",
          "text": [
            "n_closest_points will be ignored for UniversalKriging\n"
          ]
        },
        {
          "output_type": "stream",
          "name": "stderr",
          "text": [
            "\r  3%|▎         | 34/1024 [00:02<01:20, 12.32it/s]"
          ]
        },
        {
          "output_type": "stream",
          "name": "stdout",
          "text": [
            "n_closest_points will be ignored for UniversalKriging\n",
            "n_closest_points will be ignored for UniversalKriging\n",
            "n_closest_points will be ignored for UniversalKriging\n"
          ]
        },
        {
          "output_type": "stream",
          "name": "stderr",
          "text": [
            "\r  4%|▎         | 36/1024 [00:02<01:20, 12.22it/s]"
          ]
        },
        {
          "output_type": "stream",
          "name": "stdout",
          "text": [
            "n_closest_points will be ignored for UniversalKriging\n",
            "n_closest_points will be ignored for UniversalKriging\n"
          ]
        },
        {
          "output_type": "stream",
          "name": "stderr",
          "text": [
            "\r  4%|▎         | 38/1024 [00:02<01:22, 12.01it/s]"
          ]
        },
        {
          "output_type": "stream",
          "name": "stdout",
          "text": [
            "n_closest_points will be ignored for UniversalKriging\n"
          ]
        },
        {
          "output_type": "stream",
          "name": "stderr",
          "text": [
            "\r  4%|▍         | 40/1024 [00:02<01:22, 12.00it/s]"
          ]
        },
        {
          "output_type": "stream",
          "name": "stdout",
          "text": [
            "n_closest_points will be ignored for UniversalKriging\n",
            "n_closest_points will be ignored for UniversalKriging\n",
            "n_closest_points will be ignored for UniversalKriging\n"
          ]
        },
        {
          "output_type": "stream",
          "name": "stderr",
          "text": [
            "\r  4%|▍         | 42/1024 [00:02<01:22, 11.85it/s]"
          ]
        },
        {
          "output_type": "stream",
          "name": "stdout",
          "text": [
            "n_closest_points will be ignored for UniversalKriging\n",
            "n_closest_points will be ignored for UniversalKriging\n"
          ]
        },
        {
          "output_type": "stream",
          "name": "stderr",
          "text": [
            "\r  4%|▍         | 44/1024 [00:03<01:25, 11.48it/s]"
          ]
        },
        {
          "output_type": "stream",
          "name": "stdout",
          "text": [
            "n_closest_points will be ignored for UniversalKriging\n"
          ]
        },
        {
          "output_type": "stream",
          "name": "stderr",
          "text": [
            "\r  4%|▍         | 46/1024 [00:03<01:23, 11.75it/s]"
          ]
        },
        {
          "output_type": "stream",
          "name": "stdout",
          "text": [
            "n_closest_points will be ignored for UniversalKriging\n",
            "n_closest_points will be ignored for UniversalKriging\n",
            "n_closest_points will be ignored for UniversalKriging\n"
          ]
        },
        {
          "output_type": "stream",
          "name": "stderr",
          "text": [
            "\r  5%|▍         | 48/1024 [00:03<01:24, 11.57it/s]"
          ]
        },
        {
          "output_type": "stream",
          "name": "stdout",
          "text": [
            "n_closest_points will be ignored for UniversalKriging\n",
            "n_closest_points will be ignored for UniversalKriging\n",
            "n_closest_points will be ignored for UniversalKriging\n"
          ]
        },
        {
          "output_type": "stream",
          "name": "stderr",
          "text": [
            "  5%|▌         | 52/1024 [00:03<01:25, 11.36it/s]"
          ]
        },
        {
          "output_type": "stream",
          "name": "stdout",
          "text": [
            "n_closest_points will be ignored for UniversalKriging\n",
            "n_closest_points will be ignored for UniversalKriging\n",
            "n_closest_points will be ignored for UniversalKriging\n"
          ]
        },
        {
          "output_type": "stream",
          "name": "stderr",
          "text": [
            "\r  5%|▌         | 54/1024 [00:04<01:26, 11.21it/s]"
          ]
        },
        {
          "output_type": "stream",
          "name": "stdout",
          "text": [
            "n_closest_points will be ignored for UniversalKriging\n",
            "n_closest_points will be ignored for UniversalKriging\n",
            "n_closest_points will be ignored for UniversalKriging\n"
          ]
        },
        {
          "output_type": "stream",
          "name": "stderr",
          "text": [
            "  6%|▌         | 58/1024 [00:04<01:27, 11.06it/s]"
          ]
        },
        {
          "output_type": "stream",
          "name": "stdout",
          "text": [
            "n_closest_points will be ignored for UniversalKriging\n",
            "n_closest_points will be ignored for UniversalKriging\n",
            "n_closest_points will be ignored for UniversalKriging\n"
          ]
        },
        {
          "output_type": "stream",
          "name": "stderr",
          "text": [
            "\r  6%|▌         | 60/1024 [00:04<01:26, 11.08it/s]"
          ]
        },
        {
          "output_type": "stream",
          "name": "stdout",
          "text": [
            "n_closest_points will be ignored for UniversalKriging\n",
            "n_closest_points will be ignored for UniversalKriging\n"
          ]
        },
        {
          "output_type": "stream",
          "name": "stderr",
          "text": [
            "\r  6%|▌         | 62/1024 [00:04<01:26, 11.07it/s]"
          ]
        },
        {
          "output_type": "stream",
          "name": "stdout",
          "text": [
            "n_closest_points will be ignored for UniversalKriging\n"
          ]
        },
        {
          "output_type": "stream",
          "name": "stderr",
          "text": [
            "\r  6%|▋         | 64/1024 [00:04<01:26, 11.12it/s]"
          ]
        },
        {
          "output_type": "stream",
          "name": "stdout",
          "text": [
            "n_closest_points will be ignored for UniversalKriging\n",
            "n_closest_points will be ignored for UniversalKriging\n",
            "n_closest_points will be ignored for UniversalKriging\n"
          ]
        },
        {
          "output_type": "stream",
          "name": "stderr",
          "text": [
            "\r  6%|▋         | 66/1024 [00:05<01:26, 11.08it/s]"
          ]
        },
        {
          "output_type": "stream",
          "name": "stdout",
          "text": [
            "n_closest_points will be ignored for UniversalKriging\n",
            "n_closest_points will be ignored for UniversalKriging\n",
            "n_closest_points will be ignored for UniversalKriging\n"
          ]
        },
        {
          "output_type": "stream",
          "name": "stderr",
          "text": [
            "  7%|▋         | 70/1024 [00:05<01:26, 10.97it/s]"
          ]
        },
        {
          "output_type": "stream",
          "name": "stdout",
          "text": [
            "n_closest_points will be ignored for UniversalKriging\n",
            "n_closest_points will be ignored for UniversalKriging\n",
            "n_closest_points will be ignored for UniversalKriging\n"
          ]
        },
        {
          "output_type": "stream",
          "name": "stderr",
          "text": [
            "\r  7%|▋         | 72/1024 [00:05<01:26, 10.99it/s]"
          ]
        },
        {
          "output_type": "stream",
          "name": "stdout",
          "text": [
            "n_closest_points will be ignored for UniversalKriging\n",
            "n_closest_points will be ignored for UniversalKriging\n"
          ]
        },
        {
          "output_type": "stream",
          "name": "stderr",
          "text": [
            "\r  7%|▋         | 74/1024 [00:05<01:24, 11.22it/s]"
          ]
        },
        {
          "output_type": "stream",
          "name": "stdout",
          "text": [
            "n_closest_points will be ignored for UniversalKriging\n",
            "n_closest_points will be ignored for UniversalKriging\n",
            "n_closest_points will be ignored for UniversalKriging\n"
          ]
        },
        {
          "output_type": "stream",
          "name": "stderr",
          "text": [
            "\r  7%|▋         | 76/1024 [00:06<01:24, 11.17it/s]"
          ]
        },
        {
          "output_type": "stream",
          "name": "stdout",
          "text": [
            "n_closest_points will be ignored for UniversalKriging\n"
          ]
        },
        {
          "output_type": "stream",
          "name": "stderr",
          "text": [
            "\r  8%|▊         | 78/1024 [00:06<01:27, 10.79it/s]"
          ]
        },
        {
          "output_type": "stream",
          "name": "stdout",
          "text": [
            "n_closest_points will be ignored for UniversalKriging\n",
            "n_closest_points will be ignored for UniversalKriging\n"
          ]
        },
        {
          "output_type": "stream",
          "name": "stderr",
          "text": [
            "\r  8%|▊         | 80/1024 [00:06<01:26, 10.97it/s]"
          ]
        },
        {
          "output_type": "stream",
          "name": "stdout",
          "text": [
            "n_closest_points will be ignored for UniversalKriging\n"
          ]
        },
        {
          "output_type": "stream",
          "name": "stderr",
          "text": [
            "\r  8%|▊         | 82/1024 [00:06<01:25, 10.99it/s]"
          ]
        },
        {
          "output_type": "stream",
          "name": "stdout",
          "text": [
            "n_closest_points will be ignored for UniversalKriging\n",
            "n_closest_points will be ignored for UniversalKriging\n",
            "n_closest_points will be ignored for UniversalKriging\n"
          ]
        },
        {
          "output_type": "stream",
          "name": "stderr",
          "text": [
            "\r  8%|▊         | 84/1024 [00:06<01:25, 11.03it/s]"
          ]
        },
        {
          "output_type": "stream",
          "name": "stdout",
          "text": [
            "n_closest_points will be ignored for UniversalKriging\n",
            "n_closest_points will be ignored for UniversalKriging\n"
          ]
        },
        {
          "output_type": "stream",
          "name": "stderr",
          "text": [
            "\r  8%|▊         | 86/1024 [00:06<01:24, 11.09it/s]"
          ]
        },
        {
          "output_type": "stream",
          "name": "stdout",
          "text": [
            "n_closest_points will be ignored for UniversalKriging\n"
          ]
        },
        {
          "output_type": "stream",
          "name": "stderr",
          "text": [
            "\r  9%|▊         | 88/1024 [00:07<01:22, 11.28it/s]"
          ]
        },
        {
          "output_type": "stream",
          "name": "stdout",
          "text": [
            "n_closest_points will be ignored for UniversalKriging\n",
            "n_closest_points will be ignored for UniversalKriging\n",
            "n_closest_points will be ignored for UniversalKriging\n"
          ]
        },
        {
          "output_type": "stream",
          "name": "stderr",
          "text": [
            "\r  9%|▉         | 90/1024 [00:07<01:23, 11.15it/s]"
          ]
        },
        {
          "output_type": "stream",
          "name": "stdout",
          "text": [
            "n_closest_points will be ignored for UniversalKriging\n",
            "n_closest_points will be ignored for UniversalKriging\n"
          ]
        },
        {
          "output_type": "stream",
          "name": "stderr",
          "text": [
            "\r  9%|▉         | 92/1024 [00:07<01:22, 11.28it/s]"
          ]
        },
        {
          "output_type": "stream",
          "name": "stdout",
          "text": [
            "n_closest_points will be ignored for UniversalKriging\n",
            "n_closest_points will be ignored for UniversalKriging\n"
          ]
        },
        {
          "output_type": "stream",
          "name": "stderr",
          "text": [
            "\r  9%|▉         | 94/1024 [00:07<01:26, 10.76it/s]"
          ]
        },
        {
          "output_type": "stream",
          "name": "stdout",
          "text": [
            "n_closest_points will be ignored for UniversalKriging\n",
            "n_closest_points will be ignored for UniversalKriging\n",
            "n_closest_points will be ignored for UniversalKriging\n"
          ]
        },
        {
          "output_type": "stream",
          "name": "stderr",
          "text": [
            "\r  9%|▉         | 96/1024 [00:07<01:26, 10.79it/s]"
          ]
        },
        {
          "output_type": "stream",
          "name": "stdout",
          "text": [
            "n_closest_points will be ignored for UniversalKriging\n",
            "n_closest_points will be ignored for UniversalKriging\n"
          ]
        },
        {
          "output_type": "stream",
          "name": "stderr",
          "text": [
            "\r 10%|▉         | 98/1024 [00:08<01:26, 10.76it/s]"
          ]
        },
        {
          "output_type": "stream",
          "name": "stdout",
          "text": [
            "n_closest_points will be ignored for UniversalKriging\n"
          ]
        },
        {
          "output_type": "stream",
          "name": "stderr",
          "text": [
            "\r 10%|▉         | 100/1024 [00:08<01:25, 10.82it/s]"
          ]
        },
        {
          "output_type": "stream",
          "name": "stdout",
          "text": [
            "n_closest_points will be ignored for UniversalKriging\n",
            "n_closest_points will be ignored for UniversalKriging\n"
          ]
        },
        {
          "output_type": "stream",
          "name": "stderr",
          "text": [
            "\r 10%|▉         | 102/1024 [00:08<01:30, 10.18it/s]"
          ]
        },
        {
          "output_type": "stream",
          "name": "stdout",
          "text": [
            "n_closest_points will be ignored for UniversalKriging\n",
            "n_closest_points will be ignored for UniversalKriging\n",
            "n_closest_points will be ignored for UniversalKriging\n"
          ]
        },
        {
          "output_type": "stream",
          "name": "stderr",
          "text": [
            "\r 10%|█         | 104/1024 [00:08<01:30, 10.22it/s]"
          ]
        },
        {
          "output_type": "stream",
          "name": "stdout",
          "text": [
            "n_closest_points will be ignored for UniversalKriging\n",
            "n_closest_points will be ignored for UniversalKriging\n"
          ]
        },
        {
          "output_type": "stream",
          "name": "stderr",
          "text": [
            "\r 10%|█         | 106/1024 [00:08<01:28, 10.37it/s]"
          ]
        },
        {
          "output_type": "stream",
          "name": "stdout",
          "text": [
            "n_closest_points will be ignored for UniversalKriging\n"
          ]
        },
        {
          "output_type": "stream",
          "name": "stderr",
          "text": [
            "\r 11%|█         | 108/1024 [00:09<01:29, 10.24it/s]"
          ]
        },
        {
          "output_type": "stream",
          "name": "stdout",
          "text": [
            "n_closest_points will be ignored for UniversalKriging\n",
            "n_closest_points will be ignored for UniversalKriging\n"
          ]
        },
        {
          "output_type": "stream",
          "name": "stderr",
          "text": [
            "\r 11%|█         | 110/1024 [00:09<01:31,  9.99it/s]"
          ]
        },
        {
          "output_type": "stream",
          "name": "stdout",
          "text": [
            "n_closest_points will be ignored for UniversalKriging\n",
            "n_closest_points will be ignored for UniversalKriging\n"
          ]
        },
        {
          "output_type": "stream",
          "name": "stderr",
          "text": [
            "\r 11%|█         | 112/1024 [00:09<01:37,  9.39it/s]"
          ]
        },
        {
          "output_type": "stream",
          "name": "stdout",
          "text": [
            "n_closest_points will be ignored for UniversalKriging\n"
          ]
        },
        {
          "output_type": "stream",
          "name": "stderr",
          "text": [
            "\r 11%|█         | 113/1024 [00:09<01:40,  9.09it/s]"
          ]
        },
        {
          "output_type": "stream",
          "name": "stdout",
          "text": [
            "n_closest_points will be ignored for UniversalKriging\n"
          ]
        },
        {
          "output_type": "stream",
          "name": "stderr",
          "text": [
            "\r 11%|█         | 114/1024 [00:09<01:40,  9.09it/s]"
          ]
        },
        {
          "output_type": "stream",
          "name": "stdout",
          "text": [
            "n_closest_points will be ignored for UniversalKriging\n"
          ]
        },
        {
          "output_type": "stream",
          "name": "stderr",
          "text": [
            "\r 11%|█         | 115/1024 [00:09<01:50,  8.23it/s]"
          ]
        },
        {
          "output_type": "stream",
          "name": "stdout",
          "text": [
            "n_closest_points will be ignored for UniversalKriging\n",
            "n_closest_points will be ignored for UniversalKriging\n"
          ]
        },
        {
          "output_type": "stream",
          "name": "stderr",
          "text": [
            "\r 11%|█▏        | 116/1024 [00:10<02:06,  7.20it/s]"
          ]
        },
        {
          "output_type": "stream",
          "name": "stdout",
          "text": [
            "n_closest_points will be ignored for UniversalKriging\n"
          ]
        },
        {
          "output_type": "stream",
          "name": "stderr",
          "text": [
            "\r 11%|█▏        | 117/1024 [00:10<02:15,  6.71it/s]"
          ]
        },
        {
          "output_type": "stream",
          "name": "stdout",
          "text": [
            "n_closest_points will be ignored for UniversalKriging\n"
          ]
        },
        {
          "output_type": "stream",
          "name": "stderr",
          "text": [
            " 12%|█▏        | 119/1024 [00:10<03:11,  4.72it/s]"
          ]
        },
        {
          "output_type": "stream",
          "name": "stdout",
          "text": [
            "n_closest_points will be ignored for UniversalKriging\n"
          ]
        },
        {
          "output_type": "stream",
          "name": "stderr",
          "text": [
            "\r 12%|█▏        | 120/1024 [00:11<03:32,  4.25it/s]"
          ]
        },
        {
          "output_type": "stream",
          "name": "stdout",
          "text": [
            "n_closest_points will be ignored for UniversalKriging\n"
          ]
        },
        {
          "output_type": "stream",
          "name": "stderr",
          "text": [
            "\r 12%|█▏        | 121/1024 [00:11<03:49,  3.93it/s]"
          ]
        },
        {
          "output_type": "stream",
          "name": "stdout",
          "text": [
            "n_closest_points will be ignored for UniversalKriging\n"
          ]
        },
        {
          "output_type": "stream",
          "name": "stderr",
          "text": [
            "\r 12%|█▏        | 122/1024 [00:11<03:56,  3.81it/s]"
          ]
        },
        {
          "output_type": "stream",
          "name": "stdout",
          "text": [
            "n_closest_points will be ignored for UniversalKriging\n"
          ]
        },
        {
          "output_type": "stream",
          "name": "stderr",
          "text": [
            "\r 12%|█▏        | 123/1024 [00:11<03:35,  4.19it/s]"
          ]
        },
        {
          "output_type": "stream",
          "name": "stdout",
          "text": [
            "n_closest_points will be ignored for UniversalKriging\n",
            "n_closest_points will be ignored for UniversalKriging\n"
          ]
        },
        {
          "output_type": "stream",
          "name": "stderr",
          "text": [
            " 12%|█▏        | 125/1024 [00:12<03:12,  4.67it/s]"
          ]
        },
        {
          "output_type": "stream",
          "name": "stdout",
          "text": [
            "n_closest_points will be ignored for UniversalKriging\n",
            "n_closest_points will be ignored for UniversalKriging\n"
          ]
        },
        {
          "output_type": "stream",
          "name": "stderr",
          "text": [
            " 12%|█▏        | 127/1024 [00:12<03:40,  4.08it/s]"
          ]
        },
        {
          "output_type": "stream",
          "name": "stdout",
          "text": [
            "n_closest_points will be ignored for UniversalKriging\n"
          ]
        },
        {
          "output_type": "stream",
          "name": "stderr",
          "text": [
            "\r 12%|█▎        | 128/1024 [00:13<03:31,  4.24it/s]"
          ]
        },
        {
          "output_type": "stream",
          "name": "stdout",
          "text": [
            "n_closest_points will be ignored for UniversalKriging\n",
            "n_closest_points will be ignored for UniversalKriging\n"
          ]
        },
        {
          "output_type": "stream",
          "name": "stderr",
          "text": [
            " 13%|█▎        | 130/1024 [00:13<03:44,  3.97it/s]"
          ]
        },
        {
          "output_type": "stream",
          "name": "stdout",
          "text": [
            "n_closest_points will be ignored for UniversalKriging\n"
          ]
        },
        {
          "output_type": "stream",
          "name": "stderr",
          "text": [
            "\r 13%|█▎        | 131/1024 [00:13<03:44,  3.98it/s]"
          ]
        },
        {
          "output_type": "stream",
          "name": "stdout",
          "text": [
            "n_closest_points will be ignored for UniversalKriging\n"
          ]
        },
        {
          "output_type": "stream",
          "name": "stderr",
          "text": [
            "\r 13%|█▎        | 132/1024 [00:14<03:41,  4.03it/s]"
          ]
        },
        {
          "output_type": "stream",
          "name": "stdout",
          "text": [
            "n_closest_points will be ignored for UniversalKriging\n",
            "n_closest_points will be ignored for UniversalKriging\n"
          ]
        },
        {
          "output_type": "stream",
          "name": "stderr",
          "text": [
            " 13%|█▎        | 134/1024 [00:14<03:43,  3.98it/s]"
          ]
        },
        {
          "output_type": "stream",
          "name": "stdout",
          "text": [
            "n_closest_points will be ignored for UniversalKriging\n"
          ]
        },
        {
          "output_type": "stream",
          "name": "stderr",
          "text": [
            "\r 13%|█▎        | 135/1024 [00:14<04:03,  3.65it/s]"
          ]
        },
        {
          "output_type": "stream",
          "name": "stdout",
          "text": [
            "n_closest_points will be ignored for UniversalKriging\n"
          ]
        },
        {
          "output_type": "stream",
          "name": "stderr",
          "text": [
            "\r 13%|█▎        | 136/1024 [00:15<04:09,  3.55it/s]"
          ]
        },
        {
          "output_type": "stream",
          "name": "stdout",
          "text": [
            "n_closest_points will be ignored for UniversalKriging\n"
          ]
        },
        {
          "output_type": "stream",
          "name": "stderr",
          "text": [
            "\r 13%|█▎        | 137/1024 [00:15<04:16,  3.46it/s]"
          ]
        },
        {
          "output_type": "stream",
          "name": "stdout",
          "text": [
            "n_closest_points will be ignored for UniversalKriging\n"
          ]
        },
        {
          "output_type": "stream",
          "name": "stderr",
          "text": [
            "\r 13%|█▎        | 138/1024 [00:15<03:42,  3.98it/s]"
          ]
        },
        {
          "output_type": "stream",
          "name": "stdout",
          "text": [
            "n_closest_points will be ignored for UniversalKriging\n",
            "n_closest_points will be ignored for UniversalKriging\n"
          ]
        },
        {
          "output_type": "stream",
          "name": "stderr",
          "text": [
            " 14%|█▍        | 141/1024 [00:16<02:52,  5.13it/s]"
          ]
        },
        {
          "output_type": "stream",
          "name": "stdout",
          "text": [
            "n_closest_points will be ignored for UniversalKriging\n",
            "n_closest_points will be ignored for UniversalKriging\n"
          ]
        },
        {
          "output_type": "stream",
          "name": "stderr",
          "text": [
            "\r 14%|█▍        | 142/1024 [00:16<02:46,  5.30it/s]"
          ]
        },
        {
          "output_type": "stream",
          "name": "stdout",
          "text": [
            "n_closest_points will be ignored for UniversalKriging\n",
            "n_closest_points will be ignored for UniversalKriging\n"
          ]
        },
        {
          "output_type": "stream",
          "name": "stderr",
          "text": [
            " 14%|█▍        | 145/1024 [00:16<02:19,  6.32it/s]"
          ]
        },
        {
          "output_type": "stream",
          "name": "stdout",
          "text": [
            "n_closest_points will be ignored for UniversalKriging\n",
            "n_closest_points will be ignored for UniversalKriging\n"
          ]
        },
        {
          "output_type": "stream",
          "name": "stderr",
          "text": [
            " 14%|█▍        | 147/1024 [00:17<02:10,  6.74it/s]"
          ]
        },
        {
          "output_type": "stream",
          "name": "stdout",
          "text": [
            "n_closest_points will be ignored for UniversalKriging\n",
            "n_closest_points will be ignored for UniversalKriging\n"
          ]
        },
        {
          "output_type": "stream",
          "name": "stderr",
          "text": [
            " 15%|█▍        | 149/1024 [00:17<01:59,  7.34it/s]"
          ]
        },
        {
          "output_type": "stream",
          "name": "stdout",
          "text": [
            "n_closest_points will be ignored for UniversalKriging\n",
            "n_closest_points will be ignored for UniversalKriging\n"
          ]
        },
        {
          "output_type": "stream",
          "name": "stderr",
          "text": [
            " 15%|█▍        | 151/1024 [00:17<02:00,  7.25it/s]"
          ]
        },
        {
          "output_type": "stream",
          "name": "stdout",
          "text": [
            "n_closest_points will be ignored for UniversalKriging\n",
            "n_closest_points will be ignored for UniversalKriging\n"
          ]
        },
        {
          "output_type": "stream",
          "name": "stderr",
          "text": [
            " 15%|█▍        | 153/1024 [00:17<02:01,  7.20it/s]"
          ]
        },
        {
          "output_type": "stream",
          "name": "stdout",
          "text": [
            "n_closest_points will be ignored for UniversalKriging\n",
            "n_closest_points will be ignored for UniversalKriging\n"
          ]
        },
        {
          "output_type": "stream",
          "name": "stderr",
          "text": [
            " 15%|█▌        | 155/1024 [00:18<01:55,  7.51it/s]"
          ]
        },
        {
          "output_type": "stream",
          "name": "stdout",
          "text": [
            "n_closest_points will be ignored for UniversalKriging\n",
            "n_closest_points will be ignored for UniversalKriging\n"
          ]
        },
        {
          "output_type": "stream",
          "name": "stderr",
          "text": [
            " 15%|█▌        | 157/1024 [00:18<01:51,  7.76it/s]"
          ]
        },
        {
          "output_type": "stream",
          "name": "stdout",
          "text": [
            "n_closest_points will be ignored for UniversalKriging\n",
            "n_closest_points will be ignored for UniversalKriging\n"
          ]
        },
        {
          "output_type": "stream",
          "name": "stderr",
          "text": [
            " 16%|█▌        | 159/1024 [00:18<01:55,  7.49it/s]"
          ]
        },
        {
          "output_type": "stream",
          "name": "stdout",
          "text": [
            "n_closest_points will be ignored for UniversalKriging\n",
            "n_closest_points will be ignored for UniversalKriging\n"
          ]
        },
        {
          "output_type": "stream",
          "name": "stderr",
          "text": [
            " 16%|█▌        | 161/1024 [00:18<01:57,  7.36it/s]"
          ]
        },
        {
          "output_type": "stream",
          "name": "stdout",
          "text": [
            "n_closest_points will be ignored for UniversalKriging\n",
            "n_closest_points will be ignored for UniversalKriging\n"
          ]
        },
        {
          "output_type": "stream",
          "name": "stderr",
          "text": [
            " 16%|█▌        | 163/1024 [00:19<01:53,  7.58it/s]"
          ]
        },
        {
          "output_type": "stream",
          "name": "stdout",
          "text": [
            "n_closest_points will be ignored for UniversalKriging\n",
            "n_closest_points will be ignored for UniversalKriging\n"
          ]
        },
        {
          "output_type": "stream",
          "name": "stderr",
          "text": [
            " 16%|█▌        | 165/1024 [00:19<01:53,  7.54it/s]"
          ]
        },
        {
          "output_type": "stream",
          "name": "stdout",
          "text": [
            "n_closest_points will be ignored for UniversalKriging\n",
            "n_closest_points will be ignored for UniversalKriging\n"
          ]
        },
        {
          "output_type": "stream",
          "name": "stderr",
          "text": [
            " 16%|█▋        | 167/1024 [00:19<01:55,  7.43it/s]"
          ]
        },
        {
          "output_type": "stream",
          "name": "stdout",
          "text": [
            "n_closest_points will be ignored for UniversalKriging\n",
            "n_closest_points will be ignored for UniversalKriging\n"
          ]
        },
        {
          "output_type": "stream",
          "name": "stderr",
          "text": [
            " 17%|█▋        | 169/1024 [00:20<01:57,  7.27it/s]"
          ]
        },
        {
          "output_type": "stream",
          "name": "stdout",
          "text": [
            "n_closest_points will be ignored for UniversalKriging\n",
            "n_closest_points will be ignored for UniversalKriging\n"
          ]
        },
        {
          "output_type": "stream",
          "name": "stderr",
          "text": [
            " 17%|█▋        | 171/1024 [00:20<01:54,  7.43it/s]"
          ]
        },
        {
          "output_type": "stream",
          "name": "stdout",
          "text": [
            "n_closest_points will be ignored for UniversalKriging\n",
            "n_closest_points will be ignored for UniversalKriging\n"
          ]
        },
        {
          "output_type": "stream",
          "name": "stderr",
          "text": [
            " 17%|█▋        | 173/1024 [00:20<01:55,  7.35it/s]"
          ]
        },
        {
          "output_type": "stream",
          "name": "stdout",
          "text": [
            "n_closest_points will be ignored for UniversalKriging\n",
            "n_closest_points will be ignored for UniversalKriging\n"
          ]
        },
        {
          "output_type": "stream",
          "name": "stderr",
          "text": [
            " 17%|█▋        | 175/1024 [00:20<01:53,  7.47it/s]"
          ]
        },
        {
          "output_type": "stream",
          "name": "stdout",
          "text": [
            "n_closest_points will be ignored for UniversalKriging\n",
            "n_closest_points will be ignored for UniversalKriging\n"
          ]
        },
        {
          "output_type": "stream",
          "name": "stderr",
          "text": [
            " 17%|█▋        | 177/1024 [00:21<01:55,  7.36it/s]"
          ]
        },
        {
          "output_type": "stream",
          "name": "stdout",
          "text": [
            "n_closest_points will be ignored for UniversalKriging\n",
            "n_closest_points will be ignored for UniversalKriging\n"
          ]
        },
        {
          "output_type": "stream",
          "name": "stderr",
          "text": [
            " 17%|█▋        | 179/1024 [00:21<01:50,  7.63it/s]"
          ]
        },
        {
          "output_type": "stream",
          "name": "stdout",
          "text": [
            "n_closest_points will be ignored for UniversalKriging\n",
            "n_closest_points will be ignored for UniversalKriging\n"
          ]
        },
        {
          "output_type": "stream",
          "name": "stderr",
          "text": [
            " 18%|█▊        | 181/1024 [00:21<01:51,  7.53it/s]"
          ]
        },
        {
          "output_type": "stream",
          "name": "stdout",
          "text": [
            "n_closest_points will be ignored for UniversalKriging\n",
            "n_closest_points will be ignored for UniversalKriging\n"
          ]
        },
        {
          "output_type": "stream",
          "name": "stderr",
          "text": [
            " 18%|█▊        | 183/1024 [00:21<01:47,  7.82it/s]"
          ]
        },
        {
          "output_type": "stream",
          "name": "stdout",
          "text": [
            "n_closest_points will be ignored for UniversalKriging\n",
            "n_closest_points will be ignored for UniversalKriging\n"
          ]
        },
        {
          "output_type": "stream",
          "name": "stderr",
          "text": [
            " 18%|█▊        | 185/1024 [00:22<01:49,  7.65it/s]"
          ]
        },
        {
          "output_type": "stream",
          "name": "stdout",
          "text": [
            "n_closest_points will be ignored for UniversalKriging\n",
            "n_closest_points will be ignored for UniversalKriging\n"
          ]
        },
        {
          "output_type": "stream",
          "name": "stderr",
          "text": [
            " 18%|█▊        | 187/1024 [00:22<01:45,  7.93it/s]"
          ]
        },
        {
          "output_type": "stream",
          "name": "stdout",
          "text": [
            "n_closest_points will be ignored for UniversalKriging\n",
            "n_closest_points will be ignored for UniversalKriging\n"
          ]
        },
        {
          "output_type": "stream",
          "name": "stderr",
          "text": [
            " 18%|█▊        | 189/1024 [00:22<01:46,  7.82it/s]"
          ]
        },
        {
          "output_type": "stream",
          "name": "stdout",
          "text": [
            "n_closest_points will be ignored for UniversalKriging\n",
            "n_closest_points will be ignored for UniversalKriging\n"
          ]
        },
        {
          "output_type": "stream",
          "name": "stderr",
          "text": [
            " 19%|█▊        | 191/1024 [00:22<01:44,  8.00it/s]"
          ]
        },
        {
          "output_type": "stream",
          "name": "stdout",
          "text": [
            "n_closest_points will be ignored for UniversalKriging\n",
            "n_closest_points will be ignored for UniversalKriging\n"
          ]
        },
        {
          "output_type": "stream",
          "name": "stderr",
          "text": [
            " 19%|█▉        | 193/1024 [00:23<01:44,  7.93it/s]"
          ]
        },
        {
          "output_type": "stream",
          "name": "stdout",
          "text": [
            "n_closest_points will be ignored for UniversalKriging\n",
            "n_closest_points will be ignored for UniversalKriging\n"
          ]
        },
        {
          "output_type": "stream",
          "name": "stderr",
          "text": [
            " 19%|█▉        | 195/1024 [00:23<01:40,  8.25it/s]"
          ]
        },
        {
          "output_type": "stream",
          "name": "stdout",
          "text": [
            "n_closest_points will be ignored for UniversalKriging\n",
            "n_closest_points will be ignored for UniversalKriging\n"
          ]
        },
        {
          "output_type": "stream",
          "name": "stderr",
          "text": [
            " 19%|█▉        | 197/1024 [00:23<01:44,  7.93it/s]"
          ]
        },
        {
          "output_type": "stream",
          "name": "stdout",
          "text": [
            "n_closest_points will be ignored for UniversalKriging\n",
            "n_closest_points will be ignored for UniversalKriging\n"
          ]
        },
        {
          "output_type": "stream",
          "name": "stderr",
          "text": [
            " 19%|█▉        | 199/1024 [00:23<01:41,  8.10it/s]"
          ]
        },
        {
          "output_type": "stream",
          "name": "stdout",
          "text": [
            "n_closest_points will be ignored for UniversalKriging\n",
            "n_closest_points will be ignored for UniversalKriging\n"
          ]
        },
        {
          "output_type": "stream",
          "name": "stderr",
          "text": [
            " 20%|█▉        | 201/1024 [00:24<01:42,  8.01it/s]"
          ]
        },
        {
          "output_type": "stream",
          "name": "stdout",
          "text": [
            "n_closest_points will be ignored for UniversalKriging\n",
            "n_closest_points will be ignored for UniversalKriging\n"
          ]
        },
        {
          "output_type": "stream",
          "name": "stderr",
          "text": [
            " 20%|█▉        | 203/1024 [00:24<01:39,  8.21it/s]"
          ]
        },
        {
          "output_type": "stream",
          "name": "stdout",
          "text": [
            "n_closest_points will be ignored for UniversalKriging\n",
            "n_closest_points will be ignored for UniversalKriging\n"
          ]
        },
        {
          "output_type": "stream",
          "name": "stderr",
          "text": [
            " 20%|██        | 205/1024 [00:24<01:40,  8.13it/s]"
          ]
        },
        {
          "output_type": "stream",
          "name": "stdout",
          "text": [
            "n_closest_points will be ignored for UniversalKriging\n",
            "n_closest_points will be ignored for UniversalKriging\n"
          ]
        },
        {
          "output_type": "stream",
          "name": "stderr",
          "text": [
            " 20%|██        | 207/1024 [00:24<01:39,  8.21it/s]"
          ]
        },
        {
          "output_type": "stream",
          "name": "stdout",
          "text": [
            "n_closest_points will be ignored for UniversalKriging\n",
            "n_closest_points will be ignored for UniversalKriging\n"
          ]
        },
        {
          "output_type": "stream",
          "name": "stderr",
          "text": [
            " 20%|██        | 209/1024 [00:25<01:38,  8.25it/s]"
          ]
        },
        {
          "output_type": "stream",
          "name": "stdout",
          "text": [
            "n_closest_points will be ignored for UniversalKriging\n",
            "n_closest_points will be ignored for UniversalKriging\n"
          ]
        },
        {
          "output_type": "stream",
          "name": "stderr",
          "text": [
            " 21%|██        | 211/1024 [00:25<01:40,  8.11it/s]"
          ]
        },
        {
          "output_type": "stream",
          "name": "stdout",
          "text": [
            "n_closest_points will be ignored for UniversalKriging\n",
            "n_closest_points will be ignored for UniversalKriging\n"
          ]
        },
        {
          "output_type": "stream",
          "name": "stderr",
          "text": [
            " 21%|██        | 213/1024 [00:25<01:42,  7.91it/s]"
          ]
        },
        {
          "output_type": "stream",
          "name": "stdout",
          "text": [
            "n_closest_points will be ignored for UniversalKriging\n",
            "n_closest_points will be ignored for UniversalKriging\n"
          ]
        },
        {
          "output_type": "stream",
          "name": "stderr",
          "text": [
            " 21%|██        | 215/1024 [00:25<01:39,  8.13it/s]"
          ]
        },
        {
          "output_type": "stream",
          "name": "stdout",
          "text": [
            "n_closest_points will be ignored for UniversalKriging\n",
            "n_closest_points will be ignored for UniversalKriging\n"
          ]
        },
        {
          "output_type": "stream",
          "name": "stderr",
          "text": [
            " 21%|██        | 217/1024 [00:26<01:39,  8.15it/s]"
          ]
        },
        {
          "output_type": "stream",
          "name": "stdout",
          "text": [
            "n_closest_points will be ignored for UniversalKriging\n",
            "n_closest_points will be ignored for UniversalKriging\n"
          ]
        },
        {
          "output_type": "stream",
          "name": "stderr",
          "text": [
            " 21%|██▏       | 219/1024 [00:26<01:40,  8.03it/s]"
          ]
        },
        {
          "output_type": "stream",
          "name": "stdout",
          "text": [
            "n_closest_points will be ignored for UniversalKriging\n",
            "n_closest_points will be ignored for UniversalKriging\n"
          ]
        },
        {
          "output_type": "stream",
          "name": "stderr",
          "text": [
            " 22%|██▏       | 221/1024 [00:26<01:41,  7.90it/s]"
          ]
        },
        {
          "output_type": "stream",
          "name": "stdout",
          "text": [
            "n_closest_points will be ignored for UniversalKriging\n",
            "n_closest_points will be ignored for UniversalKriging\n"
          ]
        },
        {
          "output_type": "stream",
          "name": "stderr",
          "text": [
            "\r 22%|██▏       | 222/1024 [00:26<01:51,  7.21it/s]"
          ]
        },
        {
          "output_type": "stream",
          "name": "stdout",
          "text": [
            "n_closest_points will be ignored for UniversalKriging\n",
            "n_closest_points will be ignored for UniversalKriging\n"
          ]
        },
        {
          "output_type": "stream",
          "name": "stderr",
          "text": [
            " 22%|██▏       | 224/1024 [00:27<02:07,  6.27it/s]"
          ]
        },
        {
          "output_type": "stream",
          "name": "stdout",
          "text": [
            "n_closest_points will be ignored for UniversalKriging\n",
            "n_closest_points will be ignored for UniversalKriging\n"
          ]
        },
        {
          "output_type": "stream",
          "name": "stderr",
          "text": [
            " 22%|██▏       | 226/1024 [00:27<02:39,  5.01it/s]"
          ]
        },
        {
          "output_type": "stream",
          "name": "stdout",
          "text": [
            "n_closest_points will be ignored for UniversalKriging\n"
          ]
        },
        {
          "output_type": "stream",
          "name": "stderr",
          "text": [
            "\r 22%|██▏       | 227/1024 [00:27<03:00,  4.42it/s]"
          ]
        },
        {
          "output_type": "stream",
          "name": "stdout",
          "text": [
            "n_closest_points will be ignored for UniversalKriging\n"
          ]
        },
        {
          "output_type": "stream",
          "name": "stderr",
          "text": [
            "\r 22%|██▏       | 228/1024 [00:28<03:05,  4.29it/s]"
          ]
        },
        {
          "output_type": "stream",
          "name": "stdout",
          "text": [
            "n_closest_points will be ignored for UniversalKriging\n"
          ]
        },
        {
          "output_type": "stream",
          "name": "stderr",
          "text": [
            "\r 22%|██▏       | 229/1024 [00:28<03:15,  4.07it/s]"
          ]
        },
        {
          "output_type": "stream",
          "name": "stdout",
          "text": [
            "n_closest_points will be ignored for UniversalKriging\n"
          ]
        },
        {
          "output_type": "stream",
          "name": "stderr",
          "text": [
            "\r 22%|██▏       | 230/1024 [00:28<03:22,  3.92it/s]"
          ]
        },
        {
          "output_type": "stream",
          "name": "stdout",
          "text": [
            "n_closest_points will be ignored for UniversalKriging\n"
          ]
        },
        {
          "output_type": "stream",
          "name": "stderr",
          "text": [
            "\r 23%|██▎       | 231/1024 [00:28<03:20,  3.96it/s]"
          ]
        },
        {
          "output_type": "stream",
          "name": "stdout",
          "text": [
            "n_closest_points will be ignored for UniversalKriging\n"
          ]
        },
        {
          "output_type": "stream",
          "name": "stderr",
          "text": [
            "\r 23%|██▎       | 232/1024 [00:29<03:11,  4.14it/s]"
          ]
        },
        {
          "output_type": "stream",
          "name": "stdout",
          "text": [
            "n_closest_points will be ignored for UniversalKriging\n"
          ]
        },
        {
          "output_type": "stream",
          "name": "stderr",
          "text": [
            "\r 23%|██▎       | 233/1024 [00:29<02:55,  4.52it/s]"
          ]
        },
        {
          "output_type": "stream",
          "name": "stdout",
          "text": [
            "n_closest_points will be ignored for UniversalKriging\n",
            "n_closest_points will be ignored for UniversalKriging\n"
          ]
        },
        {
          "output_type": "stream",
          "name": "stderr",
          "text": [
            " 23%|██▎       | 235/1024 [00:29<02:47,  4.72it/s]"
          ]
        },
        {
          "output_type": "stream",
          "name": "stdout",
          "text": [
            "n_closest_points will be ignored for UniversalKriging\n",
            "n_closest_points will be ignored for UniversalKriging\n"
          ]
        },
        {
          "output_type": "stream",
          "name": "stderr",
          "text": [
            " 23%|██▎       | 237/1024 [00:30<03:19,  3.94it/s]"
          ]
        },
        {
          "output_type": "stream",
          "name": "stdout",
          "text": [
            "n_closest_points will be ignored for UniversalKriging\n"
          ]
        },
        {
          "output_type": "stream",
          "name": "stderr",
          "text": [
            "\r 23%|██▎       | 238/1024 [00:30<03:27,  3.78it/s]"
          ]
        },
        {
          "output_type": "stream",
          "name": "stdout",
          "text": [
            "n_closest_points will be ignored for UniversalKriging\n"
          ]
        },
        {
          "output_type": "stream",
          "name": "stderr",
          "text": [
            "\r 23%|██▎       | 239/1024 [00:30<03:08,  4.17it/s]"
          ]
        },
        {
          "output_type": "stream",
          "name": "stdout",
          "text": [
            "n_closest_points will be ignored for UniversalKriging\n",
            "n_closest_points will be ignored for UniversalKriging\n"
          ]
        },
        {
          "output_type": "stream",
          "name": "stderr",
          "text": [
            " 24%|██▎       | 241/1024 [00:31<02:44,  4.76it/s]"
          ]
        },
        {
          "output_type": "stream",
          "name": "stdout",
          "text": [
            "n_closest_points will be ignored for UniversalKriging\n"
          ]
        },
        {
          "output_type": "stream",
          "name": "stderr",
          "text": [
            "\r 24%|██▎       | 242/1024 [00:31<03:11,  4.09it/s]"
          ]
        },
        {
          "output_type": "stream",
          "name": "stdout",
          "text": [
            "n_closest_points will be ignored for UniversalKriging\n"
          ]
        },
        {
          "output_type": "stream",
          "name": "stderr",
          "text": [
            "\r 24%|██▎       | 243/1024 [00:31<03:30,  3.70it/s]"
          ]
        },
        {
          "output_type": "stream",
          "name": "stdout",
          "text": [
            "n_closest_points will be ignored for UniversalKriging\n"
          ]
        },
        {
          "output_type": "stream",
          "name": "stderr",
          "text": [
            "\r 24%|██▍       | 244/1024 [00:32<03:37,  3.58it/s]"
          ]
        },
        {
          "output_type": "stream",
          "name": "stdout",
          "text": [
            "n_closest_points will be ignored for UniversalKriging\n"
          ]
        },
        {
          "output_type": "stream",
          "name": "stderr",
          "text": [
            "\r 24%|██▍       | 245/1024 [00:32<03:49,  3.40it/s]"
          ]
        },
        {
          "output_type": "stream",
          "name": "stdout",
          "text": [
            "n_closest_points will be ignored for UniversalKriging\n"
          ]
        },
        {
          "output_type": "stream",
          "name": "stderr",
          "text": [
            "\r 24%|██▍       | 246/1024 [00:32<03:43,  3.48it/s]"
          ]
        },
        {
          "output_type": "stream",
          "name": "stdout",
          "text": [
            "n_closest_points will be ignored for UniversalKriging\n"
          ]
        },
        {
          "output_type": "stream",
          "name": "stderr",
          "text": [
            "\r 24%|██▍       | 247/1024 [00:33<03:54,  3.32it/s]"
          ]
        },
        {
          "output_type": "stream",
          "name": "stdout",
          "text": [
            "n_closest_points will be ignored for UniversalKriging\n"
          ]
        },
        {
          "output_type": "stream",
          "name": "stderr",
          "text": [
            "\r 24%|██▍       | 248/1024 [00:33<03:57,  3.27it/s]"
          ]
        },
        {
          "output_type": "stream",
          "name": "stdout",
          "text": [
            "n_closest_points will be ignored for UniversalKriging\n"
          ]
        },
        {
          "output_type": "stream",
          "name": "stderr",
          "text": [
            "\r 24%|██▍       | 249/1024 [00:33<03:45,  3.44it/s]"
          ]
        },
        {
          "output_type": "stream",
          "name": "stdout",
          "text": [
            "n_closest_points will be ignored for UniversalKriging\n"
          ]
        },
        {
          "output_type": "stream",
          "name": "stderr",
          "text": [
            "\r 24%|██▍       | 250/1024 [00:33<03:44,  3.45it/s]"
          ]
        },
        {
          "output_type": "stream",
          "name": "stdout",
          "text": [
            "n_closest_points will be ignored for UniversalKriging\n"
          ]
        },
        {
          "output_type": "stream",
          "name": "stderr",
          "text": [
            " 25%|██▍       | 252/1024 [00:34<02:45,  4.66it/s]"
          ]
        },
        {
          "output_type": "stream",
          "name": "stdout",
          "text": [
            "n_closest_points will be ignored for UniversalKriging\n",
            "n_closest_points will be ignored for UniversalKriging\n"
          ]
        },
        {
          "output_type": "stream",
          "name": "stderr",
          "text": [
            " 25%|██▍       | 254/1024 [00:34<02:14,  5.72it/s]"
          ]
        },
        {
          "output_type": "stream",
          "name": "stdout",
          "text": [
            "n_closest_points will be ignored for UniversalKriging\n",
            "n_closest_points will be ignored for UniversalKriging\n"
          ]
        },
        {
          "output_type": "stream",
          "name": "stderr",
          "text": [
            " 25%|██▌       | 256/1024 [00:34<02:04,  6.18it/s]"
          ]
        },
        {
          "output_type": "stream",
          "name": "stdout",
          "text": [
            "n_closest_points will be ignored for UniversalKriging\n",
            "n_closest_points will be ignored for UniversalKriging\n"
          ]
        },
        {
          "output_type": "stream",
          "name": "stderr",
          "text": [
            " 25%|██▌       | 258/1024 [00:35<01:57,  6.52it/s]"
          ]
        },
        {
          "output_type": "stream",
          "name": "stdout",
          "text": [
            "n_closest_points will be ignored for UniversalKriging\n",
            "n_closest_points will be ignored for UniversalKriging\n"
          ]
        },
        {
          "output_type": "stream",
          "name": "stderr",
          "text": [
            " 25%|██▌       | 260/1024 [00:35<01:51,  6.85it/s]"
          ]
        },
        {
          "output_type": "stream",
          "name": "stdout",
          "text": [
            "n_closest_points will be ignored for UniversalKriging\n",
            "n_closest_points will be ignored for UniversalKriging\n"
          ]
        },
        {
          "output_type": "stream",
          "name": "stderr",
          "text": [
            " 26%|██▌       | 262/1024 [00:35<01:51,  6.84it/s]"
          ]
        },
        {
          "output_type": "stream",
          "name": "stdout",
          "text": [
            "n_closest_points will be ignored for UniversalKriging\n",
            "n_closest_points will be ignored for UniversalKriging\n"
          ]
        },
        {
          "output_type": "stream",
          "name": "stderr",
          "text": [
            " 26%|██▌       | 264/1024 [00:35<01:50,  6.85it/s]"
          ]
        },
        {
          "output_type": "stream",
          "name": "stdout",
          "text": [
            "n_closest_points will be ignored for UniversalKriging\n",
            "n_closest_points will be ignored for UniversalKriging\n"
          ]
        },
        {
          "output_type": "stream",
          "name": "stderr",
          "text": [
            " 26%|██▌       | 266/1024 [00:36<01:50,  6.86it/s]"
          ]
        },
        {
          "output_type": "stream",
          "name": "stdout",
          "text": [
            "n_closest_points will be ignored for UniversalKriging\n",
            "n_closest_points will be ignored for UniversalKriging\n"
          ]
        },
        {
          "output_type": "stream",
          "name": "stderr",
          "text": [
            " 26%|██▌       | 268/1024 [00:36<01:52,  6.73it/s]"
          ]
        },
        {
          "output_type": "stream",
          "name": "stdout",
          "text": [
            "n_closest_points will be ignored for UniversalKriging\n",
            "n_closest_points will be ignored for UniversalKriging\n"
          ]
        },
        {
          "output_type": "stream",
          "name": "stderr",
          "text": [
            " 26%|██▋       | 270/1024 [00:36<01:52,  6.70it/s]"
          ]
        },
        {
          "output_type": "stream",
          "name": "stdout",
          "text": [
            "n_closest_points will be ignored for UniversalKriging\n",
            "n_closest_points will be ignored for UniversalKriging\n"
          ]
        },
        {
          "output_type": "stream",
          "name": "stderr",
          "text": [
            " 27%|██▋       | 272/1024 [00:37<01:50,  6.83it/s]"
          ]
        },
        {
          "output_type": "stream",
          "name": "stdout",
          "text": [
            "n_closest_points will be ignored for UniversalKriging\n",
            "n_closest_points will be ignored for UniversalKriging\n"
          ]
        },
        {
          "output_type": "stream",
          "name": "stderr",
          "text": [
            " 27%|██▋       | 274/1024 [00:37<01:49,  6.86it/s]"
          ]
        },
        {
          "output_type": "stream",
          "name": "stdout",
          "text": [
            "n_closest_points will be ignored for UniversalKriging\n",
            "n_closest_points will be ignored for UniversalKriging\n"
          ]
        },
        {
          "output_type": "stream",
          "name": "stderr",
          "text": [
            " 27%|██▋       | 276/1024 [00:37<01:51,  6.71it/s]"
          ]
        },
        {
          "output_type": "stream",
          "name": "stdout",
          "text": [
            "n_closest_points will be ignored for UniversalKriging\n",
            "n_closest_points will be ignored for UniversalKriging\n"
          ]
        },
        {
          "output_type": "stream",
          "name": "stderr",
          "text": [
            " 27%|██▋       | 278/1024 [00:38<01:50,  6.76it/s]"
          ]
        },
        {
          "output_type": "stream",
          "name": "stdout",
          "text": [
            "n_closest_points will be ignored for UniversalKriging\n",
            "n_closest_points will be ignored for UniversalKriging\n"
          ]
        },
        {
          "output_type": "stream",
          "name": "stderr",
          "text": [
            " 27%|██▋       | 280/1024 [00:38<01:51,  6.68it/s]"
          ]
        },
        {
          "output_type": "stream",
          "name": "stdout",
          "text": [
            "n_closest_points will be ignored for UniversalKriging\n",
            "n_closest_points will be ignored for UniversalKriging\n"
          ]
        },
        {
          "output_type": "stream",
          "name": "stderr",
          "text": [
            " 28%|██▊       | 282/1024 [00:38<01:52,  6.58it/s]"
          ]
        },
        {
          "output_type": "stream",
          "name": "stdout",
          "text": [
            "n_closest_points will be ignored for UniversalKriging\n",
            "n_closest_points will be ignored for UniversalKriging\n"
          ]
        },
        {
          "output_type": "stream",
          "name": "stderr",
          "text": [
            " 28%|██▊       | 284/1024 [00:38<01:51,  6.64it/s]"
          ]
        },
        {
          "output_type": "stream",
          "name": "stdout",
          "text": [
            "n_closest_points will be ignored for UniversalKriging\n",
            "n_closest_points will be ignored for UniversalKriging\n"
          ]
        },
        {
          "output_type": "stream",
          "name": "stderr",
          "text": [
            " 28%|██▊       | 286/1024 [00:39<01:48,  6.82it/s]"
          ]
        },
        {
          "output_type": "stream",
          "name": "stdout",
          "text": [
            "n_closest_points will be ignored for UniversalKriging\n",
            "n_closest_points will be ignored for UniversalKriging\n"
          ]
        },
        {
          "output_type": "stream",
          "name": "stderr",
          "text": [
            "\r 28%|██▊       | 287/1024 [00:39<01:49,  6.73it/s]"
          ]
        },
        {
          "output_type": "stream",
          "name": "stdout",
          "text": [
            "n_closest_points will be ignored for UniversalKriging\n",
            "n_closest_points will be ignored for UniversalKriging\n"
          ]
        },
        {
          "output_type": "stream",
          "name": "stderr",
          "text": [
            " 28%|██▊       | 290/1024 [00:39<01:50,  6.64it/s]"
          ]
        },
        {
          "output_type": "stream",
          "name": "stdout",
          "text": [
            "n_closest_points will be ignored for UniversalKriging\n",
            "n_closest_points will be ignored for UniversalKriging\n"
          ]
        },
        {
          "output_type": "stream",
          "name": "stderr",
          "text": [
            " 29%|██▊       | 292/1024 [00:40<01:52,  6.51it/s]"
          ]
        },
        {
          "output_type": "stream",
          "name": "stdout",
          "text": [
            "n_closest_points will be ignored for UniversalKriging\n",
            "n_closest_points will be ignored for UniversalKriging\n"
          ]
        },
        {
          "output_type": "stream",
          "name": "stderr",
          "text": [
            " 29%|██▊       | 294/1024 [00:40<01:48,  6.70it/s]"
          ]
        },
        {
          "output_type": "stream",
          "name": "stdout",
          "text": [
            "n_closest_points will be ignored for UniversalKriging\n",
            "n_closest_points will be ignored for UniversalKriging\n"
          ]
        },
        {
          "output_type": "stream",
          "name": "stderr",
          "text": [
            " 29%|██▉       | 296/1024 [00:40<01:50,  6.58it/s]"
          ]
        },
        {
          "output_type": "stream",
          "name": "stdout",
          "text": [
            "n_closest_points will be ignored for UniversalKriging\n",
            "n_closest_points will be ignored for UniversalKriging\n"
          ]
        },
        {
          "output_type": "stream",
          "name": "stderr",
          "text": [
            " 29%|██▉       | 298/1024 [00:41<01:51,  6.51it/s]"
          ]
        },
        {
          "output_type": "stream",
          "name": "stdout",
          "text": [
            "n_closest_points will be ignored for UniversalKriging\n",
            "n_closest_points will be ignored for UniversalKriging\n"
          ]
        },
        {
          "output_type": "stream",
          "name": "stderr",
          "text": [
            " 29%|██▉       | 300/1024 [00:41<01:48,  6.66it/s]"
          ]
        },
        {
          "output_type": "stream",
          "name": "stdout",
          "text": [
            "n_closest_points will be ignored for UniversalKriging\n",
            "n_closest_points will be ignored for UniversalKriging\n"
          ]
        },
        {
          "output_type": "stream",
          "name": "stderr",
          "text": [
            " 29%|██▉       | 302/1024 [00:41<01:50,  6.55it/s]"
          ]
        },
        {
          "output_type": "stream",
          "name": "stdout",
          "text": [
            "n_closest_points will be ignored for UniversalKriging\n",
            "n_closest_points will be ignored for UniversalKriging\n"
          ]
        },
        {
          "output_type": "stream",
          "name": "stderr",
          "text": [
            " 30%|██▉       | 304/1024 [00:41<01:48,  6.62it/s]"
          ]
        },
        {
          "output_type": "stream",
          "name": "stdout",
          "text": [
            "n_closest_points will be ignored for UniversalKriging\n",
            "n_closest_points will be ignored for UniversalKriging\n"
          ]
        },
        {
          "output_type": "stream",
          "name": "stderr",
          "text": [
            " 30%|██▉       | 306/1024 [00:42<01:48,  6.61it/s]"
          ]
        },
        {
          "output_type": "stream",
          "name": "stdout",
          "text": [
            "n_closest_points will be ignored for UniversalKriging\n",
            "n_closest_points will be ignored for UniversalKriging\n"
          ]
        },
        {
          "output_type": "stream",
          "name": "stderr",
          "text": [
            " 30%|███       | 308/1024 [00:42<01:49,  6.52it/s]"
          ]
        },
        {
          "output_type": "stream",
          "name": "stdout",
          "text": [
            "n_closest_points will be ignored for UniversalKriging\n",
            "n_closest_points will be ignored for UniversalKriging\n"
          ]
        },
        {
          "output_type": "stream",
          "name": "stderr",
          "text": [
            " 30%|███       | 310/1024 [00:42<01:50,  6.47it/s]"
          ]
        },
        {
          "output_type": "stream",
          "name": "stdout",
          "text": [
            "n_closest_points will be ignored for UniversalKriging\n",
            "n_closest_points will be ignored for UniversalKriging\n"
          ]
        },
        {
          "output_type": "stream",
          "name": "stderr",
          "text": [
            " 30%|███       | 312/1024 [00:43<01:49,  6.53it/s]"
          ]
        },
        {
          "output_type": "stream",
          "name": "stdout",
          "text": [
            "n_closest_points will be ignored for UniversalKriging\n",
            "n_closest_points will be ignored for UniversalKriging\n"
          ]
        },
        {
          "output_type": "stream",
          "name": "stderr",
          "text": [
            "\r 31%|███       | 313/1024 [00:43<01:48,  6.52it/s]"
          ]
        },
        {
          "output_type": "stream",
          "name": "stdout",
          "text": [
            "n_closest_points will be ignored for UniversalKriging\n",
            "n_closest_points will be ignored for UniversalKriging\n"
          ]
        },
        {
          "output_type": "stream",
          "name": "stderr",
          "text": [
            " 31%|███       | 316/1024 [00:43<01:49,  6.46it/s]"
          ]
        },
        {
          "output_type": "stream",
          "name": "stdout",
          "text": [
            "n_closest_points will be ignored for UniversalKriging\n",
            "n_closest_points will be ignored for UniversalKriging\n"
          ]
        },
        {
          "output_type": "stream",
          "name": "stderr",
          "text": [
            "\r 31%|███       | 317/1024 [00:44<01:49,  6.49it/s]"
          ]
        },
        {
          "output_type": "stream",
          "name": "stdout",
          "text": [
            "n_closest_points will be ignored for UniversalKriging\n",
            "n_closest_points will be ignored for UniversalKriging\n"
          ]
        },
        {
          "output_type": "stream",
          "name": "stderr",
          "text": [
            " 31%|███       | 319/1024 [00:44<02:17,  5.12it/s]"
          ]
        },
        {
          "output_type": "stream",
          "name": "stdout",
          "text": [
            "n_closest_points will be ignored for UniversalKriging\n"
          ]
        },
        {
          "output_type": "stream",
          "name": "stderr",
          "text": [
            "\r 31%|███▏      | 320/1024 [00:44<02:40,  4.39it/s]"
          ]
        },
        {
          "output_type": "stream",
          "name": "stdout",
          "text": [
            "n_closest_points will be ignored for UniversalKriging\n"
          ]
        },
        {
          "output_type": "stream",
          "name": "stderr",
          "text": [
            "\r 31%|███▏      | 321/1024 [00:44<02:31,  4.65it/s]"
          ]
        },
        {
          "output_type": "stream",
          "name": "stdout",
          "text": [
            "n_closest_points will be ignored for UniversalKriging\n",
            "n_closest_points will be ignored for UniversalKriging\n"
          ]
        },
        {
          "output_type": "stream",
          "name": "stderr",
          "text": [
            " 32%|███▏      | 323/1024 [00:45<02:32,  4.58it/s]"
          ]
        },
        {
          "output_type": "stream",
          "name": "stdout",
          "text": [
            "n_closest_points will be ignored for UniversalKriging\n"
          ]
        },
        {
          "output_type": "stream",
          "name": "stderr",
          "text": [
            "\r 32%|███▏      | 324/1024 [00:45<02:50,  4.10it/s]"
          ]
        },
        {
          "output_type": "stream",
          "name": "stdout",
          "text": [
            "n_closest_points will be ignored for UniversalKriging\n"
          ]
        },
        {
          "output_type": "stream",
          "name": "stderr",
          "text": [
            "\r 32%|███▏      | 325/1024 [00:46<03:06,  3.76it/s]"
          ]
        },
        {
          "output_type": "stream",
          "name": "stdout",
          "text": [
            "n_closest_points will be ignored for UniversalKriging\n"
          ]
        },
        {
          "output_type": "stream",
          "name": "stderr",
          "text": [
            "\r 32%|███▏      | 326/1024 [00:46<02:59,  3.88it/s]"
          ]
        },
        {
          "output_type": "stream",
          "name": "stdout",
          "text": [
            "n_closest_points will be ignored for UniversalKriging\n"
          ]
        },
        {
          "output_type": "stream",
          "name": "stderr",
          "text": [
            "\r 32%|███▏      | 327/1024 [00:46<02:51,  4.06it/s]"
          ]
        },
        {
          "output_type": "stream",
          "name": "stdout",
          "text": [
            "n_closest_points will be ignored for UniversalKriging\n"
          ]
        },
        {
          "output_type": "stream",
          "name": "stderr",
          "text": [
            "\r 32%|███▏      | 328/1024 [00:46<02:43,  4.25it/s]"
          ]
        },
        {
          "output_type": "stream",
          "name": "stdout",
          "text": [
            "n_closest_points will be ignored for UniversalKriging\n"
          ]
        },
        {
          "output_type": "stream",
          "name": "stderr",
          "text": [
            "\r 32%|███▏      | 329/1024 [00:46<02:46,  4.18it/s]"
          ]
        },
        {
          "output_type": "stream",
          "name": "stdout",
          "text": [
            "n_closest_points will be ignored for UniversalKriging\n"
          ]
        },
        {
          "output_type": "stream",
          "name": "stderr",
          "text": [
            "\r 32%|███▏      | 330/1024 [00:47<02:36,  4.42it/s]"
          ]
        },
        {
          "output_type": "stream",
          "name": "stdout",
          "text": [
            "n_closest_points will be ignored for UniversalKriging\n",
            "n_closest_points will be ignored for UniversalKriging\n"
          ]
        },
        {
          "output_type": "stream",
          "name": "stderr",
          "text": [
            " 32%|███▏      | 332/1024 [00:47<02:39,  4.35it/s]"
          ]
        },
        {
          "output_type": "stream",
          "name": "stdout",
          "text": [
            "n_closest_points will be ignored for UniversalKriging\n",
            "n_closest_points will be ignored for UniversalKriging\n"
          ]
        },
        {
          "output_type": "stream",
          "name": "stderr",
          "text": [
            " 33%|███▎      | 334/1024 [00:48<02:26,  4.72it/s]"
          ]
        },
        {
          "output_type": "stream",
          "name": "stdout",
          "text": [
            "n_closest_points will be ignored for UniversalKriging\n"
          ]
        },
        {
          "output_type": "stream",
          "name": "stderr",
          "text": [
            "\r 33%|███▎      | 335/1024 [00:48<02:37,  4.38it/s]"
          ]
        },
        {
          "output_type": "stream",
          "name": "stdout",
          "text": [
            "n_closest_points will be ignored for UniversalKriging\n"
          ]
        },
        {
          "output_type": "stream",
          "name": "stderr",
          "text": [
            "\r 33%|███▎      | 336/1024 [00:48<02:38,  4.33it/s]"
          ]
        },
        {
          "output_type": "stream",
          "name": "stdout",
          "text": [
            "n_closest_points will be ignored for UniversalKriging\n"
          ]
        },
        {
          "output_type": "stream",
          "name": "stderr",
          "text": [
            "\r 33%|███▎      | 337/1024 [00:48<02:46,  4.12it/s]"
          ]
        },
        {
          "output_type": "stream",
          "name": "stdout",
          "text": [
            "n_closest_points will be ignored for UniversalKriging\n"
          ]
        },
        {
          "output_type": "stream",
          "name": "stderr",
          "text": [
            "\r 33%|███▎      | 338/1024 [00:49<02:40,  4.28it/s]"
          ]
        },
        {
          "output_type": "stream",
          "name": "stdout",
          "text": [
            "n_closest_points will be ignored for UniversalKriging\n"
          ]
        },
        {
          "output_type": "stream",
          "name": "stderr",
          "text": [
            "\r 33%|███▎      | 339/1024 [00:49<02:44,  4.15it/s]"
          ]
        },
        {
          "output_type": "stream",
          "name": "stdout",
          "text": [
            "n_closest_points will be ignored for UniversalKriging\n"
          ]
        },
        {
          "output_type": "stream",
          "name": "stderr",
          "text": [
            "\r 33%|███▎      | 340/1024 [00:49<02:38,  4.32it/s]"
          ]
        },
        {
          "output_type": "stream",
          "name": "stdout",
          "text": [
            "n_closest_points will be ignored for UniversalKriging\n"
          ]
        },
        {
          "output_type": "stream",
          "name": "stderr",
          "text": [
            "\r 33%|███▎      | 341/1024 [00:49<02:34,  4.41it/s]"
          ]
        },
        {
          "output_type": "stream",
          "name": "stdout",
          "text": [
            "n_closest_points will be ignored for UniversalKriging\n",
            "n_closest_points will be ignored for UniversalKriging\n"
          ]
        },
        {
          "output_type": "stream",
          "name": "stderr",
          "text": [
            " 33%|███▎      | 343/1024 [00:50<02:25,  4.69it/s]"
          ]
        },
        {
          "output_type": "stream",
          "name": "stdout",
          "text": [
            "n_closest_points will be ignored for UniversalKriging\n",
            "n_closest_points will be ignored for UniversalKriging"
          ]
        },
        {
          "output_type": "stream",
          "name": "stderr",
          "text": [
            "\r 34%|███▎      | 344/1024 [00:50<02:24,  4.71it/s]"
          ]
        },
        {
          "output_type": "stream",
          "name": "stdout",
          "text": [
            "\n",
            "n_closest_points will be ignored for UniversalKriging\n"
          ]
        },
        {
          "output_type": "stream",
          "name": "stderr",
          "text": [
            " 34%|███▍      | 347/1024 [00:50<02:01,  5.59it/s]"
          ]
        },
        {
          "output_type": "stream",
          "name": "stdout",
          "text": [
            "n_closest_points will be ignored for UniversalKriging\n",
            "n_closest_points will be ignored for UniversalKriging\n"
          ]
        },
        {
          "output_type": "stream",
          "name": "stderr",
          "text": [
            " 34%|███▍      | 349/1024 [00:51<01:52,  6.02it/s]"
          ]
        },
        {
          "output_type": "stream",
          "name": "stdout",
          "text": [
            "n_closest_points will be ignored for UniversalKriging\n",
            "n_closest_points will be ignored for UniversalKriging\n"
          ]
        },
        {
          "output_type": "stream",
          "name": "stderr",
          "text": [
            " 34%|███▍      | 351/1024 [00:51<01:47,  6.23it/s]"
          ]
        },
        {
          "output_type": "stream",
          "name": "stdout",
          "text": [
            "n_closest_points will be ignored for UniversalKriging\n",
            "n_closest_points will be ignored for UniversalKriging\n"
          ]
        },
        {
          "output_type": "stream",
          "name": "stderr",
          "text": [
            "\r 34%|███▍      | 352/1024 [00:51<01:49,  6.13it/s]"
          ]
        },
        {
          "output_type": "stream",
          "name": "stdout",
          "text": [
            "n_closest_points will be ignored for UniversalKriging\n",
            "n_closest_points will be ignored for UniversalKriging\n"
          ]
        },
        {
          "output_type": "stream",
          "name": "stderr",
          "text": [
            " 35%|███▍      | 355/1024 [00:52<01:50,  6.07it/s]"
          ]
        },
        {
          "output_type": "stream",
          "name": "stdout",
          "text": [
            "n_closest_points will be ignored for UniversalKriging\n",
            "n_closest_points will be ignored for UniversalKriging\n"
          ]
        },
        {
          "output_type": "stream",
          "name": "stderr",
          "text": [
            " 35%|███▍      | 357/1024 [00:52<01:47,  6.22it/s]"
          ]
        },
        {
          "output_type": "stream",
          "name": "stdout",
          "text": [
            "n_closest_points will be ignored for UniversalKriging\n",
            "n_closest_points will be ignored for UniversalKriging\n"
          ]
        },
        {
          "output_type": "stream",
          "name": "stderr",
          "text": [
            "\r 35%|███▍      | 358/1024 [00:52<01:49,  6.07it/s]"
          ]
        },
        {
          "output_type": "stream",
          "name": "stdout",
          "text": [
            "n_closest_points will be ignored for UniversalKriging\n",
            "n_closest_points will be ignored for UniversalKriging\n"
          ]
        },
        {
          "output_type": "stream",
          "name": "stderr",
          "text": [
            " 35%|███▌      | 360/1024 [00:52<01:52,  5.90it/s]"
          ]
        },
        {
          "output_type": "stream",
          "name": "stdout",
          "text": [
            "n_closest_points will be ignored for UniversalKriging\n",
            "n_closest_points will be ignored for UniversalKriging\n"
          ]
        },
        {
          "output_type": "stream",
          "name": "stderr",
          "text": [
            " 35%|███▌      | 362/1024 [00:53<01:49,  6.04it/s]"
          ]
        },
        {
          "output_type": "stream",
          "name": "stdout",
          "text": [
            "n_closest_points will be ignored for UniversalKriging\n",
            "n_closest_points will be ignored for UniversalKriging\n"
          ]
        },
        {
          "output_type": "stream",
          "name": "stderr",
          "text": [
            " 36%|███▌      | 364/1024 [00:53<01:53,  5.84it/s]"
          ]
        },
        {
          "output_type": "stream",
          "name": "stdout",
          "text": [
            "n_closest_points will be ignored for UniversalKriging\n",
            "n_closest_points will be ignored for UniversalKriging\n"
          ]
        },
        {
          "output_type": "stream",
          "name": "stderr",
          "text": [
            " 36%|███▌      | 366/1024 [00:53<01:52,  5.86it/s]"
          ]
        },
        {
          "output_type": "stream",
          "name": "stdout",
          "text": [
            "n_closest_points will be ignored for UniversalKriging\n",
            "n_closest_points will be ignored for UniversalKriging\n"
          ]
        },
        {
          "output_type": "stream",
          "name": "stderr",
          "text": [
            " 36%|███▌      | 369/1024 [00:54<01:45,  6.18it/s]"
          ]
        },
        {
          "output_type": "stream",
          "name": "stdout",
          "text": [
            "n_closest_points will be ignored for UniversalKriging\n",
            "n_closest_points will be ignored for UniversalKriging\n"
          ]
        },
        {
          "output_type": "stream",
          "name": "stderr",
          "text": [
            "\r 36%|███▌      | 370/1024 [00:54<01:48,  6.03it/s]"
          ]
        },
        {
          "output_type": "stream",
          "name": "stdout",
          "text": [
            "n_closest_points will be ignored for UniversalKriging\n",
            "n_closest_points will be ignored for UniversalKriging\n"
          ]
        },
        {
          "output_type": "stream",
          "name": "stderr",
          "text": [
            " 36%|███▋      | 373/1024 [00:55<01:44,  6.23it/s]"
          ]
        },
        {
          "output_type": "stream",
          "name": "stdout",
          "text": [
            "n_closest_points will be ignored for UniversalKriging\n",
            "n_closest_points will be ignored for UniversalKriging\n"
          ]
        },
        {
          "output_type": "stream",
          "name": "stderr",
          "text": [
            " 37%|███▋      | 375/1024 [00:55<01:42,  6.33it/s]"
          ]
        },
        {
          "output_type": "stream",
          "name": "stdout",
          "text": [
            "n_closest_points will be ignored for UniversalKriging\n",
            "n_closest_points will be ignored for UniversalKriging\n"
          ]
        },
        {
          "output_type": "stream",
          "name": "stderr",
          "text": [
            " 37%|███▋      | 377/1024 [00:55<01:42,  6.31it/s]"
          ]
        },
        {
          "output_type": "stream",
          "name": "stdout",
          "text": [
            "n_closest_points will be ignored for UniversalKriging\n",
            "n_closest_points will be ignored for UniversalKriging\n"
          ]
        },
        {
          "output_type": "stream",
          "name": "stderr",
          "text": [
            " 37%|███▋      | 379/1024 [00:56<01:41,  6.34it/s]"
          ]
        },
        {
          "output_type": "stream",
          "name": "stdout",
          "text": [
            "n_closest_points will be ignored for UniversalKriging\n",
            "n_closest_points will be ignored for UniversalKriging\n"
          ]
        },
        {
          "output_type": "stream",
          "name": "stderr",
          "text": [
            " 37%|███▋      | 381/1024 [00:56<01:40,  6.42it/s]"
          ]
        },
        {
          "output_type": "stream",
          "name": "stdout",
          "text": [
            "n_closest_points will be ignored for UniversalKriging\n",
            "n_closest_points will be ignored for UniversalKriging\n"
          ]
        },
        {
          "output_type": "stream",
          "name": "stderr",
          "text": [
            "\r 37%|███▋      | 382/1024 [00:56<01:42,  6.27it/s]"
          ]
        },
        {
          "output_type": "stream",
          "name": "stdout",
          "text": [
            "n_closest_points will be ignored for UniversalKriging\n",
            "n_closest_points will be ignored for UniversalKriging\n"
          ]
        },
        {
          "output_type": "stream",
          "name": "stderr",
          "text": [
            " 38%|███▊      | 385/1024 [00:56<01:40,  6.33it/s]"
          ]
        },
        {
          "output_type": "stream",
          "name": "stdout",
          "text": [
            "n_closest_points will be ignored for UniversalKriging\n",
            "n_closest_points will be ignored for UniversalKriging\n"
          ]
        },
        {
          "output_type": "stream",
          "name": "stderr",
          "text": [
            " 38%|███▊      | 387/1024 [00:57<01:38,  6.46it/s]"
          ]
        },
        {
          "output_type": "stream",
          "name": "stdout",
          "text": [
            "n_closest_points will be ignored for UniversalKriging\n",
            "n_closest_points will be ignored for UniversalKriging\n"
          ]
        },
        {
          "output_type": "stream",
          "name": "stderr",
          "text": [
            " 38%|███▊      | 389/1024 [00:57<01:38,  6.44it/s]"
          ]
        },
        {
          "output_type": "stream",
          "name": "stdout",
          "text": [
            "n_closest_points will be ignored for UniversalKriging\n",
            "n_closest_points will be ignored for UniversalKriging\n"
          ]
        },
        {
          "output_type": "stream",
          "name": "stderr",
          "text": [
            "\r 38%|███▊      | 390/1024 [00:57<01:38,  6.44it/s]"
          ]
        },
        {
          "output_type": "stream",
          "name": "stdout",
          "text": [
            "n_closest_points will be ignored for UniversalKriging\n",
            "n_closest_points will be ignored for UniversalKriging\n"
          ]
        },
        {
          "output_type": "stream",
          "name": "stderr",
          "text": [
            " 38%|███▊      | 393/1024 [00:58<01:37,  6.47it/s]"
          ]
        },
        {
          "output_type": "stream",
          "name": "stdout",
          "text": [
            "n_closest_points will be ignored for UniversalKriging\n",
            "n_closest_points will be ignored for UniversalKriging\n"
          ]
        },
        {
          "output_type": "stream",
          "name": "stderr",
          "text": [
            "\r 38%|███▊      | 394/1024 [00:58<01:37,  6.43it/s]"
          ]
        },
        {
          "output_type": "stream",
          "name": "stdout",
          "text": [
            "n_closest_points will be ignored for UniversalKriging\n",
            "n_closest_points will be ignored for UniversalKriging\n"
          ]
        },
        {
          "output_type": "stream",
          "name": "stderr",
          "text": [
            " 39%|███▉      | 397/1024 [00:58<01:37,  6.42it/s]"
          ]
        },
        {
          "output_type": "stream",
          "name": "stdout",
          "text": [
            "n_closest_points will be ignored for UniversalKriging\n",
            "n_closest_points will be ignored for UniversalKriging\n"
          ]
        },
        {
          "output_type": "stream",
          "name": "stderr",
          "text": [
            " 39%|███▉      | 399/1024 [00:59<01:37,  6.42it/s]"
          ]
        },
        {
          "output_type": "stream",
          "name": "stdout",
          "text": [
            "n_closest_points will be ignored for UniversalKriging\n",
            "n_closest_points will be ignored for UniversalKriging\n"
          ]
        },
        {
          "output_type": "stream",
          "name": "stderr",
          "text": [
            " 39%|███▉      | 401/1024 [00:59<01:36,  6.46it/s]"
          ]
        },
        {
          "output_type": "stream",
          "name": "stdout",
          "text": [
            "n_closest_points will be ignored for UniversalKriging\n",
            "n_closest_points will be ignored for UniversalKriging\n"
          ]
        },
        {
          "output_type": "stream",
          "name": "stderr",
          "text": [
            " 39%|███▉      | 403/1024 [00:59<01:36,  6.45it/s]"
          ]
        },
        {
          "output_type": "stream",
          "name": "stdout",
          "text": [
            "n_closest_points will be ignored for UniversalKriging\n",
            "n_closest_points will be ignored for UniversalKriging\n"
          ]
        },
        {
          "output_type": "stream",
          "name": "stderr",
          "text": [
            " 40%|███▉      | 405/1024 [01:00<01:35,  6.51it/s]"
          ]
        },
        {
          "output_type": "stream",
          "name": "stdout",
          "text": [
            "n_closest_points will be ignored for UniversalKriging\n",
            "n_closest_points will be ignored for UniversalKriging\n"
          ]
        },
        {
          "output_type": "stream",
          "name": "stderr",
          "text": [
            "\r 40%|███▉      | 406/1024 [01:00<01:34,  6.52it/s]"
          ]
        },
        {
          "output_type": "stream",
          "name": "stdout",
          "text": [
            "n_closest_points will be ignored for UniversalKriging\n",
            "n_closest_points will be ignored for UniversalKriging\n"
          ]
        },
        {
          "output_type": "stream",
          "name": "stderr",
          "text": [
            "\r 40%|███▉      | 407/1024 [01:00<01:40,  6.13it/s]"
          ]
        },
        {
          "output_type": "stream",
          "name": "stdout",
          "text": [
            "n_closest_points will be ignored for UniversalKriging\n"
          ]
        },
        {
          "output_type": "stream",
          "name": "stderr",
          "text": [
            " 40%|███▉      | 409/1024 [01:01<02:15,  4.54it/s]"
          ]
        },
        {
          "output_type": "stream",
          "name": "stdout",
          "text": [
            "n_closest_points will be ignored for UniversalKriging\n"
          ]
        },
        {
          "output_type": "stream",
          "name": "stderr",
          "text": [
            "\r 40%|████      | 410/1024 [01:01<02:37,  3.90it/s]"
          ]
        },
        {
          "output_type": "stream",
          "name": "stdout",
          "text": [
            "n_closest_points will be ignored for UniversalKriging\n"
          ]
        },
        {
          "output_type": "stream",
          "name": "stderr",
          "text": [
            "\r 40%|████      | 411/1024 [01:01<02:51,  3.57it/s]"
          ]
        },
        {
          "output_type": "stream",
          "name": "stdout",
          "text": [
            "n_closest_points will be ignored for UniversalKriging\n"
          ]
        },
        {
          "output_type": "stream",
          "name": "stderr",
          "text": [
            "\r 40%|████      | 412/1024 [01:01<02:46,  3.68it/s]"
          ]
        },
        {
          "output_type": "stream",
          "name": "stdout",
          "text": [
            "n_closest_points will be ignored for UniversalKriging\n"
          ]
        },
        {
          "output_type": "stream",
          "name": "stderr",
          "text": [
            "\r 40%|████      | 413/1024 [01:02<02:32,  4.01it/s]"
          ]
        },
        {
          "output_type": "stream",
          "name": "stdout",
          "text": [
            "n_closest_points will be ignored for UniversalKriging\n"
          ]
        },
        {
          "output_type": "stream",
          "name": "stderr",
          "text": [
            "\r 40%|████      | 414/1024 [01:02<02:25,  4.19it/s]"
          ]
        },
        {
          "output_type": "stream",
          "name": "stdout",
          "text": [
            "n_closest_points will be ignored for UniversalKriging\n"
          ]
        },
        {
          "output_type": "stream",
          "name": "stderr",
          "text": [
            "\r 41%|████      | 415/1024 [01:02<02:20,  4.32it/s]"
          ]
        },
        {
          "output_type": "stream",
          "name": "stdout",
          "text": [
            "n_closest_points will be ignored for UniversalKriging\n",
            "n_closest_points will be ignored for UniversalKriging\n"
          ]
        },
        {
          "output_type": "stream",
          "name": "stderr",
          "text": [
            " 41%|████      | 417/1024 [01:03<02:36,  3.89it/s]"
          ]
        },
        {
          "output_type": "stream",
          "name": "stdout",
          "text": [
            "n_closest_points will be ignored for UniversalKriging\n"
          ]
        },
        {
          "output_type": "stream",
          "name": "stderr",
          "text": [
            "\r 41%|████      | 418/1024 [01:03<02:32,  3.98it/s]"
          ]
        },
        {
          "output_type": "stream",
          "name": "stdout",
          "text": [
            "n_closest_points will be ignored for UniversalKriging\n"
          ]
        },
        {
          "output_type": "stream",
          "name": "stderr",
          "text": [
            "\r 41%|████      | 419/1024 [01:03<02:26,  4.14it/s]"
          ]
        },
        {
          "output_type": "stream",
          "name": "stdout",
          "text": [
            "n_closest_points will be ignored for UniversalKriging\n",
            "n_closest_points will be ignored for UniversalKriging\n"
          ]
        },
        {
          "output_type": "stream",
          "name": "stderr",
          "text": [
            "\r 41%|████      | 420/1024 [01:03<02:14,  4.49it/s]"
          ]
        },
        {
          "output_type": "stream",
          "name": "stdout",
          "text": [
            "n_closest_points will be ignored for UniversalKriging\n"
          ]
        },
        {
          "output_type": "stream",
          "name": "stderr",
          "text": [
            " 41%|████      | 422/1024 [01:04<02:31,  3.96it/s]"
          ]
        },
        {
          "output_type": "stream",
          "name": "stdout",
          "text": [
            "n_closest_points will be ignored for UniversalKriging\n"
          ]
        },
        {
          "output_type": "stream",
          "name": "stderr",
          "text": [
            "\r 41%|████▏     | 423/1024 [01:04<02:29,  4.01it/s]"
          ]
        },
        {
          "output_type": "stream",
          "name": "stdout",
          "text": [
            "n_closest_points will be ignored for UniversalKriging\n"
          ]
        },
        {
          "output_type": "stream",
          "name": "stderr",
          "text": [
            "\r 41%|████▏     | 424/1024 [01:04<02:25,  4.11it/s]"
          ]
        },
        {
          "output_type": "stream",
          "name": "stdout",
          "text": [
            "n_closest_points will be ignored for UniversalKriging\n"
          ]
        },
        {
          "output_type": "stream",
          "name": "stderr",
          "text": [
            "\r 42%|████▏     | 425/1024 [01:05<02:26,  4.08it/s]"
          ]
        },
        {
          "output_type": "stream",
          "name": "stdout",
          "text": [
            "n_closest_points will be ignored for UniversalKriging\n"
          ]
        },
        {
          "output_type": "stream",
          "name": "stderr",
          "text": [
            "\r 42%|████▏     | 426/1024 [01:05<02:20,  4.26it/s]"
          ]
        },
        {
          "output_type": "stream",
          "name": "stdout",
          "text": [
            "n_closest_points will be ignored for UniversalKriging\n"
          ]
        },
        {
          "output_type": "stream",
          "name": "stderr",
          "text": [
            "\r 42%|████▏     | 427/1024 [01:05<02:28,  4.03it/s]"
          ]
        },
        {
          "output_type": "stream",
          "name": "stdout",
          "text": [
            "n_closest_points will be ignored for UniversalKriging\n"
          ]
        },
        {
          "output_type": "stream",
          "name": "stderr",
          "text": [
            "\r 42%|████▏     | 428/1024 [01:05<02:28,  4.01it/s]"
          ]
        },
        {
          "output_type": "stream",
          "name": "stdout",
          "text": [
            "n_closest_points will be ignored for UniversalKriging\n"
          ]
        },
        {
          "output_type": "stream",
          "name": "stderr",
          "text": [
            "\r 42%|████▏     | 429/1024 [01:06<02:27,  4.02it/s]"
          ]
        },
        {
          "output_type": "stream",
          "name": "stdout",
          "text": [
            "n_closest_points will be ignored for UniversalKriging\n"
          ]
        },
        {
          "output_type": "stream",
          "name": "stderr",
          "text": [
            "\r 42%|████▏     | 430/1024 [01:06<02:42,  3.66it/s]"
          ]
        },
        {
          "output_type": "stream",
          "name": "stdout",
          "text": [
            "n_closest_points will be ignored for UniversalKriging\n"
          ]
        },
        {
          "output_type": "stream",
          "name": "stderr",
          "text": [
            "\r 42%|████▏     | 431/1024 [01:06<02:39,  3.71it/s]"
          ]
        },
        {
          "output_type": "stream",
          "name": "stdout",
          "text": [
            "n_closest_points will be ignored for UniversalKriging\n",
            "n_closest_points will be ignored for UniversalKriging\n"
          ]
        },
        {
          "output_type": "stream",
          "name": "stderr",
          "text": [
            " 42%|████▏     | 433/1024 [01:07<02:11,  4.48it/s]"
          ]
        },
        {
          "output_type": "stream",
          "name": "stdout",
          "text": [
            "n_closest_points will be ignored for UniversalKriging\n",
            "n_closest_points will be ignored for UniversalKriging\n"
          ]
        },
        {
          "output_type": "stream",
          "name": "stderr",
          "text": [
            " 42%|████▏     | 435/1024 [01:07<01:57,  5.03it/s]"
          ]
        },
        {
          "output_type": "stream",
          "name": "stdout",
          "text": [
            "n_closest_points will be ignored for UniversalKriging\n",
            "n_closest_points will be ignored for UniversalKriging\n"
          ]
        },
        {
          "output_type": "stream",
          "name": "stderr",
          "text": [
            " 43%|████▎     | 437/1024 [01:07<01:52,  5.23it/s]"
          ]
        },
        {
          "output_type": "stream",
          "name": "stdout",
          "text": [
            "n_closest_points will be ignored for UniversalKriging\n",
            "n_closest_points will be ignored for UniversalKriging\n"
          ]
        },
        {
          "output_type": "stream",
          "name": "stderr",
          "text": [
            " 43%|████▎     | 439/1024 [01:08<01:47,  5.46it/s]"
          ]
        },
        {
          "output_type": "stream",
          "name": "stdout",
          "text": [
            "n_closest_points will be ignored for UniversalKriging\n",
            "n_closest_points will be ignored for UniversalKriging\n"
          ]
        },
        {
          "output_type": "stream",
          "name": "stderr",
          "text": [
            " 43%|████▎     | 441/1024 [01:08<01:44,  5.59it/s]"
          ]
        },
        {
          "output_type": "stream",
          "name": "stdout",
          "text": [
            "n_closest_points will be ignored for UniversalKriging\n"
          ]
        },
        {
          "output_type": "stream",
          "name": "stderr",
          "text": [
            "\r 43%|████▎     | 442/1024 [01:08<01:50,  5.29it/s]"
          ]
        },
        {
          "output_type": "stream",
          "name": "stdout",
          "text": [
            "n_closest_points will be ignored for UniversalKriging\n",
            "n_closest_points will be ignored for UniversalKriging\n"
          ]
        },
        {
          "output_type": "stream",
          "name": "stderr",
          "text": [
            " 43%|████▎     | 444/1024 [01:09<01:46,  5.43it/s]"
          ]
        },
        {
          "output_type": "stream",
          "name": "stdout",
          "text": [
            "n_closest_points will be ignored for UniversalKriging\n",
            "n_closest_points will be ignored for UniversalKriging\n"
          ]
        },
        {
          "output_type": "stream",
          "name": "stderr",
          "text": [
            " 44%|████▎     | 446/1024 [01:09<01:44,  5.54it/s]"
          ]
        },
        {
          "output_type": "stream",
          "name": "stdout",
          "text": [
            "n_closest_points will be ignored for UniversalKriging\n",
            "n_closest_points will be ignored for UniversalKriging\n"
          ]
        },
        {
          "output_type": "stream",
          "name": "stderr",
          "text": [
            " 44%|████▍     | 448/1024 [01:09<01:46,  5.40it/s]"
          ]
        },
        {
          "output_type": "stream",
          "name": "stdout",
          "text": [
            "n_closest_points will be ignored for UniversalKriging\n",
            "n_closest_points will be ignored for UniversalKriging\n"
          ]
        },
        {
          "output_type": "stream",
          "name": "stderr",
          "text": [
            " 44%|████▍     | 450/1024 [01:10<01:45,  5.46it/s]"
          ]
        },
        {
          "output_type": "stream",
          "name": "stdout",
          "text": [
            "n_closest_points will be ignored for UniversalKriging\n",
            "n_closest_points will be ignored for UniversalKriging\n"
          ]
        },
        {
          "output_type": "stream",
          "name": "stderr",
          "text": [
            " 44%|████▍     | 452/1024 [01:10<01:44,  5.48it/s]"
          ]
        },
        {
          "output_type": "stream",
          "name": "stdout",
          "text": [
            "n_closest_points will be ignored for UniversalKriging\n",
            "n_closest_points will be ignored for UniversalKriging\n"
          ]
        },
        {
          "output_type": "stream",
          "name": "stderr",
          "text": [
            " 44%|████▍     | 454/1024 [01:10<01:45,  5.41it/s]"
          ]
        },
        {
          "output_type": "stream",
          "name": "stdout",
          "text": [
            "n_closest_points will be ignored for UniversalKriging\n",
            "n_closest_points will be ignored for UniversalKriging\n"
          ]
        },
        {
          "output_type": "stream",
          "name": "stderr",
          "text": [
            " 45%|████▍     | 456/1024 [01:11<01:42,  5.53it/s]"
          ]
        },
        {
          "output_type": "stream",
          "name": "stdout",
          "text": [
            "n_closest_points will be ignored for UniversalKriging\n",
            "n_closest_points will be ignored for UniversalKriging\n"
          ]
        },
        {
          "output_type": "stream",
          "name": "stderr",
          "text": [
            " 45%|████▍     | 458/1024 [01:11<01:42,  5.53it/s]"
          ]
        },
        {
          "output_type": "stream",
          "name": "stdout",
          "text": [
            "n_closest_points will be ignored for UniversalKriging\n",
            "n_closest_points will be ignored for UniversalKriging\n"
          ]
        },
        {
          "output_type": "stream",
          "name": "stderr",
          "text": [
            " 45%|████▍     | 460/1024 [01:11<01:42,  5.48it/s]"
          ]
        },
        {
          "output_type": "stream",
          "name": "stdout",
          "text": [
            "n_closest_points will be ignored for UniversalKriging\n",
            "n_closest_points will be ignored for UniversalKriging\n"
          ]
        },
        {
          "output_type": "stream",
          "name": "stderr",
          "text": [
            " 45%|████▌     | 462/1024 [01:12<01:40,  5.61it/s]"
          ]
        },
        {
          "output_type": "stream",
          "name": "stdout",
          "text": [
            "n_closest_points will be ignored for UniversalKriging\n",
            "n_closest_points will be ignored for UniversalKriging\n"
          ]
        },
        {
          "output_type": "stream",
          "name": "stderr",
          "text": [
            " 45%|████▌     | 464/1024 [01:12<01:48,  5.17it/s]"
          ]
        },
        {
          "output_type": "stream",
          "name": "stdout",
          "text": [
            "n_closest_points will be ignored for UniversalKriging\n"
          ]
        },
        {
          "output_type": "stream",
          "name": "stderr",
          "text": [
            "\r 45%|████▌     | 465/1024 [01:12<01:47,  5.19it/s]"
          ]
        },
        {
          "output_type": "stream",
          "name": "stdout",
          "text": [
            "n_closest_points will be ignored for UniversalKriging\n",
            "n_closest_points will be ignored for UniversalKriging\n"
          ]
        },
        {
          "output_type": "stream",
          "name": "stderr",
          "text": [
            " 46%|████▌     | 467/1024 [01:13<01:43,  5.36it/s]"
          ]
        },
        {
          "output_type": "stream",
          "name": "stdout",
          "text": [
            "n_closest_points will be ignored for UniversalKriging\n",
            "n_closest_points will be ignored for UniversalKriging\n"
          ]
        },
        {
          "output_type": "stream",
          "name": "stderr",
          "text": [
            " 46%|████▌     | 469/1024 [01:13<01:43,  5.36it/s]"
          ]
        },
        {
          "output_type": "stream",
          "name": "stdout",
          "text": [
            "n_closest_points will be ignored for UniversalKriging\n"
          ]
        },
        {
          "output_type": "stream",
          "name": "stderr",
          "text": [
            "\r 46%|████▌     | 470/1024 [01:13<01:46,  5.19it/s]"
          ]
        },
        {
          "output_type": "stream",
          "name": "stdout",
          "text": [
            "n_closest_points will be ignored for UniversalKriging\n",
            "n_closest_points will be ignored for UniversalKriging\n"
          ]
        },
        {
          "output_type": "stream",
          "name": "stderr",
          "text": [
            " 46%|████▌     | 472/1024 [01:14<01:43,  5.32it/s]"
          ]
        },
        {
          "output_type": "stream",
          "name": "stdout",
          "text": [
            "n_closest_points will be ignored for UniversalKriging\n",
            "n_closest_points will be ignored for UniversalKriging\n"
          ]
        },
        {
          "output_type": "stream",
          "name": "stderr",
          "text": [
            " 46%|████▋     | 474/1024 [01:14<01:46,  5.19it/s]"
          ]
        },
        {
          "output_type": "stream",
          "name": "stdout",
          "text": [
            "n_closest_points will be ignored for UniversalKriging\n"
          ]
        },
        {
          "output_type": "stream",
          "name": "stderr",
          "text": [
            "\r 46%|████▋     | 475/1024 [01:14<01:53,  4.84it/s]"
          ]
        },
        {
          "output_type": "stream",
          "name": "stdout",
          "text": [
            "n_closest_points will be ignored for UniversalKriging\n"
          ]
        },
        {
          "output_type": "stream",
          "name": "stderr",
          "text": [
            "\r 46%|████▋     | 476/1024 [01:15<01:49,  5.00it/s]"
          ]
        },
        {
          "output_type": "stream",
          "name": "stdout",
          "text": [
            "n_closest_points will be ignored for UniversalKriging\n",
            "n_closest_points will be ignored for UniversalKriging\n"
          ]
        },
        {
          "output_type": "stream",
          "name": "stderr",
          "text": [
            " 47%|████▋     | 478/1024 [01:15<01:44,  5.21it/s]"
          ]
        },
        {
          "output_type": "stream",
          "name": "stdout",
          "text": [
            "n_closest_points will be ignored for UniversalKriging\n",
            "n_closest_points will be ignored for UniversalKriging\n"
          ]
        },
        {
          "output_type": "stream",
          "name": "stderr",
          "text": [
            " 47%|████▋     | 480/1024 [01:15<01:48,  5.01it/s]"
          ]
        },
        {
          "output_type": "stream",
          "name": "stdout",
          "text": [
            "n_closest_points will be ignored for UniversalKriging\n"
          ]
        },
        {
          "output_type": "stream",
          "name": "stderr",
          "text": [
            "\r 47%|████▋     | 481/1024 [01:16<01:46,  5.11it/s]"
          ]
        },
        {
          "output_type": "stream",
          "name": "stdout",
          "text": [
            "n_closest_points will be ignored for UniversalKriging\n",
            "n_closest_points will be ignored for UniversalKriging\n"
          ]
        },
        {
          "output_type": "stream",
          "name": "stderr",
          "text": [
            " 47%|████▋     | 483/1024 [01:16<01:43,  5.22it/s]"
          ]
        },
        {
          "output_type": "stream",
          "name": "stdout",
          "text": [
            "n_closest_points will be ignored for UniversalKriging\n"
          ]
        },
        {
          "output_type": "stream",
          "name": "stderr",
          "text": [
            "\r 47%|████▋     | 484/1024 [01:16<01:46,  5.07it/s]"
          ]
        },
        {
          "output_type": "stream",
          "name": "stdout",
          "text": [
            "n_closest_points will be ignored for UniversalKriging\n",
            "n_closest_points will be ignored for UniversalKriging\n"
          ]
        },
        {
          "output_type": "stream",
          "name": "stderr",
          "text": [
            " 47%|████▋     | 486/1024 [01:17<01:59,  4.51it/s]"
          ]
        },
        {
          "output_type": "stream",
          "name": "stdout",
          "text": [
            "n_closest_points will be ignored for UniversalKriging\n"
          ]
        },
        {
          "output_type": "stream",
          "name": "stderr",
          "text": [
            "\r 48%|████▊     | 487/1024 [01:17<02:12,  4.07it/s]"
          ]
        },
        {
          "output_type": "stream",
          "name": "stdout",
          "text": [
            "n_closest_points will be ignored for UniversalKriging\n"
          ]
        },
        {
          "output_type": "stream",
          "name": "stderr",
          "text": [
            "\r 48%|████▊     | 488/1024 [01:17<02:17,  3.89it/s]"
          ]
        },
        {
          "output_type": "stream",
          "name": "stdout",
          "text": [
            "n_closest_points will be ignored for UniversalKriging\n"
          ]
        },
        {
          "output_type": "stream",
          "name": "stderr",
          "text": [
            "\r 48%|████▊     | 489/1024 [01:17<02:19,  3.84it/s]"
          ]
        },
        {
          "output_type": "stream",
          "name": "stdout",
          "text": [
            "n_closest_points will be ignored for UniversalKriging\n"
          ]
        },
        {
          "output_type": "stream",
          "name": "stderr",
          "text": [
            "\r 48%|████▊     | 490/1024 [01:18<02:18,  3.87it/s]"
          ]
        },
        {
          "output_type": "stream",
          "name": "stdout",
          "text": [
            "n_closest_points will be ignored for UniversalKriging\n",
            "n_closest_points will be ignored for UniversalKriging\n"
          ]
        },
        {
          "output_type": "stream",
          "name": "stderr",
          "text": [
            " 48%|████▊     | 492/1024 [01:18<02:37,  3.39it/s]"
          ]
        },
        {
          "output_type": "stream",
          "name": "stdout",
          "text": [
            "n_closest_points will be ignored for UniversalKriging\n"
          ]
        },
        {
          "output_type": "stream",
          "name": "stderr",
          "text": [
            "\r 48%|████▊     | 493/1024 [01:19<02:38,  3.36it/s]"
          ]
        },
        {
          "output_type": "stream",
          "name": "stdout",
          "text": [
            "n_closest_points will be ignored for UniversalKriging\n"
          ]
        },
        {
          "output_type": "stream",
          "name": "stderr",
          "text": [
            "\r 48%|████▊     | 494/1024 [01:19<02:37,  3.36it/s]"
          ]
        },
        {
          "output_type": "stream",
          "name": "stdout",
          "text": [
            "n_closest_points will be ignored for UniversalKriging\n",
            "n_closest_points will be ignored for UniversalKriging\n"
          ]
        },
        {
          "output_type": "stream",
          "name": "stderr",
          "text": [
            "\r 48%|████▊     | 495/1024 [01:19<02:53,  3.05it/s]"
          ]
        },
        {
          "output_type": "stream",
          "name": "stdout",
          "text": [
            "n_closest_points will be ignored for UniversalKriging\n"
          ]
        },
        {
          "output_type": "stream",
          "name": "stderr",
          "text": [
            " 49%|████▊     | 497/1024 [01:20<02:57,  2.98it/s]"
          ]
        },
        {
          "output_type": "stream",
          "name": "stdout",
          "text": [
            "n_closest_points will be ignored for UniversalKriging\n",
            "n_closest_points will be ignored for UniversalKriging\n"
          ]
        },
        {
          "output_type": "stream",
          "name": "stderr",
          "text": [
            "\r 49%|████▊     | 498/1024 [01:20<03:06,  2.82it/s]"
          ]
        },
        {
          "output_type": "stream",
          "name": "stdout",
          "text": [
            "n_closest_points will be ignored for UniversalKriging\n"
          ]
        },
        {
          "output_type": "stream",
          "name": "stderr",
          "text": [
            " 49%|████▉     | 500/1024 [01:21<03:01,  2.88it/s]"
          ]
        },
        {
          "output_type": "stream",
          "name": "stdout",
          "text": [
            "n_closest_points will be ignored for UniversalKriging\n"
          ]
        },
        {
          "output_type": "stream",
          "name": "stderr",
          "text": [
            "\r 49%|████▉     | 501/1024 [01:21<02:55,  2.97it/s]"
          ]
        },
        {
          "output_type": "stream",
          "name": "stdout",
          "text": [
            "n_closest_points will be ignored for UniversalKriging\n",
            "n_closest_points will be ignored for UniversalKriging\n"
          ]
        },
        {
          "output_type": "stream",
          "name": "stderr",
          "text": [
            " 49%|████▉     | 503/1024 [01:22<03:09,  2.75it/s]"
          ]
        },
        {
          "output_type": "stream",
          "name": "stdout",
          "text": [
            "n_closest_points will be ignored for UniversalKriging\n"
          ]
        },
        {
          "output_type": "stream",
          "name": "stderr",
          "text": [
            "\r 49%|████▉     | 504/1024 [01:22<02:40,  3.24it/s]"
          ]
        },
        {
          "output_type": "stream",
          "name": "stdout",
          "text": [
            "n_closest_points will be ignored for UniversalKriging\n",
            "n_closest_points will be ignored for UniversalKriging\n"
          ]
        },
        {
          "output_type": "stream",
          "name": "stderr",
          "text": [
            " 49%|████▉     | 506/1024 [01:23<02:11,  3.94it/s]"
          ]
        },
        {
          "output_type": "stream",
          "name": "stdout",
          "text": [
            "n_closest_points will be ignored for UniversalKriging\n",
            "n_closest_points will be ignored for UniversalKriging"
          ]
        },
        {
          "output_type": "stream",
          "name": "stderr",
          "text": [
            "\r 50%|████▉     | 507/1024 [01:23<02:03,  4.17it/s]"
          ]
        },
        {
          "output_type": "stream",
          "name": "stdout",
          "text": [
            "\n"
          ]
        },
        {
          "output_type": "stream",
          "name": "stderr",
          "text": [
            "\r 50%|████▉     | 508/1024 [01:23<01:57,  4.39it/s]"
          ]
        },
        {
          "output_type": "stream",
          "name": "stdout",
          "text": [
            "n_closest_points will be ignored for UniversalKriging\n"
          ]
        },
        {
          "output_type": "stream",
          "name": "stderr",
          "text": [
            "\r 50%|████▉     | 509/1024 [01:23<01:55,  4.45it/s]"
          ]
        },
        {
          "output_type": "stream",
          "name": "stdout",
          "text": [
            "n_closest_points will be ignored for UniversalKriging\n",
            "n_closest_points will be ignored for UniversalKriging\n"
          ]
        },
        {
          "output_type": "stream",
          "name": "stderr",
          "text": [
            " 50%|████▉     | 511/1024 [01:24<01:49,  4.70it/s]"
          ]
        },
        {
          "output_type": "stream",
          "name": "stdout",
          "text": [
            "n_closest_points will be ignored for UniversalKriging\n"
          ]
        },
        {
          "output_type": "stream",
          "name": "stderr",
          "text": [
            "\r 50%|█████     | 512/1024 [01:24<01:51,  4.60it/s]"
          ]
        },
        {
          "output_type": "stream",
          "name": "stdout",
          "text": [
            "n_closest_points will be ignored for UniversalKriging\n",
            "n_closest_points will be ignored for UniversalKriging\n"
          ]
        },
        {
          "output_type": "stream",
          "name": "stderr",
          "text": [
            " 50%|█████     | 514/1024 [01:25<01:46,  4.79it/s]"
          ]
        },
        {
          "output_type": "stream",
          "name": "stdout",
          "text": [
            "n_closest_points will be ignored for UniversalKriging\n",
            "n_closest_points will be ignored for UniversalKriging\n"
          ]
        },
        {
          "output_type": "stream",
          "name": "stderr",
          "text": [
            " 50%|█████     | 516/1024 [01:25<01:46,  4.76it/s]"
          ]
        },
        {
          "output_type": "stream",
          "name": "stdout",
          "text": [
            "n_closest_points will be ignored for UniversalKriging\n"
          ]
        },
        {
          "output_type": "stream",
          "name": "stderr",
          "text": [
            "\r 50%|█████     | 517/1024 [01:25<01:46,  4.76it/s]"
          ]
        },
        {
          "output_type": "stream",
          "name": "stdout",
          "text": [
            "n_closest_points will be ignored for UniversalKriging\n"
          ]
        },
        {
          "output_type": "stream",
          "name": "stderr",
          "text": [
            "\r 51%|█████     | 518/1024 [01:25<01:45,  4.78it/s]"
          ]
        },
        {
          "output_type": "stream",
          "name": "stdout",
          "text": [
            "n_closest_points will be ignored for UniversalKriging\n"
          ]
        },
        {
          "output_type": "stream",
          "name": "stderr",
          "text": [
            "\r 51%|█████     | 519/1024 [01:26<01:46,  4.74it/s]"
          ]
        },
        {
          "output_type": "stream",
          "name": "stdout",
          "text": [
            "n_closest_points will be ignored for UniversalKriging\n"
          ]
        },
        {
          "output_type": "stream",
          "name": "stderr",
          "text": [
            " 51%|█████     | 521/1024 [01:26<01:47,  4.69it/s]"
          ]
        },
        {
          "output_type": "stream",
          "name": "stdout",
          "text": [
            "n_closest_points will be ignored for UniversalKriging\n",
            "n_closest_points will be ignored for UniversalKriging\n"
          ]
        },
        {
          "output_type": "stream",
          "name": "stderr",
          "text": [
            "\r 51%|█████     | 522/1024 [01:26<01:49,  4.59it/s]"
          ]
        },
        {
          "output_type": "stream",
          "name": "stdout",
          "text": [
            "n_closest_points will be ignored for UniversalKriging\n"
          ]
        },
        {
          "output_type": "stream",
          "name": "stderr",
          "text": [
            "\r 51%|█████     | 523/1024 [01:26<01:47,  4.66it/s]"
          ]
        },
        {
          "output_type": "stream",
          "name": "stdout",
          "text": [
            "n_closest_points will be ignored for UniversalKriging\n",
            "n_closest_points will be ignored for UniversalKriging\n"
          ]
        },
        {
          "output_type": "stream",
          "name": "stderr",
          "text": [
            " 51%|█████▏    | 525/1024 [01:27<01:43,  4.82it/s]"
          ]
        },
        {
          "output_type": "stream",
          "name": "stdout",
          "text": [
            "n_closest_points will be ignored for UniversalKriging\n"
          ]
        },
        {
          "output_type": "stream",
          "name": "stderr",
          "text": [
            "\r 51%|█████▏    | 526/1024 [01:27<01:47,  4.64it/s]"
          ]
        },
        {
          "output_type": "stream",
          "name": "stdout",
          "text": [
            "n_closest_points will be ignored for UniversalKriging\n"
          ]
        },
        {
          "output_type": "stream",
          "name": "stderr",
          "text": [
            "\r 51%|█████▏    | 527/1024 [01:27<01:46,  4.68it/s]"
          ]
        },
        {
          "output_type": "stream",
          "name": "stdout",
          "text": [
            "n_closest_points will be ignored for UniversalKriging\n"
          ]
        },
        {
          "output_type": "stream",
          "name": "stderr",
          "text": [
            " 52%|█████▏    | 529/1024 [01:28<01:44,  4.74it/s]"
          ]
        },
        {
          "output_type": "stream",
          "name": "stdout",
          "text": [
            "n_closest_points will be ignored for UniversalKriging\n",
            "n_closest_points will be ignored for UniversalKriging\n"
          ]
        },
        {
          "output_type": "stream",
          "name": "stderr",
          "text": [
            "\r 52%|█████▏    | 530/1024 [01:28<01:47,  4.58it/s]"
          ]
        },
        {
          "output_type": "stream",
          "name": "stdout",
          "text": [
            "n_closest_points will be ignored for UniversalKriging\n"
          ]
        },
        {
          "output_type": "stream",
          "name": "stderr",
          "text": [
            "\r 52%|█████▏    | 531/1024 [01:28<01:46,  4.63it/s]"
          ]
        },
        {
          "output_type": "stream",
          "name": "stdout",
          "text": [
            "n_closest_points will be ignored for UniversalKriging\n"
          ]
        },
        {
          "output_type": "stream",
          "name": "stderr",
          "text": [
            "\r 52%|█████▏    | 532/1024 [01:28<01:46,  4.63it/s]"
          ]
        },
        {
          "output_type": "stream",
          "name": "stdout",
          "text": [
            "n_closest_points will be ignored for UniversalKriging\n"
          ]
        },
        {
          "output_type": "stream",
          "name": "stderr",
          "text": [
            "\r 52%|█████▏    | 533/1024 [01:29<01:47,  4.58it/s]"
          ]
        },
        {
          "output_type": "stream",
          "name": "stdout",
          "text": [
            "n_closest_points will be ignored for UniversalKriging\n"
          ]
        },
        {
          "output_type": "stream",
          "name": "stderr",
          "text": [
            "\r 52%|█████▏    | 534/1024 [01:29<01:46,  4.59it/s]"
          ]
        },
        {
          "output_type": "stream",
          "name": "stdout",
          "text": [
            "n_closest_points will be ignored for UniversalKriging\n"
          ]
        },
        {
          "output_type": "stream",
          "name": "stderr",
          "text": [
            "\r 52%|█████▏    | 535/1024 [01:29<01:49,  4.46it/s]"
          ]
        },
        {
          "output_type": "stream",
          "name": "stdout",
          "text": [
            "n_closest_points will be ignored for UniversalKriging\n"
          ]
        },
        {
          "output_type": "stream",
          "name": "stderr",
          "text": [
            "\r 52%|█████▏    | 536/1024 [01:29<01:50,  4.41it/s]"
          ]
        },
        {
          "output_type": "stream",
          "name": "stdout",
          "text": [
            "n_closest_points will be ignored for UniversalKriging\n"
          ]
        },
        {
          "output_type": "stream",
          "name": "stderr",
          "text": [
            "\r 52%|█████▏    | 537/1024 [01:30<01:50,  4.40it/s]"
          ]
        },
        {
          "output_type": "stream",
          "name": "stdout",
          "text": [
            "n_closest_points will be ignored for UniversalKriging\n"
          ]
        },
        {
          "output_type": "stream",
          "name": "stderr",
          "text": [
            "\r 53%|█████▎    | 538/1024 [01:30<01:51,  4.37it/s]"
          ]
        },
        {
          "output_type": "stream",
          "name": "stdout",
          "text": [
            "n_closest_points will be ignored for UniversalKriging\n"
          ]
        },
        {
          "output_type": "stream",
          "name": "stderr",
          "text": [
            "\r 53%|█████▎    | 539/1024 [01:30<01:48,  4.46it/s]"
          ]
        },
        {
          "output_type": "stream",
          "name": "stdout",
          "text": [
            "n_closest_points will be ignored for UniversalKriging\n"
          ]
        },
        {
          "output_type": "stream",
          "name": "stderr",
          "text": [
            "\r 53%|█████▎    | 540/1024 [01:30<01:53,  4.27it/s]"
          ]
        },
        {
          "output_type": "stream",
          "name": "stdout",
          "text": [
            "n_closest_points will be ignored for UniversalKriging\n"
          ]
        },
        {
          "output_type": "stream",
          "name": "stderr",
          "text": [
            "\r 53%|█████▎    | 541/1024 [01:30<01:51,  4.35it/s]"
          ]
        },
        {
          "output_type": "stream",
          "name": "stdout",
          "text": [
            "n_closest_points will be ignored for UniversalKriging\n"
          ]
        },
        {
          "output_type": "stream",
          "name": "stderr",
          "text": [
            "\r 53%|█████▎    | 542/1024 [01:31<01:49,  4.38it/s]"
          ]
        },
        {
          "output_type": "stream",
          "name": "stdout",
          "text": [
            "n_closest_points will be ignored for UniversalKriging\n"
          ]
        },
        {
          "output_type": "stream",
          "name": "stderr",
          "text": [
            "\r 53%|█████▎    | 543/1024 [01:31<02:15,  3.56it/s]"
          ]
        },
        {
          "output_type": "stream",
          "name": "stdout",
          "text": [
            "n_closest_points will be ignored for UniversalKriging\n"
          ]
        },
        {
          "output_type": "stream",
          "name": "stderr",
          "text": [
            "\r 53%|█████▎    | 544/1024 [01:31<02:36,  3.07it/s]"
          ]
        },
        {
          "output_type": "stream",
          "name": "stdout",
          "text": [
            "n_closest_points will be ignored for UniversalKriging\n"
          ]
        },
        {
          "output_type": "stream",
          "name": "stderr",
          "text": [
            "\r 53%|█████▎    | 545/1024 [01:32<02:44,  2.90it/s]"
          ]
        },
        {
          "output_type": "stream",
          "name": "stdout",
          "text": [
            "n_closest_points will be ignored for UniversalKriging\n"
          ]
        },
        {
          "output_type": "stream",
          "name": "stderr",
          "text": [
            "\r 53%|█████▎    | 546/1024 [01:32<02:35,  3.08it/s]"
          ]
        },
        {
          "output_type": "stream",
          "name": "stdout",
          "text": [
            "n_closest_points will be ignored for UniversalKriging\n"
          ]
        },
        {
          "output_type": "stream",
          "name": "stderr",
          "text": [
            "\r 53%|█████▎    | 547/1024 [01:32<02:22,  3.34it/s]"
          ]
        },
        {
          "output_type": "stream",
          "name": "stdout",
          "text": [
            "n_closest_points will be ignored for UniversalKriging\n",
            "n_closest_points will be ignored for UniversalKriging\n"
          ]
        },
        {
          "output_type": "stream",
          "name": "stderr",
          "text": [
            " 54%|█████▎    | 549/1024 [01:33<02:35,  3.06it/s]"
          ]
        },
        {
          "output_type": "stream",
          "name": "stdout",
          "text": [
            "n_closest_points will be ignored for UniversalKriging\n",
            "n_closest_points will be ignored for UniversalKriging\n"
          ]
        },
        {
          "output_type": "stream",
          "name": "stderr",
          "text": [
            " 54%|█████▍    | 551/1024 [01:34<02:52,  2.74it/s]"
          ]
        },
        {
          "output_type": "stream",
          "name": "stdout",
          "text": [
            "n_closest_points will be ignored for UniversalKriging\n"
          ]
        },
        {
          "output_type": "stream",
          "name": "stderr",
          "text": [
            "\r 54%|█████▍    | 552/1024 [01:34<02:52,  2.73it/s]"
          ]
        },
        {
          "output_type": "stream",
          "name": "stdout",
          "text": [
            "n_closest_points will be ignored for UniversalKriging\n"
          ]
        },
        {
          "output_type": "stream",
          "name": "stderr",
          "text": [
            "\r 54%|█████▍    | 553/1024 [01:35<02:55,  2.69it/s]"
          ]
        },
        {
          "output_type": "stream",
          "name": "stdout",
          "text": [
            "n_closest_points will be ignored for UniversalKriging\n",
            "n_closest_points will be ignored for UniversalKriging\n"
          ]
        },
        {
          "output_type": "stream",
          "name": "stderr",
          "text": [
            "\r 54%|█████▍    | 554/1024 [01:35<03:02,  2.57it/s]"
          ]
        },
        {
          "output_type": "stream",
          "name": "stdout",
          "text": [
            "n_closest_points will be ignored for UniversalKriging\n"
          ]
        },
        {
          "output_type": "stream",
          "name": "stderr",
          "text": [
            " 54%|█████▍    | 556/1024 [01:36<02:59,  2.61it/s]"
          ]
        },
        {
          "output_type": "stream",
          "name": "stdout",
          "text": [
            "n_closest_points will be ignored for UniversalKriging\n"
          ]
        },
        {
          "output_type": "stream",
          "name": "stderr",
          "text": [
            "\r 54%|█████▍    | 557/1024 [01:36<02:45,  2.83it/s]"
          ]
        },
        {
          "output_type": "stream",
          "name": "stdout",
          "text": [
            "n_closest_points will be ignored for UniversalKriging\n"
          ]
        },
        {
          "output_type": "stream",
          "name": "stderr",
          "text": [
            "\r 54%|█████▍    | 558/1024 [01:37<02:37,  2.95it/s]"
          ]
        },
        {
          "output_type": "stream",
          "name": "stdout",
          "text": [
            "n_closest_points will be ignored for UniversalKriging\n"
          ]
        },
        {
          "output_type": "stream",
          "name": "stderr",
          "text": [
            "\r 55%|█████▍    | 559/1024 [01:37<02:32,  3.05it/s]"
          ]
        },
        {
          "output_type": "stream",
          "name": "stdout",
          "text": [
            "n_closest_points will be ignored for UniversalKriging\n"
          ]
        },
        {
          "output_type": "stream",
          "name": "stderr",
          "text": [
            "\r 55%|█████▍    | 560/1024 [01:37<02:30,  3.08it/s]"
          ]
        },
        {
          "output_type": "stream",
          "name": "stdout",
          "text": [
            "n_closest_points will be ignored for UniversalKriging\n"
          ]
        },
        {
          "output_type": "stream",
          "name": "stderr",
          "text": [
            "\r 55%|█████▍    | 561/1024 [01:37<02:26,  3.16it/s]"
          ]
        },
        {
          "output_type": "stream",
          "name": "stdout",
          "text": [
            "n_closest_points will be ignored for UniversalKriging\n"
          ]
        },
        {
          "output_type": "stream",
          "name": "stderr",
          "text": [
            "\r 55%|█████▍    | 562/1024 [01:38<02:26,  3.16it/s]"
          ]
        },
        {
          "output_type": "stream",
          "name": "stdout",
          "text": [
            "n_closest_points will be ignored for UniversalKriging\n"
          ]
        },
        {
          "output_type": "stream",
          "name": "stderr",
          "text": [
            "\r 55%|█████▍    | 563/1024 [01:38<02:37,  2.93it/s]"
          ]
        },
        {
          "output_type": "stream",
          "name": "stdout",
          "text": [
            "n_closest_points will be ignored for UniversalKriging\n"
          ]
        },
        {
          "output_type": "stream",
          "name": "stderr",
          "text": [
            "\r 55%|█████▌    | 564/1024 [01:38<02:37,  2.91it/s]"
          ]
        },
        {
          "output_type": "stream",
          "name": "stdout",
          "text": [
            "n_closest_points will be ignored for UniversalKriging\n"
          ]
        },
        {
          "output_type": "stream",
          "name": "stderr",
          "text": [
            "\r 55%|█████▌    | 565/1024 [01:39<02:43,  2.82it/s]"
          ]
        },
        {
          "output_type": "stream",
          "name": "stdout",
          "text": [
            "n_closest_points will be ignored for UniversalKriging\n"
          ]
        },
        {
          "output_type": "stream",
          "name": "stderr",
          "text": [
            "\r 55%|█████▌    | 566/1024 [01:39<02:41,  2.84it/s]"
          ]
        },
        {
          "output_type": "stream",
          "name": "stdout",
          "text": [
            "n_closest_points will be ignored for UniversalKriging\n"
          ]
        },
        {
          "output_type": "stream",
          "name": "stderr",
          "text": [
            "\r 55%|█████▌    | 567/1024 [01:39<02:23,  3.18it/s]"
          ]
        },
        {
          "output_type": "stream",
          "name": "stdout",
          "text": [
            "n_closest_points will be ignored for UniversalKriging\n"
          ]
        },
        {
          "output_type": "stream",
          "name": "stderr",
          "text": [
            "\r 55%|█████▌    | 568/1024 [01:40<02:12,  3.45it/s]"
          ]
        },
        {
          "output_type": "stream",
          "name": "stdout",
          "text": [
            "n_closest_points will be ignored for UniversalKriging\n"
          ]
        },
        {
          "output_type": "stream",
          "name": "stderr",
          "text": [
            "\r 56%|█████▌    | 569/1024 [01:40<02:03,  3.68it/s]"
          ]
        },
        {
          "output_type": "stream",
          "name": "stdout",
          "text": [
            "n_closest_points will be ignored for UniversalKriging\n"
          ]
        },
        {
          "output_type": "stream",
          "name": "stderr",
          "text": [
            "\r 56%|█████▌    | 570/1024 [01:40<01:56,  3.91it/s]"
          ]
        },
        {
          "output_type": "stream",
          "name": "stdout",
          "text": [
            "n_closest_points will be ignored for UniversalKriging\n"
          ]
        },
        {
          "output_type": "stream",
          "name": "stderr",
          "text": [
            "\r 56%|█████▌    | 571/1024 [01:40<01:51,  4.06it/s]"
          ]
        },
        {
          "output_type": "stream",
          "name": "stdout",
          "text": [
            "n_closest_points will be ignored for UniversalKriging\n"
          ]
        },
        {
          "output_type": "stream",
          "name": "stderr",
          "text": [
            "\r 56%|█████▌    | 572/1024 [01:41<01:48,  4.18it/s]"
          ]
        },
        {
          "output_type": "stream",
          "name": "stdout",
          "text": [
            "n_closest_points will be ignored for UniversalKriging\n"
          ]
        },
        {
          "output_type": "stream",
          "name": "stderr",
          "text": [
            "\r 56%|█████▌    | 573/1024 [01:41<01:45,  4.29it/s]"
          ]
        },
        {
          "output_type": "stream",
          "name": "stdout",
          "text": [
            "n_closest_points will be ignored for UniversalKriging\n"
          ]
        },
        {
          "output_type": "stream",
          "name": "stderr",
          "text": [
            " 56%|█████▌    | 575/1024 [01:41<01:40,  4.45it/s]"
          ]
        },
        {
          "output_type": "stream",
          "name": "stdout",
          "text": [
            "n_closest_points will be ignored for UniversalKriging\n",
            "n_closest_points will be ignored for UniversalKriging\n"
          ]
        },
        {
          "output_type": "stream",
          "name": "stderr",
          "text": [
            "\r 56%|█████▋    | 576/1024 [01:41<01:40,  4.45it/s]"
          ]
        },
        {
          "output_type": "stream",
          "name": "stdout",
          "text": [
            "n_closest_points will be ignored for UniversalKriging\n"
          ]
        },
        {
          "output_type": "stream",
          "name": "stderr",
          "text": [
            "\r 56%|█████▋    | 577/1024 [01:42<01:41,  4.41it/s]"
          ]
        },
        {
          "output_type": "stream",
          "name": "stdout",
          "text": [
            "n_closest_points will be ignored for UniversalKriging\n"
          ]
        },
        {
          "output_type": "stream",
          "name": "stderr",
          "text": [
            "\r 56%|█████▋    | 578/1024 [01:42<01:40,  4.45it/s]"
          ]
        },
        {
          "output_type": "stream",
          "name": "stdout",
          "text": [
            "n_closest_points will be ignored for UniversalKriging\n"
          ]
        },
        {
          "output_type": "stream",
          "name": "stderr",
          "text": [
            "\r 57%|█████▋    | 579/1024 [01:42<01:40,  4.41it/s]"
          ]
        },
        {
          "output_type": "stream",
          "name": "stdout",
          "text": [
            "n_closest_points will be ignored for UniversalKriging\n"
          ]
        },
        {
          "output_type": "stream",
          "name": "stderr",
          "text": [
            "\r 57%|█████▋    | 580/1024 [01:42<01:40,  4.40it/s]"
          ]
        },
        {
          "output_type": "stream",
          "name": "stdout",
          "text": [
            "n_closest_points will be ignored for UniversalKriging\n"
          ]
        },
        {
          "output_type": "stream",
          "name": "stderr",
          "text": [
            "\r 57%|█████▋    | 581/1024 [01:43<01:42,  4.34it/s]"
          ]
        },
        {
          "output_type": "stream",
          "name": "stdout",
          "text": [
            "n_closest_points will be ignored for UniversalKriging\n"
          ]
        },
        {
          "output_type": "stream",
          "name": "stderr",
          "text": [
            "\r 57%|█████▋    | 582/1024 [01:43<01:42,  4.30it/s]"
          ]
        },
        {
          "output_type": "stream",
          "name": "stdout",
          "text": [
            "n_closest_points will be ignored for UniversalKriging\n"
          ]
        },
        {
          "output_type": "stream",
          "name": "stderr",
          "text": [
            "\r 57%|█████▋    | 583/1024 [01:43<01:41,  4.37it/s]"
          ]
        },
        {
          "output_type": "stream",
          "name": "stdout",
          "text": [
            "n_closest_points will be ignored for UniversalKriging\n"
          ]
        },
        {
          "output_type": "stream",
          "name": "stderr",
          "text": [
            "\r 57%|█████▋    | 584/1024 [01:43<01:41,  4.34it/s]"
          ]
        },
        {
          "output_type": "stream",
          "name": "stdout",
          "text": [
            "n_closest_points will be ignored for UniversalKriging\n"
          ]
        },
        {
          "output_type": "stream",
          "name": "stderr",
          "text": [
            "\r 57%|█████▋    | 585/1024 [01:44<01:40,  4.37it/s]"
          ]
        },
        {
          "output_type": "stream",
          "name": "stdout",
          "text": [
            "n_closest_points will be ignored for UniversalKriging\n"
          ]
        },
        {
          "output_type": "stream",
          "name": "stderr",
          "text": [
            "\r 57%|█████▋    | 586/1024 [01:44<01:41,  4.31it/s]"
          ]
        },
        {
          "output_type": "stream",
          "name": "stdout",
          "text": [
            "n_closest_points will be ignored for UniversalKriging\n"
          ]
        },
        {
          "output_type": "stream",
          "name": "stderr",
          "text": [
            "\r 57%|█████▋    | 587/1024 [01:44<01:38,  4.42it/s]"
          ]
        },
        {
          "output_type": "stream",
          "name": "stdout",
          "text": [
            "n_closest_points will be ignored for UniversalKriging\n"
          ]
        },
        {
          "output_type": "stream",
          "name": "stderr",
          "text": [
            "\r 57%|█████▋    | 588/1024 [01:44<01:40,  4.32it/s]"
          ]
        },
        {
          "output_type": "stream",
          "name": "stdout",
          "text": [
            "n_closest_points will be ignored for UniversalKriging\n"
          ]
        },
        {
          "output_type": "stream",
          "name": "stderr",
          "text": [
            "\r 58%|█████▊    | 589/1024 [01:44<01:45,  4.11it/s]"
          ]
        },
        {
          "output_type": "stream",
          "name": "stdout",
          "text": [
            "n_closest_points will be ignored for UniversalKriging\n"
          ]
        },
        {
          "output_type": "stream",
          "name": "stderr",
          "text": [
            "\r 58%|█████▊    | 590/1024 [01:45<01:40,  4.30it/s]"
          ]
        },
        {
          "output_type": "stream",
          "name": "stdout",
          "text": [
            "n_closest_points will be ignored for UniversalKriging\n"
          ]
        },
        {
          "output_type": "stream",
          "name": "stderr",
          "text": [
            "\r 58%|█████▊    | 591/1024 [01:45<01:40,  4.30it/s]"
          ]
        },
        {
          "output_type": "stream",
          "name": "stdout",
          "text": [
            "n_closest_points will be ignored for UniversalKriging\n"
          ]
        },
        {
          "output_type": "stream",
          "name": "stderr",
          "text": [
            "\r 58%|█████▊    | 592/1024 [01:45<01:40,  4.28it/s]"
          ]
        },
        {
          "output_type": "stream",
          "name": "stdout",
          "text": [
            "n_closest_points will be ignored for UniversalKriging\n"
          ]
        },
        {
          "output_type": "stream",
          "name": "stderr",
          "text": [
            "\r 58%|█████▊    | 593/1024 [01:45<01:38,  4.37it/s]"
          ]
        },
        {
          "output_type": "stream",
          "name": "stdout",
          "text": [
            "n_closest_points will be ignored for UniversalKriging\n"
          ]
        },
        {
          "output_type": "stream",
          "name": "stderr",
          "text": [
            "\r 58%|█████▊    | 594/1024 [01:46<01:36,  4.47it/s]"
          ]
        },
        {
          "output_type": "stream",
          "name": "stdout",
          "text": [
            "n_closest_points will be ignored for UniversalKriging\n"
          ]
        },
        {
          "output_type": "stream",
          "name": "stderr",
          "text": [
            "\r 58%|█████▊    | 595/1024 [01:46<01:35,  4.49it/s]"
          ]
        },
        {
          "output_type": "stream",
          "name": "stdout",
          "text": [
            "n_closest_points will be ignored for UniversalKriging\n"
          ]
        },
        {
          "output_type": "stream",
          "name": "stderr",
          "text": [
            "\r 58%|█████▊    | 596/1024 [01:46<01:36,  4.42it/s]"
          ]
        },
        {
          "output_type": "stream",
          "name": "stdout",
          "text": [
            "n_closest_points will be ignored for UniversalKriging\n"
          ]
        },
        {
          "output_type": "stream",
          "name": "stderr",
          "text": [
            "\r 58%|█████▊    | 597/1024 [01:46<01:36,  4.41it/s]"
          ]
        },
        {
          "output_type": "stream",
          "name": "stdout",
          "text": [
            "n_closest_points will be ignored for UniversalKriging\n"
          ]
        },
        {
          "output_type": "stream",
          "name": "stderr",
          "text": [
            "\r 58%|█████▊    | 598/1024 [01:46<01:35,  4.48it/s]"
          ]
        },
        {
          "output_type": "stream",
          "name": "stdout",
          "text": [
            "n_closest_points will be ignored for UniversalKriging\n",
            "n_closest_points will be ignored for UniversalKriging\n"
          ]
        },
        {
          "output_type": "stream",
          "name": "stderr",
          "text": [
            " 59%|█████▊    | 600/1024 [01:47<01:33,  4.53it/s]"
          ]
        },
        {
          "output_type": "stream",
          "name": "stdout",
          "text": [
            "n_closest_points will be ignored for UniversalKriging\n"
          ]
        },
        {
          "output_type": "stream",
          "name": "stderr",
          "text": [
            "\r 59%|█████▊    | 601/1024 [01:47<01:33,  4.54it/s]"
          ]
        },
        {
          "output_type": "stream",
          "name": "stdout",
          "text": [
            "n_closest_points will be ignored for UniversalKriging\n"
          ]
        },
        {
          "output_type": "stream",
          "name": "stderr",
          "text": [
            "\r 59%|█████▉    | 602/1024 [01:47<01:32,  4.55it/s]"
          ]
        },
        {
          "output_type": "stream",
          "name": "stdout",
          "text": [
            "n_closest_points will be ignored for UniversalKriging\n"
          ]
        },
        {
          "output_type": "stream",
          "name": "stderr",
          "text": [
            "\r 59%|█████▉    | 603/1024 [01:48<01:31,  4.59it/s]"
          ]
        },
        {
          "output_type": "stream",
          "name": "stdout",
          "text": [
            "n_closest_points will be ignored for UniversalKriging\n"
          ]
        },
        {
          "output_type": "stream",
          "name": "stderr",
          "text": [
            "\r 59%|█████▉    | 604/1024 [01:48<01:30,  4.65it/s]"
          ]
        },
        {
          "output_type": "stream",
          "name": "stdout",
          "text": [
            "n_closest_points will be ignored for UniversalKriging\n"
          ]
        },
        {
          "output_type": "stream",
          "name": "stderr",
          "text": [
            "\r 59%|█████▉    | 605/1024 [01:48<01:32,  4.53it/s]"
          ]
        },
        {
          "output_type": "stream",
          "name": "stdout",
          "text": [
            "n_closest_points will be ignored for UniversalKriging\n"
          ]
        },
        {
          "output_type": "stream",
          "name": "stderr",
          "text": [
            "\r 59%|█████▉    | 606/1024 [01:48<01:30,  4.62it/s]"
          ]
        },
        {
          "output_type": "stream",
          "name": "stdout",
          "text": [
            "n_closest_points will be ignored for UniversalKriging\n"
          ]
        },
        {
          "output_type": "stream",
          "name": "stderr",
          "text": [
            "\r 59%|█████▉    | 607/1024 [01:48<01:31,  4.56it/s]"
          ]
        },
        {
          "output_type": "stream",
          "name": "stdout",
          "text": [
            "n_closest_points will be ignored for UniversalKriging\n"
          ]
        },
        {
          "output_type": "stream",
          "name": "stderr",
          "text": [
            "\r 59%|█████▉    | 608/1024 [01:49<01:30,  4.60it/s]"
          ]
        },
        {
          "output_type": "stream",
          "name": "stdout",
          "text": [
            "n_closest_points will be ignored for UniversalKriging\n"
          ]
        },
        {
          "output_type": "stream",
          "name": "stderr",
          "text": [
            "\r 59%|█████▉    | 609/1024 [01:49<01:29,  4.63it/s]"
          ]
        },
        {
          "output_type": "stream",
          "name": "stdout",
          "text": [
            "n_closest_points will be ignored for UniversalKriging\n"
          ]
        },
        {
          "output_type": "stream",
          "name": "stderr",
          "text": [
            "\r 60%|█████▉    | 610/1024 [01:49<01:31,  4.52it/s]"
          ]
        },
        {
          "output_type": "stream",
          "name": "stdout",
          "text": [
            "n_closest_points will be ignored for UniversalKriging\n"
          ]
        },
        {
          "output_type": "stream",
          "name": "stderr",
          "text": [
            "\r 60%|█████▉    | 611/1024 [01:49<01:32,  4.46it/s]"
          ]
        },
        {
          "output_type": "stream",
          "name": "stdout",
          "text": [
            "n_closest_points will be ignored for UniversalKriging\n"
          ]
        },
        {
          "output_type": "stream",
          "name": "stderr",
          "text": [
            "\r 60%|█████▉    | 612/1024 [01:50<01:39,  4.12it/s]"
          ]
        },
        {
          "output_type": "stream",
          "name": "stdout",
          "text": [
            "n_closest_points will be ignored for UniversalKriging\n"
          ]
        },
        {
          "output_type": "stream",
          "name": "stderr",
          "text": [
            "\r 60%|█████▉    | 613/1024 [01:50<01:47,  3.84it/s]"
          ]
        },
        {
          "output_type": "stream",
          "name": "stdout",
          "text": [
            "n_closest_points will be ignored for UniversalKriging\n",
            "n_closest_points will be ignored for UniversalKriging\n"
          ]
        },
        {
          "output_type": "stream",
          "name": "stderr",
          "text": [
            " 60%|██████    | 615/1024 [01:51<02:12,  3.09it/s]"
          ]
        },
        {
          "output_type": "stream",
          "name": "stdout",
          "text": [
            "n_closest_points will be ignored for UniversalKriging\n",
            "n_closest_points will be ignored for UniversalKriging\n"
          ]
        },
        {
          "output_type": "stream",
          "name": "stderr",
          "text": [
            " 60%|██████    | 617/1024 [01:51<02:20,  2.90it/s]"
          ]
        },
        {
          "output_type": "stream",
          "name": "stdout",
          "text": [
            "n_closest_points will be ignored for UniversalKriging\n"
          ]
        },
        {
          "output_type": "stream",
          "name": "stderr",
          "text": [
            "\r 60%|██████    | 618/1024 [01:52<02:13,  3.05it/s]"
          ]
        },
        {
          "output_type": "stream",
          "name": "stdout",
          "text": [
            "n_closest_points will be ignored for UniversalKriging\n"
          ]
        },
        {
          "output_type": "stream",
          "name": "stderr",
          "text": [
            "\r 60%|██████    | 619/1024 [01:52<02:12,  3.05it/s]"
          ]
        },
        {
          "output_type": "stream",
          "name": "stdout",
          "text": [
            "n_closest_points will be ignored for UniversalKriging\n"
          ]
        },
        {
          "output_type": "stream",
          "name": "stderr",
          "text": [
            "\r 61%|██████    | 620/1024 [01:52<02:06,  3.21it/s]"
          ]
        },
        {
          "output_type": "stream",
          "name": "stdout",
          "text": [
            "n_closest_points will be ignored for UniversalKriging\n",
            "n_closest_points will be ignored for UniversalKriging\n"
          ]
        },
        {
          "output_type": "stream",
          "name": "stderr",
          "text": [
            " 61%|██████    | 622/1024 [01:53<02:13,  3.02it/s]"
          ]
        },
        {
          "output_type": "stream",
          "name": "stdout",
          "text": [
            "n_closest_points will be ignored for UniversalKriging\n"
          ]
        },
        {
          "output_type": "stream",
          "name": "stderr",
          "text": [
            "\r 61%|██████    | 623/1024 [01:54<02:23,  2.80it/s]"
          ]
        },
        {
          "output_type": "stream",
          "name": "stdout",
          "text": [
            "n_closest_points will be ignored for UniversalKriging\n",
            "n_closest_points will be ignored for UniversalKriging\n"
          ]
        },
        {
          "output_type": "stream",
          "name": "stderr",
          "text": [
            "\r 61%|██████    | 624/1024 [01:54<02:32,  2.62it/s]"
          ]
        },
        {
          "output_type": "stream",
          "name": "stdout",
          "text": [
            "n_closest_points will be ignored for UniversalKriging\n"
          ]
        },
        {
          "output_type": "stream",
          "name": "stderr",
          "text": [
            "\r 61%|██████    | 625/1024 [01:54<02:32,  2.61it/s]"
          ]
        },
        {
          "output_type": "stream",
          "name": "stdout",
          "text": [
            "n_closest_points will be ignored for UniversalKriging\n"
          ]
        },
        {
          "output_type": "stream",
          "name": "stderr",
          "text": [
            "\r 61%|██████    | 626/1024 [01:55<02:35,  2.56it/s]"
          ]
        },
        {
          "output_type": "stream",
          "name": "stdout",
          "text": [
            "n_closest_points will be ignored for UniversalKriging\n"
          ]
        },
        {
          "output_type": "stream",
          "name": "stderr",
          "text": [
            "\r 61%|██████    | 627/1024 [01:55<02:37,  2.53it/s]"
          ]
        },
        {
          "output_type": "stream",
          "name": "stdout",
          "text": [
            "n_closest_points will be ignored for UniversalKriging\n"
          ]
        },
        {
          "output_type": "stream",
          "name": "stderr",
          "text": [
            "\r 61%|██████▏   | 628/1024 [01:56<02:39,  2.49it/s]"
          ]
        },
        {
          "output_type": "stream",
          "name": "stdout",
          "text": [
            "n_closest_points will be ignored for UniversalKriging\n"
          ]
        },
        {
          "output_type": "stream",
          "name": "stderr",
          "text": [
            " 62%|██████▏   | 630/1024 [01:56<02:32,  2.58it/s]"
          ]
        },
        {
          "output_type": "stream",
          "name": "stdout",
          "text": [
            "n_closest_points will be ignored for UniversalKriging\n"
          ]
        },
        {
          "output_type": "stream",
          "name": "stderr",
          "text": [
            "\r 62%|██████▏   | 631/1024 [01:57<02:15,  2.90it/s]"
          ]
        },
        {
          "output_type": "stream",
          "name": "stdout",
          "text": [
            "n_closest_points will be ignored for UniversalKriging\n",
            "n_closest_points will be ignored for UniversalKriging\n"
          ]
        },
        {
          "output_type": "stream",
          "name": "stderr",
          "text": [
            " 62%|██████▏   | 633/1024 [01:57<01:45,  3.72it/s]"
          ]
        },
        {
          "output_type": "stream",
          "name": "stdout",
          "text": [
            "n_closest_points will be ignored for UniversalKriging\n",
            "n_closest_points will be ignored for UniversalKriging\n"
          ]
        },
        {
          "output_type": "stream",
          "name": "stderr",
          "text": [
            " 62%|██████▏   | 635/1024 [01:57<01:30,  4.31it/s]"
          ]
        },
        {
          "output_type": "stream",
          "name": "stdout",
          "text": [
            "n_closest_points will be ignored for UniversalKriging\n"
          ]
        },
        {
          "output_type": "stream",
          "name": "stderr",
          "text": [
            "\r 62%|██████▏   | 636/1024 [01:58<01:28,  4.38it/s]"
          ]
        },
        {
          "output_type": "stream",
          "name": "stdout",
          "text": [
            "n_closest_points will be ignored for UniversalKriging\n",
            "n_closest_points will be ignored for UniversalKriging\n"
          ]
        },
        {
          "output_type": "stream",
          "name": "stderr",
          "text": [
            " 62%|██████▏   | 638/1024 [01:58<01:21,  4.74it/s]"
          ]
        },
        {
          "output_type": "stream",
          "name": "stdout",
          "text": [
            "n_closest_points will be ignored for UniversalKriging\n",
            "n_closest_points will be ignored for UniversalKriging\n"
          ]
        },
        {
          "output_type": "stream",
          "name": "stderr",
          "text": [
            " 62%|██████▎   | 640/1024 [01:58<01:18,  4.89it/s]"
          ]
        },
        {
          "output_type": "stream",
          "name": "stdout",
          "text": [
            "n_closest_points will be ignored for UniversalKriging\n"
          ]
        },
        {
          "output_type": "stream",
          "name": "stderr",
          "text": [
            "\r 63%|██████▎   | 641/1024 [01:59<01:20,  4.77it/s]"
          ]
        },
        {
          "output_type": "stream",
          "name": "stdout",
          "text": [
            "n_closest_points will be ignored for UniversalKriging\n"
          ]
        },
        {
          "output_type": "stream",
          "name": "stderr",
          "text": [
            "\r 63%|██████▎   | 642/1024 [01:59<01:20,  4.77it/s]"
          ]
        },
        {
          "output_type": "stream",
          "name": "stdout",
          "text": [
            "n_closest_points will be ignored for UniversalKriging\n",
            "n_closest_points will be ignored for UniversalKriging\n"
          ]
        },
        {
          "output_type": "stream",
          "name": "stderr",
          "text": [
            " 63%|██████▎   | 644/1024 [01:59<01:18,  4.84it/s]"
          ]
        },
        {
          "output_type": "stream",
          "name": "stdout",
          "text": [
            "n_closest_points will be ignored for UniversalKriging\n",
            "n_closest_points will be ignored for UniversalKriging\n"
          ]
        },
        {
          "output_type": "stream",
          "name": "stderr",
          "text": [
            " 63%|██████▎   | 646/1024 [02:00<01:17,  4.91it/s]"
          ]
        },
        {
          "output_type": "stream",
          "name": "stdout",
          "text": [
            "n_closest_points will be ignored for UniversalKriging\n",
            "n_closest_points will be ignored for UniversalKriging\n"
          ]
        },
        {
          "output_type": "stream",
          "name": "stderr",
          "text": [
            " 63%|██████▎   | 648/1024 [02:00<01:15,  5.00it/s]"
          ]
        },
        {
          "output_type": "stream",
          "name": "stdout",
          "text": [
            "n_closest_points will be ignored for UniversalKriging\n",
            "n_closest_points will be ignored for UniversalKriging\n"
          ]
        },
        {
          "output_type": "stream",
          "name": "stderr",
          "text": [
            " 63%|██████▎   | 650/1024 [02:00<01:13,  5.08it/s]"
          ]
        },
        {
          "output_type": "stream",
          "name": "stdout",
          "text": [
            "n_closest_points will be ignored for UniversalKriging\n"
          ]
        },
        {
          "output_type": "stream",
          "name": "stderr",
          "text": [
            "\r 64%|██████▎   | 651/1024 [02:01<01:13,  5.07it/s]"
          ]
        },
        {
          "output_type": "stream",
          "name": "stdout",
          "text": [
            "n_closest_points will be ignored for UniversalKriging\n",
            "n_closest_points will be ignored for UniversalKriging\n"
          ]
        },
        {
          "output_type": "stream",
          "name": "stderr",
          "text": [
            " 64%|██████▍   | 653/1024 [02:01<01:15,  4.92it/s]"
          ]
        },
        {
          "output_type": "stream",
          "name": "stdout",
          "text": [
            "n_closest_points will be ignored for UniversalKriging\n",
            "n_closest_points will be ignored for UniversalKriging\n"
          ]
        },
        {
          "output_type": "stream",
          "name": "stderr",
          "text": [
            " 64%|██████▍   | 655/1024 [02:01<01:11,  5.14it/s]"
          ]
        },
        {
          "output_type": "stream",
          "name": "stdout",
          "text": [
            "n_closest_points will be ignored for UniversalKriging\n",
            "n_closest_points will be ignored for UniversalKriging\n"
          ]
        },
        {
          "output_type": "stream",
          "name": "stderr",
          "text": [
            " 64%|██████▍   | 657/1024 [02:02<01:11,  5.15it/s]"
          ]
        },
        {
          "output_type": "stream",
          "name": "stdout",
          "text": [
            "n_closest_points will be ignored for UniversalKriging\n",
            "n_closest_points will be ignored for UniversalKriging\n"
          ]
        },
        {
          "output_type": "stream",
          "name": "stderr",
          "text": [
            " 64%|██████▍   | 659/1024 [02:02<01:10,  5.16it/s]"
          ]
        },
        {
          "output_type": "stream",
          "name": "stdout",
          "text": [
            "n_closest_points will be ignored for UniversalKriging\n",
            "n_closest_points will be ignored for UniversalKriging\n"
          ]
        },
        {
          "output_type": "stream",
          "name": "stderr",
          "text": [
            " 65%|██████▍   | 661/1024 [02:03<01:10,  5.17it/s]"
          ]
        },
        {
          "output_type": "stream",
          "name": "stdout",
          "text": [
            "n_closest_points will be ignored for UniversalKriging\n",
            "n_closest_points will be ignored for UniversalKriging\n"
          ]
        },
        {
          "output_type": "stream",
          "name": "stderr",
          "text": [
            " 65%|██████▍   | 663/1024 [02:03<01:08,  5.29it/s]"
          ]
        },
        {
          "output_type": "stream",
          "name": "stdout",
          "text": [
            "n_closest_points will be ignored for UniversalKriging\n",
            "n_closest_points will be ignored for UniversalKriging\n"
          ]
        },
        {
          "output_type": "stream",
          "name": "stderr",
          "text": [
            " 65%|██████▍   | 665/1024 [02:03<01:06,  5.40it/s]"
          ]
        },
        {
          "output_type": "stream",
          "name": "stdout",
          "text": [
            "n_closest_points will be ignored for UniversalKriging\n",
            "n_closest_points will be ignored for UniversalKriging\n"
          ]
        },
        {
          "output_type": "stream",
          "name": "stderr",
          "text": [
            " 65%|██████▌   | 667/1024 [02:04<01:05,  5.43it/s]"
          ]
        },
        {
          "output_type": "stream",
          "name": "stdout",
          "text": [
            "n_closest_points will be ignored for UniversalKriging\n",
            "n_closest_points will be ignored for UniversalKriging\n"
          ]
        },
        {
          "output_type": "stream",
          "name": "stderr",
          "text": [
            " 65%|██████▌   | 669/1024 [02:04<01:05,  5.46it/s]"
          ]
        },
        {
          "output_type": "stream",
          "name": "stdout",
          "text": [
            "n_closest_points will be ignored for UniversalKriging\n",
            "n_closest_points will be ignored for UniversalKriging\n"
          ]
        },
        {
          "output_type": "stream",
          "name": "stderr",
          "text": [
            " 66%|██████▌   | 671/1024 [02:04<01:02,  5.60it/s]"
          ]
        },
        {
          "output_type": "stream",
          "name": "stdout",
          "text": [
            "n_closest_points will be ignored for UniversalKriging\n",
            "n_closest_points will be ignored for UniversalKriging\n"
          ]
        },
        {
          "output_type": "stream",
          "name": "stderr",
          "text": [
            " 66%|██████▌   | 673/1024 [02:05<01:04,  5.41it/s]"
          ]
        },
        {
          "output_type": "stream",
          "name": "stdout",
          "text": [
            "n_closest_points will be ignored for UniversalKriging\n",
            "n_closest_points will be ignored for UniversalKriging\n"
          ]
        },
        {
          "output_type": "stream",
          "name": "stderr",
          "text": [
            " 66%|██████▌   | 675/1024 [02:05<01:04,  5.43it/s]"
          ]
        },
        {
          "output_type": "stream",
          "name": "stdout",
          "text": [
            "n_closest_points will be ignored for UniversalKriging\n",
            "n_closest_points will be ignored for UniversalKriging\n"
          ]
        },
        {
          "output_type": "stream",
          "name": "stderr",
          "text": [
            " 66%|██████▌   | 677/1024 [02:05<01:03,  5.47it/s]"
          ]
        },
        {
          "output_type": "stream",
          "name": "stdout",
          "text": [
            "n_closest_points will be ignored for UniversalKriging\n",
            "n_closest_points will be ignored for UniversalKriging\n"
          ]
        },
        {
          "output_type": "stream",
          "name": "stderr",
          "text": [
            " 66%|██████▋   | 679/1024 [02:06<01:04,  5.35it/s]"
          ]
        },
        {
          "output_type": "stream",
          "name": "stdout",
          "text": [
            "n_closest_points will be ignored for UniversalKriging\n",
            "n_closest_points will be ignored for UniversalKriging\n"
          ]
        },
        {
          "output_type": "stream",
          "name": "stderr",
          "text": [
            " 67%|██████▋   | 681/1024 [02:06<01:04,  5.30it/s]"
          ]
        },
        {
          "output_type": "stream",
          "name": "stdout",
          "text": [
            "n_closest_points will be ignored for UniversalKriging\n",
            "n_closest_points will be ignored for UniversalKriging\n"
          ]
        },
        {
          "output_type": "stream",
          "name": "stderr",
          "text": [
            " 67%|██████▋   | 683/1024 [02:07<01:09,  4.94it/s]"
          ]
        },
        {
          "output_type": "stream",
          "name": "stdout",
          "text": [
            "n_closest_points will be ignored for UniversalKriging\n"
          ]
        },
        {
          "output_type": "stream",
          "name": "stderr",
          "text": [
            "\r 67%|██████▋   | 684/1024 [02:07<01:13,  4.65it/s]"
          ]
        },
        {
          "output_type": "stream",
          "name": "stdout",
          "text": [
            "n_closest_points will be ignored for UniversalKriging\n"
          ]
        },
        {
          "output_type": "stream",
          "name": "stderr",
          "text": [
            "\r 67%|██████▋   | 685/1024 [02:07<01:18,  4.30it/s]"
          ]
        },
        {
          "output_type": "stream",
          "name": "stdout",
          "text": [
            "n_closest_points will be ignored for UniversalKriging\n",
            "n_closest_points will be ignored for UniversalKriging\n"
          ]
        },
        {
          "output_type": "stream",
          "name": "stderr",
          "text": [
            " 67%|██████▋   | 687/1024 [02:08<01:41,  3.33it/s]"
          ]
        },
        {
          "output_type": "stream",
          "name": "stdout",
          "text": [
            "n_closest_points will be ignored for UniversalKriging\n"
          ]
        },
        {
          "output_type": "stream",
          "name": "stderr",
          "text": [
            "\r 67%|██████▋   | 688/1024 [02:08<01:34,  3.54it/s]"
          ]
        },
        {
          "output_type": "stream",
          "name": "stdout",
          "text": [
            "n_closest_points will be ignored for UniversalKriging\n"
          ]
        },
        {
          "output_type": "stream",
          "name": "stderr",
          "text": [
            "\r 67%|██████▋   | 689/1024 [02:08<01:37,  3.44it/s]"
          ]
        },
        {
          "output_type": "stream",
          "name": "stdout",
          "text": [
            "n_closest_points will be ignored for UniversalKriging\n"
          ]
        },
        {
          "output_type": "stream",
          "name": "stderr",
          "text": [
            "\r 67%|██████▋   | 690/1024 [02:09<01:31,  3.64it/s]"
          ]
        },
        {
          "output_type": "stream",
          "name": "stdout",
          "text": [
            "n_closest_points will be ignored for UniversalKriging\n",
            "n_closest_points will be ignored for UniversalKriging\n"
          ]
        },
        {
          "output_type": "stream",
          "name": "stderr",
          "text": [
            " 68%|██████▊   | 692/1024 [02:09<01:34,  3.52it/s]"
          ]
        },
        {
          "output_type": "stream",
          "name": "stdout",
          "text": [
            "n_closest_points will be ignored for UniversalKriging\n"
          ]
        },
        {
          "output_type": "stream",
          "name": "stderr",
          "text": [
            "\r 68%|██████▊   | 693/1024 [02:10<01:28,  3.76it/s]"
          ]
        },
        {
          "output_type": "stream",
          "name": "stdout",
          "text": [
            "n_closest_points will be ignored for UniversalKriging\n",
            "n_closest_points will be ignored for UniversalKriging\n"
          ]
        },
        {
          "output_type": "stream",
          "name": "stderr",
          "text": [
            " 68%|██████▊   | 695/1024 [02:10<01:31,  3.60it/s]"
          ]
        },
        {
          "output_type": "stream",
          "name": "stdout",
          "text": [
            "n_closest_points will be ignored for UniversalKriging\n",
            "n_closest_points will be ignored for UniversalKriging\n"
          ]
        },
        {
          "output_type": "stream",
          "name": "stderr",
          "text": [
            " 68%|██████▊   | 697/1024 [02:11<01:43,  3.15it/s]"
          ]
        },
        {
          "output_type": "stream",
          "name": "stdout",
          "text": [
            "n_closest_points will be ignored for UniversalKriging\n"
          ]
        },
        {
          "output_type": "stream",
          "name": "stderr",
          "text": [
            "\r 68%|██████▊   | 698/1024 [02:11<01:37,  3.35it/s]"
          ]
        },
        {
          "output_type": "stream",
          "name": "stdout",
          "text": [
            "n_closest_points will be ignored for UniversalKriging\n"
          ]
        },
        {
          "output_type": "stream",
          "name": "stderr",
          "text": [
            "\r 68%|██████▊   | 699/1024 [02:11<01:33,  3.49it/s]"
          ]
        },
        {
          "output_type": "stream",
          "name": "stdout",
          "text": [
            "n_closest_points will be ignored for UniversalKriging\n"
          ]
        },
        {
          "output_type": "stream",
          "name": "stderr",
          "text": [
            "\r 68%|██████▊   | 700/1024 [02:12<01:33,  3.47it/s]"
          ]
        },
        {
          "output_type": "stream",
          "name": "stdout",
          "text": [
            "n_closest_points will be ignored for UniversalKriging\n"
          ]
        },
        {
          "output_type": "stream",
          "name": "stderr",
          "text": [
            "\r 68%|██████▊   | 701/1024 [02:12<01:36,  3.36it/s]"
          ]
        },
        {
          "output_type": "stream",
          "name": "stdout",
          "text": [
            "n_closest_points will be ignored for UniversalKriging\n",
            "n_closest_points will be ignored for UniversalKriging\n"
          ]
        },
        {
          "output_type": "stream",
          "name": "stderr",
          "text": [
            "\r 69%|██████▊   | 702/1024 [02:12<01:46,  3.01it/s]"
          ]
        },
        {
          "output_type": "stream",
          "name": "stdout",
          "text": [
            "n_closest_points will be ignored for UniversalKriging\n"
          ]
        },
        {
          "output_type": "stream",
          "name": "stderr",
          "text": [
            " 69%|██████▉   | 704/1024 [02:13<01:45,  3.05it/s]"
          ]
        },
        {
          "output_type": "stream",
          "name": "stdout",
          "text": [
            "n_closest_points will be ignored for UniversalKriging\n"
          ]
        },
        {
          "output_type": "stream",
          "name": "stderr",
          "text": [
            "\r 69%|██████▉   | 705/1024 [02:13<01:43,  3.10it/s]"
          ]
        },
        {
          "output_type": "stream",
          "name": "stdout",
          "text": [
            "n_closest_points will be ignored for UniversalKriging\n"
          ]
        },
        {
          "output_type": "stream",
          "name": "stderr",
          "text": [
            "\r 69%|██████▉   | 706/1024 [02:14<01:36,  3.29it/s]"
          ]
        },
        {
          "output_type": "stream",
          "name": "stdout",
          "text": [
            "n_closest_points will be ignored for UniversalKriging\n",
            "n_closest_points will be ignored for UniversalKriging\n"
          ]
        },
        {
          "output_type": "stream",
          "name": "stderr",
          "text": [
            " 69%|██████▉   | 708/1024 [02:14<01:15,  4.17it/s]"
          ]
        },
        {
          "output_type": "stream",
          "name": "stdout",
          "text": [
            "n_closest_points will be ignored for UniversalKriging\n",
            "n_closest_points will be ignored for UniversalKriging\n"
          ]
        },
        {
          "output_type": "stream",
          "name": "stderr",
          "text": [
            " 69%|██████▉   | 710/1024 [02:14<01:05,  4.77it/s]"
          ]
        },
        {
          "output_type": "stream",
          "name": "stdout",
          "text": [
            "n_closest_points will be ignored for UniversalKriging\n",
            "n_closest_points will be ignored for UniversalKriging\n"
          ]
        },
        {
          "output_type": "stream",
          "name": "stderr",
          "text": [
            " 70%|██████▉   | 712/1024 [02:15<01:02,  4.99it/s]"
          ]
        },
        {
          "output_type": "stream",
          "name": "stdout",
          "text": [
            "n_closest_points will be ignored for UniversalKriging\n",
            "n_closest_points will be ignored for UniversalKriging\n"
          ]
        },
        {
          "output_type": "stream",
          "name": "stderr",
          "text": [
            " 70%|██████▉   | 714/1024 [02:15<00:59,  5.25it/s]"
          ]
        },
        {
          "output_type": "stream",
          "name": "stdout",
          "text": [
            "n_closest_points will be ignored for UniversalKriging\n",
            "n_closest_points will be ignored for UniversalKriging\n"
          ]
        },
        {
          "output_type": "stream",
          "name": "stderr",
          "text": [
            " 70%|██████▉   | 716/1024 [02:16<00:57,  5.36it/s]"
          ]
        },
        {
          "output_type": "stream",
          "name": "stdout",
          "text": [
            "n_closest_points will be ignored for UniversalKriging\n",
            "n_closest_points will be ignored for UniversalKriging\n"
          ]
        },
        {
          "output_type": "stream",
          "name": "stderr",
          "text": [
            " 70%|███████   | 718/1024 [02:16<00:55,  5.53it/s]"
          ]
        },
        {
          "output_type": "stream",
          "name": "stdout",
          "text": [
            "n_closest_points will be ignored for UniversalKriging\n",
            "n_closest_points will be ignored for UniversalKriging\n"
          ]
        },
        {
          "output_type": "stream",
          "name": "stderr",
          "text": [
            " 70%|███████   | 720/1024 [02:16<00:54,  5.60it/s]"
          ]
        },
        {
          "output_type": "stream",
          "name": "stdout",
          "text": [
            "n_closest_points will be ignored for UniversalKriging\n",
            "n_closest_points will be ignored for UniversalKriging\n"
          ]
        },
        {
          "output_type": "stream",
          "name": "stderr",
          "text": [
            " 71%|███████   | 722/1024 [02:17<00:53,  5.61it/s]"
          ]
        },
        {
          "output_type": "stream",
          "name": "stdout",
          "text": [
            "n_closest_points will be ignored for UniversalKriging\n",
            "n_closest_points will be ignored for UniversalKriging\n"
          ]
        },
        {
          "output_type": "stream",
          "name": "stderr",
          "text": [
            " 71%|███████   | 724/1024 [02:17<00:52,  5.68it/s]"
          ]
        },
        {
          "output_type": "stream",
          "name": "stdout",
          "text": [
            "n_closest_points will be ignored for UniversalKriging\n",
            "n_closest_points will be ignored for UniversalKriging\n"
          ]
        },
        {
          "output_type": "stream",
          "name": "stderr",
          "text": [
            " 71%|███████   | 726/1024 [02:17<00:52,  5.67it/s]"
          ]
        },
        {
          "output_type": "stream",
          "name": "stdout",
          "text": [
            "n_closest_points will be ignored for UniversalKriging\n",
            "n_closest_points will be ignored for UniversalKriging\n"
          ]
        },
        {
          "output_type": "stream",
          "name": "stderr",
          "text": [
            " 71%|███████   | 728/1024 [02:18<00:52,  5.67it/s]"
          ]
        },
        {
          "output_type": "stream",
          "name": "stdout",
          "text": [
            "n_closest_points will be ignored for UniversalKriging\n",
            "n_closest_points will be ignored for UniversalKriging\n"
          ]
        },
        {
          "output_type": "stream",
          "name": "stderr",
          "text": [
            " 71%|███████▏  | 730/1024 [02:18<00:51,  5.68it/s]"
          ]
        },
        {
          "output_type": "stream",
          "name": "stdout",
          "text": [
            "n_closest_points will be ignored for UniversalKriging\n",
            "n_closest_points will be ignored for UniversalKriging\n"
          ]
        },
        {
          "output_type": "stream",
          "name": "stderr",
          "text": [
            " 71%|███████▏  | 732/1024 [02:18<00:50,  5.77it/s]"
          ]
        },
        {
          "output_type": "stream",
          "name": "stdout",
          "text": [
            "n_closest_points will be ignored for UniversalKriging\n",
            "n_closest_points will be ignored for UniversalKriging\n"
          ]
        },
        {
          "output_type": "stream",
          "name": "stderr",
          "text": [
            " 72%|███████▏  | 734/1024 [02:19<00:50,  5.73it/s]"
          ]
        },
        {
          "output_type": "stream",
          "name": "stdout",
          "text": [
            "n_closest_points will be ignored for UniversalKriging\n",
            "n_closest_points will be ignored for UniversalKriging\n"
          ]
        },
        {
          "output_type": "stream",
          "name": "stderr",
          "text": [
            " 72%|███████▏  | 736/1024 [02:19<00:50,  5.76it/s]"
          ]
        },
        {
          "output_type": "stream",
          "name": "stdout",
          "text": [
            "n_closest_points will be ignored for UniversalKriging\n",
            "n_closest_points will be ignored for UniversalKriging\n"
          ]
        },
        {
          "output_type": "stream",
          "name": "stderr",
          "text": [
            " 72%|███████▏  | 738/1024 [02:19<00:51,  5.58it/s]"
          ]
        },
        {
          "output_type": "stream",
          "name": "stdout",
          "text": [
            "n_closest_points will be ignored for UniversalKriging\n",
            "n_closest_points will be ignored for UniversalKriging\n"
          ]
        },
        {
          "output_type": "stream",
          "name": "stderr",
          "text": [
            " 72%|███████▏  | 740/1024 [02:20<00:49,  5.77it/s]"
          ]
        },
        {
          "output_type": "stream",
          "name": "stdout",
          "text": [
            "n_closest_points will be ignored for UniversalKriging\n",
            "n_closest_points will be ignored for UniversalKriging\n"
          ]
        },
        {
          "output_type": "stream",
          "name": "stderr",
          "text": [
            " 72%|███████▏  | 742/1024 [02:20<00:49,  5.68it/s]"
          ]
        },
        {
          "output_type": "stream",
          "name": "stdout",
          "text": [
            "n_closest_points will be ignored for UniversalKriging\n",
            "n_closest_points will be ignored for UniversalKriging\n"
          ]
        },
        {
          "output_type": "stream",
          "name": "stderr",
          "text": [
            " 73%|███████▎  | 744/1024 [02:20<00:49,  5.67it/s]"
          ]
        },
        {
          "output_type": "stream",
          "name": "stdout",
          "text": [
            "n_closest_points will be ignored for UniversalKriging\n",
            "n_closest_points will be ignored for UniversalKriging\n"
          ]
        },
        {
          "output_type": "stream",
          "name": "stderr",
          "text": [
            " 73%|███████▎  | 746/1024 [02:21<00:48,  5.79it/s]"
          ]
        },
        {
          "output_type": "stream",
          "name": "stdout",
          "text": [
            "n_closest_points will be ignored for UniversalKriging\n",
            "n_closest_points will be ignored for UniversalKriging\n"
          ]
        },
        {
          "output_type": "stream",
          "name": "stderr",
          "text": [
            " 73%|███████▎  | 748/1024 [02:21<00:48,  5.69it/s]"
          ]
        },
        {
          "output_type": "stream",
          "name": "stdout",
          "text": [
            "n_closest_points will be ignored for UniversalKriging\n",
            "n_closest_points will be ignored for UniversalKriging\n"
          ]
        },
        {
          "output_type": "stream",
          "name": "stderr",
          "text": [
            " 73%|███████▎  | 750/1024 [02:22<00:48,  5.62it/s]"
          ]
        },
        {
          "output_type": "stream",
          "name": "stdout",
          "text": [
            "n_closest_points will be ignored for UniversalKriging\n",
            "n_closest_points will be ignored for UniversalKriging\n"
          ]
        },
        {
          "output_type": "stream",
          "name": "stderr",
          "text": [
            " 73%|███████▎  | 752/1024 [02:22<00:47,  5.74it/s]"
          ]
        },
        {
          "output_type": "stream",
          "name": "stdout",
          "text": [
            "n_closest_points will be ignored for UniversalKriging\n",
            "n_closest_points will be ignored for UniversalKriging\n"
          ]
        },
        {
          "output_type": "stream",
          "name": "stderr",
          "text": [
            " 74%|███████▎  | 754/1024 [02:22<00:46,  5.83it/s]"
          ]
        },
        {
          "output_type": "stream",
          "name": "stdout",
          "text": [
            "n_closest_points will be ignored for UniversalKriging\n",
            "n_closest_points will be ignored for UniversalKriging\n"
          ]
        },
        {
          "output_type": "stream",
          "name": "stderr",
          "text": [
            " 74%|███████▍  | 756/1024 [02:23<00:47,  5.64it/s]"
          ]
        },
        {
          "output_type": "stream",
          "name": "stdout",
          "text": [
            "n_closest_points will be ignored for UniversalKriging\n",
            "n_closest_points will be ignored for UniversalKriging\n"
          ]
        },
        {
          "output_type": "stream",
          "name": "stderr",
          "text": [
            " 74%|███████▍  | 758/1024 [02:23<00:45,  5.87it/s]"
          ]
        },
        {
          "output_type": "stream",
          "name": "stdout",
          "text": [
            "n_closest_points will be ignored for UniversalKriging\n",
            "n_closest_points will be ignored for UniversalKriging\n"
          ]
        },
        {
          "output_type": "stream",
          "name": "stderr",
          "text": [
            " 74%|███████▍  | 760/1024 [02:23<00:45,  5.82it/s]"
          ]
        },
        {
          "output_type": "stream",
          "name": "stdout",
          "text": [
            "n_closest_points will be ignored for UniversalKriging\n",
            "n_closest_points will be ignored for UniversalKriging\n"
          ]
        },
        {
          "output_type": "stream",
          "name": "stderr",
          "text": [
            " 74%|███████▍  | 762/1024 [02:24<00:45,  5.70it/s]"
          ]
        },
        {
          "output_type": "stream",
          "name": "stdout",
          "text": [
            "n_closest_points will be ignored for UniversalKriging\n",
            "n_closest_points will be ignored for UniversalKriging\n"
          ]
        },
        {
          "output_type": "stream",
          "name": "stderr",
          "text": [
            " 75%|███████▍  | 764/1024 [02:24<00:57,  4.49it/s]"
          ]
        },
        {
          "output_type": "stream",
          "name": "stdout",
          "text": [
            "n_closest_points will be ignored for UniversalKriging\n"
          ]
        },
        {
          "output_type": "stream",
          "name": "stderr",
          "text": [
            "\r 75%|███████▍  | 765/1024 [02:24<00:56,  4.56it/s]"
          ]
        },
        {
          "output_type": "stream",
          "name": "stdout",
          "text": [
            "n_closest_points will be ignored for UniversalKriging\n"
          ]
        },
        {
          "output_type": "stream",
          "name": "stderr",
          "text": [
            "\r 75%|███████▍  | 766/1024 [02:25<00:58,  4.41it/s]"
          ]
        },
        {
          "output_type": "stream",
          "name": "stdout",
          "text": [
            "n_closest_points will be ignored for UniversalKriging\n"
          ]
        },
        {
          "output_type": "stream",
          "name": "stderr",
          "text": [
            "\r 75%|███████▍  | 767/1024 [02:25<01:01,  4.16it/s]"
          ]
        },
        {
          "output_type": "stream",
          "name": "stdout",
          "text": [
            "n_closest_points will be ignored for UniversalKriging\n"
          ]
        },
        {
          "output_type": "stream",
          "name": "stderr",
          "text": [
            "\r 75%|███████▌  | 768/1024 [02:25<00:59,  4.27it/s]"
          ]
        },
        {
          "output_type": "stream",
          "name": "stdout",
          "text": [
            "n_closest_points will be ignored for UniversalKriging\n",
            "n_closest_points will be ignored for UniversalKriging\n"
          ]
        },
        {
          "output_type": "stream",
          "name": "stderr",
          "text": [
            " 75%|███████▌  | 770/1024 [02:26<01:12,  3.49it/s]"
          ]
        },
        {
          "output_type": "stream",
          "name": "stdout",
          "text": [
            "n_closest_points will be ignored for UniversalKriging\n"
          ]
        },
        {
          "output_type": "stream",
          "name": "stderr",
          "text": [
            "\r 75%|███████▌  | 771/1024 [02:26<01:08,  3.71it/s]"
          ]
        },
        {
          "output_type": "stream",
          "name": "stdout",
          "text": [
            "n_closest_points will be ignored for UniversalKriging\n"
          ]
        },
        {
          "output_type": "stream",
          "name": "stderr",
          "text": [
            "\r 75%|███████▌  | 772/1024 [02:26<01:14,  3.39it/s]"
          ]
        },
        {
          "output_type": "stream",
          "name": "stdout",
          "text": [
            "n_closest_points will be ignored for UniversalKriging\n"
          ]
        },
        {
          "output_type": "stream",
          "name": "stderr",
          "text": [
            "\r 75%|███████▌  | 773/1024 [02:27<01:07,  3.72it/s]"
          ]
        },
        {
          "output_type": "stream",
          "name": "stdout",
          "text": [
            "n_closest_points will be ignored for UniversalKriging\n",
            "n_closest_points will be ignored for UniversalKriging\n"
          ]
        },
        {
          "output_type": "stream",
          "name": "stderr",
          "text": [
            " 76%|███████▌  | 775/1024 [02:27<01:17,  3.23it/s]"
          ]
        },
        {
          "output_type": "stream",
          "name": "stdout",
          "text": [
            "n_closest_points will be ignored for UniversalKriging\n"
          ]
        },
        {
          "output_type": "stream",
          "name": "stderr",
          "text": [
            "\r 76%|███████▌  | 776/1024 [02:28<01:20,  3.07it/s]"
          ]
        },
        {
          "output_type": "stream",
          "name": "stdout",
          "text": [
            "n_closest_points will be ignored for UniversalKriging\n"
          ]
        },
        {
          "output_type": "stream",
          "name": "stderr",
          "text": [
            "\r 76%|███████▌  | 777/1024 [02:28<01:21,  3.05it/s]"
          ]
        },
        {
          "output_type": "stream",
          "name": "stdout",
          "text": [
            "n_closest_points will be ignored for UniversalKriging\n"
          ]
        },
        {
          "output_type": "stream",
          "name": "stderr",
          "text": [
            "\r 76%|███████▌  | 778/1024 [02:28<01:12,  3.37it/s]"
          ]
        },
        {
          "output_type": "stream",
          "name": "stdout",
          "text": [
            "n_closest_points will be ignored for UniversalKriging\n"
          ]
        },
        {
          "output_type": "stream",
          "name": "stderr",
          "text": [
            "\r 76%|███████▌  | 779/1024 [02:29<01:17,  3.18it/s]"
          ]
        },
        {
          "output_type": "stream",
          "name": "stdout",
          "text": [
            "n_closest_points will be ignored for UniversalKriging\n"
          ]
        },
        {
          "output_type": "stream",
          "name": "stderr",
          "text": [
            "\r 76%|███████▌  | 780/1024 [02:29<01:08,  3.59it/s]"
          ]
        },
        {
          "output_type": "stream",
          "name": "stdout",
          "text": [
            "n_closest_points will be ignored for UniversalKriging\n"
          ]
        },
        {
          "output_type": "stream",
          "name": "stderr",
          "text": [
            "\r 76%|███████▋  | 781/1024 [02:29<01:07,  3.62it/s]"
          ]
        },
        {
          "output_type": "stream",
          "name": "stdout",
          "text": [
            "n_closest_points will be ignored for UniversalKriging\n"
          ]
        },
        {
          "output_type": "stream",
          "name": "stderr",
          "text": [
            "\r 76%|███████▋  | 782/1024 [02:29<01:04,  3.72it/s]"
          ]
        },
        {
          "output_type": "stream",
          "name": "stdout",
          "text": [
            "n_closest_points will be ignored for UniversalKriging\n"
          ]
        },
        {
          "output_type": "stream",
          "name": "stderr",
          "text": [
            "\r 76%|███████▋  | 783/1024 [02:30<01:03,  3.77it/s]"
          ]
        },
        {
          "output_type": "stream",
          "name": "stdout",
          "text": [
            "n_closest_points will be ignored for UniversalKriging\n"
          ]
        },
        {
          "output_type": "stream",
          "name": "stderr",
          "text": [
            "\r 77%|███████▋  | 784/1024 [02:30<00:59,  4.02it/s]"
          ]
        },
        {
          "output_type": "stream",
          "name": "stdout",
          "text": [
            "n_closest_points will be ignored for UniversalKriging\n"
          ]
        },
        {
          "output_type": "stream",
          "name": "stderr",
          "text": [
            "\r 77%|███████▋  | 785/1024 [02:30<00:57,  4.16it/s]"
          ]
        },
        {
          "output_type": "stream",
          "name": "stdout",
          "text": [
            "n_closest_points will be ignored for UniversalKriging\n"
          ]
        },
        {
          "output_type": "stream",
          "name": "stderr",
          "text": [
            "\r 77%|███████▋  | 786/1024 [02:30<00:58,  4.04it/s]"
          ]
        },
        {
          "output_type": "stream",
          "name": "stdout",
          "text": [
            "n_closest_points will be ignored for UniversalKriging\n"
          ]
        },
        {
          "output_type": "stream",
          "name": "stderr",
          "text": [
            "\r 77%|███████▋  | 787/1024 [02:30<00:54,  4.32it/s]"
          ]
        },
        {
          "output_type": "stream",
          "name": "stdout",
          "text": [
            "n_closest_points will be ignored for UniversalKriging\n",
            "n_closest_points will be ignored for UniversalKriging\n"
          ]
        },
        {
          "output_type": "stream",
          "name": "stderr",
          "text": [
            " 77%|███████▋  | 789/1024 [02:31<00:45,  5.16it/s]"
          ]
        },
        {
          "output_type": "stream",
          "name": "stdout",
          "text": [
            "n_closest_points will be ignored for UniversalKriging\n",
            "n_closest_points will be ignored for UniversalKriging\n"
          ]
        },
        {
          "output_type": "stream",
          "name": "stderr",
          "text": [
            " 77%|███████▋  | 791/1024 [02:31<00:44,  5.22it/s]"
          ]
        },
        {
          "output_type": "stream",
          "name": "stdout",
          "text": [
            "n_closest_points will be ignored for UniversalKriging\n",
            "n_closest_points will be ignored for UniversalKriging\n"
          ]
        },
        {
          "output_type": "stream",
          "name": "stderr",
          "text": [
            " 77%|███████▋  | 793/1024 [02:31<00:41,  5.60it/s]"
          ]
        },
        {
          "output_type": "stream",
          "name": "stdout",
          "text": [
            "n_closest_points will be ignored for UniversalKriging\n",
            "n_closest_points will be ignored for UniversalKriging\n"
          ]
        },
        {
          "output_type": "stream",
          "name": "stderr",
          "text": [
            " 78%|███████▊  | 795/1024 [02:32<00:39,  5.80it/s]"
          ]
        },
        {
          "output_type": "stream",
          "name": "stdout",
          "text": [
            "n_closest_points will be ignored for UniversalKriging\n",
            "n_closest_points will be ignored for UniversalKriging\n"
          ]
        },
        {
          "output_type": "stream",
          "name": "stderr",
          "text": [
            " 78%|███████▊  | 797/1024 [02:32<00:39,  5.75it/s]"
          ]
        },
        {
          "output_type": "stream",
          "name": "stdout",
          "text": [
            "n_closest_points will be ignored for UniversalKriging\n",
            "n_closest_points will be ignored for UniversalKriging\n"
          ]
        },
        {
          "output_type": "stream",
          "name": "stderr",
          "text": [
            " 78%|███████▊  | 799/1024 [02:32<00:38,  5.87it/s]"
          ]
        },
        {
          "output_type": "stream",
          "name": "stdout",
          "text": [
            "n_closest_points will be ignored for UniversalKriging\n",
            "n_closest_points will be ignored for UniversalKriging\n"
          ]
        },
        {
          "output_type": "stream",
          "name": "stderr",
          "text": [
            " 78%|███████▊  | 801/1024 [02:33<00:37,  5.94it/s]"
          ]
        },
        {
          "output_type": "stream",
          "name": "stdout",
          "text": [
            "n_closest_points will be ignored for UniversalKriging\n",
            "n_closest_points will be ignored for UniversalKriging\n"
          ]
        },
        {
          "output_type": "stream",
          "name": "stderr",
          "text": [
            " 78%|███████▊  | 803/1024 [02:33<00:38,  5.80it/s]"
          ]
        },
        {
          "output_type": "stream",
          "name": "stdout",
          "text": [
            "n_closest_points will be ignored for UniversalKriging\n",
            "n_closest_points will be ignored for UniversalKriging\n"
          ]
        },
        {
          "output_type": "stream",
          "name": "stderr",
          "text": [
            " 79%|███████▊  | 805/1024 [02:33<00:37,  5.85it/s]"
          ]
        },
        {
          "output_type": "stream",
          "name": "stdout",
          "text": [
            "n_closest_points will be ignored for UniversalKriging\n",
            "n_closest_points will be ignored for UniversalKriging\n"
          ]
        },
        {
          "output_type": "stream",
          "name": "stderr",
          "text": [
            " 79%|███████▉  | 807/1024 [02:34<00:36,  5.94it/s]"
          ]
        },
        {
          "output_type": "stream",
          "name": "stdout",
          "text": [
            "n_closest_points will be ignored for UniversalKriging\n",
            "n_closest_points will be ignored for UniversalKriging\n"
          ]
        },
        {
          "output_type": "stream",
          "name": "stderr",
          "text": [
            " 79%|███████▉  | 809/1024 [02:34<00:37,  5.80it/s]"
          ]
        },
        {
          "output_type": "stream",
          "name": "stdout",
          "text": [
            "n_closest_points will be ignored for UniversalKriging\n",
            "n_closest_points will be ignored for UniversalKriging\n"
          ]
        },
        {
          "output_type": "stream",
          "name": "stderr",
          "text": [
            " 79%|███████▉  | 811/1024 [02:35<00:37,  5.71it/s]"
          ]
        },
        {
          "output_type": "stream",
          "name": "stdout",
          "text": [
            "n_closest_points will be ignored for UniversalKriging\n",
            "n_closest_points will be ignored for UniversalKriging\n"
          ]
        },
        {
          "output_type": "stream",
          "name": "stderr",
          "text": [
            " 79%|███████▉  | 813/1024 [02:35<00:35,  5.93it/s]"
          ]
        },
        {
          "output_type": "stream",
          "name": "stdout",
          "text": [
            "n_closest_points will be ignored for UniversalKriging\n",
            "n_closest_points will be ignored for UniversalKriging\n"
          ]
        },
        {
          "output_type": "stream",
          "name": "stderr",
          "text": [
            " 80%|███████▉  | 815/1024 [02:35<00:35,  5.84it/s]"
          ]
        },
        {
          "output_type": "stream",
          "name": "stdout",
          "text": [
            "n_closest_points will be ignored for UniversalKriging\n",
            "n_closest_points will be ignored for UniversalKriging\n"
          ]
        },
        {
          "output_type": "stream",
          "name": "stderr",
          "text": [
            " 80%|███████▉  | 817/1024 [02:36<00:35,  5.86it/s]"
          ]
        },
        {
          "output_type": "stream",
          "name": "stdout",
          "text": [
            "n_closest_points will be ignored for UniversalKriging\n",
            "n_closest_points will be ignored for UniversalKriging\n"
          ]
        },
        {
          "output_type": "stream",
          "name": "stderr",
          "text": [
            " 80%|███████▉  | 819/1024 [02:36<00:34,  5.93it/s]"
          ]
        },
        {
          "output_type": "stream",
          "name": "stdout",
          "text": [
            "n_closest_points will be ignored for UniversalKriging\n",
            "n_closest_points will be ignored for UniversalKriging\n"
          ]
        },
        {
          "output_type": "stream",
          "name": "stderr",
          "text": [
            " 80%|████████  | 821/1024 [02:36<00:33,  6.01it/s]"
          ]
        },
        {
          "output_type": "stream",
          "name": "stdout",
          "text": [
            "n_closest_points will be ignored for UniversalKriging\n",
            "n_closest_points will be ignored for UniversalKriging\n"
          ]
        },
        {
          "output_type": "stream",
          "name": "stderr",
          "text": [
            " 80%|████████  | 823/1024 [02:37<00:33,  5.96it/s]"
          ]
        },
        {
          "output_type": "stream",
          "name": "stdout",
          "text": [
            "n_closest_points will be ignored for UniversalKriging\n",
            "n_closest_points will be ignored for UniversalKriging\n"
          ]
        },
        {
          "output_type": "stream",
          "name": "stderr",
          "text": [
            " 81%|████████  | 825/1024 [02:37<00:32,  6.07it/s]"
          ]
        },
        {
          "output_type": "stream",
          "name": "stdout",
          "text": [
            "n_closest_points will be ignored for UniversalKriging\n",
            "n_closest_points will be ignored for UniversalKriging\n"
          ]
        },
        {
          "output_type": "stream",
          "name": "stderr",
          "text": [
            " 81%|████████  | 827/1024 [02:37<00:33,  5.81it/s]"
          ]
        },
        {
          "output_type": "stream",
          "name": "stdout",
          "text": [
            "n_closest_points will be ignored for UniversalKriging\n",
            "n_closest_points will be ignored for UniversalKriging\n"
          ]
        },
        {
          "output_type": "stream",
          "name": "stderr",
          "text": [
            " 81%|████████  | 829/1024 [02:38<00:33,  5.81it/s]"
          ]
        },
        {
          "output_type": "stream",
          "name": "stdout",
          "text": [
            "n_closest_points will be ignored for UniversalKriging\n",
            "n_closest_points will be ignored for UniversalKriging\n"
          ]
        },
        {
          "output_type": "stream",
          "name": "stderr",
          "text": [
            " 81%|████████  | 831/1024 [02:38<00:32,  5.94it/s]"
          ]
        },
        {
          "output_type": "stream",
          "name": "stdout",
          "text": [
            "n_closest_points will be ignored for UniversalKriging\n",
            "n_closest_points will be ignored for UniversalKriging\n"
          ]
        },
        {
          "output_type": "stream",
          "name": "stderr",
          "text": [
            " 81%|████████▏ | 833/1024 [02:38<00:32,  5.81it/s]"
          ]
        },
        {
          "output_type": "stream",
          "name": "stdout",
          "text": [
            "n_closest_points will be ignored for UniversalKriging\n",
            "n_closest_points will be ignored for UniversalKriging\n"
          ]
        },
        {
          "output_type": "stream",
          "name": "stderr",
          "text": [
            " 82%|████████▏ | 836/1024 [02:39<00:31,  6.00it/s]"
          ]
        },
        {
          "output_type": "stream",
          "name": "stdout",
          "text": [
            "n_closest_points will be ignored for UniversalKriging\n",
            "n_closest_points will be ignored for UniversalKriging\n"
          ]
        },
        {
          "output_type": "stream",
          "name": "stderr",
          "text": [
            "\r 82%|████████▏ | 837/1024 [02:39<00:31,  5.96it/s]"
          ]
        },
        {
          "output_type": "stream",
          "name": "stdout",
          "text": [
            "n_closest_points will be ignored for UniversalKriging\n",
            "n_closest_points will be ignored for UniversalKriging\n"
          ]
        },
        {
          "output_type": "stream",
          "name": "stderr",
          "text": [
            " 82%|████████▏ | 839/1024 [02:39<00:31,  5.87it/s]"
          ]
        },
        {
          "output_type": "stream",
          "name": "stdout",
          "text": [
            "n_closest_points will be ignored for UniversalKriging\n",
            "n_closest_points will be ignored for UniversalKriging\n"
          ]
        },
        {
          "output_type": "stream",
          "name": "stderr",
          "text": [
            " 82%|████████▏ | 842/1024 [02:40<00:30,  6.00it/s]"
          ]
        },
        {
          "output_type": "stream",
          "name": "stdout",
          "text": [
            "n_closest_points will be ignored for UniversalKriging\n",
            "n_closest_points will be ignored for UniversalKriging\n"
          ]
        },
        {
          "output_type": "stream",
          "name": "stderr",
          "text": [
            "\r 82%|████████▏ | 843/1024 [02:40<00:30,  5.98it/s]"
          ]
        },
        {
          "output_type": "stream",
          "name": "stdout",
          "text": [
            "n_closest_points will be ignored for UniversalKriging\n",
            "n_closest_points will be ignored for UniversalKriging\n"
          ]
        },
        {
          "output_type": "stream",
          "name": "stderr",
          "text": [
            " 83%|████████▎ | 845/1024 [02:40<00:29,  6.00it/s]"
          ]
        },
        {
          "output_type": "stream",
          "name": "stdout",
          "text": [
            "n_closest_points will be ignored for UniversalKriging\n"
          ]
        },
        {
          "output_type": "stream",
          "name": "stderr",
          "text": [
            "\r 83%|████████▎ | 846/1024 [02:41<00:36,  4.89it/s]"
          ]
        },
        {
          "output_type": "stream",
          "name": "stdout",
          "text": [
            "n_closest_points will be ignored for UniversalKriging\n",
            "n_closest_points will be ignored for UniversalKriging\n"
          ]
        },
        {
          "output_type": "stream",
          "name": "stderr",
          "text": [
            " 83%|████████▎ | 848/1024 [02:41<00:49,  3.55it/s]"
          ]
        },
        {
          "output_type": "stream",
          "name": "stdout",
          "text": [
            "n_closest_points will be ignored for UniversalKriging\n"
          ]
        },
        {
          "output_type": "stream",
          "name": "stderr",
          "text": [
            "\r 83%|████████▎ | 849/1024 [02:42<00:50,  3.47it/s]"
          ]
        },
        {
          "output_type": "stream",
          "name": "stdout",
          "text": [
            "n_closest_points will be ignored for UniversalKriging\n"
          ]
        },
        {
          "output_type": "stream",
          "name": "stderr",
          "text": [
            "\r 83%|████████▎ | 850/1024 [02:42<00:45,  3.86it/s]"
          ]
        },
        {
          "output_type": "stream",
          "name": "stdout",
          "text": [
            "n_closest_points will be ignored for UniversalKriging\n"
          ]
        },
        {
          "output_type": "stream",
          "name": "stderr",
          "text": [
            "\r 83%|████████▎ | 851/1024 [02:42<00:43,  3.99it/s]"
          ]
        },
        {
          "output_type": "stream",
          "name": "stdout",
          "text": [
            "n_closest_points will be ignored for UniversalKriging\n"
          ]
        },
        {
          "output_type": "stream",
          "name": "stderr",
          "text": [
            "\r 83%|████████▎ | 852/1024 [02:42<00:41,  4.16it/s]"
          ]
        },
        {
          "output_type": "stream",
          "name": "stdout",
          "text": [
            "n_closest_points will be ignored for UniversalKriging\n"
          ]
        },
        {
          "output_type": "stream",
          "name": "stderr",
          "text": [
            "\r 83%|████████▎ | 853/1024 [02:42<00:40,  4.26it/s]"
          ]
        },
        {
          "output_type": "stream",
          "name": "stdout",
          "text": [
            "n_closest_points will be ignored for UniversalKriging\n"
          ]
        },
        {
          "output_type": "stream",
          "name": "stderr",
          "text": [
            "\r 83%|████████▎ | 854/1024 [02:43<00:38,  4.36it/s]"
          ]
        },
        {
          "output_type": "stream",
          "name": "stdout",
          "text": [
            "n_closest_points will be ignored for UniversalKriging\n"
          ]
        },
        {
          "output_type": "stream",
          "name": "stderr",
          "text": [
            "\r 83%|████████▎ | 855/1024 [02:43<00:38,  4.40it/s]"
          ]
        },
        {
          "output_type": "stream",
          "name": "stdout",
          "text": [
            "n_closest_points will be ignored for UniversalKriging\n"
          ]
        },
        {
          "output_type": "stream",
          "name": "stderr",
          "text": [
            "\r 84%|████████▎ | 856/1024 [02:43<00:38,  4.39it/s]"
          ]
        },
        {
          "output_type": "stream",
          "name": "stdout",
          "text": [
            "n_closest_points will be ignored for UniversalKriging\n",
            "n_closest_points will be ignored for UniversalKriging\n"
          ]
        },
        {
          "output_type": "stream",
          "name": "stderr",
          "text": [
            " 84%|████████▍ | 858/1024 [02:44<00:43,  3.82it/s]"
          ]
        },
        {
          "output_type": "stream",
          "name": "stdout",
          "text": [
            "n_closest_points will be ignored for UniversalKriging\n"
          ]
        },
        {
          "output_type": "stream",
          "name": "stderr",
          "text": [
            "\r 84%|████████▍ | 859/1024 [02:44<00:46,  3.53it/s]"
          ]
        },
        {
          "output_type": "stream",
          "name": "stdout",
          "text": [
            "n_closest_points will be ignored for UniversalKriging\n"
          ]
        },
        {
          "output_type": "stream",
          "name": "stderr",
          "text": [
            "\r 84%|████████▍ | 860/1024 [02:44<00:48,  3.36it/s]"
          ]
        },
        {
          "output_type": "stream",
          "name": "stdout",
          "text": [
            "n_closest_points will be ignored for UniversalKriging\n"
          ]
        },
        {
          "output_type": "stream",
          "name": "stderr",
          "text": [
            "\r 84%|████████▍ | 861/1024 [02:45<00:49,  3.29it/s]"
          ]
        },
        {
          "output_type": "stream",
          "name": "stdout",
          "text": [
            "n_closest_points will be ignored for UniversalKriging\n"
          ]
        },
        {
          "output_type": "stream",
          "name": "stderr",
          "text": [
            "\r 84%|████████▍ | 862/1024 [02:45<00:44,  3.62it/s]"
          ]
        },
        {
          "output_type": "stream",
          "name": "stdout",
          "text": [
            "n_closest_points will be ignored for UniversalKriging\n",
            "n_closest_points will be ignored for UniversalKriging\n"
          ]
        },
        {
          "output_type": "stream",
          "name": "stderr",
          "text": [
            " 84%|████████▍ | 864/1024 [02:45<00:42,  3.78it/s]"
          ]
        },
        {
          "output_type": "stream",
          "name": "stdout",
          "text": [
            "n_closest_points will be ignored for UniversalKriging\n"
          ]
        },
        {
          "output_type": "stream",
          "name": "stderr",
          "text": [
            "\r 84%|████████▍ | 865/1024 [02:46<00:39,  4.04it/s]"
          ]
        },
        {
          "output_type": "stream",
          "name": "stdout",
          "text": [
            "n_closest_points will be ignored for UniversalKriging\n"
          ]
        },
        {
          "output_type": "stream",
          "name": "stderr",
          "text": [
            "\r 85%|████████▍ | 866/1024 [02:46<00:40,  3.91it/s]"
          ]
        },
        {
          "output_type": "stream",
          "name": "stdout",
          "text": [
            "n_closest_points will be ignored for UniversalKriging\n"
          ]
        },
        {
          "output_type": "stream",
          "name": "stderr",
          "text": [
            "\r 85%|████████▍ | 867/1024 [02:46<00:38,  4.04it/s]"
          ]
        },
        {
          "output_type": "stream",
          "name": "stdout",
          "text": [
            "n_closest_points will be ignored for UniversalKriging\n",
            "n_closest_points will be ignored for UniversalKriging\n"
          ]
        },
        {
          "output_type": "stream",
          "name": "stderr",
          "text": [
            " 85%|████████▍ | 869/1024 [02:47<00:34,  4.53it/s]"
          ]
        },
        {
          "output_type": "stream",
          "name": "stdout",
          "text": [
            "n_closest_points will be ignored for UniversalKriging\n"
          ]
        },
        {
          "output_type": "stream",
          "name": "stderr",
          "text": [
            "\r 85%|████████▍ | 870/1024 [02:47<00:37,  4.09it/s]"
          ]
        },
        {
          "output_type": "stream",
          "name": "stdout",
          "text": [
            "n_closest_points will be ignored for UniversalKriging\n"
          ]
        },
        {
          "output_type": "stream",
          "name": "stderr",
          "text": [
            "\r 85%|████████▌ | 871/1024 [02:47<00:36,  4.25it/s]"
          ]
        },
        {
          "output_type": "stream",
          "name": "stdout",
          "text": [
            "n_closest_points will be ignored for UniversalKriging\n",
            "n_closest_points will be ignored for UniversalKriging\n"
          ]
        },
        {
          "output_type": "stream",
          "name": "stderr",
          "text": [
            " 85%|████████▌ | 874/1024 [02:48<00:30,  4.94it/s]"
          ]
        },
        {
          "output_type": "stream",
          "name": "stdout",
          "text": [
            "n_closest_points will be ignored for UniversalKriging\n",
            "n_closest_points will be ignored for UniversalKriging\n"
          ]
        },
        {
          "output_type": "stream",
          "name": "stderr",
          "text": [
            "\r 85%|████████▌ | 875/1024 [02:48<00:28,  5.21it/s]"
          ]
        },
        {
          "output_type": "stream",
          "name": "stdout",
          "text": [
            "n_closest_points will be ignored for UniversalKriging\n",
            "n_closest_points will be ignored for UniversalKriging\n"
          ]
        },
        {
          "output_type": "stream",
          "name": "stderr",
          "text": [
            " 86%|████████▌ | 878/1024 [02:48<00:24,  5.98it/s]"
          ]
        },
        {
          "output_type": "stream",
          "name": "stdout",
          "text": [
            "n_closest_points will be ignored for UniversalKriging\n",
            "n_closest_points will be ignored for UniversalKriging\n"
          ]
        },
        {
          "output_type": "stream",
          "name": "stderr",
          "text": [
            " 86%|████████▌ | 880/1024 [02:49<00:22,  6.28it/s]"
          ]
        },
        {
          "output_type": "stream",
          "name": "stdout",
          "text": [
            "n_closest_points will be ignored for UniversalKriging\n",
            "n_closest_points will be ignored for UniversalKriging\n"
          ]
        },
        {
          "output_type": "stream",
          "name": "stderr",
          "text": [
            "\r 86%|████████▌ | 881/1024 [02:49<00:22,  6.39it/s]"
          ]
        },
        {
          "output_type": "stream",
          "name": "stdout",
          "text": [
            "n_closest_points will be ignored for UniversalKriging\n",
            "n_closest_points will be ignored for UniversalKriging\n"
          ]
        },
        {
          "output_type": "stream",
          "name": "stderr",
          "text": [
            " 86%|████████▋ | 884/1024 [02:49<00:22,  6.25it/s]"
          ]
        },
        {
          "output_type": "stream",
          "name": "stdout",
          "text": [
            "n_closest_points will be ignored for UniversalKriging\n",
            "n_closest_points will be ignored for UniversalKriging\n"
          ]
        },
        {
          "output_type": "stream",
          "name": "stderr",
          "text": [
            " 87%|████████▋ | 886/1024 [02:50<00:21,  6.30it/s]"
          ]
        },
        {
          "output_type": "stream",
          "name": "stdout",
          "text": [
            "n_closest_points will be ignored for UniversalKriging\n",
            "n_closest_points will be ignored for UniversalKriging\n"
          ]
        },
        {
          "output_type": "stream",
          "name": "stderr",
          "text": [
            " 87%|████████▋ | 888/1024 [02:50<00:21,  6.41it/s]"
          ]
        },
        {
          "output_type": "stream",
          "name": "stdout",
          "text": [
            "n_closest_points will be ignored for UniversalKriging\n",
            "n_closest_points will be ignored for UniversalKriging\n"
          ]
        },
        {
          "output_type": "stream",
          "name": "stderr",
          "text": [
            " 87%|████████▋ | 890/1024 [02:50<00:21,  6.16it/s]"
          ]
        },
        {
          "output_type": "stream",
          "name": "stdout",
          "text": [
            "n_closest_points will be ignored for UniversalKriging\n",
            "n_closest_points will be ignored for UniversalKriging\n"
          ]
        },
        {
          "output_type": "stream",
          "name": "stderr",
          "text": [
            " 87%|████████▋ | 892/1024 [02:51<00:20,  6.38it/s]"
          ]
        },
        {
          "output_type": "stream",
          "name": "stdout",
          "text": [
            "n_closest_points will be ignored for UniversalKriging\n",
            "n_closest_points will be ignored for UniversalKriging\n"
          ]
        },
        {
          "output_type": "stream",
          "name": "stderr",
          "text": [
            " 87%|████████▋ | 894/1024 [02:51<00:20,  6.50it/s]"
          ]
        },
        {
          "output_type": "stream",
          "name": "stdout",
          "text": [
            "n_closest_points will be ignored for UniversalKriging\n",
            "n_closest_points will be ignored for UniversalKriging\n"
          ]
        },
        {
          "output_type": "stream",
          "name": "stderr",
          "text": [
            "\r 87%|████████▋ | 895/1024 [02:51<00:20,  6.19it/s]"
          ]
        },
        {
          "output_type": "stream",
          "name": "stdout",
          "text": [
            "n_closest_points will be ignored for UniversalKriging\n",
            "n_closest_points will be ignored for UniversalKriging\n"
          ]
        },
        {
          "output_type": "stream",
          "name": "stderr",
          "text": [
            " 88%|████████▊ | 898/1024 [02:51<00:19,  6.52it/s]"
          ]
        },
        {
          "output_type": "stream",
          "name": "stdout",
          "text": [
            "n_closest_points will be ignored for UniversalKriging\n",
            "n_closest_points will be ignored for UniversalKriging\n"
          ]
        },
        {
          "output_type": "stream",
          "name": "stderr",
          "text": [
            " 88%|████████▊ | 900/1024 [02:52<00:18,  6.78it/s]"
          ]
        },
        {
          "output_type": "stream",
          "name": "stdout",
          "text": [
            "n_closest_points will be ignored for UniversalKriging\n",
            "n_closest_points will be ignored for UniversalKriging\n"
          ]
        },
        {
          "output_type": "stream",
          "name": "stderr",
          "text": [
            "\r 88%|████████▊ | 901/1024 [02:52<00:18,  6.60it/s]"
          ]
        },
        {
          "output_type": "stream",
          "name": "stdout",
          "text": [
            "n_closest_points will be ignored for UniversalKriging\n",
            "n_closest_points will be ignored for UniversalKriging\n"
          ]
        },
        {
          "output_type": "stream",
          "name": "stderr",
          "text": [
            " 88%|████████▊ | 904/1024 [02:52<00:18,  6.63it/s]"
          ]
        },
        {
          "output_type": "stream",
          "name": "stdout",
          "text": [
            "n_closest_points will be ignored for UniversalKriging\n",
            "n_closest_points will be ignored for UniversalKriging\n"
          ]
        },
        {
          "output_type": "stream",
          "name": "stderr",
          "text": [
            " 88%|████████▊ | 906/1024 [02:53<00:16,  6.96it/s]"
          ]
        },
        {
          "output_type": "stream",
          "name": "stdout",
          "text": [
            "n_closest_points will be ignored for UniversalKriging\n",
            "n_closest_points will be ignored for UniversalKriging\n"
          ]
        },
        {
          "output_type": "stream",
          "name": "stderr",
          "text": [
            " 89%|████████▊ | 908/1024 [02:53<00:16,  6.99it/s]"
          ]
        },
        {
          "output_type": "stream",
          "name": "stdout",
          "text": [
            "n_closest_points will be ignored for UniversalKriging\n",
            "n_closest_points will be ignored for UniversalKriging\n"
          ]
        },
        {
          "output_type": "stream",
          "name": "stderr",
          "text": [
            " 89%|████████▉ | 910/1024 [02:53<00:16,  6.77it/s]"
          ]
        },
        {
          "output_type": "stream",
          "name": "stdout",
          "text": [
            "n_closest_points will be ignored for UniversalKriging\n",
            "n_closest_points will be ignored for UniversalKriging\n"
          ]
        },
        {
          "output_type": "stream",
          "name": "stderr",
          "text": [
            " 89%|████████▉ | 912/1024 [02:54<00:16,  6.91it/s]"
          ]
        },
        {
          "output_type": "stream",
          "name": "stdout",
          "text": [
            "n_closest_points will be ignored for UniversalKriging\n",
            "n_closest_points will be ignored for UniversalKriging\n"
          ]
        },
        {
          "output_type": "stream",
          "name": "stderr",
          "text": [
            " 89%|████████▉ | 914/1024 [02:54<00:15,  7.13it/s]"
          ]
        },
        {
          "output_type": "stream",
          "name": "stdout",
          "text": [
            "n_closest_points will be ignored for UniversalKriging\n",
            "n_closest_points will be ignored for UniversalKriging\n"
          ]
        },
        {
          "output_type": "stream",
          "name": "stderr",
          "text": [
            " 89%|████████▉ | 916/1024 [02:54<00:14,  7.21it/s]"
          ]
        },
        {
          "output_type": "stream",
          "name": "stdout",
          "text": [
            "n_closest_points will be ignored for UniversalKriging\n",
            "n_closest_points will be ignored for UniversalKriging\n"
          ]
        },
        {
          "output_type": "stream",
          "name": "stderr",
          "text": [
            " 90%|████████▉ | 918/1024 [02:54<00:14,  7.51it/s]"
          ]
        },
        {
          "output_type": "stream",
          "name": "stdout",
          "text": [
            "n_closest_points will be ignored for UniversalKriging\n",
            "n_closest_points will be ignored for UniversalKriging\n"
          ]
        },
        {
          "output_type": "stream",
          "name": "stderr",
          "text": [
            " 90%|████████▉ | 920/1024 [02:55<00:13,  7.90it/s]"
          ]
        },
        {
          "output_type": "stream",
          "name": "stdout",
          "text": [
            "n_closest_points will be ignored for UniversalKriging\n",
            "n_closest_points will be ignored for UniversalKriging\n"
          ]
        },
        {
          "output_type": "stream",
          "name": "stderr",
          "text": [
            " 90%|█████████ | 922/1024 [02:55<00:12,  8.36it/s]"
          ]
        },
        {
          "output_type": "stream",
          "name": "stdout",
          "text": [
            "n_closest_points will be ignored for UniversalKriging\n",
            "n_closest_points will be ignored for UniversalKriging\n"
          ]
        },
        {
          "output_type": "stream",
          "name": "stderr",
          "text": [
            " 90%|█████████ | 924/1024 [02:55<00:12,  8.31it/s]"
          ]
        },
        {
          "output_type": "stream",
          "name": "stdout",
          "text": [
            "n_closest_points will be ignored for UniversalKriging\n",
            "n_closest_points will be ignored for UniversalKriging\n"
          ]
        },
        {
          "output_type": "stream",
          "name": "stderr",
          "text": [
            " 90%|█████████ | 926/1024 [02:55<00:11,  8.48it/s]"
          ]
        },
        {
          "output_type": "stream",
          "name": "stdout",
          "text": [
            "n_closest_points will be ignored for UniversalKriging\n",
            "n_closest_points will be ignored for UniversalKriging\n"
          ]
        },
        {
          "output_type": "stream",
          "name": "stderr",
          "text": [
            " 91%|█████████ | 928/1024 [02:56<00:11,  8.49it/s]"
          ]
        },
        {
          "output_type": "stream",
          "name": "stdout",
          "text": [
            "n_closest_points will be ignored for UniversalKriging\n",
            "n_closest_points will be ignored for UniversalKriging\n"
          ]
        },
        {
          "output_type": "stream",
          "name": "stderr",
          "text": [
            " 91%|█████████ | 930/1024 [02:56<00:11,  8.51it/s]"
          ]
        },
        {
          "output_type": "stream",
          "name": "stdout",
          "text": [
            "n_closest_points will be ignored for UniversalKriging\n",
            "n_closest_points will be ignored for UniversalKriging\n"
          ]
        },
        {
          "output_type": "stream",
          "name": "stderr",
          "text": [
            " 91%|█████████ | 932/1024 [02:56<00:10,  8.36it/s]"
          ]
        },
        {
          "output_type": "stream",
          "name": "stdout",
          "text": [
            "n_closest_points will be ignored for UniversalKriging\n",
            "n_closest_points will be ignored for UniversalKriging\n"
          ]
        },
        {
          "output_type": "stream",
          "name": "stderr",
          "text": [
            " 91%|█████████ | 934/1024 [02:56<00:11,  7.84it/s]"
          ]
        },
        {
          "output_type": "stream",
          "name": "stdout",
          "text": [
            "n_closest_points will be ignored for UniversalKriging\n",
            "n_closest_points will be ignored for UniversalKriging\n"
          ]
        },
        {
          "output_type": "stream",
          "name": "stderr",
          "text": [
            " 91%|█████████▏| 936/1024 [02:57<00:10,  8.01it/s]"
          ]
        },
        {
          "output_type": "stream",
          "name": "stdout",
          "text": [
            "n_closest_points will be ignored for UniversalKriging\n",
            "n_closest_points will be ignored for UniversalKriging\n"
          ]
        },
        {
          "output_type": "stream",
          "name": "stderr",
          "text": [
            " 92%|█████████▏| 938/1024 [02:57<00:10,  8.45it/s]"
          ]
        },
        {
          "output_type": "stream",
          "name": "stdout",
          "text": [
            "n_closest_points will be ignored for UniversalKriging\n",
            "n_closest_points will be ignored for UniversalKriging\n"
          ]
        },
        {
          "output_type": "stream",
          "name": "stderr",
          "text": [
            " 92%|█████████▏| 940/1024 [02:57<00:09,  8.76it/s]"
          ]
        },
        {
          "output_type": "stream",
          "name": "stdout",
          "text": [
            "n_closest_points will be ignored for UniversalKriging\n",
            "n_closest_points will be ignored for UniversalKriging\n"
          ]
        },
        {
          "output_type": "stream",
          "name": "stderr",
          "text": [
            " 92%|█████████▏| 942/1024 [02:57<00:09,  8.38it/s]"
          ]
        },
        {
          "output_type": "stream",
          "name": "stdout",
          "text": [
            "n_closest_points will be ignored for UniversalKriging\n",
            "n_closest_points will be ignored for UniversalKriging\n"
          ]
        },
        {
          "output_type": "stream",
          "name": "stderr",
          "text": [
            " 92%|█████████▏| 944/1024 [02:58<00:10,  7.55it/s]"
          ]
        },
        {
          "output_type": "stream",
          "name": "stdout",
          "text": [
            "n_closest_points will be ignored for UniversalKriging\n",
            "n_closest_points will be ignored for UniversalKriging\n"
          ]
        },
        {
          "output_type": "stream",
          "name": "stderr",
          "text": [
            "\r 92%|█████████▏| 945/1024 [02:58<00:11,  7.16it/s]"
          ]
        },
        {
          "output_type": "stream",
          "name": "stdout",
          "text": [
            "n_closest_points will be ignored for UniversalKriging\n",
            "n_closest_points will be ignored for UniversalKriging\n"
          ]
        },
        {
          "output_type": "stream",
          "name": "stderr",
          "text": [
            " 92%|█████████▏| 947/1024 [02:58<00:13,  5.83it/s]"
          ]
        },
        {
          "output_type": "stream",
          "name": "stdout",
          "text": [
            "n_closest_points will be ignored for UniversalKriging\n",
            "n_closest_points will be ignored for UniversalKriging\n"
          ]
        },
        {
          "output_type": "stream",
          "name": "stderr",
          "text": [
            " 93%|█████████▎| 949/1024 [02:59<00:15,  4.76it/s]"
          ]
        },
        {
          "output_type": "stream",
          "name": "stdout",
          "text": [
            "n_closest_points will be ignored for UniversalKriging\n"
          ]
        },
        {
          "output_type": "stream",
          "name": "stderr",
          "text": [
            "\r 93%|█████████▎| 950/1024 [02:59<00:16,  4.49it/s]"
          ]
        },
        {
          "output_type": "stream",
          "name": "stdout",
          "text": [
            "n_closest_points will be ignored for UniversalKriging\n"
          ]
        },
        {
          "output_type": "stream",
          "name": "stderr",
          "text": [
            "\r 93%|█████████▎| 951/1024 [02:59<00:14,  4.94it/s]"
          ]
        },
        {
          "output_type": "stream",
          "name": "stdout",
          "text": [
            "n_closest_points will be ignored for UniversalKriging\n",
            "n_closest_points will be ignored for UniversalKriging\n"
          ]
        },
        {
          "output_type": "stream",
          "name": "stderr",
          "text": [
            " 93%|█████████▎| 953/1024 [02:59<00:15,  4.52it/s]"
          ]
        },
        {
          "output_type": "stream",
          "name": "stdout",
          "text": [
            "n_closest_points will be ignored for UniversalKriging\n"
          ]
        },
        {
          "output_type": "stream",
          "name": "stderr",
          "text": [
            "\r 93%|█████████▎| 954/1024 [03:00<00:15,  4.48it/s]"
          ]
        },
        {
          "output_type": "stream",
          "name": "stdout",
          "text": [
            "n_closest_points will be ignored for UniversalKriging\n"
          ]
        },
        {
          "output_type": "stream",
          "name": "stderr",
          "text": [
            "\r 93%|█████████▎| 955/1024 [03:00<00:14,  4.87it/s]"
          ]
        },
        {
          "output_type": "stream",
          "name": "stdout",
          "text": [
            "n_closest_points will be ignored for UniversalKriging\n",
            "n_closest_points will be ignored for UniversalKriging\n"
          ]
        },
        {
          "output_type": "stream",
          "name": "stderr",
          "text": [
            " 93%|█████████▎| 957/1024 [03:00<00:14,  4.50it/s]"
          ]
        },
        {
          "output_type": "stream",
          "name": "stdout",
          "text": [
            "n_closest_points will be ignored for UniversalKriging\n"
          ]
        },
        {
          "output_type": "stream",
          "name": "stderr",
          "text": [
            "\r 94%|█████████▎| 958/1024 [03:01<00:15,  4.20it/s]"
          ]
        },
        {
          "output_type": "stream",
          "name": "stdout",
          "text": [
            "n_closest_points will be ignored for UniversalKriging\n"
          ]
        },
        {
          "output_type": "stream",
          "name": "stderr",
          "text": [
            "\r 94%|█████████▎| 959/1024 [03:01<00:13,  4.76it/s]"
          ]
        },
        {
          "output_type": "stream",
          "name": "stdout",
          "text": [
            "n_closest_points will be ignored for UniversalKriging\n",
            "n_closest_points will be ignored for UniversalKriging\n"
          ]
        },
        {
          "output_type": "stream",
          "name": "stderr",
          "text": [
            " 94%|█████████▍| 961/1024 [03:01<00:12,  5.01it/s]"
          ]
        },
        {
          "output_type": "stream",
          "name": "stdout",
          "text": [
            "n_closest_points will be ignored for UniversalKriging\n",
            "n_closest_points will be ignored for UniversalKriging\n"
          ]
        },
        {
          "output_type": "stream",
          "name": "stderr",
          "text": [
            " 94%|█████████▍| 963/1024 [03:02<00:12,  4.89it/s]"
          ]
        },
        {
          "output_type": "stream",
          "name": "stdout",
          "text": [
            "n_closest_points will be ignored for UniversalKriging\n",
            "n_closest_points will be ignored for UniversalKriging\n"
          ]
        },
        {
          "output_type": "stream",
          "name": "stderr",
          "text": [
            " 94%|█████████▍| 966/1024 [03:02<00:09,  6.41it/s]"
          ]
        },
        {
          "output_type": "stream",
          "name": "stdout",
          "text": [
            "n_closest_points will be ignored for UniversalKriging\n",
            "n_closest_points will be ignored for UniversalKriging\n"
          ]
        },
        {
          "output_type": "stream",
          "name": "stderr",
          "text": [
            " 95%|█████████▍| 968/1024 [03:02<00:07,  7.04it/s]"
          ]
        },
        {
          "output_type": "stream",
          "name": "stdout",
          "text": [
            "n_closest_points will be ignored for UniversalKriging\n",
            "n_closest_points will be ignored for UniversalKriging\n"
          ]
        },
        {
          "output_type": "stream",
          "name": "stderr",
          "text": [
            " 95%|█████████▍| 970/1024 [03:02<00:07,  7.20it/s]"
          ]
        },
        {
          "output_type": "stream",
          "name": "stdout",
          "text": [
            "n_closest_points will be ignored for UniversalKriging\n",
            "n_closest_points will be ignored for UniversalKriging\n"
          ]
        },
        {
          "output_type": "stream",
          "name": "stderr",
          "text": [
            " 95%|█████████▍| 972/1024 [03:03<00:07,  7.17it/s]"
          ]
        },
        {
          "output_type": "stream",
          "name": "stdout",
          "text": [
            "n_closest_points will be ignored for UniversalKriging\n",
            "n_closest_points will be ignored for UniversalKriging\n"
          ]
        },
        {
          "output_type": "stream",
          "name": "stderr",
          "text": [
            " 95%|█████████▌| 974/1024 [03:03<00:06,  7.83it/s]"
          ]
        },
        {
          "output_type": "stream",
          "name": "stdout",
          "text": [
            "n_closest_points will be ignored for UniversalKriging\n",
            "n_closest_points will be ignored for UniversalKriging\n"
          ]
        },
        {
          "output_type": "stream",
          "name": "stderr",
          "text": [
            " 95%|█████████▌| 976/1024 [03:03<00:06,  7.29it/s]"
          ]
        },
        {
          "output_type": "stream",
          "name": "stdout",
          "text": [
            "n_closest_points will be ignored for UniversalKriging\n",
            "n_closest_points will be ignored for UniversalKriging\n"
          ]
        },
        {
          "output_type": "stream",
          "name": "stderr",
          "text": [
            "\r 95%|█████████▌| 977/1024 [03:03<00:06,  7.18it/s]"
          ]
        },
        {
          "output_type": "stream",
          "name": "stdout",
          "text": [
            "n_closest_points will be ignored for UniversalKriging\n",
            "n_closest_points will be ignored for UniversalKriging\n"
          ]
        },
        {
          "output_type": "stream",
          "name": "stderr",
          "text": [
            " 96%|█████████▌| 979/1024 [03:04<00:09,  4.98it/s]"
          ]
        },
        {
          "output_type": "stream",
          "name": "stdout",
          "text": [
            "n_closest_points will be ignored for UniversalKriging\n"
          ]
        },
        {
          "output_type": "stream",
          "name": "stderr",
          "text": [
            " 96%|█████████▌| 981/1024 [03:04<00:07,  5.64it/s]"
          ]
        },
        {
          "output_type": "stream",
          "name": "stdout",
          "text": [
            "n_closest_points will be ignored for UniversalKriging\n",
            "n_closest_points will be ignored for UniversalKriging\n"
          ]
        },
        {
          "output_type": "stream",
          "name": "stderr",
          "text": [
            " 96%|█████████▌| 983/1024 [03:05<00:06,  6.31it/s]"
          ]
        },
        {
          "output_type": "stream",
          "name": "stdout",
          "text": [
            "n_closest_points will be ignored for UniversalKriging\n",
            "n_closest_points will be ignored for UniversalKriging\n"
          ]
        },
        {
          "output_type": "stream",
          "name": "stderr",
          "text": [
            " 96%|█████████▋| 986/1024 [03:05<00:04,  8.28it/s]"
          ]
        },
        {
          "output_type": "stream",
          "name": "stdout",
          "text": [
            "n_closest_points will be ignored for UniversalKriging\n",
            "n_closest_points will be ignored for UniversalKriging\n",
            "n_closest_points will be ignored for UniversalKriging\n"
          ]
        },
        {
          "output_type": "stream",
          "name": "stderr",
          "text": [
            "\r 96%|█████████▋| 988/1024 [03:05<00:03,  9.46it/s]"
          ]
        },
        {
          "output_type": "stream",
          "name": "stdout",
          "text": [
            "n_closest_points will be ignored for UniversalKriging\n",
            "n_closest_points will be ignored for UniversalKriging\n",
            "n_closest_points will be ignored for UniversalKriging\n"
          ]
        },
        {
          "output_type": "stream",
          "name": "stderr",
          "text": [
            " 97%|█████████▋| 992/1024 [03:05<00:03, 10.55it/s]"
          ]
        },
        {
          "output_type": "stream",
          "name": "stdout",
          "text": [
            "n_closest_points will be ignored for UniversalKriging\n",
            "n_closest_points will be ignored for UniversalKriging\n",
            "n_closest_points will be ignored for UniversalKriging\n"
          ]
        },
        {
          "output_type": "stream",
          "name": "stderr",
          "text": [
            "\r 97%|█████████▋| 994/1024 [03:06<00:02, 10.53it/s]"
          ]
        },
        {
          "output_type": "stream",
          "name": "stdout",
          "text": [
            "n_closest_points will be ignored for UniversalKriging\n",
            "n_closest_points will be ignored for UniversalKriging\n",
            "n_closest_points will be ignored for UniversalKriging\n"
          ]
        },
        {
          "output_type": "stream",
          "name": "stderr",
          "text": [
            "\r 97%|█████████▋| 996/1024 [03:06<00:02, 10.64it/s]"
          ]
        },
        {
          "output_type": "stream",
          "name": "stdout",
          "text": [
            "n_closest_points will be ignored for UniversalKriging\n",
            "n_closest_points will be ignored for UniversalKriging\n"
          ]
        },
        {
          "output_type": "stream",
          "name": "stderr",
          "text": [
            "\r 97%|█████████▋| 998/1024 [03:06<00:02, 10.06it/s]"
          ]
        },
        {
          "output_type": "stream",
          "name": "stdout",
          "text": [
            "n_closest_points will be ignored for UniversalKriging\n",
            "n_closest_points will be ignored for UniversalKriging\n",
            "n_closest_points will be ignored for UniversalKriging\n"
          ]
        },
        {
          "output_type": "stream",
          "name": "stderr",
          "text": [
            " 98%|█████████▊| 1002/1024 [03:06<00:02, 10.54it/s]"
          ]
        },
        {
          "output_type": "stream",
          "name": "stdout",
          "text": [
            "n_closest_points will be ignored for UniversalKriging\n",
            "n_closest_points will be ignored for UniversalKriging\n",
            "n_closest_points will be ignored for UniversalKriging\n"
          ]
        },
        {
          "output_type": "stream",
          "name": "stderr",
          "text": [
            " 98%|█████████▊| 1006/1024 [03:07<00:01, 10.90it/s]"
          ]
        },
        {
          "output_type": "stream",
          "name": "stdout",
          "text": [
            "n_closest_points will be ignored for UniversalKriging\n",
            "n_closest_points will be ignored for UniversalKriging\n",
            "n_closest_points will be ignored for UniversalKriging\n"
          ]
        },
        {
          "output_type": "stream",
          "name": "stderr",
          "text": [
            "\r 98%|█████████▊| 1008/1024 [03:07<00:01, 10.88it/s]"
          ]
        },
        {
          "output_type": "stream",
          "name": "stdout",
          "text": [
            "n_closest_points will be ignored for UniversalKriging\n",
            "n_closest_points will be ignored for UniversalKriging\n",
            "n_closest_points will be ignored for UniversalKriging\n"
          ]
        },
        {
          "output_type": "stream",
          "name": "stderr",
          "text": [
            " 99%|█████████▉| 1012/1024 [03:07<00:01, 11.58it/s]"
          ]
        },
        {
          "output_type": "stream",
          "name": "stdout",
          "text": [
            "n_closest_points will be ignored for UniversalKriging\n",
            "n_closest_points will be ignored for UniversalKriging\n",
            "n_closest_points will be ignored for UniversalKriging\n"
          ]
        },
        {
          "output_type": "stream",
          "name": "stderr",
          "text": [
            "\r 99%|█████████▉| 1014/1024 [03:07<00:00, 11.93it/s]"
          ]
        },
        {
          "output_type": "stream",
          "name": "stdout",
          "text": [
            "n_closest_points will be ignored for UniversalKriging\n",
            "n_closest_points will be ignored for UniversalKriging\n",
            "n_closest_points will be ignored for UniversalKriging\n"
          ]
        },
        {
          "output_type": "stream",
          "name": "stderr",
          "text": [
            " 99%|█████████▉| 1018/1024 [03:08<00:00, 12.52it/s]"
          ]
        },
        {
          "output_type": "stream",
          "name": "stdout",
          "text": [
            "n_closest_points will be ignored for UniversalKriging\n",
            "n_closest_points will be ignored for UniversalKriging\n",
            "n_closest_points will be ignored for UniversalKriging\n"
          ]
        },
        {
          "output_type": "stream",
          "name": "stderr",
          "text": [
            "\r100%|█████████▉| 1020/1024 [03:08<00:00, 12.91it/s]"
          ]
        },
        {
          "output_type": "stream",
          "name": "stdout",
          "text": [
            "n_closest_points will be ignored for UniversalKriging\n",
            "n_closest_points will be ignored for UniversalKriging\n",
            "n_closest_points will be ignored for UniversalKriging\n"
          ]
        },
        {
          "output_type": "stream",
          "name": "stderr",
          "text": [
            "100%|██████████| 1024/1024 [03:08<00:00,  5.43it/s]"
          ]
        },
        {
          "output_type": "stream",
          "name": "stdout",
          "text": [
            "n_closest_points will be ignored for UniversalKriging\n",
            "n_closest_points will be ignored for UniversalKriging\n"
          ]
        },
        {
          "output_type": "stream",
          "name": "stderr",
          "text": [
            "\n"
          ]
        }
      ]
    },
    {
      "cell_type": "code",
      "source": [
        "display_brazil(0)"
      ],
      "metadata": {
        "id": "voBCet247ils"
      },
      "execution_count": null,
      "outputs": []
    },
    {
      "cell_type": "code",
      "source": [
        "display_amazon(0)"
      ],
      "metadata": {
        "id": "NKCNrp5-zLtt"
      },
      "execution_count": null,
      "outputs": []
    },
    {
      "cell_type": "code",
      "source": [
        "EVAL_ONLY = True\n",
        "res = tvim.train_variational_inference_model(params, eval_params, fileset, ISOSCAPE_SAVE_LOCATION, MODEL_SAVE_LOCATION, eval_only=EVAL_ONLY)"
      ],
      "metadata": {
        "colab": {
          "base_uri": "https://localhost:8080/"
        },
        "id": "cKKDXFiRkVeE",
        "outputId": "93d66846-12c1-4110-eb4c-4e128bf61a83"
      },
      "execution_count": 52,
      "outputs": [
        {
          "output_type": "stream",
          "name": "stdout",
          "text": [
            "Driver: GTiff/GeoTIFF\n",
            "Size is 1024 x 1024 x 2\n",
            "Projection is GEOGCS[\"WGS 84\",DATUM[\"WGS_1984\",SPHEROID[\"WGS 84\",6378137,298.257223563,AUTHORITY[\"EPSG\",\"7030\"]],AUTHORITY[\"EPSG\",\"6326\"]],PRIMEM[\"Greenwich\",0,AUTHORITY[\"EPSG\",\"8901\"]],UNIT[\"degree\",0.0174532925199433,AUTHORITY[\"EPSG\",\"9122\"]],AXIS[\"Latitude\",NORTH],AXIS[\"Longitude\",EAST],AUTHORITY[\"EPSG\",\"4326\"]]\n",
            "Origin = (-74.0000000000241, 5.29166666665704)\n",
            "Pixel Size = (0.03828938802082461, -0.03812662760417103)\n",
            "Driver: GTiff/GeoTIFF\n",
            "Size is 1024 x 1024 x 2\n",
            "Projection is GEOGCS[\"WGS 84\",DATUM[\"WGS_1984\",SPHEROID[\"WGS 84\",6378137,298.257223563,AUTHORITY[\"EPSG\",\"7030\"]],AUTHORITY[\"EPSG\",\"6326\"]],PRIMEM[\"Greenwich\",0,AUTHORITY[\"EPSG\",\"8901\"]],UNIT[\"degree\",0.0174532925199433,AUTHORITY[\"EPSG\",\"9122\"]],AXIS[\"Latitude\",NORTH],AXIS[\"Longitude\",EAST],AUTHORITY[\"EPSG\",\"4326\"]]\n",
            "Origin = (-74.0000000000241, 5.29166666665704)\n",
            "Pixel Size = (0.03828938802082461, -0.03812662760417103)\n"
          ]
        }
      ]
    },
    {
      "cell_type": "markdown",
      "source": [
        "## MCMC?"
      ],
      "metadata": {
        "id": "Uc1bcklcBD8K"
      }
    },
    {
      "cell_type": "code",
      "source": [
        "import pymc3 as pm\n"
      ],
      "metadata": {
        "id": "U26XYUFBjXf0"
      },
      "execution_count": null,
      "outputs": []
    },
    {
      "cell_type": "code",
      "source": [
        "from pymc3 import pm"
      ],
      "metadata": {
        "id": "81oF5hXwkjcc",
        "outputId": "70fe2660-e45c-48d1-848f-2e4e3d74fe97",
        "colab": {
          "base_uri": "https://localhost:8080/",
          "height": 315
        }
      },
      "execution_count": null,
      "outputs": [
        {
          "output_type": "error",
          "ename": "ImportError",
          "evalue": "cannot import name 'pm' from 'pymc3' (unknown location)",
          "traceback": [
            "\u001b[0;31m---------------------------------------------------------------------------\u001b[0m",
            "\u001b[0;31mImportError\u001b[0m                               Traceback (most recent call last)",
            "\u001b[0;32m<ipython-input-19-2466c0b43957>\u001b[0m in \u001b[0;36m<cell line: 1>\u001b[0;34m()\u001b[0m\n\u001b[0;32m----> 1\u001b[0;31m \u001b[0;32mfrom\u001b[0m \u001b[0mpymc3\u001b[0m \u001b[0;32mimport\u001b[0m \u001b[0mpm\u001b[0m\u001b[0;34m\u001b[0m\u001b[0;34m\u001b[0m\u001b[0m\n\u001b[0m",
            "\u001b[0;31mImportError\u001b[0m: cannot import name 'pm' from 'pymc3' (unknown location)",
            "",
            "\u001b[0;31m---------------------------------------------------------------------------\u001b[0;32m\nNOTE: If your import is failing due to a missing package, you can\nmanually install dependencies using either !pip or !apt.\n\nTo view examples of installing some common dependencies, click the\n\"Open Examples\" button below.\n\u001b[0;31m---------------------------------------------------------------------------\u001b[0m\n"
          ],
          "errorDetails": {
            "actions": [
              {
                "action": "open_url",
                "actionText": "Open Examples",
                "url": "/notebooks/snippets/importing_libraries.ipynb"
              }
            ]
          }
        }
      ]
    },
    {
      "cell_type": "code",
      "source": [
        "help(pm)"
      ],
      "metadata": {
        "id": "6dKhiXhqknq7",
        "outputId": "f65c9b08-8b50-4a36-b32e-2969c5ab438e",
        "colab": {
          "base_uri": "https://localhost:8080/"
        }
      },
      "execution_count": null,
      "outputs": [
        {
          "output_type": "stream",
          "name": "stdout",
          "text": [
            "Help on package pymc3:\n",
            "\n",
            "NAME\n",
            "    pymc3\n",
            "\n",
            "PACKAGE CONTENTS\n",
            "    pymc (package)\n",
            "    setup\n",
            "    setupegg\n",
            "    tests (package)\n",
            "\n",
            "FILE\n",
            "    (built-in)\n",
            "\n",
            "\n"
          ]
        }
      ]
    },
    {
      "cell_type": "code",
      "source": [
        "import pm"
      ],
      "metadata": {
        "id": "_YQkHQ4UkY6_"
      },
      "execution_count": null,
      "outputs": []
    },
    {
      "cell_type": "code",
      "source": [
        "help(pm.pymc)"
      ],
      "metadata": {
        "id": "QwxEIJQhkdo-",
        "outputId": "9b6345b7-1589-40f3-f3e0-c93223bad24e",
        "colab": {
          "base_uri": "https://localhost:8080/",
          "height": 141
        }
      },
      "execution_count": null,
      "outputs": [
        {
          "output_type": "error",
          "ename": "AttributeError",
          "evalue": "module 'pymc3' has no attribute 'pymc'",
          "traceback": [
            "\u001b[0;31m---------------------------------------------------------------------------\u001b[0m",
            "\u001b[0;31mAttributeError\u001b[0m                            Traceback (most recent call last)",
            "\u001b[0;32m<ipython-input-18-8937eb44d669>\u001b[0m in \u001b[0;36m<cell line: 1>\u001b[0;34m()\u001b[0m\n\u001b[0;32m----> 1\u001b[0;31m \u001b[0mhelp\u001b[0m\u001b[0;34m(\u001b[0m\u001b[0mpm\u001b[0m\u001b[0;34m.\u001b[0m\u001b[0mpymc\u001b[0m\u001b[0;34m)\u001b[0m\u001b[0;34m\u001b[0m\u001b[0;34m\u001b[0m\u001b[0m\n\u001b[0m",
            "\u001b[0;31mAttributeError\u001b[0m: module 'pymc3' has no attribute 'pymc'"
          ]
        }
      ]
    },
    {
      "cell_type": "code",
      "source": [
        "pm."
      ],
      "metadata": {
        "id": "k2LGfhydkgBH",
        "outputId": "3770be44-6b1e-46fc-d04c-ce3a86affdc0",
        "colab": {
          "base_uri": "https://localhost:8080/",
          "height": 141
        }
      },
      "execution_count": null,
      "outputs": [
        {
          "output_type": "error",
          "ename": "AttributeError",
          "evalue": "module 'pymc3' has no attribute 'pymc'",
          "traceback": [
            "\u001b[0;31m---------------------------------------------------------------------------\u001b[0m",
            "\u001b[0;31mAttributeError\u001b[0m                            Traceback (most recent call last)",
            "\u001b[0;32m<ipython-input-17-d3f8d1e4573c>\u001b[0m in \u001b[0;36m<cell line: 1>\u001b[0;34m()\u001b[0m\n\u001b[0;32m----> 1\u001b[0;31m \u001b[0mpm\u001b[0m\u001b[0;34m.\u001b[0m\u001b[0mpymc\u001b[0m\u001b[0;34m\u001b[0m\u001b[0;34m\u001b[0m\u001b[0m\n\u001b[0m",
            "\u001b[0;31mAttributeError\u001b[0m: module 'pymc3' has no attribute 'pymc'"
          ]
        }
      ]
    },
    {
      "cell_type": "code",
      "source": [
        "dir(pm)"
      ],
      "metadata": {
        "id": "Xlo3WSpTkVcw",
        "outputId": "bf828932-664c-4657-fa7a-81fcb3fc073a",
        "colab": {
          "base_uri": "https://localhost:8080/"
        }
      },
      "execution_count": null,
      "outputs": [
        {
          "output_type": "execute_result",
          "data": {
            "text/plain": [
              "['__doc__',\n",
              " '__file__',\n",
              " '__loader__',\n",
              " '__name__',\n",
              " '__package__',\n",
              " '__path__',\n",
              " '__spec__']"
            ]
          },
          "metadata": {},
          "execution_count": 15
        }
      ]
    },
    {
      "cell_type": "code",
      "source": [
        "help(pm.distributions.Discrete)"
      ],
      "metadata": {
        "id": "NSzd3snGjR1i",
        "outputId": "65e95b59-4769-4bcf-ba27-98441c878d1b",
        "colab": {
          "base_uri": "https://localhost:8080/",
          "height": 141
        }
      },
      "execution_count": null,
      "outputs": [
        {
          "output_type": "error",
          "ename": "AttributeError",
          "evalue": "module 'pymc3' has no attribute 'distributions'",
          "traceback": [
            "\u001b[0;31m---------------------------------------------------------------------------\u001b[0m",
            "\u001b[0;31mAttributeError\u001b[0m                            Traceback (most recent call last)",
            "\u001b[0;32m<ipython-input-14-8bd8555df5e1>\u001b[0m in \u001b[0;36m<cell line: 1>\u001b[0;34m()\u001b[0m\n\u001b[0;32m----> 1\u001b[0;31m \u001b[0mhelp\u001b[0m\u001b[0;34m(\u001b[0m\u001b[0mpm\u001b[0m\u001b[0;34m.\u001b[0m\u001b[0mdistributions\u001b[0m\u001b[0;34m.\u001b[0m\u001b[0mDiscrete\u001b[0m\u001b[0;34m)\u001b[0m\u001b[0;34m\u001b[0m\u001b[0;34m\u001b[0m\u001b[0m\n\u001b[0m",
            "\u001b[0;31mAttributeError\u001b[0m: module 'pymc3' has no attribute 'distributions'"
          ]
        }
      ]
    },
    {
      "cell_type": "code",
      "source": [
        "# https://towardsdatascience.com/markov-chain-monte-carlo-in-python-44f7e609be98"
      ],
      "metadata": {
        "id": "9j2yoHLdBFe4"
      },
      "execution_count": null,
      "outputs": []
    },
    {
      "cell_type": "code",
      "source": [
        "import pymc3 as pm\n",
        "\n",
        "with pm.Model() as model:\n",
        "\n",
        "\n",
        "\n",
        "  step = pm.Metropolis()\n",
        "\n",
        "  model_trace = pm.sample(100, step=step, njobs=2)\n"
      ],
      "metadata": {
        "id": "a_Vt-OWyCCKp"
      },
      "execution_count": null,
      "outputs": []
    },
    {
      "cell_type": "markdown",
      "source": [
        "# Variational Inference + DNN"
      ],
      "metadata": {
        "id": "bBQJaWTyoyWN"
      }
    },
    {
      "cell_type": "code",
      "source": [
        "# Convenience links:\n",
        "# Paper: https://braintex.goog/project/6509cbf324c22900a893d018\n",
        "# Experiment list: https://docs.google.com/spreadsheets/d/1QUGvdUkkYCnflTytaYelMsbzGjhvR0U_HBkRdDUdeGM/edit?gid=1787854098#gid=1787854098\n",
        "#"
      ],
      "metadata": {
        "id": "ZxLaNWzJ6rk7"
      },
      "execution_count": null,
      "outputs": []
    },
    {
      "cell_type": "code",
      "source": [
        "import tensorflow as tf"
      ],
      "metadata": {
        "id": "S9eJdZLG9eHu"
      },
      "execution_count": 53,
      "outputs": []
    },
    {
      "cell_type": "code",
      "source": [
        "tf.keras.utils.set_random_seed(18731)\n"
      ],
      "metadata": {
        "id": "aqaogqRQ9dOx"
      },
      "execution_count": 54,
      "outputs": []
    },
    {
      "cell_type": "code",
      "source": [
        "params = tvim.VIModelTrainingParams(\n",
        "    training_id = \"2025-01-31-vinn-1\", #@param\n",
        "    num_epochs = 5000, #@param\n",
        "    num_layers = 2, #@param\n",
        "    num_nodes_per_layer = 20, #@param\n",
        "    training_batch_size = 5, #@param\n",
        "    learning_rate = 0.0001, #@param\n",
        "    mean_label = \"d18O_cel_mean\", #@param\n",
        "    var_label = \"d18O_cel_variance\", #@param\n",
        "    early_stopping_patience = 100, #@param\n",
        "    double_sided_kl = False, #@param\n",
        "    kl_num_samples_from_pred_dist = 15, #@param\n",
        "    dropout_rate = 0, #@param\n",
        "    activation_func = \"relu\", #@param\n",
        "    features_to_standardize = ['lat', 'long', 'VPD', 'RH', 'PET', 'DEM', 'PA', 'Mean Annual Temperature', 'Mean Annual Precipitation', 'Iso_Oxi_Stack_mean_TERZER', 'isoscape_fullmodel_d18O_prec_REGRESSION', 'brisoscape_mean_ISORIX', 'd13C_cel_mean', 'd13C_cel_var', 'ordinary_kriging_linear_d18O_predicted_mean', 'ordinary_kriging_linear_d18O_predicted_variance'], #@param\n",
        "    features_to_passthrough = [], #@param\n",
        "    resolution_x = 1024, #@param\n",
        "    resolution_y = 1024, #@param\n",
        "    tags = [\"author:npr\", \"ViNN\", \"rev2\"], #@param\n",
        "    foo = \"bar\",\n",
        "    n_cv_folds=None\n",
        ")\n",
        "\n",
        "eval_params = tvim.VIModelEvalParams(\n",
        "    samples_per_location = 5, #@param\n",
        "    precision_target = 0.95, #@param\n",
        "    recall_target = None, #@param\n",
        "    start_max_fraud_radius= 6, #@param\n",
        "    end_max_fraud_radius = 3000, #@param\n",
        "    radius_pace = 100, #@param\n",
        "    trusted_buffer_radius = 5, #@param\n",
        "    elements_to_eval = ['d18O_cel'], #@param\n",
        ")\n",
        "\n",
        "MODEL_SAVE_LOCATION = os.path.join(raster.GDRIVE_BASE, raster.MODEL_BASE.lstrip('/'), params.training_id + \".keras\")\n",
        "ISOSCAPE_SAVE_LOCATION = raster.get_raster_path(params.training_id+\".tiff\")"
      ],
      "metadata": {
        "id": "NP-WH-3Hl69m"
      },
      "execution_count": 55,
      "outputs": []
    },
    {
      "cell_type": "markdown",
      "source": [
        "# Train the model"
      ],
      "metadata": {
        "id": "N-BDywhWsSYu"
      }
    },
    {
      "cell_type": "code",
      "source": [
        "EVAL_ONLY = False #@param{type:'boolean'}\n",
        "res = tvim.train_variational_inference_model(params, eval_params, fileset, ISOSCAPE_SAVE_LOCATION, MODEL_SAVE_LOCATION, eval_only=EVAL_ONLY)"
      ],
      "metadata": {
        "id": "c3z-7XQVsRg0",
        "colab": {
          "base_uri": "https://localhost:8080/",
          "height": 1000
        },
        "outputId": "229bd090-3ad8-40c7-fa60-d28b6d1d200a"
      },
      "execution_count": 56,
      "outputs": [
        {
          "output_type": "stream",
          "name": "stdout",
          "text": [
            "==================\n",
            "2025-01-31-vinn-1\n"
          ]
        },
        {
          "output_type": "display_data",
          "data": {
            "text/plain": [
              "\u001b[1mModel: \"functional\"\u001b[0m\n"
            ],
            "text/html": [
              "<pre style=\"white-space:pre;overflow-x:auto;line-height:normal;font-family:Menlo,'DejaVu Sans Mono',consolas,'Courier New',monospace\"><span style=\"font-weight: bold\">Model: \"functional\"</span>\n",
              "</pre>\n"
            ]
          },
          "metadata": {}
        },
        {
          "output_type": "display_data",
          "data": {
            "text/plain": [
              "┏━━━━━━━━━━━━━━━━━━━━━━━━━━━┳━━━━━━━━━━━━━━━━━━━━━━━━┳━━━━━━━━━━━━━━━━┳━━━━━━━━━━━━━━━━━━━━━━━━┓\n",
              "┃\u001b[1m \u001b[0m\u001b[1mLayer (type)             \u001b[0m\u001b[1m \u001b[0m┃\u001b[1m \u001b[0m\u001b[1mOutput Shape          \u001b[0m\u001b[1m \u001b[0m┃\u001b[1m \u001b[0m\u001b[1m       Param #\u001b[0m\u001b[1m \u001b[0m┃\u001b[1m \u001b[0m\u001b[1mConnected to          \u001b[0m\u001b[1m \u001b[0m┃\n",
              "┡━━━━━━━━━━━━━━━━━━━━━━━━━━━╇━━━━━━━━━━━━━━━━━━━━━━━━╇━━━━━━━━━━━━━━━━╇━━━━━━━━━━━━━━━━━━━━━━━━┩\n",
              "│ input_layer (\u001b[38;5;33mInputLayer\u001b[0m)  │ (\u001b[38;5;45mNone\u001b[0m, \u001b[38;5;34m16\u001b[0m)             │              \u001b[38;5;34m0\u001b[0m │ -                      │\n",
              "├───────────────────────────┼────────────────────────┼────────────────┼────────────────────────┤\n",
              "│ dense (\u001b[38;5;33mDense\u001b[0m)             │ (\u001b[38;5;45mNone\u001b[0m, \u001b[38;5;34m20\u001b[0m)             │            \u001b[38;5;34m340\u001b[0m │ input_layer[\u001b[38;5;34m0\u001b[0m][\u001b[38;5;34m0\u001b[0m]      │\n",
              "├───────────────────────────┼────────────────────────┼────────────────┼────────────────────────┤\n",
              "│ dense_1 (\u001b[38;5;33mDense\u001b[0m)           │ (\u001b[38;5;45mNone\u001b[0m, \u001b[38;5;34m20\u001b[0m)             │            \u001b[38;5;34m420\u001b[0m │ dense[\u001b[38;5;34m0\u001b[0m][\u001b[38;5;34m0\u001b[0m]            │\n",
              "├───────────────────────────┼────────────────────────┼────────────────┼────────────────────────┤\n",
              "│ var_output (\u001b[38;5;33mDense\u001b[0m)        │ (\u001b[38;5;45mNone\u001b[0m, \u001b[38;5;34m1\u001b[0m)              │             \u001b[38;5;34m21\u001b[0m │ dense_1[\u001b[38;5;34m0\u001b[0m][\u001b[38;5;34m0\u001b[0m]          │\n",
              "├───────────────────────────┼────────────────────────┼────────────────┼────────────────────────┤\n",
              "│ mean_output (\u001b[38;5;33mDense\u001b[0m)       │ (\u001b[38;5;45mNone\u001b[0m, \u001b[38;5;34m1\u001b[0m)              │             \u001b[38;5;34m21\u001b[0m │ dense_1[\u001b[38;5;34m0\u001b[0m][\u001b[38;5;34m0\u001b[0m]          │\n",
              "├───────────────────────────┼────────────────────────┼────────────────┼────────────────────────┤\n",
              "│ multiply_1 (\u001b[38;5;33mMultiply\u001b[0m)     │ (\u001b[38;5;45mNone\u001b[0m, \u001b[38;5;34m1\u001b[0m)              │              \u001b[38;5;34m0\u001b[0m │ var_output[\u001b[38;5;34m0\u001b[0m][\u001b[38;5;34m0\u001b[0m]       │\n",
              "├───────────────────────────┼────────────────────────┼────────────────┼────────────────────────┤\n",
              "│ multiply (\u001b[38;5;33mMultiply\u001b[0m)       │ (\u001b[38;5;45mNone\u001b[0m, \u001b[38;5;34m1\u001b[0m)              │              \u001b[38;5;34m0\u001b[0m │ mean_output[\u001b[38;5;34m0\u001b[0m][\u001b[38;5;34m0\u001b[0m]      │\n",
              "├───────────────────────────┼────────────────────────┼────────────────┼────────────────────────┤\n",
              "│ add_1 (\u001b[38;5;33mAdd\u001b[0m)               │ (\u001b[38;5;45mNone\u001b[0m, \u001b[38;5;34m1\u001b[0m)              │              \u001b[38;5;34m0\u001b[0m │ multiply_1[\u001b[38;5;34m0\u001b[0m][\u001b[38;5;34m0\u001b[0m]       │\n",
              "├───────────────────────────┼────────────────────────┼────────────────┼────────────────────────┤\n",
              "│ add (\u001b[38;5;33mAdd\u001b[0m)                 │ (\u001b[38;5;45mNone\u001b[0m, \u001b[38;5;34m1\u001b[0m)              │              \u001b[38;5;34m0\u001b[0m │ multiply[\u001b[38;5;34m0\u001b[0m][\u001b[38;5;34m0\u001b[0m]         │\n",
              "├───────────────────────────┼────────────────────────┼────────────────┼────────────────────────┤\n",
              "│ cast (\u001b[38;5;33mCast\u001b[0m)               │ (\u001b[38;5;45mNone\u001b[0m, \u001b[38;5;34m1\u001b[0m)              │              \u001b[38;5;34m0\u001b[0m │ add_1[\u001b[38;5;34m0\u001b[0m][\u001b[38;5;34m0\u001b[0m]            │\n",
              "├───────────────────────────┼────────────────────────┼────────────────┼────────────────────────┤\n",
              "│ cast_1 (\u001b[38;5;33mCast\u001b[0m)             │ (\u001b[38;5;45mNone\u001b[0m, \u001b[38;5;34m1\u001b[0m)              │              \u001b[38;5;34m0\u001b[0m │ add[\u001b[38;5;34m0\u001b[0m][\u001b[38;5;34m0\u001b[0m]              │\n",
              "├───────────────────────────┼────────────────────────┼────────────────┼────────────────────────┤\n",
              "│ softplus_layer            │ (\u001b[38;5;45mNone\u001b[0m, \u001b[38;5;34m1\u001b[0m)              │              \u001b[38;5;34m0\u001b[0m │ cast[\u001b[38;5;34m0\u001b[0m][\u001b[38;5;34m0\u001b[0m]             │\n",
              "│ (\u001b[38;5;33mSoftplusLayer\u001b[0m)           │                        │                │                        │\n",
              "├───────────────────────────┼────────────────────────┼────────────────┼────────────────────────┤\n",
              "│ concatenate (\u001b[38;5;33mConcatenate\u001b[0m) │ (\u001b[38;5;45mNone\u001b[0m, \u001b[38;5;34m2\u001b[0m)              │              \u001b[38;5;34m0\u001b[0m │ cast_1[\u001b[38;5;34m0\u001b[0m][\u001b[38;5;34m0\u001b[0m],          │\n",
              "│                           │                        │                │ softplus_layer[\u001b[38;5;34m0\u001b[0m][\u001b[38;5;34m0\u001b[0m]   │\n",
              "└───────────────────────────┴────────────────────────┴────────────────┴────────────────────────┘\n"
            ],
            "text/html": [
              "<pre style=\"white-space:pre;overflow-x:auto;line-height:normal;font-family:Menlo,'DejaVu Sans Mono',consolas,'Courier New',monospace\">┏━━━━━━━━━━━━━━━━━━━━━━━━━━━┳━━━━━━━━━━━━━━━━━━━━━━━━┳━━━━━━━━━━━━━━━━┳━━━━━━━━━━━━━━━━━━━━━━━━┓\n",
              "┃<span style=\"font-weight: bold\"> Layer (type)              </span>┃<span style=\"font-weight: bold\"> Output Shape           </span>┃<span style=\"font-weight: bold\">        Param # </span>┃<span style=\"font-weight: bold\"> Connected to           </span>┃\n",
              "┡━━━━━━━━━━━━━━━━━━━━━━━━━━━╇━━━━━━━━━━━━━━━━━━━━━━━━╇━━━━━━━━━━━━━━━━╇━━━━━━━━━━━━━━━━━━━━━━━━┩\n",
              "│ input_layer (<span style=\"color: #0087ff; text-decoration-color: #0087ff\">InputLayer</span>)  │ (<span style=\"color: #00d7ff; text-decoration-color: #00d7ff\">None</span>, <span style=\"color: #00af00; text-decoration-color: #00af00\">16</span>)             │              <span style=\"color: #00af00; text-decoration-color: #00af00\">0</span> │ -                      │\n",
              "├───────────────────────────┼────────────────────────┼────────────────┼────────────────────────┤\n",
              "│ dense (<span style=\"color: #0087ff; text-decoration-color: #0087ff\">Dense</span>)             │ (<span style=\"color: #00d7ff; text-decoration-color: #00d7ff\">None</span>, <span style=\"color: #00af00; text-decoration-color: #00af00\">20</span>)             │            <span style=\"color: #00af00; text-decoration-color: #00af00\">340</span> │ input_layer[<span style=\"color: #00af00; text-decoration-color: #00af00\">0</span>][<span style=\"color: #00af00; text-decoration-color: #00af00\">0</span>]      │\n",
              "├───────────────────────────┼────────────────────────┼────────────────┼────────────────────────┤\n",
              "│ dense_1 (<span style=\"color: #0087ff; text-decoration-color: #0087ff\">Dense</span>)           │ (<span style=\"color: #00d7ff; text-decoration-color: #00d7ff\">None</span>, <span style=\"color: #00af00; text-decoration-color: #00af00\">20</span>)             │            <span style=\"color: #00af00; text-decoration-color: #00af00\">420</span> │ dense[<span style=\"color: #00af00; text-decoration-color: #00af00\">0</span>][<span style=\"color: #00af00; text-decoration-color: #00af00\">0</span>]            │\n",
              "├───────────────────────────┼────────────────────────┼────────────────┼────────────────────────┤\n",
              "│ var_output (<span style=\"color: #0087ff; text-decoration-color: #0087ff\">Dense</span>)        │ (<span style=\"color: #00d7ff; text-decoration-color: #00d7ff\">None</span>, <span style=\"color: #00af00; text-decoration-color: #00af00\">1</span>)              │             <span style=\"color: #00af00; text-decoration-color: #00af00\">21</span> │ dense_1[<span style=\"color: #00af00; text-decoration-color: #00af00\">0</span>][<span style=\"color: #00af00; text-decoration-color: #00af00\">0</span>]          │\n",
              "├───────────────────────────┼────────────────────────┼────────────────┼────────────────────────┤\n",
              "│ mean_output (<span style=\"color: #0087ff; text-decoration-color: #0087ff\">Dense</span>)       │ (<span style=\"color: #00d7ff; text-decoration-color: #00d7ff\">None</span>, <span style=\"color: #00af00; text-decoration-color: #00af00\">1</span>)              │             <span style=\"color: #00af00; text-decoration-color: #00af00\">21</span> │ dense_1[<span style=\"color: #00af00; text-decoration-color: #00af00\">0</span>][<span style=\"color: #00af00; text-decoration-color: #00af00\">0</span>]          │\n",
              "├───────────────────────────┼────────────────────────┼────────────────┼────────────────────────┤\n",
              "│ multiply_1 (<span style=\"color: #0087ff; text-decoration-color: #0087ff\">Multiply</span>)     │ (<span style=\"color: #00d7ff; text-decoration-color: #00d7ff\">None</span>, <span style=\"color: #00af00; text-decoration-color: #00af00\">1</span>)              │              <span style=\"color: #00af00; text-decoration-color: #00af00\">0</span> │ var_output[<span style=\"color: #00af00; text-decoration-color: #00af00\">0</span>][<span style=\"color: #00af00; text-decoration-color: #00af00\">0</span>]       │\n",
              "├───────────────────────────┼────────────────────────┼────────────────┼────────────────────────┤\n",
              "│ multiply (<span style=\"color: #0087ff; text-decoration-color: #0087ff\">Multiply</span>)       │ (<span style=\"color: #00d7ff; text-decoration-color: #00d7ff\">None</span>, <span style=\"color: #00af00; text-decoration-color: #00af00\">1</span>)              │              <span style=\"color: #00af00; text-decoration-color: #00af00\">0</span> │ mean_output[<span style=\"color: #00af00; text-decoration-color: #00af00\">0</span>][<span style=\"color: #00af00; text-decoration-color: #00af00\">0</span>]      │\n",
              "├───────────────────────────┼────────────────────────┼────────────────┼────────────────────────┤\n",
              "│ add_1 (<span style=\"color: #0087ff; text-decoration-color: #0087ff\">Add</span>)               │ (<span style=\"color: #00d7ff; text-decoration-color: #00d7ff\">None</span>, <span style=\"color: #00af00; text-decoration-color: #00af00\">1</span>)              │              <span style=\"color: #00af00; text-decoration-color: #00af00\">0</span> │ multiply_1[<span style=\"color: #00af00; text-decoration-color: #00af00\">0</span>][<span style=\"color: #00af00; text-decoration-color: #00af00\">0</span>]       │\n",
              "├───────────────────────────┼────────────────────────┼────────────────┼────────────────────────┤\n",
              "│ add (<span style=\"color: #0087ff; text-decoration-color: #0087ff\">Add</span>)                 │ (<span style=\"color: #00d7ff; text-decoration-color: #00d7ff\">None</span>, <span style=\"color: #00af00; text-decoration-color: #00af00\">1</span>)              │              <span style=\"color: #00af00; text-decoration-color: #00af00\">0</span> │ multiply[<span style=\"color: #00af00; text-decoration-color: #00af00\">0</span>][<span style=\"color: #00af00; text-decoration-color: #00af00\">0</span>]         │\n",
              "├───────────────────────────┼────────────────────────┼────────────────┼────────────────────────┤\n",
              "│ cast (<span style=\"color: #0087ff; text-decoration-color: #0087ff\">Cast</span>)               │ (<span style=\"color: #00d7ff; text-decoration-color: #00d7ff\">None</span>, <span style=\"color: #00af00; text-decoration-color: #00af00\">1</span>)              │              <span style=\"color: #00af00; text-decoration-color: #00af00\">0</span> │ add_1[<span style=\"color: #00af00; text-decoration-color: #00af00\">0</span>][<span style=\"color: #00af00; text-decoration-color: #00af00\">0</span>]            │\n",
              "├───────────────────────────┼────────────────────────┼────────────────┼────────────────────────┤\n",
              "│ cast_1 (<span style=\"color: #0087ff; text-decoration-color: #0087ff\">Cast</span>)             │ (<span style=\"color: #00d7ff; text-decoration-color: #00d7ff\">None</span>, <span style=\"color: #00af00; text-decoration-color: #00af00\">1</span>)              │              <span style=\"color: #00af00; text-decoration-color: #00af00\">0</span> │ add[<span style=\"color: #00af00; text-decoration-color: #00af00\">0</span>][<span style=\"color: #00af00; text-decoration-color: #00af00\">0</span>]              │\n",
              "├───────────────────────────┼────────────────────────┼────────────────┼────────────────────────┤\n",
              "│ softplus_layer            │ (<span style=\"color: #00d7ff; text-decoration-color: #00d7ff\">None</span>, <span style=\"color: #00af00; text-decoration-color: #00af00\">1</span>)              │              <span style=\"color: #00af00; text-decoration-color: #00af00\">0</span> │ cast[<span style=\"color: #00af00; text-decoration-color: #00af00\">0</span>][<span style=\"color: #00af00; text-decoration-color: #00af00\">0</span>]             │\n",
              "│ (<span style=\"color: #0087ff; text-decoration-color: #0087ff\">SoftplusLayer</span>)           │                        │                │                        │\n",
              "├───────────────────────────┼────────────────────────┼────────────────┼────────────────────────┤\n",
              "│ concatenate (<span style=\"color: #0087ff; text-decoration-color: #0087ff\">Concatenate</span>) │ (<span style=\"color: #00d7ff; text-decoration-color: #00d7ff\">None</span>, <span style=\"color: #00af00; text-decoration-color: #00af00\">2</span>)              │              <span style=\"color: #00af00; text-decoration-color: #00af00\">0</span> │ cast_1[<span style=\"color: #00af00; text-decoration-color: #00af00\">0</span>][<span style=\"color: #00af00; text-decoration-color: #00af00\">0</span>],          │\n",
              "│                           │                        │                │ softplus_layer[<span style=\"color: #00af00; text-decoration-color: #00af00\">0</span>][<span style=\"color: #00af00; text-decoration-color: #00af00\">0</span>]   │\n",
              "└───────────────────────────┴────────────────────────┴────────────────┴────────────────────────┘\n",
              "</pre>\n"
            ]
          },
          "metadata": {}
        },
        {
          "output_type": "display_data",
          "data": {
            "text/plain": [
              "\u001b[1m Total params: \u001b[0m\u001b[38;5;34m802\u001b[0m (3.13 KB)\n"
            ],
            "text/html": [
              "<pre style=\"white-space:pre;overflow-x:auto;line-height:normal;font-family:Menlo,'DejaVu Sans Mono',consolas,'Courier New',monospace\"><span style=\"font-weight: bold\"> Total params: </span><span style=\"color: #00af00; text-decoration-color: #00af00\">802</span> (3.13 KB)\n",
              "</pre>\n"
            ]
          },
          "metadata": {}
        },
        {
          "output_type": "display_data",
          "data": {
            "text/plain": [
              "\u001b[1m Trainable params: \u001b[0m\u001b[38;5;34m802\u001b[0m (3.13 KB)\n"
            ],
            "text/html": [
              "<pre style=\"white-space:pre;overflow-x:auto;line-height:normal;font-family:Menlo,'DejaVu Sans Mono',consolas,'Courier New',monospace\"><span style=\"font-weight: bold\"> Trainable params: </span><span style=\"color: #00af00; text-decoration-color: #00af00\">802</span> (3.13 KB)\n",
              "</pre>\n"
            ]
          },
          "metadata": {}
        },
        {
          "output_type": "display_data",
          "data": {
            "text/plain": [
              "\u001b[1m Non-trainable params: \u001b[0m\u001b[38;5;34m0\u001b[0m (0.00 B)\n"
            ],
            "text/html": [
              "<pre style=\"white-space:pre;overflow-x:auto;line-height:normal;font-family:Menlo,'DejaVu Sans Mono',consolas,'Courier New',monospace\"><span style=\"font-weight: bold\"> Non-trainable params: </span><span style=\"color: #00af00; text-decoration-color: #00af00\">0</span> (0.00 B)\n",
              "</pre>\n"
            ]
          },
          "metadata": {}
        },
        {
          "output_type": "stream",
          "name": "stderr",
          "text": [
            "/usr/local/lib/python3.11/dist-packages/keras/src/saving/saving_lib.py:757: UserWarning: Skipping variable loading for optimizer 'adam', because it has 18 variables whereas the saved optimizer has 2 variables. \n",
            "  saveable.load_own_variables(weights_store.get(inner_path))\n"
          ]
        },
        {
          "output_type": "stream",
          "name": "stdout",
          "text": [
            "Epoch 594: early stopping\n",
            "Restoring model weights from the end of the best epoch: 494.\n"
          ]
        },
        {
          "output_type": "stream",
          "name": "stderr",
          "text": [
            "/tmp/ddf_common/model.py:352: UserWarning: Attempt to set non-positive ylim on a log-scaled axis will be ignored.\n",
            "  plt.ylim((0, 10))\n"
          ]
        },
        {
          "output_type": "display_data",
          "data": {
            "text/plain": [
              "<Figure size 640x480 with 1 Axes>"
            ],
            "image/png": "[encoded data removed]"
          },
          "metadata": {}
        },
        {
          "output_type": "stream",
          "name": "stdout",
          "text": [
            "Val loss: 0.6268068552017212\n",
            "Train loss: 0.7766131162643433\n",
            "Test loss: 1.140204906463623\n",
            "dO18 RMSE: 1.078082790002462\n"
          ]
        },
        {
          "output_type": "stream",
          "name": "stderr",
          "text": [
            "100%|██████████| 1024/1024 [01:43<00:00,  9.93it/s]\n"
          ]
        },
        {
          "output_type": "stream",
          "name": "stdout",
          "text": [
            "Driver: GTiff/GeoTIFF\n",
            "Size is 1024 x 1024 x 2\n",
            "Projection is GEOGCS[\"WGS 84\",DATUM[\"WGS_1984\",SPHEROID[\"WGS 84\",6378137,298.257223563,AUTHORITY[\"EPSG\",\"7030\"]],AUTHORITY[\"EPSG\",\"6326\"]],PRIMEM[\"Greenwich\",0,AUTHORITY[\"EPSG\",\"8901\"]],UNIT[\"degree\",0.0174532925199433,AUTHORITY[\"EPSG\",\"9122\"]],AXIS[\"Latitude\",NORTH],AXIS[\"Longitude\",EAST],AUTHORITY[\"EPSG\",\"4326\"]]\n",
            "Origin = (-74.0000000000241, 5.29166666665704)\n",
            "Pixel Size = (0.03828938802082461, -0.03812662760417103)\n",
            "Driver: GTiff/GeoTIFF\n",
            "Size is 1024 x 1024 x 2\n",
            "Projection is GEOGCS[\"WGS 84\",DATUM[\"WGS_1984\",SPHEROID[\"WGS 84\",6378137,298.257223563,AUTHORITY[\"EPSG\",\"7030\"]],AUTHORITY[\"EPSG\",\"6326\"]],PRIMEM[\"Greenwich\",0,AUTHORITY[\"EPSG\",\"8901\"]],UNIT[\"degree\",0.0174532925199433,AUTHORITY[\"EPSG\",\"9122\"]],AXIS[\"Latitude\",NORTH],AXIS[\"Longitude\",EAST],AUTHORITY[\"EPSG\",\"4326\"]]\n",
            "Origin = (-74.0000000000241, 5.29166666665704)\n",
            "Pixel Size = (0.03828938802082461, -0.03812662760417103)\n"
          ]
        }
      ]
    },
    {
      "cell_type": "markdown",
      "source": [
        "# Optional Rendering"
      ],
      "metadata": {
        "id": "7zFnMtn63vwB"
      }
    },
    {
      "cell_type": "code",
      "source": [
        "from matplotlib import rc\n",
        "rc('animation', html='jshtml')\n",
        "\n",
        "means_isoscape = raster.load_raster(ISOSCAPE_SAVE_LOCATION, use_only_band_index=0)\n",
        "raster.animate(means_isoscape,  1, 1)"
      ],
      "metadata": {
        "id": "oy8an-kt3dDN",
        "outputId": "247951aa-4b7f-4282-bdd6-7b35ceec06b2",
        "colab": {
          "base_uri": "https://localhost:8080/"
        }
      },
      "execution_count": null,
      "outputs": [
        {
          "output_type": "stream",
          "name": "stdout",
          "text": [
            "Driver: GTiff/GeoTIFF\n",
            "Size is 1024 x 1024 x 2\n",
            "Projection is GEOGCS[\"WGS 84\",DATUM[\"WGS_1984\",SPHEROID[\"WGS 84\",6378137,298.257223563,AUTHORITY[\"EPSG\",\"7030\"]],AUTHORITY[\"EPSG\",\"6326\"]],PRIMEM[\"Greenwich\",0,AUTHORITY[\"EPSG\",\"8901\"]],UNIT[\"degree\",0.0174532925199433,AUTHORITY[\"EPSG\",\"9122\"]],AXIS[\"Latitude\",NORTH],AXIS[\"Longitude\",EAST],AUTHORITY[\"EPSG\",\"4326\"]]\n",
            "Origin = (-74.0000000000241, 5.29166666665704)\n",
            "Pixel Size = (0.03828938802082461, -0.03812662760417103)\n"
          ]
        }
      ]
    },
    {
      "cell_type": "code",
      "source": [
        "vars_isoscape = raster.load_raster(ISOSCAPE_SAVE_LOCATION, use_only_band_index=1)\n",
        "raster.animate(vars_isoscape,  1, 1)"
      ],
      "metadata": {
        "id": "D0FUb1bX3WQa"
      },
      "execution_count": null,
      "outputs": []
    },
    {
      "cell_type": "code",
      "source": [],
      "metadata": {
        "id": "SJWxAL6Z8fZ0"
      },
      "execution_count": null,
      "outputs": []
    }
  ],
  "metadata": {
    "colab": {
      "provenance": [],
      "include_colab_link": true
    },
    "kernelspec": {
      "display_name": "Python 3",
      "name": "python3"
    },
    "language_info": {
      "name": "python"
    },
    "orig_nbformat": 4
  },
  "nbformat": 4,
  "nbformat_minor": 0
}