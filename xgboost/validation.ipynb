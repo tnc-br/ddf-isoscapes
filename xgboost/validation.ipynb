{
 "cells": [
  {
   "attachments": {},
   "cell_type": "markdown",
   "metadata": {
    "id": "uyB5N9yngMo-"
   },
   "source": [
    "Copyright 2023 Google LLC.\n",
    "SPDX-License-Identifier: Apache-2.0"
   ]
  },
  {
   "attachments": {},
   "cell_type": "markdown",
   "metadata": {
    "id": "4qCnFGsvx39s"
   },
   "source": [
    "# Imports"
   ]
  },
  {
   "cell_type": "code",
   "execution_count": null,
   "metadata": {},
   "outputs": [],
   "source": [
    "%pip install opencv-python\n",
    "%pip install matplotlib\n",
    "%pip install pandas\n",
    "%pip install tqdm\n",
    "%pip install xgboost"
   ]
  },
  {
   "cell_type": "code",
   "execution_count": null,
   "metadata": {
    "id": "c8kW8zuCdZ6W"
   },
   "outputs": [],
   "source": [
    "import data\n",
    "import geotiffs as gts\n",
    "import numpy as np\n",
    "import matplotlib.pyplot as plt\n",
    "from matplotlib import rc\n",
    "from numpy.random import MT19937, RandomState, SeedSequence\n",
    "import pandas as pd\n",
    "from tqdm import tqdm\n",
    "import math\n",
    "import raster\n",
    "import xgb_lib as xgb\n",
    "\n",
    "rc('animation', html='jshtml')"
   ]
  },
  {
   "cell_type": "code",
   "execution_count": null,
   "metadata": {},
   "outputs": [],
   "source": [
    "#@title Debugging\n",
    "# See https://zohaib.me/debugging-in-google-collab-notebook/ for tips,\n",
    "# as well as docs for pdb and ipdb.\n",
    "DEBUG = False #@param {type:\"boolean\"}\n",
    "if DEBUG:\n",
    "    %pip install -Uqq ipdb\n",
    "    import ipdb\n",
    "    %pdb on"
   ]
  },
  {
   "cell_type": "code",
   "execution_count": null,
   "metadata": {
    "id": "K0tG92Yw1CYk"
   },
   "outputs": [],
   "source": [
    "# Raster directory. Contains:\n",
    "# iso_O_cellulose.tif: Isoscape of 18O from Precipitation; <-- MODELING TARGET\n",
    "# Iso_Oxi_Stack.tif: Isoscape of 18O from Precipitation; <-- Model input\n",
    "# R.rh_Stack.tif: Atmospheric Relative humidity <-- Model input\n",
    "# R.vpd_Stack.tif: Vapor Pressure Deficit - VPD <-- Model input\n",
    "# Temperature_Stack.tif: Atmospheric Temperature <-- Model input\n",
    "RASTER_BASE = \"/MyDrive/amazon_rainforest_files/amazon_rasters/\" #@param\n",
    "SAMPLE_DATA_BASE = \"/MyDrive/amazon_rainforest_files/amazon_sample_data/\" #@param\n",
    "TEST_DATA_BASE = \"/MyDrive/amazon_rainforest_files/amazon_test_data/\" #@param\n",
    "ANIMATIONS_BASE = \"/MyDrive/amazon_rainforest_files/amazon_animations/\" #@param\n",
    "GDRIVE_BASE = \"/content/drive\" #@param\n",
    "\n",
    "REBUILD_MODEL = False #@param {type:\"boolean\"}\n",
    "MODEL_BASE = \"/MyDrive/amazon_rainforest_files/amazon_isoscape_models/\" #@param\n",
    "\n",
    "# Used to compute invalid terrain when making predictions. Leave disabled if on a low memory. \n",
    "LOAD_WATER_MASK_GEOTIFF = False #@param {type:\"boolean\"}\n",
    "LOAD_TREE_MASK_GEOTIFF = False #@param {type:\"boolean\"}\n",
    "\n",
    "# If true, requires soil and plant soil nitrogen geotiffs. Also requires the following files:\n",
    "# RASTER_BASE/raster_krig_d15N_soil_plant.tiff\n",
    "# RASTER_BASE/raster_krig_d15N_soil.tiff\n",
    "REGENERATE_PLANT_NITROGEN_GEOTIFF = False #@param {type:\"boolean\"}"
   ]
  },
  {
   "attachments": {},
   "cell_type": "markdown",
   "metadata": {},
   "source": [
    "# Use Global Params to access files"
   ]
  },
  {
   "cell_type": "code",
   "execution_count": null,
   "metadata": {},
   "outputs": [],
   "source": [
    "def get_raster_path(filename: str) -> str:\n",
    "  root = GDRIVE_BASE if GDRIVE_BASE else \"\"\n",
    "  return f\"{root}{RASTER_BASE}{filename}\"\n",
    "\n",
    "\n",
    "def get_animations_path(filename: str) -> str:\n",
    "  root = GDRIVE_BASE if GDRIVE_BASE else \"\"\n",
    "  return f\"{root}{ANIMATIONS_BASE}{filename}\""
   ]
  },
  {
   "attachments": {},
   "cell_type": "markdown",
   "metadata": {},
   "source": [
    "# Load Rasters"
   ]
  },
  {
   "cell_type": "code",
   "execution_count": null,
   "metadata": {
    "id": "LwrDKcwmIu4f"
   },
   "outputs": [],
   "source": [
    "geotiffs = gts.Geotiffs(LOAD_WATER_MASK_GEOTIFF, LOAD_TREE_MASK_GEOTIFF, REGENERATE_PLANT_NITROGEN_GEOTIFF, get_raster_path(''))\n",
    "\n",
    "brazil_map_geotiff = geotiffs.brazil_map_geotiff() # mean annual precipitation\n",
    "# Will be used to compute isoscapes for carbon and nitrogen\n",
    "\n",
    "relative_humidity_geotiff = geotiffs.relative_humidity_geotiff()\n",
    "temperature_geotiff = geotiffs.temperature_geotiff()\n",
    "vapor_pressure_deficit_geotiff = geotiffs.vapor_pressure_deficit_geotiff()\n",
    "atmosphere_isoscape_geotiff = geotiffs.atmosphere_isoscape_geotiff()\n",
    "cellulose_isoscape_geotiff = geotiffs.cellulose_isoscape_geotiff()\n",
    "\n",
    "# Soil Geotiffs are not necessary to load, but required to build plant nitrogen geotiff.\n",
    "soil_plant_nitrogen_difference_isoscape_geotiff = geotiffs.soil_plant_nitrogen_difference_isoscape_geotiff()\n",
    "soil_nitrogen_isoscape_geotiff = geotiffs.soil_nitrogen_isoscape_geotiff()\n",
    "plant_nitrogen_isoscape_geotiff = geotiffs.plant_nitrogen_isoscape_geotiff()\n",
    "\n",
    "carbon_means_krig_isoscape_geotiff = geotiffs.carbon_means_krig_isoscape_geotiff()\n",
    "\n",
    "land_water_mask_geotiff = geotiffs.land_water_mask_geotiff()\n",
    "possible_tree_mask_geotiff = geotiffs.possible_tree_mask_geotiff()\n",
    "\n",
    "plant_nitrogen_isoscape_geotiff = geotiffs.plant_nitrogen_isoscape_geotiff()"
   ]
  },
  {
   "attachments": {},
   "cell_type": "markdown",
   "metadata": {
    "id": "U_2b5nUNxhnB"
   },
   "source": [
    "# Data Validation"
   ]
  },
  {
   "attachments": {},
   "cell_type": "markdown",
   "metadata": {
    "id": "OxBjEf3iolSI"
   },
   "source": [
    "Do we use coordinates correctly?\n",
    "Ideally, we should create a sample image and make this a unit test.\n"
   ]
  },
  {
   "cell_type": "code",
   "execution_count": null,
   "metadata": {
    "id": "PqebAozxoWKZ"
   },
   "outputs": [],
   "source": [
    "raster.get_data_at_coords(relative_humidity_geotiff, -65, -5, 0)"
   ]
  },
  {
   "cell_type": "code",
   "execution_count": null,
   "metadata": {
    "id": "YJFqC7iAoqZ9"
   },
   "outputs": [],
   "source": [
    "raster.get_data_at_coords(relative_humidity_geotiff, -43, -10, 0)"
   ]
  },
  {
   "attachments": {},
   "cell_type": "markdown",
   "metadata": {
    "id": "8hmczyhjomik"
   },
   "source": [
    "## Plots"
   ]
  },
  {
   "attachments": {},
   "cell_type": "markdown",
   "metadata": {
    "id": "Q3vwGZ-nP5FS"
   },
   "source": [
    "### GeoTIFFs"
   ]
  },
  {
   "cell_type": "code",
   "execution_count": null,
   "metadata": {
    "id": "BnV5YP3uQ90j"
   },
   "outputs": [],
   "source": [
    "#raster.animate(land_water_mask_geotiff, 1, 1)"
   ]
  },
  {
   "cell_type": "code",
   "execution_count": null,
   "metadata": {
    "id": "R55iMGRtJY7_"
   },
   "outputs": [],
   "source": [
    "raster.animate(soil_nitrogen_isoscape_geotiff, 1, 1)"
   ]
  },
  {
   "cell_type": "code",
   "execution_count": null,
   "metadata": {
    "id": "9-pzCaR_OdEe"
   },
   "outputs": [],
   "source": [
    "raster.animate(soil_plant_nitrogen_difference_isoscape_geotiff, 1, 1)"
   ]
  },
  {
   "cell_type": "code",
   "execution_count": null,
   "metadata": {
    "id": "rkiwF1_-Jqt6"
   },
   "outputs": [],
   "source": [
    "raster.animate(plant_nitrogen_isoscape_geotiff, 1, 1)"
   ]
  },
  {
   "cell_type": "code",
   "execution_count": null,
   "metadata": {
    "id": "lf3S_mf08er0"
   },
   "outputs": [],
   "source": [
    "raster.animate(relative_humidity_geotiff, 12, 1)"
   ]
  },
  {
   "cell_type": "code",
   "execution_count": null,
   "metadata": {
    "id": "xnxur_QP4GEx"
   },
   "outputs": [],
   "source": [
    "raster.animate(temperature_geotiff, 12, 1)"
   ]
  },
  {
   "cell_type": "code",
   "execution_count": null,
   "metadata": {
    "id": "Kt8rwiw14L25"
   },
   "outputs": [],
   "source": [
    "raster.animate(vapor_pressure_deficit_geotiff, 12, 1)"
   ]
  },
  {
   "cell_type": "code",
   "execution_count": null,
   "metadata": {
    "id": "jMYb_NWv4e0f"
   },
   "outputs": [],
   "source": [
    "raster.animate(atmosphere_isoscape_geotiff, 12, 1)"
   ]
  },
  {
   "cell_type": "code",
   "execution_count": null,
   "metadata": {
    "id": "vPaF1Is7-_3e"
   },
   "outputs": [],
   "source": [
    "raster.animate(cellulose_isoscape_geotiff, 12, 1)"
   ]
  },
  {
   "cell_type": "code",
   "execution_count": null,
   "metadata": {
    "id": "AoTYPwVGkWgb"
   },
   "outputs": [],
   "source": [
    "raster.animate(relative_humidity_geotiff, 12, 1).save(get_animations_path('relative_humidity.gif'), writer='imagemagick', fps=1)"
   ]
  },
  {
   "cell_type": "code",
   "execution_count": null,
   "metadata": {
    "id": "CYLoEpMpkcqY"
   },
   "outputs": [],
   "source": [
    "raster.animate(temperature_geotiff, 12, 1).save(get_animations_path('temperature.gif'), writer='imagemagick', fps=1)"
   ]
  },
  {
   "cell_type": "code",
   "execution_count": null,
   "metadata": {
    "id": "KizIXcRAkemP"
   },
   "outputs": [],
   "source": [
    "raster.animate(vapor_pressure_deficit_geotiff, 12, 1).save(get_animations_path('vapor_pressure_deficit.gif'), writer='imagemagick', fps=1)"
   ]
  },
  {
   "cell_type": "code",
   "execution_count": null,
   "metadata": {
    "id": "taQx0Pe65Eu_"
   },
   "outputs": [],
   "source": [
    "raster.animate(atmosphere_isoscape_geotiff, 12, 1).save(get_animations_path('atmospheric_isoscape.gif'), writer='imagemagick', fps=1)"
   ]
  },
  {
   "cell_type": "code",
   "execution_count": null,
   "metadata": {
    "id": "jGYcBrfJccBL"
   },
   "outputs": [],
   "source": [
    "raster.animate(cellulose_isoscape_geotiff, 12, 1).save(get_animations_path('cellulose_isoscape.gif'), writer='imagemagick', fps=1)"
   ]
  },
  {
   "cell_type": "code",
   "execution_count": null,
   "metadata": {
    "id": "SXcLSWMs4430"
   },
   "outputs": [],
   "source": [
    "# Make sure this is Gaussian for the next step\n",
    "_ = plt.hist(cellulose_isoscape_geotiff.yearly_masked_image.data[cellulose_isoscape_geotiff.yearly_masked_image.mask == False], bins=100)"
   ]
  },
  {
   "cell_type": "code",
   "execution_count": null,
   "metadata": {
    "id": "I-tE4aDG6SVN"
   },
   "outputs": [],
   "source": [
    "_ = plt.hist(cellulose_isoscape_geotiff.masked_image.data[cellulose_isoscape_geotiff.masked_image.mask == False], bins=100)"
   ]
  },
  {
   "attachments": {},
   "cell_type": "markdown",
   "metadata": {
    "id": "VnuIe2bi67TC"
   },
   "source": [
    "If we squint, the distribution of monthly samples (bottom) looks like it could be Gaussian. NO WAY for the annual means (top). Additionally, when we measure an individual cellulose sample, we are sampling this monthly distribution, not a yearly distribution of means (which has an artificially lower std dev). For these reasons, we will compare samples against monthly point-in-time measurements instead of yearly means.\n",
    "\n",
    "\n",
    "**When we capture real training data, it will be important to also capture corresponding point-in-time measurements at the same location so our z-scores are coming from the same distribution.**"
   ]
  },
  {
   "attachments": {},
   "cell_type": "markdown",
   "metadata": {
    "id": "4tfIYeF_fXUx"
   },
   "source": [
    "## Investigate Tree Samples\n",
    "\n",
    "* Do they fit the Craig-Gordon model?\n",
    "* If so, how well?\n",
    "* RMSE, r, r^2, variance"
   ]
  },
  {
   "cell_type": "code",
   "execution_count": null,
   "metadata": {
    "id": "b10T4XuGfWUL"
   },
   "outputs": [],
   "source": [
    "samples = pd.read_csv(\"/usr/local/google/home/nicholasroth/Existing Samples - Jamari1_flona_tapajos_18sampes_Nicholas.csv\")"
   ]
  },
  {
   "cell_type": "code",
   "execution_count": null,
   "metadata": {
    "id": "RZYC4tbpuQJo"
   },
   "outputs": [],
   "source": [
    "plt.title(\"Expected Values (Craig-Gordon)\")\n",
    "im = plt.imshow(cellulose_isoscape_geotiff.yearly_masked_image,\n",
    "                extent=raster.get_extent(cellulose_isoscape_geotiff.gdal_dataset).to_matplotlib(), interpolation='none')\n",
    "_ = plt.colorbar(im)"
   ]
  },
  {
   "cell_type": "code",
   "execution_count": null,
   "metadata": {
    "id": "0jrP7043i7Pj"
   },
   "outputs": [],
   "source": [
    "expected_values = []\n",
    "actual_values = []\n",
    "for _, row in samples.iterrows():\n",
    "  actual_value = float(row['sample_value'])\n",
    "  monthly_craig_gordon_value = get_data_at_coords(cellulose_isoscape_geotiff, row[\"long\"], row[\"lat\"], int(row[\"date\"].split(\"-\")[1])-1)\n",
    "  craig_gordon_values = []\n",
    "  for i in range(12):\n",
    "    craig_gordon_values.append(get_data_at_coords(cellulose_isoscape_geotiff, row[\"long\"], row[\"lat\"], i))\n",
    "  expected_craig_gordon_value = np.mean(craig_gordon_values)\n",
    "  expected_values.append(expected_craig_gordon_value)\n",
    "  actual_values.append(actual_value)\n",
    "  if False:\n",
    "    print(f\"Monthly: {monthly_craig_gordon_value:.05f}\")\n",
    "    print(f\"Expected: {expected_craig_gordon_value:.05f}\")\n",
    "    print(f\"Actual: {actual_value:.05f}\")\n",
    "    print()\n",
    "\n",
    "residuals = np.array(actual_values)-np.array(expected_values)\n",
    "rmse = np.sqrt(np.mean(residuals**2))\n",
    "r = np.corrcoef(np.array(actual_values), np.array(expected_values))\n",
    "print(f\"RMSE: {rmse:.05f}\")\n",
    "print(f\"r = {r[1,0]:.05f}\")\n",
    "print(f\"r^2 = {r[1,0]**2:.05f}\")\n",
    "\n",
    "plt.title(\"Expected (Craig-Gordon) vs Actual Sample Values w/ expected=actual Line\")\n",
    "plt.scatter(actual_values, expected_values)\n",
    "_ = plt.plot([min(actual_values), max(actual_values)],\n",
    "         [min(actual_values), max(actual_values)], color='black')\n",
    "plt.show()\n",
    "\n",
    "plt.title(\"Expected (Craig-Gordon) vs Actual Sample Values w/ Regression Line\")\n",
    "plt.scatter(actual_values, expected_values)\n",
    "b, a = np.polyfit(actual_values, expected_values, deg=1)\n",
    "xseq = np.linspace(min(actual_values), max(actual_values), num=100)\n",
    "plt.plot(xseq, a + b * xseq, color=\"k\", lw=2.5);\n",
    "plt.show()\n",
    "\n",
    "plt.title(\"Residuals\")\n",
    "_ = plt.hist(residuals, bins=5)"
   ]
  }
 ],
 "metadata": {
  "colab": {
   "collapsed_sections": [
    "4qCnFGsvx39s",
    "3-CHLVHQyD9U",
    "YTieS4NxKetw",
    "xR2Nz4gcsR6N",
    "ZMhPJFTo1FuI",
    "JbO_o5Gg1LHr",
    "U_2b5nUNxhnB",
    "wjHQ-Asj07XN",
    "i9M9pxxi1KOv",
    "lgfrhThP6KeY",
    "wSSdzTLbfBWS"
   ],
   "private_outputs": true,
   "provenance": []
  },
  "kernelspec": {
   "display_name": "Python 3",
   "name": "python3"
  },
  "language_info": {
   "codemirror_mode": {
    "name": "ipython",
    "version": 3
   },
   "file_extension": ".py",
   "mimetype": "text/x-python",
   "name": "python",
   "nbconvert_exporter": "python",
   "pygments_lexer": "ipython3",
   "version": "3.11.1"
  }
 },
 "nbformat": 4,
 "nbformat_minor": 0
}
