{
 "cells": [
  {
   "cell_type": "code",
   "execution_count": null,
   "metadata": {},
   "outputs": [],
   "source": [
    "from colabtools import adhoc_import\n",
    "from pyshp import shapefile as shp  # Requires the pyshp package\n",
    "from descartes import PolygonPatch\n",
    "import matplotlib.pyplot as plt"
   ]
  },
  {
   "attachments": {},
   "cell_type": "markdown",
   "metadata": {},
   "source": [
    "### Initial shapefiles (authorized / not authorized)\n",
    "\n",
    "* Sparse\n",
    "* Provided by Imaflora via Alessandro Germano\n",
    "\n",
    "Definitions:\n",
    "* autorizada: Legal to chop down trees\n",
    "* não autorizada: Illegal to chop down trees\n",
    "* \\<uncovered area\\>: ???"
   ]
  },
  {
   "cell_type": "code",
   "execution_count": null,
   "metadata": {},
   "outputs": [],
   "source": [
    "def plot_format1():\n",
    "  # TODO: Replace with amazon shapefil in gdrive\n",
    "  sf = shp.Reader(\"/usr/local/google/home/nicholasroth/simex_2021/te_amz_exploracao_simex_2021.shp\")\n",
    "\n",
    "  fig = plt.figure(figsize=(50,50))\n",
    "  ax = fig.gca()\n",
    "  BLUE = '#6699cc'\n",
    "  RED = '#cc6666'\n",
    "\n",
    "  for shape in sf.shapeRecords():\n",
    "    category = shape.record.as_dict()['categoria']\n",
    "    #'não autorizada' vs 'autorizada'\n",
    "    if category == 'autorizada':\n",
    "      ax.add_patch(PolygonPatch(shape.shape.__geo_interface__, fc=BLUE, ec=BLUE, alpha=1, zorder=2 ))\n",
    "    elif category == 'não autorizada':\n",
    "      ax.add_patch(PolygonPatch(shape.shape.__geo_interface__, fc=RED, ec=RED, alpha=1, zorder=2 ))\n",
    "    else:\n",
    "      raise ValueError(\"Unexpected category\")\n",
    "\n",
    "  ax.axis('scaled')\n",
    "  plt.show()\n",
    "\n",
    "plot_format1()"
   ]
  },
  {
   "attachments": {},
   "cell_type": "markdown",
   "metadata": {},
   "source": [
    "### V2 Shapefiles (nuanced)\n",
    "\n",
    "Definitions:\n",
    "* **PMFS (Amazônia Legal)**: Data from requests/authorizations for exploration licensing of the Sustainable Forest Management Plan (PMFS) type registered in the National System for Control of the Origin of Forest Products (Sinaflor) and located in the Legal Amazon region.\n",
    "  * Legal to log\n",
    "* **PMFS  (Outros Biomas)**: Data from requests/authorizations for exploration licensing of the Sustainable Forest Management Plan (PMFS) type registered in the National System for the Control of the Origin of Forest Products (Sinaflor) and located outside the Legal Amazon.\n",
    "  * Legal to log\n",
    "* **Autorização de Supressão de Vegetação - ASV**: Data from requests/authorizations for exploitation licensing of the Authorization for Vegetation Suppression (ASV) registered in the National System for Control of the Origin of Forest Products (Sinaflor).\n",
    "  * Legal to log\n",
    "* **Uso Alternativo do Solo**: Data from requests/authorizations for exploration licensing of the Alternative Soil Use (UAS) type registered in the National System for Control of the Origin of Forest Products (Sinaflor).\n",
    "  * Legal to log\n",
    "* \\<uncovered area\\>: Unknown\n",
    "  * Illegal to log\n",
    "\n",
    "\n",
    "Questions for Alessandro:\n",
    "* Do these definitions match your expectations?\n",
    "* Do my interpretations in sub-bullets match your expectations?\n",
    "\n",
    "Alessandro (2023-02-13): I believe you are right regarding PMFS, ASV and Uso Alternativo, but will confirm with Imaflora. Regarding uncovered areas, you should treat them as areas of non-permitted exploration—uncovered areas in the map means that there is no paper trail saying timber can be harvested there.\n"
   ]
  },
  {
   "cell_type": "code",
   "execution_count": null,
   "metadata": {},
   "outputs": [],
   "source": [
    "def get_shp_categories(path: str, encoding: str = 'utf8'):\n",
    "  sf = shp.Reader(path, encoding=encoding)\n",
    "  #categories = set()\n",
    "  nom_ativides = set()\n",
    "  tipo_areas = set()\n",
    "\n",
    "  for shape in sf.shapeRecords():\n",
    "    #print(shape.record.as_dict())\n",
    "    nom_ativid = shape.record.as_dict()['nom_ativid']\n",
    "    tipo_area = shape.record.as_dict()['tipo_area']\n",
    "    nom_ativides.add(nom_ativid)\n",
    "    tipo_areas.add(tipo_area)\n",
    "\n",
    "  return list(nom_ativides), list(tipo_areas)"
   ]
  },
  {
   "cell_type": "code",
   "execution_count": null,
   "metadata": {},
   "outputs": [],
   "source": [
    "def plot_format2():\n",
    "\n",
    "  sf = shp.Reader(\"/usr/local/google/home/nicholasroth/vw_upa_sinaflor_a/vw_upa_sinaflor_a.shp\", encoding=\"ISO8859-1\")\n",
    "\n",
    "  BLUE = '#6699cc'\n",
    "  GREEN = \"#29b335\"\n",
    "  YELLOW = \"#ffff2e\"\n",
    "  ORANGE = '#f58f14'\n",
    "  BROWN = \"#b37929\"\n",
    "  colors = {\n",
    "      'PMFS (Amazônia Legal)': GREEN,\n",
    "      'PMFS  (Outros Biomas)': YELLOW,\n",
    "      'Autorização de Supressão de Vegetação - ASV': ORANGE,\n",
    "      'Uso Alternativo do Solo': BROWN,\n",
    "  }\n",
    "  fig = plt.figure(figsize=(50,50))\n",
    "  ax = fig.gca()\n",
    "\n",
    "  for shape in sf.shapeRecords():\n",
    "    category = shape.record.as_dict()['nom_ativid']\n",
    "    if category in colors.keys():\n",
    "      ax.add_patch(PolygonPatch(shape.shape.__geo_interface__, fc=colors[category], ec=colors[category], alpha=1, zorder=2 ))\n",
    "    else:\n",
    "      print(category)\n",
    "      raise ValueError(\"Unexpected category\")\n",
    "\n",
    "  ax.axis('scaled')\n",
    "  plt.show()\n",
    "\n",
    "plot_format2()"
   ]
  }
 ],
 "metadata": {
  "language_info": {
   "name": "python"
  },
  "orig_nbformat": 4
 },
 "nbformat": 4,
 "nbformat_minor": 2
}
