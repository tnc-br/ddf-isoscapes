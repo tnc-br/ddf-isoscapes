{
  "cells": [
    {
      "cell_type": "markdown",
      "metadata": {
        "id": "view-in-github",
        "colab_type": "text"
      },
      "source": [
        "<a href=\"https://colab.research.google.com/github/tnc-br/ddf-isoscapes/blob/validation_pipeline_separate_rmses/validation_pipeline_plot_isoscape.ipynb\" target=\"_parent\"><img src=\"https://colab.research.google.com/assets/colab-badge.svg\" alt=\"Open In Colab\"/></a>"
      ]
    },
    {
      "cell_type": "markdown",
      "metadata": {
        "id": "PHFjYvuU7f_D"
      },
      "source": [
        "# Validation Pipeline"
      ]
    },
    {
      "cell_type": "code",
      "source": [
        "DEBUG = False #@param {type:\"boolean\"}\n",
        "GDRIVE_BASE = \"/content/gdrive\" #@param\n",
        "\n",
        "ISOSCAPE_OXYGEN_MEANS_FILENAME = \"canonical/kriging_overall_means.tiff\" #@param\n",
        "ISOSCAPE_OXYGEN_VARS_FILENAME = \"canonical/kriging_overall_vars.tiff\" #@param\n",
        "ISOSCAPE_CARBON_FILENAME = \"iso_d13C_map_wood_stack.tiff\" #@param\n",
        "ISOSCAPE_NITROGEN_MEANS_FILENAME = \"Raster_Brasil_krig_d15N.tiff\" #@param\n",
        "ISOSCAPE_NITROGEN_VARS_FILENAME = \"Brasil_Raster_Krig_SD_d15N.tiff\" #@param\n",
        "\n",
        "TEST_SET_FILENAME = 'canonical/uc_davis_no_partition_test_random_grouped.csv' #@param\n",
        "ORIGINAL_SET_FILENAME = '2023_06_23_Results_Google.csv' #@param\n",
        "# Columns of values to read ground truths from. Invalid values are 'truth'\n",
        "# and 'prediction'.\n",
        "MEAN_TRUTH_NAME = 'd18O_cel_mean' #@param\n",
        "VAR_TRUTH_NAME = 'd18O_cel_variance' #@param\n",
        "# Columns of values to write temporary predictions to (for RMSE calculation).\n",
        "# Invalid values are 'truth' and 'prediction'.\n",
        "MEAN_PREDICTED_NAME = 'd18O_predicted_mean' #@param\n",
        "VAR_PREDICTED_NAME = 'd18O_predicted_variance' #@param"
      ],
      "metadata": {
        "id": "8HWuJSu_5LyN"
      },
      "execution_count": null,
      "outputs": []
    },
    {
      "cell_type": "code",
      "source": [
        "# Access data stored on Google Drive\n",
        "if GDRIVE_BASE:\n",
        "    from google.colab import drive\n",
        "    drive.mount(GDRIVE_BASE)\n",
        "\n",
        "# if DEBUG:\n",
        "#     %pip install -Uqq ipdb\n",
        "#     import ipdb\n",
        "#     %pdb on"
      ],
      "metadata": {
        "id": "3JXHUfyWo0R5"
      },
      "execution_count": null,
      "outputs": []
    },
    {
      "cell_type": "markdown",
      "source": [
        "# Import"
      ],
      "metadata": {
        "id": "ChXSNjEJn30d"
      }
    },
    {
      "cell_type": "code",
      "source": [
        "import sys\n",
        "!if [ ! -d \"/content/ddf_common_stub\" ] ; then git clone -b test https://github.com/tnc-br/ddf_common_stub.git; fi\n",
        "sys.path.append(\"/content/ddf_common_stub/\")\n",
        "import ddfimport\n",
        "ddfimport.ddf_source_control_pane()\n",
        "# ddfimport.ddf_import_common()"
      ],
      "metadata": {
        "id": "rNaw-yntoBzK"
      },
      "execution_count": null,
      "outputs": []
    },
    {
      "cell_type": "code",
      "source": [
        "import importlib\n",
        "import raster\n",
        "import hypothesis\n",
        "import dataset\n",
        "import evaluation\n",
        "importlib.reload(raster)\n",
        "importlib.reload(hypothesis)\n",
        "importlib.reload(dataset)\n",
        "importlib.reload(evaluation)"
      ],
      "metadata": {
        "id": "MXJvPG1EIwEM"
      },
      "execution_count": null,
      "outputs": []
    },
    {
      "cell_type": "markdown",
      "source": [
        "# Isoscape: Calculate RMSE for Oxygen\n",
        "\n"
      ],
      "metadata": {
        "id": "2e68ABg9jChp"
      }
    },
    {
      "cell_type": "code",
      "source": [
        "from sklearn.metrics import mean_squared_error\n",
        "import pandas as pd\n",
        "import dataset"
      ],
      "metadata": {
        "id": "ye2sQhIn2sQ1"
      },
      "execution_count": null,
      "outputs": []
    },
    {
      "cell_type": "code",
      "source": [
        "# Required to both import raster and read GDrive files\n",
        "raster.RASTER_BASE = \"/MyDrive/amazon_rainforest_files/amazon_rasters/\" #@param\n",
        "raster.SAMPLE_DATA_BASE = \"/MyDrive/amazon_rainforest_files/amazon_sample_data/\" #@param\n",
        "raster.TEST_DATA_BASE = \"/MyDrive/amazon_rainforest_files/amazon_test_data/\" #@param\n",
        "raster.ANIMATIONS_BASE = \"/MyDrive/amazon_rainforest_files/amazon_animations/\" #@param\n",
        "raster.GDRIVE_BASE = \"/content/gdrive\" #@param"
      ],
      "metadata": {
        "id": "EQ3snfmVEa-O"
      },
      "execution_count": null,
      "outputs": []
    },
    {
      "cell_type": "code",
      "source": [
        "oxygen_means_isoscape = raster.load_raster(\n",
        "    raster.get_raster_path(ISOSCAPE_OXYGEN_MEANS_FILENAME), use_only_band_index=0)\n",
        "oxygen_vars_isoscape = raster.load_raster(\n",
        "    raster.get_raster_path(ISOSCAPE_OXYGEN_VARS_FILENAME), use_only_band_index=0)"
      ],
      "metadata": {
        "id": "sg8rmx1dcm_n"
      },
      "execution_count": null,
      "outputs": []
    },
    {
      "cell_type": "code",
      "source": [
        "eval_dataset = pd.read_csv(raster.get_sample_db_path(TEST_SET_FILENAME), index_col=0)\n",
        "eval_dataset.head()"
      ],
      "metadata": {
        "id": "zq1W3KchmBws"
      },
      "execution_count": null,
      "outputs": []
    },
    {
      "cell_type": "code",
      "source": [
        "eval_dataset.shape"
      ],
      "metadata": {
        "id": "-bW--Zdmg0Wl"
      },
      "execution_count": null,
      "outputs": []
    },
    {
      "cell_type": "code",
      "source": [
        "raster.get_sample_db_path(TEST_SET_FILENAME)"
      ],
      "metadata": {
        "id": "Unohh_W2g3sT"
      },
      "execution_count": null,
      "outputs": []
    },
    {
      "cell_type": "code",
      "source": [
        "import evaluation"
      ],
      "metadata": {
        "id": "G-7JxTFZ4ZLu"
      },
      "execution_count": null,
      "outputs": []
    },
    {
      "cell_type": "code",
      "source": [
        "mean_rmse, var_rmse, overall_rmse = evaluation.calculate_rmse(\n",
        "    eval_dataset,\n",
        "    oxygen_means_isoscape,\n",
        "    oxygen_vars_isoscape,\n",
        "    MEAN_TRUTH_NAME, VAR_TRUTH_NAME, MEAN_PREDICTED_NAME, VAR_PREDICTED_NAME)"
      ],
      "metadata": {
        "id": "t0hRIUpr2tLd"
      },
      "execution_count": null,
      "outputs": []
    },
    {
      "cell_type": "code",
      "source": [
        "print(\"RMSE of Means:\", mean_rmse)\n",
        "print(\"RMSE of Vars:\", var_rmse)\n",
        "print(\"Overall RMSE:\", overall_rmse)"
      ],
      "metadata": {
        "id": "jZ3_B1bPJAIx"
      },
      "execution_count": null,
      "outputs": []
    },
    {
      "cell_type": "code",
      "source": [
        "!pip install earthengine-api geemap geopandas geobr rtree pyproj rasterio contextily descartes -q"
      ],
      "metadata": {
        "id": "T1C8Aq6XKFRf"
      },
      "execution_count": null,
      "outputs": []
    },
    {
      "cell_type": "code",
      "source": [
        "## Import packages\n",
        "import rasterio as rio\n",
        "import rasterio.mask\n",
        "from rasterio.plot import show\n",
        "from rasterio.transform import Affine\n",
        "import contextily as cx\n",
        "import pandas as pd\n",
        "import geopandas as gpd\n",
        "import matplotlib.pyplot as plt\n",
        "import numpy as np\n",
        "import geemap\n",
        "import json\n",
        "import seaborn as sns\n",
        "from shapely.geometry import Point\n",
        "import os"
      ],
      "metadata": {
        "id": "IFGj2-yBKJNa"
      },
      "execution_count": null,
      "outputs": []
    },
    {
      "cell_type": "code",
      "source": [
        "raster.GDRIVE_BASE = \"/content/gdrive\" #@param\n",
        "PROJECT_BASE = os.path.join(raster.GDRIVE_BASE, \"MyDrive/amazon_rainforest_files\")\n",
        "BIOME_PATH = \"christian_files/lm_bioma_250.shp\" #@param"
      ],
      "metadata": {
        "id": "KRrF21YfKQp0"
      },
      "execution_count": null,
      "outputs": []
    },
    {
      "cell_type": "code",
      "source": [
        "biome_path = os.path.join(PROJECT_BASE, BIOME_PATH)\n",
        "gdf_biome = gpd.read_file(biome_path)"
      ],
      "metadata": {
        "id": "fkPIag_NKg6J"
      },
      "execution_count": null,
      "outputs": []
    },
    {
      "cell_type": "code",
      "source": [
        "def display_isoscape_two_bands(means_filename, gdf_biome):\n",
        "  '''\n",
        "  Given a filename to a RasterIO file containing an isoscape raster,\n",
        "  display the isoscape masked by the gdf_biome geometry.\n",
        "  '''\n",
        "  # Mean Isotope Isoscape Band Image\n",
        "  src = rasterio.open(means_filename)\n",
        "\n",
        "  fig, (ax1, ax2) = plt.subplots(1, 2, figsize = (20, 20))\n",
        "  ax1.imshow(src.read(1))\n",
        "  ax1.set_title(\"Mean Isotope Isoscape Band\")\n",
        "\n",
        "  ax2.imshow(src.read(2))\n",
        "  ax2.set_title(\"Variance Isotope Isoscape Band\")\n",
        "  plt.show()"
      ],
      "metadata": {
        "id": "a9gcrsDTJ5x6"
      },
      "execution_count": null,
      "outputs": []
    },
    {
      "cell_type": "code",
      "source": [
        "def display_isoscape_single_band(means_filename, vars_filename, gdf_biome):\n",
        "  '''\n",
        "  Given a filename to a RasterIO file containing an isoscape raster,\n",
        "  display the isoscape masked by the gdf_biome geometry.\n",
        "  '''\n",
        "  # Mean Isotope Isoscape Band Image\n",
        "  means_raster = rasterio.open(means_filename)\n",
        "  means_image, means_transform = rio.mask.mask(means_raster, gdf_biome.geometry.values, crop = True)\n",
        "\n",
        "  fig, (ax1, ax2) = plt.subplots(1, 2, figsize = (20, 20))\n",
        "  means_raster_images = show(means_image, ax = ax1, transform = means_transform, cmap = \"RdYlGn\")\n",
        "  means_raster_image = means_raster_images.get_images()[0]\n",
        "  fig.colorbar(means_raster_image, ax=ax1, shrink=0.3)\n",
        "\n",
        "  ax1.set_title(\"Mean Isotope Isoscape Band\")\n",
        "\n",
        "  # Variance Isotope Isoscape Band Image\n",
        "  vars_raster = rasterio.open(vars_filename)\n",
        "  vars_image, vars_transform = rio.mask.mask(vars_raster, gdf_biome.geometry.values, crop = True)\n",
        "\n",
        "  vars_raster_images = show(vars_image, ax = ax2, transform = vars_transform, cmap = \"RdYlGn\")\n",
        "  vars_raster_image = vars_raster_images.get_images()[0]\n",
        "  fig.colorbar(vars_raster_image, ax=ax2, shrink=0.3)\n",
        "\n",
        "  ax2.set_title(\"Variance Isotope Isoscape Band\")\n",
        "  plt.show()"
      ],
      "metadata": {
        "id": "Q6xqWPj0kBUR"
      },
      "execution_count": null,
      "outputs": []
    },
    {
      "cell_type": "code",
      "source": [
        "# display_isoscape_single_band(raster.get_raster_path(ISOSCAPE_OXYGEN_MEANS_FILENAME),\n",
        "#                              raster.get_raster_path(ISOSCAPE_OXYGEN_VARS_FILENAME),\n",
        "#                              gdf_biome)"
      ],
      "metadata": {
        "id": "ECnvu00JlN-a"
      },
      "execution_count": null,
      "outputs": []
    },
    {
      "cell_type": "code",
      "source": [
        "display_isoscape_two_bands(raster.get_raster_path(ISOSCAPE_OXYGEN_MEANS_FILENAME),\n",
        "                           gdf_biome)"
      ],
      "metadata": {
        "id": "uvkPBVEWKsER"
      },
      "execution_count": null,
      "outputs": []
    },
    {
      "cell_type": "markdown",
      "source": [
        "# Fraud Detection Hypothesis Test\n",
        "Combines the p values of each element specified below and classifies as fraudulent with the resulting p-value."
      ],
      "metadata": {
        "id": "CMKleGCVidxg"
      }
    },
    {
      "cell_type": "markdown",
      "source": [
        "Creating fraudulent samples"
      ],
      "metadata": {
        "id": "GQ0jXl9dLayE"
      }
    },
    {
      "cell_type": "code",
      "source": [
        "eval_dataset.shape"
      ],
      "metadata": {
        "id": "gIXggQMC_ywE"
      },
      "execution_count": null,
      "outputs": []
    },
    {
      "cell_type": "code",
      "source": [
        "elements = ['d18O_cel', 'd15N_wood', 'd13C_wood']\n",
        "isotope_column_names = ['d18O_cel', 'd15N_wood', 'd13C_wood']\n",
        "mean_isoscapes = [\n",
        "    oxygen_means_isoscape,\n",
        "    raster.load_raster(\n",
        "        raster.get_raster_path(ISOSCAPE_NITROGEN_MEANS_FILENAME), use_only_band_index=0),\n",
        "    raster.load_raster(\n",
        "        raster.get_raster_path(ISOSCAPE_CARBON_FILENAME), use_only_band_index=0),\n",
        "]\n",
        "vars_isoscapes = [\n",
        "    oxygen_vars_isoscape,\n",
        "    raster.load_raster(\n",
        "        raster.get_raster_path(ISOSCAPE_NITROGEN_VARS_FILENAME), use_only_band_index=0),\n",
        "    raster.load_raster(\n",
        "        raster.get_raster_path(ISOSCAPE_CARBON_FILENAME), use_only_band_index=1),\n",
        "]"
      ],
      "metadata": {
        "id": "-CHsCJuw8BF4"
      },
      "execution_count": null,
      "outputs": []
    },
    {
      "cell_type": "code",
      "source": [
        "# Parameters for creation of fraudulent samples.\n",
        "max_trusted_radius = 0.1\n",
        "max_fraud_radius = 30\n",
        "min_fraud_radius = 5"
      ],
      "metadata": {
        "id": "GkNt7k22m5q8"
      },
      "execution_count": null,
      "outputs": []
    },
    {
      "cell_type": "code",
      "source": [
        "real_samples_data = pd.merge(eval_dataset[['Code','lat','long',MEAN_TRUTH_NAME, VAR_TRUTH_NAME]],\n",
        "         pd.read_csv(raster.get_sample_db_path(ORIGINAL_SET_FILENAME), index_col=0), how=\"inner\",\n",
        "                    left_on=['Code', 'lat', 'long'], right_on=['Code', 'lat', 'long'])"
      ],
      "metadata": {
        "id": "0yv2NqBpFccl"
      },
      "execution_count": null,
      "outputs": []
    },
    {
      "cell_type": "code",
      "source": [
        "fake_sample = dataset.create_fraudulent_samples(\n",
        "    real_samples_data, mean_isoscapes, elements, max_trusted_radius, max_fraud_radius, min_fraud_radius\n",
        ")"
      ],
      "metadata": {
        "id": "Ir9hzuam6-Wv"
      },
      "execution_count": null,
      "outputs": []
    },
    {
      "cell_type": "markdown",
      "source": [
        "Combine fraudulent and real samples in a Dataframe, identified by 'fraud' column"
      ],
      "metadata": {
        "id": "BvhYcAwvLKzC"
      }
    },
    {
      "cell_type": "code",
      "source": [
        "real = real_samples_data[['Code','lat','long'] + elements]\n",
        "real = real.assign(fraud=False)"
      ],
      "metadata": {
        "id": "5AZ-ReCQLlTO"
      },
      "execution_count": null,
      "outputs": []
    },
    {
      "cell_type": "code",
      "source": [
        "test_dataset = pd.concat([real, fake_sample], axis=1, join='outer')\n",
        "test_dataset = real.append(fake_sample, ignore_index=True)"
      ],
      "metadata": {
        "id": "eRCrr_PZZCwy"
      },
      "execution_count": null,
      "outputs": []
    },
    {
      "cell_type": "markdown",
      "source": [
        "Calling t-test function that expects the Dataframe with the fraud column"
      ],
      "metadata": {
        "id": "JDyEfqLRompU"
      }
    },
    {
      "cell_type": "code",
      "source": [
        "sample_size_per_location = 5\n",
        "p_value_target = 0.05"
      ],
      "metadata": {
        "id": "R410aDDWUpxe"
      },
      "execution_count": null,
      "outputs": []
    },
    {
      "cell_type": "code",
      "source": [
        "assert((\n",
        "  hypothesis.fraud_metrics(test_dataset,\n",
        "                [isotope_column_names[0]],\n",
        "                [mean_isoscapes[0]],\n",
        "                [vars_isoscapes[0]],\n",
        "                sample_size_per_location,\n",
        "                0.0)\n",
        ").accuracy == 0.5)\n",
        "assert((\n",
        "  hypothesis.fraud_metrics(test_dataset,\n",
        "                [isotope_column_names[0]],\n",
        "                [mean_isoscapes[0]],\n",
        "                [vars_isoscapes[0]],\n",
        "                sample_size_per_location,\n",
        "                1.0)\n",
        ").accuracy == 0.5)"
      ],
      "metadata": {
        "id": "ZN9nBTVZcOJ_"
      },
      "execution_count": null,
      "outputs": []
    },
    {
      "cell_type": "code",
      "source": [
        "assert(test_dataset[test_dataset['fraud'] == True].shape[0] == test_dataset[test_dataset['fraud'] == False].shape[0])"
      ],
      "metadata": {
        "id": "AxMoDnmBWrCn"
      },
      "execution_count": null,
      "outputs": []
    },
    {
      "cell_type": "code",
      "source": [
        "import numpy as np\n",
        "\n",
        "p_values = np.linspace(0, 1, 1000)\n",
        "\n",
        "accuracies = []\n",
        "for p_value_target in p_values:\n",
        "  fraud_metrics = (\n",
        "    hypothesis.fraud_metrics(test_dataset,\n",
        "                  isotope_column_names,\n",
        "                  mean_isoscapes,\n",
        "                  vars_isoscapes,\n",
        "                  sample_size_per_location,\n",
        "                  p_value_target)\n",
        "  )\n",
        "  accuracies.append(fraud_metrics.accuracy)"
      ],
      "metadata": {
        "id": "gmvrDW4vINwC"
      },
      "execution_count": null,
      "outputs": []
    },
    {
      "cell_type": "code",
      "source": [
        "# Accuracy Graph\n",
        "import matplotlib.pyplot as plt\n",
        "\n",
        "plt.plot(p_values, accuracies)\n",
        "plt.xlabel(\"p-value\")\n",
        "plt.ylabel(\"Accuracy\")\n",
        "plt.title(\"Accuracy Graph\")\n",
        "plt.show()"
      ],
      "metadata": {
        "id": "rdvxLHiPjwW1"
      },
      "execution_count": null,
      "outputs": []
    },
    {
      "cell_type": "code",
      "source": [
        "import numpy as np\n",
        "\n",
        "predictions = hypothesis.get_predictions(test_dataset,\n",
        "  isotope_column_names,\n",
        "  mean_isoscapes,\n",
        "  vars_isoscapes,\n",
        "  sample_size_per_location)"
      ],
      "metadata": {
        "id": "2lixfNCDotiP"
      },
      "execution_count": null,
      "outputs": []
    },
    {
      "cell_type": "code",
      "source": [
        "y_true = predictions['fraud']\n",
        "# Fraud p value is lower the more positive a prediction/label is.\n",
        "# Inverting it gives us the probability of positive label class (fraud).\n",
        "y_pred = 1 - predictions['fraud_p_value']"
      ],
      "metadata": {
        "id": "NS2vYpUVEGPU"
      },
      "execution_count": null,
      "outputs": []
    },
    {
      "cell_type": "code",
      "source": [
        "from sklearn.metrics import precision_recall_curve\n",
        "import matplotlib.pyplot as plt\n",
        "\n",
        "precision, recall, thresholds = precision_recall_curve(y_true, y_pred)\n",
        "\n",
        "plt.plot(recall, precision, label=\"model\")\n",
        "plt.plot(np.linspace(0, 1, 100), np.ones(100) * 0.5, \"--\", label=\"random\")\n",
        "plt.xlabel(\"Recall\")\n",
        "plt.ylabel(\"Precision\")\n",
        "plt.title(\"Precision-Recall curve\")\n",
        "plt.legend()\n",
        "plt.show()"
      ],
      "metadata": {
        "id": "3yRRIZFbjwm7"
      },
      "execution_count": null,
      "outputs": []
    }
  ],
  "metadata": {
    "colab": {
      "collapsed_sections": [
        "4qCnFGsvx39s",
        "WlM3FIGXx6F2",
        "vJc7jGf533ag"
      ],
      "private_outputs": true,
      "provenance": [],
      "include_colab_link": true
    },
    "kernelspec": {
      "display_name": "Python 3",
      "name": "python3"
    },
    "language_info": {
      "name": "python"
    }
  },
  "nbformat": 4,
  "nbformat_minor": 0
}