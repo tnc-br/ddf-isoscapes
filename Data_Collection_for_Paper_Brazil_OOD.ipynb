{
  "nbformat": 4,
  "nbformat_minor": 0,
  "metadata": {
    "colab": {
      "provenance": [],
      "include_colab_link": true
    },
    "kernelspec": {
      "name": "python3",
      "display_name": "Python 3"
    },
    "language_info": {
      "name": "python"
    }
  },
  "cells": [
    {
      "cell_type": "markdown",
      "metadata": {
        "id": "view-in-github",
        "colab_type": "text"
      },
      "source": [
        "<a href=\"https://colab.research.google.com/github/tnc-br/ddf-isoscapes/blob/npr-working/Data_Collection_for_Paper_Brazil_OOD.ipynb\" target=\"_parent\"><img src=\"https://colab.research.google.com/assets/colab-badge.svg\" alt=\"Open In Colab\"/></a>"
      ]
    },
    {
      "cell_type": "markdown",
      "source": [
        "This colab loads all the data in the DDF harness bigquery table and stores it into a dataframe.\n",
        "\n",
        "First, update your bigquery api (you will need to restart the runtime after this step)."
      ],
      "metadata": {
        "id": "efktBzL6Lhvg"
      }
    },
    {
      "cell_type": "code",
      "source": [
        "%pip install --upgrade google-cloud-bigquery"
      ],
      "metadata": {
        "id": "VJEh27jUJoDf",
        "colab": {
          "base_uri": "https://localhost:8080/",
          "height": 707
        },
        "outputId": "672508e9-37f3-42b2-e952-839db3847306"
      },
      "execution_count": 1,
      "outputs": [
        {
          "output_type": "stream",
          "name": "stdout",
          "text": [
            "Requirement already satisfied: google-cloud-bigquery in /usr/local/lib/python3.11/dist-packages (3.25.0)\n",
            "Collecting google-cloud-bigquery\n",
            "  Downloading google_cloud_bigquery-3.29.0-py2.py3-none-any.whl.metadata (7.6 kB)\n",
            "Requirement already satisfied: google-api-core<3.0.0dev,>=2.11.1 in /usr/local/lib/python3.11/dist-packages (from google-api-core[grpc]<3.0.0dev,>=2.11.1->google-cloud-bigquery) (2.19.2)\n",
            "Requirement already satisfied: google-auth<3.0.0dev,>=2.14.1 in /usr/local/lib/python3.11/dist-packages (from google-cloud-bigquery) (2.27.0)\n",
            "Requirement already satisfied: google-cloud-core<3.0.0dev,>=2.4.1 in /usr/local/lib/python3.11/dist-packages (from google-cloud-bigquery) (2.4.1)\n",
            "Requirement already satisfied: google-resumable-media<3.0dev,>=2.0.0 in /usr/local/lib/python3.11/dist-packages (from google-cloud-bigquery) (2.7.2)\n",
            "Requirement already satisfied: packaging>=20.0.0 in /usr/local/lib/python3.11/dist-packages (from google-cloud-bigquery) (24.2)\n",
            "Requirement already satisfied: python-dateutil<3.0dev,>=2.7.3 in /usr/local/lib/python3.11/dist-packages (from google-cloud-bigquery) (2.8.2)\n",
            "Requirement already satisfied: requests<3.0.0dev,>=2.21.0 in /usr/local/lib/python3.11/dist-packages (from google-cloud-bigquery) (2.32.3)\n",
            "Requirement already satisfied: googleapis-common-protos<2.0.dev0,>=1.56.2 in /usr/local/lib/python3.11/dist-packages (from google-api-core<3.0.0dev,>=2.11.1->google-api-core[grpc]<3.0.0dev,>=2.11.1->google-cloud-bigquery) (1.66.0)\n",
            "Requirement already satisfied: protobuf!=3.20.0,!=3.20.1,!=4.21.0,!=4.21.1,!=4.21.2,!=4.21.3,!=4.21.4,!=4.21.5,<6.0.0.dev0,>=3.19.5 in /usr/local/lib/python3.11/dist-packages (from google-api-core<3.0.0dev,>=2.11.1->google-api-core[grpc]<3.0.0dev,>=2.11.1->google-cloud-bigquery) (4.25.6)\n",
            "Requirement already satisfied: proto-plus<2.0.0dev,>=1.22.3 in /usr/local/lib/python3.11/dist-packages (from google-api-core<3.0.0dev,>=2.11.1->google-api-core[grpc]<3.0.0dev,>=2.11.1->google-cloud-bigquery) (1.26.0)\n",
            "Requirement already satisfied: grpcio<2.0dev,>=1.33.2 in /usr/local/lib/python3.11/dist-packages (from google-api-core[grpc]<3.0.0dev,>=2.11.1->google-cloud-bigquery) (1.70.0)\n",
            "Requirement already satisfied: grpcio-status<2.0.dev0,>=1.33.2 in /usr/local/lib/python3.11/dist-packages (from google-api-core[grpc]<3.0.0dev,>=2.11.1->google-cloud-bigquery) (1.62.3)\n",
            "Requirement already satisfied: cachetools<6.0,>=2.0.0 in /usr/local/lib/python3.11/dist-packages (from google-auth<3.0.0dev,>=2.14.1->google-cloud-bigquery) (5.5.1)\n",
            "Requirement already satisfied: pyasn1-modules>=0.2.1 in /usr/local/lib/python3.11/dist-packages (from google-auth<3.0.0dev,>=2.14.1->google-cloud-bigquery) (0.4.1)\n",
            "Requirement already satisfied: rsa<5,>=3.1.4 in /usr/local/lib/python3.11/dist-packages (from google-auth<3.0.0dev,>=2.14.1->google-cloud-bigquery) (4.9)\n",
            "Requirement already satisfied: google-crc32c<2.0dev,>=1.0 in /usr/local/lib/python3.11/dist-packages (from google-resumable-media<3.0dev,>=2.0.0->google-cloud-bigquery) (1.6.0)\n",
            "Requirement already satisfied: six>=1.5 in /usr/local/lib/python3.11/dist-packages (from python-dateutil<3.0dev,>=2.7.3->google-cloud-bigquery) (1.17.0)\n",
            "Requirement already satisfied: charset-normalizer<4,>=2 in /usr/local/lib/python3.11/dist-packages (from requests<3.0.0dev,>=2.21.0->google-cloud-bigquery) (3.4.1)\n",
            "Requirement already satisfied: idna<4,>=2.5 in /usr/local/lib/python3.11/dist-packages (from requests<3.0.0dev,>=2.21.0->google-cloud-bigquery) (3.10)\n",
            "Requirement already satisfied: urllib3<3,>=1.21.1 in /usr/local/lib/python3.11/dist-packages (from requests<3.0.0dev,>=2.21.0->google-cloud-bigquery) (2.3.0)\n",
            "Requirement already satisfied: certifi>=2017.4.17 in /usr/local/lib/python3.11/dist-packages (from requests<3.0.0dev,>=2.21.0->google-cloud-bigquery) (2025.1.31)\n",
            "Requirement already satisfied: pyasn1<0.7.0,>=0.4.6 in /usr/local/lib/python3.11/dist-packages (from pyasn1-modules>=0.2.1->google-auth<3.0.0dev,>=2.14.1->google-cloud-bigquery) (0.6.1)\n",
            "Downloading google_cloud_bigquery-3.29.0-py2.py3-none-any.whl (244 kB)\n",
            "\u001b[2K   \u001b[90m━━━━━━━━━━━━━━━━━━━━━━━━━━━━━━━━━━━━━━━━\u001b[0m \u001b[32m244.6/244.6 kB\u001b[0m \u001b[31m4.1 MB/s\u001b[0m eta \u001b[36m0:00:00\u001b[0m\n",
            "\u001b[?25hInstalling collected packages: google-cloud-bigquery\n",
            "  Attempting uninstall: google-cloud-bigquery\n",
            "    Found existing installation: google-cloud-bigquery 3.25.0\n",
            "    Uninstalling google-cloud-bigquery-3.25.0:\n",
            "      Successfully uninstalled google-cloud-bigquery-3.25.0\n",
            "Successfully installed google-cloud-bigquery-3.29.0\n"
          ]
        },
        {
          "output_type": "display_data",
          "data": {
            "application/vnd.colab-display-data+json": {
              "pip_warning": {
                "packages": [
                  "google"
                ]
              },
              "id": "1aca0b2db3384527b03e31d9d0322c4a"
            }
          },
          "metadata": {}
        }
      ]
    },
    {
      "cell_type": "markdown",
      "source": [
        "### Dependencies"
      ],
      "metadata": {
        "id": "KpppCv4aMNiJ"
      }
    },
    {
      "cell_type": "code",
      "source": [
        "# This stub (ddfimport) allows the Ddf EE API to be imported.\n",
        "import sys\n",
        "!if [ ! -d \"/content/ddf_common_stub\" ] ; then git clone -b test https://github.com/tnc-br/ddf_common_stub.git; fi\n",
        "sys.path.append(\"/content/ddf_common_stub/\")\n",
        "import ddfimport\n",
        "ddfimport.ddf_import_common()"
      ],
      "metadata": {
        "id": "UIY3IQUGJwl5",
        "colab": {
          "base_uri": "https://localhost:8080/"
        },
        "outputId": "8bd2c601-7264-445e-858f-0f1e6cdf30c0"
      },
      "execution_count": 2,
      "outputs": [
        {
          "output_type": "stream",
          "name": "stdout",
          "text": [
            "Cloning into 'ddf_common_stub'...\n",
            "remote: Enumerating objects: 18, done.\u001b[K\n",
            "remote: Counting objects: 100% (18/18), done.\u001b[K\n",
            "remote: Compressing objects: 100% (18/18), done.\u001b[K\n",
            "remote: Total 18 (delta 7), reused 0 (delta 0), pack-reused 0 (from 0)\u001b[K\n",
            "Receiving objects: 100% (18/18), 7.36 KiB | 7.36 MiB/s, done.\n",
            "Resolving deltas: 100% (7/7), done.\n",
            "executing checkout_branch ...\n",
            "b''\n",
            "main branch checked out as readonly. You may now use ddf_common imports\n"
          ]
        }
      ]
    },
    {
      "cell_type": "code",
      "source": [
        "import importlib\n",
        "import eeddf\n",
        "import bqddf\n",
        "importlib.reload(eeddf)\n",
        "importlib.reload(bqddf)\n",
        "\n",
        "# Use your credentials to access the BQ tables.\n",
        "eeddf.initialize_ddf(test_environment = True)"
      ],
      "metadata": {
        "id": "DIalBcBuJ3y0"
      },
      "execution_count": 3,
      "outputs": []
    },
    {
      "cell_type": "markdown",
      "source": [
        "### Load the data"
      ],
      "metadata": {
        "id": "-ajDB6hLMSfz"
      }
    },
    {
      "cell_type": "code",
      "source": [
        "def get_all_training_results():\n",
        "  client = bqddf._get_big_query_client()\n",
        "\n",
        "  # Set up SQL query\n",
        "  table_name = f\"{bqddf._CONFIG['DATASET']}.{bqddf._CONFIG['FLATTENED_TABLE']}\"\n",
        "  query = f\"SELECT * FROM {table_name}\"\n",
        "\n",
        "  # Execute the query\n",
        "  results = client.query_and_wait(query)\n",
        "  return results\n",
        "\n",
        "results = get_all_training_results()\n",
        "\n",
        "# Results is iterator based, so you will get an error running this twice!\n",
        "df = results.to_dataframe()\n",
        "\n",
        "import json\n",
        "from typing import Set, Dict, Any\n",
        "import numpy as np\n",
        "import pandas as pd\n",
        "\n",
        "def parse_tags(tags: np.ndarray) -> Set[str]:\n",
        "  return set(tags.tolist())\n",
        "df['tags'] = df['tags'].apply(parse_tags)\n",
        "\n",
        "def find_by_tags(df: pd.DataFrame, tags: Set[str]) -> Dict[str, Any]:\n",
        "  return df[df['tags'].apply(lambda x: all([tag in x for tag in tags]))].squeeze().to_dict()\n",
        "\n",
        "def find_many_by_tags(df: pd.DataFrame, tags: Set[str]) -> Dict[str, Any]:\n",
        "  return df[df['tags'].apply(lambda x: all([tag in x for tag in tags]))]\n",
        "\n",
        "def print_experiment(experiment: Dict[str, Any]) -> None:\n",
        "  print(f\"RMSE (Means): {experiment['mean_rmse']:.3f}\")\n",
        "  print(f\"RMSE (Variances): {experiment['var_rmse']:.3f}\")"
      ],
      "metadata": {
        "id": "IeT-upUZKMyP",
        "colab": {
          "base_uri": "https://localhost:8080/"
        },
        "outputId": "705bba37-0acc-45bb-833f-a60baa0157a9"
      },
      "execution_count": 28,
      "outputs": [
        {
          "output_type": "stream",
          "name": "stderr",
          "text": [
            "/usr/local/lib/python3.11/dist-packages/google/cloud/bigquery/_pandas_helpers.py:208: UserWarning: Unable to determine Arrow type for field 'as_json'.\n",
            "  warnings.warn(\n"
          ]
        }
      ]
    },
    {
      "cell_type": "code",
      "source": [
        "print_experiment(find_by_tags(df, {'author:npr', 'ordinary_kriging', 'all_standardized', 'linear_variogram'}))"
      ],
      "metadata": {
        "colab": {
          "base_uri": "https://localhost:8080/"
        },
        "id": "YVrq1-_VIbL2",
        "outputId": "93546d83-4e86-4b42-987a-280533bd87af"
      },
      "execution_count": null,
      "outputs": [
        {
          "output_type": "stream",
          "name": "stdout",
          "text": [
            "RMSE (Means): 1.273\n",
            "RMSE (Variances): 1.148\n"
          ]
        }
      ]
    },
    {
      "cell_type": "code",
      "source": [
        "bqddf.add_tag(find_by_tags(df, {'author:npr', 'ordinary_kriging', 'all_standardized', 'linear_variogram'})['training_id'], 'main_ood_final_result')"
      ],
      "metadata": {
        "id": "387-YcaPTbVJ",
        "outputId": "be7923e7-895c-4f5c-a9fc-9bb1758a9eef",
        "colab": {
          "base_uri": "https://localhost:8080/"
        }
      },
      "execution_count": 7,
      "outputs": [
        {
          "output_type": "stream",
          "name": "stdout",
          "text": [
            "Tag 'main_ood_final_result' added for training_id 'test-okrige-2024-10-25-1' successfully.\n"
          ]
        },
        {
          "output_type": "execute_result",
          "data": {
            "text/plain": [
              "[Row((['author:npr', 'ordinary_kriging', 'all_standardized', 'linear_variogram', 'main_ood_final_result'],), {'tags': 0})]"
            ]
          },
          "metadata": {},
          "execution_count": 7
        }
      ]
    },
    {
      "cell_type": "code",
      "source": [
        "print_experiment(find_by_tags(df, {'author:npr', 'ordinary_kriging', 'all_standardized', 'gaussian_variogram', 'rev2'}))"
      ],
      "metadata": {
        "colab": {
          "base_uri": "https://localhost:8080/"
        },
        "id": "CajoJtC1cDlY",
        "outputId": "4e2a657d-3fda-481f-8ff0-0e15da8cacc3"
      },
      "execution_count": null,
      "outputs": [
        {
          "output_type": "stream",
          "name": "stdout",
          "text": [
            "RMSE (Means): 1.269\n",
            "RMSE (Variances): 1.190\n"
          ]
        }
      ]
    },
    {
      "cell_type": "code",
      "source": [
        "bqddf.add_tag(find_by_tags(df, {'author:npr', 'ordinary_kriging', 'all_standardized', 'gaussian_variogram', 'rev2'})['training_id'], 'main_ood_final_result')"
      ],
      "metadata": {
        "id": "Fss0LhbqTx-q",
        "outputId": "d623f685-2407-454d-e534-188cfa1da294",
        "colab": {
          "base_uri": "https://localhost:8080/"
        }
      },
      "execution_count": 8,
      "outputs": [
        {
          "output_type": "stream",
          "name": "stdout",
          "text": [
            "Tag 'main_ood_final_result' added for training_id 'test-okrige-2025-01-17-4' successfully.\n"
          ]
        },
        {
          "output_type": "execute_result",
          "data": {
            "text/plain": [
              "[Row((['author:npr', 'ordinary_kriging', 'all_standardized', 'gaussian_variogram', 'rev2', 'main_ood_final_result'],), {'tags': 0})]"
            ]
          },
          "metadata": {},
          "execution_count": 8
        }
      ]
    },
    {
      "cell_type": "code",
      "source": [
        "print_experiment(find_by_tags(df, {'author:npr', 'universal_kriging', 'all_standardized', 'linear_variogram', 'rev2'}))"
      ],
      "metadata": {
        "colab": {
          "base_uri": "https://localhost:8080/"
        },
        "id": "StAAOs5Iifu2",
        "outputId": "03f79d72-e174-418c-b90a-1ed74be18a9d"
      },
      "execution_count": null,
      "outputs": [
        {
          "output_type": "stream",
          "name": "stdout",
          "text": [
            "RMSE (Means): 1.183\n",
            "RMSE (Variances): 1.157\n"
          ]
        }
      ]
    },
    {
      "cell_type": "code",
      "source": [
        "bqddf.add_tag(find_by_tags(df, {'author:npr', 'universal_kriging', 'all_standardized', 'linear_variogram', 'rev2'})['training_id'], 'main_ood_final_result')"
      ],
      "metadata": {
        "id": "3T3rOo56T1xa",
        "outputId": "4668385d-0a91-49ea-bca4-cb9f7d6b080b",
        "colab": {
          "base_uri": "https://localhost:8080/"
        }
      },
      "execution_count": 9,
      "outputs": [
        {
          "output_type": "stream",
          "name": "stdout",
          "text": [
            "Tag 'main_ood_final_result' added for training_id 'test-ukrige-2025-01-17-2' successfully.\n"
          ]
        },
        {
          "output_type": "execute_result",
          "data": {
            "text/plain": [
              "[Row((['author:npr', 'universal_kriging', 'all_standardized', 'linear_variogram', 'rev2', 'main_ood_final_result'],), {'tags': 0})]"
            ]
          },
          "metadata": {},
          "execution_count": 9
        }
      ]
    },
    {
      "cell_type": "code",
      "source": [
        "print_experiment(find_by_tags(df, {'author:npr', 'universal_kriging', 'all_standardized', 'gaussian_variogram', 'rev2'}))"
      ],
      "metadata": {
        "colab": {
          "base_uri": "https://localhost:8080/"
        },
        "id": "qzJ0kfTlcFPs",
        "outputId": "3afadac1-67a5-4510-b037-3c975c9686ba"
      },
      "execution_count": null,
      "outputs": [
        {
          "output_type": "stream",
          "name": "stdout",
          "text": [
            "RMSE (Means): 1.246\n",
            "RMSE (Variances): 1.247\n"
          ]
        }
      ]
    },
    {
      "cell_type": "code",
      "source": [
        "bqddf.add_tag(find_by_tags(df, {'author:npr', 'universal_kriging', 'all_standardized', 'gaussian_variogram', 'rev2'})['training_id'], 'main_ood_final_result')"
      ],
      "metadata": {
        "id": "eZUA_a8bUCtF",
        "outputId": "bdb5056b-bced-44ae-bd83-09915a07ecf8",
        "colab": {
          "base_uri": "https://localhost:8080/"
        }
      },
      "execution_count": 10,
      "outputs": [
        {
          "output_type": "stream",
          "name": "stdout",
          "text": [
            "Tag 'main_ood_final_result' added for training_id 'test-ukrige-2025-01-17-3' successfully.\n"
          ]
        },
        {
          "output_type": "execute_result",
          "data": {
            "text/plain": [
              "[Row((['author:npr', 'universal_kriging', 'all_standardized', 'gaussian_variogram', 'rev2', 'main_ood_final_result'],), {'tags': 0})]"
            ]
          },
          "metadata": {},
          "execution_count": 10
        }
      ]
    },
    {
      "cell_type": "code",
      "source": [
        "print_experiment(find_by_tags(df, {'author:npr', \"regression_kriging\", \"all_standardized\", \"rev1\", \"krige_type:universal\", \"variogram:gaussian\", \"n_estimators:100\", \"max_depth:20\", \"regression_strategy:gradientboosting\"}))"
      ],
      "metadata": {
        "colab": {
          "base_uri": "https://localhost:8080/"
        },
        "id": "zxAQ6aZKlRCI",
        "outputId": "315ecbac-f9cc-4370-d3d5-097483656589"
      },
      "execution_count": null,
      "outputs": [
        {
          "output_type": "stream",
          "name": "stdout",
          "text": [
            "RMSE (Means): 0.639\n",
            "RMSE (Variances): 1.253\n"
          ]
        }
      ]
    },
    {
      "cell_type": "code",
      "source": [
        "bqddf.add_tag(find_by_tags(df, {'author:npr', \"regression_kriging\", \"all_standardized\", \"rev1\", \"krige_type:universal\", \"variogram:gaussian\", \"n_estimators:100\", \"max_depth:20\", \"regression_strategy:gradientboosting\"})['training_id'], 'main_ood_final_result')"
      ],
      "metadata": {
        "id": "n-NRes7AUHyG",
        "outputId": "12026217-b2cd-4806-b1f4-b765cee98e85",
        "colab": {
          "base_uri": "https://localhost:8080/"
        }
      },
      "execution_count": 11,
      "outputs": [
        {
          "output_type": "stream",
          "name": "stdout",
          "text": [
            "Tag 'main_ood_final_result' added for training_id 'test-rkrige-2025-01-17-1' successfully.\n"
          ]
        },
        {
          "output_type": "execute_result",
          "data": {
            "text/plain": [
              "[Row((['author:npr', 'regression_kriging', 'all_standardized', 'rev1', 'krige_type:universal', 'variogram:gaussian', 'n_estimators:100', 'max_depth:20', 'regression_strategy:gradientboosting', 'main_ood_final_result'],), {'tags': 0})]"
            ]
          },
          "metadata": {},
          "execution_count": 11
        }
      ]
    },
    {
      "cell_type": "code",
      "source": [
        "print_experiment(find_by_tags(df, {'author:npr', \"regression_kriging\", \"all_standardized\", \"rev1\", \"krige_type:universal\", \"variogram:linear\", \"n_estimators:100\", \"max_depth:20\", \"regression_strategy:gradientboosting\"}))"
      ],
      "metadata": {
        "colab": {
          "base_uri": "https://localhost:8080/"
        },
        "id": "lVR9xyN7sCZB",
        "outputId": "8773238d-aebf-48a2-e05d-e490e8c7e75a"
      },
      "execution_count": null,
      "outputs": [
        {
          "output_type": "stream",
          "name": "stdout",
          "text": [
            "RMSE (Means): 0.659\n",
            "RMSE (Variances): 1.253\n"
          ]
        }
      ]
    },
    {
      "cell_type": "code",
      "source": [
        "bqddf.add_tag(find_by_tags(df, {'author:npr', \"regression_kriging\", \"all_standardized\", \"rev1\", \"krige_type:universal\", \"variogram:linear\", \"n_estimators:100\", \"max_depth:20\", \"regression_strategy:gradientboosting\"})['training_id'], 'main_ood_final_result')"
      ],
      "metadata": {
        "id": "Vjsr6C-ZdWbt",
        "outputId": "a411dd54-bcc3-4d13-9ccc-63c404af56b3",
        "colab": {
          "base_uri": "https://localhost:8080/"
        }
      },
      "execution_count": 13,
      "outputs": [
        {
          "output_type": "stream",
          "name": "stdout",
          "text": [
            "Tag 'main_ood_final_result' added for training_id 'test-rkrige-2025-01-17-2' successfully.\n"
          ]
        },
        {
          "output_type": "execute_result",
          "data": {
            "text/plain": [
              "[Row((['author:npr', 'regression_kriging', 'all_standardized', 'rev1', 'krige_type:universal', 'variogram:linear', 'n_estimators:100', 'max_depth:20', 'regression_strategy:gradientboosting', 'main_ood_final_result'],), {'tags': 0})]"
            ]
          },
          "metadata": {},
          "execution_count": 13
        }
      ]
    },
    {
      "cell_type": "code",
      "source": [
        "print_experiment(find_by_tags(df, {'author:npr', \"ViNN\", \"rev2\"}))"
      ],
      "metadata": {
        "id": "t8DTzJ3fVGSN",
        "outputId": "138f0e8c-ecb0-4c5b-bff3-8cb5e6b91b99",
        "colab": {
          "base_uri": "https://localhost:8080/"
        }
      },
      "execution_count": 38,
      "outputs": [
        {
          "output_type": "stream",
          "name": "stdout",
          "text": [
            "RMSE (Means): 0.848\n",
            "RMSE (Variances): 1.683\n"
          ]
        }
      ]
    },
    {
      "cell_type": "code",
      "source": [
        "bqddf.add_tag(find_by_tags(df, {'author:npr', \"ViNN\", \"rev2\"})['training_id'], 'main_ood_final_result')"
      ],
      "metadata": {
        "id": "jUJgsprCZvTv",
        "outputId": "17afef4c-21e4-4c63-d686-21b49fa9dccd",
        "colab": {
          "base_uri": "https://localhost:8080/"
        }
      },
      "execution_count": 39,
      "outputs": [
        {
          "output_type": "stream",
          "name": "stdout",
          "text": [
            "Tag 'main_ood_final_result' added for training_id '2025-01-31-vinn-1' successfully.\n"
          ]
        },
        {
          "output_type": "execute_result",
          "data": {
            "text/plain": [
              "[Row((['author:npr', 'ViNN', 'rev2', 'main_ood_final_result'],), {'tags': 0})]"
            ]
          },
          "metadata": {},
          "execution_count": 39
        }
      ]
    },
    {
      "cell_type": "code",
      "source": [],
      "metadata": {
        "id": "jkBqn1vMZzfQ"
      },
      "execution_count": null,
      "outputs": []
    }
  ]
}