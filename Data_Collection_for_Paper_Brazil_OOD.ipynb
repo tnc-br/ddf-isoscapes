{
  "nbformat": 4,
  "nbformat_minor": 0,
  "metadata": {
    "colab": {
      "provenance": [],
      "include_colab_link": true
    },
    "kernelspec": {
      "name": "python3",
      "display_name": "Python 3"
    },
    "language_info": {
      "name": "python"
    }
  },
  "cells": [
    {
      "cell_type": "markdown",
      "metadata": {
        "id": "view-in-github",
        "colab_type": "text"
      },
      "source": [
        "<a href=\"https://colab.research.google.com/github/tnc-br/ddf-isoscapes/blob/npr-working/Data_Collection_for_Paper.ipynb\" target=\"_parent\"><img src=\"https://colab.research.google.com/assets/colab-badge.svg\" alt=\"Open In Colab\"/></a>"
      ]
    },
    {
      "cell_type": "markdown",
      "source": [
        "This colab loads all the data in the DDF harness bigquery table and stores it into a dataframe.\n",
        "\n",
        "First, update your bigquery api (you will need to restart the runtime after this step)."
      ],
      "metadata": {
        "id": "efktBzL6Lhvg"
      }
    },
    {
      "cell_type": "code",
      "source": [
        "%pip install --upgrade google-cloud-bigquery"
      ],
      "metadata": {
        "id": "VJEh27jUJoDf",
        "colab": {
          "base_uri": "https://localhost:8080/",
          "height": 706
        },
        "outputId": "5b94f83e-7aa4-46a0-f014-926c1457cc3c"
      },
      "execution_count": 1,
      "outputs": [
        {
          "output_type": "stream",
          "name": "stdout",
          "text": [
            "Requirement already satisfied: google-cloud-bigquery in /usr/local/lib/python3.11/dist-packages (3.25.0)\n",
            "Collecting google-cloud-bigquery\n",
            "  Downloading google_cloud_bigquery-3.27.0-py2.py3-none-any.whl.metadata (8.6 kB)\n",
            "Requirement already satisfied: google-api-core<3.0.0dev,>=2.11.1 in /usr/local/lib/python3.11/dist-packages (from google-api-core[grpc]<3.0.0dev,>=2.11.1->google-cloud-bigquery) (2.19.2)\n",
            "Requirement already satisfied: google-auth<3.0.0dev,>=2.14.1 in /usr/local/lib/python3.11/dist-packages (from google-cloud-bigquery) (2.27.0)\n",
            "Requirement already satisfied: google-cloud-core<3.0.0dev,>=2.4.1 in /usr/local/lib/python3.11/dist-packages (from google-cloud-bigquery) (2.4.1)\n",
            "Requirement already satisfied: google-resumable-media<3.0dev,>=2.0.0 in /usr/local/lib/python3.11/dist-packages (from google-cloud-bigquery) (2.7.2)\n",
            "Requirement already satisfied: packaging>=20.0.0 in /usr/local/lib/python3.11/dist-packages (from google-cloud-bigquery) (24.2)\n",
            "Requirement already satisfied: python-dateutil<3.0dev,>=2.7.3 in /usr/local/lib/python3.11/dist-packages (from google-cloud-bigquery) (2.8.2)\n",
            "Requirement already satisfied: requests<3.0.0dev,>=2.21.0 in /usr/local/lib/python3.11/dist-packages (from google-cloud-bigquery) (2.32.3)\n",
            "Requirement already satisfied: googleapis-common-protos<2.0.dev0,>=1.56.2 in /usr/local/lib/python3.11/dist-packages (from google-api-core<3.0.0dev,>=2.11.1->google-api-core[grpc]<3.0.0dev,>=2.11.1->google-cloud-bigquery) (1.66.0)\n",
            "Requirement already satisfied: protobuf!=3.20.0,!=3.20.1,!=4.21.0,!=4.21.1,!=4.21.2,!=4.21.3,!=4.21.4,!=4.21.5,<6.0.0.dev0,>=3.19.5 in /usr/local/lib/python3.11/dist-packages (from google-api-core<3.0.0dev,>=2.11.1->google-api-core[grpc]<3.0.0dev,>=2.11.1->google-cloud-bigquery) (4.25.5)\n",
            "Requirement already satisfied: proto-plus<2.0.0dev,>=1.22.3 in /usr/local/lib/python3.11/dist-packages (from google-api-core<3.0.0dev,>=2.11.1->google-api-core[grpc]<3.0.0dev,>=2.11.1->google-cloud-bigquery) (1.25.0)\n",
            "Requirement already satisfied: grpcio<2.0dev,>=1.33.2 in /usr/local/lib/python3.11/dist-packages (from google-api-core[grpc]<3.0.0dev,>=2.11.1->google-cloud-bigquery) (1.69.0)\n",
            "Requirement already satisfied: grpcio-status<2.0.dev0,>=1.33.2 in /usr/local/lib/python3.11/dist-packages (from google-api-core[grpc]<3.0.0dev,>=2.11.1->google-cloud-bigquery) (1.62.3)\n",
            "Requirement already satisfied: cachetools<6.0,>=2.0.0 in /usr/local/lib/python3.11/dist-packages (from google-auth<3.0.0dev,>=2.14.1->google-cloud-bigquery) (5.5.0)\n",
            "Requirement already satisfied: pyasn1-modules>=0.2.1 in /usr/local/lib/python3.11/dist-packages (from google-auth<3.0.0dev,>=2.14.1->google-cloud-bigquery) (0.4.1)\n",
            "Requirement already satisfied: rsa<5,>=3.1.4 in /usr/local/lib/python3.11/dist-packages (from google-auth<3.0.0dev,>=2.14.1->google-cloud-bigquery) (4.9)\n",
            "Requirement already satisfied: google-crc32c<2.0dev,>=1.0 in /usr/local/lib/python3.11/dist-packages (from google-resumable-media<3.0dev,>=2.0.0->google-cloud-bigquery) (1.6.0)\n",
            "Requirement already satisfied: six>=1.5 in /usr/local/lib/python3.11/dist-packages (from python-dateutil<3.0dev,>=2.7.3->google-cloud-bigquery) (1.17.0)\n",
            "Requirement already satisfied: charset-normalizer<4,>=2 in /usr/local/lib/python3.11/dist-packages (from requests<3.0.0dev,>=2.21.0->google-cloud-bigquery) (3.4.1)\n",
            "Requirement already satisfied: idna<4,>=2.5 in /usr/local/lib/python3.11/dist-packages (from requests<3.0.0dev,>=2.21.0->google-cloud-bigquery) (3.10)\n",
            "Requirement already satisfied: urllib3<3,>=1.21.1 in /usr/local/lib/python3.11/dist-packages (from requests<3.0.0dev,>=2.21.0->google-cloud-bigquery) (2.3.0)\n",
            "Requirement already satisfied: certifi>=2017.4.17 in /usr/local/lib/python3.11/dist-packages (from requests<3.0.0dev,>=2.21.0->google-cloud-bigquery) (2024.12.14)\n",
            "Requirement already satisfied: pyasn1<0.7.0,>=0.4.6 in /usr/local/lib/python3.11/dist-packages (from pyasn1-modules>=0.2.1->google-auth<3.0.0dev,>=2.14.1->google-cloud-bigquery) (0.6.1)\n",
            "Downloading google_cloud_bigquery-3.27.0-py2.py3-none-any.whl (240 kB)\n",
            "\u001b[2K   \u001b[90m━━━━━━━━━━━━━━━━━━━━━━━━━━━━━━━━━━━━━━━━\u001b[0m \u001b[32m240.1/240.1 kB\u001b[0m \u001b[31m3.8 MB/s\u001b[0m eta \u001b[36m0:00:00\u001b[0m\n",
            "\u001b[?25hInstalling collected packages: google-cloud-bigquery\n",
            "  Attempting uninstall: google-cloud-bigquery\n",
            "    Found existing installation: google-cloud-bigquery 3.25.0\n",
            "    Uninstalling google-cloud-bigquery-3.25.0:\n",
            "      Successfully uninstalled google-cloud-bigquery-3.25.0\n",
            "Successfully installed google-cloud-bigquery-3.27.0\n"
          ]
        },
        {
          "output_type": "display_data",
          "data": {
            "application/vnd.colab-display-data+json": {
              "pip_warning": {
                "packages": [
                  "google"
                ]
              },
              "id": "09e6ff19629a425cb018c18c776ff141"
            }
          },
          "metadata": {}
        }
      ]
    },
    {
      "cell_type": "markdown",
      "source": [
        "### Dependencies"
      ],
      "metadata": {
        "id": "KpppCv4aMNiJ"
      }
    },
    {
      "cell_type": "code",
      "source": [
        "# This stub (ddfimport) allows the Ddf EE API to be imported.\n",
        "import sys\n",
        "!if [ ! -d \"/content/ddf_common_stub\" ] ; then git clone -b test https://github.com/tnc-br/ddf_common_stub.git; fi\n",
        "sys.path.append(\"/content/ddf_common_stub/\")\n",
        "import ddfimport\n",
        "ddfimport.ddf_import_common()"
      ],
      "metadata": {
        "id": "UIY3IQUGJwl5",
        "colab": {
          "base_uri": "https://localhost:8080/"
        },
        "outputId": "d756c42e-a469-48f9-eb92-51d4bcd18d78"
      },
      "execution_count": 1,
      "outputs": [
        {
          "output_type": "stream",
          "name": "stdout",
          "text": [
            "Cloning into 'ddf_common_stub'...\n",
            "remote: Enumerating objects: 18, done.\u001b[K\n",
            "remote: Counting objects: 100% (18/18), done.\u001b[K\n",
            "remote: Compressing objects: 100% (18/18), done.\u001b[K\n",
            "remote: Total 18 (delta 7), reused 0 (delta 0), pack-reused 0 (from 0)\u001b[K\n",
            "Receiving objects: 100% (18/18), 7.36 KiB | 7.36 MiB/s, done.\n",
            "Resolving deltas: 100% (7/7), done.\n",
            "executing checkout_branch ...\n",
            "b''\n",
            "main branch checked out as readonly. You may now use ddf_common imports\n"
          ]
        }
      ]
    },
    {
      "cell_type": "code",
      "source": [
        "import importlib\n",
        "import eeddf\n",
        "import bqddf\n",
        "importlib.reload(eeddf)\n",
        "importlib.reload(bqddf)\n",
        "\n",
        "# Use your credentials to access the BQ tables.\n",
        "eeddf.initialize_ddf(test_environment = True)"
      ],
      "metadata": {
        "id": "DIalBcBuJ3y0"
      },
      "execution_count": 2,
      "outputs": []
    },
    {
      "cell_type": "markdown",
      "source": [
        "### Load the data"
      ],
      "metadata": {
        "id": "-ajDB6hLMSfz"
      }
    },
    {
      "cell_type": "code",
      "source": [
        "def get_all_training_results():\n",
        "  client = bqddf._get_big_query_client()\n",
        "\n",
        "  # Set up SQL query\n",
        "  table_name = f\"{bqddf._CONFIG['DATASET']}.{bqddf._CONFIG['FLATTENED_TABLE']}\"\n",
        "  query = f\"SELECT * FROM {table_name}\"\n",
        "\n",
        "  # Execute the query\n",
        "  results = client.query_and_wait(query)\n",
        "  return results\n",
        "\n",
        "results = get_all_training_results()\n",
        "\n",
        "# Results is iterator based, so you will get an error running this twice!\n",
        "df = results.to_dataframe()\n",
        "\n",
        "import json\n",
        "from typing import Set, Dict, Any\n",
        "import numpy as np\n",
        "import pandas as pd\n",
        "\n",
        "def parse_tags(tags: np.ndarray) -> Set[str]:\n",
        "  return set(tags.tolist())\n",
        "df['tags'] = df['tags'].apply(parse_tags)\n",
        "\n",
        "def find_by_tags(df: pd.DataFrame, tags: Set[str]) -> Dict[str, Any]:\n",
        "  return df[df['tags'].apply(lambda x: all([tag in x for tag in tags]))].squeeze().to_dict()\n",
        "\n",
        "def print_experiment(experiment: Dict[str, Any]) -> None:\n",
        "  print(f\"RMSE (Means): {experiment['mean_rmse']:.3f}\")\n",
        "  print(f\"RMSE (Variances): {experiment['var_rmse']:.3f}\")"
      ],
      "metadata": {
        "id": "IeT-upUZKMyP",
        "colab": {
          "base_uri": "https://localhost:8080/"
        },
        "outputId": "c1ea4674-22fd-4e3e-f2eb-bb98c72c90c5"
      },
      "execution_count": 119,
      "outputs": [
        {
          "output_type": "stream",
          "name": "stderr",
          "text": [
            "/usr/local/lib/python3.11/dist-packages/google/cloud/bigquery/_pandas_helpers.py:208: UserWarning: Unable to determine Arrow type for field 'as_json'.\n",
            "  warnings.warn(\n"
          ]
        }
      ]
    },
    {
      "cell_type": "code",
      "source": [
        "print_experiment(find_by_tags(df, {'author:npr', 'ordinary_kriging', 'all_standardized', 'linear_variogram'}))"
      ],
      "metadata": {
        "colab": {
          "base_uri": "https://localhost:8080/"
        },
        "id": "YVrq1-_VIbL2",
        "outputId": "93546d83-4e86-4b42-987a-280533bd87af"
      },
      "execution_count": 113,
      "outputs": [
        {
          "output_type": "stream",
          "name": "stdout",
          "text": [
            "RMSE (Means): 1.273\n",
            "RMSE (Variances): 1.148\n"
          ]
        }
      ]
    },
    {
      "cell_type": "code",
      "source": [
        "print_experiment(find_by_tags(df, {'author:npr', 'ordinary_kriging', 'all_standardized', 'gaussian_variogram', 'rev2'}))"
      ],
      "metadata": {
        "colab": {
          "base_uri": "https://localhost:8080/"
        },
        "id": "CajoJtC1cDlY",
        "outputId": "4e2a657d-3fda-481f-8ff0-0e15da8cacc3"
      },
      "execution_count": 114,
      "outputs": [
        {
          "output_type": "stream",
          "name": "stdout",
          "text": [
            "RMSE (Means): 1.269\n",
            "RMSE (Variances): 1.190\n"
          ]
        }
      ]
    },
    {
      "cell_type": "code",
      "source": [
        "print_experiment(find_by_tags(df, {'author:npr', 'universal_kriging', 'all_standardized', 'linear_variogram', 'rev2'}))"
      ],
      "metadata": {
        "colab": {
          "base_uri": "https://localhost:8080/"
        },
        "id": "StAAOs5Iifu2",
        "outputId": "03f79d72-e174-418c-b90a-1ed74be18a9d"
      },
      "execution_count": 115,
      "outputs": [
        {
          "output_type": "stream",
          "name": "stdout",
          "text": [
            "RMSE (Means): 1.183\n",
            "RMSE (Variances): 1.157\n"
          ]
        }
      ]
    },
    {
      "cell_type": "code",
      "source": [
        "print_experiment(find_by_tags(df, {'author:npr', 'universal_kriging', 'all_standardized', 'gaussian_variogram', 'rev2'}))"
      ],
      "metadata": {
        "colab": {
          "base_uri": "https://localhost:8080/"
        },
        "id": "qzJ0kfTlcFPs",
        "outputId": "3afadac1-67a5-4510-b037-3c975c9686ba"
      },
      "execution_count": 116,
      "outputs": [
        {
          "output_type": "stream",
          "name": "stdout",
          "text": [
            "RMSE (Means): 1.246\n",
            "RMSE (Variances): 1.247\n"
          ]
        }
      ]
    },
    {
      "cell_type": "code",
      "source": [
        "print_experiment(find_by_tags(df, {'author:npr', \"regression_kriging\", \"all_standardized\", \"rev1\", \"krige_type:universal\", \"variogram:gaussian\", \"n_estimators:100\", \"max_depth:20\", \"regression_strategy:gradientboosting\"}))"
      ],
      "metadata": {
        "colab": {
          "base_uri": "https://localhost:8080/"
        },
        "id": "zxAQ6aZKlRCI",
        "outputId": "315ecbac-f9cc-4370-d3d5-097483656589"
      },
      "execution_count": 117,
      "outputs": [
        {
          "output_type": "stream",
          "name": "stdout",
          "text": [
            "RMSE (Means): 0.639\n",
            "RMSE (Variances): 1.253\n"
          ]
        }
      ]
    },
    {
      "cell_type": "code",
      "source": [
        "print_experiment(find_by_tags(df, {'author:npr', \"regression_kriging\", \"all_standardized\", \"rev1\", \"krige_type:universal\", \"variogram:linear\", \"n_estimators:100\", \"max_depth:20\", \"regression_strategy:gradientboosting\"}))"
      ],
      "metadata": {
        "colab": {
          "base_uri": "https://localhost:8080/"
        },
        "id": "lVR9xyN7sCZB",
        "outputId": "8773238d-aebf-48a2-e05d-e490e8c7e75a"
      },
      "execution_count": 120,
      "outputs": [
        {
          "output_type": "stream",
          "name": "stdout",
          "text": [
            "RMSE (Means): 0.659\n",
            "RMSE (Variances): 1.253\n"
          ]
        }
      ]
    },
    {
      "cell_type": "code",
      "source": [],
      "metadata": {
        "id": "Vjsr6C-ZdWbt"
      },
      "execution_count": null,
      "outputs": []
    }
  ]
}