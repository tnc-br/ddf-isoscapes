{
  "cells": [
    {
      "cell_type": "markdown",
      "metadata": {
        "id": "view-in-github",
        "colab_type": "text"
      },
      "source": [
        "<a href=\"https://colab.research.google.com/github/tnc-br/ddf-isoscapes/blob/npr-working/isoscape_evals.ipynb\" target=\"_parent\"><img src=\"https://colab.research.google.com/assets/colab-badge.svg\" alt=\"Open In Colab\"/></a>"
      ]
    },
    {
      "cell_type": "markdown",
      "metadata": {
        "id": "-0IfT3kGwgK6"
      },
      "source": [
        "# Isoscape Evals\n",
        "\n",
        "Notebook Purpose: Eval isoscape generation methods for our paper\n",
        "\n",
        "Isoscape Task: Find the mean/variance of O18 ratios (as well as N15 and C13 in the future) at a particular lat/lon across Brazil."
      ]
    },
    {
      "cell_type": "markdown",
      "metadata": {
        "id": "7MRzTQkqvRbC"
      },
      "source": [
        "# Setup"
      ]
    },
    {
      "cell_type": "markdown",
      "source": [
        "## Fetch Dependencies"
      ],
      "metadata": {
        "id": "Zkt_fmYJHdkJ"
      }
    },
    {
      "cell_type": "code",
      "source": [
        "!pip install rasterio fiona pykrige mkl-service"
      ],
      "metadata": {
        "colab": {
          "base_uri": "https://localhost:8080/"
        },
        "id": "Bie51sxeGzSR",
        "outputId": "bddd749d-0c78-40ff-f350-e73ee45d4b0e"
      },
      "execution_count": 9,
      "outputs": [
        {
          "output_type": "stream",
          "name": "stdout",
          "text": [
            "Requirement already satisfied: rasterio in /usr/local/lib/python3.10/dist-packages (1.4.3)\n",
            "Requirement already satisfied: fiona in /usr/local/lib/python3.10/dist-packages (1.10.1)\n",
            "Requirement already satisfied: pykrige in /usr/local/lib/python3.10/dist-packages (1.7.2)\n",
            "Requirement already satisfied: mkl-service in /usr/local/lib/python3.10/dist-packages (2.4.2)\n",
            "Requirement already satisfied: affine in /usr/local/lib/python3.10/dist-packages (from rasterio) (2.4.0)\n",
            "Requirement already satisfied: attrs in /usr/local/lib/python3.10/dist-packages (from rasterio) (24.3.0)\n",
            "Requirement already satisfied: certifi in /usr/local/lib/python3.10/dist-packages (from rasterio) (2024.12.14)\n",
            "Requirement already satisfied: click>=4.0 in /usr/local/lib/python3.10/dist-packages (from rasterio) (8.1.8)\n",
            "Requirement already satisfied: cligj>=0.5 in /usr/local/lib/python3.10/dist-packages (from rasterio) (0.7.2)\n",
            "Requirement already satisfied: numpy>=1.24 in /usr/local/lib/python3.10/dist-packages (from rasterio) (1.26.4)\n",
            "Requirement already satisfied: click-plugins in /usr/local/lib/python3.10/dist-packages (from rasterio) (1.1.1)\n",
            "Requirement already satisfied: pyparsing in /usr/local/lib/python3.10/dist-packages (from rasterio) (3.2.1)\n",
            "Requirement already satisfied: scipy<2,>=1.1.0 in /usr/local/lib/python3.10/dist-packages (from pykrige) (1.15.0)\n",
            "Requirement already satisfied: mkl in /usr/local/lib/python3.10/dist-packages (from mkl-service) (2025.0.1)\n",
            "Requirement already satisfied: intel-openmp>=2024 in /usr/local/lib/python3.10/dist-packages (from mkl->mkl-service) (2025.0.4)\n",
            "Requirement already satisfied: tbb==2022.* in /usr/local/lib/python3.10/dist-packages (from mkl->mkl-service) (2022.0.0)\n",
            "Requirement already satisfied: tcmlib==1.* in /usr/local/lib/python3.10/dist-packages (from tbb==2022.*->mkl->mkl-service) (1.2.0)\n",
            "Requirement already satisfied: intel-cmplr-lib-ur==2025.0.4 in /usr/local/lib/python3.10/dist-packages (from intel-openmp>=2024->mkl->mkl-service) (2025.0.4)\n",
            "Requirement already satisfied: umf==0.9.* in /usr/local/lib/python3.10/dist-packages (from intel-cmplr-lib-ur==2025.0.4->intel-openmp>=2024->mkl->mkl-service) (0.9.1)\n"
          ]
        }
      ]
    },
    {
      "cell_type": "markdown",
      "source": [
        "### PyMC3 is not packaged properly. Install that."
      ],
      "metadata": {
        "id": "4M6SFkbBHgoF"
      }
    },
    {
      "cell_type": "code",
      "source": [
        "!git clone https://github.com/pymc-devs/pymc3\n",
        "!cd pymc3 && pip install -r requirements.txt"
      ],
      "metadata": {
        "id": "EzkHGC46GQkb",
        "outputId": "8b9b2e63-4eaf-4a62-d0f6-6e342a2d46c4",
        "colab": {
          "base_uri": "https://localhost:8080/"
        }
      },
      "execution_count": 10,
      "outputs": [
        {
          "output_type": "stream",
          "name": "stdout",
          "text": [
            "fatal: destination path 'pymc3' already exists and is not an empty directory.\n",
            "Requirement already satisfied: arviz>=0.13.0 in /usr/local/lib/python3.10/dist-packages (from -r requirements.txt (line 1)) (0.20.0)\n",
            "Requirement already satisfied: cachetools>=4.2.1 in /usr/local/lib/python3.10/dist-packages (from -r requirements.txt (line 2)) (5.5.0)\n",
            "Requirement already satisfied: cloudpickle in /usr/local/lib/python3.10/dist-packages (from -r requirements.txt (line 3)) (3.1.0)\n",
            "Requirement already satisfied: numpy>=1.25.0 in /usr/local/lib/python3.10/dist-packages (from -r requirements.txt (line 4)) (1.26.4)\n",
            "Requirement already satisfied: pandas>=0.24.0 in /usr/local/lib/python3.10/dist-packages (from -r requirements.txt (line 5)) (2.0.3)\n",
            "Requirement already satisfied: pytensor<2.27,>=2.26.1 in /usr/local/lib/python3.10/dist-packages (from -r requirements.txt (line 6)) (2.26.4)\n",
            "Requirement already satisfied: rich>=13.7.1 in /usr/local/lib/python3.10/dist-packages (from -r requirements.txt (line 7)) (13.9.4)\n",
            "Requirement already satisfied: scipy>=1.4.1 in /usr/local/lib/python3.10/dist-packages (from -r requirements.txt (line 8)) (1.15.0)\n",
            "Requirement already satisfied: threadpoolctl<4.0.0,>=3.1.0 in /usr/local/lib/python3.10/dist-packages (from -r requirements.txt (line 9)) (3.5.0)\n",
            "Requirement already satisfied: typing-extensions>=3.7.4 in /usr/local/lib/python3.10/dist-packages (from -r requirements.txt (line 10)) (4.12.2)\n",
            "Requirement already satisfied: setuptools>=60.0.0 in /usr/local/lib/python3.10/dist-packages (from arviz>=0.13.0->-r requirements.txt (line 1)) (75.1.0)\n",
            "Requirement already satisfied: matplotlib>=3.5 in /usr/local/lib/python3.10/dist-packages (from arviz>=0.13.0->-r requirements.txt (line 1)) (3.8.4)\n",
            "Requirement already satisfied: packaging in /usr/local/lib/python3.10/dist-packages (from arviz>=0.13.0->-r requirements.txt (line 1)) (24.2)\n",
            "Requirement already satisfied: xarray>=2022.6.0 in /usr/local/lib/python3.10/dist-packages (from arviz>=0.13.0->-r requirements.txt (line 1)) (2023.12.0)\n",
            "Requirement already satisfied: h5netcdf>=1.0.2 in /usr/local/lib/python3.10/dist-packages (from arviz>=0.13.0->-r requirements.txt (line 1)) (1.4.1)\n",
            "Requirement already satisfied: xarray-einstats>=0.3 in /usr/local/lib/python3.10/dist-packages (from arviz>=0.13.0->-r requirements.txt (line 1)) (0.6.0)\n",
            "Requirement already satisfied: python-dateutil>=2.8.2 in /usr/local/lib/python3.10/dist-packages (from pandas>=0.24.0->-r requirements.txt (line 5)) (2.8.2)\n",
            "Requirement already satisfied: pytz>=2020.1 in /usr/local/lib/python3.10/dist-packages (from pandas>=0.24.0->-r requirements.txt (line 5)) (2024.2)\n",
            "Requirement already satisfied: tzdata>=2022.1 in /usr/local/lib/python3.10/dist-packages (from pandas>=0.24.0->-r requirements.txt (line 5)) (2024.2)\n",
            "Requirement already satisfied: filelock>=3.15 in /usr/local/lib/python3.10/dist-packages (from pytensor<2.27,>=2.26.1->-r requirements.txt (line 6)) (3.16.1)\n",
            "Requirement already satisfied: etuples in /usr/local/lib/python3.10/dist-packages (from pytensor<2.27,>=2.26.1->-r requirements.txt (line 6)) (0.3.9)\n",
            "Requirement already satisfied: logical-unification in /usr/local/lib/python3.10/dist-packages (from pytensor<2.27,>=2.26.1->-r requirements.txt (line 6)) (0.4.6)\n",
            "Requirement already satisfied: miniKanren in /usr/local/lib/python3.10/dist-packages (from pytensor<2.27,>=2.26.1->-r requirements.txt (line 6)) (1.0.3)\n",
            "Requirement already satisfied: cons in /usr/local/lib/python3.10/dist-packages (from pytensor<2.27,>=2.26.1->-r requirements.txt (line 6)) (0.4.6)\n",
            "Requirement already satisfied: markdown-it-py>=2.2.0 in /usr/local/lib/python3.10/dist-packages (from rich>=13.7.1->-r requirements.txt (line 7)) (3.0.0)\n",
            "Requirement already satisfied: pygments<3.0.0,>=2.13.0 in /usr/local/lib/python3.10/dist-packages (from rich>=13.7.1->-r requirements.txt (line 7)) (2.18.0)\n",
            "Requirement already satisfied: h5py in /usr/local/lib/python3.10/dist-packages (from h5netcdf>=1.0.2->arviz>=0.13.0->-r requirements.txt (line 1)) (3.12.1)\n",
            "Requirement already satisfied: mdurl~=0.1 in /usr/local/lib/python3.10/dist-packages (from markdown-it-py>=2.2.0->rich>=13.7.1->-r requirements.txt (line 7)) (0.1.2)\n",
            "Requirement already satisfied: contourpy>=1.0.1 in /usr/local/lib/python3.10/dist-packages (from matplotlib>=3.5->arviz>=0.13.0->-r requirements.txt (line 1)) (1.2.1)\n",
            "Requirement already satisfied: cycler>=0.10 in /usr/local/lib/python3.10/dist-packages (from matplotlib>=3.5->arviz>=0.13.0->-r requirements.txt (line 1)) (0.12.1)\n",
            "Requirement already satisfied: fonttools>=4.22.0 in /usr/local/lib/python3.10/dist-packages (from matplotlib>=3.5->arviz>=0.13.0->-r requirements.txt (line 1)) (4.55.3)\n",
            "Requirement already satisfied: kiwisolver>=1.3.1 in /usr/local/lib/python3.10/dist-packages (from matplotlib>=3.5->arviz>=0.13.0->-r requirements.txt (line 1)) (1.4.8)\n",
            "Requirement already satisfied: pillow>=8 in /usr/local/lib/python3.10/dist-packages (from matplotlib>=3.5->arviz>=0.13.0->-r requirements.txt (line 1)) (11.1.0)\n",
            "Requirement already satisfied: pyparsing>=2.3.1 in /usr/local/lib/python3.10/dist-packages (from matplotlib>=3.5->arviz>=0.13.0->-r requirements.txt (line 1)) (3.2.1)\n",
            "Requirement already satisfied: six>=1.5 in /usr/local/lib/python3.10/dist-packages (from python-dateutil>=2.8.2->pandas>=0.24.0->-r requirements.txt (line 5)) (1.17.0)\n",
            "Requirement already satisfied: toolz in /usr/local/lib/python3.10/dist-packages (from logical-unification->pytensor<2.27,>=2.26.1->-r requirements.txt (line 6)) (0.12.1)\n",
            "Requirement already satisfied: multipledispatch in /usr/local/lib/python3.10/dist-packages (from logical-unification->pytensor<2.27,>=2.26.1->-r requirements.txt (line 6)) (1.0.0)\n"
          ]
        }
      ]
    },
    {
      "cell_type": "code",
      "source": [
        "pip install git+https://github.com/pymc-devs/pymc3"
      ],
      "metadata": {
        "id": "S7DefsgdHOv-",
        "outputId": "9c18596a-c6f4-4a9e-eaf8-3623e3e9a2d5",
        "colab": {
          "base_uri": "https://localhost:8080/"
        }
      },
      "execution_count": 12,
      "outputs": [
        {
          "output_type": "stream",
          "name": "stdout",
          "text": [
            "Collecting git+https://github.com/pymc-devs/pymc3\n",
            "  Cloning https://github.com/pymc-devs/pymc3 to /tmp/pip-req-build-4xsmfokv\n",
            "  Running command git clone --filter=blob:none --quiet https://github.com/pymc-devs/pymc3 /tmp/pip-req-build-4xsmfokv\n",
            "  Resolved https://github.com/pymc-devs/pymc3 to commit 671d7047ab580b6d94b6234450a47da701dcb51a\n",
            "  Installing build dependencies ... \u001b[?25l\u001b[?25hdone\n",
            "  Getting requirements to build wheel ... \u001b[?25l\u001b[?25hdone\n",
            "  Preparing metadata (pyproject.toml) ... \u001b[?25l\u001b[?25hdone\n",
            "Requirement already satisfied: arviz>=0.13.0 in /usr/local/lib/python3.10/dist-packages (from pymc==5.20.0+9.g671d7047) (0.20.0)\n",
            "Requirement already satisfied: cachetools>=4.2.1 in /usr/local/lib/python3.10/dist-packages (from pymc==5.20.0+9.g671d7047) (5.5.0)\n",
            "Requirement already satisfied: cloudpickle in /usr/local/lib/python3.10/dist-packages (from pymc==5.20.0+9.g671d7047) (3.1.0)\n",
            "Requirement already satisfied: numpy>=1.25.0 in /usr/local/lib/python3.10/dist-packages (from pymc==5.20.0+9.g671d7047) (1.26.4)\n",
            "Requirement already satisfied: pandas>=0.24.0 in /usr/local/lib/python3.10/dist-packages (from pymc==5.20.0+9.g671d7047) (2.0.3)\n",
            "Requirement already satisfied: pytensor<2.27,>=2.26.1 in /usr/local/lib/python3.10/dist-packages (from pymc==5.20.0+9.g671d7047) (2.26.4)\n",
            "Requirement already satisfied: rich>=13.7.1 in /usr/local/lib/python3.10/dist-packages (from pymc==5.20.0+9.g671d7047) (13.9.4)\n",
            "Requirement already satisfied: scipy>=1.4.1 in /usr/local/lib/python3.10/dist-packages (from pymc==5.20.0+9.g671d7047) (1.15.0)\n",
            "Requirement already satisfied: threadpoolctl<4.0.0,>=3.1.0 in /usr/local/lib/python3.10/dist-packages (from pymc==5.20.0+9.g671d7047) (3.5.0)\n",
            "Requirement already satisfied: typing-extensions>=3.7.4 in /usr/local/lib/python3.10/dist-packages (from pymc==5.20.0+9.g671d7047) (4.12.2)\n",
            "Requirement already satisfied: setuptools>=60.0.0 in /usr/local/lib/python3.10/dist-packages (from arviz>=0.13.0->pymc==5.20.0+9.g671d7047) (75.1.0)\n",
            "Requirement already satisfied: matplotlib>=3.5 in /usr/local/lib/python3.10/dist-packages (from arviz>=0.13.0->pymc==5.20.0+9.g671d7047) (3.8.4)\n",
            "Requirement already satisfied: packaging in /usr/local/lib/python3.10/dist-packages (from arviz>=0.13.0->pymc==5.20.0+9.g671d7047) (24.2)\n",
            "Requirement already satisfied: xarray>=2022.6.0 in /usr/local/lib/python3.10/dist-packages (from arviz>=0.13.0->pymc==5.20.0+9.g671d7047) (2023.12.0)\n",
            "Requirement already satisfied: h5netcdf>=1.0.2 in /usr/local/lib/python3.10/dist-packages (from arviz>=0.13.0->pymc==5.20.0+9.g671d7047) (1.4.1)\n",
            "Requirement already satisfied: xarray-einstats>=0.3 in /usr/local/lib/python3.10/dist-packages (from arviz>=0.13.0->pymc==5.20.0+9.g671d7047) (0.6.0)\n",
            "Requirement already satisfied: python-dateutil>=2.8.2 in /usr/local/lib/python3.10/dist-packages (from pandas>=0.24.0->pymc==5.20.0+9.g671d7047) (2.8.2)\n",
            "Requirement already satisfied: pytz>=2020.1 in /usr/local/lib/python3.10/dist-packages (from pandas>=0.24.0->pymc==5.20.0+9.g671d7047) (2024.2)\n",
            "Requirement already satisfied: tzdata>=2022.1 in /usr/local/lib/python3.10/dist-packages (from pandas>=0.24.0->pymc==5.20.0+9.g671d7047) (2024.2)\n",
            "Requirement already satisfied: filelock>=3.15 in /usr/local/lib/python3.10/dist-packages (from pytensor<2.27,>=2.26.1->pymc==5.20.0+9.g671d7047) (3.16.1)\n",
            "Requirement already satisfied: etuples in /usr/local/lib/python3.10/dist-packages (from pytensor<2.27,>=2.26.1->pymc==5.20.0+9.g671d7047) (0.3.9)\n",
            "Requirement already satisfied: logical-unification in /usr/local/lib/python3.10/dist-packages (from pytensor<2.27,>=2.26.1->pymc==5.20.0+9.g671d7047) (0.4.6)\n",
            "Requirement already satisfied: miniKanren in /usr/local/lib/python3.10/dist-packages (from pytensor<2.27,>=2.26.1->pymc==5.20.0+9.g671d7047) (1.0.3)\n",
            "Requirement already satisfied: cons in /usr/local/lib/python3.10/dist-packages (from pytensor<2.27,>=2.26.1->pymc==5.20.0+9.g671d7047) (0.4.6)\n",
            "Requirement already satisfied: markdown-it-py>=2.2.0 in /usr/local/lib/python3.10/dist-packages (from rich>=13.7.1->pymc==5.20.0+9.g671d7047) (3.0.0)\n",
            "Requirement already satisfied: pygments<3.0.0,>=2.13.0 in /usr/local/lib/python3.10/dist-packages (from rich>=13.7.1->pymc==5.20.0+9.g671d7047) (2.18.0)\n",
            "Requirement already satisfied: h5py in /usr/local/lib/python3.10/dist-packages (from h5netcdf>=1.0.2->arviz>=0.13.0->pymc==5.20.0+9.g671d7047) (3.12.1)\n",
            "Requirement already satisfied: mdurl~=0.1 in /usr/local/lib/python3.10/dist-packages (from markdown-it-py>=2.2.0->rich>=13.7.1->pymc==5.20.0+9.g671d7047) (0.1.2)\n",
            "Requirement already satisfied: contourpy>=1.0.1 in /usr/local/lib/python3.10/dist-packages (from matplotlib>=3.5->arviz>=0.13.0->pymc==5.20.0+9.g671d7047) (1.2.1)\n",
            "Requirement already satisfied: cycler>=0.10 in /usr/local/lib/python3.10/dist-packages (from matplotlib>=3.5->arviz>=0.13.0->pymc==5.20.0+9.g671d7047) (0.12.1)\n",
            "Requirement already satisfied: fonttools>=4.22.0 in /usr/local/lib/python3.10/dist-packages (from matplotlib>=3.5->arviz>=0.13.0->pymc==5.20.0+9.g671d7047) (4.55.3)\n",
            "Requirement already satisfied: kiwisolver>=1.3.1 in /usr/local/lib/python3.10/dist-packages (from matplotlib>=3.5->arviz>=0.13.0->pymc==5.20.0+9.g671d7047) (1.4.8)\n",
            "Requirement already satisfied: pillow>=8 in /usr/local/lib/python3.10/dist-packages (from matplotlib>=3.5->arviz>=0.13.0->pymc==5.20.0+9.g671d7047) (11.1.0)\n",
            "Requirement already satisfied: pyparsing>=2.3.1 in /usr/local/lib/python3.10/dist-packages (from matplotlib>=3.5->arviz>=0.13.0->pymc==5.20.0+9.g671d7047) (3.2.1)\n",
            "Requirement already satisfied: six>=1.5 in /usr/local/lib/python3.10/dist-packages (from python-dateutil>=2.8.2->pandas>=0.24.0->pymc==5.20.0+9.g671d7047) (1.17.0)\n",
            "Requirement already satisfied: toolz in /usr/local/lib/python3.10/dist-packages (from logical-unification->pytensor<2.27,>=2.26.1->pymc==5.20.0+9.g671d7047) (0.12.1)\n",
            "Requirement already satisfied: multipledispatch in /usr/local/lib/python3.10/dist-packages (from logical-unification->pytensor<2.27,>=2.26.1->pymc==5.20.0+9.g671d7047) (1.0.0)\n",
            "Building wheels for collected packages: pymc\n",
            "  Building wheel for pymc (pyproject.toml) ... \u001b[?25l\u001b[?25hdone\n",
            "  Created wheel for pymc: filename=pymc-5.20.0+9.g671d7047-py3-none-any.whl size=513830 sha256=df41ed5a88cabb0e42b8214d5768a72f756ce6a8dc4ef10590a06ab30eb06fb1\n",
            "  Stored in directory: /tmp/pip-ephem-wheel-cache-sgamn95v/wheels/8c/d8/29/77e57b2ebef2e5fda1d7ff5626ed875b82eab9d728874e131a\n",
            "Successfully built pymc\n",
            "Installing collected packages: pymc\n",
            "  Attempting uninstall: pymc\n",
            "    Found existing installation: pymc 5.19.1\n",
            "    Uninstalling pymc-5.19.1:\n",
            "      Successfully uninstalled pymc-5.19.1\n",
            "Successfully installed pymc-5.20.0+9.g671d7047\n"
          ]
        }
      ]
    },
    {
      "cell_type": "markdown",
      "source": [
        "## Import libraries required"
      ],
      "metadata": {
        "id": "8w6dqZPnHshU"
      }
    },
    {
      "cell_type": "code",
      "source": [
        "import importlib\n",
        "from datetime import datetime\n",
        "import sys\n",
        "import os"
      ],
      "metadata": {
        "id": "7gWPZO-5kOQV"
      },
      "execution_count": 1,
      "outputs": []
    },
    {
      "cell_type": "code",
      "execution_count": 2,
      "metadata": {
        "id": "AXh86HFwXiax",
        "outputId": "b90e00f7-8640-4d4f-9e9c-0919cd34d690",
        "colab": {
          "base_uri": "https://localhost:8080/"
        }
      },
      "outputs": [
        {
          "output_type": "stream",
          "name": "stdout",
          "text": [
            "Cloning into 'ddf_common_stub'...\n",
            "remote: Enumerating objects: 18, done.\u001b[K\n",
            "remote: Counting objects: 100% (18/18), done.\u001b[K\n",
            "remote: Compressing objects: 100% (18/18), done.\u001b[K\n",
            "remote: Total 18 (delta 7), reused 0 (delta 0), pack-reused 0 (from 0)\u001b[K\n",
            "Receiving objects: 100% (18/18), 7.36 KiB | 1.84 MiB/s, done.\n",
            "Resolving deltas: 100% (7/7), done.\n",
            "executing checkout_branch ...\n",
            "b''\n",
            "main branch checked out as readonly. You may now use ddf_common imports\n"
          ]
        }
      ],
      "source": [
        "!if [ ! -d \"/content/ddf_common_stub\" ] ; then git clone -b test https://github.com/tnc-br/ddf_common_stub.git; fi\n",
        "sys.path.append(\"/content/ddf_common_stub/\")\n",
        "import ddfimport\n",
        "ddfimport.ddf_import_common()"
      ]
    },
    {
      "cell_type": "code",
      "execution_count": null,
      "metadata": {
        "id": "0mUB0y0AXivp",
        "colab": {
          "base_uri": "https://localhost:8080/"
        },
        "outputId": "528a9ed2-d190-4baf-94b8-c573ffe02540"
      },
      "outputs": [
        {
          "output_type": "stream",
          "name": "stdout",
          "text": [
            "Drive already mounted at /content/gdrive; to attempt to forcibly remount, call drive.mount(\"/content/gdrive\", force_remount=True).\n"
          ]
        },
        {
          "output_type": "stream",
          "name": "stderr",
          "text": [
            "*** Earth Engine *** Share your feedback by taking our Annual Developer Satisfaction Survey: https://google.qualtrics.com/jfe/form/SV_0JLhFqfSY1uiEaW?source=Init\n"
          ]
        }
      ],
      "source": [
        "import train_variational_inference_model as tvim\n",
        "import raster\n",
        "import eeddf\n",
        "import dataset\n",
        "import fiona\n",
        "import rasterio.mask\n",
        "import matplotlib.pyplot as plt\n",
        "from google.colab import drive\n",
        "drive.mount(raster.GDRIVE_BASE)\n",
        "\n",
        "# Leave test_environment=True. Experiments must be done in test.\n",
        "eeddf.initialize_ddf(test_environment=True)"
      ]
    },
    {
      "cell_type": "markdown",
      "source": [
        "# Data configuration"
      ],
      "metadata": {
        "id": "iE_d9R8LovE6"
      }
    },
    {
      "cell_type": "code",
      "source": [
        "# REQUIREMENTS:\n",
        "\n",
        "# 1) Column names must match features_to_standardize, features_to_passthrough\n",
        "# 2) Label columns in particular must match var_label and mean_label.\n",
        "#\n",
        "# If you used the data ingestion notebook (ingestion.ipynb) then this\n",
        "# should be set up for you already.\n",
        "\n",
        "# TRAINING FILE PARAMS\n",
        "DATABASE_DIR = raster.GDRIVE_BASE + raster.SAMPLE_DATA_BASE\n",
        "TRAINING_SET_FILE = 'demo_train_fixed_grouped.csv' #@param\n",
        "VALIDATION_SET_FILE = 'demo_validation_fixed_grouped.csv' #@param\n",
        "TEST_SET_FILE = 'demo_test_fixed_grouped.csv' #@param\n",
        "\n",
        "# EVAL FILE PARAMS\n",
        "EVAL_DATASET = 'demo_test_fixed_grouped.csv' #@param\n",
        "ORIGINAL_DATASET = '2023_06_23_Results_Google.csv' #@param\n",
        "\n",
        "fileset = {\n",
        "    'TRAIN' : os.path.join(DATABASE_DIR, TRAINING_SET_FILE),\n",
        "    'TEST' : os.path.join(DATABASE_DIR, VALIDATION_SET_FILE),\n",
        "    'VALIDATION' : os.path.join(DATABASE_DIR, TEST_SET_FILE),\n",
        "    'EVAL' : os.path.join(DATABASE_DIR, EVAL_DATASET),\n",
        "    'ORIGINAL' : os.path.join(DATABASE_DIR, ORIGINAL_DATASET)\n",
        "}\n",
        "\n",
        "def prepare_dataset(params: tvim.VIModelTrainingParams, files: dict) -> dataset.ScaledPartitions:\n",
        "  # Prepared columns not in the original input-- these are engineered features\n",
        "  # that we believe include strong signals, stored as geotiffs\n",
        "  potentially_extra_columns = [\n",
        "      \"brisoscape_mean_ISORIX\",\n",
        "      \"d13C_cel_mean\",\n",
        "      \"d13C_cel_var\",\n",
        "      \"ordinary_kriging_linear_d18O_predicted_mean\",\n",
        "      \"ordinary_kriging_linear_d18O_predicted_variance\",\n",
        "  ]\n",
        "\n",
        "  #Load the geotiff it the params request it.\n",
        "  extra_columns_from_geotiffs = {}\n",
        "  for feature in params.features_to_passthrough + params.features_to_standardize:\n",
        "      if feature in potentially_extra_columns:\n",
        "          extra_columns_from_geotiffs[feature] = raster.column_name_to_geotiff_fn[feature]()\n",
        "\n",
        "  return dataset.load_and_scale(\n",
        "      files,\n",
        "      params.mean_label,\n",
        "      params.var_label,\n",
        "      params.features_to_passthrough,\n",
        "      [],\n",
        "      params.features_to_standardize,\n",
        "      extra_columns_from_geotiffs)\n",
        "\n",
        "with fiona.open('zip:///content/gdrive/MyDrive/amazon_rainforest_files/shapefiles/bra_adm_ibge_2020_shp.zip') as shp:\n",
        "  BRAZIL_SHP_MASK = [feature[\"geometry\"] for feature in shp]\n",
        "\n",
        "with fiona.open('zip:///content/gdrive/MyDrive/amazon_rainforest_files/shapefiles/Amazon Biome.zip/data/commondata/data0') as shp:\n",
        "  AMAZON_SHP_MASK = [feature[\"geometry\"] for feature in shp]\n",
        "\n",
        "# Load these lazily later from the first generated isoscapes\n",
        "\n",
        "def display_brazil(band_index: int):\n",
        "  with rasterio.open(ISOSCAPE_SAVE_LOCATION) as src:\n",
        "    raster_data = src.read(band_index+1)  # Read the first band\n",
        "    out_image, out_transform = rasterio.mask.mask(src, BRAZIL_SHP_MASK, crop=False)\n",
        "    out_meta = src.meta\n",
        "    brazil_np_mask = np.logical_not(out_image.astype(bool))\n",
        "\n",
        "  geotiff = raster.load_raster(ISOSCAPE_SAVE_LOCATION, use_only_band_index=band_index)\n",
        "  fig = plt.figure( figsize=(8,8) )\n",
        "  extent = raster.get_extent(geotiff.gdal_dataset).to_matplotlib()\n",
        "  ax = fig.add_subplot()\n",
        "  to_show = np.ma.MaskedArray(geotiff.yearly_masked_image.data, brazil_np_mask[0])\n",
        "  im = fig.axes[0].imshow(to_show, interpolation='none', aspect='auto', extent = extent)\n",
        "  plt.colorbar(im)\n",
        "\n",
        "def display_amazon(band_index: int):\n",
        "  with rasterio.open(ISOSCAPE_SAVE_LOCATION) as src:\n",
        "    raster_data = src.read(band_index+1)  # Read the first band\n",
        "    out_image, out_transform = rasterio.mask.mask(src, AMAZON_SHP_MASK, crop=False)\n",
        "    out_meta = src.meta\n",
        "    amazon_np_mask = np.logical_not(out_image.astype(bool))\n",
        "\n",
        "  geotiff = raster.load_raster(ISOSCAPE_SAVE_LOCATION, use_only_band_index=band_index)\n",
        "  fig = plt.figure( figsize=(8,8) )\n",
        "  extent = raster.get_extent(geotiff.gdal_dataset).to_matplotlib()\n",
        "  ax = fig.add_subplot()\n",
        "  to_show = np.ma.MaskedArray(geotiff.yearly_masked_image.data, amazon_np_mask[0])\n",
        "  im = fig.axes[0].imshow(to_show, interpolation='none', aspect='auto', extent = extent)\n",
        "  plt.colorbar(im)"
      ],
      "metadata": {
        "id": "yAME-bIdmgdb"
      },
      "execution_count": null,
      "outputs": []
    },
    {
      "cell_type": "markdown",
      "source": [
        "# Non-VI Models"
      ],
      "metadata": {
        "id": "y3WdjCgM7tjf"
      }
    },
    {
      "cell_type": "markdown",
      "source": [
        "## Ordinary Kriging\n",
        "\n",
        "Based on https://geostat-framework.readthedocs.io/projects/pykrige/en/stable/examples/00_ordinary.html"
      ],
      "metadata": {
        "id": "ZyKNtotz7xb9"
      }
    },
    {
      "cell_type": "code",
      "source": [
        "!pip install pykrige"
      ],
      "metadata": {
        "id": "idzVc_TUVtvd",
        "outputId": "affa8767-8b92-463d-8269-a68b3fb29a15",
        "colab": {
          "base_uri": "https://localhost:8080/"
        }
      },
      "execution_count": null,
      "outputs": [
        {
          "output_type": "stream",
          "name": "stdout",
          "text": [
            "Collecting pykrige\n",
            "  Downloading PyKrige-1.7.2-cp310-cp310-manylinux_2_17_x86_64.manylinux2014_x86_64.whl.metadata (8.1 kB)\n",
            "Requirement already satisfied: numpy>=1.20.0 in /usr/local/lib/python3.10/dist-packages (from pykrige) (1.26.4)\n",
            "Requirement already satisfied: scipy<2,>=1.1.0 in /usr/local/lib/python3.10/dist-packages (from pykrige) (1.13.1)\n",
            "Downloading PyKrige-1.7.2-cp310-cp310-manylinux_2_17_x86_64.manylinux2014_x86_64.whl (909 kB)\n",
            "\u001b[2K   \u001b[90m━━━━━━━━━━━━━━━━━━━━━━━━━━━━━━━━━━━━━━━━\u001b[0m \u001b[32m909.7/909.7 kB\u001b[0m \u001b[31m8.7 MB/s\u001b[0m eta \u001b[36m0:00:00\u001b[0m\n",
            "\u001b[?25hInstalling collected packages: pykrige\n",
            "Successfully installed pykrige-1.7.2\n"
          ]
        }
      ]
    },
    {
      "cell_type": "code",
      "source": [
        "import pykrige.kriging_tools as kt\n",
        "from pykrige.ok import OrdinaryKriging"
      ],
      "metadata": {
        "id": "_aqcbmtBVsdx"
      },
      "execution_count": null,
      "outputs": []
    },
    {
      "cell_type": "code",
      "source": [
        "params = tvim.VIModelTrainingParams(\n",
        "    training_id = \"test-okrige-2024-10-25-1\", #@param\n",
        "    num_epochs = -1,\n",
        "    num_layers = -1,\n",
        "    num_nodes_per_layer = -1,\n",
        "    training_batch_size = -1,\n",
        "    learning_rate = -1,\n",
        "    mean_label = \"d18O_cel_mean\", #@param\n",
        "    var_label = \"d18O_cel_variance\", #@param\n",
        "    early_stopping_patience = -1,\n",
        "    double_sided_kl = False,\n",
        "    kl_num_samples_from_pred_dist = 1,\n",
        "    dropout_rate = -1,\n",
        "    activation_func = \"\",\n",
        "    features_to_standardize = ['lat', 'long', 'VPD', 'RH', 'PET', 'DEM', 'PA', 'Mean Annual Temperature', 'Mean Annual Precipitation', 'Iso_Oxi_Stack_mean_TERZER', 'isoscape_fullmodel_d18O_prec_REGRESSION', 'brisoscape_mean_ISORIX', 'd13C_cel_mean', 'd13C_cel_var', 'ordinary_kriging_linear_d18O_predicted_mean', 'ordinary_kriging_linear_d18O_predicted_variance'], #@param\n",
        "    features_to_passthrough = [], #@param\n",
        "    resolution_x = 1024, #@param\n",
        "    resolution_y = 1024, #@param\n",
        "    tags = [\"author:npr\", \"ordinary_kriging\", \"all_standardized\", \"linear_variogram\"], #@param\n",
        ")\n",
        "eval_params = tvim.VIModelEvalParams(\n",
        "    samples_per_location = 5, #@param\n",
        "    precision_target = 0.95, #@param\n",
        "    recall_target = 0.95, #@param\n",
        "    start_max_fraud_radius= 6, #@param\n",
        "    end_max_fraud_radius = 3000, #@param\n",
        "    radius_pace = 100, #@param\n",
        "    trusted_buffer_radius = 5, #@param\n",
        "    elements_to_eval = ['d18O_cel'], #@param\n",
        ")\n",
        "\n",
        "\n",
        "MODEL_SAVE_LOCATION = os.path.join(raster.GDRIVE_BASE, raster.MODEL_BASE, params.training_id + \".keras\")\n",
        "ISOSCAPE_SAVE_LOCATION = raster.get_raster_path(params.training_id+\".tiff\")\n"
      ],
      "metadata": {
        "id": "f9ZMI678IYJh"
      },
      "execution_count": null,
      "outputs": []
    },
    {
      "cell_type": "code",
      "source": [
        "data = prepare_dataset(params, fileset)"
      ],
      "metadata": {
        "colab": {
          "base_uri": "https://localhost:8080/"
        },
        "id": "f1mqcx-vEMrR",
        "outputId": "a16ba137-a4ae-4f4c-d5b9-c80fa13e7e2b"
      },
      "execution_count": null,
      "outputs": [
        {
          "output_type": "stream",
          "name": "stdout",
          "text": [
            "Driver: GTiff/GeoTIFF\n",
            "Size is 541 x 467 x 1\n",
            "Projection is GEOGCS[\"WGS 84\",DATUM[\"WGS_1984\",SPHEROID[\"WGS 84\",6378137,298.257223563,AUTHORITY[\"EPSG\",\"7030\"]],AUTHORITY[\"EPSG\",\"6326\"]],PRIMEM[\"Greenwich\",0,AUTHORITY[\"EPSG\",\"8901\"]],UNIT[\"degree\",0.0174532925199433,AUTHORITY[\"EPSG\",\"9122\"]],AXIS[\"Latitude\",NORTH],AXIS[\"Longitude\",EAST],AUTHORITY[\"EPSG\",\"4326\"]]\n",
            "Origin = (-73.922043, 5.233124)\n",
            "Pixel Size = (0.08333, -0.08333)\n",
            "Driver: GTiff/GeoTIFF\n",
            "Size is 235 x 218 x 1\n",
            "Projection is GEOGCS[\"WGS 84\",DATUM[\"WGS_1984\",SPHEROID[\"WGS 84\",6378137,298.257223563,AUTHORITY[\"EPSG\",\"7030\"]],AUTHORITY[\"EPSG\",\"6326\"]],PRIMEM[\"Greenwich\",0,AUTHORITY[\"EPSG\",\"8901\"]],UNIT[\"degree\",0.0174532925199433,AUTHORITY[\"EPSG\",\"9122\"]],AXIS[\"Latitude\",NORTH],AXIS[\"Longitude\",EAST],AUTHORITY[\"EPSG\",\"4326\"]]\n",
            "Origin = (-74.0, 4.5)\n",
            "Pixel Size = (0.16666668085106384, -0.1666666513761468)\n",
            "Driver: GTiff/GeoTIFF\n",
            "Size is 235 x 218 x 1\n",
            "Projection is GEOGCS[\"WGS 84\",DATUM[\"WGS_1984\",SPHEROID[\"WGS 84\",6378137,298.257223563,AUTHORITY[\"EPSG\",\"7030\"]],AUTHORITY[\"EPSG\",\"6326\"]],PRIMEM[\"Greenwich\",0,AUTHORITY[\"EPSG\",\"8901\"]],UNIT[\"degree\",0.0174532925199433,AUTHORITY[\"EPSG\",\"9122\"]],AXIS[\"Latitude\",NORTH],AXIS[\"Longitude\",EAST],AUTHORITY[\"EPSG\",\"4326\"]]\n",
            "Origin = (-74.0, 4.5)\n",
            "Pixel Size = (0.16666668085106384, -0.1666666513761468)\n",
            "Driver: GTiff/GeoTIFF\n",
            "Size is 235 x 234 x 1\n",
            "Projection is GEOGCS[\"WGS 84\",DATUM[\"WGS_1984\",SPHEROID[\"WGS 84\",6378137,298.257223563,AUTHORITY[\"EPSG\",\"7030\"]],AUTHORITY[\"EPSG\",\"6326\"]],PRIMEM[\"Greenwich\",0,AUTHORITY[\"EPSG\",\"8901\"]],UNIT[\"degree\",0.0174532925199433,AUTHORITY[\"EPSG\",\"9122\"]],AXIS[\"Latitude\",NORTH],AXIS[\"Longitude\",EAST],AUTHORITY[\"EPSG\",\"4326\"]]\n",
            "Origin = (-74.0, 5.333333333999995)\n",
            "Pixel Size = (0.16666666666808508, -0.16666666666808505)\n",
            "Driver: GTiff/GeoTIFF\n",
            "Size is 235 x 234 x 1\n",
            "Projection is GEOGCS[\"WGS 84\",DATUM[\"WGS_1984\",SPHEROID[\"WGS 84\",6378137,298.257223563,AUTHORITY[\"EPSG\",\"7030\"]],AUTHORITY[\"EPSG\",\"6326\"]],PRIMEM[\"Greenwich\",0,AUTHORITY[\"EPSG\",\"8901\"]],UNIT[\"degree\",0.0174532925199433,AUTHORITY[\"EPSG\",\"9122\"]],AXIS[\"Latitude\",NORTH],AXIS[\"Longitude\",EAST],AUTHORITY[\"EPSG\",\"4326\"]]\n",
            "Origin = (-74.0, 5.333333333999995)\n",
            "Pixel Size = (0.16666666666808508, -0.16666666666808505)\n"
          ]
        }
      ]
    },
    {
      "cell_type": "code",
      "source": [
        "import pandas as pd\n",
        "import numpy as np\n",
        "import raster\n",
        "import generate_isoscape\n",
        "from sklearn.metrics import mean_squared_error\n",
        "\n",
        "raw_train = pd.read_csv(fileset['TRAIN'])"
      ],
      "metadata": {
        "id": "Rz7Y6KZkc7XI"
      },
      "execution_count": null,
      "outputs": []
    },
    {
      "cell_type": "code",
      "source": [
        "def run_ordinary_kriging(**kwargs):\n",
        "  # Not enough data to properly fit a Gaussian variogram\n",
        "  ok = OrdinaryKriging(data.train.X['lat'], data.train.X['long'], data.train.Y['d18O_cel_mean'], **kwargs)\n",
        "\n",
        "  min_long = min(data.train.X['long'])\n",
        "  max_long = max(data.train.X['long'])\n",
        "  min_lat = min(data.train.X['lat'])\n",
        "  max_lat = max(data.train.X['lat'])\n",
        "\n",
        "  # Predict the isotope values on the range of lattitude and longitude values\n",
        "  # within the bounds of our VPD geotiff (should be Brazil-shaped), then save\n",
        "  # for qualitative eval / display\n",
        "  isoscape_long_values =  np.linspace(min_long, max_long, params.resolution_x)\n",
        "  isoscape_lat_values = np.linspace(min_lat, max_lat, params.resolution_y)\n",
        "\n",
        "  means, variances  = ok.execute(\"grid\", isoscape_long_values,\n",
        "                                  isoscape_lat_values)\n",
        "  ok.print_statistics()\n",
        "\n",
        "  arbitrary_geotiff = raster.vapor_pressure_deficit_geotiff()\n",
        "  base_bounds = raster.get_extent(arbitrary_geotiff.gdal_dataset)\n",
        "  final_bounds = raster.create_bounds_from_res(params.resolution_x, params.resolution_y, base_bounds)\n",
        "\n",
        "  all_predictions = np.ma.masked_array([means, variances], mask=[np.isnan(means), np.isnan(variances)]) # raster, lat, lon\n",
        "  all_predictions = np.transpose(all_predictions, axes=[1, 2, 0]) # lat, lon, raster\n",
        "\n",
        "  generate_isoscape.save_numpy_to_geotiff(final_bounds, all_predictions, ISOSCAPE_SAVE_LOCATION)\n",
        "\n",
        "  # Quantitative Eval Metrics\n",
        "  test_pred_means, test_pred_vars  = ok.execute(\"points\", data.test.X['long'],\n",
        "                                  data.test.X['lat'])\n",
        "  test_ground_means = data.test.Y[params.mean_label]\n",
        "  test_ground_vars = data.test.Y[params.var_label]\n",
        "  print(f'Means RMSE: {np.sqrt(mean_squared_error(test_ground_means, test_pred_means))}')\n",
        "  print(f'Variances RMSE: {np.sqrt(mean_squared_error(test_ground_vars, test_pred_vars))}')\n",
        "\n"
      ],
      "metadata": {
        "id": "ujWmpwnXb4MA"
      },
      "execution_count": null,
      "outputs": []
    },
    {
      "cell_type": "code",
      "source": [
        "# Not enough data for a gaussian variogram (we only use the 'train' split)\n",
        "run_ordinary_kriging(variogram_model='linear')"
      ],
      "metadata": {
        "colab": {
          "base_uri": "https://localhost:8080/"
        },
        "id": "aXO5jnR4ay35",
        "outputId": "ffb7b9be-c6b3-4df4-97bc-95e3c04be9b0"
      },
      "execution_count": null,
      "outputs": [
        {
          "output_type": "stream",
          "name": "stdout",
          "text": [
            "Q1 = None\n",
            "Q2 = None\n",
            "cR = None\n",
            "Means RMSE: 1.433652652305679\n",
            "Variances RMSE: 1.0005289219161295\n"
          ]
        }
      ]
    },
    {
      "cell_type": "code",
      "source": [
        "display_brazil(0) # Means"
      ],
      "metadata": {
        "id": "oQgLTcfIN0C-"
      },
      "execution_count": null,
      "outputs": []
    },
    {
      "cell_type": "code",
      "source": [
        "display_amazon(0) # Means"
      ],
      "metadata": {
        "id": "E9N_Hh3mWm47"
      },
      "execution_count": null,
      "outputs": []
    },
    {
      "cell_type": "markdown",
      "source": [
        "## Universal Kriging\n",
        "\n",
        "Based on https://geostat-framework.readthedocs.io/projects/pykrige/en/stable/examples/01_universal.html"
      ],
      "metadata": {
        "id": "__h0JrgMVIlo"
      }
    },
    {
      "cell_type": "code",
      "source": [
        "!pip install pykrige"
      ],
      "metadata": {
        "outputId": "b53236ff-41c8-4f47-c840-649e86b56020",
        "colab": {
          "base_uri": "https://localhost:8080/"
        },
        "id": "bqU97JYhVIlp"
      },
      "execution_count": null,
      "outputs": [
        {
          "output_type": "stream",
          "name": "stdout",
          "text": [
            "Requirement already satisfied: pykrige in /usr/local/lib/python3.10/dist-packages (1.7.2)\n",
            "Requirement already satisfied: numpy>=1.20.0 in /usr/local/lib/python3.10/dist-packages (from pykrige) (1.26.4)\n",
            "Requirement already satisfied: scipy<2,>=1.1.0 in /usr/local/lib/python3.10/dist-packages (from pykrige) (1.13.1)\n"
          ]
        }
      ]
    },
    {
      "cell_type": "code",
      "source": [
        "params = tvim.VIModelTrainingParams(\n",
        "    training_id = \"test-ukrige-2024-10-25-1\", #@param\n",
        "    num_epochs = -1,\n",
        "    num_layers = -1,\n",
        "    num_nodes_per_layer = -1,\n",
        "    training_batch_size = -1,\n",
        "    learning_rate = -1,\n",
        "    mean_label = \"d18O_cel_mean\", #@param\n",
        "    var_label = \"d18O_cel_variance\", #@param\n",
        "    early_stopping_patience = -1,\n",
        "    double_sided_kl = False,\n",
        "    kl_num_samples_from_pred_dist = 1,\n",
        "    dropout_rate = -1,\n",
        "    activation_func = \"\",\n",
        "    features_to_standardize = ['lat', 'long', 'VPD', 'RH', 'PET', 'DEM', 'PA', 'Mean Annual Temperature', 'Mean Annual Precipitation', 'Iso_Oxi_Stack_mean_TERZER', 'isoscape_fullmodel_d18O_prec_REGRESSION', 'brisoscape_mean_ISORIX', 'd13C_cel_mean', 'd13C_cel_var', 'ordinary_kriging_linear_d18O_predicted_mean', 'ordinary_kriging_linear_d18O_predicted_variance'], #@param\n",
        "    features_to_passthrough = [], #@param\n",
        "    resolution_x = 1024, #@param\n",
        "    resolution_y = 1024, #@param\n",
        "    tags = [\"author:npr\", \"universal_kriging\", \"all_standardized\", \"linear_variogram\"], #@param\n",
        ")\n",
        "eval_params = tvim.VIModelEvalParams(\n",
        "    samples_per_location = 5, #@param\n",
        "    precision_target = 0.95, #@param\n",
        "    recall_target = 0.95, #@param\n",
        "    start_max_fraud_radius= 6, #@param\n",
        "    end_max_fraud_radius = 3000, #@param\n",
        "    radius_pace = 100, #@param\n",
        "    trusted_buffer_radius = 5, #@param\n",
        "    elements_to_eval = ['d18O_cel'], #@param\n",
        ")\n",
        "\n",
        "\n",
        "MODEL_SAVE_LOCATION = os.path.join(raster.GDRIVE_BASE, raster.MODEL_BASE, params.training_id + \".keras\")\n",
        "ISOSCAPE_SAVE_LOCATION = raster.get_raster_path(params.training_id+\".tiff\")\n"
      ],
      "metadata": {
        "id": "unQQ4Q_rVIlp"
      },
      "execution_count": null,
      "outputs": []
    },
    {
      "cell_type": "code",
      "source": [
        "data = prepare_dataset(params, fileset)"
      ],
      "metadata": {
        "id": "pcuCcBLIVIlq"
      },
      "execution_count": null,
      "outputs": []
    },
    {
      "cell_type": "code",
      "source": [
        "import pandas as pd\n",
        "import numpy as np\n",
        "import raster\n",
        "import pykrige.kriging_tools as kt\n",
        "from pykrige.uk import UniversalKriging\n",
        "from sklearn.metrics import mean_squared_error\n",
        "raw_train = pd.read_csv(fileset['TRAIN'])"
      ],
      "metadata": {
        "id": "qZP6jPZNVIlq"
      },
      "execution_count": null,
      "outputs": []
    },
    {
      "cell_type": "code",
      "source": [
        "def run_universal_kriging(**kwargs):\n",
        "  uk = UniversalKriging(data.train.X['lat'], data.train.X['long'], data.train.Y['d18O_cel_mean'], **kwargs)\n",
        "  min_long = min(data.train.X['long'])\n",
        "  max_long = max(data.train.X['long'])\n",
        "  min_lat = min(data.train.X['lat'])\n",
        "  max_lat = max(data.train.X['lat'])\n",
        "\n",
        "  # Predict the isotope values on the range of lattitude and longitude values\n",
        "  # within the bounds of our VPD geotiff (should be Brazil-shaped), then save\n",
        "  # for qualitative eval / display\n",
        "  isoscape_long_values =  np.linspace(min_long, max_long, params.resolution_x)\n",
        "  isoscape_lat_values = np.linspace(min_lat, max_lat, params.resolution_y)\n",
        "  means, variances  = uk.execute(\"grid\", isoscape_long_values,\n",
        "                                  isoscape_lat_values)\n",
        "  uk.print_statistics()\n",
        "\n",
        "  arbitrary_geotiff = raster.vapor_pressure_deficit_geotiff()\n",
        "  base_bounds = raster.get_extent(arbitrary_geotiff.gdal_dataset)\n",
        "  final_bounds = raster.create_bounds_from_res(params.resolution_x, params.resolution_y, base_bounds)\n",
        "\n",
        "  all_predictions = np.ma.masked_array([means, variances], mask=[np.isnan(means), np.isnan(variances)]) # raster, lat, lon\n",
        "  all_predictions = np.transpose(all_predictions, axes=[1, 2, 0]) # lat, lon, raster\n",
        "\n",
        "  generate_isoscape.save_numpy_to_geotiff(final_bounds, all_predictions, ISOSCAPE_SAVE_LOCATION)\n",
        "\n",
        "  # Quantitative Eval Metrics\n",
        "  test_pred_means, test_pred_vars  = uk.execute(\"points\", data.test.X['long'],\n",
        "                                  data.test.X['lat'])\n",
        "  test_ground_means = data.test.Y[params.mean_label]\n",
        "  test_ground_vars = data.test.Y[params.var_label]\n",
        "  print(f'Means RMSE: {np.sqrt(mean_squared_error(test_ground_means, test_pred_means))}')\n",
        "  print(f'Variances RMSE: {np.sqrt(mean_squared_error(test_ground_vars, test_pred_vars))}')\n"
      ],
      "metadata": {
        "id": "Xv-wAfM4aFTP"
      },
      "execution_count": null,
      "outputs": []
    },
    {
      "cell_type": "code",
      "source": [
        "run_universal_kriging(variogram_model='gaussian', drift_terms=['regional_linear'])"
      ],
      "metadata": {
        "colab": {
          "base_uri": "https://localhost:8080/"
        },
        "id": "mzsnAUeQaYMH",
        "outputId": "f4ff4af8-200c-4bf5-8ce0-901354c1f37e"
      },
      "execution_count": null,
      "outputs": [
        {
          "output_type": "stream",
          "name": "stdout",
          "text": [
            "Q1 = 0.03882876959527777\n",
            "Q2 = 2.436161167322317\n",
            "cR = 1.5016620429456022\n",
            "Means RMSE: 1.0606534598056683\n",
            "Variances RMSE: 7.894642044056291\n"
          ]
        }
      ]
    },
    {
      "cell_type": "code",
      "source": [
        "display_brazil(0)"
      ],
      "metadata": {
        "id": "-UQk9iUbVIlq"
      },
      "execution_count": null,
      "outputs": []
    },
    {
      "cell_type": "markdown",
      "source": [
        "## Regression Kriging\n",
        "\n",
        "Based on https://geostat-framework.readthedocs.io/projects/pykrige/en/stable/examples/07_regression_kriging2d.html"
      ],
      "metadata": {
        "id": "6fJgekHu75JO"
      }
    },
    {
      "cell_type": "code",
      "source": [
        "!pip install pykrige"
      ],
      "metadata": {
        "id": "N2FBlboq3Gux"
      },
      "execution_count": null,
      "outputs": []
    },
    {
      "cell_type": "code",
      "source": [
        "params = tvim.VIModelTrainingParams(\n",
        "    training_id = \"test-rkrige-2024-10-25-1\", #@param\n",
        "    num_epochs = -1,\n",
        "    num_layers = -1,\n",
        "    num_nodes_per_layer = -1,\n",
        "    training_batch_size = -1,\n",
        "    learning_rate = -1,\n",
        "    mean_label = \"d18O_cel_mean\", #@param\n",
        "    var_label = \"d18O_cel_variance\", #@param\n",
        "    early_stopping_patience = -1,\n",
        "    double_sided_kl = False,\n",
        "    kl_num_samples_from_pred_dist = 1,\n",
        "    dropout_rate = -1,\n",
        "    activation_func = \"\",\n",
        "    features_to_standardize = ['VPD', 'RH', 'PET', 'DEM', 'PA', 'Mean Annual Temperature', 'Mean Annual Precipitation', 'Iso_Oxi_Stack_mean_TERZER', 'isoscape_fullmodel_d18O_prec_REGRESSION', 'brisoscape_mean_ISORIX', 'd13C_cel_mean', 'd13C_cel_var', 'ordinary_kriging_linear_d18O_predicted_mean', 'ordinary_kriging_linear_d18O_predicted_variance'], #@param\n",
        "    features_to_passthrough = ['lat', 'long'], #@param\n",
        "    resolution_x = 1024, #@param\n",
        "    resolution_y = 1024, #@param\n",
        "    tags = [\"author:npr\", \"regression_kriging\", \"all_standardized\"], #@param\n",
        ")\n",
        "eval_params = tvim.VIModelEvalParams(\n",
        "    samples_per_location = 5, #@param\n",
        "    precision_target = 0.95, #@param\n",
        "    recall_target = 0.95, #@param\n",
        "    start_max_fraud_radius= 6, #@param\n",
        "    end_max_fraud_radius = 3000, #@param\n",
        "    radius_pace = 100, #@param\n",
        "    trusted_buffer_radius = 5, #@param\n",
        "    elements_to_eval = ['d18O_cel'], #@param\n",
        ")\n",
        "\n",
        "\n",
        "MODEL_SAVE_LOCATION = os.path.join(raster.GDRIVE_BASE, raster.MODEL_BASE, params.training_id + \".keras\")\n",
        "ISOSCAPE_SAVE_LOCATION = raster.get_raster_path(params.training_id+\".tiff\")"
      ],
      "metadata": {
        "id": "J3DGz5eObz2B"
      },
      "execution_count": null,
      "outputs": []
    },
    {
      "cell_type": "code",
      "source": [
        "import pandas as pd\n",
        "import numpy as np\n",
        "import raster\n",
        "from numpy.typing import NDArray\n",
        "from typing import Tuple, List\n",
        "\n",
        "from sklearn.datasets import fetch_california_housing\n",
        "from sklearn.ensemble import RandomForestRegressor\n",
        "from sklearn.linear_model import LinearRegression\n",
        "from sklearn.ensemble import GradientBoostingRegressor\n",
        "from sklearn.model_selection import train_test_split\n",
        "from sklearn.svm import SVR\n",
        "from sklearn.metrics import mean_squared_error\n",
        "import generate_isoscape\n",
        "import model\n",
        "\n",
        "from pykrige.rk import RegressionKriging\n",
        "\n",
        "\n",
        "def run_regression_kriging(regression_model, regression_kwargs, krige_kwargs):\n",
        "  data = prepare_dataset(params, fileset)\n",
        "  raw_train = pd.read_csv(fileset['TRAIN']).dropna()\n",
        "  raw_val = pd.read_csv(fileset['VALIDATION']).dropna()\n",
        "\n",
        "  svr_model = SVR(C=0.1, gamma=\"auto\")\n",
        "  rf_model = RandomForestRegressor(n_estimators=1000)\n",
        "  lr_model = LinearRegression(copy_X=True, fit_intercept=True)\n",
        "  gb_model = GradientBoostingRegressor(n_estimators=100, max_depth=20)\n",
        "\n",
        "  models = [svr_model, rf_model, lr_model]\n",
        "\n",
        "  train_features = params.features_to_standardize + params.features_to_passthrough\n",
        "  train_features_nolatlon = list(train_features)\n",
        "  train_features_nolatlon.remove('lat')\n",
        "  train_features_nolatlon.remove('long')\n",
        "\n",
        "  p_train = pd.concat((data.train.X[train_features_nolatlon], data.val.X[train_features_nolatlon],), join='inner')\n",
        "  x_train = np.concatenate((np.array(tuple(zip(raw_train['lat'], raw_train['long']))), np.array(tuple(zip(raw_val['lat'], raw_val['long'])))))\n",
        "  target_train = pd.concat((raw_train[params.mean_label], raw_val[params.mean_label],), join='inner')\n",
        "\n",
        "\n",
        "  rk = RegressionKriging(regression_model=regression_model(**regression_kwargs), **krige_kwargs)\n",
        "  # Why do I call .to_numpy() here?\n",
        "  # to_numpy() removes feature names, which ColumnTransformer.transform() strips\n",
        "  # in predict_on_batch(). If trained with feature names but inference is run\n",
        "  # without, a long list of warnings will be printed and isoscape generation will\n",
        "  # be slower.\n",
        "  rk.fit(p_train.to_numpy(), x_train, target_train)\n",
        "\n",
        "\n",
        "  class DDFRegressionKrigingModel(model.Model):\n",
        "    # #@override\n",
        "    def __init__(self, rk: RegressionKriging, training_cols: List[str]):\n",
        "      self.rk = rk\n",
        "      self.training_cols = training_cols\n",
        "\n",
        "    # #@override\n",
        "    def predict_on_batch(self, X: pd.DataFrame) -> NDArray[np.float32]:\n",
        "      #TODO(ruru): Maybe our isoscape generator should standardize the features in features_to_standardize here as well\n",
        "      #TODO: The scaling step appears to add some time. This might be a good target for future performance efforts.\n",
        "      XT = data.feature_scaler.transform(X)\n",
        "      latindex = X.columns.get_loc('lat')\n",
        "      longindex = X.columns.get_loc('long')\n",
        "      x = X[['lat', 'long']].to_numpy()\n",
        "      p = np.delete(XT, [latindex, longindex],axis=1)\n",
        "      means = self.rk.predict(p, x)\n",
        "      return np.array([means, np.zeros(means.shape)]).T\n",
        "\n",
        "    # #@override\n",
        "    def training_column_names(self) -> List[str]:\n",
        "      return ['lat', 'long'] + self.training_cols\n",
        "\n",
        "\n",
        "  rkm = DDFRegressionKrigingModel(rk=rk, training_cols=train_features_nolatlon)\n",
        "\n",
        "\n",
        "\n",
        "  # Quantitative Eval Metrics\n",
        "  test_preds = rkm.predict_on_batch(data.test.X)\n",
        "  test_pred_means = test_preds[:,0]\n",
        "  test_ground_means = data.test.Y[params.mean_label]\n",
        "  print(f'Means RMSE: {np.sqrt(mean_squared_error(test_ground_means, test_pred_means))}')\n",
        "\n",
        "\n",
        "  generate_isoscape.generate_isoscapes_from_variational_model(rkm, 1024, 1024, ISOSCAPE_SAVE_LOCATION)\n"
      ],
      "metadata": {
        "id": "MBMtarzF7slk"
      },
      "execution_count": null,
      "outputs": []
    },
    {
      "cell_type": "code",
      "source": [
        "run_regression_kriging(GradientBoostingRegressor, {'n_estimators':100, 'max_depth':20}, {'method': 'universal', 'variogram_model':'gaussian', 'drift_terms':['regional_linear']})"
      ],
      "metadata": {
        "colab": {
          "base_uri": "https://localhost:8080/",
          "height": 723
        },
        "id": "nrjho6p7x_aE",
        "outputId": "580812cf-e05a-41bd-b118-edd712c7671d"
      },
      "execution_count": null,
      "outputs": [
        {
          "output_type": "stream",
          "name": "stdout",
          "text": [
            "Finished learning regression model\n",
            "Finished kriging residuals\n",
            "n_closest_points will be ignored for UniversalKriging\n",
            "Means RMSE: 0.9730332408548428\n",
            "Driver: GTiff/GeoTIFF\n",
            "Size is 941 x 937 x 12\n",
            "Projection is GEOGCS[\"WGS 84\",DATUM[\"WGS_1984\",SPHEROID[\"WGS 84\",6378137,298.257223563,AUTHORITY[\"EPSG\",\"7030\"]],AUTHORITY[\"EPSG\",\"6326\"]],PRIMEM[\"Greenwich\",0,AUTHORITY[\"EPSG\",\"8901\"]],UNIT[\"degree\",0.0174532925199433,AUTHORITY[\"EPSG\",\"9122\"]],AXIS[\"Latitude\",NORTH],AXIS[\"Longitude\",EAST],AUTHORITY[\"EPSG\",\"4326\"]]\n",
            "Origin = (-74.0000000000241, 5.29166666665704)\n",
            "Pixel Size = (0.04166666666665718, -0.04166666666667143)\n",
            "Driver: GTiff/GeoTIFF\n",
            "Size is 941 x 937 x 12\n",
            "Projection is GEOGCS[\"WGS 84\",DATUM[\"WGS_1984\",SPHEROID[\"WGS 84\",6378137,298.257223563,AUTHORITY[\"EPSG\",\"7030\"]],AUTHORITY[\"EPSG\",\"6326\"]],PRIMEM[\"Greenwich\",0,AUTHORITY[\"EPSG\",\"8901\"]],UNIT[\"degree\",0.0174532925199433,AUTHORITY[\"EPSG\",\"9122\"]],AXIS[\"Latitude\",NORTH],AXIS[\"Longitude\",EAST],AUTHORITY[\"EPSG\",\"4326\"]]\n",
            "Origin = (-74.0000000000241, 5.29166666665704)\n",
            "Pixel Size = (0.04166666666665718, -0.04166666666667143)\n",
            "Driver: GTiff/GeoTIFF\n",
            "Size is 942 x 936 x 1\n",
            "Projection is GEOGCS[\"WGS 84\",DATUM[\"WGS_1984\",SPHEROID[\"WGS 84\",6378137,298.257223563,AUTHORITY[\"EPSG\",\"7030\"]],AUTHORITY[\"EPSG\",\"6326\"]],PRIMEM[\"Greenwich\",0,AUTHORITY[\"EPSG\",\"8901\"]],UNIT[\"degree\",0.0174532925199433,AUTHORITY[\"EPSG\",\"9122\"]],AXIS[\"Latitude\",NORTH],AXIS[\"Longitude\",EAST],AUTHORITY[\"EPSG\",\"4326\"]]\n",
            "Origin = (-74.0, 5.25)\n",
            "Pixel Size = (0.041666666666666664, -0.041666666666666664)\n",
            "Driver: GTiff/GeoTIFF\n",
            "Size is 4710 x 4681 x 1\n",
            "Projection is GEOGCS[\"WGS 84\",DATUM[\"WGS_1984\",SPHEROID[\"WGS 84\",6378137,298.257223563,AUTHORITY[\"EPSG\",\"7030\"]],AUTHORITY[\"EPSG\",\"6326\"]],PRIMEM[\"Greenwich\",0,AUTHORITY[\"EPSG\",\"8901\"]],UNIT[\"degree\",0.0174532925199433,AUTHORITY[\"EPSG\",\"9122\"]],AXIS[\"Latitude\",NORTH],AXIS[\"Longitude\",EAST],AUTHORITY[\"EPSG\",\"4326\"]]\n",
            "Origin = (-73.983333333, 5.241666667)\n",
            "Pixel Size = (0.008333333333333335, -0.008333333333475752)\n"
          ]
        },
        {
          "output_type": "error",
          "ename": "KeyboardInterrupt",
          "evalue": "",
          "traceback": [
            "\u001b[0;31m---------------------------------------------------------------------------\u001b[0m",
            "\u001b[0;31mKeyboardInterrupt\u001b[0m                         Traceback (most recent call last)",
            "\u001b[0;32m<ipython-input-9-131bbc61699d>\u001b[0m in \u001b[0;36m<cell line: 1>\u001b[0;34m()\u001b[0m\n\u001b[0;32m----> 1\u001b[0;31m \u001b[0mrun_regression_kriging\u001b[0m\u001b[0;34m(\u001b[0m\u001b[0mGradientBoostingRegressor\u001b[0m\u001b[0;34m,\u001b[0m \u001b[0;34m{\u001b[0m\u001b[0;34m'n_estimators'\u001b[0m\u001b[0;34m:\u001b[0m\u001b[0;36m100\u001b[0m\u001b[0;34m,\u001b[0m \u001b[0;34m'max_depth'\u001b[0m\u001b[0;34m:\u001b[0m\u001b[0;36m20\u001b[0m\u001b[0;34m}\u001b[0m\u001b[0;34m,\u001b[0m \u001b[0;34m{\u001b[0m\u001b[0;34m'method'\u001b[0m\u001b[0;34m:\u001b[0m \u001b[0;34m'universal'\u001b[0m\u001b[0;34m,\u001b[0m \u001b[0;34m'variogram_model'\u001b[0m\u001b[0;34m:\u001b[0m\u001b[0;34m'gaussian'\u001b[0m\u001b[0;34m,\u001b[0m \u001b[0;34m'drift_terms'\u001b[0m\u001b[0;34m:\u001b[0m\u001b[0;34m[\u001b[0m\u001b[0;34m'regional_linear'\u001b[0m\u001b[0;34m]\u001b[0m\u001b[0;34m}\u001b[0m\u001b[0;34m)\u001b[0m\u001b[0;34m\u001b[0m\u001b[0;34m\u001b[0m\u001b[0m\n\u001b[0m",
            "\u001b[0;32m<ipython-input-8-f367681abb53>\u001b[0m in \u001b[0;36mrun_regression_kriging\u001b[0;34m(regression_model, regression_kwargs, krige_kwargs)\u001b[0m\n\u001b[1;32m     83\u001b[0m \u001b[0;34m\u001b[0m\u001b[0m\n\u001b[1;32m     84\u001b[0m \u001b[0;34m\u001b[0m\u001b[0m\n\u001b[0;32m---> 85\u001b[0;31m   \u001b[0mgenerate_isoscape\u001b[0m\u001b[0;34m.\u001b[0m\u001b[0mgenerate_isoscapes_from_variational_model\u001b[0m\u001b[0;34m(\u001b[0m\u001b[0mrkm\u001b[0m\u001b[0;34m,\u001b[0m \u001b[0;36m1024\u001b[0m\u001b[0;34m,\u001b[0m \u001b[0;36m1024\u001b[0m\u001b[0;34m,\u001b[0m \u001b[0mISOSCAPE_SAVE_LOCATION\u001b[0m\u001b[0;34m)\u001b[0m\u001b[0;34m\u001b[0m\u001b[0;34m\u001b[0m\u001b[0m\n\u001b[0m",
            "\u001b[0;32m/tmp/ddf_common/generate_isoscape.py\u001b[0m in \u001b[0;36mgenerate_isoscapes_from_variational_model\u001b[0;34m(vi_model, res_x, res_y, output_geotiff_save_location, amazon_only)\u001b[0m\n\u001b[1;32m    184\u001b[0m   \u001b[0mrequired_geotiffs\u001b[0m\u001b[0;34m.\u001b[0m\u001b[0mremove\u001b[0m\u001b[0;34m(\u001b[0m\u001b[0;34m'long'\u001b[0m\u001b[0;34m)\u001b[0m\u001b[0;34m\u001b[0m\u001b[0;34m\u001b[0m\u001b[0m\n\u001b[1;32m    185\u001b[0m \u001b[0;34m\u001b[0m\u001b[0m\n\u001b[0;32m--> 186\u001b[0;31m   input_geotiffs = dispatch_rasters(\n\u001b[0m\u001b[1;32m    187\u001b[0m     \u001b[0mrequired_geotiffs\u001b[0m\u001b[0;34m,\u001b[0m\u001b[0;34m\u001b[0m\u001b[0;34m\u001b[0m\u001b[0m\n\u001b[1;32m    188\u001b[0m     \u001b[0muse_earth_engine_assets\u001b[0m\u001b[0;34m=\u001b[0m\u001b[0;32mFalse\u001b[0m\u001b[0;34m,\u001b[0m\u001b[0;34m\u001b[0m\u001b[0;34m\u001b[0m\u001b[0m\n",
            "\u001b[0;32m/tmp/ddf_common/generate_isoscape.py\u001b[0m in \u001b[0;36mdispatch_rasters\u001b[0;34m(required_rasters, use_earth_engine_assets, local_fallback)\u001b[0m\n\u001b[1;32m    142\u001b[0m     \u001b[0;32melif\u001b[0m \u001b[0;32mnot\u001b[0m \u001b[0muse_earth_engine_assets\u001b[0m \u001b[0;32mor\u001b[0m \u001b[0mlocal_fallback\u001b[0m\u001b[0;34m:\u001b[0m\u001b[0;34m\u001b[0m\u001b[0;34m\u001b[0m\u001b[0m\n\u001b[1;32m    143\u001b[0m       \u001b[0;32mif\u001b[0m \u001b[0mraster_name\u001b[0m \u001b[0;32min\u001b[0m \u001b[0mraster\u001b[0m\u001b[0;34m.\u001b[0m\u001b[0mcolumn_name_to_geotiff_fn\u001b[0m\u001b[0;34m:\u001b[0m\u001b[0;34m\u001b[0m\u001b[0;34m\u001b[0m\u001b[0m\n\u001b[0;32m--> 144\u001b[0;31m         \u001b[0mrasters_to_dispatch\u001b[0m\u001b[0;34m[\u001b[0m\u001b[0mraster_name\u001b[0m\u001b[0;34m]\u001b[0m \u001b[0;34m=\u001b[0m \u001b[0mraster\u001b[0m\u001b[0;34m.\u001b[0m\u001b[0mcolumn_name_to_geotiff_fn\u001b[0m\u001b[0;34m[\u001b[0m\u001b[0mraster_name\u001b[0m\u001b[0;34m]\u001b[0m\u001b[0;34m(\u001b[0m\u001b[0;34m)\u001b[0m\u001b[0;34m\u001b[0m\u001b[0;34m\u001b[0m\u001b[0m\n\u001b[0m\u001b[1;32m    145\u001b[0m         \u001b[0mcheck_projection\u001b[0m\u001b[0;34m(\u001b[0m\u001b[0mrasters_to_dispatch\u001b[0m\u001b[0;34m[\u001b[0m\u001b[0mraster_name\u001b[0m\u001b[0;34m]\u001b[0m\u001b[0;34m)\u001b[0m\u001b[0;34m\u001b[0m\u001b[0;34m\u001b[0m\u001b[0m\n\u001b[1;32m    146\u001b[0m \u001b[0;34m\u001b[0m\u001b[0m\n",
            "\u001b[0;32m/tmp/ddf_common/raster.py\u001b[0m in \u001b[0;36mdem_geotiff\u001b[0;34m()\u001b[0m\n\u001b[1;32m    385\u001b[0m   \u001b[0;32mglobal\u001b[0m \u001b[0mdem_geotiff_\u001b[0m\u001b[0;34m\u001b[0m\u001b[0;34m\u001b[0m\u001b[0m\n\u001b[1;32m    386\u001b[0m   \u001b[0;32mif\u001b[0m \u001b[0;32mnot\u001b[0m \u001b[0mdem_geotiff_\u001b[0m\u001b[0;34m:\u001b[0m\u001b[0;34m\u001b[0m\u001b[0;34m\u001b[0m\u001b[0m\n\u001b[0;32m--> 387\u001b[0;31m     \u001b[0mdem_geotiff_\u001b[0m \u001b[0;34m=\u001b[0m \u001b[0mload_named_raster\u001b[0m\u001b[0;34m(\u001b[0m\u001b[0mget_raster_path\u001b[0m\u001b[0;34m(\u001b[0m\u001b[0;34m\"wsg/dem.tif\"\u001b[0m\u001b[0;34m)\u001b[0m\u001b[0;34m,\u001b[0m \u001b[0;34m\"dem\"\u001b[0m\u001b[0;34m)\u001b[0m\u001b[0;34m\u001b[0m\u001b[0;34m\u001b[0m\u001b[0m\n\u001b[0m\u001b[1;32m    388\u001b[0m   \u001b[0;32mreturn\u001b[0m \u001b[0mdem_geotiff_\u001b[0m\u001b[0;34m\u001b[0m\u001b[0;34m\u001b[0m\u001b[0m\n\u001b[1;32m    389\u001b[0m \u001b[0;34m\u001b[0m\u001b[0m\n",
            "\u001b[0;32m/tmp/ddf_common/raster.py\u001b[0m in \u001b[0;36mload_named_raster\u001b[0;34m(path, name, use_only_band_index)\u001b[0m\n\u001b[1;32m    175\u001b[0m \u001b[0;34m\u001b[0m\u001b[0m\n\u001b[1;32m    176\u001b[0m \u001b[0;32mdef\u001b[0m \u001b[0mload_named_raster\u001b[0m\u001b[0;34m(\u001b[0m\u001b[0mpath\u001b[0m\u001b[0;34m:\u001b[0m \u001b[0mstr\u001b[0m\u001b[0;34m,\u001b[0m \u001b[0mname\u001b[0m\u001b[0;34m:\u001b[0m \u001b[0mstr\u001b[0m\u001b[0;34m,\u001b[0m \u001b[0muse_only_band_index\u001b[0m\u001b[0;34m:\u001b[0m \u001b[0mint\u001b[0m \u001b[0;34m=\u001b[0m \u001b[0;34m-\u001b[0m\u001b[0;36m1\u001b[0m\u001b[0;34m)\u001b[0m \u001b[0;34m->\u001b[0m \u001b[0mAmazonGeoTiff\u001b[0m\u001b[0;34m:\u001b[0m\u001b[0;34m\u001b[0m\u001b[0;34m\u001b[0m\u001b[0m\n\u001b[0;32m--> 177\u001b[0;31m   \u001b[0mraster\u001b[0m \u001b[0;34m=\u001b[0m \u001b[0mload_raster\u001b[0m\u001b[0;34m(\u001b[0m\u001b[0mpath\u001b[0m\u001b[0;34m,\u001b[0m \u001b[0muse_only_band_index\u001b[0m\u001b[0;34m)\u001b[0m\u001b[0;34m\u001b[0m\u001b[0;34m\u001b[0m\u001b[0m\n\u001b[0m\u001b[1;32m    178\u001b[0m   \u001b[0mraster\u001b[0m\u001b[0;34m.\u001b[0m\u001b[0mname\u001b[0m \u001b[0;34m=\u001b[0m \u001b[0mname\u001b[0m\u001b[0;34m\u001b[0m\u001b[0;34m\u001b[0m\u001b[0m\n\u001b[1;32m    179\u001b[0m   \u001b[0;32mreturn\u001b[0m \u001b[0mraster\u001b[0m\u001b[0;34m\u001b[0m\u001b[0;34m\u001b[0m\u001b[0m\n",
            "\u001b[0;32m/tmp/ddf_common/raster.py\u001b[0m in \u001b[0;36mload_raster\u001b[0;34m(path, use_only_band_index)\u001b[0m\n\u001b[1;32m    187\u001b[0m   \u001b[0mdataset\u001b[0m \u001b[0;34m=\u001b[0m \u001b[0mgdal\u001b[0m\u001b[0;34m.\u001b[0m\u001b[0mOpen\u001b[0m\u001b[0;34m(\u001b[0m\u001b[0mpath\u001b[0m\u001b[0;34m,\u001b[0m \u001b[0mgdal\u001b[0m\u001b[0;34m.\u001b[0m\u001b[0mGA_ReadOnly\u001b[0m\u001b[0;34m)\u001b[0m\u001b[0;34m\u001b[0m\u001b[0;34m\u001b[0m\u001b[0m\n\u001b[1;32m    188\u001b[0m   \u001b[0;32mtry\u001b[0m\u001b[0;34m:\u001b[0m\u001b[0;34m\u001b[0m\u001b[0;34m\u001b[0m\u001b[0m\n\u001b[0;32m--> 189\u001b[0;31m     \u001b[0mprint_raster_info\u001b[0m\u001b[0;34m(\u001b[0m\u001b[0mdataset\u001b[0m\u001b[0;34m)\u001b[0m\u001b[0;34m\u001b[0m\u001b[0;34m\u001b[0m\u001b[0m\n\u001b[0m\u001b[1;32m    190\u001b[0m   \u001b[0;32mexcept\u001b[0m \u001b[0mAttributeError\u001b[0m \u001b[0;32mas\u001b[0m \u001b[0me\u001b[0m\u001b[0;34m:\u001b[0m\u001b[0;34m\u001b[0m\u001b[0;34m\u001b[0m\u001b[0m\n\u001b[1;32m    191\u001b[0m     \u001b[0;32mraise\u001b[0m \u001b[0mOSError\u001b[0m\u001b[0;34m(\u001b[0m\u001b[0;34m\"Failed to print raster. This likely means it did not load properly from \"\u001b[0m\u001b[0;34m+\u001b[0m \u001b[0mpath\u001b[0m\u001b[0;34m)\u001b[0m\u001b[0;34m\u001b[0m\u001b[0;34m\u001b[0m\u001b[0m\n",
            "\u001b[0;32m/tmp/ddf_common/raster.py\u001b[0m in \u001b[0;36mprint_raster_info\u001b[0;34m(raster)\u001b[0m\n\u001b[1;32m    165\u001b[0m     \u001b[0mmax\u001b[0m \u001b[0;34m=\u001b[0m \u001b[0mband\u001b[0m\u001b[0;34m.\u001b[0m\u001b[0mGetMaximum\u001b[0m\u001b[0;34m(\u001b[0m\u001b[0;34m)\u001b[0m\u001b[0;34m\u001b[0m\u001b[0;34m\u001b[0m\u001b[0m\n\u001b[1;32m    166\u001b[0m     \u001b[0;32mif\u001b[0m \u001b[0;32mnot\u001b[0m \u001b[0mmin\u001b[0m \u001b[0;32mor\u001b[0m \u001b[0;32mnot\u001b[0m \u001b[0mmax\u001b[0m\u001b[0;34m:\u001b[0m\u001b[0;34m\u001b[0m\u001b[0;34m\u001b[0m\u001b[0m\n\u001b[0;32m--> 167\u001b[0;31m         \u001b[0;34m(\u001b[0m\u001b[0mmin\u001b[0m\u001b[0;34m,\u001b[0m\u001b[0mmax\u001b[0m\u001b[0;34m)\u001b[0m \u001b[0;34m=\u001b[0m \u001b[0mband\u001b[0m\u001b[0;34m.\u001b[0m\u001b[0mComputeRasterMinMax\u001b[0m\u001b[0;34m(\u001b[0m\u001b[0;32mFalse\u001b[0m\u001b[0;34m)\u001b[0m\u001b[0;34m\u001b[0m\u001b[0;34m\u001b[0m\u001b[0m\n\u001b[0m\u001b[1;32m    168\u001b[0m     \u001b[0;31m#print(\"Min={:.3f}, Max={:.3f}\".format(min,max))\u001b[0m\u001b[0;34m\u001b[0m\u001b[0;34m\u001b[0m\u001b[0m\n\u001b[1;32m    169\u001b[0m \u001b[0;34m\u001b[0m\u001b[0m\n",
            "\u001b[0;32m/usr/local/lib/python3.10/dist-packages/osgeo/gdal.py\u001b[0m in \u001b[0;36mComputeRasterMinMax\u001b[0;34m(self, *args, **kwargs)\u001b[0m\n\u001b[1;32m   3977\u001b[0m             \u001b[0;32mdel\u001b[0m \u001b[0mkwargs\u001b[0m\u001b[0;34m[\u001b[0m\u001b[0;34m\"can_return_null\"\u001b[0m\u001b[0;34m]\u001b[0m\u001b[0;34m\u001b[0m\u001b[0;34m\u001b[0m\u001b[0m\n\u001b[1;32m   3978\u001b[0m \u001b[0;34m\u001b[0m\u001b[0m\n\u001b[0;32m-> 3979\u001b[0;31m         \u001b[0;32mreturn\u001b[0m \u001b[0m_gdal\u001b[0m\u001b[0;34m.\u001b[0m\u001b[0mBand_ComputeRasterMinMax\u001b[0m\u001b[0;34m(\u001b[0m\u001b[0mself\u001b[0m\u001b[0;34m,\u001b[0m \u001b[0;34m*\u001b[0m\u001b[0margs\u001b[0m\u001b[0;34m,\u001b[0m \u001b[0;34m**\u001b[0m\u001b[0mkwargs\u001b[0m\u001b[0;34m)\u001b[0m\u001b[0;34m\u001b[0m\u001b[0;34m\u001b[0m\u001b[0m\n\u001b[0m\u001b[1;32m   3980\u001b[0m \u001b[0;34m\u001b[0m\u001b[0m\n\u001b[1;32m   3981\u001b[0m \u001b[0;34m\u001b[0m\u001b[0m\n",
            "\u001b[0;31mKeyboardInterrupt\u001b[0m: "
          ]
        }
      ]
    },
    {
      "cell_type": "code",
      "source": [
        "display_brazil(0)"
      ],
      "metadata": {
        "id": "voBCet247ils"
      },
      "execution_count": null,
      "outputs": []
    },
    {
      "cell_type": "code",
      "source": [
        "display_amazon(0)"
      ],
      "metadata": {
        "id": "NKCNrp5-zLtt"
      },
      "execution_count": null,
      "outputs": []
    },
    {
      "cell_type": "markdown",
      "source": [
        "## MCMC?"
      ],
      "metadata": {
        "id": "Uc1bcklcBD8K"
      }
    },
    {
      "cell_type": "code",
      "source": [
        "# https://towardsdatascience.com/markov-chain-monte-carlo-in-python-44f7e609be98"
      ],
      "metadata": {
        "id": "9j2yoHLdBFe4"
      },
      "execution_count": null,
      "outputs": []
    },
    {
      "cell_type": "code",
      "source": [
        "import pymc3 as pm\n"
      ],
      "metadata": {
        "id": "a_Vt-OWyCCKp"
      },
      "execution_count": 15,
      "outputs": []
    },
    {
      "cell_type": "markdown",
      "source": [
        "# Variational Inference + DNN"
      ],
      "metadata": {
        "id": "bBQJaWTyoyWN"
      }
    },
    {
      "cell_type": "code",
      "source": [
        "# Convenience links:\n",
        "# Paper: https://braintex.goog/project/6509cbf324c22900a893d018\n",
        "# Experiment list: https://docs.google.com/spreadsheets/d/1QUGvdUkkYCnflTytaYelMsbzGjhvR0U_HBkRdDUdeGM/edit?gid=1787854098#gid=1787854098\n",
        "#"
      ],
      "metadata": {
        "id": "ZxLaNWzJ6rk7"
      },
      "execution_count": null,
      "outputs": []
    },
    {
      "cell_type": "code",
      "source": [
        "params = tvim.VIModelTrainingParams(\n",
        "    training_id = \"test-2024-10-25-foobar-baz\", #@param\n",
        "    num_epochs = 5000, #@param\n",
        "    num_layers = 2, #@param\n",
        "    num_nodes_per_layer = 20, #@param\n",
        "    training_batch_size = 5, #@param\n",
        "    learning_rate = 0.0001, #@param\n",
        "    mean_label = \"d18O_cel_mean\", #@param\n",
        "    var_label = \"d18O_cel_variance\", #@param\n",
        "    early_stopping_patience = 100, #@param\n",
        "    double_sided_kl = False, #@param\n",
        "    kl_num_samples_from_pred_dist = 15, #@param\n",
        "    dropout_rate = 0, #@param\n",
        "    activation_func = \"relu\", #@param\n",
        "    features_to_standardize = ['lat', 'long', 'VPD', 'RH', 'PET', 'DEM', 'PA', 'Mean Annual Temperature', 'Mean Annual Precipitation', 'Iso_Oxi_Stack_mean_TERZER', 'isoscape_fullmodel_d18O_prec_REGRESSION', 'brisoscape_mean_ISORIX', 'd13C_cel_mean', 'd13C_cel_var', 'ordinary_kriging_linear_d18O_predicted_mean', 'ordinary_kriging_linear_d18O_predicted_variance'], #@param\n",
        "    features_to_passthrough = [], #@param\n",
        "    resolution_x = 1024, #@param\n",
        "    resolution_y = 1024, #@param\n",
        "    tags = [\"author:npr\", \"ViNN\"], #@param\n",
        "    foo = \"bar\"\n",
        ")\n",
        "\n"
      ],
      "metadata": {
        "id": "NP-WH-3Hl69m"
      },
      "execution_count": null,
      "outputs": []
    },
    {
      "cell_type": "code",
      "source": [
        "eval_params = tvim.VIModelEvalParams(\n",
        "    samples_per_location = 5, #@param\n",
        "    precision_target = 0.95, #@param\n",
        "    recall_target = 0.95, #@param\n",
        "    start_max_fraud_radius= 6, #@param\n",
        "    end_max_fraud_radius = 3000, #@param\n",
        "    radius_pace = 100, #@param\n",
        "    trusted_buffer_radius = 5, #@param\n",
        "    elements_to_eval = ['d18O_cel'], #@param\n",
        ")"
      ],
      "metadata": {
        "id": "gkCvxEcM33JD"
      },
      "execution_count": null,
      "outputs": []
    },
    {
      "cell_type": "markdown",
      "source": [
        "# Train the model"
      ],
      "metadata": {
        "id": "N-BDywhWsSYu"
      }
    },
    {
      "cell_type": "code",
      "source": [
        "EVAL_ONLY = False #@param{type:'boolean'}\n",
        "res = tvim.train_variational_inference_model(params, eval_params, fileset, ISOSCAPE_SAVE_LOCATION, MODEL_SAVE_LOCATION, eval_only=EVAL_ONLY)"
      ],
      "metadata": {
        "id": "c3z-7XQVsRg0",
        "colab": {
          "base_uri": "https://localhost:8080/",
          "height": 1000
        },
        "outputId": "a2393ebc-5e75-49cc-fdf3-e2faa6fe9841"
      },
      "execution_count": null,
      "outputs": [
        {
          "output_type": "stream",
          "name": "stdout",
          "text": [
            "==================\n",
            "test-2024-10-25-foobar-baz\n"
          ]
        },
        {
          "output_type": "display_data",
          "data": {
            "text/plain": [
              "\u001b[1mModel: \"functional_3\"\u001b[0m\n"
            ],
            "text/html": [
              "<pre style=\"white-space:pre;overflow-x:auto;line-height:normal;font-family:Menlo,'DejaVu Sans Mono',consolas,'Courier New',monospace\"><span style=\"font-weight: bold\">Model: \"functional_3\"</span>\n",
              "</pre>\n"
            ]
          },
          "metadata": {}
        },
        {
          "output_type": "display_data",
          "data": {
            "text/plain": [
              "┏━━━━━━━━━━━━━━━━━━━━━━━━━━━┳━━━━━━━━━━━━━━━━━━━━━━━━┳━━━━━━━━━━━━━━━━┳━━━━━━━━━━━━━━━━━━━━━━━━┓\n",
              "┃\u001b[1m \u001b[0m\u001b[1mLayer (type)             \u001b[0m\u001b[1m \u001b[0m┃\u001b[1m \u001b[0m\u001b[1mOutput Shape          \u001b[0m\u001b[1m \u001b[0m┃\u001b[1m \u001b[0m\u001b[1m       Param #\u001b[0m\u001b[1m \u001b[0m┃\u001b[1m \u001b[0m\u001b[1mConnected to          \u001b[0m\u001b[1m \u001b[0m┃\n",
              "┡━━━━━━━━━━━━━━━━━━━━━━━━━━━╇━━━━━━━━━━━━━━━━━━━━━━━━╇━━━━━━━━━━━━━━━━╇━━━━━━━━━━━━━━━━━━━━━━━━┩\n",
              "│ input_layer_3             │ (\u001b[38;5;45mNone\u001b[0m, \u001b[38;5;34m16\u001b[0m)             │              \u001b[38;5;34m0\u001b[0m │ -                      │\n",
              "│ (\u001b[38;5;33mInputLayer\u001b[0m)              │                        │                │                        │\n",
              "├───────────────────────────┼────────────────────────┼────────────────┼────────────────────────┤\n",
              "│ dense_6 (\u001b[38;5;33mDense\u001b[0m)           │ (\u001b[38;5;45mNone\u001b[0m, \u001b[38;5;34m20\u001b[0m)             │            \u001b[38;5;34m340\u001b[0m │ input_layer_3[\u001b[38;5;34m0\u001b[0m][\u001b[38;5;34m0\u001b[0m]    │\n",
              "├───────────────────────────┼────────────────────────┼────────────────┼────────────────────────┤\n",
              "│ dense_7 (\u001b[38;5;33mDense\u001b[0m)           │ (\u001b[38;5;45mNone\u001b[0m, \u001b[38;5;34m20\u001b[0m)             │            \u001b[38;5;34m420\u001b[0m │ dense_6[\u001b[38;5;34m0\u001b[0m][\u001b[38;5;34m0\u001b[0m]          │\n",
              "├───────────────────────────┼────────────────────────┼────────────────┼────────────────────────┤\n",
              "│ var_output (\u001b[38;5;33mDense\u001b[0m)        │ (\u001b[38;5;45mNone\u001b[0m, \u001b[38;5;34m1\u001b[0m)              │             \u001b[38;5;34m21\u001b[0m │ dense_7[\u001b[38;5;34m0\u001b[0m][\u001b[38;5;34m0\u001b[0m]          │\n",
              "├───────────────────────────┼────────────────────────┼────────────────┼────────────────────────┤\n",
              "│ mean_output (\u001b[38;5;33mDense\u001b[0m)       │ (\u001b[38;5;45mNone\u001b[0m, \u001b[38;5;34m1\u001b[0m)              │             \u001b[38;5;34m21\u001b[0m │ dense_7[\u001b[38;5;34m0\u001b[0m][\u001b[38;5;34m0\u001b[0m]          │\n",
              "├───────────────────────────┼────────────────────────┼────────────────┼────────────────────────┤\n",
              "│ multiply_7 (\u001b[38;5;33mMultiply\u001b[0m)     │ (\u001b[38;5;45mNone\u001b[0m, \u001b[38;5;34m1\u001b[0m)              │              \u001b[38;5;34m0\u001b[0m │ var_output[\u001b[38;5;34m0\u001b[0m][\u001b[38;5;34m0\u001b[0m]       │\n",
              "├───────────────────────────┼────────────────────────┼────────────────┼────────────────────────┤\n",
              "│ multiply_6 (\u001b[38;5;33mMultiply\u001b[0m)     │ (\u001b[38;5;45mNone\u001b[0m, \u001b[38;5;34m1\u001b[0m)              │              \u001b[38;5;34m0\u001b[0m │ mean_output[\u001b[38;5;34m0\u001b[0m][\u001b[38;5;34m0\u001b[0m]      │\n",
              "├───────────────────────────┼────────────────────────┼────────────────┼────────────────────────┤\n",
              "│ add_7 (\u001b[38;5;33mAdd\u001b[0m)               │ (\u001b[38;5;45mNone\u001b[0m, \u001b[38;5;34m1\u001b[0m)              │              \u001b[38;5;34m0\u001b[0m │ multiply_7[\u001b[38;5;34m0\u001b[0m][\u001b[38;5;34m0\u001b[0m]       │\n",
              "├───────────────────────────┼────────────────────────┼────────────────┼────────────────────────┤\n",
              "│ add_6 (\u001b[38;5;33mAdd\u001b[0m)               │ (\u001b[38;5;45mNone\u001b[0m, \u001b[38;5;34m1\u001b[0m)              │              \u001b[38;5;34m0\u001b[0m │ multiply_6[\u001b[38;5;34m0\u001b[0m][\u001b[38;5;34m0\u001b[0m]       │\n",
              "├───────────────────────────┼────────────────────────┼────────────────┼────────────────────────┤\n",
              "│ cast_10 (\u001b[38;5;33mCast\u001b[0m)            │ (\u001b[38;5;45mNone\u001b[0m, \u001b[38;5;34m1\u001b[0m)              │              \u001b[38;5;34m0\u001b[0m │ add_7[\u001b[38;5;34m0\u001b[0m][\u001b[38;5;34m0\u001b[0m]            │\n",
              "├───────────────────────────┼────────────────────────┼────────────────┼────────────────────────┤\n",
              "│ cast_11 (\u001b[38;5;33mCast\u001b[0m)            │ (\u001b[38;5;45mNone\u001b[0m, \u001b[38;5;34m1\u001b[0m)              │              \u001b[38;5;34m0\u001b[0m │ add_6[\u001b[38;5;34m0\u001b[0m][\u001b[38;5;34m0\u001b[0m]            │\n",
              "├───────────────────────────┼────────────────────────┼────────────────┼────────────────────────┤\n",
              "│ softplus_layer_3          │ (\u001b[38;5;45mNone\u001b[0m, \u001b[38;5;34m1\u001b[0m)              │              \u001b[38;5;34m0\u001b[0m │ cast_10[\u001b[38;5;34m0\u001b[0m][\u001b[38;5;34m0\u001b[0m]          │\n",
              "│ (\u001b[38;5;33mSoftplusLayer\u001b[0m)           │                        │                │                        │\n",
              "├───────────────────────────┼────────────────────────┼────────────────┼────────────────────────┤\n",
              "│ concatenate_3             │ (\u001b[38;5;45mNone\u001b[0m, \u001b[38;5;34m2\u001b[0m)              │              \u001b[38;5;34m0\u001b[0m │ cast_11[\u001b[38;5;34m0\u001b[0m][\u001b[38;5;34m0\u001b[0m],         │\n",
              "│ (\u001b[38;5;33mConcatenate\u001b[0m)             │                        │                │ softplus_layer_3[\u001b[38;5;34m0\u001b[0m][\u001b[38;5;34m0\u001b[0m] │\n",
              "└───────────────────────────┴────────────────────────┴────────────────┴────────────────────────┘\n"
            ],
            "text/html": [
              "<pre style=\"white-space:pre;overflow-x:auto;line-height:normal;font-family:Menlo,'DejaVu Sans Mono',consolas,'Courier New',monospace\">┏━━━━━━━━━━━━━━━━━━━━━━━━━━━┳━━━━━━━━━━━━━━━━━━━━━━━━┳━━━━━━━━━━━━━━━━┳━━━━━━━━━━━━━━━━━━━━━━━━┓\n",
              "┃<span style=\"font-weight: bold\"> Layer (type)              </span>┃<span style=\"font-weight: bold\"> Output Shape           </span>┃<span style=\"font-weight: bold\">        Param # </span>┃<span style=\"font-weight: bold\"> Connected to           </span>┃\n",
              "┡━━━━━━━━━━━━━━━━━━━━━━━━━━━╇━━━━━━━━━━━━━━━━━━━━━━━━╇━━━━━━━━━━━━━━━━╇━━━━━━━━━━━━━━━━━━━━━━━━┩\n",
              "│ input_layer_3             │ (<span style=\"color: #00d7ff; text-decoration-color: #00d7ff\">None</span>, <span style=\"color: #00af00; text-decoration-color: #00af00\">16</span>)             │              <span style=\"color: #00af00; text-decoration-color: #00af00\">0</span> │ -                      │\n",
              "│ (<span style=\"color: #0087ff; text-decoration-color: #0087ff\">InputLayer</span>)              │                        │                │                        │\n",
              "├───────────────────────────┼────────────────────────┼────────────────┼────────────────────────┤\n",
              "│ dense_6 (<span style=\"color: #0087ff; text-decoration-color: #0087ff\">Dense</span>)           │ (<span style=\"color: #00d7ff; text-decoration-color: #00d7ff\">None</span>, <span style=\"color: #00af00; text-decoration-color: #00af00\">20</span>)             │            <span style=\"color: #00af00; text-decoration-color: #00af00\">340</span> │ input_layer_3[<span style=\"color: #00af00; text-decoration-color: #00af00\">0</span>][<span style=\"color: #00af00; text-decoration-color: #00af00\">0</span>]    │\n",
              "├───────────────────────────┼────────────────────────┼────────────────┼────────────────────────┤\n",
              "│ dense_7 (<span style=\"color: #0087ff; text-decoration-color: #0087ff\">Dense</span>)           │ (<span style=\"color: #00d7ff; text-decoration-color: #00d7ff\">None</span>, <span style=\"color: #00af00; text-decoration-color: #00af00\">20</span>)             │            <span style=\"color: #00af00; text-decoration-color: #00af00\">420</span> │ dense_6[<span style=\"color: #00af00; text-decoration-color: #00af00\">0</span>][<span style=\"color: #00af00; text-decoration-color: #00af00\">0</span>]          │\n",
              "├───────────────────────────┼────────────────────────┼────────────────┼────────────────────────┤\n",
              "│ var_output (<span style=\"color: #0087ff; text-decoration-color: #0087ff\">Dense</span>)        │ (<span style=\"color: #00d7ff; text-decoration-color: #00d7ff\">None</span>, <span style=\"color: #00af00; text-decoration-color: #00af00\">1</span>)              │             <span style=\"color: #00af00; text-decoration-color: #00af00\">21</span> │ dense_7[<span style=\"color: #00af00; text-decoration-color: #00af00\">0</span>][<span style=\"color: #00af00; text-decoration-color: #00af00\">0</span>]          │\n",
              "├───────────────────────────┼────────────────────────┼────────────────┼────────────────────────┤\n",
              "│ mean_output (<span style=\"color: #0087ff; text-decoration-color: #0087ff\">Dense</span>)       │ (<span style=\"color: #00d7ff; text-decoration-color: #00d7ff\">None</span>, <span style=\"color: #00af00; text-decoration-color: #00af00\">1</span>)              │             <span style=\"color: #00af00; text-decoration-color: #00af00\">21</span> │ dense_7[<span style=\"color: #00af00; text-decoration-color: #00af00\">0</span>][<span style=\"color: #00af00; text-decoration-color: #00af00\">0</span>]          │\n",
              "├───────────────────────────┼────────────────────────┼────────────────┼────────────────────────┤\n",
              "│ multiply_7 (<span style=\"color: #0087ff; text-decoration-color: #0087ff\">Multiply</span>)     │ (<span style=\"color: #00d7ff; text-decoration-color: #00d7ff\">None</span>, <span style=\"color: #00af00; text-decoration-color: #00af00\">1</span>)              │              <span style=\"color: #00af00; text-decoration-color: #00af00\">0</span> │ var_output[<span style=\"color: #00af00; text-decoration-color: #00af00\">0</span>][<span style=\"color: #00af00; text-decoration-color: #00af00\">0</span>]       │\n",
              "├───────────────────────────┼────────────────────────┼────────────────┼────────────────────────┤\n",
              "│ multiply_6 (<span style=\"color: #0087ff; text-decoration-color: #0087ff\">Multiply</span>)     │ (<span style=\"color: #00d7ff; text-decoration-color: #00d7ff\">None</span>, <span style=\"color: #00af00; text-decoration-color: #00af00\">1</span>)              │              <span style=\"color: #00af00; text-decoration-color: #00af00\">0</span> │ mean_output[<span style=\"color: #00af00; text-decoration-color: #00af00\">0</span>][<span style=\"color: #00af00; text-decoration-color: #00af00\">0</span>]      │\n",
              "├───────────────────────────┼────────────────────────┼────────────────┼────────────────────────┤\n",
              "│ add_7 (<span style=\"color: #0087ff; text-decoration-color: #0087ff\">Add</span>)               │ (<span style=\"color: #00d7ff; text-decoration-color: #00d7ff\">None</span>, <span style=\"color: #00af00; text-decoration-color: #00af00\">1</span>)              │              <span style=\"color: #00af00; text-decoration-color: #00af00\">0</span> │ multiply_7[<span style=\"color: #00af00; text-decoration-color: #00af00\">0</span>][<span style=\"color: #00af00; text-decoration-color: #00af00\">0</span>]       │\n",
              "├───────────────────────────┼────────────────────────┼────────────────┼────────────────────────┤\n",
              "│ add_6 (<span style=\"color: #0087ff; text-decoration-color: #0087ff\">Add</span>)               │ (<span style=\"color: #00d7ff; text-decoration-color: #00d7ff\">None</span>, <span style=\"color: #00af00; text-decoration-color: #00af00\">1</span>)              │              <span style=\"color: #00af00; text-decoration-color: #00af00\">0</span> │ multiply_6[<span style=\"color: #00af00; text-decoration-color: #00af00\">0</span>][<span style=\"color: #00af00; text-decoration-color: #00af00\">0</span>]       │\n",
              "├───────────────────────────┼────────────────────────┼────────────────┼────────────────────────┤\n",
              "│ cast_10 (<span style=\"color: #0087ff; text-decoration-color: #0087ff\">Cast</span>)            │ (<span style=\"color: #00d7ff; text-decoration-color: #00d7ff\">None</span>, <span style=\"color: #00af00; text-decoration-color: #00af00\">1</span>)              │              <span style=\"color: #00af00; text-decoration-color: #00af00\">0</span> │ add_7[<span style=\"color: #00af00; text-decoration-color: #00af00\">0</span>][<span style=\"color: #00af00; text-decoration-color: #00af00\">0</span>]            │\n",
              "├───────────────────────────┼────────────────────────┼────────────────┼────────────────────────┤\n",
              "│ cast_11 (<span style=\"color: #0087ff; text-decoration-color: #0087ff\">Cast</span>)            │ (<span style=\"color: #00d7ff; text-decoration-color: #00d7ff\">None</span>, <span style=\"color: #00af00; text-decoration-color: #00af00\">1</span>)              │              <span style=\"color: #00af00; text-decoration-color: #00af00\">0</span> │ add_6[<span style=\"color: #00af00; text-decoration-color: #00af00\">0</span>][<span style=\"color: #00af00; text-decoration-color: #00af00\">0</span>]            │\n",
              "├───────────────────────────┼────────────────────────┼────────────────┼────────────────────────┤\n",
              "│ softplus_layer_3          │ (<span style=\"color: #00d7ff; text-decoration-color: #00d7ff\">None</span>, <span style=\"color: #00af00; text-decoration-color: #00af00\">1</span>)              │              <span style=\"color: #00af00; text-decoration-color: #00af00\">0</span> │ cast_10[<span style=\"color: #00af00; text-decoration-color: #00af00\">0</span>][<span style=\"color: #00af00; text-decoration-color: #00af00\">0</span>]          │\n",
              "│ (<span style=\"color: #0087ff; text-decoration-color: #0087ff\">SoftplusLayer</span>)           │                        │                │                        │\n",
              "├───────────────────────────┼────────────────────────┼────────────────┼────────────────────────┤\n",
              "│ concatenate_3             │ (<span style=\"color: #00d7ff; text-decoration-color: #00d7ff\">None</span>, <span style=\"color: #00af00; text-decoration-color: #00af00\">2</span>)              │              <span style=\"color: #00af00; text-decoration-color: #00af00\">0</span> │ cast_11[<span style=\"color: #00af00; text-decoration-color: #00af00\">0</span>][<span style=\"color: #00af00; text-decoration-color: #00af00\">0</span>],         │\n",
              "│ (<span style=\"color: #0087ff; text-decoration-color: #0087ff\">Concatenate</span>)             │                        │                │ softplus_layer_3[<span style=\"color: #00af00; text-decoration-color: #00af00\">0</span>][<span style=\"color: #00af00; text-decoration-color: #00af00\">0</span>] │\n",
              "└───────────────────────────┴────────────────────────┴────────────────┴────────────────────────┘\n",
              "</pre>\n"
            ]
          },
          "metadata": {}
        },
        {
          "output_type": "display_data",
          "data": {
            "text/plain": [
              "\u001b[1m Total params: \u001b[0m\u001b[38;5;34m802\u001b[0m (3.13 KB)\n"
            ],
            "text/html": [
              "<pre style=\"white-space:pre;overflow-x:auto;line-height:normal;font-family:Menlo,'DejaVu Sans Mono',consolas,'Courier New',monospace\"><span style=\"font-weight: bold\"> Total params: </span><span style=\"color: #00af00; text-decoration-color: #00af00\">802</span> (3.13 KB)\n",
              "</pre>\n"
            ]
          },
          "metadata": {}
        },
        {
          "output_type": "display_data",
          "data": {
            "text/plain": [
              "\u001b[1m Trainable params: \u001b[0m\u001b[38;5;34m802\u001b[0m (3.13 KB)\n"
            ],
            "text/html": [
              "<pre style=\"white-space:pre;overflow-x:auto;line-height:normal;font-family:Menlo,'DejaVu Sans Mono',consolas,'Courier New',monospace\"><span style=\"font-weight: bold\"> Trainable params: </span><span style=\"color: #00af00; text-decoration-color: #00af00\">802</span> (3.13 KB)\n",
              "</pre>\n"
            ]
          },
          "metadata": {}
        },
        {
          "output_type": "display_data",
          "data": {
            "text/plain": [
              "\u001b[1m Non-trainable params: \u001b[0m\u001b[38;5;34m0\u001b[0m (0.00 B)\n"
            ],
            "text/html": [
              "<pre style=\"white-space:pre;overflow-x:auto;line-height:normal;font-family:Menlo,'DejaVu Sans Mono',consolas,'Courier New',monospace\"><span style=\"font-weight: bold\"> Non-trainable params: </span><span style=\"color: #00af00; text-decoration-color: #00af00\">0</span> (0.00 B)\n",
              "</pre>\n"
            ]
          },
          "metadata": {}
        },
        {
          "output_type": "stream",
          "name": "stdout",
          "text": [
            "Epoch 414: early stopping\n",
            "Restoring model weights from the end of the best epoch: 314.\n"
          ]
        },
        {
          "output_type": "stream",
          "name": "stderr",
          "text": [
            "/tmp/ddf_common/model.py:233: UserWarning: Attempt to set non-positive ylim on a log-scaled axis will be ignored.\n",
            "  plt.ylim((0, 10))\n"
          ]
        },
        {
          "output_type": "display_data",
          "data": {
            "text/plain": [
              "<Figure size 640x480 with 1 Axes>"
            ],
            "image/png": "[encoded data removed]"
          },
          "metadata": {}
        },
        {
          "output_type": "stream",
          "name": "stdout",
          "text": [
            "Val loss: 1.1864022016525269\n",
            "Train loss: 0.7602194547653198\n",
            "Test loss: 3.2815773487091064\n",
            "dO18 RMSE: 2.918257596938874\n",
            "Driver: GTiff/GeoTIFF\n",
            "Size is 5418 x 4683 x 1\n",
            "Projection is GEOGCS[\"WGS 84\",DATUM[\"WGS_1984\",SPHEROID[\"WGS 84\",6378137,298.257223563,AUTHORITY[\"EPSG\",\"7030\"]],AUTHORITY[\"EPSG\",\"6326\"]],PRIMEM[\"Greenwich\",0,AUTHORITY[\"EPSG\",\"8901\"]],UNIT[\"degree\",0.0174532925199433,AUTHORITY[\"EPSG\",\"9122\"]],AXIS[\"Latitude\",NORTH],AXIS[\"Longitude\",EAST],AUTHORITY[\"EPSG\",\"4326\"]]\n",
            "Origin = (-73.99167, 5.275)\n",
            "Pixel Size = (0.008333333333333333, -0.008333333333333333)\n"
          ]
        }
      ]
    },
    {
      "cell_type": "markdown",
      "source": [
        "# Optional Rendering"
      ],
      "metadata": {
        "id": "7zFnMtn63vwB"
      }
    },
    {
      "cell_type": "code",
      "source": [
        "from matplotlib import rc\n",
        "rc('animation', html='jshtml')\n",
        "\n",
        "means_isoscape = raster.load_raster(ISOSCAPE_SAVE_LOCATION, use_only_band_index=0)\n",
        "raster.animate(means_isoscape,  1, 1)"
      ],
      "metadata": {
        "id": "oy8an-kt3dDN"
      },
      "execution_count": null,
      "outputs": []
    },
    {
      "cell_type": "code",
      "source": [
        "vars_isoscape = raster.load_raster(ISOSCAPE_SAVE_LOCATION, use_only_band_index=1)\n",
        "raster.animate(vars_isoscape,  1, 1)"
      ],
      "metadata": {
        "id": "D0FUb1bX3WQa"
      },
      "execution_count": null,
      "outputs": []
    }
  ],
  "metadata": {
    "colab": {
      "provenance": [],
      "include_colab_link": true
    },
    "kernelspec": {
      "display_name": "Python 3",
      "name": "python3"
    },
    "language_info": {
      "name": "python"
    },
    "orig_nbformat": 4
  },
  "nbformat": 4,
  "nbformat_minor": 0
}