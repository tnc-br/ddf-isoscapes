{
  "cells": [
    {
      "cell_type": "code",
      "execution_count": 2,
      "metadata": {
        "id": "henIPlAPCb4i"
      },
      "outputs": [],
      "source": [
        "from collections import defaultdict\n",
        "import math\n",
        "import numpy as np\n",
        "import pandas as pd\n",
        "from typing import List\n",
        "\n",
        "#@title Debugging\n",
        "# See https://zohaib.me/debugging-in-google-collab-notebook/ for tips,\n",
        "# as well as docs for pdb and ipdb.\n",
        "DEBUG = False #@param {type:\"boolean\"}\n",
        "GDRIVE_BASE = \"/content/drive\" #@param\n",
        "DATAFRAME_PATH = \"/MyDrive/amazon_rainforest_files/monthly_large.csv\" #@param\n",
        "RASTER_BASE = \"/MyDrive/amazon_rainforest_files/amazon_rasters/\" #@param\n",
        "MODEL_SAVE_LOCATION = \"/MyDrive/amazon_rainforest_files/\" #@param\n",
        "\n",
        "def get_dataframe_path_from_params() -> str:\n",
        "  root = GDRIVE_BASE if GDRIVE_BASE else \"\"\n",
        "  return f\"{root}{DATAFRAME_PATH}\"\n",
        "\n",
        "def get_model_save_location(filename) -> str:\n",
        "  root = GDRIVE_BASE if GDRIVE_BASE else \"\"\n",
        "  return f\"{root}{MODEL_SAVE_LOCATION}{filename}\"\n",
        "\n",
        "def get_raster_path_from_params(filename) -> str:\n",
        "  root = GDRIVE_BASE if GDRIVE_BASE else \"\"\n",
        "  return f\"{root}{RASTER_BASE}{filename}\""
      ]
    },
    {
      "cell_type": "code",
      "execution_count": null,
      "metadata": {
        "id": "xeNtt6exCb4n"
      },
      "outputs": [],
      "source": [
        "# Access data stored on Google Drive\n",
        "if GDRIVE_BASE:\n",
        "    from google.colab import drive\n",
        "    drive.mount(GDRIVE_BASE)\n",
        "\n",
        "if DEBUG:\n",
        "    %pip install -Uqq ipdb\n",
        "    import ipdb\n",
        "    %pdb on"
      ]
    },
    {
      "cell_type": "code",
      "execution_count": 4,
      "metadata": {
        "id": "dEhjp8rhCb4o"
      },
      "outputs": [],
      "source": [
        "def render_plot_loss(history, name):\n",
        "  plt.plot(history.history['loss'])\n",
        "  plt.plot(history.history['val_loss'])\n",
        "  plt.title(name + ' model loss')\n",
        "  plt.ylabel('loss')\n",
        "  plt.xlabel('epoch')\n",
        "  plt.legend(['loss', 'val_loss'], loc='upper left')\n",
        "  plt.show()"
      ]
    },
    {
      "cell_type": "markdown",
      "metadata": {
        "id": "GQrEv57zCb4q"
      },
      "source": [
        "#Data preparation\n"
      ]
    },
    {
      "cell_type": "code",
      "source": [
        "from sklearn.model_selection import train_test_split\n",
        "\n",
        "df = pd.read_csv(get_dataframe_path_from_params())\n",
        "df = df.rename(columns={\n",
        "    \"cellulose_oxygen_ratio\": \"O18\",\n",
        "})\n",
        "\n",
        "# Categorize months into 12 separate binary columns.\n",
        "def categorize_months(df: pd.DataFrame):\n",
        "  return pd.get_dummies(df, columns=['month_of_year'])\n",
        "\n",
        "df = categorize_months(df)\n",
        "train, test = train_test_split(df, test_size=0.25, random_state=25)\n",
        "Y_train = train['O18']\n",
        "Y_test = test['O18']\n",
        "\n",
        "# Sample site coordinates are redundant with lat and lon columns.\n",
        "X_train = train.drop(['O18', 'sample_site_lon', 'sample_site_lat'], axis=1)\n",
        "X_test = test.drop(['O18', 'sample_site_lon', 'sample_site_lat'], axis=1)"
      ],
      "metadata": {
        "id": "6XMee1aHfcik"
      },
      "execution_count": 49,
      "outputs": []
    },
    {
      "cell_type": "markdown",
      "metadata": {
        "id": "nUDsOgFJCb4t"
      },
      "source": [
        "# 1) Neural network to predict O18 ratios"
      ]
    },
    {
      "cell_type": "markdown",
      "source": [
        "Model definition:"
      ],
      "metadata": {
        "id": "hjmind1Q6uYQ"
      }
    },
    {
      "cell_type": "code",
      "source": [
        "import tensorflow as tf\n",
        "from tensorflow import keras\n",
        "from tensorflow.keras import layers, regularizers\n",
        "from matplotlib import pyplot as plt\n",
        "\n",
        "def train_means(\n",
        "        X: pd.DataFrame,\n",
        "        Y: pd.DataFrame,\n",
        "        hidden_layers: List[int],\n",
        "        epochs: int,\n",
        "        batch_size: int,\n",
        "        lr: float):\n",
        "    shared_layers = []\n",
        "    for num_nodes in hidden_layers:\n",
        "        shared_layers.append(layers.Dense(\n",
        "            num_nodes,\n",
        "            activation='sigmoid'))\n",
        "\n",
        "    num_inputs = X.shape[1]\n",
        "    inputs = keras.Input(shape=(num_inputs,))\n",
        "    x = inputs\n",
        "    for shared_layer in shared_layers:\n",
        "        x = shared_layer(x)\n",
        "\n",
        "    # Output is mean. Connect to shared nodes.\n",
        "    mean_output_layer = layers.Dense(1, activation='linear', name='mean_output')\n",
        "    mean_output_node = mean_output_layer(x)\n",
        "\n",
        "    model = keras.Model(inputs=inputs, outputs=[mean_output_node])\n",
        "\n",
        "    optimizer = keras.optimizers.Adam(learning_rate=lr)\n",
        "    model.compile(optimizer=optimizer, loss='mse')\n",
        "    print (model.summary())\n",
        "    history = model.fit(X, Y, epochs=epochs, verbose=False, batch_size=batch_size, validation_split=0.2, shuffle=True)\n",
        "    return history, model"
      ],
      "metadata": {
        "id": "1nfAVtW53ZH1"
      },
      "execution_count": 50,
      "outputs": []
    },
    {
      "cell_type": "markdown",
      "source": [
        "Train and evaluate results:"
      ],
      "metadata": {
        "id": "TTJKqZZn6s6f"
      }
    },
    {
      "cell_type": "code",
      "source": [
        "# Train and render results.\n",
        "history, means_model = train_means(X_train, Y_train, hidden_layers=[24, 40], epochs=2000, batch_size=500, lr = 0.0001)\n",
        "render_plot_loss(history, \"mean_output\")\n",
        "means_model.evaluate(x=X_test, y=Y_test)"
      ],
      "metadata": {
        "id": "IecLJ7D5DIQ-",
        "outputId": "a8056df1-6949-4e14-8039-21d04ae0014d",
        "colab": {
          "base_uri": "https://localhost:8080/",
          "height": 848
        }
      },
      "execution_count": 52,
      "outputs": [
        {
          "output_type": "stream",
          "name": "stdout",
          "text": [
            "Model: \"model_14\"\n",
            "_________________________________________________________________\n",
            " Layer (type)                Output Shape              Param #   \n",
            "=================================================================\n",
            " input_15 (InputLayer)       [(None, 19)]              0         \n",
            "                                                                 \n",
            " dense_28 (Dense)            (None, 24)                480       \n",
            "                                                                 \n",
            " dense_29 (Dense)            (None, 40)                1000      \n",
            "                                                                 \n",
            " mean_output (Dense)         (None, 1)                 41        \n",
            "                                                                 \n",
            "=================================================================\n",
            "Total params: 1,521\n",
            "Trainable params: 1,521\n",
            "Non-trainable params: 0\n",
            "_________________________________________________________________\n",
            "None\n"
          ]
        },
        {
          "output_type": "display_data",
          "data": {
            "text/plain": [
              "<Figure size 640x480 with 1 Axes>"
            ],
            "image/png": "[encoded data removed]"
          },
          "metadata": {}
        },
        {
          "output_type": "stream",
          "name": "stdout",
          "text": [
            "43/43 [==============================] - 0s 871us/step - loss: 8.2180\n"
          ]
        },
        {
          "output_type": "execute_result",
          "data": {
            "text/plain": [
              "8.21796989440918"
            ]
          },
          "metadata": {},
          "execution_count": 52
        }
      ]
    },
    {
      "cell_type": "code",
      "source": [
        "means_model.save(get_model_save_location(\"dnn_means.h5\"), save_format=\"h5\")"
      ],
      "metadata": {
        "id": "4v8KfwFPorQk"
      },
      "execution_count": 23,
      "outputs": []
    },
    {
      "cell_type": "markdown",
      "source": [
        "# 2) Hybrid Means and Variances model"
      ],
      "metadata": {
        "id": "b2fM8s-CjmLH"
      }
    },
    {
      "cell_type": "markdown",
      "source": [
        "Model definition:"
      ],
      "metadata": {
        "id": "J_aOGzxlgpPo"
      }
    },
    {
      "cell_type": "code",
      "source": [
        "from tensorflow.python.ops import math_ops\n",
        "\n",
        "# Fitting would go on much longer than it needs to unless we signal for it\n",
        "# to stop early. If val_loss hasn't changed for 300 iterations, stop.\n",
        "early_stop = keras.callbacks.EarlyStopping(\n",
        "    monitor='val_loss', patience=300, min_delta=0.01, verbose=1)\n",
        "terminate_nan = keras.callbacks.TerminateOnNaN()\n",
        "\n",
        "def mean_and_var_loss(y_real, y_pred):\n",
        "  y_pred = tf.convert_to_tensor(y_pred)\n",
        "  y_real = math_ops.cast(y_real, y_pred.dtype)\n",
        "  mean = y_pred[..., 0::2]\n",
        "  variance = y_pred[..., 1::2]\n",
        "  res = tf.square(mean - y_real) + tf.math.square(variance - tf.square(mean - y_real))\n",
        "  return tf.reduce_mean(res, axis=-1)\n",
        "\n",
        "def train_means_and_vars(X: pd.DataFrame,\n",
        "        Y: pd.DataFrame,\n",
        "        hidden_layers: List[int],\n",
        "        epochs: int,\n",
        "        batch_size: int,\n",
        "        lr: float):\n",
        "  inputs = keras.Input(shape=(X.shape[1],))\n",
        "  x = inputs\n",
        "  for layer_size in hidden_layers:\n",
        "    x = keras.layers.Dense(layer_size, activation=tf.nn.softsign)(x)\n",
        "  mean_output = keras.layers.Dense(1, activation='linear', name='mean_output',\n",
        "                                   kernel_regularizer=keras.regularizers.L2(0.01))(x)\n",
        "  var_output = keras.layers.Dense(1, activation=tf.nn.softsign, name='var_output')(x)\n",
        "  outputs = keras.layers.concatenate([mean_output, var_output])\n",
        "  model = keras.Model(inputs=inputs, outputs=outputs)\n",
        "\n",
        "  model.compile(optimizer='adam', loss=mean_and_var_loss, metrics=['mae'])\n",
        "  model.summary()\n",
        "  history = model.fit(X, Y, verbose=0, epochs=epochs, batch_size=batch_size,\n",
        "            validation_split=0.4, callbacks=[terminate_nan, early_stop])\n",
        "  return history, model\n",
        ""
      ],
      "metadata": {
        "id": "QxFLNraRjpXz"
      },
      "execution_count": 47,
      "outputs": []
    },
    {
      "cell_type": "markdown",
      "source": [
        "Build and evaluate"
      ],
      "metadata": {
        "id": "U8SJ4ViogozK"
      }
    },
    {
      "cell_type": "code",
      "source": [
        "history, model = train_means_and_vars(X_train, Y_train, hidden_layers=[80, 80], epochs=5000, batch_size=100, lr = 0.001)\n",
        "render_plot_loss(history, \"mean_and_var\")\n",
        "model.evaluate(x=X_test, y=Y_test)"
      ],
      "metadata": {
        "colab": {
          "base_uri": "https://localhost:8080/",
          "height": 923
        },
        "id": "vSjTYb0qlYxb",
        "outputId": "f5971d02-22da-46b9-9832-ff2305561dca"
      },
      "execution_count": 48,
      "outputs": [
        {
          "output_type": "stream",
          "name": "stdout",
          "text": [
            "Model: \"model_12\"\n",
            "__________________________________________________________________________________________________\n",
            " Layer (type)                   Output Shape         Param #     Connected to                     \n",
            "==================================================================================================\n",
            " input_13 (InputLayer)          [(None, 19)]         0           []                               \n",
            "                                                                                                  \n",
            " dense_24 (Dense)               (None, 80)           1600        ['input_13[0][0]']               \n",
            "                                                                                                  \n",
            " dense_25 (Dense)               (None, 80)           6480        ['dense_24[0][0]']               \n",
            "                                                                                                  \n",
            " mean_output (Dense)            (None, 1)            81          ['dense_25[0][0]']               \n",
            "                                                                                                  \n",
            " var_output (Dense)             (None, 1)            81          ['dense_25[0][0]']               \n",
            "                                                                                                  \n",
            " concatenate_2 (Concatenate)    (None, 2)            0           ['mean_output[0][0]',            \n",
            "                                                                  'var_output[0][0]']             \n",
            "                                                                                                  \n",
            "==================================================================================================\n",
            "Total params: 8,242\n",
            "Trainable params: 8,242\n",
            "Non-trainable params: 0\n",
            "__________________________________________________________________________________________________\n"
          ]
        },
        {
          "output_type": "display_data",
          "data": {
            "text/plain": [
              "<Figure size 640x480 with 1 Axes>"
            ],
            "image/png": "[encoded data removed]"
          },
          "metadata": {}
        },
        {
          "output_type": "stream",
          "name": "stdout",
          "text": [
            "43/43 [==============================] - 0s 869us/step - loss: 0.5190 - mae: 19.0596\n"
          ]
        },
        {
          "output_type": "execute_result",
          "data": {
            "text/plain": [
              "[0.5190075039863586, 19.059589385986328]"
            ]
          },
          "metadata": {},
          "execution_count": 48
        }
      ]
    },
    {
      "cell_type": "code",
      "source": [
        "model.save(get_model_save_location(\"dual_model.h5\"), save_format=\"h5\")"
      ],
      "metadata": {
        "id": "S1bkrrtyzHG7"
      },
      "execution_count": 14,
      "outputs": []
    },
    {
      "cell_type": "markdown",
      "source": [
        "# 3) A seperate model for variances (WORK IN PROGRESS)\n",
        "\n"
      ],
      "metadata": {
        "id": "usGznR593LZc"
      }
    },
    {
      "cell_type": "markdown",
      "source": [
        "Prepare the data slightly differently for variances. We need to group by sample site and find the variances at said sample sites."
      ],
      "metadata": {
        "id": "Bk2vUUqV7gqq"
      }
    },
    {
      "cell_type": "code",
      "execution_count": 21,
      "metadata": {
        "id": "6eSNtXphCb4s"
      },
      "outputs": [],
      "source": [
        "group_on = ['sample_site_lon', 'sample_site_lat', 'month_of_year']\n",
        "grouped = df.groupby(group_on)\n",
        "\n",
        "# ASSUMPTION: Taking the mean and variance of a sample site doesn't lower quality of the data.\n",
        "# We need to do this to use KL-divergence loss.\n",
        "means = grouped.mean()\n",
        "O18_var = grouped.var()['O18']\n",
        "\n",
        "# Merging results in some unreadable column names. Rename the oxygen columns.\n",
        "merged = pd.merge(means, O18_var, on=group_on, how='inner').reset_index()\n",
        "merged = merged.rename(columns={\n",
        "    'O18_x': 'O18_mean',\n",
        "    'O18_y': 'O18_var'})\n",
        "\n",
        "# ...and drop sample_site_lon/sample_site_lat. These were keys used to identify\n",
        "# sample sites. They are basically duplicates of the 'lat' 'lon' columns.\n",
        "merged.drop(merged.columns[merged.columns.str.contains('unnamed',case = False)], axis = 1, inplace = True)\n",
        "merged.drop('sample_site_lon', axis = 1, inplace = True)\n",
        "merged.drop('sample_site_lat', axis = 1, inplace = True)\n",
        "\n",
        "\n",
        "merged = categorize_months(merged)\n",
        "\n",
        "train, test = train_test_split(merged, test_size=0.25, random_state=25)\n",
        "\n",
        "# Target data: Mean and variance\n",
        "Y_train_means = train[[\"O18_mean\"]]\n",
        "Y_test_means = test[[\"O18_mean\"]]\n",
        "\n",
        "Y_train_vars = train[[\"O18_var\"]]\n",
        "Y_test_vars = test[[\"O18_var\"]]\n",
        "\n",
        "# Features: Everything besides mean and variance\n",
        "train.drop(train.columns[train.columns.str.contains('unnamed',case = False)],axis = 1, inplace = True)\n",
        "X_train_means = train.drop([\"O18_mean\"], axis=1)\n",
        "X_test_means = test.drop([\"O18_mean\"], axis=1)\n",
        "X_train_vars = train.drop([\"O18_var\"], axis=1)\n",
        "X_test_vars = test.drop([\"O18_var\"], axis=1)\n",
        "\n",
        "# Normalize dataset for training variances.\n",
        "X_train_vars = (X_train_vars-X_train_vars.min())/(X_train_vars.max()-X_train_vars.min())\n",
        "X_test_vars = (X_test_vars-X_test_vars.min())/(X_test_vars.max()-X_train_vars.min())"
      ]
    },
    {
      "cell_type": "markdown",
      "source": [
        "Model definition. I tried experimenting with 3 different loss functions. They all produced gibberish:"
      ],
      "metadata": {
        "id": "8rI6qPRh7oO7"
      }
    },
    {
      "cell_type": "code",
      "source": [
        "import tensorflow_probability as tfp\n",
        "\n",
        "def kl_divergence_loss_1(real, predicted):\n",
        "    real_value = tf.gather(real, [0], axis=1)\n",
        "    real_variance = tf.gather(real, [1], axis=1) + 0.00000001\n",
        "    predicted_value = tf.gather(predicted, [0], axis=1)\n",
        "    predicted_variance = tf.gather(predicted, [1], axis=1) + 0.00000001\n",
        "\n",
        "    kl_loss = -0.5 + tf.math.log(predicted_variance/real_variance) + \\\n",
        "     (tf.square(real_variance) + tf.square(real_value - predicted_value))/ \\\n",
        "     2*tf.square(predicted_variance)\n",
        "\n",
        "    return tf.math.reduce_mean(tf.square(kl_loss))\n",
        "\n",
        "def kl_divergence_loss_v2(real, predicted):\n",
        "    kl_loss = real * tf.math.log(real/predicted)\n",
        "    return tf.math.reduce_sum(kl_loss)\n",
        "\n",
        "def negative_log_likelihood(real, predicted):\n",
        "  return -predicted.log_prob(real)\n",
        "\n",
        "# Similar architecture to means, but with different activation functions and\n",
        "# dropout layers.\n",
        "def train_vars(\n",
        "        X: pd.DataFrame,\n",
        "        Y: pd.DataFrame,\n",
        "        hidden_layers: List[int],\n",
        "        epochs: int,\n",
        "        batch_size: int,\n",
        "        lr: float):\n",
        "    shared_layers = []\n",
        "    for num_nodes in hidden_layers:\n",
        "        shared_layers.append(layers.Dense(\n",
        "            num_nodes,\n",
        "            activation='relu'))\n",
        "\n",
        "    #Initialize input layers and connect them to shared layers.\n",
        "    num_inputs = X.shape[1]\n",
        "    inputs = keras.Input(shape=(num_inputs,))\n",
        "    x = inputs\n",
        "    x = layers.Dropout(0.5, input_shape=(num_inputs,))(x)\n",
        "    for shared_layer in shared_layers:\n",
        "        x = shared_layer(x)\n",
        "\n",
        "    mean_output_node = layers.Dense(1, activation='relu', name='mean_output')(x)\n",
        "    prob_output_node = tfp.layers.DistributionLambda(lambda t:\n",
        "                tfp.distributions.Normal(loc   = t[...,:1],\n",
        "                           scale=tf.math.softplus(0.005*t[...,1:])+0.001))(x)\n",
        "\n",
        "    model = keras.Model(inputs=inputs, outputs=[prob_output_node])\n",
        "\n",
        "    optimizer = keras.optimizers.Adam(learning_rate=lr)\n",
        "    model.compile(optimizer=optimizer, loss=negative_log_likelihood)\n",
        "    print (model.summary())\n",
        "    history = model.fit(X, Y, epochs=epochs, verbose=1, batch_size=batch_size, validation_split=0.2, shuffle=True)\n",
        "    return history, model"
      ],
      "metadata": {
        "id": "HCkGSPUo3KqY"
      },
      "execution_count": 34,
      "outputs": []
    },
    {
      "cell_type": "code",
      "source": [
        "history, vars_model = train_vars(X_train, Y_train, hidden_layers=[17, 80], epochs=1000, batch_size=500, lr=0.001)\n",
        "render_plot_loss(history, \"variance_output\")"
      ],
      "metadata": {
        "id": "DALuUm8UOgNu"
      },
      "execution_count": null,
      "outputs": []
    },
    {
      "cell_type": "code",
      "source": [
        "vars_model.evaluate(x=X_test_vars, y=Y_test_vars)\n",
        "predictions = vars_model.predict_on_batch(X_test_vars)\n",
        "print(Y_test_means)"
      ],
      "metadata": {
        "id": "atXMV8fdVatz"
      },
      "execution_count": null,
      "outputs": []
    },
    {
      "cell_type": "code",
      "source": [
        "vars_model.save(get_model_save_location(\"dnn_vars.h5\"), save_format=\"h5\")"
      ],
      "metadata": {
        "id": "izWtZwKbOrmk"
      },
      "execution_count": null,
      "outputs": []
    },
    {
      "cell_type": "markdown",
      "source": [
        "## Generating GeoTIFFs from the DNN\n",
        "\n",
        "All of the code from the following block is (temporarily) copy and pasted from the library files."
      ],
      "metadata": {
        "id": "POFF4TG1pIZd"
      }
    },
    {
      "cell_type": "code",
      "source": [
        "from dataclasses import dataclass\n",
        "from osgeo import gdal, gdal_array\n",
        "from tqdm import tqdm\n",
        "import math\n",
        "\n",
        "@dataclass\n",
        "class AmazonGeoTiff:\n",
        "  \"\"\"Represents a geotiff from our dataset.\"\"\"\n",
        "  gdal_dataset: gdal.Dataset\n",
        "  image_value_array: np.ndarray # ndarray of floats\n",
        "  image_mask_array: np.ndarray # ndarray of uint8\n",
        "  masked_image: np.ma.masked_array\n",
        "  yearly_masked_image: np.ma.masked_array\n",
        "\n",
        "\n",
        "@dataclass\n",
        "class Bounds:\n",
        "  \"\"\"Represents geographic bounds and size information.\"\"\"\n",
        "  minx: float\n",
        "  maxx: float\n",
        "  miny: float\n",
        "  maxy: float\n",
        "  pixel_size_x: float\n",
        "  pixel_size_y: float\n",
        "  raster_size_x: float\n",
        "  raster_size_y: float\n",
        "\n",
        "def to_matplotlib(self) -> List[float]:\n",
        "    return [self.minx, self.maxx, self.miny, self.maxy]\n",
        "\n",
        "def load_raster(path: str, use_only_band_index: int = -1) -> AmazonGeoTiff:\n",
        "  \"\"\"\n",
        "  TODO: Refactor (is_single_band, etc., should be a better design)\n",
        "  --> Find a way to simplify this logic. Maybe it needs to be more abstract.\n",
        "  \"\"\"\n",
        "  dataset = gdal.Open(path, gdal.GA_ReadOnly)\n",
        "  image_datatype = dataset.GetRasterBand(1).DataType\n",
        "  mask_datatype = dataset.GetRasterBand(1).GetMaskBand().DataType\n",
        "  image = np.zeros((dataset.RasterYSize, dataset.RasterXSize, 12),\n",
        "                   dtype=gdal_array.GDALTypeCodeToNumericTypeCode(image_datatype))\n",
        "  mask = np.zeros((dataset.RasterYSize, dataset.RasterXSize, 12),\n",
        "                  dtype=gdal_array.GDALTypeCodeToNumericTypeCode(image_datatype))\n",
        "\n",
        "  if use_only_band_index == -1:\n",
        "    if dataset.RasterCount != 12 and dataset.RasterCount != 1:\n",
        "      raise ValueError(f\"Expected 12 raster bands (one for each month) or one annual average, but found {dataset.RasterCount}\")\n",
        "    if dataset.RasterCount == 1:\n",
        "      use_only_band_index = 0\n",
        "\n",
        "  is_single_band = use_only_band_index != -1\n",
        "\n",
        "  if is_single_band and use_only_band_index >= dataset.RasterCount:\n",
        "    raise IndexError(f\"Specified raster band index {use_only_band_index}\"\n",
        "                     f\" but there are only {dataset.RasterCount} rasters\")\n",
        "\n",
        "  for band_index in range(12):\n",
        "    band = dataset.GetRasterBand(use_only_band_index+1 if is_single_band else band_index+1)\n",
        "    image[:, :, band_index] = band.ReadAsArray()\n",
        "    mask[:, :, band_index] = band.GetMaskBand().ReadAsArray()\n",
        "  masked_image = np.ma.masked_where(mask == 0, image)\n",
        "  yearly_masked_image = masked_image.mean(axis=2)\n",
        "\n",
        "  return AmazonGeoTiff(dataset, image, mask, masked_image, yearly_masked_image)\n",
        "\n",
        "def get_extent(dataset):\n",
        "  geoTransform = dataset.GetGeoTransform()\n",
        "  minx = geoTransform[0]\n",
        "  maxy = geoTransform[3]\n",
        "  maxx = minx + geoTransform[1] * dataset.RasterXSize\n",
        "  miny = maxy + geoTransform[5] * dataset.RasterYSize\n",
        "  return Bounds(minx, maxx, miny, maxy, geoTransform[1], geoTransform[5], dataset.RasterXSize, dataset.RasterYSize)\n",
        "\n",
        "def coords_to_indices(bounds: Bounds, x: float, y: float):\n",
        "  if x < bounds.minx or x > bounds.maxx or y < bounds.miny or y > bounds.maxy:\n",
        "    raise ValueError(\"Coordinates out of bounds\")\n",
        "\n",
        "  # X => lat, Y => lon\n",
        "  x_idx = bounds.raster_size_y - int(math.ceil((y - bounds.miny) / abs(bounds.pixel_size_y)))\n",
        "  y_idx = int((x - bounds.minx) / abs(bounds.pixel_size_x))\n",
        "\n",
        "  return x_idx, y_idx\n",
        "\n",
        "def get_data_at_coords(dataset: AmazonGeoTiff, x: float, y: float, month: int) -> float:\n",
        "  # x = longitude\n",
        "  # y = latitude\n",
        "  bounds = get_extent(dataset.gdal_dataset)\n",
        "  x_idx, y_idx = coords_to_indices(bounds, x, y)\n",
        "  if month == -1:\n",
        "    value = dataset.yearly_masked_image[x_idx, y_idx]\n",
        "  else:\n",
        "    value = dataset.masked_image[x_idx, y_idx, month]\n",
        "  if np.ma.is_masked(value):\n",
        "    raise ValueError(\"Coordinates are masked\")\n",
        "  else:\n",
        "    return value\n"
      ],
      "metadata": {
        "id": "88AuYoy9pP3v"
      },
      "execution_count": null,
      "outputs": []
    },
    {
      "cell_type": "markdown",
      "source": [
        "The following code is new stuff, and used to generate a 12 GeoTIFFs (one for each month) from the model."
      ],
      "metadata": {
        "id": "PMEBK97Bxv2z"
      }
    },
    {
      "cell_type": "code",
      "source": [
        "def get_predictions_at_each_pixel(\n",
        "    monthly: bool,\n",
        "    geotiffs: dict[str, AmazonGeoTiff],\n",
        "    bounds: Bounds,\n",
        "    model: keras.Model):\n",
        "\n",
        "  # Initialize a blank plane representing means and variance.\n",
        "  predicted_means_np = np.ma.array(\n",
        "      np.zeros([bounds.raster_size_x, bounds.raster_size_y, 12 if monthly else 1], dtype=float),\n",
        "      mask=np.ones([bounds.raster_size_x, bounds.raster_size_y, 12 if monthly else 1], dtype=bool))\n",
        "  predicted_vars_np = np.ma.array(\n",
        "      np.zeros([bounds.raster_size_x, bounds.raster_size_y, 12 if monthly else 1], dtype=float),\n",
        "      mask=np.ones([bounds.raster_size_x, bounds.raster_size_y, 12 if monthly else 1], dtype=bool))\n",
        "\n",
        "  feature_names = [\"lat\", \"lon\", \"month_of_year\"] + list(geotiffs.keys())\n",
        "  for month in range (0, 12 if monthly else 1):\n",
        "    for x_idx, x in enumerate(tqdm(np.arange(bounds.minx, bounds.maxx, bounds.pixel_size_x, dtype=float))):\n",
        "      rows = []\n",
        "      row_indexes = []\n",
        "      for y_idx, y in enumerate(np.arange(bounds.miny, bounds.maxy, -bounds.pixel_size_y, dtype=float)):\n",
        "        row = {}\n",
        "        try:\n",
        "          for geotiff_label, geotiff in geotiffs.items():\n",
        "            row[geotiff_label] = get_data_at_coords(geotiff, x, y, month)\n",
        "          row[\"month_of_year\"] = month\n",
        "          row[\"lon\"] = x\n",
        "          row[\"lat\"] = y\n",
        "        except ValueError:\n",
        "          continue # masked and out-of-bounds coordinates\n",
        "        except IndexError:\n",
        "          continue\n",
        "        rows.append(row)\n",
        "        row_indexes.append((y_idx,month,))\n",
        "      if (len(rows) > 0):\n",
        "        X = pd.DataFrame.from_dict(rows)\n",
        "        predictions = model.predict_on_batch(X)\n",
        "\n",
        "        means_np = predictions[0]\n",
        "        for prediction, (y_idx, month_idx) in zip(means_np, row_indexes):\n",
        "          predicted_means_np.mask[x_idx,y_idx,month_idx] = False # unmask since we have data\n",
        "          predicted_means_np.data[x_idx,y_idx,month_idx] = prediction\n",
        "        vars_np = predictions[1]\n",
        "        for prediction, (y_idx, month_idx) in zip (vars_np, row_indexes):\n",
        "          predicted_vars_np.mask[x_idx, y_idx, month_idx] = False\n",
        "          predicted_vars_np.data[x_idx, y_idx, month_idx] = prediction\n",
        "\n",
        "  return predicted_means_np, predicted_vars_np"
      ],
      "metadata": {
        "id": "9vwqAMX0yCEI"
      },
      "execution_count": null,
      "outputs": []
    },
    {
      "cell_type": "code",
      "source": [
        "from tensorflow import keras\n",
        "model = keras.models.load_model(get_model_save_location(), custom_objects={\"kl_divergence_loss\": kl_divergence_loss})\n",
        "\n",
        "relative_humidity_geotiff = load_raster(get_raster_path_from_params(\"R.rh_Stack.tif\"))\n",
        "temperature_geotiff = load_raster(get_raster_path_from_params(\"Temperatura_Stack.tif\"))\n",
        "vapor_pressure_deficit_geotiff = load_raster(get_raster_path_from_params(\"R.vpd_Stack.tif\"))\n",
        "atmosphere_isoscape_geotiff = load_raster(get_raster_path_from_params(\"Iso_Oxi_Stack.tif\"))\n",
        "\n",
        "name_to_geotiff = {\n",
        "    \"rh\": relative_humidity_geotiff,\n",
        "    \"temp\" : temperature_geotiff,\n",
        "    \"vpd\" : vapor_pressure_deficit_geotiff,\n",
        "    \"atmosphere_oxygen_ratio\" : atmosphere_isoscape_geotiff,\n",
        "}\n",
        "\n",
        "# We need the borders of the map. Pick one geotiff at random and use that as the extent.\n",
        "bounds =  get_extent(atmosphere_isoscape_geotiff.gdal_dataset)\n",
        "\n",
        "means_np, vars_np = get_predictions_at_each_pixel(\n",
        "    monthly=True,\n",
        "    geotiffs=name_to_geotiff,\n",
        "    bounds=bounds,\n",
        "    model=model)"
      ],
      "metadata": {
        "colab": {
          "base_uri": "https://localhost:8080/"
        },
        "id": "su_oKXUpxvQO",
        "outputId": "b9c2a27c-ce1c-4a46-aad6-cd9e16e3d6fd"
      },
      "execution_count": null,
      "outputs": [
        {
          "output_type": "stream",
          "name": "stderr",
          "text": [
            "100%|██████████| 940/940 [00:32<00:00, 28.71it/s]\n",
            "100%|██████████| 940/940 [00:32<00:00, 28.81it/s]\n",
            "100%|██████████| 940/940 [00:35<00:00, 26.26it/s]\n",
            "100%|██████████| 940/940 [00:34<00:00, 27.03it/s]\n",
            "100%|██████████| 940/940 [00:33<00:00, 27.88it/s]\n",
            "100%|██████████| 940/940 [00:31<00:00, 29.40it/s]\n",
            "100%|██████████| 940/940 [00:33<00:00, 28.46it/s]\n",
            "100%|██████████| 940/940 [00:31<00:00, 29.47it/s]\n",
            "100%|██████████| 940/940 [00:33<00:00, 28.01it/s]\n",
            "100%|██████████| 940/940 [00:31<00:00, 29.58it/s]\n",
            "100%|██████████| 940/940 [00:33<00:00, 28.47it/s]\n",
            "100%|██████████| 940/940 [00:33<00:00, 27.96it/s]\n"
          ]
        }
      ]
    }
  ],
  "metadata": {
    "language_info": {
      "name": "python"
    },
    "orig_nbformat": 4,
    "colab": {
      "provenance": []
    },
    "kernelspec": {
      "name": "python3",
      "display_name": "Python 3"
    }
  },
  "nbformat": 4,
  "nbformat_minor": 0
}