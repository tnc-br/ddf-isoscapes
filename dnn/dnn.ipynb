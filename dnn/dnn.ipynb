{
  "cells": [
    {
      "cell_type": "code",
      "execution_count": 63,
      "metadata": {
        "id": "henIPlAPCb4i"
      },
      "outputs": [],
      "source": [
        "from collections import defaultdict\n",
        "import math\n",
        "import numpy as np\n",
        "import pandas as pd\n",
        "from typing import List\n",
        "\n",
        "#@title Debugging\n",
        "# See https://zohaib.me/debugging-in-google-collab-notebook/ for tips,\n",
        "# as well as docs for pdb and ipdb.\n",
        "DEBUG = False #@param {type:\"boolean\"}\n",
        "GDRIVE_BASE = \"/content/drive\" #@param\n",
        "DATAFRAME_PATH = \"/MyDrive/amazon_rainforest_files/monthly_large.csv\" #@param\n",
        "RASTER_BASE = \"/MyDrive/amazon_rainforest_files/amazon_rasters/\" #@param\n",
        "MODEL_SAVE_LOCATION = \"/MyDrive/amazon_rainforest_files/dnn_model.h5\" #@param\n",
        "\n",
        "def get_dataframe_path_from_params() -> str:\n",
        "  root = GDRIVE_BASE if GDRIVE_BASE else \"\"\n",
        "  return f\"{root}{DATAFRAME_PATH}\"\n",
        "\n",
        "def get_model_save_location() -> str:\n",
        "  root = GDRIVE_BASE if GDRIVE_BASE else \"\"\n",
        "  return f\"{root}{MODEL_SAVE_LOCATION}\"\n",
        "\n",
        "def get_raster_path_from_params(filename) -> str:\n",
        "  root = GDRIVE_BASE if GDRIVE_BASE else \"\"\n",
        "  return f\"{root}{RASTER_BASE}{filename}\""
      ]
    },
    {
      "cell_type": "code",
      "execution_count": null,
      "metadata": {
        "id": "xeNtt6exCb4n"
      },
      "outputs": [],
      "source": [
        "# Access data stored on Google Drive\n",
        "if GDRIVE_BASE:\n",
        "    from google.colab import drive\n",
        "    drive.mount(GDRIVE_BASE)\n",
        "\n",
        "if DEBUG:\n",
        "    %pip install -Uqq ipdb\n",
        "    import ipdb\n",
        "    %pdb on"
      ]
    },
    {
      "cell_type": "code",
      "execution_count": 169,
      "metadata": {
        "id": "dEhjp8rhCb4o"
      },
      "outputs": [],
      "source": [
        "import tensorflow as tf\n",
        "from tensorflow import keras\n",
        "from tensorflow.keras import layers, regularizers\n",
        "from matplotlib import pyplot as plt\n",
        "\n",
        "def kl_divergence_loss(real, predicted):\n",
        "    real_value = real[0]\n",
        "    real_variance = real[1] + 0.00000001\n",
        "    predicted_value = predicted[0]\n",
        "    predicted_variance = predicted[1] + 0.00000001\n",
        "\n",
        "    kl_loss = -0.5 + tf.math.log(predicted_variance/real_variance) + \\\n",
        "     (tf.square(real_variance) + tf.square(real_value - predicted_value))/ \\\n",
        "     2*tf.square(predicted_variance)\n",
        "    return tf.math.reduce_mean(tf.square(kl_loss))\n",
        "\n",
        "def train_nn(\n",
        "        X: pd.DataFrame,\n",
        "        Y: pd.DataFrame,\n",
        "        hidden_layers: List[int],\n",
        "        epochs: int,\n",
        "        batch_size: int):\n",
        "    # Layers share between mean and variance regressors.\n",
        "    model = keras.Sequential()\n",
        "    shared_layers = []\n",
        "    for num_nodes in hidden_layers:\n",
        "        shared_layers.append(layers.Dense(\n",
        "            num_nodes,\n",
        "            activation='sigmoid'))\n",
        "\n",
        "    #Initialize input layers and connect them to shared layers.\n",
        "    num_inputs = X.shape[1]\n",
        "    inputs = keras.Input(shape=(num_inputs,))\n",
        "    x = inputs\n",
        "    x = layers.Dropout(0.1, input_shape=(num_inputs,))(x)\n",
        "    for shared_layer in shared_layers:\n",
        "        x = shared_layer(x)\n",
        "        x = layers.Dropout(0.5)(x)\n",
        "\n",
        "    # Output is variance and mean, and connect to shared nodes.\n",
        "    mean_output_layer = layers.Dense(1, activation='linear', name='mean_output')\n",
        "    mean_output_node = mean_output_layer(x)\n",
        "    variance_output_layer = layers.Dense(1, activation='sigmoid', name='variance_output')\n",
        "    variance_output_node = variance_output_layer(x)\n",
        "    outputs = [mean_output_node, variance_output_node]\n",
        "\n",
        "    model = keras.Model(inputs=inputs, outputs=outputs)\n",
        "\n",
        "    optimizer = keras.optimizers.Adam(learning_rate=0.001)\n",
        "    model.compile(optimizer=optimizer, loss={'mean_output': 'mse', 'variance_output': kl_divergence_loss})\n",
        "    print (model.summary())\n",
        "    history = model.fit(X, Y, epochs=epochs, verbose=False, batch_size=batch_size, validation_split=0.2, shuffle=True)\n",
        "    return history, model\n",
        "\n",
        "def render_plot_loss(history):\n",
        "  plt.plot(history.history['mean_output_loss'])\n",
        "  plt.plot(history.history['variance_output_loss'])\n",
        "  plt.title('model loss')\n",
        "  plt.ylabel('loss')\n",
        "  plt.xlabel('epoch')\n",
        "  plt.legend(['mean', 'variance'], loc='upper left')\n",
        "  plt.show()"
      ]
    },
    {
      "cell_type": "markdown",
      "metadata": {
        "id": "GQrEv57zCb4q"
      },
      "source": [
        "Data preparation:"
      ]
    },
    {
      "cell_type": "code",
      "execution_count": 151,
      "metadata": {
        "id": "6eSNtXphCb4s"
      },
      "outputs": [],
      "source": [
        "from sklearn.model_selection import train_test_split\n",
        "\n",
        "df = pd.read_csv(get_dataframe_path_from_params())\n",
        "\n",
        "group_on = ['sample_site_lon', 'sample_site_lat', 'month_of_year']\n",
        "grouped = df.groupby(group_on)\n",
        "\n",
        "# ASSUMPTION: Taking the mean and variance of a sample site doesn't lower quality of the data.\n",
        "# We need to do this to use KL-divergence loss.\n",
        "means = grouped.mean()\n",
        "O18_var = grouped.var()['cellulose_oxygen_ratio']\n",
        "\n",
        "# Merging results in some unreadable column names. Rename the oxygen columns.\n",
        "merged = pd.merge(means, O18_var, on=group_on, how='inner').reset_index()\n",
        "merged = merged.rename(columns={\n",
        "    'cellulose_oxygen_ratio_x': 'O18_mean',\n",
        "    'cellulose_oxygen_ratio_y' : 'O18_var'})\n",
        "\n",
        "# ...and drop sample_site_lon/sample_site_lat. These were keys used to identify\n",
        "# sample sites. They are basically duplicates of the 'lat' 'lon' columns.\n",
        "merged.drop(merged.columns[merged.columns.str.contains('unnamed',case = False)], axis = 1, inplace = True)\n",
        "merged.drop('sample_site_lon', axis = 1, inplace = True)\n",
        "merged.drop('sample_site_lat', axis = 1, inplace = True)\n",
        "\n",
        "train, test = train_test_split(merged, test_size=0.25, random_state=25)\n",
        "\n",
        "# Target data: Mean and variance\n",
        "Y_train = train[[\"O18_mean\", \"O18_var\"]]\n",
        "Y_test = test[[\"O18_mean\", \"O18_var\"]]\n",
        "\n",
        "def format_output(Y):\n",
        "  y1 = Y.pop(\"O18_mean\")\n",
        "  y1 = np.array(y1)\n",
        "  y2 = Y.pop(\"O18_var\")\n",
        "  y2 = np.array(y2)\n",
        "  return y1, y2\n",
        "\n",
        "Y_train = format_output(Y_train)\n",
        "Y_test = format_output(Y_test)\n",
        "\n",
        "# Features: Everything besides mean and variance\n",
        "X_train = train.drop([\"O18_mean\", \"O18_var\"], axis=1)\n",
        "X_test = test.drop([\"O18_mean\", \"O18_var\"], axis=1)\n",
        "X_train.drop(X_train.columns[X_train.columns.str.contains('unnamed',case = False)],axis = 1, inplace = True)\n",
        "X_test.drop(X_test.columns[X_test.columns.str.contains('unnamed',case = False)],axis = 1, inplace = True)"
      ]
    },
    {
      "cell_type": "markdown",
      "metadata": {
        "id": "nUDsOgFJCb4t"
      },
      "source": [
        "Variance KL-loss: 0.9\n",
        "\n",
        "Mean MSE loss: 26.37\n",
        "\n",
        "\"General loss\": 27.03"
      ]
    },
    {
      "cell_type": "code",
      "source": [
        "# Train\n",
        "history, model = train_nn(X_train, Y_train, hidden_layers=[40, 100], epochs=5000, batch_size=15)\n",
        "render_plot_loss(history)"
      ],
      "metadata": {
        "id": "IecLJ7D5DIQ-",
        "outputId": "e4ec768e-a5d2-454e-80c1-3102169640c6",
        "colab": {
          "base_uri": "https://localhost:8080/",
          "height": 949
        }
      },
      "execution_count": 167,
      "outputs": [
        {
          "output_type": "stream",
          "name": "stdout",
          "text": [
            "Model: \"model_28\"\n",
            "__________________________________________________________________________________________________\n",
            " Layer (type)                   Output Shape         Param #     Connected to                     \n",
            "==================================================================================================\n",
            " input_30 (InputLayer)          [(None, 7)]          0           []                               \n",
            "                                                                                                  \n",
            " dropout (Dropout)              (None, 7)            0           ['input_30[0][0]']               \n",
            "                                                                                                  \n",
            " dense_58 (Dense)               (None, 40)           320         ['dropout[0][0]']                \n",
            "                                                                                                  \n",
            " dropout_1 (Dropout)            (None, 40)           0           ['dense_58[0][0]']               \n",
            "                                                                                                  \n",
            " dense_59 (Dense)               (None, 100)          4100        ['dropout_1[0][0]']              \n",
            "                                                                                                  \n",
            " dropout_2 (Dropout)            (None, 100)          0           ['dense_59[0][0]']               \n",
            "                                                                                                  \n",
            " mean_output (Dense)            (None, 1)            101         ['dropout_2[0][0]']              \n",
            "                                                                                                  \n",
            " variance_output (Dense)        (None, 1)            101         ['dropout_2[0][0]']              \n",
            "                                                                                                  \n",
            "==================================================================================================\n",
            "Total params: 4,622\n",
            "Trainable params: 4,622\n",
            "Non-trainable params: 0\n",
            "__________________________________________________________________________________________________\n",
            "None\n"
          ]
        },
        {
          "output_type": "display_data",
          "data": {
            "text/plain": [
              "<Figure size 640x480 with 1 Axes>"
            ],
            "image/png": "[encoded data removed]"
          },
          "metadata": {}
        }
      ]
    },
    {
      "cell_type": "code",
      "source": [
        "model.evaluate(x=X_test, y=Y_test)\n",
        "predictions = model.predict_on_batch(X_test)"
      ],
      "metadata": {
        "id": "oLCwyNCPMkVr"
      },
      "execution_count": null,
      "outputs": []
    },
    {
      "cell_type": "code",
      "source": [
        "model.save(get_model_save_location(), save_format=\"h5\")"
      ],
      "metadata": {
        "id": "4v8KfwFPorQk"
      },
      "execution_count": 160,
      "outputs": []
    },
    {
      "cell_type": "markdown",
      "source": [
        "## Generating GeoTIFFs from the DNN\n",
        "\n",
        "All of the code from the following block is (temporarily) copy and pasted from the library files."
      ],
      "metadata": {
        "id": "POFF4TG1pIZd"
      }
    },
    {
      "cell_type": "code",
      "source": [
        "from dataclasses import dataclass\n",
        "from osgeo import gdal, gdal_array\n",
        "from tqdm import tqdm\n",
        "import math\n",
        "\n",
        "@dataclass\n",
        "class AmazonGeoTiff:\n",
        "  \"\"\"Represents a geotiff from our dataset.\"\"\"\n",
        "  gdal_dataset: gdal.Dataset\n",
        "  image_value_array: np.ndarray # ndarray of floats\n",
        "  image_mask_array: np.ndarray # ndarray of uint8\n",
        "  masked_image: np.ma.masked_array\n",
        "  yearly_masked_image: np.ma.masked_array\n",
        "\n",
        "\n",
        "@dataclass\n",
        "class Bounds:\n",
        "  \"\"\"Represents geographic bounds and size information.\"\"\"\n",
        "  minx: float\n",
        "  maxx: float\n",
        "  miny: float\n",
        "  maxy: float\n",
        "  pixel_size_x: float\n",
        "  pixel_size_y: float\n",
        "  raster_size_x: float\n",
        "  raster_size_y: float\n",
        "\n",
        "def to_matplotlib(self) -> List[float]:\n",
        "    return [self.minx, self.maxx, self.miny, self.maxy]\n",
        "\n",
        "def load_raster(path: str, use_only_band_index: int = -1) -> AmazonGeoTiff:\n",
        "  \"\"\"\n",
        "  TODO: Refactor (is_single_band, etc., should be a better design)\n",
        "  --> Find a way to simplify this logic. Maybe it needs to be more abstract.\n",
        "  \"\"\"\n",
        "  dataset = gdal.Open(path, gdal.GA_ReadOnly)\n",
        "  image_datatype = dataset.GetRasterBand(1).DataType\n",
        "  mask_datatype = dataset.GetRasterBand(1).GetMaskBand().DataType\n",
        "  image = np.zeros((dataset.RasterYSize, dataset.RasterXSize, 12),\n",
        "                   dtype=gdal_array.GDALTypeCodeToNumericTypeCode(image_datatype))\n",
        "  mask = np.zeros((dataset.RasterYSize, dataset.RasterXSize, 12),\n",
        "                  dtype=gdal_array.GDALTypeCodeToNumericTypeCode(image_datatype))\n",
        "\n",
        "  if use_only_band_index == -1:\n",
        "    if dataset.RasterCount != 12 and dataset.RasterCount != 1:\n",
        "      raise ValueError(f\"Expected 12 raster bands (one for each month) or one annual average, but found {dataset.RasterCount}\")\n",
        "    if dataset.RasterCount == 1:\n",
        "      use_only_band_index = 0\n",
        "\n",
        "  is_single_band = use_only_band_index != -1\n",
        "\n",
        "  if is_single_band and use_only_band_index >= dataset.RasterCount:\n",
        "    raise IndexError(f\"Specified raster band index {use_only_band_index}\"\n",
        "                     f\" but there are only {dataset.RasterCount} rasters\")\n",
        "\n",
        "  for band_index in range(12):\n",
        "    band = dataset.GetRasterBand(use_only_band_index+1 if is_single_band else band_index+1)\n",
        "    image[:, :, band_index] = band.ReadAsArray()\n",
        "    mask[:, :, band_index] = band.GetMaskBand().ReadAsArray()\n",
        "  masked_image = np.ma.masked_where(mask == 0, image)\n",
        "  yearly_masked_image = masked_image.mean(axis=2)\n",
        "\n",
        "  return AmazonGeoTiff(dataset, image, mask, masked_image, yearly_masked_image)\n",
        "\n",
        "def get_extent(dataset):\n",
        "  geoTransform = dataset.GetGeoTransform()\n",
        "  minx = geoTransform[0]\n",
        "  maxy = geoTransform[3]\n",
        "  maxx = minx + geoTransform[1] * dataset.RasterXSize\n",
        "  miny = maxy + geoTransform[5] * dataset.RasterYSize\n",
        "  return Bounds(minx, maxx, miny, maxy, geoTransform[1], geoTransform[5], dataset.RasterXSize, dataset.RasterYSize)\n",
        "\n",
        "def coords_to_indices(bounds: Bounds, x: float, y: float):\n",
        "  if x < bounds.minx or x > bounds.maxx or y < bounds.miny or y > bounds.maxy:\n",
        "    raise ValueError(\"Coordinates out of bounds\")\n",
        "\n",
        "  # X => lat, Y => lon\n",
        "  x_idx = bounds.raster_size_y - int(math.ceil((y - bounds.miny) / abs(bounds.pixel_size_y)))\n",
        "  y_idx = int((x - bounds.minx) / abs(bounds.pixel_size_x))\n",
        "\n",
        "  return x_idx, y_idx\n",
        "\n",
        "def get_data_at_coords(dataset: AmazonGeoTiff, x: float, y: float, month: int) -> float:\n",
        "  # x = longitude\n",
        "  # y = latitude\n",
        "  bounds = get_extent(dataset.gdal_dataset)\n",
        "  x_idx, y_idx = coords_to_indices(bounds, x, y)\n",
        "  if month == -1:\n",
        "    value = dataset.yearly_masked_image[x_idx, y_idx]\n",
        "  else:\n",
        "    value = dataset.masked_image[x_idx, y_idx, month]\n",
        "  if np.ma.is_masked(value):\n",
        "    raise ValueError(\"Coordinates are masked\")\n",
        "  else:\n",
        "    return value\n"
      ],
      "metadata": {
        "id": "88AuYoy9pP3v"
      },
      "execution_count": 118,
      "outputs": []
    },
    {
      "cell_type": "markdown",
      "source": [
        "The following code is new stuff, and used to generate a 12 GeoTIFFs (one for each month) from the model."
      ],
      "metadata": {
        "id": "PMEBK97Bxv2z"
      }
    },
    {
      "cell_type": "code",
      "source": [
        "def get_predictions_at_each_pixel(\n",
        "    monthly: bool,\n",
        "    geotiffs: dict[str, AmazonGeoTiff],\n",
        "    bounds: Bounds,\n",
        "    model: keras.Model):\n",
        "  feature_names = [\"lat\", \"lon\", \"month_of_year\"] + list(geotiffs.keys())\n",
        "  predicted_means_np = np.ma.array(\n",
        "      np.zeros([bounds.raster_size_x, bounds.raster_size_y, 12 if monthly else 1], dtype=float),\n",
        "      mask=np.ones([bounds.raster_size_x, bounds.raster_size_y, 12 if monthly else 1], dtype=bool))\n",
        "  predicted_vars_np = np.ma.array(\n",
        "      np.zeros([bounds.raster_size_x, bounds.raster_size_y, 12 if monthly else 1], dtype=float),\n",
        "      mask=np.ones([bounds.raster_size_x, bounds.raster_size_y, 12 if monthly else 1], dtype=bool))\n",
        "\n",
        "  for month in range (0, 12 if monthly else 1):\n",
        "    for x_idx, x in enumerate(tqdm(np.arange(bounds.minx, bounds.maxx, bounds.pixel_size_x, dtype=float))):\n",
        "      rows = []\n",
        "      row_indexes = []\n",
        "      for y_idx, y in enumerate(np.arange(bounds.miny, bounds.maxy, -bounds.pixel_size_y, dtype=float)):\n",
        "        row = {}\n",
        "        try:\n",
        "          for geotiff_label, geotiff in geotiffs.items():\n",
        "            row[geotiff_label] = get_data_at_coords(geotiff, x, y, month)\n",
        "          row[\"month_of_year\"] = month\n",
        "          row[\"lon\"] = x\n",
        "          row[\"lat\"] = y\n",
        "        except ValueError:\n",
        "          continue # masked and out-of-bounds coordinates\n",
        "        except IndexError:\n",
        "          continue\n",
        "        rows.append(row)\n",
        "        row_indexes.append((y_idx,month,))\n",
        "      if (len(rows) > 0):\n",
        "        X = pd.DataFrame.from_dict(rows)\n",
        "        predictions = model.predict_on_batch(X)\n",
        "\n",
        "        means_np = predictions[0]\n",
        "        for prediction, (y_idx, month_idx) in zip(means_np, row_indexes):\n",
        "          predicted_means_np.mask[x_idx,y_idx,month_idx] = False # unmask since we have data\n",
        "          predicted_means_np.data[x_idx,y_idx,month_idx] = prediction\n",
        "        vars_np = predictions[1]\n",
        "        for prediction, (y_idx, month_idx) in zip (vars_np, row_indexes):\n",
        "          predicted_vars_np.mask[x_idx, y_idx, month_idx] = False\n",
        "          predicted_vars_np.data[x_idx, y_idx, month_idx] = prediction\n",
        "\n",
        "  return predicted_means_np, predicted_vars_np"
      ],
      "metadata": {
        "id": "9vwqAMX0yCEI"
      },
      "execution_count": 177,
      "outputs": []
    },
    {
      "cell_type": "code",
      "source": [
        "from tensorflow import keras\n",
        "model = keras.models.load_model(get_model_save_location(), custom_objects={\"kl_divergence_loss\": kl_divergence_loss})\n",
        "\n",
        "relative_humidity_geotiff = load_raster(get_raster_path_from_params(\"R.rh_Stack.tif\"))\n",
        "temperature_geotiff = load_raster(get_raster_path_from_params(\"Temperatura_Stack.tif\"))\n",
        "vapor_pressure_deficit_geotiff = load_raster(get_raster_path_from_params(\"R.vpd_Stack.tif\"))\n",
        "atmosphere_isoscape_geotiff = load_raster(get_raster_path_from_params(\"Iso_Oxi_Stack.tif\"))\n",
        "\n",
        "name_to_geotiff = {\n",
        "    \"rh\": relative_humidity_geotiff,\n",
        "    \"temp\" : temperature_geotiff,\n",
        "    \"vpd\" : vapor_pressure_deficit_geotiff,\n",
        "    \"atmosphere_oxygen_ratio\" : atmosphere_isoscape_geotiff,\n",
        "}\n",
        "\n",
        "# We need the borders of the map. Pick one geotiff at random and use that as the extent.\n",
        "bounds =  get_extent(atmosphere_isoscape_geotiff.gdal_dataset)\n",
        "\n",
        "means_np, vars_np = get_predictions_at_each_pixel(\n",
        "    monthly=True,\n",
        "    geotiffs=name_to_geotiff,\n",
        "    bounds=bounds,\n",
        "    model=model)"
      ],
      "metadata": {
        "colab": {
          "base_uri": "https://localhost:8080/"
        },
        "id": "su_oKXUpxvQO",
        "outputId": "b9c2a27c-ce1c-4a46-aad6-cd9e16e3d6fd"
      },
      "execution_count": 178,
      "outputs": [
        {
          "output_type": "stream",
          "name": "stderr",
          "text": [
            "100%|██████████| 940/940 [00:32<00:00, 28.71it/s]\n",
            "100%|██████████| 940/940 [00:32<00:00, 28.81it/s]\n",
            "100%|██████████| 940/940 [00:35<00:00, 26.26it/s]\n",
            "100%|██████████| 940/940 [00:34<00:00, 27.03it/s]\n",
            "100%|██████████| 940/940 [00:33<00:00, 27.88it/s]\n",
            "100%|██████████| 940/940 [00:31<00:00, 29.40it/s]\n",
            "100%|██████████| 940/940 [00:33<00:00, 28.46it/s]\n",
            "100%|██████████| 940/940 [00:31<00:00, 29.47it/s]\n",
            "100%|██████████| 940/940 [00:33<00:00, 28.01it/s]\n",
            "100%|██████████| 940/940 [00:31<00:00, 29.58it/s]\n",
            "100%|██████████| 940/940 [00:33<00:00, 28.47it/s]\n",
            "100%|██████████| 940/940 [00:33<00:00, 27.96it/s]\n"
          ]
        }
      ]
    }
  ],
  "metadata": {
    "language_info": {
      "name": "python"
    },
    "orig_nbformat": 4,
    "colab": {
      "provenance": []
    },
    "kernelspec": {
      "name": "python3",
      "display_name": "Python 3"
    }
  },
  "nbformat": 4,
  "nbformat_minor": 0
}