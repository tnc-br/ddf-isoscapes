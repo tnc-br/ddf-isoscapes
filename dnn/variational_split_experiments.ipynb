{
  "cells": [
    {
      "cell_type": "markdown",
      "metadata": {
        "id": "view-in-github",
        "colab_type": "text"
      },
      "source": [
        "<a href=\"https://colab.research.google.com/github/tnc-br/ddf-isoscapes/blob/split_experiments/dnn/variational_split_experiments.ipynb\" target=\"_parent\"><img src=\"https://colab.research.google.com/assets/colab-badge.svg\" alt=\"Open In Colab\"/></a>"
      ]
    },
    {
      "cell_type": "markdown",
      "source": [
        "# DNN regressors\n",
        "\n",
        "A variational model to find the mean/variance of O18 ratios at a particular lat/lon in the Brazilian Amazon. At the bottom of the colab, there are utilities to generate isoscapes from this model."
      ],
      "metadata": {
        "id": "-0IfT3kGwgK6"
      }
    },
    {
      "cell_type": "code",
      "execution_count": 25,
      "metadata": {
        "id": "henIPlAPCb4i"
      },
      "outputs": [],
      "source": [
        "from collections import defaultdict\n",
        "import math\n",
        "import numpy as np\n",
        "import pandas as pd\n",
        "import datetime\n",
        "from typing import List, Tuple, Dict\n",
        "\n",
        "import tensorflow as tf\n",
        "from tensorflow import keras\n",
        "from tensorflow.keras import layers, regularizers\n",
        "from matplotlib import pyplot as plt\n",
        "from tensorflow.python.ops import math_ops\n",
        "\n",
        "#@title Debugging\n",
        "# See https://zohaib.me/debugging-in-google-collab-notebook/ for tips,\n",
        "# as well as docs for pdb and ipdb.\n",
        "DEBUG = False #@param {type:\"boolean\"}\n",
        "GDRIVE_BASE = None #@param\n",
        "MODEL_SAVE_LOCATION = \"/usr/local/google/home/ruru/Downloads/variational/variational/model/\" #@param\n",
        "\n",
        "def format_dataframe_path(param) -> str:\n",
        "  root = GDRIVE_BASE if GDRIVE_BASE else \"\"\n",
        "  return f\"{root}{param}\"\n",
        "\n",
        "def get_model_save_location(filename) -> str:\n",
        "  root = GDRIVE_BASE if GDRIVE_BASE else \"\"\n",
        "  return f\"{root}{MODEL_SAVE_LOCATION}{filename}\"\n",
        "\n",
        "# Access data stored on Google Drive\n",
        "if GDRIVE_BASE:\n",
        "    from google.colab import drive\n",
        "    drive.mount(GDRIVE_BASE)\n",
        "\n",
        "if DEBUG:\n",
        "    %pip install -Uqq ipdb\n",
        "    import ipdb\n",
        "    %pdb on"
      ]
    },
    {
      "cell_type": "markdown",
      "metadata": {
        "id": "GQrEv57zCb4q"
      },
      "source": [
        "#Data preparation\n"
      ]
    },
    {
      "cell_type": "code",
      "source": [
        "def load_dataset(path: str):\n",
        "  df = pd.read_csv(path, encoding=\"ISO-8859-1\", sep=',')\n",
        "  df = df[df['d18O_cel_variance'].notna()]\n",
        "\n",
        "  # Family is too sparse. Too many families exist in validation/test that won't\n",
        "  # exist in train, so drop it.\n",
        "  X = df.drop([\"d18O_cel_mean\", \"d18O_cel_variance\", \"Code\", \"Family\", \"Unnamed: 0\"], axis=1)\n",
        "  Y = df[[\"d18O_cel_mean\", \"d18O_cel_variance\"]]\n",
        "  return X, Y"
      ],
      "metadata": {
        "id": "6XMee1aHfcik"
      },
      "execution_count": 9,
      "outputs": []
    },
    {
      "cell_type": "markdown",
      "source": [
        "Standardization"
      ],
      "metadata": {
        "id": "DtkKhMOtb6cS"
      }
    },
    {
      "cell_type": "code",
      "source": [
        "from sklearn.preprocessing import StandardScaler, Normalizer\n",
        "from sklearn.compose import ColumnTransformer\n",
        "\n",
        "def create_feature_scaler(X: pd.DataFrame):\n",
        "  columns_to_normalize = ['lat', 'long', 'VPD', 'RH', 'PET', 'DEM', 'PA',\n",
        "       'Mean Annual Temperature', 'Mean Annual Precipitation',\n",
        "       'Iso_Oxi_Stack_mean_TERZER', 'predkrig_br_lat_ISORG',\n",
        "       'isoscape_fullmodel_d18O_prec_REGRESSION']\n",
        "  feature_scaler = ColumnTransformer([\n",
        "      ('feature_normalizer', Normalizer(), columns_to_normalize)],\n",
        "      remainder='passthrough')\n",
        "  feature_scaler.fit(X)\n",
        "  return feature_scaler\n",
        "\n",
        "def create_label_scaler(Y: pd.DataFrame):\n",
        "  # CODE REVIEW QUESTION: Standardization of variances will produce negative\n",
        "  # variances. Any workarounds or should I just not try it?\n",
        "  label_scaler = ColumnTransformer([\n",
        "      ('label_std_scaler', StandardScaler(), ['d18O_cel_mean'])],\n",
        "      remainder='passthrough')\n",
        "  label_scaler.fit(Y)\n",
        "  return label_scaler\n",
        "\n",
        "def scale(X: pd.DataFrame, Y: pd.DataFrame, feature_scaler, label_scaler):\n",
        "  # transform() outputs numpy arrays :(  need to convert back to DataFrame.\n",
        "  X_standardized = pd.DataFrame(feature_scaler.transform(X),\n",
        "                        index=X.index, columns=X.columns)\n",
        "  Y_standardized = pd.DataFrame(label_scaler.transform(Y),\n",
        "                                      index=Y.index, columns=Y.columns)\n",
        "  return X_standardized, Y_standardized"
      ],
      "metadata": {
        "id": "XSDwdvMkb7w8"
      },
      "execution_count": 22,
      "outputs": []
    },
    {
      "cell_type": "code",
      "source": [
        "# Just a class organization, holds each scaled dataset and the scaler used.\n",
        "# Useful for unscaling predictions.\n",
        "class ScaledDataset():\n",
        "  def __init__(self, feature_scaler, label_scaler,\n",
        "               X_train = None, X_val = None, X_test = None,\n",
        "               Y_train = None, Y_val = None, Y_test = None):\n",
        "    self.feature_scaler = feature_scaler\n",
        "    self.label_scaler = label_scaler\n",
        "    self.X_train = X_train\n",
        "    self.X_val = X_val\n",
        "    self.X_test = X_test\n",
        "    self.Y_train = Y_train\n",
        "    self.Y_val = Y_val\n",
        "    self.Y_test = Y_test\n",
        "\n",
        "\n",
        "def load_and_scale(config: Dict) -> ScaledDataset:\n",
        "  X_train, Y_train = load_dataset(format_dataframe_path(config['TRAIN']))\n",
        "  X_val, Y_val = load_dataset(format_dataframe_path(config['VALIDATION']))\n",
        "  X_test, Y_test = load_dataset(format_dataframe_path(config['TEST']))\n",
        "\n",
        "  feature_scaler = create_feature_scaler(X_train)\n",
        "  label_scaler = create_label_scaler(Y_train)\n",
        "  X_train_scaled, Y_train_scaled = scale(X_train, Y_train, feature_scaler, label_scaler)\n",
        "  X_val_scaled, Y_val_scaled = scale(X_val, Y_val, feature_scaler, label_scaler)\n",
        "  X_test_scaled, Y_test_scaled = scale(X_test, Y_test, feature_scaler, label_scaler)\n",
        "  return ScaledDataset(\n",
        "      feature_scaler, label_scaler,\n",
        "      X_train=X_train_scaled, X_val=X_val_scaled, X_test=X_test_scaled,\n",
        "      Y_train=Y_train_scaled, Y_val=Y_val_scaled, Y_test=Y_test_scaled)\n"
      ],
      "metadata": {
        "id": "_kf2e_fKon2P"
      },
      "execution_count": 23,
      "outputs": []
    },
    {
      "cell_type": "markdown",
      "source": [
        "# Model Definition\n",
        "\n"
      ],
      "metadata": {
        "id": "usGznR593LZc"
      }
    },
    {
      "cell_type": "markdown",
      "source": [
        "The KL Loss function:"
      ],
      "metadata": {
        "id": "khK7C8WvU8ZR"
      }
    },
    {
      "cell_type": "code",
      "source": [
        "# log(σ2/σ1) + ( σ1^2+(μ1−μ2)^2 ) / 2* σ^2   − 1/2\n",
        "def kl_divergence(real, predicted):\n",
        "    real_value = tf.gather(real, [0], axis=1)\n",
        "    real_std = tf.math.sqrt(tf.gather(real, [1], axis=1))\n",
        "\n",
        "    predicted_value = tf.gather(predicted, [0], axis=1)\n",
        "    predicted_std = tf.math.sqrt(tf.gather(predicted, [1], axis=1))\n",
        "\n",
        "    kl_loss = -0.5 + tf.math.log(predicted_std/real_std) + \\\n",
        "     (tf.square(real_std) + tf.square(real_value - predicted_value))/ \\\n",
        "     (2*tf.square(predicted_std))\n",
        "\n",
        "    return tf.math.reduce_mean(kl_loss)\n",
        "\n",
        "def symmetric_kl(real, predicted):\n",
        "  return kl_divergence(real, predicted)"
      ],
      "metadata": {
        "id": "urGjYNNnemX6"
      },
      "execution_count": 13,
      "outputs": []
    },
    {
      "cell_type": "markdown",
      "source": [
        "Test the loss function:"
      ],
      "metadata": {
        "id": "fJzBFWQVeqNE"
      }
    },
    {
      "cell_type": "code",
      "source": [
        "import pytest\n",
        "\n",
        "test_real = tf.convert_to_tensor(np.array([[1, 0.02]]))\n",
        "test_pred = tf.convert_to_tensor(np.array([[0.98, 0.021]]))\n",
        "\n",
        "# https://screenshot.googleplex.com/5WM9dinAbhR26ZS\n",
        "assert float(kl_divergence(test_real, test_pred)) == pytest.approx(0.0101094, 1e-5)\n",
        "\n",
        "test_neg_real = tf.convert_to_tensor(np.array([[32.32, 0.0344]]))\n",
        "test_neg_pred = tf.convert_to_tensor(np.array([[32.01, -0.322]]))\n",
        "\n",
        "# Negative variance causes NaN\n",
        "assert tf.math.is_nan(kl_divergence(test_neg_real, test_neg_pred))\n",
        "\n",
        "test_real_2d = tf.convert_to_tensor(np.array(\n",
        "    [[1.00, 0.020],\n",
        "     [1.01, 0.042]]))\n",
        "test_pred_2d = tf.convert_to_tensor(np.array(\n",
        "    [[0.98, 0.021],\n",
        "     [0.99, 0.012]]))\n",
        "\n",
        "# Should reduce to the average loss of all rows.\n",
        "assert float(kl_divergence(test_real_2d, test_pred_2d)) == pytest.approx(\n",
        "    sum([0.0101094, 0.6402851])/2, 1e-5)"
      ],
      "metadata": {
        "id": "48TaPd70erSk"
      },
      "execution_count": null,
      "outputs": []
    },
    {
      "cell_type": "markdown",
      "source": [
        "Model definition"
      ],
      "metadata": {
        "id": "8rI6qPRh7oO7"
      }
    },
    {
      "cell_type": "code",
      "source": [
        "from keras.callbacks import ModelCheckpoint\n",
        "\n",
        "early_stop = keras.callbacks.EarlyStopping(\n",
        "    monitor='val_loss', patience=1000, min_delta=0.001, verbose=1,\n",
        "    restore_best_weights=True, start_from_epoch=0)\n",
        "\n",
        "# I was experimenting with models that took longer to train, and used this\n",
        "# checkpointing callback to periodically save the model. It's optional.\n",
        "def get_checkpoint_callback(model_file):\n",
        "  return ModelCheckpoint(\n",
        "      get_model_save_location(model_file),\n",
        "      monitor='val_loss', verbose=0, save_best_only=True, mode='min')\n",
        "\n",
        "def train_vars(X: pd.DataFrame,\n",
        "        Y: pd.DataFrame,\n",
        "        hidden_layers: List[int],\n",
        "        epochs: int,\n",
        "        batch_size: int,\n",
        "        lr: float,\n",
        "        validation_data: Tuple[pd.DataFrame, pd.DataFrame],\n",
        "        model_file=None,\n",
        "        use_checkpoint=False):\n",
        "  callbacks_list = [early_stop, get_checkpoint_callback(model_file)]\n",
        "  if not use_checkpoint:\n",
        "    inputs = keras.Input(shape=(X.shape[1],))\n",
        "    x = inputs\n",
        "    for layer_size in hidden_layers:\n",
        "      x = keras.layers.Dense(\n",
        "          layer_size, activation='relu')(x)\n",
        "    mean_output = keras.layers.Dense(1, name='mean_output')(x)\n",
        "\n",
        "    # We can not have negative variance. Apply very little variance.\n",
        "    var_output = keras.layers.Dense(1, name='var_output')(x)\n",
        "    abs_var = keras.layers.Lambda(lambda t: tf.abs(t))(var_output)\n",
        "\n",
        "    # Output mean, |variance| tuples.\n",
        "    outputs = keras.layers.concatenate([mean_output, abs_var])\n",
        "    model = keras.Model(inputs=inputs, outputs=outputs)\n",
        "\n",
        "    # Later epochs seem to benefit from lower learning rate... but it takes\n",
        "    # a while to get there.\n",
        "    decay = keras.optimizers.schedules.ExponentialDecay(\n",
        "       lr, decay_steps=100, decay_rate=0.5, staircase=True)\n",
        "\n",
        "    optimizer = keras.optimizers.Adam(learning_rate=lr)\n",
        "    model.compile(optimizer=optimizer, loss=symmetric_kl)\n",
        "    model.summary()\n",
        "  else:\n",
        "    model = keras.models.load_model(get_model_save_location(model_file),\n",
        "                                    custom_objects={\"symmetric_kl\": symmetric_kl})\n",
        "  history = model.fit(X, Y, verbose=1, epochs=epochs, batch_size=batch_size,\n",
        "                      validation_data=validation_data, shuffle=True, callbacks=callbacks_list)\n",
        "  return history, model"
      ],
      "metadata": {
        "id": "HCkGSPUo3KqY"
      },
      "execution_count": 52,
      "outputs": []
    },
    {
      "cell_type": "code",
      "source": [
        "from sklearn.metrics import mean_squared_error\n",
        "\n",
        "def render_plot_loss(history, name):\n",
        "  plt.plot(history.history['loss'])\n",
        "  plt.plot(history.history['val_loss'])\n",
        "  plt.title(name + ' model loss')\n",
        "  plt.ylabel('loss')\n",
        "  plt.yscale(\"log\")\n",
        "  plt.xlabel('epoch')\n",
        "  plt.legend(['loss', 'val_loss'], loc='upper left')\n",
        "  plt.show()\n",
        "\n",
        "def destandardize(sd: ScaledDataset, df: pd.DataFrame):\n",
        "  means = pd.DataFrame(\n",
        "      sd.label_scaler.named_transformers_['label_std_scaler'].inverse_transform(df[['d18O_cel_mean']]),\n",
        "      index=df.index, columns=['d18O_cel_mean'])\n",
        "  vars = df['d18O_cel_variance']\n",
        "  return means.join(vars)\n",
        "\n",
        "def train_and_evaluate(sd: ScaledDataset, run_id: str, training_batch_size=5):\n",
        "  print(\"==================\")\n",
        "  print(run_id)\n",
        "  history, vars_model = train_vars(sd.X_train, sd.Y_train, hidden_layers=[20, 20],\n",
        "                                 epochs=5000, batch_size=training_batch_size,\n",
        "                                 lr=0.0001, validation_data=(sd.X_val, sd.Y_val),\n",
        "                                 model_file=run_id+\".h5\", use_checkpoint=False)\n",
        "  render_plot_loss(history, run_id+\" kl_loss\")\n",
        "  vars_model.save(get_model_save_location(run_id+\".h5\"), save_format=\"h5\")\n",
        "\n",
        "  vars_model.evaluate(x=sd.X_test, y=sd.Y_test)\n",
        "  predictions = vars_model.predict_on_batch(sd.X_test)\n",
        "  print(\"EXPECTED:\")\n",
        "  Y_destandardized = destandardize(sd, sd.Y_test)\n",
        "  print(Y_destandardized.to_string())\n",
        "  print()\n",
        "  print(\"PREDICTED:\")\n",
        "  predictions =  destandardize(sd, pd.DataFrame(predictions, columns=['d18O_cel_mean', 'd18O_cel_variance']))\n",
        "  print(predictions.to_string())\n",
        "\n",
        "  rmse = np.sqrt(mean_squared_error(Y_destandardized['d18O_cel_mean'], predictions['d18O_cel_mean']))\n",
        "  print(\"RMSE: \"+ str(rmse))"
      ],
      "metadata": {
        "id": "DALuUm8UOgNu"
      },
      "execution_count": 43,
      "outputs": []
    },
    {
      "cell_type": "markdown",
      "source": [
        "# Load and evaluate the model with each set of data.\n",
        "\n",
        "Use the same model configured the same way for every run, with the exception of the training batch size setting, which is 1 for grouped and 5 for ungrouped."
      ],
      "metadata": {
        "id": "WF_1T_zZtK0T"
      }
    },
    {
      "cell_type": "markdown",
      "source": [
        "### 1) Ungrouped, random"
      ],
      "metadata": {
        "id": "q6vAjessuMSM"
      }
    },
    {
      "cell_type": "code",
      "source": [
        "ungrouped_random = {\n",
        "    'TRAIN' : \"/usr/local/google/home/ruru/Downloads/amazon_sample_data-20230712T203059Z-001/amazon_sample_data/uc_davis_2023_08_12_train_random_ungrouped.csv\",\n",
        "    'TEST' : \"/usr/local/google/home/ruru/Downloads/amazon_sample_data-20230712T203059Z-001/amazon_sample_data/uc_davis_2023_08_12_test_random_ungrouped.csv\",\n",
        "    'VALIDATION' : \"/usr/local/google/home/ruru/Downloads/amazon_sample_data-20230712T203059Z-001/amazon_sample_data/uc_davis_2023_08_12_validation_random_ungrouped.csv\",\n",
        "}\n",
        "\n",
        "ungrouped_random_scaled = load_and_scale(ungrouped_random)\n",
        "train_and_evaluate(ungrouped_random_scaled, \"ungrouped_random\", training_batch_size=5)"
      ],
      "metadata": {
        "colab": {
          "base_uri": "https://localhost:8080/",
          "height": 1000
        },
        "id": "qM5zP9M9tQqE",
        "outputId": "b780268e-eb5c-4469-a345-6142a54740aa"
      },
      "execution_count": 44,
      "outputs": [
        {
          "output_type": "stream",
          "name": "stdout",
          "text": [
            "==================\n",
            "ungrouped_random\n",
            "Model: \"model_8\"\n",
            "__________________________________________________________________________________________________\n",
            " Layer (type)                   Output Shape         Param #     Connected to                     \n",
            "==================================================================================================\n",
            " input_9 (InputLayer)           [(None, 12)]         0           []                               \n",
            "                                                                                                  \n",
            " dense_16 (Dense)               (None, 20)           260         ['input_9[0][0]']                \n",
            "                                                                                                  \n",
            " dense_17 (Dense)               (None, 20)           420         ['dense_16[0][0]']               \n",
            "                                                                                                  \n",
            " var_output (Dense)             (None, 1)            21          ['dense_17[0][0]']               \n",
            "                                                                                                  \n",
            " mean_output (Dense)            (None, 1)            21          ['dense_17[0][0]']               \n",
            "                                                                                                  \n",
            " lambda_8 (Lambda)              (None, 1)            0           ['var_output[0][0]']             \n",
            "                                                                                                  \n",
            " concatenate_8 (Concatenate)    (None, 2)            0           ['mean_output[0][0]',            \n",
            "                                                                  'lambda_8[0][0]']               \n",
            "                                                                                                  \n",
            "==================================================================================================\n",
            "Total params: 722\n",
            "Trainable params: 722\n",
            "Non-trainable params: 0\n",
            "__________________________________________________________________________________________________\n",
            "Restoring model weights from the end of the best epoch: 1084.\n",
            "Epoch 1584: early stopping\n"
          ]
        },
        {
          "output_type": "display_data",
          "data": {
            "text/plain": [
              "<Figure size 640x480 with 1 Axes>"
            ],
            "image/png": "[encoded data removed]"
          },
          "metadata": {}
        },
        {
          "output_type": "stream",
          "name": "stdout",
          "text": [
            "2/2 [==============================] - 0s 2ms/step - loss: 1.8904\n",
            "EXPECTED:\n",
            "    d18O_cel_mean  d18O_cel_variance\n",
            "0       26.663818           0.574594\n",
            "1       26.663818           0.574594\n",
            "2       26.663818           0.574594\n",
            "3       27.559140           0.780698\n",
            "4       27.559140           0.780698\n",
            "5       27.559140           0.780698\n",
            "6       27.559140           0.780698\n",
            "7       27.559140           0.780698\n",
            "8       27.559140           0.780698\n",
            "9       27.559140           0.780698\n",
            "10      27.559140           0.780698\n",
            "11      27.559140           0.780698\n",
            "12      27.559140           0.780698\n",
            "13      27.260748           0.830341\n",
            "14      27.260748           0.830341\n",
            "15      27.260748           0.830341\n",
            "16      27.260748           0.830341\n",
            "17      27.260748           0.830341\n",
            "18      27.260748           0.830341\n",
            "19      27.260748           0.830341\n",
            "20      27.260748           0.830341\n",
            "21      27.260748           0.830341\n",
            "22      27.260748           0.830341\n",
            "23      27.260748           0.830341\n",
            "24      27.260748           0.830341\n",
            "25      27.260748           0.830341\n",
            "26      27.260748           0.830341\n",
            "27      27.260748           0.830341\n",
            "28      27.260748           0.830341\n",
            "29      27.260748           0.830341\n",
            "30      27.260748           0.830341\n",
            "31      27.260748           0.830341\n",
            "32      27.260748           0.830341\n",
            "33      27.260748           0.830341\n",
            "34      27.260748           0.830341\n",
            "35      27.260748           0.830341\n",
            "36      27.260748           0.830341\n",
            "37      27.260748           0.830341\n",
            "38      27.260748           0.830341\n",
            "39      27.260748           0.830341\n",
            "40      27.260748           0.830341\n",
            "41      27.260748           0.830341\n",
            "42      27.260748           0.830341\n",
            "43      27.260748           0.830341\n",
            "44      27.260748           0.830341\n",
            "45      27.260748           0.830341\n",
            "46      27.260748           0.830341\n",
            "47      27.260748           0.830341\n",
            "48      24.964000           0.108138\n",
            "49      24.964000           0.108138\n",
            "50      24.964000           0.108138\n",
            "51      24.964000           0.108138\n",
            "52      24.964000           0.108138\n",
            "53      24.964000           0.108138\n",
            "54      24.964000           0.108138\n",
            "55      24.964000           0.108138\n",
            "56      24.964000           0.108138\n",
            "57      24.964000           0.108138\n",
            "58      23.752000           0.524370\n",
            "59      23.752000           0.524370\n",
            "60      23.752000           0.524370\n",
            "61      23.752000           0.524370\n",
            "62      23.752000           0.524370\n",
            "\n",
            "PREDICTED:\n",
            "    d18O_cel_mean  d18O_cel_variance\n",
            "0       25.906879           1.458184\n",
            "1       25.906879           1.458184\n",
            "2       25.906879           1.458184\n",
            "3       24.275539           2.548764\n",
            "4       24.275539           2.548764\n",
            "5       24.275539           2.548764\n",
            "6       24.275539           2.548764\n",
            "7       24.275539           2.548764\n",
            "8       24.275539           2.548764\n",
            "9       24.275539           2.548764\n",
            "10      24.275539           2.548764\n",
            "11      24.275539           2.548764\n",
            "12      24.275539           2.548764\n",
            "13      24.322977           2.520673\n",
            "14      24.322977           2.520673\n",
            "15      24.322977           2.520673\n",
            "16      24.322977           2.520673\n",
            "17      24.322977           2.520673\n",
            "18      24.322977           2.520673\n",
            "19      24.322977           2.520673\n",
            "20      24.322977           2.520673\n",
            "21      24.322977           2.520673\n",
            "22      24.322977           2.520673\n",
            "23      24.322977           2.520673\n",
            "24      24.322977           2.520673\n",
            "25      24.322977           2.520673\n",
            "26      24.322977           2.520673\n",
            "27      24.322977           2.520673\n",
            "28      24.322977           2.520673\n",
            "29      24.322977           2.520673\n",
            "30      24.322977           2.520673\n",
            "31      24.322977           2.520673\n",
            "32      24.322977           2.520673\n",
            "33      24.322977           2.520673\n",
            "34      24.322977           2.520673\n",
            "35      24.322977           2.520673\n",
            "36      24.322977           2.520673\n",
            "37      24.322977           2.520673\n",
            "38      24.322977           2.520673\n",
            "39      24.322977           2.520673\n",
            "40      24.322977           2.520673\n",
            "41      24.322977           2.520673\n",
            "42      24.322977           2.520673\n",
            "43      24.322977           2.520673\n",
            "44      24.322977           2.520673\n",
            "45      24.322977           2.520673\n",
            "46      24.322977           2.520673\n",
            "47      24.322977           2.520673\n",
            "48      24.866350           2.780758\n",
            "49      24.866350           2.780758\n",
            "50      24.866350           2.780758\n",
            "51      24.866350           2.780758\n",
            "52      24.866350           2.780758\n",
            "53      24.866350           2.780758\n",
            "54      24.866350           2.780758\n",
            "55      24.866350           2.780758\n",
            "56      24.866350           2.780758\n",
            "57      24.866350           2.780758\n",
            "58      24.848858           2.823061\n",
            "59      24.848858           2.823061\n",
            "60      24.848858           2.823061\n",
            "61      24.848858           2.823061\n",
            "62      24.848858           2.823061\n",
            "RMSE: 2.5749632194298484\n"
          ]
        },
        {
          "output_type": "stream",
          "name": "stderr",
          "text": [
            "2023-07-12 20:59:31.210299: I tensorflow/core/common_runtime/executor.cc:1197] [/device:CPU:0] (DEBUG INFO) Executor start aborting (this does not indicate an error and you can ignore this message): INVALID_ARGUMENT: You must feed a value for placeholder tensor 'Placeholder/_0' with dtype double and shape [63,12]\n",
            "\t [[{{node Placeholder/_0}}]]\n"
          ]
        }
      ]
    },
    {
      "cell_type": "markdown",
      "source": [
        "### 2) Ungrouped, fixed"
      ],
      "metadata": {
        "id": "yIQGGzsIup_d"
      }
    },
    {
      "cell_type": "code",
      "source": [
        "ungrouped_fixed = {\n",
        "    'TRAIN' : \"/usr/local/google/home/ruru/Downloads/amazon_sample_data-20230712T203059Z-001/amazon_sample_data/uc_davis_2023_08_12_train_fixed_ungrouped.csv\",\n",
        "    'TEST' : \"/usr/local/google/home/ruru/Downloads/amazon_sample_data-20230712T203059Z-001/amazon_sample_data/uc_davis_2023_08_12_test_fixed_ungrouped.csv\",\n",
        "    'VALIDATION' : \"/usr/local/google/home/ruru/Downloads/amazon_sample_data-20230712T203059Z-001/amazon_sample_data/uc_davis_2023_08_12_validation_fixed_ungrouped.csv\",\n",
        "}\n",
        "\n",
        "ungrouped_fixed_scaled = load_and_scale(ungrouped_fixed)\n",
        "train_and_evaluate(ungrouped_fixed_scaled, \"ungrouped_fixed\", training_batch_size=1)"
      ],
      "metadata": {
        "id": "-TkJGJ9Xux24",
        "outputId": "5d09697c-b9ef-4bb4-de80-dfcb171b9b13",
        "colab": {
          "base_uri": "https://localhost:8080/",
          "height": 1000
        }
      },
      "execution_count": 47,
      "outputs": [
        {
          "output_type": "stream",
          "name": "stdout",
          "text": [
            "==================\n",
            "ungrouped_fixed\n",
            "Model: \"model_10\"\n",
            "__________________________________________________________________________________________________\n",
            " Layer (type)                   Output Shape         Param #     Connected to                     \n",
            "==================================================================================================\n",
            " input_11 (InputLayer)          [(None, 12)]         0           []                               \n",
            "                                                                                                  \n",
            " dense_20 (Dense)               (None, 20)           260         ['input_11[0][0]']               \n",
            "                                                                                                  \n",
            " dense_21 (Dense)               (None, 20)           420         ['dense_20[0][0]']               \n",
            "                                                                                                  \n",
            " var_output (Dense)             (None, 1)            21          ['dense_21[0][0]']               \n",
            "                                                                                                  \n",
            " mean_output (Dense)            (None, 1)            21          ['dense_21[0][0]']               \n",
            "                                                                                                  \n",
            " lambda_10 (Lambda)             (None, 1)            0           ['var_output[0][0]']             \n",
            "                                                                                                  \n",
            " concatenate_10 (Concatenate)   (None, 2)            0           ['mean_output[0][0]',            \n",
            "                                                                  'lambda_10[0][0]']              \n",
            "                                                                                                  \n",
            "==================================================================================================\n",
            "Total params: 722\n",
            "Trainable params: 722\n",
            "Non-trainable params: 0\n",
            "__________________________________________________________________________________________________\n",
            "Restoring model weights from the end of the best epoch: 1031.\n",
            "Epoch 1531: early stopping\n"
          ]
        },
        {
          "output_type": "display_data",
          "data": {
            "text/plain": [
              "<Figure size 640x480 with 1 Axes>"
            ],
            "image/png": "[encoded data removed]"
          },
          "metadata": {}
        },
        {
          "output_type": "stream",
          "name": "stdout",
          "text": [
            "4/4 [==============================] - 0s 2ms/step - loss: 2.8060\n",
            "WARNING:tensorflow:6 out of the last 6 calls to <function Model.make_predict_function.<locals>.predict_function at 0x7f83fb36d3a0> triggered tf.function retracing. Tracing is expensive and the excessive number of tracings could be due to (1) creating @tf.function repeatedly in a loop, (2) passing tensors with different shapes, (3) passing Python objects instead of tensors. For (1), please define your @tf.function outside of the loop. For (2), @tf.function has reduce_retracing=True option that can avoid unnecessary retracing. For (3), please refer to https://www.tensorflow.org/guide/function#controlling_retracing and https://www.tensorflow.org/api_docs/python/tf/function for  more details.\n",
            "EXPECTED:\n",
            "     d18O_cel_mean  d18O_cel_variance\n",
            "0        25.120750           0.844007\n",
            "1        25.120750           0.844007\n",
            "2        25.120750           0.844007\n",
            "3        25.120750           0.844007\n",
            "4        25.120750           0.844007\n",
            "5        25.120750           0.844007\n",
            "6        25.120750           0.844007\n",
            "7        25.120750           0.844007\n",
            "8        25.120750           0.844007\n",
            "9        25.120750           0.844007\n",
            "10       25.120750           0.844007\n",
            "11       25.120750           0.844007\n",
            "12       25.120750           0.844007\n",
            "13       25.120750           0.844007\n",
            "14       25.120750           0.844007\n",
            "15       25.120750           0.844007\n",
            "16       25.120750           0.844007\n",
            "17       25.120750           0.844007\n",
            "18       25.120750           0.844007\n",
            "19       25.120750           0.844007\n",
            "20       25.120750           0.844007\n",
            "21       25.120750           0.844007\n",
            "22       25.120750           0.844007\n",
            "23       25.120750           0.844007\n",
            "24       25.120750           0.844007\n",
            "25       25.120750           0.844007\n",
            "26       25.120750           0.844007\n",
            "27       25.120750           0.844007\n",
            "28       25.120750           0.844007\n",
            "29       25.120750           0.844007\n",
            "30       25.120750           0.844007\n",
            "31       25.120750           0.844007\n",
            "32       25.120750           0.844007\n",
            "33       25.120750           0.844007\n",
            "34       25.120750           0.844007\n",
            "35       25.120750           0.844007\n",
            "36       25.120750           0.844007\n",
            "37       25.120750           0.844007\n",
            "38       25.120750           0.844007\n",
            "39       25.120750           0.844007\n",
            "40       24.777670           0.736571\n",
            "41       24.777670           0.736571\n",
            "42       24.777670           0.736571\n",
            "43       24.777670           0.736571\n",
            "44       24.777670           0.736571\n",
            "45       25.551850           0.312355\n",
            "46       25.551850           0.312355\n",
            "47       25.551850           0.312355\n",
            "48       25.551850           0.312355\n",
            "49       25.551850           0.312355\n",
            "50       25.115885           0.033519\n",
            "51       25.115885           0.033519\n",
            "52       25.115885           0.033519\n",
            "53       25.115885           0.033519\n",
            "54       25.115885           0.033519\n",
            "55       25.987815           5.280825\n",
            "56       25.987815           5.280825\n",
            "57       25.987815           5.280825\n",
            "58       25.987815           5.280825\n",
            "59       25.987815           5.280825\n",
            "60       24.132031           0.389042\n",
            "61       24.132031           0.389042\n",
            "62       24.132031           0.389042\n",
            "63       24.132031           0.389042\n",
            "64       27.559140           0.780698\n",
            "65       27.559140           0.780698\n",
            "66       27.559140           0.780698\n",
            "67       27.559140           0.780698\n",
            "68       27.559140           0.780698\n",
            "69       27.559140           0.780698\n",
            "70       27.559140           0.780698\n",
            "71       27.559140           0.780698\n",
            "72       27.559140           0.780698\n",
            "73       27.559140           0.780698\n",
            "74       27.260748           0.830341\n",
            "75       27.260748           0.830341\n",
            "76       27.260748           0.830341\n",
            "77       27.260748           0.830341\n",
            "78       27.260748           0.830341\n",
            "79       27.260748           0.830341\n",
            "80       27.260748           0.830341\n",
            "81       27.260748           0.830341\n",
            "82       27.260748           0.830341\n",
            "83       27.260748           0.830341\n",
            "84       27.260748           0.830341\n",
            "85       27.260748           0.830341\n",
            "86       27.260748           0.830341\n",
            "87       27.260748           0.830341\n",
            "88       27.260748           0.830341\n",
            "89       27.260748           0.830341\n",
            "90       27.260748           0.830341\n",
            "91       27.260748           0.830341\n",
            "92       27.260748           0.830341\n",
            "93       27.260748           0.830341\n",
            "94       27.260748           0.830341\n",
            "95       27.260748           0.830341\n",
            "96       27.260748           0.830341\n",
            "97       27.260748           0.830341\n",
            "98       27.260748           0.830341\n",
            "99       27.260748           0.830341\n",
            "100      27.260748           0.830341\n",
            "101      27.260748           0.830341\n",
            "102      27.260748           0.830341\n",
            "103      27.260748           0.830341\n",
            "104      27.260748           0.830341\n",
            "105      27.260748           0.830341\n",
            "106      27.260748           0.830341\n",
            "107      27.260748           0.830341\n",
            "108      27.260748           0.830341\n",
            "\n",
            "PREDICTED:\n",
            "     d18O_cel_mean  d18O_cel_variance\n",
            "0        26.905420           0.536932\n",
            "1        26.905420           0.536932\n",
            "2        26.905420           0.536932\n",
            "3        26.905420           0.536932\n",
            "4        26.905420           0.536932\n",
            "5        26.905420           0.536932\n",
            "6        26.905420           0.536932\n",
            "7        26.905420           0.536932\n",
            "8        26.905420           0.536932\n",
            "9        26.905420           0.536932\n",
            "10       26.905420           0.536932\n",
            "11       26.905420           0.536932\n",
            "12       26.905420           0.536932\n",
            "13       26.905420           0.536932\n",
            "14       26.905420           0.536932\n",
            "15       26.905420           0.536932\n",
            "16       26.905420           0.536932\n",
            "17       26.905420           0.536932\n",
            "18       26.905420           0.536932\n",
            "19       26.905420           0.536932\n",
            "20       26.905420           0.536932\n",
            "21       26.905420           0.536932\n",
            "22       26.905420           0.536932\n",
            "23       26.905420           0.536932\n",
            "24       26.905420           0.536932\n",
            "25       26.905420           0.536932\n",
            "26       26.905420           0.536932\n",
            "27       26.905420           0.536932\n",
            "28       26.905420           0.536932\n",
            "29       26.905420           0.536932\n",
            "30       26.905420           0.536932\n",
            "31       26.905420           0.536932\n",
            "32       26.905420           0.536932\n",
            "33       26.905420           0.536932\n",
            "34       26.905420           0.536932\n",
            "35       26.905420           0.536932\n",
            "36       26.905420           0.536932\n",
            "37       26.905420           0.536932\n",
            "38       26.905420           0.536932\n",
            "39       26.905420           0.536932\n",
            "40       25.050524           2.297126\n",
            "41       25.050524           2.297126\n",
            "42       25.050524           2.297126\n",
            "43       25.050524           2.297126\n",
            "44       25.050524           2.297126\n",
            "45       25.106853           2.422469\n",
            "46       25.106853           2.422469\n",
            "47       25.106853           2.422469\n",
            "48       25.106853           2.422469\n",
            "49       25.106853           2.422469\n",
            "50       25.156002           2.385101\n",
            "51       25.156002           2.385101\n",
            "52       25.156002           2.385101\n",
            "53       25.156002           2.385101\n",
            "54       25.156002           2.385101\n",
            "55       25.018280           2.489763\n",
            "56       25.018280           2.489763\n",
            "57       25.018280           2.489763\n",
            "58       25.018280           2.489763\n",
            "59       25.018280           2.489763\n",
            "60       25.126596           2.407570\n",
            "61       25.126596           2.407570\n",
            "62       25.126596           2.407570\n",
            "63       25.126596           2.407570\n",
            "64       23.200083           3.390790\n",
            "65       23.200083           3.390790\n",
            "66       23.200083           3.390790\n",
            "67       23.200083           3.390790\n",
            "68       23.200083           3.390790\n",
            "69       23.200083           3.390790\n",
            "70       23.200083           3.390790\n",
            "71       23.200083           3.390790\n",
            "72       23.200083           3.390790\n",
            "73       23.200083           3.390790\n",
            "74       23.285538           3.304089\n",
            "75       23.285538           3.304089\n",
            "76       23.285538           3.304089\n",
            "77       23.285538           3.304089\n",
            "78       23.285538           3.304089\n",
            "79       23.285538           3.304089\n",
            "80       23.285538           3.304089\n",
            "81       23.285538           3.304089\n",
            "82       23.285538           3.304089\n",
            "83       23.285538           3.304089\n",
            "84       23.285538           3.304089\n",
            "85       23.285538           3.304089\n",
            "86       23.285538           3.304089\n",
            "87       23.285538           3.304089\n",
            "88       23.285538           3.304089\n",
            "89       23.285538           3.304089\n",
            "90       23.285538           3.304089\n",
            "91       23.285538           3.304089\n",
            "92       23.285538           3.304089\n",
            "93       23.285538           3.304089\n",
            "94       23.285538           3.304089\n",
            "95       23.285538           3.304089\n",
            "96       23.285538           3.304089\n",
            "97       23.285538           3.304089\n",
            "98       23.285538           3.304089\n",
            "99       23.285538           3.304089\n",
            "100      23.285538           3.304089\n",
            "101      23.285538           3.304089\n",
            "102      23.285538           3.304089\n",
            "103      23.285538           3.304089\n",
            "104      23.285538           3.304089\n",
            "105      23.285538           3.304089\n",
            "106      23.285538           3.304089\n",
            "107      23.285538           3.304089\n",
            "108      23.285536           3.304089\n",
            "RMSE: 2.8422163418172057\n"
          ]
        },
        {
          "output_type": "stream",
          "name": "stderr",
          "text": [
            "2023-07-12 21:21:56.328651: I tensorflow/core/common_runtime/executor.cc:1197] [/device:CPU:0] (DEBUG INFO) Executor start aborting (this does not indicate an error and you can ignore this message): INVALID_ARGUMENT: You must feed a value for placeholder tensor 'Placeholder/_0' with dtype double and shape [109,12]\n",
            "\t [[{{node Placeholder/_0}}]]\n"
          ]
        }
      ]
    },
    {
      "cell_type": "markdown",
      "source": [
        "### 3) Grouped, random"
      ],
      "metadata": {
        "id": "n8pNR1CrvF2a"
      }
    },
    {
      "cell_type": "code",
      "source": [
        "grouped_random = {\n",
        "    'TRAIN' : \"/usr/local/google/home/ruru/Downloads/amazon_sample_data-20230712T203059Z-001/amazon_sample_data/uc_davis_2023_08_12_train_random_grouped.csv\",\n",
        "    'TEST' : \"/usr/local/google/home/ruru/Downloads/amazon_sample_data-20230712T203059Z-001/amazon_sample_data/uc_davis_2023_08_12_test_random_grouped.csv\",\n",
        "    'VALIDATION' : \"/usr/local/google/home/ruru/Downloads/amazon_sample_data-20230712T203059Z-001/amazon_sample_data/uc_davis_2023_08_12_validation_random_grouped.csv\",\n",
        "}\n",
        "\n",
        "grouped_random_scaled = load_and_scale(grouped_random)\n",
        "train_and_evaluate(grouped_random_scaled, \"grouped_random\", training_batch_size=1)"
      ],
      "metadata": {
        "id": "rPONfgkjvJWz",
        "outputId": "d8b4c776-580d-460f-8ef4-8998094fde0e",
        "colab": {
          "base_uri": "https://localhost:8080/",
          "height": 1000
        }
      },
      "execution_count": 49,
      "outputs": [
        {
          "output_type": "stream",
          "name": "stdout",
          "text": [
            "==================\n",
            "grouped_random\n",
            "Model: \"model_11\"\n",
            "__________________________________________________________________________________________________\n",
            " Layer (type)                   Output Shape         Param #     Connected to                     \n",
            "==================================================================================================\n",
            " input_12 (InputLayer)          [(None, 12)]         0           []                               \n",
            "                                                                                                  \n",
            " dense_22 (Dense)               (None, 20)           260         ['input_12[0][0]']               \n",
            "                                                                                                  \n",
            " dense_23 (Dense)               (None, 20)           420         ['dense_22[0][0]']               \n",
            "                                                                                                  \n",
            " var_output (Dense)             (None, 1)            21          ['dense_23[0][0]']               \n",
            "                                                                                                  \n",
            " mean_output (Dense)            (None, 1)            21          ['dense_23[0][0]']               \n",
            "                                                                                                  \n",
            " lambda_11 (Lambda)             (None, 1)            0           ['var_output[0][0]']             \n",
            "                                                                                                  \n",
            " concatenate_11 (Concatenate)   (None, 2)            0           ['mean_output[0][0]',            \n",
            "                                                                  'lambda_11[0][0]']              \n",
            "                                                                                                  \n",
            "==================================================================================================\n",
            "Total params: 722\n",
            "Trainable params: 722\n",
            "Non-trainable params: 0\n",
            "__________________________________________________________________________________________________\n",
            "Restoring model weights from the end of the best epoch: 559.\n",
            "Epoch 1059: early stopping\n"
          ]
        },
        {
          "output_type": "display_data",
          "data": {
            "text/plain": [
              "<Figure size 640x480 with 1 Axes>"
            ],
            "image/png": "[encoded data removed]"
          },
          "metadata": {}
        },
        {
          "output_type": "stream",
          "name": "stdout",
          "text": [
            "1/1 [==============================] - 0s 87ms/step - loss: 0.6326\n",
            "EXPECTED:\n",
            "   d18O_cel_mean  d18O_cel_variance\n",
            "0      25.882000           0.233670\n",
            "1      25.654000           0.334480\n",
            "2      27.207456           1.041823\n",
            "3      25.163333           0.807832\n",
            "4      24.030630           0.579233\n",
            "5      26.040923           0.222859\n",
            "\n",
            "PREDICTED:\n",
            "   d18O_cel_mean  d18O_cel_variance\n",
            "0      25.297815           1.995377\n",
            "1      25.295967           1.993114\n",
            "2      25.295794           1.992364\n",
            "3      25.275953           1.980142\n",
            "4      25.275953           1.980142\n",
            "5      25.276161           1.979879\n",
            "RMSE: 1.0224386535378929\n"
          ]
        },
        {
          "output_type": "stream",
          "name": "stderr",
          "text": [
            "2023-07-12 21:24:15.668695: I tensorflow/core/common_runtime/executor.cc:1197] [/device:CPU:0] (DEBUG INFO) Executor start aborting (this does not indicate an error and you can ignore this message): INVALID_ARGUMENT: You must feed a value for placeholder tensor 'Placeholder/_0' with dtype double and shape [6,12]\n",
            "\t [[{{node Placeholder/_0}}]]\n"
          ]
        }
      ]
    },
    {
      "cell_type": "markdown",
      "source": [
        "### 4) Grouped, fixed"
      ],
      "metadata": {
        "id": "opmE3xc0vcY0"
      }
    },
    {
      "cell_type": "code",
      "source": [
        "grouped_fixed = {\n",
        "    'TRAIN' : \"/usr/local/google/home/ruru/Downloads/amazon_sample_data-20230712T203059Z-001/amazon_sample_data/uc_davis_2023_08_12_train_fixed_grouped.csv\",\n",
        "    'TEST' : \"/usr/local/google/home/ruru/Downloads/amazon_sample_data-20230712T203059Z-001/amazon_sample_data/uc_davis_2023_08_12_test_fixed_grouped.csv\",\n",
        "    'VALIDATION' : \"/usr/local/google/home/ruru/Downloads/amazon_sample_data-20230712T203059Z-001/amazon_sample_data/uc_davis_2023_08_12_validation_fixed_grouped.csv\",\n",
        "}\n",
        "\n",
        "grouped_fixed_scaled = load_and_scale(grouped_fixed)\n",
        "train_and_evaluate(grouped_fixed_scaled, \"grouped_fixed\", training_batch_size=1)"
      ],
      "metadata": {
        "id": "KCebsA7XvfRH",
        "outputId": "348f45a7-1a33-4b89-d420-ea6a106ac769",
        "colab": {
          "base_uri": "https://localhost:8080/",
          "height": 1000
        }
      },
      "execution_count": 50,
      "outputs": [
        {
          "output_type": "stream",
          "name": "stdout",
          "text": [
            "==================\n",
            "grouped_fixed\n",
            "Model: \"model_12\"\n",
            "__________________________________________________________________________________________________\n",
            " Layer (type)                   Output Shape         Param #     Connected to                     \n",
            "==================================================================================================\n",
            " input_13 (InputLayer)          [(None, 12)]         0           []                               \n",
            "                                                                                                  \n",
            " dense_24 (Dense)               (None, 20)           260         ['input_13[0][0]']               \n",
            "                                                                                                  \n",
            " dense_25 (Dense)               (None, 20)           420         ['dense_24[0][0]']               \n",
            "                                                                                                  \n",
            " var_output (Dense)             (None, 1)            21          ['dense_25[0][0]']               \n",
            "                                                                                                  \n",
            " mean_output (Dense)            (None, 1)            21          ['dense_25[0][0]']               \n",
            "                                                                                                  \n",
            " lambda_12 (Lambda)             (None, 1)            0           ['var_output[0][0]']             \n",
            "                                                                                                  \n",
            " concatenate_12 (Concatenate)   (None, 2)            0           ['mean_output[0][0]',            \n",
            "                                                                  'lambda_12[0][0]']              \n",
            "                                                                                                  \n",
            "==================================================================================================\n",
            "Total params: 722\n",
            "Trainable params: 722\n",
            "Non-trainable params: 0\n",
            "__________________________________________________________________________________________________\n"
          ]
        },
        {
          "output_type": "display_data",
          "data": {
            "text/plain": [
              "<Figure size 640x480 with 1 Axes>"
            ],
            "image/png": "[encoded data removed]"
          },
          "metadata": {}
        },
        {
          "output_type": "stream",
          "name": "stdout",
          "text": [
            "1/1 [==============================] - 0s 83ms/step - loss: 0.8462\n",
            "EXPECTED:\n",
            "   d18O_cel_mean  d18O_cel_variance\n",
            "0      27.559140           0.780698\n",
            "1      27.260748           0.830341\n",
            "2      24.777670           0.736571\n",
            "3      25.987815           5.280825\n",
            "4      25.551850           0.312355\n",
            "5      25.115885           0.033519\n",
            "6      24.132031           0.389042\n",
            "7      25.120750           0.844007\n",
            "\n",
            "PREDICTED:\n",
            "   d18O_cel_mean  d18O_cel_variance\n",
            "0      25.221792           1.622524\n",
            "1      25.228788           1.622464\n",
            "2      25.315172           1.678207\n",
            "3      25.308834           1.686496\n",
            "4      25.313841           1.685640\n",
            "5      25.316624           1.685155\n",
            "6      25.314953           1.685449\n",
            "7      26.073936           1.463726\n",
            "RMSE: 1.262279188208054\n"
          ]
        },
        {
          "output_type": "stream",
          "name": "stderr",
          "text": [
            "2023-07-12 21:39:22.891488: I tensorflow/core/common_runtime/executor.cc:1197] [/device:CPU:0] (DEBUG INFO) Executor start aborting (this does not indicate an error and you can ignore this message): INVALID_ARGUMENT: You must feed a value for placeholder tensor 'Placeholder/_0' with dtype double and shape [8,12]\n",
            "\t [[{{node Placeholder/_0}}]]\n"
          ]
        }
      ]
    }
  ],
  "metadata": {
    "language_info": {
      "name": "python"
    },
    "orig_nbformat": 4,
    "colab": {
      "provenance": [],
      "include_colab_link": true
    },
    "kernelspec": {
      "name": "python3",
      "display_name": "Python 3"
    }
  },
  "nbformat": 4,
  "nbformat_minor": 0
}