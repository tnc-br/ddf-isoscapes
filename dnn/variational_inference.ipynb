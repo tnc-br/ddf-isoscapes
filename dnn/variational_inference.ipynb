{
  "cells": [
    {
      "cell_type": "markdown",
      "metadata": {
        "id": "view-in-github",
        "colab_type": "text"
      },
      "source": [
        "<a href=\"https://colab.research.google.com/github/tnc-br/ddf-isoscapes/blob/boosting/dnn/variational_inference.ipynb\" target=\"_parent\"><img src=\"https://colab.research.google.com/assets/colab-badge.svg\" alt=\"Open In Colab\"/></a>"
      ]
    },
    {
      "cell_type": "markdown",
      "source": [
        "# Variational model\n",
        "\n",
        "Find the mean/variance of O18 ratios (as well as N15 and C13 in the future) at a particular lat/lon across Brazil. At the bottom of the colab, train and evaluate 4 different versions of the model with different data partitioning strategies."
      ],
      "metadata": {
        "id": "-0IfT3kGwgK6"
      }
    },
    {
      "cell_type": "code",
      "execution_count": 1,
      "metadata": {
        "id": "henIPlAPCb4i",
        "outputId": "c1d029ae-b6de-4320-9407-5f8047dbedfe",
        "colab": {
          "base_uri": "https://localhost:8080/"
        }
      },
      "outputs": [
        {
          "output_type": "stream",
          "name": "stderr",
          "text": [
            "2023-07-28 15:55:23.016683: I tensorflow/tsl/cuda/cudart_stub.cc:28] Could not find cuda drivers on your machine, GPU will not be used.\n",
            "2023-07-28 15:55:23.051396: I tensorflow/tsl/cuda/cudart_stub.cc:28] Could not find cuda drivers on your machine, GPU will not be used.\n",
            "2023-07-28 15:55:23.051796: I tensorflow/core/platform/cpu_feature_guard.cc:182] This TensorFlow binary is optimized to use available CPU instructions in performance-critical operations.\n",
            "To enable the following instructions: AVX2 FMA, in other operations, rebuild TensorFlow with the appropriate compiler flags.\n",
            "2023-07-28 15:55:23.783253: W tensorflow/compiler/tf2tensorrt/utils/py_utils.cc:38] TF-TRT Warning: Could not find TensorRT\n"
          ]
        }
      ],
      "source": [
        "from collections import defaultdict\n",
        "import math\n",
        "import numpy as np\n",
        "import pandas as pd\n",
        "import datetime\n",
        "import os\n",
        "from typing import List, Tuple, Dict\n",
        "from dataclasses import dataclass\n",
        "\n",
        "import tensorflow as tf\n",
        "from tensorflow import keras\n",
        "from tensorflow.keras import layers, regularizers\n",
        "from matplotlib import pyplot as plt\n",
        "from tensorflow.python.ops import math_ops\n",
        "from sklearn.preprocessing import StandardScaler, Normalizer, MinMaxScaler\n",
        "from sklearn.compose import ColumnTransformer\n",
        "\n",
        "#@title Debugging\n",
        "# See https://zohaib.me/debugging-in-google-collab-notebook/ for tips,\n",
        "# as well as docs for pdb and ipdb.\n",
        "DEBUG = False #@param {type:\"boolean\"}\n",
        "USE_LOCAL_DRIVE = True #@param {type:\"boolean\"}\n",
        "LOCAL_DIR = \"/usr/local/google/home/ruru/Downloads/amazon_sample_data-20230712T203059Z-001\" #@param\n",
        "GDRIVE_DIR = \"MyDrive/amazon_rainforest_files/\" #@param\n",
        "FP_ROOT = LOCAL_DIR\n",
        "\n",
        "RASTER_BASE = \"/MyDrive/amazon_rainforest_files/amazon_rasters/\" #@param\n",
        "MODEL_SAVE_LOCATION = \"/MyDrive/amazon_rainforest_files/variational/model/\" #@param\n",
        "OUTPUT_RASTER_BASE = \"/MyDrive/amazon_rainforest_files/variational/rasters/\" #@param\n",
        "\n",
        "def get_model_save_location(filename) -> str:\n",
        "  root = '' if USE_LOCAL_DRIVE else '/content/drive'\n",
        "  return os.path.join(root, GDRIVE_DIR,'variational/model', filename)\n",
        "\n",
        "def get_raster_path_from_params(filename) -> str:\n",
        "  root = '' if USE_LOCAL_DRIVE else '/content/drive'\n",
        "  return os.path.join(root, GDRIVE_DIR, 'amazon_rasters', filename)\n",
        "\n",
        "def get_output_raster_path_from_params(filename) -> str:\n",
        "  root = '' if USE_LOCAL_DRIVE else '/content/drive'\n",
        "  return os.path.join(root, GDRIVE_DIR, 'amazon_rasters', filename)\n",
        "\n",
        "# Access data stored on Google Drive if not reading data locally.\n",
        "if not USE_LOCAL_DRIVE:\n",
        "  from google.colab import drive\n",
        "  drive.mount('/content/drive')\n",
        "  global FP_ROOT\n",
        "  FP_ROOT = os.path.join('/content/drive', GDRIVE_DIR)\n",
        "\n",
        "if DEBUG:\n",
        "    %pip install -Uqq ipdb\n",
        "    import ipdb\n",
        "    %pdb on"
      ]
    },
    {
      "cell_type": "markdown",
      "metadata": {
        "id": "GQrEv57zCb4q"
      },
      "source": [
        "# Data preparation\n"
      ]
    },
    {
      "cell_type": "code",
      "source": [
        "def load_dataset(path: str, columns_to_keep: List[str]):\n",
        "  df = pd.read_csv(path, encoding=\"ISO-8859-1\", sep=',')\n",
        "  df = df[df['d18O_cel_variance'].notna()]\n",
        "\n",
        "  # Family is too sparse. Too many families exist in validation/test that won't\n",
        "  # exist in train, so drop it.\n",
        "\n",
        "\n",
        "  X = df.drop(df.columns.difference(columns_to_keep), axis=1)\n",
        "  X = X.drop([\"d18O_cel_mean\", \"d18O_cel_variance\"], axis=1)\n",
        "  Y = df[[\"d18O_cel_mean\", \"d18O_cel_variance\"]]\n",
        "  return X, Y"
      ],
      "metadata": {
        "id": "6XMee1aHfcik"
      },
      "execution_count": 53,
      "outputs": []
    },
    {
      "cell_type": "markdown",
      "source": [
        "Standardization"
      ],
      "metadata": {
        "id": "DtkKhMOtb6cS"
      }
    },
    {
      "cell_type": "code",
      "source": [
        "@dataclass\n",
        "class FeaturesToLabels:\n",
        "  def __init__(self, X: pd.DataFrame, Y: pd.DataFrame):\n",
        "    self.X = X\n",
        "    self.Y = Y\n",
        "\n",
        "  def as_tuple(self):\n",
        "    return (self.X, self.Y)\n",
        "\n",
        "\n",
        "def create_feature_scaler(X: pd.DataFrame) -> ColumnTransformer:\n",
        "  columns_to_normalize = ['lat', 'long', 'VPD', 'RH', 'PET', 'DEM', 'PA',\n",
        "                          'Mean Annual Temperature',\n",
        "                          'Mean Annual Precipitation']\n",
        "  columns_to_standardize = []\n",
        "  feature_scaler = ColumnTransformer([\n",
        "      ('feature_normalizer', MinMaxScaler(), columns_to_normalize),\n",
        "      ('feature_standardizer', StandardScaler(), columns_to_standardize)],\n",
        "      remainder='passthrough')\n",
        "  feature_scaler.fit(X)\n",
        "  return feature_scaler\n",
        "\n",
        "def create_label_scaler(Y: pd.DataFrame) -> ColumnTransformer:\n",
        "  label_scaler = ColumnTransformer([\n",
        "      ('mean_std_scaler', StandardScaler(), ['d18O_cel_mean']),\n",
        "      ('var_minmax_scaler', MinMaxScaler(), ['d18O_cel_variance'])],\n",
        "      remainder='passthrough')\n",
        "  label_scaler.fit(Y)\n",
        "  return label_scaler\n",
        "\n",
        "def scale(X: pd.DataFrame, Y: pd.DataFrame, feature_scaler, label_scaler):\n",
        "  # transform() outputs numpy arrays :(  need to convert back to DataFrame.\n",
        "  X_standardized = pd.DataFrame(feature_scaler.transform(X),\n",
        "                        index=X.index, columns=X.columns)\n",
        "  # Y_standardized = pd.DataFrame(label_scaler.transform(Y),\n",
        "  #                                     index=Y.index, columns=Y.columns)\n",
        "  # FOR NOW, DO NOT SCALE Y.\n",
        "  return FeaturesToLabels(X_standardized, Y)"
      ],
      "metadata": {
        "id": "XSDwdvMkb7w8"
      },
      "execution_count": 137,
      "outputs": []
    },
    {
      "cell_type": "code",
      "source": [
        "# Just a class organization, holds each scaled dataset and the scaler used.\n",
        "# Useful for unscaling predictions.\n",
        "@dataclass\n",
        "class ScaledPartitions():\n",
        "  def __init__(self,\n",
        "               feature_scaler: ColumnTransformer,\n",
        "               label_scaler: ColumnTransformer,\n",
        "               train: FeaturesToLabels, val: FeaturesToLabels,\n",
        "               test: FeaturesToLabels):\n",
        "    self.feature_scaler = feature_scaler\n",
        "    self.label_scaler = label_scaler\n",
        "    self.train = train\n",
        "    self.val = val\n",
        "    self.test = test\n",
        "\n",
        "\n",
        "def load_and_scale(config: Dict, columns_to_keep: List[str]) -> ScaledPartitions:\n",
        "  X_train, Y_train = load_dataset(config['TRAIN'], columns_to_keep)\n",
        "  X_val, Y_val = load_dataset(config['VALIDATION'], columns_to_keep)\n",
        "  X_test, Y_test = load_dataset(config['TEST'], columns_to_keep)\n",
        "\n",
        "  feature_scaler = create_feature_scaler(X_train)\n",
        "  label_scaler = create_label_scaler(Y_train)\n",
        "  train = scale(X_train, Y_train, feature_scaler, label_scaler)\n",
        "  val = scale(X_val, Y_val, feature_scaler, label_scaler)\n",
        "  test = scale(X_test, Y_test, feature_scaler, label_scaler)\n",
        "  return ScaledPartitions(feature_scaler, label_scaler, train, val, test)\n"
      ],
      "metadata": {
        "id": "_kf2e_fKon2P"
      },
      "execution_count": 136,
      "outputs": []
    },
    {
      "cell_type": "markdown",
      "source": [
        "# Model Definition\n",
        "\n"
      ],
      "metadata": {
        "id": "usGznR593LZc"
      }
    },
    {
      "cell_type": "markdown",
      "source": [
        "The KL Loss function:"
      ],
      "metadata": {
        "id": "khK7C8WvU8ZR"
      }
    },
    {
      "cell_type": "code",
      "source": [
        "def sample_normal_distribution(\n",
        "    mean: tf.Tensor,\n",
        "    stdev: tf.Tensor,\n",
        "    n: int) -> tf.Tensor:\n",
        "    '''\n",
        "    Given a batch of normal distributions described by a mean and stdev in\n",
        "    a tf.Tensor, sample n elements from each distribution and return the mean\n",
        "    and standard deviation per sample.\n",
        "    '''\n",
        "    batch_size = tf.shape(mean)[0]\n",
        "\n",
        "    # Output tensor is (n, batch_size, 1)\n",
        "    sample_values = tfp.distributions.Normal(\n",
        "        loc=mean,\n",
        "        scale=stdev).sample(\n",
        "            sample_shape=n)\n",
        "    # Reshaped tensor will be (batch_size, n)\n",
        "    sample_values = tf.transpose(sample_values)\n",
        "    # Get the mean per sample in the batch.\n",
        "    sample_mean = tf.transpose(tf.math.reduce_mean(sample_values, 2))\n",
        "    sample_stdev = tf.transpose(tf.math.reduce_std(sample_values, 2))\n",
        "\n",
        "    return sample_mean, sample_stdev\n",
        "\n",
        "import tensorflow_probability as tfp\n",
        "\n",
        "# log(σ2/σ1) + ( σ1^2+(μ1−μ2)^2 ) / 2* σ^2   − 1/2\n",
        "def kl_divergence_helper(real, predicted, sample):\n",
        "    '''\n",
        "    real: tf.Tensor of the real mean and standard deviation of sample to compare\n",
        "    predicted: tf.Tensor of the predicted mean and standard deviation to compare\n",
        "    sample: Whether or not to sample the predicted distribution to get a new\n",
        "            mean and standard deviation.\n",
        "    '''\n",
        "    if real.shape != predicted.shape:\n",
        "      raise ValueError(\n",
        "          f\"real.shape {real.shape} != predicted.shape {predicted.shape}\")\n",
        "\n",
        "    real_value = tf.gather(real, [0], axis=1)\n",
        "    real_std = tf.math.sqrt(tf.gather(real, [1], axis=1))\n",
        "\n",
        "\n",
        "    predicted_value = tf.gather(predicted, [0], axis=1)\n",
        "    predicted_std = tf.math.sqrt(tf.gather(predicted, [1], axis=1))\n",
        "    # If true, sample from the distribution defined by the predicted mean and\n",
        "    # standard deviation to use for mean and stdev used in KL divergence loss.\n",
        "    if sample:\n",
        "      predicted_value, predicted_std = sample_normal_distribution(\n",
        "          mean=predicted_value, stdev=predicted_std, n=15)\n",
        "\n",
        "    kl_loss = -0.5 + tf.math.log(predicted_std/real_std) + \\\n",
        "     (tf.square(real_std) + tf.square(real_value - predicted_value))/ \\\n",
        "     (2*tf.square(predicted_std))\n",
        "\n",
        "    return tf.math.reduce_mean(kl_loss)\n",
        "\n",
        "def kl_divergence(real, predicted):\n",
        "  return kl_divergence_helper(real, predicted, True)"
      ],
      "metadata": {
        "id": "urGjYNNnemX6"
      },
      "execution_count": 148,
      "outputs": []
    },
    {
      "cell_type": "markdown",
      "source": [
        "Test the loss function:"
      ],
      "metadata": {
        "id": "fJzBFWQVeqNE"
      }
    },
    {
      "cell_type": "code",
      "source": [
        "import pytest\n",
        "\n",
        "class TensorsDifferShapeTest(unittest.TestCase):\n",
        "   def test(self):\n",
        "      test_real = tf.convert_to_tensor(np.array([[1, 0.02]]))\n",
        "      test_pred = tf.convert_to_tensor(np.array([[0.98]]))\n",
        "      with self.assertRaises(ValueError):\n",
        "         kl_divergence(test_real, test_pred, False)\n",
        "         assert(False) # Triggers if no exception is caught in the previous line.\n",
        "\n",
        "TensorsDifferShapeTest().test()\n",
        "\n",
        "test_real = tf.convert_to_tensor(np.array([[1, 0.02]]))\n",
        "test_pred = tf.convert_to_tensor(np.array([[0.98, 0.021]]))\n",
        "\n",
        "# https://screenshot.googleplex.com/5WM9dinAbhR26ZS\n",
        "assert float(kl_divergence(test_real, test_pred)) == pytest.approx(0.0101094, 1e-5)\n",
        "\n",
        "test_neg_real = tf.convert_to_tensor(np.array([[32.32, 0.0344]]))\n",
        "test_neg_pred = tf.convert_to_tensor(np.array([[32.01, -0.322]]))\n",
        "\n",
        "# Negative variance causes NaN\n",
        "assert tf.math.is_nan(kl_divergence(test_neg_real, test_neg_pred))\n",
        "\n",
        "# Calculated manually by computing the result of this equation in wolfram alpha:\n",
        "# log(σ2/σ1) + ( σ1^2+(μ1−μ2)^2 ) / 2* σ^2   − 1/2\n",
        "test_real_2d = tf.convert_to_tensor(np.array(\n",
        "    [[1.00, 0.020],\n",
        "     [1.01, 0.042]]))\n",
        "test_pred_2d = tf.convert_to_tensor(np.array(\n",
        "    [[0.98, 0.021],\n",
        "     [0.99, 0.012]]))\n",
        "\n",
        "# Should reduce to the average loss of all rows.\n",
        "assert float(kl_divergence(test_real_2d, test_pred_2d)) == pytest.approx(\n",
        "    sum([0.0101094, 0.6402851])/2, 1e-5)"
      ],
      "metadata": {
        "id": "48TaPd70erSk"
      },
      "execution_count": null,
      "outputs": []
    },
    {
      "cell_type": "markdown",
      "source": [
        "Model definition"
      ],
      "metadata": {
        "id": "8rI6qPRh7oO7"
      }
    },
    {
      "cell_type": "code",
      "source": [
        "from keras.callbacks import ModelCheckpoint, EarlyStopping\n",
        "\n",
        "def get_early_stopping_callback():\n",
        "  return EarlyStopping(monitor='val_loss', patience=1000, min_delta=0.001,\n",
        "                       verbose=1, restore_best_weights=True, start_from_epoch=0)\n",
        "\n",
        "tf.keras.utils.set_random_seed(18731)\n",
        "\n",
        "# I was experimenting with models that took longer to train, and used this\n",
        "# checkpointing callback to periodically save the model. It's optional.\n",
        "def get_checkpoint_callback(model_file):\n",
        "  return ModelCheckpoint(\n",
        "      get_model_save_location(model_file),\n",
        "      monitor='val_loss', verbose=0, save_best_only=True, mode='min')\n",
        "\n",
        "def train_or_update_variational_model(\n",
        "        sp: ScaledPartitions,\n",
        "        hidden_layers: List[int],\n",
        "        epochs: int,\n",
        "        batch_size: int,\n",
        "        lr: float,\n",
        "        model_file=None,\n",
        "        use_checkpoint=False):\n",
        "  callbacks_list = [get_early_stopping_callback(),\n",
        "                    get_checkpoint_callback(model_file)]\n",
        "  if not use_checkpoint:\n",
        "\n",
        "    # Find the kriging columns and make sure they are at the end of the dataframe.\n",
        "    krig_mean_index = sp.train.X.columns.get_loc(\"ordinary_kriging_linear_d18O_predicted_mean\")\n",
        "    krig_var_index = sp.train.X.columns.get_loc(\"ordinary_kriging_linear_d18O_predicted_variance\")\n",
        "    if (krig_mean_index != sp.train.X.shape[1]-2 and krig_var_index != sp.train.X.shape[1]-1):\n",
        "      raise ValueError(\"ordinary_kriging_linear_d18O_predicted_mean and \\\n",
        "      ordinary_kriging_linear_d18O_predicted_variance must be located in the \\\n",
        "      last two columns of dataframe\")\n",
        "\n",
        "    inputs = keras.Input(shape=(sp.train.X.shape[1],))\n",
        "    krig_mean = tf.expand_dims(inputs[:,-2], 1)\n",
        "    krig_var = tf.expand_dims(inputs[:, -1], 1)\n",
        "\n",
        "    # X contains everything else.\n",
        "    x = inputs[:,0:-2]\n",
        "\n",
        "    for layer_size in hidden_layers:\n",
        "      x = keras.layers.Dense(layer_size, activation='relu')(x)\n",
        "\n",
        "    mean_output = keras.layers.Dense(1, name='mean_output')(x)\n",
        "    var_output = keras.layers.Dense(1, name='var_output')(x)\n",
        "\n",
        "    # Invert the normalization on our outputs, and add kriging predictions as\n",
        "    # constants so the network only predicts the residuals.\n",
        "    mean_scaler = sp.label_scaler.named_transformers_['mean_std_scaler']\n",
        "    unscaled_mean = mean_output * mean_scaler.var_ + mean_scaler.mean_\n",
        "    untransformed_mean = krig_mean + unscaled_mean\n",
        "\n",
        "    var_scaler = sp.label_scaler.named_transformers_['var_minmax_scaler']\n",
        "    unscaled_var = var_output * var_scaler.scale_ + var_scaler.min_\n",
        "    untransformed_var = krig_var + keras.layers.Lambda(lambda t: tf.math.log(1 + tf.exp(t)))(unscaled_var)\n",
        "\n",
        "    # Output mean,  tuples.\n",
        "    outputs = keras.layers.concatenate([untransformed_mean, untransformed_var])\n",
        "    model = keras.Model(inputs=inputs, outputs=outputs)\n",
        "\n",
        "    # Later epochs seem to benefit from lower learning rate... but it takes\n",
        "    # a while to get there.\n",
        "    decay = keras.optimizers.schedules.ExponentialDecay(\n",
        "       lr, decay_steps=100, decay_rate=0.5, staircase=True)\n",
        "\n",
        "    optimizer = keras.optimizers.Adam(learning_rate=lr)\n",
        "    model.compile(optimizer=optimizer, loss=kl_divergence)\n",
        "    model.summary()\n",
        "  else:\n",
        "    model = keras.models.load_model(\n",
        "        get_model_save_location(model_file),\n",
        "        custom_objects={\"kl_divergence\": kl_divergence})\n",
        "  history = model.fit(sp.train.X, sp.train.Y, verbose=0, epochs=epochs, batch_size=batch_size,\n",
        "                      validation_data=sp.val.as_tuple(),\n",
        "                      shuffle=True, callbacks=callbacks_list)\n",
        "  return history, model"
      ],
      "metadata": {
        "id": "HCkGSPUo3KqY"
      },
      "execution_count": 149,
      "outputs": []
    },
    {
      "cell_type": "code",
      "source": [
        "from sklearn.metrics import mean_squared_error\n",
        "\n",
        "def render_plot_loss(history, name):\n",
        "  plt.plot(history.history['loss'])\n",
        "  plt.plot(history.history['val_loss'])\n",
        "  plt.title(name + ' model loss')\n",
        "  plt.ylabel('loss')\n",
        "  plt.yscale(\"log\")\n",
        "  plt.ylim((0, 10))\n",
        "  plt.xlabel('epoch')\n",
        "  plt.legend(['loss', 'val_loss'], loc='upper left')\n",
        "  plt.show()\n",
        "\n",
        "def destandardize(sd: ScaledPartitions, df: pd.DataFrame):\n",
        "  means = pd.DataFrame(\n",
        "      sd.label_scaler.named_transformers_['var_std_scaler'].inverse_transform(df[['d18O_cel_mean']]),\n",
        "      index=df.index, columns=['d18O_cel_mean'])\n",
        "  vars = df['d18O_cel_variance']\n",
        "  return means.join(vars)\n",
        "\n",
        "def train_and_evaluate(sp: ScaledPartitions, run_id: str, training_batch_size=5):\n",
        "  print(\"==================\")\n",
        "  print(run_id)\n",
        "  history, model = train_or_update_variational_model(\n",
        "      sp, hidden_layers=[20, 20], epochs=10000, batch_size=training_batch_size,\n",
        "      lr=0.00002, model_file=run_id+\".h5\", use_checkpoint=False)\n",
        "  render_plot_loss(history, run_id+\" kl_loss\")\n",
        "  model.save(get_model_save_location(run_id+\".h5\"), save_format=\"h5\")\n",
        "\n",
        "  best_epoch_index = history.history['val_loss'].index(min(history.history['val_loss']))\n",
        "  print('Val loss:', history.history['val_loss'][best_epoch_index])\n",
        "  print('Train loss:', history.history['loss'][best_epoch_index])\n",
        "  print('Test loss:', model.evaluate(x=sp.test.X, y=sp.test.Y, verbose=0))\n",
        "\n",
        "  predictions = model.predict_on_batch(sp.test.X)\n",
        "  predictions = pd.DataFrame(predictions, columns=['d18O_cel_mean', 'd18O_cel_variance'])\n",
        "  rmse = np.sqrt(mean_squared_error(sp.test.Y['d18O_cel_mean'], predictions['d18O_cel_mean']))\n",
        "  print(\"dO18 RMSE: \"+ str(rmse))\n",
        "  print(\"EXPECTED:\")\n",
        "  print(sp.test.Y.to_string())\n",
        "  print()\n",
        "  print(\"PREDICTED:\")\n",
        "  print(predictions.to_string())\n",
        "  return model"
      ],
      "metadata": {
        "id": "DALuUm8UOgNu"
      },
      "execution_count": 139,
      "outputs": []
    },
    {
      "cell_type": "markdown",
      "source": [
        "## 1) Grouped, random\n",
        "\n",
        "We can't (easily) generate isoscapes with these because the isoscapes for 'predkrig_br_lat_ISORG', 'Iso_Oxi_Stack_mean_TERZER', 'isoscape_fullmodel_d18O_prec_REGRESSION' are not easily retrievable... but I'm curious how much better the model is if these columns are included."
      ],
      "metadata": {
        "id": "n8pNR1CrvF2a"
      }
    },
    {
      "cell_type": "code",
      "source": [
        "grouped_random_fileset = {\n",
        "    'TRAIN' : os.path.join(FP_ROOT, 'amazon_sample_data/kriging_ensemble_experiment/uc_davis_train_random_grouped.csv'),\n",
        "    'TEST' : os.path.join(FP_ROOT, 'amazon_sample_data/kriging_ensemble_experiment/uc_davis_test_random_grouped.csv'),\n",
        "    'VALIDATION' : os.path.join(FP_ROOT, 'amazon_sample_data/kriging_ensemble_experiment/uc_davis_validation_random_grouped.csv'),\n",
        "}\n",
        "\n",
        "columns_to_keep = ['d18O_cel_mean', 'd18O_cel_variance',\n",
        "                   'lat', 'long', 'VPD', 'RH', 'PET', 'DEM', 'PA',\n",
        "                   'Mean Annual Temperature','Mean Annual Precipitation',\n",
        "                   'predkrig_br_lat_ISORG', 'Iso_Oxi_Stack_mean_TERZER',\n",
        "                   'isoscape_fullmodel_d18O_prec_REGRESSION',\n",
        "                   'ordinary_kriging_linear_d18O_predicted_variance',\n",
        "                   'ordinary_kriging_linear_d18O_predicted_mean']\n",
        "\n",
        "data = load_and_scale(grouped_random_fileset, columns_to_keep)\n",
        "model = train_and_evaluate(data, \"kriging_all_columns\", training_batch_size=3)\n"
      ],
      "metadata": {
        "id": "rPONfgkjvJWz",
        "colab": {
          "base_uri": "https://localhost:8080/",
          "height": 1000
        },
        "outputId": "d0fad06b-13c8-4322-db35-6d2446e2319f"
      },
      "execution_count": 150,
      "outputs": [
        {
          "output_type": "stream",
          "name": "stdout",
          "text": [
            "==================\n",
            "kriging_all_columns\n",
            "Model: \"model_49\"\n",
            "__________________________________________________________________________________________________\n",
            " Layer (type)                   Output Shape         Param #     Connected to                     \n",
            "==================================================================================================\n",
            " input_54 (InputLayer)          [(None, 14)]         0           []                               \n",
            "                                                                                                  \n",
            " tf.__operators__.getitem_117 (  (None, 12)          0           ['input_54[0][0]']               \n",
            " SlicingOpLambda)                                                                                 \n",
            "                                                                                                  \n",
            " dense_98 (Dense)               (None, 20)           260         ['tf.__operators__.getitem_117[0]\n",
            "                                                                 [0]']                            \n",
            "                                                                                                  \n",
            " dense_99 (Dense)               (None, 20)           420         ['dense_98[0][0]']               \n",
            "                                                                                                  \n",
            " var_output (Dense)             (None, 1)            21          ['dense_99[0][0]']               \n",
            "                                                                                                  \n",
            " mean_output (Dense)            (None, 1)            21          ['dense_99[0][0]']               \n",
            "                                                                                                  \n",
            " tf.math.multiply_99 (TFOpLambd  (None, 1)           0           ['var_output[0][0]']             \n",
            " a)                                                                                               \n",
            "                                                                                                  \n",
            " tf.__operators__.getitem_115 (  (None,)             0           ['input_54[0][0]']               \n",
            " SlicingOpLambda)                                                                                 \n",
            "                                                                                                  \n",
            " tf.math.multiply_98 (TFOpLambd  (None, 1)           0           ['mean_output[0][0]']            \n",
            " a)                                                                                               \n",
            "                                                                                                  \n",
            " tf.__operators__.getitem_116 (  (None,)             0           ['input_54[0][0]']               \n",
            " SlicingOpLambda)                                                                                 \n",
            "                                                                                                  \n",
            " tf.__operators__.add_168 (TFOp  (None, 1)           0           ['tf.math.multiply_99[0][0]']    \n",
            " Lambda)                                                                                          \n",
            "                                                                                                  \n",
            " tf.expand_dims_20 (TFOpLambda)  (None, 1)           0           ['tf.__operators__.getitem_115[0]\n",
            "                                                                 [0]']                            \n",
            "                                                                                                  \n",
            " tf.__operators__.add_166 (TFOp  (None, 1)           0           ['tf.math.multiply_98[0][0]']    \n",
            " Lambda)                                                                                          \n",
            "                                                                                                  \n",
            " tf.expand_dims_21 (TFOpLambda)  (None, 1)           0           ['tf.__operators__.getitem_116[0]\n",
            "                                                                 [0]']                            \n",
            "                                                                                                  \n",
            " lambda_47 (Lambda)             (None, 1)            0           ['tf.__operators__.add_168[0][0]'\n",
            "                                                                 ]                                \n",
            "                                                                                                  \n",
            " tf.__operators__.add_167 (TFOp  (None, 1)           0           ['tf.expand_dims_20[0][0]',      \n",
            " Lambda)                                                          'tf.__operators__.add_166[0][0]'\n",
            "                                                                 ]                                \n",
            "                                                                                                  \n",
            " tf.__operators__.add_169 (TFOp  (None, 1)           0           ['tf.expand_dims_21[0][0]',      \n",
            " Lambda)                                                          'lambda_47[0][0]']              \n",
            "                                                                                                  \n",
            " concatenate_49 (Concatenate)   (None, 2)            0           ['tf.__operators__.add_167[0][0]'\n",
            "                                                                 , 'tf.__operators__.add_169[0][0]\n",
            "                                                                 ']                               \n",
            "                                                                                                  \n",
            "==================================================================================================\n",
            "Total params: 722\n",
            "Trainable params: 722\n",
            "Non-trainable params: 0\n",
            "__________________________________________________________________________________________________\n",
            "Restoring model weights from the end of the best epoch: 3939.\n",
            "Epoch 4939: early stopping\n"
          ]
        },
        {
          "output_type": "stream",
          "name": "stderr",
          "text": [
            "/tmp/ipykernel_3673974/1016735986.py:9: UserWarning: Attempt to set non-positive ylim on a log-scaled axis will be ignored.\n",
            "  plt.ylim((0, 10))\n"
          ]
        },
        {
          "output_type": "display_data",
          "data": {
            "text/plain": [
              "<Figure size 640x480 with 1 Axes>"
            ],
            "image/png": "[encoded data removed]"
          },
          "metadata": {}
        },
        {
          "output_type": "stream",
          "name": "stdout",
          "text": [
            "Val loss: 0.5514213442802429\n",
            "Train loss: 1.0788977146148682\n",
            "Test loss: 0.9378868937492371\n",
            "dO18 RMSE: 0.995559403110822\n",
            "EXPECTED:\n",
            "    d18O_cel_mean  d18O_cel_variance\n",
            "0          26.130            0.19025\n",
            "1          26.984            0.40123\n",
            "2          24.656            0.17728\n",
            "3          26.356            0.03953\n",
            "4          23.962            0.30992\n",
            "5          24.848            0.15842\n",
            "6          25.080            0.05125\n",
            "7          26.546            2.14378\n",
            "8          25.682            0.94472\n",
            "9          24.028            0.45852\n",
            "10         23.944            0.15813\n",
            "11         23.752            0.52437\n",
            "12         26.018            0.96417\n",
            "\n",
            "PREDICTED:\n",
            "    d18O_cel_mean  d18O_cel_variance\n",
            "0       27.151648           1.803914\n",
            "1       27.151648           1.803914\n",
            "2       25.142111           1.799590\n",
            "3       25.117392           1.780867\n",
            "4       24.927147           1.786620\n",
            "5       23.889149           1.806405\n",
            "6       23.889149           1.806405\n",
            "7       24.927183           1.786619\n",
            "8       25.142139           1.799590\n",
            "9       23.889132           1.806406\n",
            "10      25.490465           1.813024\n",
            "11      24.834726           1.822231\n",
            "12      25.490465           1.813024\n"
          ]
        },
        {
          "output_type": "stream",
          "name": "stderr",
          "text": [
            "2023-08-01 22:14:44.912309: I tensorflow/core/common_runtime/executor.cc:1197] [/device:CPU:0] (DEBUG INFO) Executor start aborting (this does not indicate an error and you can ignore this message): INVALID_ARGUMENT: You must feed a value for placeholder tensor 'Placeholder/_0' with dtype double and shape [13,14]\n",
            "\t [[{{node Placeholder/_0}}]]\n"
          ]
        }
      ]
    },
    {
      "cell_type": "markdown",
      "source": [
        "### 2) Grouped, random, ablating other models except kriging\n",
        "\n",
        "We can generate isoscapes for this model easily."
      ],
      "metadata": {
        "id": "opmE3xc0vcY0"
      }
    },
    {
      "cell_type": "code",
      "source": [
        "grouped_random_fileset = {\n",
        "    'TRAIN' : os.path.join(FP_ROOT, 'amazon_sample_data/kriging_ensemble_experiment/uc_davis_train_random_grouped.csv'),\n",
        "    'TEST' : os.path.join(FP_ROOT, 'amazon_sample_data/kriging_ensemble_experiment/uc_davis_test_random_grouped.csv'),\n",
        "    'VALIDATION' : os.path.join(FP_ROOT, 'amazon_sample_data/kriging_ensemble_experiment/uc_davis_validation_random_grouped.csv'),\n",
        "}\n",
        "\n",
        "columns_to_keep = ['d18O_cel_mean', 'd18O_cel_variance',\n",
        "                   'lat', 'long', 'VPD', 'RH', 'PET', 'DEM', 'PA',\n",
        "                   'Mean Annual Temperature','Mean Annual Precipitation',\n",
        "                   'ordinary_kriging_linear_d18O_predicted_variance',\n",
        "                   'ordinary_kriging_linear_d18O_predicted_mean']\n",
        "\n",
        "data = load_and_scale(grouped_random_fileset, columns_to_keep)\n",
        "model = train_and_evaluate(data, \"grouped_random_ablated\", training_batch_size=3)"
      ],
      "metadata": {
        "id": "KCebsA7XvfRH",
        "outputId": "a155f960-23e7-405d-b605-ab6149b79cdd",
        "colab": {
          "base_uri": "https://localhost:8080/",
          "height": 1000
        }
      },
      "execution_count": 151,
      "outputs": [
        {
          "output_type": "stream",
          "name": "stdout",
          "text": [
            "==================\n",
            "grouped_random_ablated\n",
            "Model: \"model_50\"\n",
            "__________________________________________________________________________________________________\n",
            " Layer (type)                   Output Shape         Param #     Connected to                     \n",
            "==================================================================================================\n",
            " input_55 (InputLayer)          [(None, 11)]         0           []                               \n",
            "                                                                                                  \n",
            " tf.__operators__.getitem_120 (  (None, 9)           0           ['input_55[0][0]']               \n",
            " SlicingOpLambda)                                                                                 \n",
            "                                                                                                  \n",
            " dense_100 (Dense)              (None, 20)           200         ['tf.__operators__.getitem_120[0]\n",
            "                                                                 [0]']                            \n",
            "                                                                                                  \n",
            " dense_101 (Dense)              (None, 20)           420         ['dense_100[0][0]']              \n",
            "                                                                                                  \n",
            " var_output (Dense)             (None, 1)            21          ['dense_101[0][0]']              \n",
            "                                                                                                  \n",
            " mean_output (Dense)            (None, 1)            21          ['dense_101[0][0]']              \n",
            "                                                                                                  \n",
            " tf.math.multiply_101 (TFOpLamb  (None, 1)           0           ['var_output[0][0]']             \n",
            " da)                                                                                              \n",
            "                                                                                                  \n",
            " tf.__operators__.getitem_118 (  (None,)             0           ['input_55[0][0]']               \n",
            " SlicingOpLambda)                                                                                 \n",
            "                                                                                                  \n",
            " tf.math.multiply_100 (TFOpLamb  (None, 1)           0           ['mean_output[0][0]']            \n",
            " da)                                                                                              \n",
            "                                                                                                  \n",
            " tf.__operators__.getitem_119 (  (None,)             0           ['input_55[0][0]']               \n",
            " SlicingOpLambda)                                                                                 \n",
            "                                                                                                  \n",
            " tf.__operators__.add_172 (TFOp  (None, 1)           0           ['tf.math.multiply_101[0][0]']   \n",
            " Lambda)                                                                                          \n",
            "                                                                                                  \n",
            " tf.expand_dims_22 (TFOpLambda)  (None, 1)           0           ['tf.__operators__.getitem_118[0]\n",
            "                                                                 [0]']                            \n",
            "                                                                                                  \n",
            " tf.__operators__.add_170 (TFOp  (None, 1)           0           ['tf.math.multiply_100[0][0]']   \n",
            " Lambda)                                                                                          \n",
            "                                                                                                  \n",
            " tf.expand_dims_23 (TFOpLambda)  (None, 1)           0           ['tf.__operators__.getitem_119[0]\n",
            "                                                                 [0]']                            \n",
            "                                                                                                  \n",
            " lambda_48 (Lambda)             (None, 1)            0           ['tf.__operators__.add_172[0][0]'\n",
            "                                                                 ]                                \n",
            "                                                                                                  \n",
            " tf.__operators__.add_171 (TFOp  (None, 1)           0           ['tf.expand_dims_22[0][0]',      \n",
            " Lambda)                                                          'tf.__operators__.add_170[0][0]'\n",
            "                                                                 ]                                \n",
            "                                                                                                  \n",
            " tf.__operators__.add_173 (TFOp  (None, 1)           0           ['tf.expand_dims_23[0][0]',      \n",
            " Lambda)                                                          'lambda_48[0][0]']              \n",
            "                                                                                                  \n",
            " concatenate_50 (Concatenate)   (None, 2)            0           ['tf.__operators__.add_171[0][0]'\n",
            "                                                                 , 'tf.__operators__.add_173[0][0]\n",
            "                                                                 ']                               \n",
            "                                                                                                  \n",
            "==================================================================================================\n",
            "Total params: 662\n",
            "Trainable params: 662\n",
            "Non-trainable params: 0\n",
            "__________________________________________________________________________________________________\n",
            "Restoring model weights from the end of the best epoch: 3939.\n",
            "Epoch 4939: early stopping\n"
          ]
        },
        {
          "output_type": "stream",
          "name": "stderr",
          "text": [
            "/tmp/ipykernel_3673974/1016735986.py:9: UserWarning: Attempt to set non-positive ylim on a log-scaled axis will be ignored.\n",
            "  plt.ylim((0, 10))\n"
          ]
        },
        {
          "output_type": "display_data",
          "data": {
            "text/plain": [
              "<Figure size 640x480 with 1 Axes>"
            ],
            "image/png": "[encoded data removed]"
          },
          "metadata": {}
        },
        {
          "output_type": "stream",
          "name": "stdout",
          "text": [
            "Val loss: 0.6119320392608643\n",
            "Train loss: 1.0771867036819458\n",
            "Test loss: 1.0063306093215942\n",
            "dO18 RMSE: 1.1065701246684532\n",
            "EXPECTED:\n",
            "    d18O_cel_mean  d18O_cel_variance\n",
            "0          26.130            0.19025\n",
            "1          26.984            0.40123\n",
            "2          24.656            0.17728\n",
            "3          26.356            0.03953\n",
            "4          23.962            0.30992\n",
            "5          24.848            0.15842\n",
            "6          25.080            0.05125\n",
            "7          26.546            2.14378\n",
            "8          25.682            0.94472\n",
            "9          24.028            0.45852\n",
            "10         23.944            0.15813\n",
            "11         23.752            0.52437\n",
            "12         26.018            0.96417\n",
            "\n",
            "PREDICTED:\n",
            "    d18O_cel_mean  d18O_cel_variance\n",
            "0       26.611713           1.982767\n",
            "1       26.611713           1.982767\n",
            "2       24.650846           1.983449\n",
            "3       24.874348           1.959117\n",
            "4       24.149981           1.980960\n",
            "5       24.529060           1.964390\n",
            "6       24.529060           1.964390\n",
            "7       24.150015           1.980959\n",
            "8       24.650877           1.983449\n",
            "9       24.529070           1.964390\n",
            "10      26.334219           1.963238\n",
            "11      23.961132           2.020305\n",
            "12      26.334219           1.963238\n"
          ]
        },
        {
          "output_type": "stream",
          "name": "stderr",
          "text": [
            "2023-08-01 22:19:07.146499: I tensorflow/core/common_runtime/executor.cc:1197] [/device:CPU:0] (DEBUG INFO) Executor start aborting (this does not indicate an error and you can ignore this message): INVALID_ARGUMENT: You must feed a value for placeholder tensor 'Placeholder/_0' with dtype double and shape [13,11]\n",
            "\t [[{{node Placeholder/_0}}]]\n"
          ]
        }
      ]
    },
    {
      "cell_type": "markdown",
      "source": [
        "### 3) Grouped, fixed, all columns\n",
        "\n",
        "We can't (easily) generate isoscapes with these because the isoscapes for 'predkrig_br_lat_ISORG', 'Iso_Oxi_Stack_mean_TERZER',\n",
        "                   'isoscape_fullmodel_d18O_prec_REGRESSION' are not easily retrievable... but I'm curious how much better the model is if these columns are included."
      ],
      "metadata": {
        "id": "wPDSSm__DR53"
      }
    },
    {
      "cell_type": "code",
      "source": [
        "grouped_fixed_fileset = {\n",
        "    'TRAIN' : os.path.join(FP_ROOT, 'amazon_sample_data/kriging_ensemble_experiment/uc_davis_train_fixed_grouped.csv'),\n",
        "    'TEST' : os.path.join(FP_ROOT, 'amazon_sample_data/kriging_ensemble_experiment/uc_davis_test_fixed_grouped.csv'),\n",
        "    'VALIDATION' : os.path.join(FP_ROOT, 'amazon_sample_data/kriging_ensemble_experiment/uc_davis_validation_fixed_grouped.csv'),\n",
        "}\n",
        "\n",
        "\n",
        "columns_to_keep = ['d18O_cel_mean', 'd18O_cel_variance',\n",
        "                   'lat', 'long', 'VPD', 'RH', 'PET', 'DEM', 'PA',\n",
        "                   'Mean Annual Temperature','Mean Annual Precipitation',\n",
        "                   'predkrig_br_lat_ISORG', 'Iso_Oxi_Stack_mean_TERZER',\n",
        "                   'isoscape_fullmodel_d18O_prec_REGRESSION',\n",
        "                   'ordinary_kriging_linear_d18O_predicted_variance',\n",
        "                   'ordinary_kriging_linear_d18O_predicted_mean']\n",
        "\n",
        "data = load_and_scale(grouped_fixed_fileset, columns_to_keep)\n",
        "model = train_and_evaluate(data, \"grouped_fixed_all\", training_batch_size=3)"
      ],
      "metadata": {
        "colab": {
          "base_uri": "https://localhost:8080/",
          "height": 1000
        },
        "id": "V9_5iUkDVoCV",
        "outputId": "32a38a74-12ae-4de2-8756-24a02bd4b931"
      },
      "execution_count": 152,
      "outputs": [
        {
          "output_type": "stream",
          "name": "stdout",
          "text": [
            "==================\n",
            "grouped_fixed_all\n",
            "Model: \"model_51\"\n",
            "__________________________________________________________________________________________________\n",
            " Layer (type)                   Output Shape         Param #     Connected to                     \n",
            "==================================================================================================\n",
            " input_56 (InputLayer)          [(None, 14)]         0           []                               \n",
            "                                                                                                  \n",
            " tf.__operators__.getitem_123 (  (None, 12)          0           ['input_56[0][0]']               \n",
            " SlicingOpLambda)                                                                                 \n",
            "                                                                                                  \n",
            " dense_102 (Dense)              (None, 20)           260         ['tf.__operators__.getitem_123[0]\n",
            "                                                                 [0]']                            \n",
            "                                                                                                  \n",
            " dense_103 (Dense)              (None, 20)           420         ['dense_102[0][0]']              \n",
            "                                                                                                  \n",
            " var_output (Dense)             (None, 1)            21          ['dense_103[0][0]']              \n",
            "                                                                                                  \n",
            " mean_output (Dense)            (None, 1)            21          ['dense_103[0][0]']              \n",
            "                                                                                                  \n",
            " tf.math.multiply_103 (TFOpLamb  (None, 1)           0           ['var_output[0][0]']             \n",
            " da)                                                                                              \n",
            "                                                                                                  \n",
            " tf.__operators__.getitem_121 (  (None,)             0           ['input_56[0][0]']               \n",
            " SlicingOpLambda)                                                                                 \n",
            "                                                                                                  \n",
            " tf.math.multiply_102 (TFOpLamb  (None, 1)           0           ['mean_output[0][0]']            \n",
            " da)                                                                                              \n",
            "                                                                                                  \n",
            " tf.__operators__.getitem_122 (  (None,)             0           ['input_56[0][0]']               \n",
            " SlicingOpLambda)                                                                                 \n",
            "                                                                                                  \n",
            " tf.__operators__.add_176 (TFOp  (None, 1)           0           ['tf.math.multiply_103[0][0]']   \n",
            " Lambda)                                                                                          \n",
            "                                                                                                  \n",
            " tf.expand_dims_24 (TFOpLambda)  (None, 1)           0           ['tf.__operators__.getitem_121[0]\n",
            "                                                                 [0]']                            \n",
            "                                                                                                  \n",
            " tf.__operators__.add_174 (TFOp  (None, 1)           0           ['tf.math.multiply_102[0][0]']   \n",
            " Lambda)                                                                                          \n",
            "                                                                                                  \n",
            " tf.expand_dims_25 (TFOpLambda)  (None, 1)           0           ['tf.__operators__.getitem_122[0]\n",
            "                                                                 [0]']                            \n",
            "                                                                                                  \n",
            " lambda_49 (Lambda)             (None, 1)            0           ['tf.__operators__.add_176[0][0]'\n",
            "                                                                 ]                                \n",
            "                                                                                                  \n",
            " tf.__operators__.add_175 (TFOp  (None, 1)           0           ['tf.expand_dims_24[0][0]',      \n",
            " Lambda)                                                          'tf.__operators__.add_174[0][0]'\n",
            "                                                                 ]                                \n",
            "                                                                                                  \n",
            " tf.__operators__.add_177 (TFOp  (None, 1)           0           ['tf.expand_dims_25[0][0]',      \n",
            " Lambda)                                                          'lambda_49[0][0]']              \n",
            "                                                                                                  \n",
            " concatenate_51 (Concatenate)   (None, 2)            0           ['tf.__operators__.add_175[0][0]'\n",
            "                                                                 , 'tf.__operators__.add_177[0][0]\n",
            "                                                                 ']                               \n",
            "                                                                                                  \n",
            "==================================================================================================\n",
            "Total params: 722\n",
            "Trainable params: 722\n",
            "Non-trainable params: 0\n",
            "__________________________________________________________________________________________________\n",
            "Restoring model weights from the end of the best epoch: 1056.\n",
            "Epoch 2056: early stopping\n"
          ]
        },
        {
          "output_type": "stream",
          "name": "stderr",
          "text": [
            "/tmp/ipykernel_3673974/1016735986.py:9: UserWarning: Attempt to set non-positive ylim on a log-scaled axis will be ignored.\n",
            "  plt.ylim((0, 10))\n"
          ]
        },
        {
          "output_type": "display_data",
          "data": {
            "text/plain": [
              "<Figure size 640x480 with 1 Axes>"
            ],
            "image/png": "[encoded data removed]"
          },
          "metadata": {}
        },
        {
          "output_type": "stream",
          "name": "stdout",
          "text": [
            "Val loss: 1.133312702178955\n",
            "Train loss: 0.8401697278022766\n",
            "Test loss: 4.44401216506958\n",
            "dO18 RMSE: 4.1899053785054035\n",
            "EXPECTED:\n",
            "    d18O_cel_mean  d18O_cel_variance\n",
            "0       24.042000           0.345970\n",
            "1       25.240000           0.035950\n",
            "2       25.782000           0.372220\n",
            "3       25.076000           0.230280\n",
            "4       25.966000           0.172480\n",
            "5       27.434000           0.501030\n",
            "6       28.156000           0.999030\n",
            "7       26.836000           0.120880\n",
            "8       28.180000           0.778250\n",
            "9       26.834000           0.094930\n",
            "10      26.644000           0.488430\n",
            "11      26.772000           0.373370\n",
            "12      27.684280           1.216389\n",
            "13      27.403235           0.892280\n",
            "14      24.777670           0.736571\n",
            "15      25.551850           0.312355\n",
            "16      25.115885           0.033519\n",
            "17      25.987815           5.280825\n",
            "18      24.132031           0.389042\n",
            "19      24.898000           0.236070\n",
            "20      23.944000           0.158130\n",
            "21      26.018000           0.964170\n",
            "\n",
            "PREDICTED:\n",
            "    d18O_cel_mean  d18O_cel_variance\n",
            "0       25.380455           3.068546\n",
            "1       25.380455           3.068546\n",
            "2       25.380455           3.068546\n",
            "3       25.380455           3.068546\n",
            "4       25.380455           3.068546\n",
            "5       21.008560           3.366832\n",
            "6       21.067062           3.364165\n",
            "7       21.067062           3.364165\n",
            "8       21.067062           3.364165\n",
            "9       21.067062           3.364165\n",
            "10      21.067062           3.364165\n",
            "11      21.067062           3.364165\n",
            "12      21.008560           3.366832\n",
            "13      21.067062           3.364165\n",
            "14      23.934954           3.302485\n",
            "15      22.905151           3.379938\n",
            "16      22.930801           3.374500\n",
            "17      22.811020           3.392226\n",
            "18      22.910528           3.377648\n",
            "19      25.380455           3.068546\n",
            "20      25.380455           3.068546\n",
            "21      25.380455           3.068546\n"
          ]
        },
        {
          "output_type": "stream",
          "name": "stderr",
          "text": [
            "2023-08-01 22:20:57.439759: I tensorflow/core/common_runtime/executor.cc:1197] [/device:CPU:0] (DEBUG INFO) Executor start aborting (this does not indicate an error and you can ignore this message): INVALID_ARGUMENT: You must feed a value for placeholder tensor 'Placeholder/_0' with dtype double and shape [22,14]\n",
            "\t [[{{node Placeholder/_0}}]]\n"
          ]
        }
      ]
    },
    {
      "cell_type": "markdown",
      "source": [
        "## 4) Grouped fixed, ablating other columns besides krigin"
      ],
      "metadata": {
        "id": "h1uuaygyDvXP"
      }
    },
    {
      "cell_type": "code",
      "source": [
        "grouped_fixed_fileset = {\n",
        "    'TRAIN' : os.path.join(FP_ROOT, 'amazon_sample_data/kriging_ensemble_experiment/uc_davis_train_fixed_grouped.csv'),\n",
        "    'TEST' : os.path.join(FP_ROOT, 'amazon_sample_data/kriging_ensemble_experiment/uc_davis_test_fixed_grouped.csv'),\n",
        "    'VALIDATION' : os.path.join(FP_ROOT, 'amazon_sample_data/kriging_ensemble_experiment/uc_davis_validation_fixed_grouped.csv'),\n",
        "}\n",
        "\n",
        "\n",
        "columns_to_keep = ['d18O_cel_mean', 'd18O_cel_variance',\n",
        "                   'lat', 'long', 'VPD', 'RH', 'PET', 'DEM', 'PA',\n",
        "                   'Mean Annual Temperature','Mean Annual Precipitation',\n",
        "                   'ordinary_kriging_linear_d18O_predicted_variance',\n",
        "                   'ordinary_kriging_linear_d18O_predicted_mean']\n",
        "\n",
        "data = load_and_scale(grouped_fixed_fileset, columns_to_keep)\n",
        "model = train_and_evaluate(data, \"grouped_fixed_ablated\", training_batch_size=3)"
      ],
      "metadata": {
        "id": "WQ60MVzlD5DJ",
        "outputId": "a962f398-b406-49b0-9523-b7a1bed7f4c0",
        "colab": {
          "base_uri": "https://localhost:8080/",
          "height": 1000
        }
      },
      "execution_count": 153,
      "outputs": [
        {
          "output_type": "stream",
          "name": "stdout",
          "text": [
            "==================\n",
            "grouped_fixed_ablated\n",
            "Model: \"model_52\"\n",
            "__________________________________________________________________________________________________\n",
            " Layer (type)                   Output Shape         Param #     Connected to                     \n",
            "==================================================================================================\n",
            " input_57 (InputLayer)          [(None, 11)]         0           []                               \n",
            "                                                                                                  \n",
            " tf.__operators__.getitem_126 (  (None, 9)           0           ['input_57[0][0]']               \n",
            " SlicingOpLambda)                                                                                 \n",
            "                                                                                                  \n",
            " dense_104 (Dense)              (None, 20)           200         ['tf.__operators__.getitem_126[0]\n",
            "                                                                 [0]']                            \n",
            "                                                                                                  \n",
            " dense_105 (Dense)              (None, 20)           420         ['dense_104[0][0]']              \n",
            "                                                                                                  \n",
            " var_output (Dense)             (None, 1)            21          ['dense_105[0][0]']              \n",
            "                                                                                                  \n",
            " mean_output (Dense)            (None, 1)            21          ['dense_105[0][0]']              \n",
            "                                                                                                  \n",
            " tf.math.multiply_105 (TFOpLamb  (None, 1)           0           ['var_output[0][0]']             \n",
            " da)                                                                                              \n",
            "                                                                                                  \n",
            " tf.__operators__.getitem_124 (  (None,)             0           ['input_57[0][0]']               \n",
            " SlicingOpLambda)                                                                                 \n",
            "                                                                                                  \n",
            " tf.math.multiply_104 (TFOpLamb  (None, 1)           0           ['mean_output[0][0]']            \n",
            " da)                                                                                              \n",
            "                                                                                                  \n",
            " tf.__operators__.getitem_125 (  (None,)             0           ['input_57[0][0]']               \n",
            " SlicingOpLambda)                                                                                 \n",
            "                                                                                                  \n",
            " tf.__operators__.add_180 (TFOp  (None, 1)           0           ['tf.math.multiply_105[0][0]']   \n",
            " Lambda)                                                                                          \n",
            "                                                                                                  \n",
            " tf.expand_dims_26 (TFOpLambda)  (None, 1)           0           ['tf.__operators__.getitem_124[0]\n",
            "                                                                 [0]']                            \n",
            "                                                                                                  \n",
            " tf.__operators__.add_178 (TFOp  (None, 1)           0           ['tf.math.multiply_104[0][0]']   \n",
            " Lambda)                                                                                          \n",
            "                                                                                                  \n",
            " tf.expand_dims_27 (TFOpLambda)  (None, 1)           0           ['tf.__operators__.getitem_125[0]\n",
            "                                                                 [0]']                            \n",
            "                                                                                                  \n",
            " lambda_50 (Lambda)             (None, 1)            0           ['tf.__operators__.add_180[0][0]'\n",
            "                                                                 ]                                \n",
            "                                                                                                  \n",
            " tf.__operators__.add_179 (TFOp  (None, 1)           0           ['tf.expand_dims_26[0][0]',      \n",
            " Lambda)                                                          'tf.__operators__.add_178[0][0]'\n",
            "                                                                 ]                                \n",
            "                                                                                                  \n",
            " tf.__operators__.add_181 (TFOp  (None, 1)           0           ['tf.expand_dims_27[0][0]',      \n",
            " Lambda)                                                          'lambda_50[0][0]']              \n",
            "                                                                                                  \n",
            " concatenate_52 (Concatenate)   (None, 2)            0           ['tf.__operators__.add_179[0][0]'\n",
            "                                                                 , 'tf.__operators__.add_181[0][0]\n",
            "                                                                 ']                               \n",
            "                                                                                                  \n",
            "==================================================================================================\n",
            "Total params: 662\n",
            "Trainable params: 662\n",
            "Non-trainable params: 0\n",
            "__________________________________________________________________________________________________\n",
            "Restoring model weights from the end of the best epoch: 3025.\n",
            "Epoch 4025: early stopping\n"
          ]
        },
        {
          "output_type": "stream",
          "name": "stderr",
          "text": [
            "/tmp/ipykernel_3673974/1016735986.py:9: UserWarning: Attempt to set non-positive ylim on a log-scaled axis will be ignored.\n",
            "  plt.ylim((0, 10))\n"
          ]
        },
        {
          "output_type": "display_data",
          "data": {
            "text/plain": [
              "<Figure size 640x480 with 1 Axes>"
            ],
            "image/png": "[encoded data removed]"
          },
          "metadata": {}
        },
        {
          "output_type": "stream",
          "name": "stdout",
          "text": [
            "Val loss: 6.73103666305542\n",
            "Train loss: 0.8037930130958557\n",
            "Test loss: 19.681373596191406\n",
            "dO18 RMSE: 7.362366926203444\n",
            "EXPECTED:\n",
            "    d18O_cel_mean  d18O_cel_variance\n",
            "0       24.042000           0.345970\n",
            "1       25.240000           0.035950\n",
            "2       25.782000           0.372220\n",
            "3       25.076000           0.230280\n",
            "4       25.966000           0.172480\n",
            "5       27.434000           0.501030\n",
            "6       28.156000           0.999030\n",
            "7       26.836000           0.120880\n",
            "8       28.180000           0.778250\n",
            "9       26.834000           0.094930\n",
            "10      26.644000           0.488430\n",
            "11      26.772000           0.373370\n",
            "12      27.684280           1.216389\n",
            "13      27.403235           0.892280\n",
            "14      24.777670           0.736571\n",
            "15      25.551850           0.312355\n",
            "16      25.115885           0.033519\n",
            "17      25.987815           5.280825\n",
            "18      24.132031           0.389042\n",
            "19      24.898000           0.236070\n",
            "20      23.944000           0.158130\n",
            "21      26.018000           0.964170\n",
            "\n",
            "PREDICTED:\n",
            "    d18O_cel_mean  d18O_cel_variance\n",
            "0       33.559029           1.854698\n",
            "1       33.559029           1.854698\n",
            "2       33.559029           1.854698\n",
            "3       33.559029           1.854698\n",
            "4       33.559029           1.854698\n",
            "5       28.666233           2.020664\n",
            "6       29.298073           2.026066\n",
            "7       29.298073           2.026066\n",
            "8       29.298073           2.026066\n",
            "9       29.298073           2.026066\n",
            "10      29.298073           2.026066\n",
            "11      29.298073           2.026066\n",
            "12      28.666233           2.020664\n",
            "13      29.298073           2.026066\n",
            "14      37.236214           1.750267\n",
            "15      35.552994           1.771863\n",
            "16      35.551338           1.773102\n",
            "17      35.455872           1.769845\n",
            "18      35.547958           1.772609\n",
            "19      33.559029           1.854697\n",
            "20      33.559029           1.854697\n",
            "21      33.559029           1.854697\n"
          ]
        },
        {
          "output_type": "stream",
          "name": "stderr",
          "text": [
            "2023-08-01 22:24:26.463319: I tensorflow/core/common_runtime/executor.cc:1197] [/device:CPU:0] (DEBUG INFO) Executor start aborting (this does not indicate an error and you can ignore this message): INVALID_ARGUMENT: You must feed a value for placeholder tensor 'Placeholder/_0' with dtype double and shape [22,11]\n",
            "\t [[{{node Placeholder/_0}}]]\n"
          ]
        }
      ]
    }
  ],
  "metadata": {
    "language_info": {
      "name": "python"
    },
    "orig_nbformat": 4,
    "colab": {
      "provenance": [],
      "include_colab_link": true
    },
    "kernelspec": {
      "name": "python3",
      "display_name": "Python 3"
    }
  },
  "nbformat": 4,
  "nbformat_minor": 0
}