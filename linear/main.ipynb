{
  "nbformat": 4,
  "nbformat_minor": 0,
  "metadata": {
    "colab": {
      "provenance": [],
      "collapsed_sections": [
        "aDYZusc-44lj",
        "X01rK-2TKbz7",
        "9kFOPRU6KrnL"
      ]
    },
    "kernelspec": {
      "name": "python3",
      "display_name": "Python 3"
    },
    "language_info": {
      "name": "python"
    }
  },
  "cells": [
    {
      "cell_type": "markdown",
      "source": [
        "# ***Upload de dados tif para o GEE.***\n",
        "\n",
        "Vamos utlizar as assets do GEE para armazenar as informações e realizar análises.\n",
        "\n",
        "* upload via asset\n",
        "* criar pilha de dados\n",
        "* Extrair valores por pixel\n",
        "* Export CSV\n"
      ],
      "metadata": {
        "id": "Z3HFKVYCPbtI"
      }
    },
    {
      "cell_type": "code",
      "execution_count": null,
      "metadata": {
        "id": "lyjnw3pUPUTy"
      },
      "outputs": [],
      "source": [
        "##Instalando bibliotecas\n",
        "!pip install earthengine-api geemap geopandas geobr rtree pyproj rasterio contextily descartes -q"
      ]
    },
    {
      "cell_type": "code",
      "source": [
        "##Importando pacotes\n",
        "import rasterio as rio\n",
        "from rasterio.transform import Affine\n",
        "import rasterio.mask\n",
        "from rasterio.plot import show\n",
        "from rasterio.transform import Affine\n",
        "import contextily as cx\n",
        "import pandas as pd\n",
        "import geopandas as gpd\n",
        "import matplotlib.pyplot as plt\n",
        "import numpy as np\n",
        "import geemap\n",
        "import ee\n",
        "import json\n",
        "import seaborn as sns"
      ],
      "metadata": {
        "id": "aERBY9YeP7__"
      },
      "execution_count": null,
      "outputs": []
    },
    {
      "cell_type": "markdown",
      "source": [
        "# **Extrair os pontos a partir do ReduceRegion**"
      ],
      "metadata": {
        "id": "BXsHx2n7gqdI"
      }
    },
    {
      "cell_type": "code",
      "source": [
        "##Autenticão GEE\n",
        "ee.Authenticate()\n",
        "ee.Initialize()"
      ],
      "metadata": {
        "id": "juvld2u7Qey3"
      },
      "execution_count": null,
      "outputs": []
    },
    {
      "cell_type": "code",
      "source": [
        "##Criando as variáveis a partir da pilha de imagens\n",
        "iso_oxi_stack = ee.Image('users/treinamento_GEE_00/TNC/Iso_Oxi_Stack').select(['b.*'],['Oxi_1','Oxi_2','Oxi_3','Oxi_4','Oxi_5','Oxi_6','Oxi_7','Oxi_8','Oxi_9','Oxi_10','Oxi_11','Oxi_12'])\n",
        "iso_oxi_stack_Terzer = ee.Image('users/treinamento_GEE_00/TNC/Iso_Oxi_Stack_mean_TERZER').select(['b.*'],['Oxi_Terzer_mean'])\n",
        "brisoscape_stack_ISORIX = ee.Image('users/treinamento_GEE_00/TNC/brisoscape_mean_ISORIX').select(['b.*'],['Briso_Isorix_mean'])\n",
        "predokrig_Isorg = ee.Image('users/treinamento_GEE_00/TNC/predkrig_br_lat_ISORG').select(['b.*'],['predokrig_Isorg'])\n",
        "r_rh_stack = ee.Image('users/treinamento_GEE_00/TNC/R_rh_Stack').select(['b.*'],['rh_1','rh_2','rh_3','rh_4','rh_5','rh_6','rh_7','rh_8','rh_9','rh_10','rh_11','rh_12'])\n",
        "r_vpd_stack = ee.Image('users/treinamento_GEE_00/TNC/R_vpd_Stack').select(['b.*'],['vpd_1','vpd_2','vpd_3','vpd_4','vpd_5','vpd_6','vpd_7','vpd_8','vpd_9','vpd_10','vpd_11','vpd_12'])\n",
        "temperatura_stack= ee.Image('users/treinamento_GEE_00/TNC/Temperatura_Stack').select(['b.*'], ['temp_1','temp_2','temp_3','temp_4','temp_5','temp_6','temp_7','temp_8','temp_9','temp_10','temp_11','temp_12'])\n",
        "iso_O_Cel = ee.Image('users/treinamento_GEE_00/TNC/iso_O_cel').select(['b.*'],['O_cel_1','O_cel_2','O_cel_3','O_cel_4','O_cel_5','O_cel_6','O_cel_7','O_cel_8','O_cel_9','O_cel_10','O_cel_11','O_cel_12'])\n",
        "ponto_amostrais = ee.FeatureCollection('users/treinamento_GEE_00/TNC/pontos_amostrais')\n",
        "amazonia_legal =  ee.FeatureCollection('users/scriptsremoteambgeo/Biomas_250mil').filter(ee.Filter.eq('Bioma','Amazônia'))"
      ],
      "metadata": {
        "id": "Nt8ULnQMVogS"
      },
      "execution_count": null,
      "outputs": []
    },
    {
      "cell_type": "code",
      "source": [
        "##Selecionando as médias\n",
        "iso_oxi_stack = ee.Image('users/treinamento_GEE_00/TNC/Iso_Oxi_Stack').reduce(ee.Reducer.mean()).rename('Oxi')\n",
        "r_rh_stack = ee.Image('users/treinamento_GEE_00/TNC/R_rh_Stack').reduce(ee.Reducer.mean()).rename('Rh')\n",
        "r_vpd_stack = ee.Image('users/treinamento_GEE_00/TNC/R_vpd_Stack').reduce(ee.Reducer.mean()).rename('Vpd')\n",
        "temperatura_stack= ee.Image('users/treinamento_GEE_00/TNC/Temperatura_Stack').reduce(ee.Reducer.mean()).rename('Temp')\n",
        "iso_O_Cel = ee.Image('users/treinamento_GEE_00/TNC/iso_O_cel').reduce(ee.Reducer.mean()).rename('O_Cel')\n",
        "iso_oxi_stack_Terzer = ee.Image('users/treinamento_GEE_00/TNC/Iso_Oxi_Stack_mean_TERZER').select(['b.*'],['Oxi_Terzer'])\n",
        "brisoscape_stack_ISORIX = ee.Image('users/treinamento_GEE_00/TNC/brisoscape_mean_ISORIX').select(['b.*'],['Briso_Isorix'])\n",
        "predokrig_Isorg = ee.Image('users/treinamento_GEE_00/TNC/predkrig_br_lat_ISORG').select(['b.*'],['predokrig_Isorg'])"
      ],
      "metadata": {
        "id": "JqXtMfx83jAV"
      },
      "execution_count": null,
      "outputs": []
    },
    {
      "cell_type": "code",
      "source": [
        "##Verificando classes\n",
        "ponto_amostrais.aggregate_array('ID')"
      ],
      "metadata": {
        "id": "y5xTHpVufQGa"
      },
      "execution_count": null,
      "outputs": []
    },
    {
      "cell_type": "code",
      "source": [
        "##Plotar análises\n",
        "Map = geemap.Map(location =[-6,-60], zoom=6)\n",
        "\n",
        "##Plotar pontos amostras\n",
        "Map.addLayer(ponto_amostrais, {'color':'red'}, 'Pontos')\n",
        "Map.addLayer(ee.Image().paint(amazonia_legal, 0, 2), {}, 'Amazonia Legal')\n",
        "Map"
      ],
      "metadata": {
        "id": "_KWcfD8rZtz3"
      },
      "execution_count": null,
      "outputs": []
    },
    {
      "cell_type": "code",
      "source": [
        "##Juntando as bases\n",
        "database = r_vpd_stack.addBands(temperatura_stack).addBands(r_rh_stack).addBands(iso_O_Cel).addBands(iso_oxi_stack).addBands(iso_oxi_stack_Terzer).addBands(brisoscape_stack_ISORIX).addBands(predokrig_Isorg).clip(amazonia_legal)\n",
        "bands = database.bandNames()\n",
        "print(bands.getInfo())"
      ],
      "metadata": {
        "id": "QvFI5KD5eZOq",
        "colab": {
          "base_uri": "https://localhost:8080/"
        },
        "outputId": "737c5270-e28b-4a0f-d54a-d533324915e4"
      },
      "execution_count": null,
      "outputs": [
        {
          "output_type": "stream",
          "name": "stdout",
          "text": [
            "['Vpd', 'Temp', 'Rh', 'O_Cel', 'Oxi', 'Oxi_Terzer', 'Briso_Isorix', 'predokrig_Isorg']\n"
          ]
        }
      ]
    },
    {
      "cell_type": "code",
      "source": [
        "##Redução e remoção dos valores por ponto\n",
        "##Função para converter informações da imagem em tabela\n",
        "serie_reduce = ee.Image(database).reduceRegions(**{\n",
        "    'collection':ponto_amostrais,\n",
        "    'reducer': ee.Reducer.mean(),\n",
        "    'scale': 4638.3 ##escala igual ao terraclimate##\n",
        "    })\n",
        "\n",
        "##Verificando os dados e as propriedades\n",
        "print('valores tabela',serie_reduce.limit(2).getInfo())\n",
        "print('propriedades',serie_reduce.propertyNames().getInfo())"
      ],
      "metadata": {
        "colab": {
          "base_uri": "https://localhost:8080/"
        },
        "id": "nY02wICX1QPW",
        "outputId": "2949aa5e-626e-4635-8e6b-bee6f987a983"
      },
      "execution_count": null,
      "outputs": [
        {
          "output_type": "stream",
          "name": "stdout",
          "text": [
            "valores tabela {'type': 'FeatureCollection', 'columns': {'Briso_Isorix': 'Float', 'O_Cel': 'Float', 'Oxi': 'Float', 'Oxi_Terzer': 'Float', 'Parceiros': 'String', 'Rh': 'Float', 'Temp': 'Float', 'Vpd': 'Float', 'amostras': 'String', 'codigo': 'String', 'data_col': 'String', 'estado': 'String', 'id': 'Long', 'lat': 'Float', 'localizaca': 'String', 'long': 'Float', 'n_cient': 'String', 'n_popular': 'String', 'predokrig_Isorg': 'Float', 'system:index': 'String'}, 'features': [{'type': 'Feature', 'geometry': {'type': 'Point', 'coordinates': [-70.13404788520543, -8.631972409990691]}, 'id': '000000000000000000b5', 'properties': {'Briso_Isorix': -5.505652904510498, 'O_Cel': 36.58735656738281, 'Oxi': -4.732549667358398, 'Oxi_Terzer': -4.732549667358398, 'Parceiros': 'artuso', 'Rh': 0.8164283633232117, 'Temp': 24.795833587646484, 'Vpd': 0.6075000166893005, 'amostras': '48011', 'codigo': 'MAD654', 'data_col': '09/2022', 'estado': 'acre', 'id': 17, 'lat': -8.631974519, 'localizaca': 'sena madureira', 'long': -70.13404604, 'n_cient': 'amburana spp', 'n_popular': 'cerejeira', 'predokrig_Isorg': -4.292449951171875}}, {'type': 'Feature', 'geometry': {'type': 'Point', 'coordinates': [-70.14946299754719, -8.640529424911986]}, 'id': '000000000000000000b6', 'properties': {'Briso_Isorix': -5.505652904510498, 'O_Cel': 36.58735656738281, 'Oxi': -4.732549667358398, 'Oxi_Terzer': -4.732549667358398, 'Parceiros': 'artuso', 'Rh': 0.8164283633232117, 'Temp': 24.795833587646484, 'Vpd': 0.6075000166893005, 'amostras': '46012', 'codigo': 'MAD655', 'data_col': '07/2022', 'estado': 'acre', 'id': 17, 'lat': -8.640529522, 'localizaca': 'sena madureira', 'long': -70.14946298, 'n_cient': 'Cedrela fissilis', 'n_popular': 'cedro rosa', 'predokrig_Isorg': -4.292449951171875}}]}\n",
            "propriedades []\n"
          ]
        }
      ]
    },
    {
      "cell_type": "code",
      "source": [
        "##numero de propriedades\n",
        "n_property = serie_reduce.first().propertyNames().size().getInfo()\n",
        "##variáveis\n",
        "head_list = ee.List(serie_reduce.first().propertyNames().getInfo())\n",
        "##Converte value object to list\n",
        "head_list =list(head_list.getInfo())\n",
        "head_list"
      ],
      "metadata": {
        "id": "gc1Et4ve2md1",
        "colab": {
          "base_uri": "https://localhost:8080/"
        },
        "outputId": "5fca5111-f669-405c-cc52-e72fa04724fa"
      },
      "execution_count": null,
      "outputs": [
        {
          "output_type": "execute_result",
          "data": {
            "text/plain": [
              "['Vpd',\n",
              " 'Temp',\n",
              " 'Rh',\n",
              " 'O_Cel',\n",
              " 'Oxi',\n",
              " 'Oxi_Terzer',\n",
              " 'Briso_Isorix',\n",
              " 'predokrig_Isorg',\n",
              " 'codigo',\n",
              " 'estado',\n",
              " 'n_popular',\n",
              " 'localizaca',\n",
              " 'n_cient',\n",
              " 'Parceiros',\n",
              " 'id',\n",
              " 'data_col',\n",
              " 'amostras',\n",
              " 'long',\n",
              " 'lat',\n",
              " 'system:index']"
            ]
          },
          "metadata": {},
          "execution_count": 18
        }
      ]
    },
    {
      "cell_type": "code",
      "source": [
        "##Estabelecendo a lista dos dados\n",
        "list_to_df = serie_reduce.reduceColumns(ee.Reducer.toList(n_property),head_list ).values().get(0)"
      ],
      "metadata": {
        "id": "4oU7qpii2wwN"
      },
      "execution_count": null,
      "outputs": []
    },
    {
      "cell_type": "code",
      "source": [
        "# criar o df\n",
        "df_Iso_O_Cel = pd.DataFrame(list_to_df.getInfo(), columns=head_list)\n",
        "df_Iso_O_Cel=df_Iso_O_Cel.drop(columns=['codigo', 'estado', 'n_popular', 'localizaca',\n",
        "       'n_cient', 'Parceiros','data_col', 'amostras','system:index','id'])\n",
        "df_Iso_O_Cel.head()"
      ],
      "metadata": {
        "colab": {
          "base_uri": "https://localhost:8080/",
          "height": 206
        },
        "id": "9cChgGFv2zkd",
        "outputId": "37efcb6d-7c2d-4b3b-dc66-066116879e36"
      },
      "execution_count": null,
      "outputs": [
        {
          "output_type": "execute_result",
          "data": {
            "text/plain": [
              "      Vpd       Temp        Rh      O_Cel      Oxi  Oxi_Terzer  Briso_Isorix  \\\n",
              "0  0.6075  24.795834  0.816428  36.587357 -4.73255    -4.73255     -5.505653   \n",
              "1  0.6075  24.795834  0.816428  36.587357 -4.73255    -4.73255     -5.505653   \n",
              "2  0.6075  24.795834  0.816428  36.587357 -4.73255    -4.73255     -5.505653   \n",
              "3  0.6075  24.795834  0.816428  36.587357 -4.73255    -4.73255     -5.505653   \n",
              "4  0.6075  24.795834  0.816428  36.587357 -4.73255    -4.73255     -5.505653   \n",
              "\n",
              "   predokrig_Isorg       long       lat  \n",
              "0         -4.29245 -70.134046 -8.631975  \n",
              "1         -4.29245 -70.149463 -8.640530  \n",
              "2         -4.29245 -70.141265 -8.638492  \n",
              "3         -4.29245 -70.137018 -8.650524  \n",
              "4         -4.29245 -70.145742 -8.645668  "
            ],
            "text/html": [
              "\n",
              "  <div id=\"df-97839c73-78ce-4cae-85c0-e31df58496f7\">\n",
              "    <div class=\"colab-df-container\">\n",
              "      <div>\n",
              "<style scoped>\n",
              "    .dataframe tbody tr th:only-of-type {\n",
              "        vertical-align: middle;\n",
              "    }\n",
              "\n",
              "    .dataframe tbody tr th {\n",
              "        vertical-align: top;\n",
              "    }\n",
              "\n",
              "    .dataframe thead th {\n",
              "        text-align: right;\n",
              "    }\n",
              "</style>\n",
              "<table border=\"1\" class=\"dataframe\">\n",
              "  <thead>\n",
              "    <tr style=\"text-align: right;\">\n",
              "      <th></th>\n",
              "      <th>Vpd</th>\n",
              "      <th>Temp</th>\n",
              "      <th>Rh</th>\n",
              "      <th>O_Cel</th>\n",
              "      <th>Oxi</th>\n",
              "      <th>Oxi_Terzer</th>\n",
              "      <th>Briso_Isorix</th>\n",
              "      <th>predokrig_Isorg</th>\n",
              "      <th>long</th>\n",
              "      <th>lat</th>\n",
              "    </tr>\n",
              "  </thead>\n",
              "  <tbody>\n",
              "    <tr>\n",
              "      <th>0</th>\n",
              "      <td>0.6075</td>\n",
              "      <td>24.795834</td>\n",
              "      <td>0.816428</td>\n",
              "      <td>36.587357</td>\n",
              "      <td>-4.73255</td>\n",
              "      <td>-4.73255</td>\n",
              "      <td>-5.505653</td>\n",
              "      <td>-4.29245</td>\n",
              "      <td>-70.134046</td>\n",
              "      <td>-8.631975</td>\n",
              "    </tr>\n",
              "    <tr>\n",
              "      <th>1</th>\n",
              "      <td>0.6075</td>\n",
              "      <td>24.795834</td>\n",
              "      <td>0.816428</td>\n",
              "      <td>36.587357</td>\n",
              "      <td>-4.73255</td>\n",
              "      <td>-4.73255</td>\n",
              "      <td>-5.505653</td>\n",
              "      <td>-4.29245</td>\n",
              "      <td>-70.149463</td>\n",
              "      <td>-8.640530</td>\n",
              "    </tr>\n",
              "    <tr>\n",
              "      <th>2</th>\n",
              "      <td>0.6075</td>\n",
              "      <td>24.795834</td>\n",
              "      <td>0.816428</td>\n",
              "      <td>36.587357</td>\n",
              "      <td>-4.73255</td>\n",
              "      <td>-4.73255</td>\n",
              "      <td>-5.505653</td>\n",
              "      <td>-4.29245</td>\n",
              "      <td>-70.141265</td>\n",
              "      <td>-8.638492</td>\n",
              "    </tr>\n",
              "    <tr>\n",
              "      <th>3</th>\n",
              "      <td>0.6075</td>\n",
              "      <td>24.795834</td>\n",
              "      <td>0.816428</td>\n",
              "      <td>36.587357</td>\n",
              "      <td>-4.73255</td>\n",
              "      <td>-4.73255</td>\n",
              "      <td>-5.505653</td>\n",
              "      <td>-4.29245</td>\n",
              "      <td>-70.137018</td>\n",
              "      <td>-8.650524</td>\n",
              "    </tr>\n",
              "    <tr>\n",
              "      <th>4</th>\n",
              "      <td>0.6075</td>\n",
              "      <td>24.795834</td>\n",
              "      <td>0.816428</td>\n",
              "      <td>36.587357</td>\n",
              "      <td>-4.73255</td>\n",
              "      <td>-4.73255</td>\n",
              "      <td>-5.505653</td>\n",
              "      <td>-4.29245</td>\n",
              "      <td>-70.145742</td>\n",
              "      <td>-8.645668</td>\n",
              "    </tr>\n",
              "  </tbody>\n",
              "</table>\n",
              "</div>\n",
              "      <button class=\"colab-df-convert\" onclick=\"convertToInteractive('df-97839c73-78ce-4cae-85c0-e31df58496f7')\"\n",
              "              title=\"Convert this dataframe to an interactive table.\"\n",
              "              style=\"display:none;\">\n",
              "        \n",
              "  <svg xmlns=\"http://www.w3.org/2000/svg\" height=\"24px\"viewBox=\"0 0 24 24\"\n",
              "       width=\"24px\">\n",
              "    <path d=\"M0 0h24v24H0V0z\" fill=\"none\"/>\n",
              "    <path d=\"M18.56 5.44l.94 2.06.94-2.06 2.06-.94-2.06-.94-.94-2.06-.94 2.06-2.06.94zm-11 1L8.5 8.5l.94-2.06 2.06-.94-2.06-.94L8.5 2.5l-.94 2.06-2.06.94zm10 10l.94 2.06.94-2.06 2.06-.94-2.06-.94-.94-2.06-.94 2.06-2.06.94z\"/><path d=\"M17.41 7.96l-1.37-1.37c-.4-.4-.92-.59-1.43-.59-.52 0-1.04.2-1.43.59L10.3 9.45l-7.72 7.72c-.78.78-.78 2.05 0 2.83L4 21.41c.39.39.9.59 1.41.59.51 0 1.02-.2 1.41-.59l7.78-7.78 2.81-2.81c.8-.78.8-2.07 0-2.86zM5.41 20L4 18.59l7.72-7.72 1.47 1.35L5.41 20z\"/>\n",
              "  </svg>\n",
              "      </button>\n",
              "      \n",
              "  <style>\n",
              "    .colab-df-container {\n",
              "      display:flex;\n",
              "      flex-wrap:wrap;\n",
              "      gap: 12px;\n",
              "    }\n",
              "\n",
              "    .colab-df-convert {\n",
              "      background-color: #E8F0FE;\n",
              "      border: none;\n",
              "      border-radius: 50%;\n",
              "      cursor: pointer;\n",
              "      display: none;\n",
              "      fill: #1967D2;\n",
              "      height: 32px;\n",
              "      padding: 0 0 0 0;\n",
              "      width: 32px;\n",
              "    }\n",
              "\n",
              "    .colab-df-convert:hover {\n",
              "      background-color: #E2EBFA;\n",
              "      box-shadow: 0px 1px 2px rgba(60, 64, 67, 0.3), 0px 1px 3px 1px rgba(60, 64, 67, 0.15);\n",
              "      fill: #174EA6;\n",
              "    }\n",
              "\n",
              "    [theme=dark] .colab-df-convert {\n",
              "      background-color: #3B4455;\n",
              "      fill: #D2E3FC;\n",
              "    }\n",
              "\n",
              "    [theme=dark] .colab-df-convert:hover {\n",
              "      background-color: #434B5C;\n",
              "      box-shadow: 0px 1px 3px 1px rgba(0, 0, 0, 0.15);\n",
              "      filter: drop-shadow(0px 1px 2px rgba(0, 0, 0, 0.3));\n",
              "      fill: #FFFFFF;\n",
              "    }\n",
              "  </style>\n",
              "\n",
              "      <script>\n",
              "        const buttonEl =\n",
              "          document.querySelector('#df-97839c73-78ce-4cae-85c0-e31df58496f7 button.colab-df-convert');\n",
              "        buttonEl.style.display =\n",
              "          google.colab.kernel.accessAllowed ? 'block' : 'none';\n",
              "\n",
              "        async function convertToInteractive(key) {\n",
              "          const element = document.querySelector('#df-97839c73-78ce-4cae-85c0-e31df58496f7');\n",
              "          const dataTable =\n",
              "            await google.colab.kernel.invokeFunction('convertToInteractive',\n",
              "                                                     [key], {});\n",
              "          if (!dataTable) return;\n",
              "\n",
              "          const docLinkHtml = 'Like what you see? Visit the ' +\n",
              "            '<a target=\"_blank\" href=https://colab.research.google.com/notebooks/data_table.ipynb>data table notebook</a>'\n",
              "            + ' to learn more about interactive tables.';\n",
              "          element.innerHTML = '';\n",
              "          dataTable['output_type'] = 'display_data';\n",
              "          await google.colab.output.renderOutput(dataTable, element);\n",
              "          const docLink = document.createElement('div');\n",
              "          docLink.innerHTML = docLinkHtml;\n",
              "          element.appendChild(docLink);\n",
              "        }\n",
              "      </script>\n",
              "    </div>\n",
              "  </div>\n",
              "  "
            ]
          },
          "metadata": {},
          "execution_count": 20
        }
      ]
    },
    {
      "cell_type": "code",
      "source": [
        "##Salvando dados\n",
        "df_Iso_O_Cel.to_csv('/content/drive/MyDrive/TNC/RESULTADOS PARCIAIS/Produto 2/df_Iso_O_Cel.csv')"
      ],
      "metadata": {
        "id": "09QkwMmc486q"
      },
      "execution_count": null,
      "outputs": []
    },
    {
      "cell_type": "markdown",
      "source": [
        "# ***Preparação das bases Dataframe e Geodataframe***"
      ],
      "metadata": {
        "id": "aDYZusc-44lj"
      }
    },
    {
      "cell_type": "code",
      "source": [
        "##importar shapely para criar geometria\n",
        "from shapely.geometry import Point"
      ],
      "metadata": {
        "id": "WZFo1-ukE7IA"
      },
      "execution_count": null,
      "outputs": []
    },
    {
      "cell_type": "code",
      "source": [
        "##Lendo o arquivo dataframe\n",
        "df_Iso_O_Cel = pd.read_csv('/content/drive/MyDrive/TNC/RESULTADOS PARCIAIS/Produto 2/df_Iso_O_Cel.csv')"
      ],
      "metadata": {
        "id": "POWt5ceF_7FT"
      },
      "execution_count": null,
      "outputs": []
    },
    {
      "cell_type": "code",
      "source": [
        "#Criando geometria\n",
        "df_Iso_O_Cel['geometry'] = df_Iso_O_Cel.apply(lambda row:Point(row['long'],row['lat']), axis=1)\n",
        "df_Iso_O_Cel.head()"
      ],
      "metadata": {
        "id": "t3udjZDjENdA",
        "colab": {
          "base_uri": "https://localhost:8080/",
          "height": 206
        },
        "outputId": "9c9eab7d-9795-40f6-8457-22cacf37cc5a"
      },
      "execution_count": null,
      "outputs": [
        {
          "output_type": "execute_result",
          "data": {
            "text/plain": [
              "   Unnamed: 0     Vpd       Temp        Rh      Oxi      O_Cel       long  \\\n",
              "0           0  0.6075  24.795834  0.816428 -4.73255  36.587357 -70.134046   \n",
              "1           1  0.6075  24.795834  0.816428 -4.73255  36.587357 -70.149463   \n",
              "2           2  0.6075  24.795834  0.816428 -4.73255  36.587357 -70.141265   \n",
              "3           3  0.6075  24.795834  0.816428 -4.73255  36.587357 -70.137018   \n",
              "4           4  0.6075  24.795834  0.816428 -4.73255  36.587357 -70.145742   \n",
              "\n",
              "        lat                           geometry  \n",
              "0 -8.631975  POINT (-70.13404604 -8.631974519)  \n",
              "1 -8.640530  POINT (-70.14946298 -8.640529522)  \n",
              "2 -8.638492    POINT (-70.141265 -8.638491519)  \n",
              "3 -8.650524    POINT (-70.137018 -8.650524488)  \n",
              "4 -8.645668  POINT (-70.14574198 -8.645667512)  "
            ],
            "text/html": [
              "\n",
              "  <div id=\"df-5dae17fc-302f-413c-96f2-bd4c1498da6e\">\n",
              "    <div class=\"colab-df-container\">\n",
              "      <div>\n",
              "<style scoped>\n",
              "    .dataframe tbody tr th:only-of-type {\n",
              "        vertical-align: middle;\n",
              "    }\n",
              "\n",
              "    .dataframe tbody tr th {\n",
              "        vertical-align: top;\n",
              "    }\n",
              "\n",
              "    .dataframe thead th {\n",
              "        text-align: right;\n",
              "    }\n",
              "</style>\n",
              "<table border=\"1\" class=\"dataframe\">\n",
              "  <thead>\n",
              "    <tr style=\"text-align: right;\">\n",
              "      <th></th>\n",
              "      <th>Unnamed: 0</th>\n",
              "      <th>Vpd</th>\n",
              "      <th>Temp</th>\n",
              "      <th>Rh</th>\n",
              "      <th>Oxi</th>\n",
              "      <th>O_Cel</th>\n",
              "      <th>long</th>\n",
              "      <th>lat</th>\n",
              "      <th>geometry</th>\n",
              "    </tr>\n",
              "  </thead>\n",
              "  <tbody>\n",
              "    <tr>\n",
              "      <th>0</th>\n",
              "      <td>0</td>\n",
              "      <td>0.6075</td>\n",
              "      <td>24.795834</td>\n",
              "      <td>0.816428</td>\n",
              "      <td>-4.73255</td>\n",
              "      <td>36.587357</td>\n",
              "      <td>-70.134046</td>\n",
              "      <td>-8.631975</td>\n",
              "      <td>POINT (-70.13404604 -8.631974519)</td>\n",
              "    </tr>\n",
              "    <tr>\n",
              "      <th>1</th>\n",
              "      <td>1</td>\n",
              "      <td>0.6075</td>\n",
              "      <td>24.795834</td>\n",
              "      <td>0.816428</td>\n",
              "      <td>-4.73255</td>\n",
              "      <td>36.587357</td>\n",
              "      <td>-70.149463</td>\n",
              "      <td>-8.640530</td>\n",
              "      <td>POINT (-70.14946298 -8.640529522)</td>\n",
              "    </tr>\n",
              "    <tr>\n",
              "      <th>2</th>\n",
              "      <td>2</td>\n",
              "      <td>0.6075</td>\n",
              "      <td>24.795834</td>\n",
              "      <td>0.816428</td>\n",
              "      <td>-4.73255</td>\n",
              "      <td>36.587357</td>\n",
              "      <td>-70.141265</td>\n",
              "      <td>-8.638492</td>\n",
              "      <td>POINT (-70.141265 -8.638491519)</td>\n",
              "    </tr>\n",
              "    <tr>\n",
              "      <th>3</th>\n",
              "      <td>3</td>\n",
              "      <td>0.6075</td>\n",
              "      <td>24.795834</td>\n",
              "      <td>0.816428</td>\n",
              "      <td>-4.73255</td>\n",
              "      <td>36.587357</td>\n",
              "      <td>-70.137018</td>\n",
              "      <td>-8.650524</td>\n",
              "      <td>POINT (-70.137018 -8.650524488)</td>\n",
              "    </tr>\n",
              "    <tr>\n",
              "      <th>4</th>\n",
              "      <td>4</td>\n",
              "      <td>0.6075</td>\n",
              "      <td>24.795834</td>\n",
              "      <td>0.816428</td>\n",
              "      <td>-4.73255</td>\n",
              "      <td>36.587357</td>\n",
              "      <td>-70.145742</td>\n",
              "      <td>-8.645668</td>\n",
              "      <td>POINT (-70.14574198 -8.645667512)</td>\n",
              "    </tr>\n",
              "  </tbody>\n",
              "</table>\n",
              "</div>\n",
              "      <button class=\"colab-df-convert\" onclick=\"convertToInteractive('df-5dae17fc-302f-413c-96f2-bd4c1498da6e')\"\n",
              "              title=\"Convert this dataframe to an interactive table.\"\n",
              "              style=\"display:none;\">\n",
              "        \n",
              "  <svg xmlns=\"http://www.w3.org/2000/svg\" height=\"24px\"viewBox=\"0 0 24 24\"\n",
              "       width=\"24px\">\n",
              "    <path d=\"M0 0h24v24H0V0z\" fill=\"none\"/>\n",
              "    <path d=\"M18.56 5.44l.94 2.06.94-2.06 2.06-.94-2.06-.94-.94-2.06-.94 2.06-2.06.94zm-11 1L8.5 8.5l.94-2.06 2.06-.94-2.06-.94L8.5 2.5l-.94 2.06-2.06.94zm10 10l.94 2.06.94-2.06 2.06-.94-2.06-.94-.94-2.06-.94 2.06-2.06.94z\"/><path d=\"M17.41 7.96l-1.37-1.37c-.4-.4-.92-.59-1.43-.59-.52 0-1.04.2-1.43.59L10.3 9.45l-7.72 7.72c-.78.78-.78 2.05 0 2.83L4 21.41c.39.39.9.59 1.41.59.51 0 1.02-.2 1.41-.59l7.78-7.78 2.81-2.81c.8-.78.8-2.07 0-2.86zM5.41 20L4 18.59l7.72-7.72 1.47 1.35L5.41 20z\"/>\n",
              "  </svg>\n",
              "      </button>\n",
              "      \n",
              "  <style>\n",
              "    .colab-df-container {\n",
              "      display:flex;\n",
              "      flex-wrap:wrap;\n",
              "      gap: 12px;\n",
              "    }\n",
              "\n",
              "    .colab-df-convert {\n",
              "      background-color: #E8F0FE;\n",
              "      border: none;\n",
              "      border-radius: 50%;\n",
              "      cursor: pointer;\n",
              "      display: none;\n",
              "      fill: #1967D2;\n",
              "      height: 32px;\n",
              "      padding: 0 0 0 0;\n",
              "      width: 32px;\n",
              "    }\n",
              "\n",
              "    .colab-df-convert:hover {\n",
              "      background-color: #E2EBFA;\n",
              "      box-shadow: 0px 1px 2px rgba(60, 64, 67, 0.3), 0px 1px 3px 1px rgba(60, 64, 67, 0.15);\n",
              "      fill: #174EA6;\n",
              "    }\n",
              "\n",
              "    [theme=dark] .colab-df-convert {\n",
              "      background-color: #3B4455;\n",
              "      fill: #D2E3FC;\n",
              "    }\n",
              "\n",
              "    [theme=dark] .colab-df-convert:hover {\n",
              "      background-color: #434B5C;\n",
              "      box-shadow: 0px 1px 3px 1px rgba(0, 0, 0, 0.15);\n",
              "      filter: drop-shadow(0px 1px 2px rgba(0, 0, 0, 0.3));\n",
              "      fill: #FFFFFF;\n",
              "    }\n",
              "  </style>\n",
              "\n",
              "      <script>\n",
              "        const buttonEl =\n",
              "          document.querySelector('#df-5dae17fc-302f-413c-96f2-bd4c1498da6e button.colab-df-convert');\n",
              "        buttonEl.style.display =\n",
              "          google.colab.kernel.accessAllowed ? 'block' : 'none';\n",
              "\n",
              "        async function convertToInteractive(key) {\n",
              "          const element = document.querySelector('#df-5dae17fc-302f-413c-96f2-bd4c1498da6e');\n",
              "          const dataTable =\n",
              "            await google.colab.kernel.invokeFunction('convertToInteractive',\n",
              "                                                     [key], {});\n",
              "          if (!dataTable) return;\n",
              "\n",
              "          const docLinkHtml = 'Like what you see? Visit the ' +\n",
              "            '<a target=\"_blank\" href=https://colab.research.google.com/notebooks/data_table.ipynb>data table notebook</a>'\n",
              "            + ' to learn more about interactive tables.';\n",
              "          element.innerHTML = '';\n",
              "          dataTable['output_type'] = 'display_data';\n",
              "          await google.colab.output.renderOutput(dataTable, element);\n",
              "          const docLink = document.createElement('div');\n",
              "          docLink.innerHTML = docLinkHtml;\n",
              "          element.appendChild(docLink);\n",
              "        }\n",
              "      </script>\n",
              "    </div>\n",
              "  </div>\n",
              "  "
            ]
          },
          "metadata": {},
          "execution_count": 16
        }
      ]
    },
    {
      "cell_type": "code",
      "source": [
        "# Remover colunas\n",
        "df_Iso_O_Cel=df_Iso_O_Cel.drop(columns=['Unnamed: 0'])\n",
        "df_Iso_O_Cel.head()"
      ],
      "metadata": {
        "colab": {
          "base_uri": "https://localhost:8080/",
          "height": 206
        },
        "id": "2QOVPNt7CyRa",
        "outputId": "6d56e905-5a87-4a83-ba2f-05fc46e72fc7"
      },
      "execution_count": null,
      "outputs": [
        {
          "output_type": "execute_result",
          "data": {
            "text/plain": [
              "      Vpd       Temp        Rh      Oxi      O_Cel       long       lat  \\\n",
              "0  0.6075  24.795834  0.816428 -4.73255  36.587357 -70.134046 -8.631975   \n",
              "1  0.6075  24.795834  0.816428 -4.73255  36.587357 -70.149463 -8.640530   \n",
              "2  0.6075  24.795834  0.816428 -4.73255  36.587357 -70.141265 -8.638492   \n",
              "3  0.6075  24.795834  0.816428 -4.73255  36.587357 -70.137018 -8.650524   \n",
              "4  0.6075  24.795834  0.816428 -4.73255  36.587357 -70.145742 -8.645668   \n",
              "\n",
              "                            geometry  \n",
              "0  POINT (-70.13404604 -8.631974519)  \n",
              "1  POINT (-70.14946298 -8.640529522)  \n",
              "2    POINT (-70.141265 -8.638491519)  \n",
              "3    POINT (-70.137018 -8.650524488)  \n",
              "4  POINT (-70.14574198 -8.645667512)  "
            ],
            "text/html": [
              "\n",
              "  <div id=\"df-1073d03c-1864-4217-8c6b-2935a4fa2599\">\n",
              "    <div class=\"colab-df-container\">\n",
              "      <div>\n",
              "<style scoped>\n",
              "    .dataframe tbody tr th:only-of-type {\n",
              "        vertical-align: middle;\n",
              "    }\n",
              "\n",
              "    .dataframe tbody tr th {\n",
              "        vertical-align: top;\n",
              "    }\n",
              "\n",
              "    .dataframe thead th {\n",
              "        text-align: right;\n",
              "    }\n",
              "</style>\n",
              "<table border=\"1\" class=\"dataframe\">\n",
              "  <thead>\n",
              "    <tr style=\"text-align: right;\">\n",
              "      <th></th>\n",
              "      <th>Vpd</th>\n",
              "      <th>Temp</th>\n",
              "      <th>Rh</th>\n",
              "      <th>Oxi</th>\n",
              "      <th>O_Cel</th>\n",
              "      <th>long</th>\n",
              "      <th>lat</th>\n",
              "      <th>geometry</th>\n",
              "    </tr>\n",
              "  </thead>\n",
              "  <tbody>\n",
              "    <tr>\n",
              "      <th>0</th>\n",
              "      <td>0.6075</td>\n",
              "      <td>24.795834</td>\n",
              "      <td>0.816428</td>\n",
              "      <td>-4.73255</td>\n",
              "      <td>36.587357</td>\n",
              "      <td>-70.134046</td>\n",
              "      <td>-8.631975</td>\n",
              "      <td>POINT (-70.13404604 -8.631974519)</td>\n",
              "    </tr>\n",
              "    <tr>\n",
              "      <th>1</th>\n",
              "      <td>0.6075</td>\n",
              "      <td>24.795834</td>\n",
              "      <td>0.816428</td>\n",
              "      <td>-4.73255</td>\n",
              "      <td>36.587357</td>\n",
              "      <td>-70.149463</td>\n",
              "      <td>-8.640530</td>\n",
              "      <td>POINT (-70.14946298 -8.640529522)</td>\n",
              "    </tr>\n",
              "    <tr>\n",
              "      <th>2</th>\n",
              "      <td>0.6075</td>\n",
              "      <td>24.795834</td>\n",
              "      <td>0.816428</td>\n",
              "      <td>-4.73255</td>\n",
              "      <td>36.587357</td>\n",
              "      <td>-70.141265</td>\n",
              "      <td>-8.638492</td>\n",
              "      <td>POINT (-70.141265 -8.638491519)</td>\n",
              "    </tr>\n",
              "    <tr>\n",
              "      <th>3</th>\n",
              "      <td>0.6075</td>\n",
              "      <td>24.795834</td>\n",
              "      <td>0.816428</td>\n",
              "      <td>-4.73255</td>\n",
              "      <td>36.587357</td>\n",
              "      <td>-70.137018</td>\n",
              "      <td>-8.650524</td>\n",
              "      <td>POINT (-70.137018 -8.650524488)</td>\n",
              "    </tr>\n",
              "    <tr>\n",
              "      <th>4</th>\n",
              "      <td>0.6075</td>\n",
              "      <td>24.795834</td>\n",
              "      <td>0.816428</td>\n",
              "      <td>-4.73255</td>\n",
              "      <td>36.587357</td>\n",
              "      <td>-70.145742</td>\n",
              "      <td>-8.645668</td>\n",
              "      <td>POINT (-70.14574198 -8.645667512)</td>\n",
              "    </tr>\n",
              "  </tbody>\n",
              "</table>\n",
              "</div>\n",
              "      <button class=\"colab-df-convert\" onclick=\"convertToInteractive('df-1073d03c-1864-4217-8c6b-2935a4fa2599')\"\n",
              "              title=\"Convert this dataframe to an interactive table.\"\n",
              "              style=\"display:none;\">\n",
              "        \n",
              "  <svg xmlns=\"http://www.w3.org/2000/svg\" height=\"24px\"viewBox=\"0 0 24 24\"\n",
              "       width=\"24px\">\n",
              "    <path d=\"M0 0h24v24H0V0z\" fill=\"none\"/>\n",
              "    <path d=\"M18.56 5.44l.94 2.06.94-2.06 2.06-.94-2.06-.94-.94-2.06-.94 2.06-2.06.94zm-11 1L8.5 8.5l.94-2.06 2.06-.94-2.06-.94L8.5 2.5l-.94 2.06-2.06.94zm10 10l.94 2.06.94-2.06 2.06-.94-2.06-.94-.94-2.06-.94 2.06-2.06.94z\"/><path d=\"M17.41 7.96l-1.37-1.37c-.4-.4-.92-.59-1.43-.59-.52 0-1.04.2-1.43.59L10.3 9.45l-7.72 7.72c-.78.78-.78 2.05 0 2.83L4 21.41c.39.39.9.59 1.41.59.51 0 1.02-.2 1.41-.59l7.78-7.78 2.81-2.81c.8-.78.8-2.07 0-2.86zM5.41 20L4 18.59l7.72-7.72 1.47 1.35L5.41 20z\"/>\n",
              "  </svg>\n",
              "      </button>\n",
              "      \n",
              "  <style>\n",
              "    .colab-df-container {\n",
              "      display:flex;\n",
              "      flex-wrap:wrap;\n",
              "      gap: 12px;\n",
              "    }\n",
              "\n",
              "    .colab-df-convert {\n",
              "      background-color: #E8F0FE;\n",
              "      border: none;\n",
              "      border-radius: 50%;\n",
              "      cursor: pointer;\n",
              "      display: none;\n",
              "      fill: #1967D2;\n",
              "      height: 32px;\n",
              "      padding: 0 0 0 0;\n",
              "      width: 32px;\n",
              "    }\n",
              "\n",
              "    .colab-df-convert:hover {\n",
              "      background-color: #E2EBFA;\n",
              "      box-shadow: 0px 1px 2px rgba(60, 64, 67, 0.3), 0px 1px 3px 1px rgba(60, 64, 67, 0.15);\n",
              "      fill: #174EA6;\n",
              "    }\n",
              "\n",
              "    [theme=dark] .colab-df-convert {\n",
              "      background-color: #3B4455;\n",
              "      fill: #D2E3FC;\n",
              "    }\n",
              "\n",
              "    [theme=dark] .colab-df-convert:hover {\n",
              "      background-color: #434B5C;\n",
              "      box-shadow: 0px 1px 3px 1px rgba(0, 0, 0, 0.15);\n",
              "      filter: drop-shadow(0px 1px 2px rgba(0, 0, 0, 0.3));\n",
              "      fill: #FFFFFF;\n",
              "    }\n",
              "  </style>\n",
              "\n",
              "      <script>\n",
              "        const buttonEl =\n",
              "          document.querySelector('#df-1073d03c-1864-4217-8c6b-2935a4fa2599 button.colab-df-convert');\n",
              "        buttonEl.style.display =\n",
              "          google.colab.kernel.accessAllowed ? 'block' : 'none';\n",
              "\n",
              "        async function convertToInteractive(key) {\n",
              "          const element = document.querySelector('#df-1073d03c-1864-4217-8c6b-2935a4fa2599');\n",
              "          const dataTable =\n",
              "            await google.colab.kernel.invokeFunction('convertToInteractive',\n",
              "                                                     [key], {});\n",
              "          if (!dataTable) return;\n",
              "\n",
              "          const docLinkHtml = 'Like what you see? Visit the ' +\n",
              "            '<a target=\"_blank\" href=https://colab.research.google.com/notebooks/data_table.ipynb>data table notebook</a>'\n",
              "            + ' to learn more about interactive tables.';\n",
              "          element.innerHTML = '';\n",
              "          dataTable['output_type'] = 'display_data';\n",
              "          await google.colab.output.renderOutput(dataTable, element);\n",
              "          const docLink = document.createElement('div');\n",
              "          docLink.innerHTML = docLinkHtml;\n",
              "          element.appendChild(docLink);\n",
              "        }\n",
              "      </script>\n",
              "    </div>\n",
              "  </div>\n",
              "  "
            ]
          },
          "metadata": {},
          "execution_count": 17
        }
      ]
    },
    {
      "cell_type": "code",
      "source": [
        "##Transformar para gdf extrair limites\n",
        "gdf = gpd.GeoDataFrame(df_Iso_O_Cel, geometry='geometry')\n",
        "gdf.total_bounds"
      ],
      "metadata": {
        "colab": {
          "base_uri": "https://localhost:8080/"
        },
        "id": "Njd1c21aFeXg",
        "outputId": "572af459-983d-449e-e00f-302fdd161b32"
      },
      "execution_count": null,
      "outputs": [
        {
          "output_type": "execute_result",
          "data": {
            "text/plain": [
              "array([-70.29106779, -13.230025  , -48.373225  ,  -0.12122989])"
            ]
          },
          "metadata": {},
          "execution_count": 18
        }
      ]
    },
    {
      "cell_type": "markdown",
      "source": [
        "#***Execute Kriging***"
      ],
      "metadata": {
        "id": "X01rK-2TKbz7"
      }
    },
    {
      "cell_type": "code",
      "source": [
        "##instalação da biblioteca pykrige\n",
        "!pip install pykrige -q"
      ],
      "metadata": {
        "id": "mLaPS4935-6C",
        "colab": {
          "base_uri": "https://localhost:8080/"
        },
        "outputId": "cba0c0a2-9aae-4b6a-df07-2125281e9a4c"
      },
      "execution_count": null,
      "outputs": [
        {
          "output_type": "stream",
          "name": "stdout",
          "text": [
            "\u001b[?25l     \u001b[90m━━━━━━━━━━━━━━━━━━━━━━━━━━━━━━━━━━━━━━━━\u001b[0m \u001b[32m0.0/869.4 KB\u001b[0m \u001b[31m?\u001b[0m eta \u001b[36m-:--:--\u001b[0m\r\u001b[2K     \u001b[91m━━━━━━━━━━━\u001b[0m\u001b[90m╺\u001b[0m\u001b[90m━━━━━━━━━━━━━━━━━━━━━━━━━━━\u001b[0m \u001b[32m256.0/869.4 KB\u001b[0m \u001b[31m7.5 MB/s\u001b[0m eta \u001b[36m0:00:01\u001b[0m\r\u001b[2K     \u001b[90m━━━━━━━━━━━━━━━━━━━━━━━━━━━━━━━━━━━━━━\u001b[0m \u001b[32m869.4/869.4 KB\u001b[0m \u001b[31m14.7 MB/s\u001b[0m eta \u001b[36m0:00:00\u001b[0m\n",
            "\u001b[?25h"
          ]
        }
      ]
    },
    {
      "cell_type": "markdown",
      "source": [
        "#**Execute Kriging**"
      ],
      "metadata": {
        "id": "9kFOPRU6KrnL"
      }
    },
    {
      "cell_type": "code",
      "source": [
        "##Importando bibliotecas\n",
        "import pykrige.kriging_tools as kt\n",
        "from pykrige.ok import OrdinaryKriging"
      ],
      "metadata": {
        "id": "dOAJx9-99Dgf"
      },
      "execution_count": null,
      "outputs": []
    },
    {
      "cell_type": "code",
      "source": [
        "##Função para converter resultado em arquivo raster\n",
        "def export_kde_raster(Z, XX, YY, min_x, max_x, min_y, max_y, proj, filename):\n",
        "    '''Export and save a kernel density raster.'''\n",
        "\n",
        "    # Get resolution\n",
        "    xres = (max_x - min_x) / len(XX)\n",
        "    yres = (max_y - min_y) / len(YY)\n",
        "\n",
        "    # Set transform\n",
        "    transform = Affine.translation(min_x - xres / 2, min_y - yres / 2) * Affine.scale(xres, yres)\n",
        "\n",
        "    # Export array as raster\n",
        "    with rasterio.open(\n",
        "            filename,\n",
        "            mode = \"w\",\n",
        "            driver = \"GTiff\",\n",
        "            height = Z.shape[0],\n",
        "            width = Z.shape[1],\n",
        "            count = 1,\n",
        "            dtype = Z.dtype,\n",
        "            crs = proj,\n",
        "            transform = transform,\n",
        "    ) as new_dataset:\n",
        "            new_dataset.write(Z, 1)"
      ],
      "metadata": {
        "id": "zj1EXhXFLhbL"
      },
      "execution_count": null,
      "outputs": []
    },
    {
      "cell_type": "code",
      "source": [
        "##Seleciondo variáveiz x, y e z\n",
        "x = df_Iso_O_Cel['long'].values.reshape(-1,1)\n",
        "y = df_Iso_O_Cel['lat'].values.reshape(-1,1)\n",
        "z = df_Iso_O_Cel['O_Cel'].values.reshape(-1,1)"
      ],
      "metadata": {
        "id": "29COkIXy9FiO"
      },
      "execution_count": null,
      "outputs": []
    },
    {
      "cell_type": "code",
      "source": [
        "##Abrindo e filtrando dados pelo bioma\n",
        "gdf_amazon = gpd.read_file('/content/drive/MyDrive/TNC/BASES/lm_bioma_250.shp')\n",
        "gdf_amazon = gdf_amazon[gdf_amazon.Bioma=='AmazÃ´nia']\n",
        "gdf_amazon"
      ],
      "metadata": {
        "colab": {
          "base_uri": "https://localhost:8080/",
          "height": 81
        },
        "id": "u-hoyrMXQiTw",
        "outputId": "4508fb33-947d-47b0-eda5-34d1c4d82627"
      },
      "execution_count": null,
      "outputs": [
        {
          "output_type": "execute_result",
          "data": {
            "text/plain": [
              "       Bioma  CD_Bioma                                           geometry\n",
              "0  AmazÃ´nia         1  MULTIPOLYGON (((-44.08515 -2.41669, -44.08560 ..."
            ],
            "text/html": [
              "\n",
              "  <div id=\"df-7121339a-f10f-4708-af66-1e02919d9cf2\">\n",
              "    <div class=\"colab-df-container\">\n",
              "      <div>\n",
              "<style scoped>\n",
              "    .dataframe tbody tr th:only-of-type {\n",
              "        vertical-align: middle;\n",
              "    }\n",
              "\n",
              "    .dataframe tbody tr th {\n",
              "        vertical-align: top;\n",
              "    }\n",
              "\n",
              "    .dataframe thead th {\n",
              "        text-align: right;\n",
              "    }\n",
              "</style>\n",
              "<table border=\"1\" class=\"dataframe\">\n",
              "  <thead>\n",
              "    <tr style=\"text-align: right;\">\n",
              "      <th></th>\n",
              "      <th>Bioma</th>\n",
              "      <th>CD_Bioma</th>\n",
              "      <th>geometry</th>\n",
              "    </tr>\n",
              "  </thead>\n",
              "  <tbody>\n",
              "    <tr>\n",
              "      <th>0</th>\n",
              "      <td>AmazÃ´nia</td>\n",
              "      <td>1</td>\n",
              "      <td>MULTIPOLYGON (((-44.08515 -2.41669, -44.08560 ...</td>\n",
              "    </tr>\n",
              "  </tbody>\n",
              "</table>\n",
              "</div>\n",
              "      <button class=\"colab-df-convert\" onclick=\"convertToInteractive('df-7121339a-f10f-4708-af66-1e02919d9cf2')\"\n",
              "              title=\"Convert this dataframe to an interactive table.\"\n",
              "              style=\"display:none;\">\n",
              "        \n",
              "  <svg xmlns=\"http://www.w3.org/2000/svg\" height=\"24px\"viewBox=\"0 0 24 24\"\n",
              "       width=\"24px\">\n",
              "    <path d=\"M0 0h24v24H0V0z\" fill=\"none\"/>\n",
              "    <path d=\"M18.56 5.44l.94 2.06.94-2.06 2.06-.94-2.06-.94-.94-2.06-.94 2.06-2.06.94zm-11 1L8.5 8.5l.94-2.06 2.06-.94-2.06-.94L8.5 2.5l-.94 2.06-2.06.94zm10 10l.94 2.06.94-2.06 2.06-.94-2.06-.94-.94-2.06-.94 2.06-2.06.94z\"/><path d=\"M17.41 7.96l-1.37-1.37c-.4-.4-.92-.59-1.43-.59-.52 0-1.04.2-1.43.59L10.3 9.45l-7.72 7.72c-.78.78-.78 2.05 0 2.83L4 21.41c.39.39.9.59 1.41.59.51 0 1.02-.2 1.41-.59l7.78-7.78 2.81-2.81c.8-.78.8-2.07 0-2.86zM5.41 20L4 18.59l7.72-7.72 1.47 1.35L5.41 20z\"/>\n",
              "  </svg>\n",
              "      </button>\n",
              "      \n",
              "  <style>\n",
              "    .colab-df-container {\n",
              "      display:flex;\n",
              "      flex-wrap:wrap;\n",
              "      gap: 12px;\n",
              "    }\n",
              "\n",
              "    .colab-df-convert {\n",
              "      background-color: #E8F0FE;\n",
              "      border: none;\n",
              "      border-radius: 50%;\n",
              "      cursor: pointer;\n",
              "      display: none;\n",
              "      fill: #1967D2;\n",
              "      height: 32px;\n",
              "      padding: 0 0 0 0;\n",
              "      width: 32px;\n",
              "    }\n",
              "\n",
              "    .colab-df-convert:hover {\n",
              "      background-color: #E2EBFA;\n",
              "      box-shadow: 0px 1px 2px rgba(60, 64, 67, 0.3), 0px 1px 3px 1px rgba(60, 64, 67, 0.15);\n",
              "      fill: #174EA6;\n",
              "    }\n",
              "\n",
              "    [theme=dark] .colab-df-convert {\n",
              "      background-color: #3B4455;\n",
              "      fill: #D2E3FC;\n",
              "    }\n",
              "\n",
              "    [theme=dark] .colab-df-convert:hover {\n",
              "      background-color: #434B5C;\n",
              "      box-shadow: 0px 1px 3px 1px rgba(0, 0, 0, 0.15);\n",
              "      filter: drop-shadow(0px 1px 2px rgba(0, 0, 0, 0.3));\n",
              "      fill: #FFFFFF;\n",
              "    }\n",
              "  </style>\n",
              "\n",
              "      <script>\n",
              "        const buttonEl =\n",
              "          document.querySelector('#df-7121339a-f10f-4708-af66-1e02919d9cf2 button.colab-df-convert');\n",
              "        buttonEl.style.display =\n",
              "          google.colab.kernel.accessAllowed ? 'block' : 'none';\n",
              "\n",
              "        async function convertToInteractive(key) {\n",
              "          const element = document.querySelector('#df-7121339a-f10f-4708-af66-1e02919d9cf2');\n",
              "          const dataTable =\n",
              "            await google.colab.kernel.invokeFunction('convertToInteractive',\n",
              "                                                     [key], {});\n",
              "          if (!dataTable) return;\n",
              "\n",
              "          const docLinkHtml = 'Like what you see? Visit the ' +\n",
              "            '<a target=\"_blank\" href=https://colab.research.google.com/notebooks/data_table.ipynb>data table notebook</a>'\n",
              "            + ' to learn more about interactive tables.';\n",
              "          element.innerHTML = '';\n",
              "          dataTable['output_type'] = 'display_data';\n",
              "          await google.colab.output.renderOutput(dataTable, element);\n",
              "          const docLink = document.createElement('div');\n",
              "          docLink.innerHTML = docLinkHtml;\n",
              "          element.appendChild(docLink);\n",
              "        }\n",
              "      </script>\n",
              "    </div>\n",
              "  </div>\n",
              "  "
            ]
          },
          "metadata": {},
          "execution_count": 23
        }
      ]
    },
    {
      "cell_type": "code",
      "source": [
        "##Extraindo limites do grid\n",
        "min_x, min_y, max_x, max_y = gdf_amazon.total_bounds"
      ],
      "metadata": {
        "id": "hX17ofRHDycJ"
      },
      "execution_count": null,
      "outputs": []
    },
    {
      "cell_type": "code",
      "source": [
        "##Retorne números uniformemente espaçados em um intervalo especificado.\n",
        "XX_pk_krig = np.linspace(min_x, max_x, 100)\n",
        "YY_pk_krig  = np.linspace(min_y, max_y, 100)"
      ],
      "metadata": {
        "id": "1uu0yFM0_Vpk"
      },
      "execution_count": null,
      "outputs": []
    },
    {
      "cell_type": "code",
      "source": [
        "##Aplicando a Krigagem ordinária\n",
        "OK = OrdinaryKriging(\n",
        "    x,\n",
        "    y,\n",
        "    z,\n",
        "    variogram_model=\"linear\",\n",
        "    verbose=False,\n",
        "    enable_plotting=True,\n",
        "    enable_statistics=True,\n",
        "    coordinates_type='euclidean',\n",
        ")"
      ],
      "metadata": {
        "colab": {
          "base_uri": "https://localhost:8080/",
          "height": 265
        },
        "id": "n5pqw4ym-yNt",
        "outputId": "2a73afc8-b838-4e33-d7f6-f8f18114f763"
      },
      "execution_count": null,
      "outputs": [
        {
          "output_type": "display_data",
          "data": {
            "text/plain": [
              "<Figure size 432x288 with 1 Axes>"
            ],
            "image/png": "[encoded data removed]"
          },
          "metadata": {
            "needs_background": "light"
          }
        }
      ]
    },
    {
      "cell_type": "code",
      "source": [
        "##Criando um grid a partir do valor de Z e Sigma²\n",
        "Z_pk_krig, sigma_squared_p_krig  = OK.execute(\"grid\", XX_pk_krig, YY_pk_krig)"
      ],
      "metadata": {
        "id": "WsrpoqXO-8c1"
      },
      "execution_count": null,
      "outputs": []
    },
    {
      "cell_type": "code",
      "source": [
        "##Projeção a ser aplicada no transforme\n",
        "proj = \"+proj=aea +lat_1=34 +lat_2=40.5 +lat_0=0 +lon_0=-120 +x_0=0 +y_0=-4000000 +ellps=GRS80 +datum=NAD83 +units=m +no_defs \""
      ],
      "metadata": {
        "id": "ZUOC_7dcMf9k"
      },
      "execution_count": null,
      "outputs": []
    },
    {
      "cell_type": "code",
      "source": [
        "##Exportando dado como raster\n",
        "export_kde_raster(Z = Z_pk_krig, XX = XX_pk_krig, YY = YY_pk_krig,\n",
        "                  min_x = min_x, max_x = max_x, min_y = min_y, max_y = max_y,\n",
        "                  proj = proj, filename = \"pk_kriging.tif\")"
      ],
      "metadata": {
        "id": "pphTmx7sLpuq"
      },
      "execution_count": null,
      "outputs": []
    },
    {
      "cell_type": "code",
      "source": [
        "# Open raster\n",
        "raster_pk = rasterio.open(\"/content/pk_kriging.tif\")"
      ],
      "metadata": {
        "id": "r56AzpnnM-Ca"
      },
      "execution_count": null,
      "outputs": []
    },
    {
      "cell_type": "code",
      "source": [
        "# Raster de máscara\n",
        "out_image_pk, out_transform_pk = rio.mask.mask(raster_pk, gdf_amazon.geometry.values, crop = True)"
      ],
      "metadata": {
        "id": "0repiLQBQJd_"
      },
      "execution_count": null,
      "outputs": []
    },
    {
      "cell_type": "code",
      "source": [
        "# Plot data\n",
        "fig, ax = plt.subplots(1, figsize = (10, 10))\n",
        "show(out_image_pk, ax = ax, transform = out_transform_pk, cmap = \"RdYlGn\")\n",
        "ax.plot(x, y, 'k.', markersize = 2, alpha = 0.5)\n",
        "gdf_amazon.plot(ax = ax, color = 'none', edgecolor = 'dimgray')\n",
        "plt.gca().invert_yaxis()\n",
        "\n",
        "# Set title\n",
        "ax.set_title('Interpolating using Kriging from PyKrige', fontdict = {'fontsize': '15', 'fontweight' : '3'})\n",
        "\n",
        "# Display plot\n",
        "plt.show()"
      ],
      "metadata": {
        "colab": {
          "base_uri": "https://localhost:8080/",
          "height": 466
        },
        "id": "okJW1FwdPDMg",
        "outputId": "a551f2e9-d9b0-447b-e0e9-ff8ecc04b184"
      },
      "execution_count": null,
      "outputs": [
        {
          "output_type": "display_data",
          "data": {
            "text/plain": [
              "<Figure size 720x720 with 1 Axes>"
            ],
            "image/png": "[encoded data removed]"
          },
          "metadata": {
            "needs_background": "light"
          }
        }
      ]
    },
    {
      "cell_type": "code",
      "source": [
        "kt.write_asc_grid(XX_pk_krig, YY_pk_krig, Z_pk_krig, filename=\"output.asc\",no_data=-999.0, style=1)\n",
        "plt.imshow(Z_pk_krig,cmap = \"RdYlGn\" )\n",
        "plt.show()"
      ],
      "metadata": {
        "colab": {
          "base_uri": "https://localhost:8080/",
          "height": 268
        },
        "id": "qb3J_VD5-90E",
        "outputId": "97590d21-01ad-4fc7-bb80-ecfa9037fc9a"
      },
      "execution_count": null,
      "outputs": [
        {
          "output_type": "display_data",
          "data": {
            "text/plain": [
              "<Figure size 432x288 with 1 Axes>"
            ],
            "image/png": "[encoded data removed]"
          },
          "metadata": {
            "needs_background": "light"
          }
        }
      ]
    }
  ]
}